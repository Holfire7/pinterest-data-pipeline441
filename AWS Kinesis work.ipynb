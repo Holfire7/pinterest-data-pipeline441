{
 "cells": [
  {
   "cell_type": "code",
   "execution_count": 0,
   "metadata": {
    "application/vnd.databricks.v1+cell": {
     "cellMetadata": {
      "byteLimit": 2048000,
      "rowLimit": 10000
     },
     "inputWidgets": {},
     "nuid": "5c44d048-aef1-4dbf-9d4b-418b1f6e869b",
     "showTitle": false,
     "tableResultSettingsMap": {},
     "title": ""
    }
   },
   "outputs": [],
   "source": [
    "from pyspark.sql.types import *\n",
    "from pyspark.sql.functions import *\n",
    "import urllib\n",
    "\n",
    "delta_path = \"dbfs:/user/hive/warehouse/authentication_credentials\"\n",
    "credentials_df = spark.read.format(\"delta\").load(delta_path)\n",
    "\n",
    "ACCESS_KEY = credentials_df.select('Access key ID').collect()[0]['Access key ID']\n",
    "SECRET_KEY = credentials_df.select('Secret access key').collect()[0]['Secret access key']\n",
    "\n",
    "ENCODED_SECRET_KEY = urllib.parse.quote(string=SECRET_KEY, safe=\"\")"
   ]
  },
  {
   "cell_type": "code",
   "execution_count": 0,
   "metadata": {
    "application/vnd.databricks.v1+cell": {
     "cellMetadata": {
      "byteLimit": 2048000,
      "implicitDf": true,
      "rowLimit": 10000
     },
     "inputWidgets": {},
     "nuid": "4f102ef9-4e6b-40eb-9b96-334ad6d40b33",
     "showTitle": false,
     "tableResultSettingsMap": {},
     "title": ""
    }
   },
   "outputs": [
    {
     "output_type": "display_data",
     "data": {
      "text/html": [
       "<style scoped>\n",
       "  .table-result-container {\n",
       "    max-height: 300px;\n",
       "    overflow: auto;\n",
       "  }\n",
       "  table, th, td {\n",
       "    border: 1px solid black;\n",
       "    border-collapse: collapse;\n",
       "  }\n",
       "  th, td {\n",
       "    padding: 5px;\n",
       "  }\n",
       "  th {\n",
       "    text-align: left;\n",
       "  }\n",
       "</style><div class='table-result-container'><table class='table-result'><thead style='background-color: white'><tr><th>key</th><th>value</th></tr></thead><tbody><tr><td>spark.databricks.kinesis.listShards.enabled</td><td>false</td></tr></tbody></table></div>"
      ]
     },
     "metadata": {
      "application/vnd.databricks.v1+output": {
       "addedWidgets": {},
       "aggData": [],
       "aggError": "",
       "aggOverflow": false,
       "aggSchema": [],
       "aggSeriesLimitReached": false,
       "aggType": "",
       "arguments": {},
       "columnCustomDisplayInfos": {},
       "data": [
        [
         "spark.databricks.kinesis.listShards.enabled",
         "false"
        ]
       ],
       "datasetInfos": [],
       "dbfsResultPath": null,
       "isJsonSchema": true,
       "metadata": {
        "dataframeName": "_sqldf",
        "executionCount": 79
       },
       "overflow": false,
       "plotOptions": {
        "customPlotOptions": {},
        "displayType": "table",
        "pivotAggregation": null,
        "pivotColumns": null,
        "xColumns": null,
        "yColumns": null
       },
       "removedWidgets": [],
       "schema": [
        {
         "metadata": "{}",
         "name": "key",
         "type": "\"string\""
        },
        {
         "metadata": "{}",
         "name": "value",
         "type": "\"string\""
        }
       ],
       "type": "table"
      }
     },
     "output_type": "display_data"
    }
   ],
   "source": [
    "%sql\n",
    "SET spark.databricks.delta.formatCheck.enabled=false;\n",
    "SET spark.databricks.kinesis.listShards.enabled=false"
   ]
  },
  {
   "cell_type": "code",
   "execution_count": 0,
   "metadata": {
    "application/vnd.databricks.v1+cell": {
     "cellMetadata": {
      "byteLimit": 2048000,
      "rowLimit": 10000
     },
     "inputWidgets": {},
     "nuid": "d23d5733-0b18-414f-8539-d8dd7fb80e3f",
     "showTitle": false,
     "tableResultSettingsMap": {},
     "title": ""
    }
   },
   "outputs": [
    {
     "output_type": "display_data",
     "data": {
      "text/html": [
       "<style scoped>\n",
       "  .table-result-container {\n",
       "    max-height: 300px;\n",
       "    overflow: auto;\n",
       "  }\n",
       "  table, th, td {\n",
       "    border: 1px solid black;\n",
       "    border-collapse: collapse;\n",
       "  }\n",
       "  th, td {\n",
       "    padding: 5px;\n",
       "  }\n",
       "  th {\n",
       "    text-align: left;\n",
       "  }\n",
       "</style><div class='table-result-container'><table class='table-result'><thead style='background-color: white'><tr><th>index</th><th>unique_id</th><th>title</th><th>description</th><th>poster_name</th><th>follower_count</th><th>tag_list</th><th>is_image_or_video</th><th>image_src</th><th>downloaded</th><th>save_location</th><th>category</th></tr></thead><tbody><tr><td>1704</td><td>5fbf9863-fb79-477c-a5b6-540c3020a55f</td><td>Christmas Trees From Pallet Wood | Holiday DIY</td><td>Christmas Trees From Pallet Wood | Holiday DIY: Deck the yard with some fun outdoor Christmas Trees! We made these merry and bright decorations from two old pallets we had lying… </td><td>Instructables</td><td>3M</td><td>Pallet Wood Christmas Tree,Wooden Christmas Crafts,Diy Christmas Tree,Christmas Projects,Holiday Crafts,Wooden Xmas Trees,Different Christmas Trees,Pallet Tree,Christmas Kitchen</td><td>image</td><td>https://i.pinimg.com/originals/64/7b/ca/647bca35169b7c144604116c64bcba8a.png</td><td>1</td><td>Local save in /data/christmas</td><td>christmas</td></tr><tr><td>2482</td><td>08604f20-fa17-4b9a-9949-781717eca6cd</td><td>FORNT PORCH CHRISTMAS DECORATING IDEAS</td><td>Christmas decorating ideas for porches. Beautiful holiday decor ideas for front porches both small and large. Outdoor decorations like sleds, lanterns, Christmas trees, wreaths,… </td><td>Life on Summerhill | Home, Holiday Decor & DIY Website</td><td>46k</td><td>Diy Christmas Decorations For Home,Farmhouse Christmas Decor,Christmas Home,Christmas Holidays,Christmas Front Porches,How To Decorate For Christmas,Christmas Porch Ideas,Christmas Decorating Ideas,Large Outdoor Christmas Decorations</td><td>video</td><td>https://i.pinimg.com/videos/thumbnails/originals/40/83/f5/4083f5b4971bf235f89a4784ab87271e.0000001.jpg</td><td>1</td><td>Local save in /data/christmas</td><td>christmas</td></tr><tr><td>8930</td><td>a2999c28-f7b2-4577-af87-49d21d6d8a18</td><td>135 Sunflower Tattoo Ideas - [Best Rated Designs in 2021]</td><td>We have put together the Ultimative Sunflower Tattoo Collection in 2020. Check out our highest rated handpicked Sunflower designs here!</td><td>Next Luxury</td><td>800k</td><td>Sunflower Tattoo Sleeve,Sunflower Tattoo Shoulder,Sunflower Tattoo Small,Sunflower Tattoos,Sunflower Tattoo Design,Shoulder Tattoo,Sunflower Mandala Tattoo,Sunflower Tattoo Meaning,Form Tattoo</td><td>image</td><td>https://i.pinimg.com/originals/18/de/6c/18de6c81a8637e224c7d63dce1414ceb.jpg</td><td>1</td><td>Local save in /data/tattoos</td><td>tattoos</td></tr><tr><td>7294</td><td>9d8409ef-bea7-4133-a021-c58b9c042210</td><td>Foolproof Fall Fashion For Men You'll Love</td><td>Looking for the coolest fall fashion for men this season? Click to read this article on fall fashion for men to look sharp on LLEGANCE.</td><td>LLEGANCE | Workwear Fashion Woman Advice For Driven Professionals</td><td>28k</td><td>Fashion 90s,Autumn Fashion,Fashion Ideas,Trendy Fashion,Fashion Photo,Fashion Outfits,Fashion Trends,Urban Fashion Men,Men's Casual Fashion</td><td>image</td><td>https://i.pinimg.com/originals/4c/bf/2d/4cbf2d6e04d2502612169220553f4cef.jpg</td><td>1</td><td>Local save in /data/mens-fashion</td><td>mens-fashion</td></tr><tr><td>808</td><td>23f67e42-db9f-4aae-8b82-cbec64ad9f4d</td><td>Chalk Pastel Hot Chocolate Art Project</td><td>Kids will use chalk pastels and black paper to create this bold and bright hot chocolate art project! Easy to follow tutorial included.</td><td>Projects with Kids</td><td>20k</td><td>Hot Chocolate Art,Chocolate Crafts,Art Activities For Kids,Preschool Art,Preschool Winter,Christmas Activities,Winter Art Projects,Clay Art Projects,Chalk Pastel Art</td><td>image</td><td>https://i.pinimg.com/originals/5a/d3/82/5ad38202cf8acb022cb8f46ce2a78ad6.jpg</td><td>1</td><td>Local save in /data/art</td><td>art</td></tr><tr><td>771</td><td>a5021766-a8aa-4dc7-9857-4da6b8e3dc1a</td><td>African Sunset Shadow Tracing Art - Taming Little Monsters</td><td>Use your mini world figures to create this beautiful African sunset. Your kids will love learning about shadows, angles and distortion in this fun art and STEM activity for kids.</td><td>Taming Little Monsters - Fun Activities for Kids</td><td>4k</td><td>African Art Projects,Cool Art Projects,Projects For Kids,African Art For Kids,African Crafts Kids,Art Club Projects,Art Education Projects,Tracing Art,African Sunset</td><td>image</td><td>https://i.pinimg.com/originals/e3/aa/35/e3aa350f8f104d0e59f26d7f17ea7461.png</td><td>1</td><td>Local save in /data/art</td><td>art</td></tr><tr><td>4076</td><td>3a52d364-7c04-47cb-a3e5-56d9e2b77528</td><td>Phonics Activities Your Kids Will Love - The Literacy Nest</td><td>Hi everyone! As a teacher using the Orton-Gillingham approach, I am constantly looking for phonics activities that my students will find fun and engaging. Using Orton-Gillingham… </td><td>The Literacy Nest</td><td>22k</td><td>Literacy Games,Kindergarten Activities,Literacy Centers,Fun Phonics Activities,Listening Activities,Vocabulary Games,Literacy Stations,Letter Activities,Montessori Activities</td><td>image</td><td>https://i.pinimg.com/originals/58/8e/38/588e380b19942a71a86a69d9c9973d25.png</td><td>1</td><td>Local save in /data/education</td><td>education</td></tr><tr><td>1545</td><td>0c629541-cc5b-4b61-bd3f-613346893258</td><td>Oil Cleansing Method: What it is and why you should do it.</td><td>The oil cleansing method is a simple, natural way to have clean skin without using toxic chemicals. It will leave your face radiant and soft!</td><td>Thank Your Body</td><td>85k</td><td>Beauty Care,Diy Beauty,Beauty Hacks,Beauty Shop,Oil Cleansing Method,Goji,Korean Skincare Routine,Homemade Beauty Products,Organic Beauty</td><td>image</td><td>https://i.pinimg.com/originals/2c/1c/da/2c1cda7da86ee711536bbacfe89c75c9.jpg</td><td>1</td><td>Local save in /data/beauty</td><td>beauty</td></tr><tr><td>2293</td><td>1fd7d4cc-54c1-4542-9c1f-449cb4c875f4</td><td>Over 40 of the BEST Homemade Christmas Ornament Ideas</td><td>Over 40 of the BEST Homemade Christmas Ornaments...these easy Holiday crafts are so fun to make for Kids and Adults! Lots of great class party ideas!</td><td>Kitchen Fun With My 3 Sons</td><td>245k</td><td>Diy Christmas Lights,Homemade Christmas Decorations,Christmas Crafts For Gifts,Mini Christmas Tree,Christmas Ornament Crafts,Homemade Christmas Gifts,Xmas Decorations,Simple Christmas,Handmade Christmas</td><td>image</td><td>https://i.pinimg.com/originals/d0/d3/a3/d0d3a31e87296224d5ba8896904b5b88.jpg</td><td>1</td><td>Local save in /data/christmas</td><td>christmas</td></tr><tr><td>10509</td><td>6a5f0e7e-1389-4e54-942f-4cb69f09f140</td><td>Flying Car</td><td>No description available Story format</td><td>TheSuperBOO!</td><td>89k</td><td>Electric Off Road Vehicle,Cool Illusions,Flying Vehicles,Wow Video,Art And Craft Videos,Top Luxury Cars,Chevy Muscle Cars,Street Racing Cars,Funny Videos Clean</td><td>multi-video(story page format)</td><td>https://i.pinimg.com/videos/thumbnails/originals/4a/d4/96/4ad4961606179854f1141a90f50f002c.0000001.jpg</td><td>1</td><td>Local save in /data/vehicles</td><td>vehicles</td></tr><tr><td>2015</td><td>72359164-4419-452c-81cb-74f30a5a26b7</td><td>16 Blissful Christmas Table Decor Ideas That You Must See</td><td>Take a look at this new collection of Christmas decor featuring 16 Blissful Christmas Table Decor Ideas That You Must See. Happy holidays!</td><td>ArchitectureArtDesigns</td><td>616k</td><td>Kids Crafts,Christmas Crafts For Kids,Homemade Christmas,Christmas Projects,Holiday Crafts,Christmas Gift Ideas,Preschool Christmas,Tree Crafts,Christmas Inspiration</td><td>image</td><td>https://i.pinimg.com/originals/5f/70/30/5f7030a35bb8a1491e915fb0ae29bcf5.jpg</td><td>1</td><td>Local save in /data/christmas</td><td>christmas</td></tr><tr><td>1094</td><td>6deacdcd-75ed-4dd8-8951-9b77453f38e0</td><td>9 colors lazy lipstick - 9 colors lazy lipstick4</td><td>9 colors lazy lipstick</td><td>Jiew82633</td><td>8k</td><td>Nail Inspo,Lazy,Lipstick,How To Apply,Makeup,Colors,Products,Make Up,Lipsticks</td><td>image</td><td>https://i.pinimg.com/originals/25/cf/8c/25cf8cb74b43ab95591342c2bbe4ecd8.jpg</td><td>1</td><td>Local save in /data/beauty</td><td>beauty</td></tr><tr><td>603</td><td>78e21a64-53b0-4745-8294-e8c456f0ccc1</td><td>How to Create Alcohol Ink Rings For Gorgeous Pieces of Art -</td><td>Learn to create alcohol ink rings for gorgeous pieces of art. Each ring sits on top of another, giving a multilayered appearance</td><td>Kim Cook-Thirteen Chairs-Slates Mugs And Tees</td><td>7k</td><td>Alcohol Ink Tiles,Alcohol Ink Glass,Alcohol Ink Crafts,Alcohol Ink Painting,Pour Painting,Zealand Tattoo,Copics,Types Of Art,Art Techniques</td><td>image</td><td>https://i.pinimg.com/originals/03/03/1f/03031fdc9775d0c06f61d68e51362379.png</td><td>1</td><td>Local save in /data/art</td><td>art</td></tr><tr><td>7768</td><td>ae1a61f6-d958-40fe-ba93-6a78b3a73178</td><td>16 Motivational Quotes Get You Inspired Today - Boss Babe Chronicles</td><td>motivation quotes</td><td>Boss Babe Chronicles | Personal Development, Finances, Self Care</td><td>45k</td><td>Motivacional Quotes,Motivational Quotes For Life,Uplifting Quotes,True Quotes,Words Quotes,Empowering Quotes,Boss Up Quotes,Inspirational Success Quotes,Boss Babe Quotes Work Hard</td><td>image</td><td>https://i.pinimg.com/originals/ee/b4/bc/eeb4bccdb074edb787ea61711e0c4dfd.jpg</td><td>1</td><td>Local save in /data/quotes</td><td>quotes</td></tr><tr><td>5630</td><td>d41e703c-c97c-4c5a-9f9c-338982ca7504</td><td>7 Insanely Useful Money Management Worksheets</td><td>Get your personal finance in order with these 8 fr…</td><td>R.J. Weiss at The Ways To Wealth | Personal Finance | Debt Payoff</td><td>46k</td><td>Ways To Save Money,Money Tips,Money Saving Tips,Money Budget,Saving Ideas,Budgeting Finances,Budgeting Tips,Planning Budget,Budget Planer</td><td>image</td><td>https://i.pinimg.com/originals/f1/4f/cc/f14fcc75ee73ff22c983bdce70c022e2.jpg</td><td>1</td><td>Local save in /data/finance</td><td>finance</td></tr><tr><td>8578</td><td>036ec267-658b-4dad-a097-8ef0b4f30c0d</td><td>Snake Collarbone Temporary Tattoo. Halloween Tattoos  Spooky | Etsy</td><td>Snake temporary tattoo for collarbone. Spooky 3D tattoo for Halloween Includes 2 copies, 1 for the right side and 1 for the left side Apply with water and remove anytime with ba… </td><td>Livitrevisani</td><td>0</td><td>Finger Tattoo Designs,Small Tattoo Designs,Finger Tattoos,Small 3d Tattoos,Cool Tattoos,Line Work Tattoo,Back Tattoo,Collarbone Tattoo,Tattoo Neck</td><td>image</td><td>https://i.pinimg.com/originals/d8/b7/a1/d8b7a11a3fe64e7fab91d3afb1536537.jpg</td><td>1</td><td>Local save in /data/tattoos</td><td>tattoos</td></tr><tr><td>9936</td><td>1f3154a6-13f0-4049-8d5c-faea15b9f07c</td><td>Chasing Waterfalls in Costa Rica</td><td>Volcanoes, hikes, and hot springs in Costa Rica! The ultimate 5 day travel itinerary. - #costarica #travel #blogging #blog #bucketlist</td><td>Jess Wandering</td><td>22k</td><td>Costa Rica Reisen,Costa Rica Travel,Vacation Places,Dream Vacations,Vacation Spots,Vacation Food,Vacation Ideas,Voyage Dubai,Beautiful Places To Travel</td><td>image</td><td>https://i.pinimg.com/originals/60/fe/4c/60fe4c3602e8e50e2e9f787ed27d2aba.jpg</td><td>1</td><td>Local save in /data/travel</td><td>travel</td></tr><tr><td>6844</td><td>69c3f268-274f-44bd-9cb4-427e64fefc44</td><td>♔the-fashman♔</td><td>billy-george: “Summer styles ”</td><td>Au'vey Smith</td><td>377</td><td>Fashion Week Hommes,La Fashion Week,Fashion Moda,Urban Fashion,Trendy Fashion,Fashion Spring,Fashion 2017,New Mens Fashion,Trendy Clothing</td><td>image</td><td>https://i.pinimg.com/originals/3c/8c/53/3c8c534cd02334c50047bd3a4feccce9.jpg</td><td>1</td><td>Local save in /data/mens-fashion</td><td>mens-fashion</td></tr><tr><td>3419</td><td>d0b80187-0171-49b2-8ee4-572984244f65</td><td>Easy Christmas Tree Crafts Ideas for toddlers and preschoolers | Sharing Our Experiences</td><td>Easy Christmas tree Craft Ideas for toddlers and preschoolers. Engage your kids in these DIY</td><td>Kids Crafts & Free Preschool Printables- Sharing Our Experiences</td><td>3k</td><td>Christmas Crafts For Kids To Make,Christmas Tree Painting,Christmas Activities For Kids,Easy Christmas Crafts For Toddlers,Kid Activities,Christmas Handprint Crafts,Christmas Tree Crafts,Christmas Baby,Xmas Tree</td><td>image</td><td>https://i.pinimg.com/originals/69/f0/75/69f075939d4449dffa69519756c30e26.png</td><td>1</td><td>Local save in /data/diy-and-crafts</td><td>diy-and-crafts</td></tr><tr><td>1268</td><td>e2f2cec5-cda5-42b2-ab9d-6dddf863e94e</td><td>Janet on Twitter</td><td>Here’s how to get long-lasting makeup, so you can do your face in the morning and be set for the entire day. Follow these makeup tips for foundation, lipstick and more using pro… </td><td>Tony</td><td>3k</td><td>Beauty Makeup,Eye Makeup,Diy Beauty,Beauty Ideas,Beauty Skin,Homemade Beauty,Wolf Makeup,Oily Skin Makeup,Face Beauty</td><td>image</td><td>https://i.pinimg.com/originals/d9/d1/3b/d9d13b9ac47d54940f05a75345a873d4.jpg</td><td>1</td><td>Local save in /data/beauty</td><td>beauty</td></tr><tr><td>6566</td><td>6d8848f8-f515-4935-8dae-5dd02304d76e</td><td>Navy and Neutral Fall Living Room + Kitchen Tour - Sand and Sisal</td><td>Celebrate fall with a neutral color palette with natural elements. This Navy and Neutral Fall Living Room + Kitchen Tour will make you rethink fall decor.</td><td>Sand and Sisal</td><td>178k</td><td>Fall Living Room,Coastal Living Rooms,Living Room Paint,Living Room Kitchen,Living Room Interior,Living Room Furniture,Living Room Decor,Living Area,Small Living</td><td>image</td><td>https://i.pinimg.com/originals/f1/be/b6/f1beb6d3414f1c52929df39a83d8da9f.jpg</td><td>1</td><td>Local save in /data/home-decor</td><td>home-decor</td></tr><tr><td>1555</td><td>1f20551b-a21c-4ff0-b20d-49e95fdc50d3</td><td>Skin Purging: Die Pflegemethode für reine Haut | ELLE</td><td>Skin Purging sorgt für die reinste Haut, die du jemals hattest #skin äpurging #skinpurging #skincare #hautpflege #schönehaut #haut #beauty #tips</td><td>ELLE Germany</td><td>326k</td><td>Natural Hair Mask,Natural Hair Styles,Natural Beauty,Skin Tag,How To Apply Makeup,Pimples,Beauty Routines,Skincare Routine,Glowing Skin</td><td>image</td><td>https://i.pinimg.com/originals/93/b2/7b/93b27be044b2fd2f227f30a7f2c2faf2.jpg</td><td>1</td><td>Local save in /data/beauty</td><td>beauty</td></tr><tr><td>3729</td><td>ac90f1d2-dc9e-438c-b073-dd48511b80b0</td><td>5 + Nature Games for Your Homeschool</td><td>Our family would rather spend time outdoors than indoors. We love nature! That said, sometimes mother nature is uncooperative. On these days, it can be fun to pull out some natu… </td><td>My Little Poppies (Cait Curley, MA/CAGS)</td><td>9k</td><td>Diy Nature,Theme Nature,Nature Study,Science And Nature,Summer Science,Earth Science,Nature Crafts,Outdoor Education,Outdoor Learning</td><td>image</td><td>https://i.pinimg.com/originals/d6/3b/1a/d63b1a2a36534ecac5d1fbd0d932403a.jpg</td><td>1</td><td>Local save in /data/education</td><td>education</td></tr><tr><td>6398</td><td>ea44d318-2ced-4cf8-a66f-a6a036b84faa</td><td>My master bathroom makeover with @flooranddecor ! Follow me on Instagram @Mojisstyle for more</td><td>No description available Story format</td><td>MojisStyle</td><td>117k</td><td>Decor Home Living Room,Home And Living,Diy Bedroom Decor,Home Decor,Bathroom Interior Design,Interior Design Living Room,Dream Home Design,House Design,Beautiful Bathrooms</td><td>multi-video(story page format)</td><td>https://i.pinimg.com/videos/thumbnails/originals/75/48/3b/75483b74822855519ec8b40df4c670ef.0000001.jpg</td><td>1</td><td>Local save in /data/home-decor</td><td>home-decor</td></tr><tr><td>46</td><td>19234073-8905-4885-b0d5-98e0b84cbf27</td><td>10 Watercolor Hacks For Beginners | Tips and Tricks to Making Watercolor Painting Easier</td><td>Mountain monologue watercolor</td><td>It's me, JD | DIY, Crafts, Home & Organization</td><td>27k</td><td>Arte Inspo,Kunst Inspo,Watercolor Artists,Watercolor Ideas,Simple Watercolor,Tattoo Watercolor,Watercolor Techniques,Watercolor Animals,Watercolor Illustration</td><td>image</td><td>https://i.pinimg.com/originals/fd/54/89/fd548935dcb13545120a2115baaa41d9.jpg</td><td>1</td><td>Local save in /data/art</td><td>art</td></tr><tr><td>4988</td><td>fbdfd355-a356-46c2-a251-301869ae2674</td><td>Fun Book Page Crafts - MomAdvice</td><td>Fun Book Page Crafts - MomAdvice</td><td>MomAdvice</td><td>112k</td><td>Harry Potter Wedding,Harry Potter Theme,Wedding Book,Wedding Table,Wedding Ideas,Wedding Vintage,Garden Wedding,Vintage Party,Wedding Paper</td><td>image</td><td>https://i.pinimg.com/originals/17/55/87/175587b334e71c12300453b8b4b4c6aa.jpg</td><td>1</td><td>Local save in /data/event-planning</td><td>event-planning</td></tr><tr><td>427</td><td>4a455340-09a2-4370-ad86-73d7964603db</td><td>DIY Acrylic Paint Pouring Wall Art - Abbotts At Home</td><td>Easy to follow steps for this easy DIY wall art. Acrylic Paint Pouring with a blow dryer, Dutch paint pour. Written steps and full step by step video to help you do it too! 👍</td><td>Abbotts At Home</td><td>52k</td><td>Acrylic Pouring Art,Acrylic Wall Art,Acrylic Pouring Techniques,Acrylic Paintings,Art Paintings,Marble Art,Marble Painting,Pour Painting,Large Canvas Art</td><td>video</td><td>https://i.pinimg.com/videos/thumbnails/originals/d5/5e/fa/d55efa6ef50d35dac425cea935f39c89.0000001.jpg</td><td>1</td><td>Local save in /data/art</td><td>art</td></tr><tr><td>3800</td><td>d2c367ed-9287-4ea3-b173-198b292d9981</td><td>Reinforcing the Difficult Child When Token Boards Don't Work!</td><td>behavior, special education, token boards, when token boards don't work, money token systems</td><td>Traci Bender - The Bender Bunch</td><td>11k</td><td>Special Education Behavior,Classroom Behavior Management,Behavior Plans,Behaviour Management,Behavior Charts,Behavior Board,Behavior Report,Behavior Analyst,Preschool Special Education</td><td>image</td><td>https://i.pinimg.com/originals/24/f9/e2/24f9e22ada4a79c61432ef6c8fe1d0f9.jpg</td><td>1</td><td>Local save in /data/education</td><td>education</td></tr><tr><td>159</td><td>841a161a-47b8-4161-884d-adeb67a28b1e</td><td>Valentine's Day Bee Directed Drawing {Art Project}</td><td>This bee directed drawing and associated pages will help you create a fun and creative Valentine's Day Directed Drawing Art Project activity for your class.Choose to do a painti… </td><td>Teachers Pay Teachers</td><td>1M</td><td>Classroom Art Projects,School Art Projects,Art Classroom,Art Projects For Kindergarteners,Spring Art Projects,Classroom Posters,Valentines Art Lessons,Valentines Day Activities,Grade 1 Art</td><td>image</td><td>https://i.pinimg.com/originals/49/ff/2e/49ff2e83c0cefdd37213f6084c6f0566.jpg</td><td>1</td><td>Local save in /data/art</td><td>art</td></tr><tr><td>3599</td><td>ff0dd945-dafa-411c-8cef-eb43e374e815</td><td>Educational Leadership in Aotearoa New Zealand : Issues of Context and Social Justice</td><td>This book presents 10 inspirational case studies of how centre leaders, principals and leadership teams in high-needs New Zealand educational settings have enacted leadership to… </td><td>Walmart</td><td>2M</td><td>Research Studies,Educational Leadership,Education System,Secondary School,Try It Free,Book Format,Social Justice,Young People,Paperback Books</td><td>image</td><td>https://i.pinimg.com/originals/0e/ea/c4/0eeac457780bbe43fcc5e9eaabd80f62.jpg</td><td>1</td><td>Local save in /data/education</td><td>education</td></tr><tr><td>10552</td><td>17301b8c-ccbb-42ad-b2df-3876df35b1cd</td><td>The Prowler Emergency Response Vehicle</td><td>January 23, 2009 We can see emergency responders queueing up for this one. ATVCorp has created versions of its Prowler Light Tactical All Terrain Vehicle (LTATV) for fire-fighti… </td><td>p hump</td><td>314</td><td>Army Vehicles,Armored Vehicles,Go Kart Buggy,Atv Attachments,Aviation Fuel,Special Forces,Special Ops,Terrain Vehicle,Emergency Response</td><td>image</td><td>https://i.pinimg.com/originals/14/6b/6b/146b6b1a1127773f7046e08550e68ed0.jpg</td><td>1</td><td>Local save in /data/vehicles</td><td>vehicles</td></tr><tr><td>1422</td><td>7bbe860c-a739-4ba9-babd-feb24bb6e4d9</td><td>41 Life-Saving Beauty Hacks Every Girl Should Have In Her Arsenal</td><td>Might try this... I'm generally skeptical about at-home remedies, but I know baking soda and lemons both do wonders. More</td><td>BuzzFeed</td><td>5M</td><td>Baking Soda Lemon Juice,Diy Beauté,Tips Belleza,Belleza Natural,Health And Beauty Tips,Beauty Secrets,Beauty Advice,Diy Beauty Tips,Beauty Life Hacks</td><td>image</td><td>https://i.pinimg.com/originals/c8/ab/af/c8abaffc56050f674eef8e65ad684929.jpg</td><td>1</td><td>Local save in /data/beauty</td><td>beauty</td></tr><tr><td>5309</td><td>c38bb47b-9584-4fc4-af0d-a31e1061df41</td><td>How to Watch Your Favorite Shows Without Cable</td><td>How to Get Rid of Cable and Still Watch all of your favorite shows! Saving Money Tips for TV & Cable!</td><td>Passion For Savings</td><td>330k</td><td>Ways To Save Money,Money Tips,Money Saving Tips,Money Hacks,Managing Money,Cable Tv Alternatives,Budget Planer,Financial Tips,Financial Planning</td><td>image</td><td>https://i.pinimg.com/originals/c9/18/be/c918be2784382dc49010719bf1742a61.jpg</td><td>1</td><td>Local save in /data/finance</td><td>finance</td></tr><tr><td>552</td><td>b82602a9-e434-42cf-9481-22f3f41d82ce</td><td>The herbal bed: Katie Scott's psychedelic flora and fauna – in pictures</td><td>Nike trainers sprout plants and French perfumiers inspire by mysterious scientific icons in Katie Scott’s visions that take botanical illustration into the digital age</td><td>The Guardian</td><td>908k</td><td>Art And Illustration,Illustration Inspiration,Botanical Illustration,Vintage Illustrations,Botanical Drawings,Botanical Prints,Arte Inspo,Insect Art,Psychedelic</td><td>image</td><td>https://i.pinimg.com/originals/16/8a/fa/168afae02d5ffc71da10cdb312de2cb1.jpg</td><td>1</td><td>Local save in /data/art</td><td>art</td></tr><tr><td>1371</td><td>33e92ac1-73d1-4c31-9892-d5e633060790</td><td>How To Do Makeup - Step By Step Tips For The Perfect Look</td><td>What are the basic things you need for makeup? Let’s be honest, ladies; all women can do makeup, yet not all women know how to do makeup right. The good news is, this post can t… </td><td>Glaminati</td><td>799k</td><td>Contouring Makeup,Skin Makeup,Beauty Makeup,Makeup Brushes,Eyeliner Makeup,Makeup Tips Lips,Makeup 101,Cheap Makeup,Rosa Eyeliner</td><td>image</td><td>https://i.pinimg.com/originals/2c/1a/d4/2c1ad45b5c54034a2dbc73c84a89f5e4.jpg</td><td>1</td><td>Local save in /data/beauty</td><td>beauty</td></tr><tr><td>10119</td><td>40eab9ba-7812-4f26-baca-35a6bed95a9f</td><td>How to Afford Family Travel: 10 Mistakes You're Making (and what to do instead) | Our Next Adventure</td><td>See families traveling all the time and wonder, \"how the heck do they afford this?\" Read 10 mistakes you might be making, and what you should do instead.</td><td>OUR NEXT ADVENTURE | family travel blog</td><td>9k</td><td>Family Vacation Destinations,Vacation Trips,Travel Destinations,Vacation Ideas,Cheap Family Vacations,Vacation Travel,Best Family Vacation Spots,Vacation Quotes,Vacation Memories</td><td>image</td><td>https://i.pinimg.com/originals/0a/49/fb/0a49fbcec746c4219d3a6f30834f378e.jpg</td><td>1</td><td>Local save in /data/travel</td><td>travel</td></tr><tr><td>9074</td><td>2adede06-7fb0-4b5f-8cf9-ce8e6d6fa6a1</td><td>77 Disney Tattoos To Unleash Your Magic Power - Our Mindful Life</td><td>Disney characters never go out with time. From small to bold, here are the best Disney tattoos that both adults and children will adore.</td><td>Our Mindful Life</td><td>190k</td><td>Small Disney Tattoos,Disney Thigh Tattoo,Matching Disney Tattoos,Disney Couple Tattoos,Disney Inspired Tattoos,Disney Sleeve Tattoos,Matching Best Friend Tattoos,Small Tattoos,3 Best Friend Tattoos</td><td>image</td><td>https://i.pinimg.com/originals/29/1d/13/291d1361e275358df53c1db02b63d3a4.jpg</td><td>1</td><td>Local save in /data/tattoos</td><td>tattoos</td></tr><tr><td>2604</td><td>087b0fa9-f901-4262-aa0a-6caf234d1b35</td><td>75+ Neutral Christmas Home Decor for the Holiday Season in Farmhouse Style using Earth Tones Modern</td><td>My favorite 75+ Neutral Christmas Home Decor for decorating your house during the Holiday Season in earth tones and a farmhouse, rustic style all winter. I love this modern, sim… </td><td>Everyday Wholesome</td><td>31k</td><td>Colorful Christmas Decorations,Colorful Christmas Tree,Christmas Centerpieces,Christmas Colors,Xmas Colors,Winter Decorations,Christmas Trends,Christmas Inspiration,Christmas Home</td><td>image</td><td>https://i.pinimg.com/originals/86/84/39/868439dd894969e3abd6a2a8a9fe1e9c.jpg</td><td>1</td><td>Local save in /data/christmas</td><td>christmas</td></tr><tr><td>223</td><td>8672f996-6ce9-403e-9599-2c4df668f1e0</td><td>Easy Gouache painting</td><td>No description available Story format</td><td>Jasminxg</td><td>29k</td><td>Simple Canvas Paintings,Easy Nature Paintings,Tree Paintings,Cool Paintings,Watercolor Art Lessons,Watercolor Paintings For Beginners,Gouache Painting,Painting Art,Mandala Art Lesson</td><td>multi-video(story page format)</td><td>https://i.pinimg.com/videos/thumbnails/originals/17/49/16/1749164b93866d4eac32a52a3ccfd40a.0000001.jpg</td><td>1</td><td>Local save in /data/art</td><td>art</td></tr><tr><td>8312</td><td>ca3c9bb0-7281-4b9b-8abf-201da0b68d62</td><td>8 Vision Board Ideas To Manifest Your Dreams - TheFab20s</td><td>Trying to create your dream life but don't know where to start?! These vision board ideas are a great way to manifest a new you this year</td><td>TheFab20s | Travel+Food+DIY+Listicles</td><td>42k</td><td>Positive Self Affirmations,Positive Affirmations Quotes,Affirmation Quotes,Quotes Positive,Motivational Quotes For Success Positivity,Business Success Quotes,Positive Vibes,Motivational Quotes For Women,Affirmations For Love</td><td>image</td><td>https://i.pinimg.com/originals/36/d1/be/36d1be632cbf9b6c8e377a052b31d064.jpg</td><td>1</td><td>Local save in /data/quotes</td><td>quotes</td></tr><tr><td>2858</td><td>26f81da4-26a9-465b-b819-6099bc66e1c0</td><td>50 Popular Spring Crafts For Kids You Need To Make</td><td>Celebrate warmer weather & spring blooms with these 50 delightful spring crafts for kids. Bright, cheerful & fun to make these crafts are a guaranteed hit.</td><td>This Tiny  Blue House</td><td>108k</td><td>Spring Crafts For Kids,Diy For Kids,Arts And Crafts For Kids Toddlers,Spring Crafts For Preschoolers,Spring Craft Preschool,Simple Kids Crafts,Summer Crafts For Toddlers,Easy Preschool Crafts,Garden Crafts For Kids</td><td>image</td><td>https://i.pinimg.com/originals/f0/ca/c3/f0cac3e3b0c2ebf5f2d2e4f70455e794.jpg</td><td>1</td><td>Local save in /data/diy-and-crafts</td><td>diy-and-crafts</td></tr><tr><td>6261</td><td>308c5c1c-1ebd-4649-be78-14424ee346b1</td><td>DECORATING WITH RATTAN & CANE - Dashing Darlin'</td><td>BOHEMIAN TRENDING TEXTURES FOR THE HOME ~ ROUNDED UP MY FAVORITE RATTAN & CANE HOME DECOR FINDS</td><td>Dashing Darlin' </td><td>13k</td><td>Boho Chic Living Room,Boho Chic Entryway,Living Room Decor With White Couch,Rustic Living Rooms,Diy Living Room,Living Room Upstairs,Rustic Room,Bohemian Living,Living Room Inspiration</td><td>image</td><td>https://i.pinimg.com/originals/24/89/f7/2489f76f98cb3c1189848ddc42f2ec52.jpg</td><td>1</td><td>Local save in /data/home-decor</td><td>home-decor</td></tr><tr><td>3201</td><td>6370f096-f344-49c3-a6b1-3072c537a953</td><td>DIY Pom Pom Letters for MOM!</td><td>Marla Meridith - DIY Pom Pom Letters for MOM!</td><td>Marla Meridith</td><td>671k</td><td>Kids Crafts,Crafts To Make,Craft Projects,Arts And Crafts,Craft Ideas,Pom Pom Crafts,Yarn Crafts,Flower Crafts,Diy Flower</td><td>image</td><td>https://i.pinimg.com/originals/db/c6/98/dbc69818c531e28ee514aaaec377257d.jpg</td><td>1</td><td>Local save in /data/diy-and-crafts</td><td>diy-and-crafts</td></tr><tr><td>2637</td><td>b18e8d38-eb45-40c0-b443-4fca250df850</td><td>Marco Boho</td><td>No description available Story format</td><td>El blog amarillo</td><td>66k</td><td>Diy Craft Projects,Diy Crafts For Home Decor,Diy And Crafts Sewing,Diy Wall Decor,Creative Crafts,Fun Crafts,Paper Crafts,Sewing Diy,Diy Wall Art</td><td>multi-video(story page format)</td><td>https://i.pinimg.com/videos/thumbnails/originals/b6/ab/28/b6ab28752f2804d71a3993565ba89308.0000001.jpg</td><td>1</td><td>Local save in /data/diy-and-crafts</td><td>diy-and-crafts</td></tr><tr><td>1198</td><td>1a90caac-f5df-4a27-821b-0fb4be678542</td><td>The End of the Skin-Care Craze</td><td>In the face of a pandemic, economic collapse, and climate change, Instagram photos of shelves crowded with skin-care products appear out of</td><td>Mccready-romero</td><td>20</td><td>Care Organization,Bathroom Organisation,Medicine Organization,Beauty Care,Beauty Skin,Elle Ferguson,Shelfie,Makeup Storage,Beauty Room</td><td>image</td><td>https://i.pinimg.com/originals/a3/d0/29/a3d029500020cc9c9c44f97c60dbc515.png</td><td>1</td><td>Local save in /data/beauty</td><td>beauty</td></tr><tr><td>10370</td><td>746948e7-a216-456b-8de7-7fee7312012c</td><td>Joshua Tree - A Weekend in the Desert with Faithfull | Song of Style</td><td>Aimee Song of the blog Song of Style shares a photo diary of her weekend in the Joshua Tree desert with Faithfull the Brand. Photos by Grant Legan.</td><td>Maggie Panning</td><td>1k</td><td>Pretty Cars,Cute Cars,Classy Cars,Sexy Cars,Dream Cars,My Dream Car,Carros Retro,Ford Classic Cars,Ford Mustang Classic</td><td>image</td><td>https://i.pinimg.com/originals/11/1e/c3/111ec37eed198cb432f71b20afd0e770.jpg</td><td>1</td><td>Local save in /data/vehicles</td><td>vehicles</td></tr><tr><td>7167</td><td>922425d2-16dc-465e-8fe4-e3c081a0299f</td><td>Hamilton Khaki Aviation Pilot Chrono Watch H76712151</td><td>Hamilton Khaki Aviation Pilot Chrono H76712151 Movement: ETA 251.274 quartz chronograph Case: Polished and brushed stainless steel. 44mm in diameter. Water resistant to 100 mete… </td><td>Midwest Jewelers & Estate Buyers</td><td>265</td><td>Swiss Army Watches,Seiko Watches,Luxury Watches For Men,Silver Man,Breitling,Fashion Watches,Men's Fashion,Fashion Tips,Cool Watches</td><td>image</td><td>https://i.pinimg.com/originals/13/cb/d6/13cbd63c3b2582b9ba4ec027d62e91c2.png</td><td>1</td><td>Local save in /data/mens-fashion</td><td>mens-fashion</td></tr><tr><td>10673</td><td>ede73169-5b9f-4906-b02e-9db1bee203a4</td><td>Discover the new Range Rover luxury performance SUV</td><td>Shadow Velar</td><td>Land Rover USA</td><td>9k</td><td>Range Rover Negro,Range Rover Preto,Range Rover Schwarz,Range Rover Black,Range Rover Evoque,Range Rover Car,Pink Range Rovers,The New Range Rover,Luxury Sports Cars</td><td>image</td><td>https://i.pinimg.com/originals/5d/c8/87/5dc887a26bd47598867f3576cfe1ace7.jpg</td><td>1</td><td>Local save in /data/vehicles</td><td>vehicles</td></tr><tr><td>2060</td><td>177dde1a-3409-4865-a533-9f50efaedcd8</td><td>50 DIY Decorations for a Jolly Christmas Table Setting</td><td>You'll feel extra merry during your holiday dinner!</td><td>Syndi Mulcahy</td><td>254</td><td>Christmas Place Cards,Christmas Names,Christmas Napkins,Christmas Mantels,Christmas Diy,Christmas Wreaths,Christmas Place Setting,Thanksgiving Place Cards,Christmas Favors</td><td>image</td><td>https://i.pinimg.com/originals/1a/e4/e0/1ae4e03602fb20a77cb53e623547d317.png</td><td>1</td><td>Local save in /data/christmas</td><td>christmas</td></tr><tr><td>9487</td><td>3bccb05e-f031-477f-9ca4-9be28e5bd542</td><td>The Cheapest Countries to Visit Around the World</td><td>Are you looking for the cheapest country to visit? Here are the cheapest countries to visit in the world! These are affordable destinations that offer the most value for an unfo… </td><td>Diana's Healthy Living | Luxury Adventure Travel Blog</td><td>7k</td><td>Travel Advice,Travel Guides,Travel Tips,Travel Goals,Travel Info,Travel Essentials,Travel Stuff,Travel Hacks,Cheap Travel</td><td>image</td><td>https://i.pinimg.com/originals/56/10/37/561037138bcc9c20e88a8e66ae0cb658.png</td><td>1</td><td>Local save in /data/travel</td><td>travel</td></tr><tr><td>772</td><td>49a12516-2c77-445f-b656-4b55b4a69608</td><td>5 Pastel Color Palettes for 5 Floral Favorites</td><td>Everyone loves flowers for their beautiful shapes and color, but confronting all that colorful splendor can be daunting. Artist Jude Tolar shows how to make color decoding easy… </td><td>Artists Network</td><td>227k</td><td>Chalk Pastel Art,Soft Pastel Art,Pastel Artwork,Oil Pastel Paintings,Chalk Pastels,Pastel Drawing,Oil Pastels,Horse Paintings,Flower Paintings</td><td>image</td><td>https://i.pinimg.com/originals/e1/eb/e8/e1ebe8d2f201d92109b1b12bf6e2c1ac.jpg</td><td>1</td><td>Local save in /data/art</td><td>art</td></tr><tr><td>7510</td><td>e09fddda-1cc2-41c8-b799-d238fe90b937</td><td>See the Most Stylish Men of New York Fashion Week</td><td>10 guys with great style at the spring 2016 shows.</td><td>GQ Magazine</td><td>874k</td><td>Nyc Mens Fashion,Fashion Mode,Mens Fashion Suits,New York Fashion,Fashion Fashion,Fashion Check,Paris Fashion,Latex Fashion,Fashion Outlet</td><td>image</td><td>https://i.pinimg.com/originals/45/3c/fb/453cfb4859d0b6730422c75f7b8918ec.jpg</td><td>1</td><td>Local save in /data/mens-fashion</td><td>mens-fashion</td></tr><tr><td>5758</td><td>af602075-7bea-4aa0-adf4-a1a89952e92e</td><td>Robot Challenge Screen</td><td>Need to organize your finances? Create a filing system that works for you. Learn how to organize your finances and give all your documents a home with</td><td>Esavingsblog</td><td>14k</td><td>Ways To Save Money,Money Tips,Money Saving Tips,Managing Money,Money Hacks,Saving Ideas,Finance Bank,Personal Finance,Finance Degree</td><td>image</td><td>https://i.pinimg.com/originals/e6/46/a3/e646a3462219ed0f6f752bcad93fd5a5.png</td><td>1</td><td>Local save in /data/finance</td><td>finance</td></tr><tr><td>1137</td><td>c0549191-51c3-4fb3-bcd3-824a9c46cfd7</td><td>Epus-PRO Treatment Device</td><td>Electroporation + LED + Low-Frequency Exercising muscles you never use in daily life, this product works like an electroporation that you can only get in a medical skin care cli… </td><td>Awesthetics by Amy Wong</td><td>18</td><td>Cream For Oily Skin,Moisturizer For Oily Skin,Oily Skin Care,Face Skin Care,Face Care Tips,Beauty Tips For Face,Beauty Tricks,Skin Care Clinic,Skin Treatments</td><td>image</td><td>https://i.pinimg.com/originals/05/61/89/056189f29c6898f2db14af0b526adf52.png</td><td>1</td><td>Local save in /data/beauty</td><td>beauty</td></tr><tr><td>7234</td><td>c05f564d-2783-4bec-b205-d3f756276296</td><td>16 Amazing Casual Outfit Grids For Guys</td><td>Your spring summer wardrobe inspiration..</td><td>Mens Fashion - LIFESTYLE BY PS </td><td>613k</td><td>Mode Outfits,Casual Outfits,Men Casual,Fashion Outfits,Fashion Clothes,Hijab Casual,Gentleman Mode,Gentleman Style,Mode Masculine</td><td>image</td><td>https://i.pinimg.com/originals/0e/cf/eb/0ecfeb441e7a3559aa41f11b94cdd6ef.jpg</td><td>1</td><td>Local save in /data/mens-fashion</td><td>mens-fashion</td></tr><tr><td>327</td><td>549e1cf5-2301-478b-9e41-af3f618bdc5b</td><td>10 Creative Influencers to Follow for Preschool Arts and Crafts Ideas</td><td>These up-and-coming influencers share amazing ideas for teaching our children through art, nature, and play. Also, their ideas are educational and fun!</td><td>Learn Play Read</td><td>2k</td><td>Classe D'art,Preschool Arts And Crafts,Preschool Christmas,Christmas Crafts,Ecole Art,Beginning Of School,Art Classroom,Flipped Classroom,Art Plastique</td><td>image</td><td>https://i.pinimg.com/originals/82/c1/1c/82c11cdbc4adcbccf8db68187f45abe3.jpg</td><td>1</td><td>Local save in /data/art</td><td>art</td></tr><tr><td>7874</td><td>5343b4fb-36a8-4f38-a71d-48c5eaabb57f</td><td>35 Happiness Quotes Will Remind You To Freaking ROCK Your Day Today</td><td>Who needs anyone else? not me. I deserve the world so I'm gonna give it to myself. | Being You | Inspirational Quotes | #beinspired #beyourself #inspirationalquote | www.unsoshl… </td><td>YourTango</td><td>942k</td><td>Good Quotes,Motivacional Quotes,Quotes Thoughts,Great Inspirational Quotes,Life Quotes Love,Self Love Quotes,Change Quotes,Quotes To Live By,Best Quotes</td><td>image</td><td>https://i.pinimg.com/originals/24/8e/64/248e64a976d22570453b252fdcb96396.jpg</td><td>1</td><td>Local save in /data/quotes</td><td>quotes</td></tr><tr><td>1450</td><td>be11eb0e-bf1d-4558-979c-5daf59454439</td><td>A multitasking cleanser/toner that feels incredibly light on the skin and smells ever so faintly of rose petals.</td><td>It can be used as a pre-cleansing or pre-makeup step, a toner (that mildly hydrates and exfoliates), or a midday refresher. The possibilities!Get it from Soko Glam for $30.</td><td>BuzzFeed</td><td>5M</td><td>Face Care,Body Care,Beauty Skin,Beauty Makeup,K Beauty,Beauty Water,Tips Belleza,Aesthetic Makeup,All Things Beauty</td><td>image</td><td>https://i.pinimg.com/originals/08/68/cb/0868cb65f447b9b165544f72fd05cbce.jpg</td><td>1</td><td>Local save in /data/beauty</td><td>beauty</td></tr><tr><td>10245</td><td>cb3aee98-8171-44ce-bc47-9275b2d2c731</td><td>99 Things Every Female Traveler Should Know</td><td>From practical travel tips to tips for inner travel peace, the following is a long list of everything we think every female traveler should know in order to get the most out of… </td><td>Her Packing List | Minimalist Travel Essentials & Tips for Women</td><td>41k</td><td>Travel To Do,Travel Blog,Travel Info,Future Travel,Travel Advice,Solo Travel,Time Travel,Travel Guides,Places To Travel</td><td>image</td><td>https://i.pinimg.com/originals/cd/66/6d/cd666dbe0791e67881586f0c85495f88.jpg</td><td>1</td><td>Local save in /data/travel</td><td>travel</td></tr><tr><td>9093</td><td>8e478adb-0e3f-4045-83ce-79f155a63722</td><td>51 Unique Minimalist Tattoos Designs For Women</td><td>\"Minimalist Tattoos\" Discover how less is more with the best minimalist tattoo designs for women. Explore cool conservative simplicity with super simple ink ideas. See more idea… </td><td>Beautyholo | Latest Hairstyles, Nail Design Ideas, Home Décor DIY, Women Fashion Ideas</td><td>54k</td><td>Small Tattoos Men,Tatoos Men,Cool Tattoos For Guys,Cool Tatoos For Women,Cool Simple Tattoos,Unique Tattoos,Diy Tattoo,Tattoo Fonts,Tattoo Quotes</td><td>image</td><td>https://i.pinimg.com/originals/c2/82/7d/c2827d11633b11c11a3da17b024264b0.jpg</td><td>1</td><td>Local save in /data/tattoos</td><td>tattoos</td></tr><tr><td>2301</td><td>d502bdc4-103c-47db-832b-4a42a1ae9e0e</td><td>Christmas Candle</td><td>A gorgeous fragranced soy candle in a stoneware pot. Scent notes: • Top: Apple Cider, Cinnamon • Middle: Fresh Cut Christmas Tree • Base: Cookies, Orange Peels, Cloves Burn time… </td><td>Home Etc</td><td>13</td><td>Christmas Tree Base,Fresh Cut Christmas Trees,Christmas Morning,Christmas Scents,Christmas Candles,Holiday Tree,Rustic Christmas,Fall Candles,Soy Candles</td><td>image</td><td>https://i.pinimg.com/originals/fc/a0/6e/fca06e8a43ed4c867a58acbb1b6a5e6e.jpg</td><td>1</td><td>Local save in /data/christmas</td><td>christmas</td></tr><tr><td>2788</td><td>caf2fab1-bca6-49ff-8084-98094c945143</td><td>Painting Pasta to Thread</td><td>Painting pasta to thread - this was so much fun and the cool fluro pasta made great necklaces!</td><td>Katepickle - picklebums - fun ideas for families</td><td>130k</td><td>Craft Activities For Kids,Toddler Activities,Easy Toddler Crafts,Time Activities,Activities For 4 Year Olds,At Home Crafts For Kids,Arts And Crafts For Kids Toddlers,Back To School Crafts For Kids,Spring Toddler Crafts</td><td>image</td><td>https://i.pinimg.com/originals/a1/3d/0a/a13d0a596937d745809c21d68de1ab92.jpg</td><td>1</td><td>Local save in /data/diy-and-crafts</td><td>diy-and-crafts</td></tr><tr><td>9268</td><td>eaadbbf7-06aa-49cb-bf9b-1205118deb9c</td><td>40 Hot Finger Tattoo Ideas</td><td>Although in the past, finger tattoos were not chosen by most people. However, as the trend of tattoos continues to change, we have found that in recent years more and more peopl… </td><td>IdeasDonuts</td><td>47k</td><td>Wedding Finger Tattoos,Arrow Tattoo Finger,Flower Finger Tattoos,Hand And Finger Tattoos,Simple Finger Tattoo,Finger Tattoos For Couples,Hand Tattoos For Girls,Finger Tattoo For Women,Small Hand Tattoos</td><td>image</td><td>https://i.pinimg.com/originals/06/16/a7/0616a7915ce4bb0125906778ba979fe0.png</td><td>1</td><td>Local save in /data/tattoos</td><td>tattoos</td></tr><tr><td>1706</td><td>b5c8a1b5-9e90-4522-9bec-2477b698d5b7</td><td>Standing Figurine Toys Xmas Santa Claus Snowman Reindeer Figure Plush Dolls Christmas Decorations Ornaments Home Indoor Table Ornaments Christmas Party Tree Hanging Decor Toys Gifts for Kids Friends…</td><td>Features: Material:Lint Size:48ｘ18cm Quantity:1 pc Shape:Santa Claus, snowman. Elk Occasion:Christmas Description: 1. Fashion design, high quality 2. Santa Claus, snowman. Elk C… </td><td>Wear24-7</td><td>5k</td><td>Merry Christmas To You,Christmas Toys,Great Christmas Gifts,Christmas Snowman,Christmas Ornaments,Holiday,Christmas Party Decorations,Christmas Themes,Decoration Party</td><td>image</td><td>https://i.pinimg.com/originals/b5/7f/21/b57f219fa89c1165b57525b8eae711da.jpg</td><td>1</td><td>Local save in /data/christmas</td><td>christmas</td></tr><tr><td>5293</td><td>cf33a9ea-788b-4440-bbff-19939cd49d36</td><td>I Will Teach You to Be Rich, Second Edition: No Guilt. No Excuses. No Bs. Just a 6-Week Program That Works</td><td>The groundbreaking NEW YORK TIMES and WALL STREET JOURNAL BESTSELLER that taught a generation how to earn more, save more, and live a rich life--now in a revised 2nd edition. Bu… </td><td>Bookmarks Retail</td><td>793</td><td>Seth Godin,Wall Street Journal,Good Books,Books To Read,Money Makeover,Finance Books,Finance Tips,Words To Use,Dale Carnegie</td><td>image</td><td>https://i.pinimg.com/originals/5f/53/c9/5f53c9406ddaf6449dc1c6b93c7f8e31.jpg</td><td>1</td><td>Local save in /data/finance</td><td>finance</td></tr><tr><td>7733</td><td>4345edf6-abc4-4fc6-9230-660280ef149b</td><td>40 Pick-Me-Up Quotes For When You Feel Like You're About To Give Up</td><td>40 Best Inspirational Quotes To Encourage You To Not Give Up | YourTango</td><td>YourTango</td><td>942k</td><td>Proud Quotes,Now Quotes,Words Quotes,Life Quotes,Sayings,Leader Quotes,Quotes About Being Proud,Try Again Quotes,Relationship Quotes</td><td>image</td><td>https://i.pinimg.com/originals/07/eb/16/07eb163de430de579cedf9ed92eba33c.jpg</td><td>1</td><td>Local save in /data/quotes</td><td>quotes</td></tr><tr><td>3716</td><td>74f878f3-6f1b-4b41-8e71-67a68a0ae76a</td><td>Engaging Secondary Students with Crime Stories — Bespoke ELA:  Essay Writing Tips + Lesson Plans</td><td>Here, you will find four projects that involve crime as a means of targeting essential skills for reading and writing. These projects are sure to capture student interest and en… </td><td>The Bespoke ELA Classroom</td><td>10k</td><td>Middle School Reading,Middle School English,Middle School Teachers,Ela Classroom,English Classroom,English Teachers,8th Grade Ela,Mystery,Teaching Reading</td><td>image</td><td>https://i.pinimg.com/originals/78/5e/2a/785e2afc1f0ca538109b1eb6b517076b.jpg</td><td>1</td><td>Local save in /data/education</td><td>education</td></tr><tr><td>3750</td><td>011f8a14-ffab-4eee-a180-2c9154af430d</td><td>FREE FOR TEACHERS! List of Companies offering free subscriptions now!</td><td>Giant list of companies offering FREE services for schools and teachers during school closures</td><td>Becky Mansfield - YourModernFamily </td><td>196k</td><td>Teacher Websites,Teacher Tools,Teacher Hacks,Teacher Resources,Free Teaching Resources,Teacher Binder,Teacher Stuff,Teaching Strategies,Teaching Tips</td><td>image</td><td>https://i.pinimg.com/originals/05/df/76/05df76296994a6d9f5830eee642ff296.jpg</td><td>1</td><td>Local save in /data/education</td><td>education</td></tr><tr><td>232</td><td>4b3a299c-b202-44c3-8e54-bedce8f35429</td><td>Mountains made up of lines</td><td>Lines can depict any shape; they can create tridimensional effects and give the perception of movement. I did this drawing with 6th grade students, in order to create a mountain… </td><td>mj</td><td>26</td><td>Line Art Projects,School Art Projects,Art School,Art Education Projects,Garden Projects,Doodle Art,Elements Of Art Line,4th Grade Art,Art Lessons Elementary</td><td>image</td><td>https://i.pinimg.com/originals/ad/e2/af/ade2af2b4ad1419a8d13b12a7969be16.jpg</td><td>1</td><td>Local save in /data/art</td><td>art</td></tr><tr><td>8300</td><td>7ddd23cf-68a5-4b5a-a800-1d985cbc69b4</td><td>The Maker's Map - Quotes and Sayings that inspire</td><td>Quotes and Sayings that inspire, motivate, encourage women. Quotes to use on social media. Content ideas for bloggers.</td><td>Amber Strong - The Maker’s Map | DIY’s, Crafts & Home Decor</td><td>19k</td><td>Positive Quotes For Life Encouragement,Positive Quotes For Life Happiness,Good Happy Quotes,Quotes Positive,Being Happy Quotes,Happy Sayings,Happy Life Quotes To Live By,Self Happiness Quotes,Positive Thoughts Quotes</td><td>image</td><td>https://i.pinimg.com/originals/e9/83/44/e983446f2c08cc6da883b9d777f3369f.jpg</td><td>1</td><td>Local save in /data/quotes</td><td>quotes</td></tr><tr><td>8978</td><td>b98e5485-de15-45e7-b4b1-c45351d84f30</td><td>50 Elephant Tattoo Designs for Women Stylish Picture</td><td>Attractive Geometric Elephant Tattoo Female Will Love Today elephant tattoo for women are popular for…</td><td> Travel Pins Design Ideas</td><td>6k</td><td>Cute Elephant Tattoo,Elephant Tattoo Design,Small Elephant Tattoos,Elephant Thigh Tattoo,Elephant Tattoo Meaning,Elephant Outline,Tattoo Oma,Tigh Tattoo,Small Thigh Tattoos</td><td>image</td><td>https://i.pinimg.com/originals/f9/14/11/f9141167d060e6a949e585f1b877a949.jpg</td><td>1</td><td>Local save in /data/tattoos</td><td>tattoos</td></tr><tr><td>2048</td><td>18574885-466a-45b5-acd8-131467643d3c</td><td>Outdoor Christmas Decorations to Give Your Yard Holiday Cheer</td><td>All I want for Christmas is a beautifully decorated home.</td><td>Country Living Magazine</td><td>1M</td><td>Noel Christmas,Winter Christmas,Magical Christmas,Christmas Garlands,Christmas 2019,Christmas Displays,Office Christmas,Christmas Vacation,Christmas Movies</td><td>image</td><td>https://i.pinimg.com/originals/92/65/29/926529446fc63379a274a946aa85f9b8.jpg</td><td>1</td><td>Local save in /data/christmas</td><td>christmas</td></tr><tr><td>10337</td><td>104c2394-368c-425a-9625-a116b59da94d</td><td>New Bestop Sunrider for Hardtop Review/s</td><td>After a week with my Sunrider . . LOVE!! I've opened it more in a week than I've had my freedom panels off in 1.5 years. Now, who has a sun-visor mod so...</td><td>WranglerForum.com</td><td>11k</td><td>Cj Jeep,Jeep Mods,Jeep Suv,Jeep Truck,Jeep Wrangler Forum,Jeep Wrangler Unlimited,Jeep Wrangler Accessories,Jeep Accessories,Jeep Photos</td><td>image</td><td>https://i.pinimg.com/originals/54/30/88/5430889d469677d563eaa2251711015f.jpg</td><td>1</td><td>Local save in /data/vehicles</td><td>vehicles</td></tr><tr><td>7832</td><td>a549938a-786e-4a94-a473-403e8e3a15ad</td><td>You either win or you learn❤️ #inspirationalquote #quote #positive #hope</td><td>No description available Story format</td><td>LISA MASLYK / VOICE OVER TALENT /ACTOR</td><td>3k</td><td>Motivacional Quotes,Doodle Quotes,Wisdom Quotes,Words Quotes,Year Quotes,Positive Quotes For Life,Good Life Quotes,Self Love Quotes,Self Healing Quotes</td><td>multi-video(story page format)</td><td>https://i.pinimg.com/videos/thumbnails/originals/2b/20/ac/2b20ace41dfc29087005a3df9fe1dd6d.0000001.jpg</td><td>1</td><td>Local save in /data/quotes</td><td>quotes</td></tr><tr><td>8366</td><td>046e2c32-1061-42d3-8017-1fc93865edb9</td><td>'Quote - You don't have to be perfect to be amazing' iPhone Case by HelenDesignXO</td><td>Be Brave Enough to Set the Sun. Motivation Quotes.</td><td>Vinyl Written</td><td>1k</td><td>Quotes Wolf,Motivacional Quotes,Poetry Quotes,Words Quotes,Funny Quotes,Sun Qoutes,Quotes On Sun,More To Life Quotes,Take Me Back Quotes</td><td>image</td><td>https://i.pinimg.com/originals/d3/41/91/d341916b119a3df2836d2079367f7b20.jpg</td><td>1</td><td>Local save in /data/quotes</td><td>quotes</td></tr><tr><td>3334</td><td>35a5460b-412c-4135-8122-e4461866018a</td><td>DIY - GUMBALL MACHINE FROM BOTTLE</td><td>No description available Story format</td><td>Girl Crafts</td><td>60k</td><td>Diy Crafts For Teens,Diy Crafts To Do,Diy Crafts Hacks,Diy Crafts Jewelry,Diy Arts And Crafts,Cute Crafts,Creative Crafts,Easy Crafts,Cute Diy Crafts For Your Room</td><td>multi-video(story page format)</td><td>https://i.pinimg.com/videos/thumbnails/originals/39/29/48/392948e8d63ec699260decb0fc9647c1.0000001.jpg</td><td>1</td><td>Local save in /data/diy-and-crafts</td><td>diy-and-crafts</td></tr><tr><td>778</td><td>f82fe1cc-22ce-4c4d-82cc-2e8c9325701d</td><td>Your complete guide to watercolors for beginners!</td><td>Looking for a complete post on how to watercolor? This guide shows you step-by-step how to learn how to watercolor on your own!</td><td>Menucha - Moms and Crafters</td><td>85k</td><td>Watercolor Beginner,Watercolor Paintings For Beginners,Step By Step Watercolor,Watercolor Tips,Watercolour Tutorials,Watercolor Techniques,Art Techniques,Simple Watercolor,Tattoo Watercolor</td><td>image</td><td>https://i.pinimg.com/originals/d9/bf/31/d9bf3191828e8a4d145db739d5fac53e.jpg</td><td>1</td><td>Local save in /data/art</td><td>art</td></tr><tr><td>480</td><td>f5dfee8f-1b62-417d-966c-8cf205418c68</td><td>Abstract Portrait</td><td>No description available</td><td>Ovetta Jackson</td><td>6k</td><td>Abstract Portrait,Portrait Art,Arte Black,African Art Paintings,Black Art Painting,Afro Art,Arte Pop,African American Art,Love Art</td><td>image</td><td>https://i.pinimg.com/originals/05/ed/11/05ed1128fe3a8784ad68900d310654d6.jpg</td><td>1</td><td>Local save in /data/art</td><td>art</td></tr><tr><td>3011</td><td>8d5339e6-ba89-412a-bc61-4d5205fe32f8</td><td>Kids paper plate string art for every holiday - My Silly Squirts</td><td>Kid's String Art Craft for Every Holiday</td><td>JDaniel4's Mom</td><td>63k</td><td>Kids Crafts,Preschool Crafts,Easter Crafts,Projects For Kids,Craft Projects,Craft Ideas,Paper Plate Crafts For Kids,Preschool Christmas,Christmas Crafts</td><td>image</td><td>https://i.pinimg.com/originals/bd/86/74/bd867450a3588b0ce1712f83fb5a58a4.jpg</td><td>1</td><td>Local save in /data/diy-and-crafts</td><td>diy-and-crafts</td></tr><tr><td>9475</td><td>5f389774-c116-4b5d-bd81-763d1e729773</td><td>New Zealand North Island 7 Day Itinerary</td><td>One week may feel too short, but with this New Zealand North Island 7 Day Itinerary you can cover a lot of ground! Plus, read about where to stay, self-driving, flights, and more!</td><td>Alanna | Periodic Adventures</td><td>1k</td><td>Adventure Aesthetic,Travel Aesthetic,Best Places To Vacation,Places To See,North Island New Zealand,New Zealand Adventure,New Zealand Travel Guide,Bali,Beautiful Places To Travel</td><td>image</td><td>https://i.pinimg.com/originals/2e/0d/fc/2e0dfc4293e6d413d18d601248bbe041.jpg</td><td>1</td><td>Local save in /data/travel</td><td>travel</td></tr><tr><td>7586</td><td>28525ffe-fb38-4e4b-90be-55464575cc3b</td><td>64 Bad Bitch Quotes To Awaken Your Inner Savage -Our Mindful Life</td><td>A feminist? More like a warrior. These bad bitch quotes might be the perfect slap-in-the-face you'll need to fight self-doubts.</td><td>Our Mindful Life</td><td>190k</td><td>Bitch Quotes,Sarcastic Quotes,True Quotes,Funny Quotes,Girls Attitude Quotes,Sassy Quotes Bitchy,Bad Words Quotes,Bad Girl Quotes,Girl Qoutes</td><td>image</td><td>https://i.pinimg.com/originals/43/91/f5/4391f5ce5501ded201706022572514ae.png</td><td>1</td><td>Local save in /data/quotes</td><td>quotes</td></tr><tr><td>1864</td><td>6f1951f0-63be-4c4f-8d21-e4995217f69e</td><td>120 Christmas Decorations from the Dollar Store</td><td>Love Christmas decorations but hate spending a lot bunch of money? Check out some of these budget DIY decorations you can easily make from the dollar store!</td><td>Caroline|CarolineVencil.com | Saving & Making Money | Pro Blogger</td><td>42k</td><td>Diy Snowman Decorations,Christmas Candle Decorations,Diy Christmas Ornaments,Christmas Ideas,Christmas Christmas,Snowman Ornaments,Christmas Diy Gifts,Vase Decorations,Diy Christmas Decorations For Home</td><td>image</td><td>https://i.pinimg.com/originals/30/85/21/3085215db77e55770202724268465490.jpg</td><td>1</td><td>Local save in /data/christmas</td><td>christmas</td></tr><tr><td>6014</td><td>d4c57afb-4775-4482-89c8-71d1bf85b488</td><td>Coffee Table Decor Ideas for a Cozy Living Room - Salvaged Living</td><td>Grab these coffee table decor ideas for a cozy living room. This post is awesome, it has a list of must have elements for cozy coffee table styling plus a list of supply ideas f… </td><td>Salvaged Living</td><td>40k</td><td>Coffee Table Decor Living Room,Coffee Table Vignettes,Coffee Table Centerpieces,Coffee Table Styling,Diy Coffee Table,Decorating Coffee Tables,Cozy Living Rooms,Livingroom Table Decor,Living Room Candles</td><td>image</td><td>https://i.pinimg.com/originals/77/b2/bb/77b2bb477d1164908048dabcd78cabd5.jpg</td><td>1</td><td>Local save in /data/home-decor</td><td>home-decor</td></tr><tr><td>1967</td><td>0b9d5b95-51a6-465e-ae4a-2cb68ceada29</td><td>15 Fun & Festive Christmas Porch Ideas</td><td>15 unique Christmas porch ideas that will leave you feeling inspired and help you tackle decorating your own entryway for the holidays! It’s almost time to start decorating for… </td><td>Ashley - Modern Glam</td><td>19k</td><td>Exterior Christmas Lights,Front Door Christmas Decorations,Christmas Lights Outside,Christmas House Lights,Decorating With Christmas Lights,Porch Decorating,Christmas Porch Decorations,Front Porch Ideas For Christmas,Christmas Lights Outdoor Trees</td><td>image</td><td>https://i.pinimg.com/originals/ff/f8/3b/fff83b02aeb29e2e9341a56fc5e63345.png</td><td>1</td><td>Local save in /data/christmas</td><td>christmas</td></tr><tr><td>1699</td><td>e930ea57-d34a-499f-9811-126d39ed1fee</td><td>Easy to Make Mason Jar Christmas Scenes</td><td>ow to make easy and inexpensive Christmas decor with these cute mason jar Christmas scenes. Who doesn't love mason jar crafts for Christmas?</td><td>Twelve On Main</td><td>142k</td><td>Christmas Decorations Diy Crafts,Christmas Crafts For Gifts,Diy Decoration,Diy Ornaments,Decor Ideas,Gift Ideas,Decorating Ideas,Diy Christmas Room Decor,Diy Christmas Projects</td><td>image</td><td>https://i.pinimg.com/originals/0c/31/a1/0c31a189ab7e503c035c8af991d5bd29.jpg</td><td>1</td><td>Local save in /data/christmas</td><td>christmas</td></tr><tr><td>4996</td><td>cf6c021f-1f41-47da-9492-cdec9d32fca8</td><td>The Secret To Authentic Networking and Building a Professional Network | Career Contessa</td><td>Tips on how to build an authentic network and find genuine connections in your professional network.</td><td>BEIMER</td><td>265</td><td>Event Planning Template,Event Planning Quotes,Event Planning Checklist,Event Planning Business,Event Planning Design,Business Events,Event Decor,Pastel,Career</td><td>image</td><td>https://i.pinimg.com/originals/ae/25/a7/ae25a72d5584a4c8f75e972fb70d48e2.jpg</td><td>1</td><td>Local save in /data/event-planning</td><td>event-planning</td></tr><tr><td>10168</td><td>75b8bac1-4aa3-44c3-a310-9faddf4dc576</td><td>dream destination</td><td>No description available Story format</td><td>DailyDose</td><td>189</td><td>Beautiful Places To Travel,Cool Places To Visit,Places To Go,Romantic Travel,Romantic Vacations,Vacation Places,Dream Vacations,Honeymoon Places,Dream Vacation Spots</td><td>multi-video(story page format)</td><td>https://i.pinimg.com/videos/thumbnails/originals/ab/ba/81/abba81b921f0efc48704f93f5972b29d.0000001.jpg</td><td>1</td><td>Local save in /data/travel</td><td>travel</td></tr><tr><td>5333</td><td>1e3d9a5d-4d71-4dbc-9ceb-abb1544b1e32</td><td>The 20 Best Dave Ramsey Tips to Makeover Your Money Today</td><td>These Dave Ramsey tips will help you manage your money and budget so you can pay off debt quickly. These are some of the best personal finance tips and advice to manage your mon… </td><td>Budgets Made Easy</td><td>17k</td><td>Financial Peace,Financial Tips,Financial Planning,Financial Literacy,Budgeting Finances,Budgeting Tips,Homepage Layout,Faire Son Budget,Budget Planer</td><td>image</td><td>https://i.pinimg.com/originals/9f/0e/18/9f0e18e2c2615478352c074fff341ccf.png</td><td>1</td><td>Local save in /data/finance</td><td>finance</td></tr><tr><td>2565</td><td>9cffaa08-af4a-479a-ae01-16c23f9b7aba</td><td>Gorgeous Outdoor Christmas Decorations: 32 Best Ideas & Tutorials</td><td>32 beautiful outdoor Christmas decorations & ideas on DIY lights, wreaths, garlands, wood signs & ornaments for the yard, porch & front door!</td><td>A Piece of Rainbow</td><td>603k</td><td>Christmas Garden,Farmhouse Christmas Decor,Christmas Fun,Christmas Outdoor Lights,White Christmas,Outdoor Christmas Presents,Christmas Manger,All Things Christmas,Handmade Christmas</td><td>image</td><td>https://i.pinimg.com/originals/3c/00/a0/3c00a066c02241b11b9f88c07f63510c.jpg</td><td>1</td><td>Local save in /data/christmas</td><td>christmas</td></tr><tr><td>9778</td><td>4bbe076e-8916-4e61-befc-c9ab952af442</td><td>Burano Italy — How to Visit The Most Colorful Town in Europe!</td><td>Your Guide to Burano, Italy. The most colorful town in Europe!</td><td>Amanda Green Bottoms @ kevinandamanda.com</td><td>219k</td><td>Places To Travel,Places To Go,Travel Destinations,Holiday Destinations,Day Trips From Venice,Venice In A Day,Italy Travel Tips,Cities In Europe,Europe Places</td><td>image</td><td>https://i.pinimg.com/originals/8d/21/22/8d212261e5a8e25eabf2487ce0afc3f5.jpg</td><td>1</td><td>Local save in /data/travel</td><td>travel</td></tr><tr><td>3145</td><td>1022ba0b-eae7-4eba-9120-1fe44d093a32</td><td>How to Colour Chickpeas for Play - Inspire My Play</td><td>Learn how to colour chickpeas for sensory play and craft with this easy DIY</td><td>Laura- Inspire My Play | Play & Learning For Little Kids</td><td>4k</td><td>Baby Sensory Play,Sensory Activities Toddlers,Infant Activities,Sensory Bins,Baby Play,Kindergarten Activities,Diy For Kids,Crafts For Kids,Preschool Crafts</td><td>image</td><td>https://i.pinimg.com/originals/35/e0/44/35e0447b94dd9076ed9e51a8d692e489.jpg</td><td>1</td><td>Local save in /data/diy-and-crafts</td><td>diy-and-crafts</td></tr><tr><td>1341</td><td>7a902d47-90b8-4fd9-82fc-787f028136ac</td><td>No Title Data Available</td><td>No description available Story format</td><td>User Info Error</td><td>User Info Error</td><td>N,o, ,T,a,g,s, ,A,v,a,i,l,a,b,l,e</td><td>multi-video(story page format)</td><td>Image src error.</td><td>0</td><td>Local save in /data/beauty</td><td>beauty</td></tr><tr><td>5162</td><td>a68c2e1b-a247-4990-9d78-672d7797bd2b</td><td>How to Live Frugally: 50 Frugal Living Tips!</td><td>What to learn how to live frugally and save money? Read on and learn 50 practical frugal living tips that’ll help you transform your life! These practical tips for frugal living… </td><td>This Mama Blogs -Work at Home Jobs |  Frugal Living | Make Money</td><td>46k</td><td>Ways To Save Money,Money Tips,Money Saving Tips,Money Hacks,Money Budget,Managing Money,Groceries Budget,Frugal Living Tips,Frugal Tips</td><td>image</td><td>https://i.pinimg.com/originals/03/f3/5d/03f35d36a796b5f29f8d91193e5e2af9.png</td><td>1</td><td>Local save in /data/finance</td><td>finance</td></tr><tr><td>5151</td><td>fa086007-ea95-4ecf-8653-ce749ed3fc8f</td><td>How to Start Paying Off Debt...even with no extra money</td><td>Find out how to start paying off debt with this one simple tip - you can become debt free months or even years faster, even when you have no extra money.</td><td>GrowingSlower</td><td>30k</td><td>Refinance Mortgage,Mortgage Tips,Mortgage Payment,Paying Off Mortgage Faster,Pay Off Mortgage Early,Ways To Save Money,Money Tips,Money Saving Tips,Financial Tips</td><td>image</td><td>https://i.pinimg.com/originals/c0/9c/e2/c09ce20892daace8514215013114289e.jpg</td><td>1</td><td>Local save in /data/finance</td><td>finance</td></tr><tr><td>2498</td><td>1606db47-8923-4360-9fa6-9400bec6270f</td><td>Tout plein d'idées de décos des Fêtes à réaliser avec des bûches et du bois</td><td>Des créations festives et durables</td><td>debra</td><td>4k</td><td>Snowman Christmas Decorations,Christmas Wood Crafts,Homemade Christmas Gifts,Christmas Projects,Holiday Crafts,Primitive Christmas,Christmas Crafts,Christmas Ornaments,Holiday Decor</td><td>image</td><td>https://i.pinimg.com/originals/f4/29/d5/f429d513dfa556d78e28a00bee98e109.jpg</td><td>1</td><td>Local save in /data/christmas</td><td>christmas</td></tr><tr><td>7268</td><td>17ed1c57-5328-4e73-b30d-7f113610955a</td><td>Athleisure Outfit Ideas</td><td>Athleisure Outfit Ideas For Men This Year</td><td>TheUnstitchd</td><td>723k</td><td>Mens Fall Outfits,Stylish Mens Outfits,Casual Winter Outfits,Winter Fashion Outfits,Look Fashion,Men Casual,Man Winter Fashion,Fashion Men,Winter Style For Man</td><td>image</td><td>https://i.pinimg.com/originals/f0/6b/68/f06b68b833439deee027450749a9ede3.jpg</td><td>1</td><td>Local save in /data/mens-fashion</td><td>mens-fashion</td></tr><tr><td>3351</td><td>282a8cf2-d4f3-4d21-837c-90c953b737cf</td><td>Easy Christmas Crafts for Kids - Fruit Loop Candy Cane</td><td>If you're looking for easy Christmas crafts for kids, this is it! You only need 2 things to make them - Fruit Loop cereal and pipe cleaners! They're a great fine motor activity… </td><td>Lindsey Blogs</td><td>29k</td><td>Kids Food Crafts,Preschool Christmas Crafts,Christmas Crafts For Kids To Make,Christmas Activities For Kids,Christmas Tree Crafts,Toddler Christmas,Toddler Crafts,Preschool Winter,Winter Activities</td><td>image</td><td>https://i.pinimg.com/originals/f4/40/aa/f440aae805984076e0886407677e0ec2.png</td><td>1</td><td>Local save in /data/diy-and-crafts</td><td>diy-and-crafts</td></tr><tr><td>7738</td><td>17fd85fd-a790-4c91-b6b2-f4cfabb6a798</td><td>25 Simple Living Quotes to Inspire you to Declutter & Simplify your Life!</td><td>25 of my favourite simple living quotes & minimalist quotes to inspire and encourage you to declutter your home and simplify your life!</td><td>Simple Lionheart Life</td><td>31k</td><td>Great Quotes,Me Quotes,Inspirational Quotes,Wisdom Quotes,Unique Quotes,Truth Quotes,Fact Quotes,Minimalist Quotes,Life Quotes To Live By</td><td>image</td><td>https://i.pinimg.com/originals/b6/3e/ad/b63eadd0568cdb0310c817c09d39898f.png</td><td>1</td><td>Local save in /data/quotes</td><td>quotes</td></tr><tr><td>8886</td><td>8d303604-1809-49b6-8274-392dc43ac6a0</td><td>25 Mental Health Tattoos Ideas & Symbols For Awareness</td><td>Mental health tattoos offer sufferers a way to express their deeply personal struggles with depression. Get ideas for mental & depression health tattoos.</td><td>Mamas Uncut</td><td>8M</td><td>Finger Tattoo For Women,Meaningful Tattoos For Women,Tattoos For Women Small,Little Tattoos,Mini Tattoos,Love Tattoos,Knuckle Tattoos,Finger Tattoos,Tatoo</td><td>image</td><td>https://i.pinimg.com/originals/4d/2c/3d/4d2c3d22d37a4d0906eb243615ca51a6.jpg</td><td>1</td><td>Local save in /data/tattoos</td><td>tattoos</td></tr><tr><td>5742</td><td>44fc133d-0d79-4f00-a803-d6aa5fc8c31b</td><td>How To Find The Best Stocks</td><td>How to find Great Stocks #Finance #Investing #DaveRamsey #Debt #PassiveIncome #PersonalFinance #Trading #Stocks</td><td>Financial Toolkit</td><td>19k</td><td>Stock Finance,Finance Tracker,Finance Tips,Trade Finance,Dave Ramsey,Homepage Layout,Analyse Technique,Value Stocks,Bollinger Bands</td><td>image</td><td>https://i.pinimg.com/originals/0d/d2/8e/0dd28e384ea880145f1445a22e10fac5.png</td><td>1</td><td>Local save in /data/finance</td><td>finance</td></tr><tr><td>1362</td><td>c28eddf9-d936-4c1e-b91f-f0d1888a5bd1</td><td>26 Cheap Beauty Products That Are The Perfect Little Pick-Me-Up — BuzzFeed</td><td>Will these products spark joy? Why yes, I thought you'd never ask!</td><td>jennifer</td><td>191</td><td>Buzzfeed,Beauty Photography,Nail Polish,Skin Tag,Mouthwash,Pick Me Up,Facial Hair,Teeth Whitening,Glowing Skin</td><td>image</td><td>https://i.pinimg.com/originals/86/c4/c7/86c4c7fe7bc203127f45d210ac174817.jpg</td><td>1</td><td>Local save in /data/beauty</td><td>beauty</td></tr><tr><td>995</td><td>10a2f4e9-3760-4305-b74c-b980d86d4bdc</td><td>Natural DIY Foundation Powder</td><td>This DIY natural powder foundation works amazing and contains only a few all natural ingredients. Easy and inexpensive to make.</td><td>A Blossoming Life DIY Projects + Recipes +     Natural Living</td><td>44k</td><td>Homemade Foundation,Diy Foundation,Powder Foundation,Natural Foundation,Bb Beauty,Beauty Care,Beauty Hacks,Beauty Ideas,French Beauty</td><td>image</td><td>https://i.pinimg.com/originals/0d/16/d1/0d16d1a759d713f2a1f10759f0200b4f.jpg</td><td>1</td><td>Local save in /data/beauty</td><td>beauty</td></tr><tr><td>6250</td><td>91fa9a65-e54d-4536-ad9c-4406a535be28</td><td>15 espaces de travail mignons comme tout - Joli Joli Design</td><td>Ces 15 espaces de travail mignons comme tout pourront vous inspirer pour bien aménager le vôtre selon vos goûts! Un espace de travail doit être propice à votre concentration tou… </td><td>Joli Joli Design</td><td>19k</td><td>Home Office Design,Home Office Decor,House Design,Green Home Offices,Interior Office,Green Home Decor,Home Design Decor,Design Ideas,Sweet Home</td><td>image</td><td>https://i.pinimg.com/originals/ca/c7/f8/cac7f86ba392d593a3f9bdb6cd467364.png</td><td>1</td><td>Local save in /data/home-decor</td><td>home-decor</td></tr><tr><td>3184</td><td>02acd2ca-a1fd-4290-9431-085dd78035a2</td><td>40 DIY Crafts To Make & Sell For Money</td><td>40 Easy & fun DIY crafts to make and sell that you need to try!! If you are looking at making some extra cash, then make sure to try out these DIY crafts!! #diycrafts #selldiycr… </td><td>RT Lifestyle Magazine | Travel, DIY, Recipes, Fitness & More</td><td>43k</td><td>Diy Gifts To Sell,Diy Crafts How To Make,Fun Diy Crafts,Sell Diy,Crafts For Teens,Decor Crafts,Homemade Crafts,Recycled Crafts,Crafts To Make And Sell Easy</td><td>image</td><td>https://i.pinimg.com/originals/61/61/5f/61615f747dab735ef8128fd3e029bcd2.png</td><td>1</td><td>Local save in /data/diy-and-crafts</td><td>diy-and-crafts</td></tr><tr><td>2955</td><td>612dfc38-2c04-4a46-9a86-27021dc5ca56</td><td>DIY Best Nativity Crafts</td><td>A round-up of many Nativity crafts that you can make with your kids or grandchildren. 35 wonderful ideas to hang on your tree or give as gifts.</td><td>rhonda_floyd</td><td>3k</td><td>Kids Crafts,Preschool Christmas Crafts,Nativity Crafts,Christmas Activities,Christmas Projects,Holiday Crafts,Spring Crafts,Santa Crafts,Nativity Ornaments</td><td>image</td><td>https://i.pinimg.com/originals/e2/53/b1/e253b15420be1dd5c1adb00dbc86db19.jpg</td><td>1</td><td>Local save in /data/diy-and-crafts</td><td>diy-and-crafts</td></tr><tr><td>4357</td><td>ccf116e9-9096-4943-a344-1960ce216445</td><td>First Steps in Launching Your Own Event Business - Learn About Event Planning</td><td>Updated: January 25, 2017 You’ve organized some events for your family, friends or community and you have gained a budding reputation for knowing how put events together. You’ve… </td><td>EventPlanning.com | Learn How To Become An Event Planner</td><td>4k</td><td>Event Planning Quotes,Event Planning Checklist,Event Planning Business,Business Events,Business Ideas,Business Names,Business Opportunities,Corporate Events,Wedding Event Planner</td><td>image</td><td>https://i.pinimg.com/originals/c3/2b/c6/c32bc6ad263857cb0eea19f9cd12beb9.jpg</td><td>1</td><td>Local save in /data/event-planning</td><td>event-planning</td></tr><tr><td>3563</td><td>bcd69df8-b39e-4373-9304-ca239c5f3e7c</td><td>Objectives and Brain Breaks</td><td>My school is one of many that will be required to post our daily objectives in our classrooms next year. I've FINALLY finished mine! I purc...</td><td>Alexandria Franko</td><td>517</td><td>Classroom Organisation,Classroom Setup,Future Classroom,Classroom Management,Behavior Management,Classroom Ideas For Teachers,Center Management,2nd Grade Classroom,Classroom Behavior</td><td>image</td><td>https://i.pinimg.com/originals/a1/e6/29/a1e629d678c1862420749cc1f31a6b9e.jpg</td><td>1</td><td>Local save in /data/education</td><td>education</td></tr><tr><td>6558</td><td>2eb66add-1986-40bd-a0da-8e0b485b3768</td><td>12 Genius Laundry Room Organization Hacks - Mommyhooding</td><td>I feel like the laundry room doesn’t get a ton of love! I also know that my laundry room (a.k.a the basement) is an absolute hot mess, so I need to start implementing some sort… </td><td>Mommyhooding</td><td>13k</td><td>Laundry Room Doors,Laundry Room Organization,Laundry Room Design,Diy Organization,Organizing Tips,Laundry Closet,Laundry Supplies,Cleaning Supplies,Cleaning Products</td><td>image</td><td>https://i.pinimg.com/originals/e5/2d/8d/e52d8d7207b8c0f22600b6fca5d9fa5a.jpg</td><td>1</td><td>Local save in /data/home-decor</td><td>home-decor</td></tr><tr><td>4256</td><td>9086bb60-9fce-46d1-9006-f05a494a05ce</td><td>A Critical Study of Current Concepts of Truth in American Educational Theory and Their Educational Implications (Paperback)</td><td>A Critical Study of Current Concepts of Truth in American Educational Theory and Their Educational Implications</td><td>Walmart</td><td>2M</td><td>N,o, ,T,a,g,s, ,A,v,a,i,l,a,b,l,e</td><td>image</td><td>https://i.pinimg.com/originals/d4/59/ee/d459eed424eed9acdbfa8be2634f05e9.jpg</td><td>1</td><td>Local save in /data/education</td><td>education</td></tr><tr><td>450</td><td>a67abfbd-3db5-4f2d-a644-5a456643a9d0</td><td>Kindergarten Line Painting Monsters</td><td>This week, kindergarten continued their exploration of line, and started these fun line paintings! We used a new medium, to them, oil pastels and tempera cakes. 😄 Here's how we… </td><td>Elements of the Art Room</td><td>13k</td><td>Kindergarten Art Lessons,Art Lessons For Kids,Art For Kids,Art Projects For Kindergarteners,Monster Kindergarten,Art Children,Halloween Kunst,Halloween Art Projects,Grade 1 Art</td><td>image</td><td>https://i.pinimg.com/originals/2c/65/70/2c65702ea385bdad057edc4cacf08c19.jpg</td><td>1</td><td>Local save in /data/art</td><td>art</td></tr><tr><td>3945</td><td>80b585d0-105c-4841-9759-0d5b8e067674</td><td>Wooden Hand Grab Board Set Educational Toys & Puzzles - White</td><td>Made of quality wooden material, it is smooth and durable and non-odor. Cute and colorful design, each carefully constructed piece matches up to coordinating shape on the board.… </td><td>GADGETOVIA</td><td>1k</td><td>N,o, ,T,a,g,s, ,A,v,a,i,l,a,b,l,e</td><td>image</td><td>https://i.pinimg.com/originals/37/22/63/3722631f8b5840a2bc1f2ed1040fd04d.jpg</td><td>1</td><td>Local save in /data/education</td><td>education</td></tr><tr><td>859</td><td>80fe5ff8-1429-434b-8020-53122d1c6e1a</td><td>40 idées et + de décorations à réaliser avec de simples pierres</td><td>La quarantaine est le moment parfait pour s'adonner à l'artisanat en famille!</td><td>Joyce Flores</td><td>3k</td><td>Painted Rock Animals,Painted Rocks Craft,Hand Painted Rocks,Painted Pebbles,Painted Stones,Paint On Rocks,Rock Painting Patterns,Rock Painting Ideas Easy,Rock Painting Designs</td><td>image</td><td>https://i.pinimg.com/originals/53/c7/a4/53c7a427778fe8a0f0db45b0275f3041.jpg</td><td>1</td><td>Local save in /data/art</td><td>art</td></tr><tr><td>1521</td><td>1bea3880-4177-497b-b54e-287141b689b9</td><td>Clinical Formulations with Integrity</td><td>Only $6 CAD😍</td><td>The Pamper Place</td><td>328</td><td>Face Skin Care,Diy Skin Care,Skin Tips,Skin Care Tips,Skin Secrets,Schul Survival Kits,Skin Care Routine For 20s,Skincare Routine,Moisturizer For Dry Skin</td><td>image</td><td>https://i.pinimg.com/originals/c9/b5/ce/c9b5cec07de20f1b28dc812edb1ce483.jpg</td><td>1</td><td>Local save in /data/beauty</td><td>beauty</td></tr><tr><td>1961</td><td>da1c8608-878e-4c32-80f1-eca017d6cd17</td><td>2019 Holiday Home Walk Through - Jessica Sara Morris</td><td>2019 Holiday Home Walk Through. How we styled our home for Christmas with a little bit of modern, scandanavian, mid century and farmhouse decor.</td><td>JESSICA SARA MORRIS | HOME DECOR + DIY ON A BUDGET</td><td>36k</td><td>Bohemian Christmas,Modern Christmas Decor,Indoor Christmas Decorations,Natural Christmas,Farmhouse Christmas Decor,Noel Christmas,Christmas Aesthetic,Farmhouse Decor,Decorating For Christmas</td><td>image</td><td>https://i.pinimg.com/originals/9d/b6/3e/9db63e81d01bf00d8d5c6d11e966fabb.jpg</td><td>1</td><td>Local save in /data/christmas</td><td>christmas</td></tr><tr><td>10099</td><td>3bd54ff8-730b-4816-b6f4-3a7f2238589b</td><td>The small town of Hallstatt, Austria - Cozy & Comfy</td><td>5,237 points • 127 comments</td><td>9GAG</td><td>3M</td><td>Beautiful Places To Travel,Best Places To Travel,Places To See,Beautiful Sites,Best Places To Live,Beautiful World,Beautiful Things,Voyage Dubai,Travel Photographie</td><td>image</td><td>https://i.pinimg.com/originals/e9/3f/10/e93f104c9931ae559666257ab3228506.png</td><td>1</td><td>Local save in /data/travel</td><td>travel</td></tr><tr><td>6066</td><td>566586e5-bf39-4d0f-a639-72b82ec06e63</td><td>23 Marvelous Farmhouse Fall Decor Ideas for Your Home</td><td>These farmhouse fall decor ideas will help you decorate every room in your home for the autumn season in the coziest way possible!</td><td>Curated Interior</td><td>67k</td><td>Decoration Design,Deco Design,Fall Home Decor,Autumn Home,Home Living Room,Living Room Decor,Love Your Home,Cozy House,Home Decor Inspiration</td><td>image</td><td>https://i.pinimg.com/originals/21/49/2a/21492a428cdd51fcffde6e0579f07ca3.jpg</td><td>1</td><td>Local save in /data/home-decor</td><td>home-decor</td></tr><tr><td>10837</td><td>8561ed44-7e63-471b-90a5-b6e568ae7e0b</td><td>Dave's Way</td><td>If you're not having fun, do something else. Ventura, CA - hot rods, classic sportscars, science fiction, bicycles, motorcycles, boats, architecture, photography. I personally l… </td><td>Desiree Weitzenhoffer</td><td>196</td><td>Bmw Isetta,Fiat 126,Automobile,Old Vintage Cars,Microcar,Bizarre,Weird Cars,Cute Cars,Unique Cars</td><td>image</td><td>https://i.pinimg.com/originals/17/ef/2d/17ef2d989eeafc043d5cea9f46e5d6db.jpg</td><td>1</td><td>Local save in /data/vehicles</td><td>vehicles</td></tr><tr><td>6615</td><td>4f8ac7da-93cb-41b9-9e05-b258d9cf8a35</td><td>Under The Sink Kitchen Organzation</td><td>No description available Story format</td><td>Organize Ways</td><td>2k</td><td>Under Kitchen Sink Organization,Home Organization Hacks,Pantry Organization,Kitchen Storage,Tank Top Organization,Medicine Cabinet Organization,Organizing Ideas,Apartment Kitchen,Home Decor Kitchen</td><td>multi-video(story page format)</td><td>https://i.pinimg.com/videos/thumbnails/originals/32/31/92/323192e2cce37501f423a9b23009bd23.0000001.jpg</td><td>1</td><td>Local save in /data/home-decor</td><td>home-decor</td></tr><tr><td>7641</td><td>ddd4c9c0-b5fe-4db1-9699-78f26d991073</td><td>Find someone you can be completely free with</td><td>Find someone you can be completely free with</td><td>The Minds Journal</td><td>5M</td><td>Soulmate Love Quotes,True Quotes,Words Quotes,Sayings,Emo Quotes,Twin Flame Relationship,Relationship Quotes,Relationships,Spiritual Quotes</td><td>image</td><td>https://i.pinimg.com/originals/a7/79/f2/a779f22cab937c344b99a49822acd04a.jpg</td><td>1</td><td>Local save in /data/quotes</td><td>quotes</td></tr><tr><td>640</td><td>21714ca6-26c3-424a-ba86-b34fe75c3015</td><td>Caption This Image and Selected Wisepicks - 15 December 2020</td><td>Provide a creative, relevant caption for the picture below and get selected and featured with your name and caption. We select 15+ of the best captions! and publish them on our… </td><td>The Minds Journal</td><td>5M</td><td>Arte Obscura,Arte Sketchbook,Funky Art,Pics Art,Psychedelic Art,Art Drawings Sketches,Art And Illustration,Surreal Art,Aesthetic Art</td><td>image</td><td>https://i.pinimg.com/originals/49/de/c9/49dec977a3555fb777ad3a3fd98b092f.jpg</td><td>1</td><td>Local save in /data/art</td><td>art</td></tr><tr><td>8174</td><td>933fef6a-ebca-4d25-bc2a-3190c1490b75</td><td>18 Daily Motivational Quotes You Need In 2018 - Dare to Cultivate</td><td>#quotes #quote #inspirationalquotes #motivationalquotes #quoteoftheday #Motivation #Inspiration #inspirational #Success #wisdom #amazingquotes #quoteoftheday // success quote //… </td><td>Dare to Cultivate</td><td>7k</td><td>Motivacional Quotes,Daily Motivational Quotes,Yoga Quotes,Words Quotes,Wise Words,Positive Quotes,Inspiring Quotes,Positive Affirmations,Inspirational Quotes About Success</td><td>image</td><td>https://i.pinimg.com/originals/4b/d6/1b/4bd61b788bc792d9a36e67dbd4a7b50a.jpg</td><td>1</td><td>Local save in /data/quotes</td><td>quotes</td></tr><tr><td>1216</td><td>4123ab8b-3ca3-411e-8763-92899ec991aa</td><td>10 Ways to Use MAC Prep + Prime Fix+. — Beautiful Makeup Search</td><td>I've been using MAC Prep + Prime Fix+ since its inception. The original makeup hydrating mist, this popular beauty product has sort of taken on a life of its own as users have d… </td><td>Beautiful Makeup Search</td><td>159k</td><td>Makeup Dupes,Makeup Kit,Makeup Cosmetics,Sephora Makeup,Face Makeup,Fix Plus Mac,Everyday Beauty Routine,Everyday Makeup,Mac Chatterbox</td><td>image</td><td>https://i.pinimg.com/originals/90/bd/d4/90bdd4be9991dd4449d3d699e0b17963.jpg</td><td>1</td><td>Local save in /data/beauty</td><td>beauty</td></tr><tr><td>680</td><td>898e3977-a49e-453c-94a1-689aedfee0ca</td><td>The Supplies are in Charge of the Play! - Carolyn Dube</td><td>Ever wonder if the things around your art studio come to life when you aren’t there – like in Toy Story? I am beginning to think that they really do. This cluster of stuff all s… </td><td>Carolyn Dube</td><td>40k</td><td>Art Journal Pages,Art Journal Challenge,Art Journal Backgrounds,Art Journal Prompts,Art Journal Techniques,Journal Ideas,Art Journals,Visual Journals,Art Pages</td><td>image</td><td>https://i.pinimg.com/originals/75/e5/cf/75e5cf9d6be96f10a87cd5f201de477b.jpg</td><td>1</td><td>Local save in /data/art</td><td>art</td></tr><tr><td>9527</td><td>7c1f0f6b-2098-4145-9aed-0eece1d7c029</td><td>Solo Female Traveller Fears + How to Overcome Them - One World Wanderer</td><td>These common solo travel fears are not something you are going through alone- here are a some of the common fears you can face as a solo female traveler. #solotravel #solofemale… </td><td>One World Wanderer | Travel Blogger</td><td>1k</td><td>Solo Travel Tips,Travel Advice,Travel Guides,Travel Hacks,Travel Info,Budget Travel,Amazing Destinations,Travel Destinations,Voyager Seul</td><td>image</td><td>https://i.pinimg.com/originals/13/cf/d9/13cfd91ebe35cea166268c76bcdeff75.jpg</td><td>1</td><td>Local save in /data/travel</td><td>travel</td></tr><tr><td>9426</td><td>dc6f593a-6c1f-4b1b-908f-6b7d44ecbb50</td><td>Tattoos🤍</td><td>No description available Story format</td><td>kayyla.april</td><td>2k</td><td>Classy Tattoos,Dainty Tattoos,Girly Tattoos,Mini Tattoos,Small Tattoos,Trendy Tattoos,Unique Tattoos,Tatoos,Pretty Hand Tattoos</td><td>multi-video(story page format)</td><td>Image src error.</td><td>0</td><td>Local save in /data/tattoos</td><td>tattoos</td></tr><tr><td>8745</td><td>644f7257-7d5d-41f7-a74a-34312c3050fe</td><td>Dope Tattoos</td><td>No description available</td><td>Addymae Rodi</td><td>41</td><td>Dope Tattoos,Sun Tattoos,Family Tattoos,Pretty Tattoos,Unique Tattoos,Beautiful Tattoos,Body Art Tattoos,Small Tattoos,Beautiful Moon</td><td>image</td><td>https://i.pinimg.com/originals/61/96/0e/61960e96dd799bc4fade3c3104e9f6f3.jpg</td><td>1</td><td>Local save in /data/tattoos</td><td>tattoos</td></tr><tr><td>5959</td><td>e281cc85-4c05-486b-95e1-e78124065f9a</td><td>11 Home Decor Trends For 2021</td><td>Easy and affordable home decor trends for 2021</td><td>Lantern Lane Designs|Home Decor|DIY Projects|DIY Home Decor</td><td>25k</td><td>Home Decor Trends,Home Decor Styles,Home Decor Inspiration,Decor Ideas,Styles Of Decorating,Decorating A New Home,Decorating Ideas,Interior Decorating Styles,Family Room Decorating</td><td>image</td><td>https://i.pinimg.com/originals/e7/a4/8c/e7a48c77cc1bc9742f100a77a618062b.png</td><td>1</td><td>Local save in /data/home-decor</td><td>home-decor</td></tr><tr><td>2577</td><td>b1ce08b4-ffc6-4d4e-ad75-a32be401d206</td><td>Gingerbread Boy FigurineGingerbread Boy Figurine</td><td>Looks good enough to eat! Surprise your Christmas festivities with this delectable Gingerbread Boy Oversized Figurine. Add a sense of warmth to every holiday gathering. Features… </td><td>Wear24-7</td><td>5k</td><td>Gingerbread Christmas Decor,Snowman Christmas Decorations,Gingerbread Decorations,Gingerbread Ornaments,Decorating With Christmas Lights,Christmas Snowman,Gingerbread Cookies,Christmas Crafts,Christmas Ideas</td><td>image</td><td>https://i.pinimg.com/originals/80/d8/6a/80d86a31a227ebb78a4b21392f7a10ba.jpg</td><td>1</td><td>Local save in /data/christmas</td><td>christmas</td></tr><tr><td>3008</td><td>649ca299-a339-4136-a126-501515c93c8d</td><td>Upcycled Denim Rag Rug DIY Instructions</td><td>Turn those old jeans into practical rag rugs with just some scrap yarn and a little crochet know-how. I'll show you how to cut the jeans into strips and crochet them together to… </td><td>My Poppet - A Craft, Travel & Food Blog for Colourful Living</td><td>100k</td><td>Pot Mason Diy,Mason Jar Crafts,Bottle Crafts,Rag Rug Diy,Diy Crochet Rag Rug,Scrap Yarn Crochet,Diy Rugs,Crochet Rug Patterns,Free Crochet</td><td>video</td><td>https://i.pinimg.com/videos/thumbnails/originals/0b/10/af/0b10af74b987322a6f4384470bf4eaf0.0000001.jpg</td><td>1</td><td>Local save in /data/diy-and-crafts</td><td>diy-and-crafts</td></tr><tr><td>8081</td><td>d8d98ce8-d57f-4bc2-990e-04b0ba09a8b4</td><td>Love Quotes For Him To Her. QuotesGram</td><td>Discover and share Love Quotes For Him To Her. Explore our collection of motivational and famous quotes by authors you know and love.</td><td>Autumn Shepardson</td><td>2k</td><td>Sexy Quotes For Him,Love Quotes For Him Romantic,Cute Love Quotes,Great Quotes,Quotes To Live By,Inspirational Quotes,Missing Quotes For Him,You Are Mine Quotes,Shes The One Quotes</td><td>image</td><td>https://i.pinimg.com/originals/d4/fe/29/d4fe29641d8c264a0bb59e261712f1c9.jpg</td><td>1</td><td>Local save in /data/quotes</td><td>quotes</td></tr><tr><td>10120</td><td>9d18af84-7e86-42d1-8415-63cf1f8dd45e</td><td>Where to Stay in London + The Best Hotels in London: Area by Area</td><td>Travelling to London and wondering where to stay? Don't miss this insider's guide to the best areas to stay in London and the best hotels in London. Cool things to do and places… </td><td>London x London -  Cool Things To Do + London Travel</td><td>376</td><td>London Places,London Hotels,London England Hotels,London England Travel,London Restaurants,Cool Places To Visit,Places To Travel,Places To Go,Travel Destinations</td><td>image</td><td>https://i.pinimg.com/originals/53/bb/29/53bb29993450a1fb5223bcaf524d9deb.jpg</td><td>1</td><td>Local save in /data/travel</td><td>travel</td></tr><tr><td>4045</td><td>f0c605d7-75bc-4b60-a9ec-e2d64eb29687</td><td>K&S™ Round Brass Tube: 3mm OD x 0.225mm Wall x 300mm Long (3 Pieces)</td><td>Our mission at K&S is to supply you with high-quality metals for your projects. Through precision machinery and great talent, we can supply 100s of stocked products along with c… </td><td>K&S Precision Metals</td><td>5</td><td>Hobbies And Crafts,Arts And Crafts,Home Crafts,Diy Crafts,Stop Motion,Craft Stores,Metals,Planes,Trains</td><td>image</td><td>https://i.pinimg.com/originals/12/d4/17/12d4177dc859be6e33f627d5d0006955.png</td><td>1</td><td>Local save in /data/education</td><td>education</td></tr><tr><td>1599</td><td>aaf8f442-fed5-494f-a84b-64c5e8dc9fea</td><td>Bb Beauty</td><td>27 DIY Beauty Hacks</td><td>Karen Red</td><td>213</td><td>Bb Beauty,Beauty Care,Beauty Makeup,Fashion Beauty,Hair Beauty,Natural Beauty,Beauty Skin,Diy Beauty Hacks,Beauty Hacks For Teens</td><td>image</td><td>https://i.pinimg.com/originals/2c/6b/2a/2c6b2a79ce32ad125806b9a42cd00555.jpg</td><td>1</td><td>Local save in /data/beauty</td><td>beauty</td></tr><tr><td>2893</td><td>f17602e4-4a50-452d-b8ee-de70774b6cdc</td><td>How to make handmade  paper</td><td>No description available Story format</td><td>Bhavani's Creations</td><td>630</td><td>Craft Room Decor,Diy Crafts For Home Decor,Diy Crafts Hacks,Diy Crafts For Gifts,Diy Arts And Crafts,Creative Crafts,Creative Project Ideas,Handmade Crafts,Diys</td><td>multi-video(story page format)</td><td>https://i.pinimg.com/videos/thumbnails/originals/48/7c/d1/487cd1ac4f607b4ef6c7eb7329d13786.0000001.jpg</td><td>1</td><td>Local save in /data/diy-and-crafts</td><td>diy-and-crafts</td></tr><tr><td>4024</td><td>662e0d01-4ee4-45db-9885-08dd5379baa8</td><td>IEP Tubs</td><td>Special education, IEP, IEP Tubs, classroom management, classroom ideas, centers, sped centers</td><td>Traci Bender - The Bender Bunch</td><td>11k</td><td>Teaching Special Education,Teaching Tools,Teacher Resources,Teaching Ideas,Art Education,Elementary Education,Resource Room Teacher,Special Education Quotes,Primary Education</td><td>image</td><td>https://i.pinimg.com/originals/09/ae/d8/09aed8c3e1a0d3910ae91010538b81d6.jpg</td><td>1</td><td>Local save in /data/education</td><td>education</td></tr><tr><td>310</td><td>2afd584f-ce06-4358-8372-fe0b01fbd288</td><td>2nd grade Polar Bears</td><td>Welcome back! So glad to see all of you! This week, 2nd grade is going to be starting this cute lil polar bear, inspired by the fabulous Lauralee Chambers! Here's a link to her… </td><td>Elements of the Art Room</td><td>13k</td><td>Art Lessons For Kids,Art Lessons Elementary,Art For Kids,Elementary Art Education,Elementary Art Rooms,Art 2nd Grade,Grade 2,Art D'ours,Arte Elemental</td><td>image</td><td>https://i.pinimg.com/originals/bb/32/4d/bb324dfa309b719eef404888c52cf56b.jpg</td><td>1</td><td>Local save in /data/art</td><td>art</td></tr><tr><td>7905</td><td>8307e007-7168-4719-b1b4-1193ce98d64e</td><td>Super-Sweet  and Short Love  Quotes  for All the Romantics  ...</td><td>Coco Chanel • Winnie the Pooh • It's True • Turn Back the Clock • The Smile You Gave Me • More ...</td><td>Inloversva</td><td>18k</td><td>Good Life Quotes,Quotes For Him,Great Quotes,Quotes To Live By,Funny Quotes,Inspirational Quotes,Be Mine Quotes,Miss You Already Quotes,Sweet Quotes For Her</td><td>image</td><td>https://i.pinimg.com/originals/93/5a/5d/935a5dfc1178216595149c15bee4ce80.jpg</td><td>1</td><td>Local save in /data/quotes</td><td>quotes</td></tr></tbody></table></div>"
      ]
     },
     "metadata": {
      "application/vnd.databricks.v1+output": {
       "addedWidgets": {},
       "aggData": [],
       "aggError": "",
       "aggOverflow": false,
       "aggSchema": [],
       "aggSeriesLimitReached": false,
       "aggType": "",
       "arguments": {},
       "columnCustomDisplayInfos": {},
       "data": [
        [
         1704,
         "5fbf9863-fb79-477c-a5b6-540c3020a55f",
         "Christmas Trees From Pallet Wood | Holiday DIY",
         "Christmas Trees From Pallet Wood | Holiday DIY: Deck the yard with some fun outdoor Christmas Trees! We made these merry and bright decorations from two old pallets we had lying… ",
         "Instructables",
         "3M",
         "Pallet Wood Christmas Tree,Wooden Christmas Crafts,Diy Christmas Tree,Christmas Projects,Holiday Crafts,Wooden Xmas Trees,Different Christmas Trees,Pallet Tree,Christmas Kitchen",
         "image",
         "https://i.pinimg.com/originals/64/7b/ca/647bca35169b7c144604116c64bcba8a.png",
         1,
         "Local save in /data/christmas",
         "christmas"
        ],
        [
         2482,
         "08604f20-fa17-4b9a-9949-781717eca6cd",
         "FORNT PORCH CHRISTMAS DECORATING IDEAS",
         "Christmas decorating ideas for porches. Beautiful holiday decor ideas for front porches both small and large. Outdoor decorations like sleds, lanterns, Christmas trees, wreaths,… ",
         "Life on Summerhill | Home, Holiday Decor & DIY Website",
         "46k",
         "Diy Christmas Decorations For Home,Farmhouse Christmas Decor,Christmas Home,Christmas Holidays,Christmas Front Porches,How To Decorate For Christmas,Christmas Porch Ideas,Christmas Decorating Ideas,Large Outdoor Christmas Decorations",
         "video",
         "https://i.pinimg.com/videos/thumbnails/originals/40/83/f5/4083f5b4971bf235f89a4784ab87271e.0000001.jpg",
         1,
         "Local save in /data/christmas",
         "christmas"
        ],
        [
         8930,
         "a2999c28-f7b2-4577-af87-49d21d6d8a18",
         "135 Sunflower Tattoo Ideas - [Best Rated Designs in 2021]",
         "We have put together the Ultimative Sunflower Tattoo Collection in 2020. Check out our highest rated handpicked Sunflower designs here!",
         "Next Luxury",
         "800k",
         "Sunflower Tattoo Sleeve,Sunflower Tattoo Shoulder,Sunflower Tattoo Small,Sunflower Tattoos,Sunflower Tattoo Design,Shoulder Tattoo,Sunflower Mandala Tattoo,Sunflower Tattoo Meaning,Form Tattoo",
         "image",
         "https://i.pinimg.com/originals/18/de/6c/18de6c81a8637e224c7d63dce1414ceb.jpg",
         1,
         "Local save in /data/tattoos",
         "tattoos"
        ],
        [
         7294,
         "9d8409ef-bea7-4133-a021-c58b9c042210",
         "Foolproof Fall Fashion For Men You'll Love",
         "Looking for the coolest fall fashion for men this season? Click to read this article on fall fashion for men to look sharp on LLEGANCE.",
         "LLEGANCE | Workwear Fashion Woman Advice For Driven Professionals",
         "28k",
         "Fashion 90s,Autumn Fashion,Fashion Ideas,Trendy Fashion,Fashion Photo,Fashion Outfits,Fashion Trends,Urban Fashion Men,Men's Casual Fashion",
         "image",
         "https://i.pinimg.com/originals/4c/bf/2d/4cbf2d6e04d2502612169220553f4cef.jpg",
         1,
         "Local save in /data/mens-fashion",
         "mens-fashion"
        ],
        [
         808,
         "23f67e42-db9f-4aae-8b82-cbec64ad9f4d",
         "Chalk Pastel Hot Chocolate Art Project",
         "Kids will use chalk pastels and black paper to create this bold and bright hot chocolate art project! Easy to follow tutorial included.",
         "Projects with Kids",
         "20k",
         "Hot Chocolate Art,Chocolate Crafts,Art Activities For Kids,Preschool Art,Preschool Winter,Christmas Activities,Winter Art Projects,Clay Art Projects,Chalk Pastel Art",
         "image",
         "https://i.pinimg.com/originals/5a/d3/82/5ad38202cf8acb022cb8f46ce2a78ad6.jpg",
         1,
         "Local save in /data/art",
         "art"
        ],
        [
         771,
         "a5021766-a8aa-4dc7-9857-4da6b8e3dc1a",
         "African Sunset Shadow Tracing Art - Taming Little Monsters",
         "Use your mini world figures to create this beautiful African sunset. Your kids will love learning about shadows, angles and distortion in this fun art and STEM activity for kids.",
         "Taming Little Monsters - Fun Activities for Kids",
         "4k",
         "African Art Projects,Cool Art Projects,Projects For Kids,African Art For Kids,African Crafts Kids,Art Club Projects,Art Education Projects,Tracing Art,African Sunset",
         "image",
         "https://i.pinimg.com/originals/e3/aa/35/e3aa350f8f104d0e59f26d7f17ea7461.png",
         1,
         "Local save in /data/art",
         "art"
        ],
        [
         4076,
         "3a52d364-7c04-47cb-a3e5-56d9e2b77528",
         "Phonics Activities Your Kids Will Love - The Literacy Nest",
         "Hi everyone! As a teacher using the Orton-Gillingham approach, I am constantly looking for phonics activities that my students will find fun and engaging. Using Orton-Gillingham… ",
         "The Literacy Nest",
         "22k",
         "Literacy Games,Kindergarten Activities,Literacy Centers,Fun Phonics Activities,Listening Activities,Vocabulary Games,Literacy Stations,Letter Activities,Montessori Activities",
         "image",
         "https://i.pinimg.com/originals/58/8e/38/588e380b19942a71a86a69d9c9973d25.png",
         1,
         "Local save in /data/education",
         "education"
        ],
        [
         1545,
         "0c629541-cc5b-4b61-bd3f-613346893258",
         "Oil Cleansing Method: What it is and why you should do it.",
         "The oil cleansing method is a simple, natural way to have clean skin without using toxic chemicals. It will leave your face radiant and soft!",
         "Thank Your Body",
         "85k",
         "Beauty Care,Diy Beauty,Beauty Hacks,Beauty Shop,Oil Cleansing Method,Goji,Korean Skincare Routine,Homemade Beauty Products,Organic Beauty",
         "image",
         "https://i.pinimg.com/originals/2c/1c/da/2c1cda7da86ee711536bbacfe89c75c9.jpg",
         1,
         "Local save in /data/beauty",
         "beauty"
        ],
        [
         2293,
         "1fd7d4cc-54c1-4542-9c1f-449cb4c875f4",
         "Over 40 of the BEST Homemade Christmas Ornament Ideas",
         "Over 40 of the BEST Homemade Christmas Ornaments...these easy Holiday crafts are so fun to make for Kids and Adults! Lots of great class party ideas!",
         "Kitchen Fun With My 3 Sons",
         "245k",
         "Diy Christmas Lights,Homemade Christmas Decorations,Christmas Crafts For Gifts,Mini Christmas Tree,Christmas Ornament Crafts,Homemade Christmas Gifts,Xmas Decorations,Simple Christmas,Handmade Christmas",
         "image",
         "https://i.pinimg.com/originals/d0/d3/a3/d0d3a31e87296224d5ba8896904b5b88.jpg",
         1,
         "Local save in /data/christmas",
         "christmas"
        ],
        [
         10509,
         "6a5f0e7e-1389-4e54-942f-4cb69f09f140",
         "Flying Car",
         "No description available Story format",
         "TheSuperBOO!",
         "89k",
         "Electric Off Road Vehicle,Cool Illusions,Flying Vehicles,Wow Video,Art And Craft Videos,Top Luxury Cars,Chevy Muscle Cars,Street Racing Cars,Funny Videos Clean",
         "multi-video(story page format)",
         "https://i.pinimg.com/videos/thumbnails/originals/4a/d4/96/4ad4961606179854f1141a90f50f002c.0000001.jpg",
         1,
         "Local save in /data/vehicles",
         "vehicles"
        ],
        [
         2015,
         "72359164-4419-452c-81cb-74f30a5a26b7",
         "16 Blissful Christmas Table Decor Ideas That You Must See",
         "Take a look at this new collection of Christmas decor featuring 16 Blissful Christmas Table Decor Ideas That You Must See. Happy holidays!",
         "ArchitectureArtDesigns",
         "616k",
         "Kids Crafts,Christmas Crafts For Kids,Homemade Christmas,Christmas Projects,Holiday Crafts,Christmas Gift Ideas,Preschool Christmas,Tree Crafts,Christmas Inspiration",
         "image",
         "https://i.pinimg.com/originals/5f/70/30/5f7030a35bb8a1491e915fb0ae29bcf5.jpg",
         1,
         "Local save in /data/christmas",
         "christmas"
        ],
        [
         1094,
         "6deacdcd-75ed-4dd8-8951-9b77453f38e0",
         "9 colors lazy lipstick - 9 colors lazy lipstick4",
         "9 colors lazy lipstick",
         "Jiew82633",
         "8k",
         "Nail Inspo,Lazy,Lipstick,How To Apply,Makeup,Colors,Products,Make Up,Lipsticks",
         "image",
         "https://i.pinimg.com/originals/25/cf/8c/25cf8cb74b43ab95591342c2bbe4ecd8.jpg",
         1,
         "Local save in /data/beauty",
         "beauty"
        ],
        [
         603,
         "78e21a64-53b0-4745-8294-e8c456f0ccc1",
         "How to Create Alcohol Ink Rings For Gorgeous Pieces of Art -",
         "Learn to create alcohol ink rings for gorgeous pieces of art. Each ring sits on top of another, giving a multilayered appearance",
         "Kim Cook-Thirteen Chairs-Slates Mugs And Tees",
         "7k",
         "Alcohol Ink Tiles,Alcohol Ink Glass,Alcohol Ink Crafts,Alcohol Ink Painting,Pour Painting,Zealand Tattoo,Copics,Types Of Art,Art Techniques",
         "image",
         "https://i.pinimg.com/originals/03/03/1f/03031fdc9775d0c06f61d68e51362379.png",
         1,
         "Local save in /data/art",
         "art"
        ],
        [
         7768,
         "ae1a61f6-d958-40fe-ba93-6a78b3a73178",
         "16 Motivational Quotes Get You Inspired Today - Boss Babe Chronicles",
         "motivation quotes",
         "Boss Babe Chronicles | Personal Development, Finances, Self Care",
         "45k",
         "Motivacional Quotes,Motivational Quotes For Life,Uplifting Quotes,True Quotes,Words Quotes,Empowering Quotes,Boss Up Quotes,Inspirational Success Quotes,Boss Babe Quotes Work Hard",
         "image",
         "https://i.pinimg.com/originals/ee/b4/bc/eeb4bccdb074edb787ea61711e0c4dfd.jpg",
         1,
         "Local save in /data/quotes",
         "quotes"
        ],
        [
         5630,
         "d41e703c-c97c-4c5a-9f9c-338982ca7504",
         "7 Insanely Useful Money Management Worksheets",
         "Get your personal finance in order with these 8 fr…",
         "R.J. Weiss at The Ways To Wealth | Personal Finance | Debt Payoff",
         "46k",
         "Ways To Save Money,Money Tips,Money Saving Tips,Money Budget,Saving Ideas,Budgeting Finances,Budgeting Tips,Planning Budget,Budget Planer",
         "image",
         "https://i.pinimg.com/originals/f1/4f/cc/f14fcc75ee73ff22c983bdce70c022e2.jpg",
         1,
         "Local save in /data/finance",
         "finance"
        ],
        [
         8578,
         "036ec267-658b-4dad-a097-8ef0b4f30c0d",
         "Snake Collarbone Temporary Tattoo. Halloween Tattoos  Spooky | Etsy",
         "Snake temporary tattoo for collarbone. Spooky 3D tattoo for Halloween Includes 2 copies, 1 for the right side and 1 for the left side Apply with water and remove anytime with ba… ",
         "Livitrevisani",
         "0",
         "Finger Tattoo Designs,Small Tattoo Designs,Finger Tattoos,Small 3d Tattoos,Cool Tattoos,Line Work Tattoo,Back Tattoo,Collarbone Tattoo,Tattoo Neck",
         "image",
         "https://i.pinimg.com/originals/d8/b7/a1/d8b7a11a3fe64e7fab91d3afb1536537.jpg",
         1,
         "Local save in /data/tattoos",
         "tattoos"
        ],
        [
         9936,
         "1f3154a6-13f0-4049-8d5c-faea15b9f07c",
         "Chasing Waterfalls in Costa Rica",
         "Volcanoes, hikes, and hot springs in Costa Rica! The ultimate 5 day travel itinerary. - #costarica #travel #blogging #blog #bucketlist",
         "Jess Wandering",
         "22k",
         "Costa Rica Reisen,Costa Rica Travel,Vacation Places,Dream Vacations,Vacation Spots,Vacation Food,Vacation Ideas,Voyage Dubai,Beautiful Places To Travel",
         "image",
         "https://i.pinimg.com/originals/60/fe/4c/60fe4c3602e8e50e2e9f787ed27d2aba.jpg",
         1,
         "Local save in /data/travel",
         "travel"
        ],
        [
         6844,
         "69c3f268-274f-44bd-9cb4-427e64fefc44",
         "♔the-fashman♔",
         "billy-george: “Summer styles ”",
         "Au'vey Smith",
         "377",
         "Fashion Week Hommes,La Fashion Week,Fashion Moda,Urban Fashion,Trendy Fashion,Fashion Spring,Fashion 2017,New Mens Fashion,Trendy Clothing",
         "image",
         "https://i.pinimg.com/originals/3c/8c/53/3c8c534cd02334c50047bd3a4feccce9.jpg",
         1,
         "Local save in /data/mens-fashion",
         "mens-fashion"
        ],
        [
         3419,
         "d0b80187-0171-49b2-8ee4-572984244f65",
         "Easy Christmas Tree Crafts Ideas for toddlers and preschoolers | Sharing Our Experiences",
         "Easy Christmas tree Craft Ideas for toddlers and preschoolers. Engage your kids in these DIY",
         "Kids Crafts & Free Preschool Printables- Sharing Our Experiences",
         "3k",
         "Christmas Crafts For Kids To Make,Christmas Tree Painting,Christmas Activities For Kids,Easy Christmas Crafts For Toddlers,Kid Activities,Christmas Handprint Crafts,Christmas Tree Crafts,Christmas Baby,Xmas Tree",
         "image",
         "https://i.pinimg.com/originals/69/f0/75/69f075939d4449dffa69519756c30e26.png",
         1,
         "Local save in /data/diy-and-crafts",
         "diy-and-crafts"
        ],
        [
         1268,
         "e2f2cec5-cda5-42b2-ab9d-6dddf863e94e",
         "Janet on Twitter",
         "Here’s how to get long-lasting makeup, so you can do your face in the morning and be set for the entire day. Follow these makeup tips for foundation, lipstick and more using pro… ",
         "Tony",
         "3k",
         "Beauty Makeup,Eye Makeup,Diy Beauty,Beauty Ideas,Beauty Skin,Homemade Beauty,Wolf Makeup,Oily Skin Makeup,Face Beauty",
         "image",
         "https://i.pinimg.com/originals/d9/d1/3b/d9d13b9ac47d54940f05a75345a873d4.jpg",
         1,
         "Local save in /data/beauty",
         "beauty"
        ],
        [
         6566,
         "6d8848f8-f515-4935-8dae-5dd02304d76e",
         "Navy and Neutral Fall Living Room + Kitchen Tour - Sand and Sisal",
         "Celebrate fall with a neutral color palette with natural elements. This Navy and Neutral Fall Living Room + Kitchen Tour will make you rethink fall decor.",
         "Sand and Sisal",
         "178k",
         "Fall Living Room,Coastal Living Rooms,Living Room Paint,Living Room Kitchen,Living Room Interior,Living Room Furniture,Living Room Decor,Living Area,Small Living",
         "image",
         "https://i.pinimg.com/originals/f1/be/b6/f1beb6d3414f1c52929df39a83d8da9f.jpg",
         1,
         "Local save in /data/home-decor",
         "home-decor"
        ],
        [
         1555,
         "1f20551b-a21c-4ff0-b20d-49e95fdc50d3",
         "Skin Purging: Die Pflegemethode für reine Haut | ELLE",
         "Skin Purging sorgt für die reinste Haut, die du jemals hattest #skin äpurging #skinpurging #skincare #hautpflege #schönehaut #haut #beauty #tips",
         "ELLE Germany",
         "326k",
         "Natural Hair Mask,Natural Hair Styles,Natural Beauty,Skin Tag,How To Apply Makeup,Pimples,Beauty Routines,Skincare Routine,Glowing Skin",
         "image",
         "https://i.pinimg.com/originals/93/b2/7b/93b27be044b2fd2f227f30a7f2c2faf2.jpg",
         1,
         "Local save in /data/beauty",
         "beauty"
        ],
        [
         3729,
         "ac90f1d2-dc9e-438c-b073-dd48511b80b0",
         "5 + Nature Games for Your Homeschool",
         "Our family would rather spend time outdoors than indoors. We love nature! That said, sometimes mother nature is uncooperative. On these days, it can be fun to pull out some natu… ",
         "My Little Poppies (Cait Curley, MA/CAGS)",
         "9k",
         "Diy Nature,Theme Nature,Nature Study,Science And Nature,Summer Science,Earth Science,Nature Crafts,Outdoor Education,Outdoor Learning",
         "image",
         "https://i.pinimg.com/originals/d6/3b/1a/d63b1a2a36534ecac5d1fbd0d932403a.jpg",
         1,
         "Local save in /data/education",
         "education"
        ],
        [
         6398,
         "ea44d318-2ced-4cf8-a66f-a6a036b84faa",
         "My master bathroom makeover with @flooranddecor ! Follow me on Instagram @Mojisstyle for more",
         "No description available Story format",
         "MojisStyle",
         "117k",
         "Decor Home Living Room,Home And Living,Diy Bedroom Decor,Home Decor,Bathroom Interior Design,Interior Design Living Room,Dream Home Design,House Design,Beautiful Bathrooms",
         "multi-video(story page format)",
         "https://i.pinimg.com/videos/thumbnails/originals/75/48/3b/75483b74822855519ec8b40df4c670ef.0000001.jpg",
         1,
         "Local save in /data/home-decor",
         "home-decor"
        ],
        [
         46,
         "19234073-8905-4885-b0d5-98e0b84cbf27",
         "10 Watercolor Hacks For Beginners | Tips and Tricks to Making Watercolor Painting Easier",
         "Mountain monologue watercolor",
         "It's me, JD | DIY, Crafts, Home & Organization",
         "27k",
         "Arte Inspo,Kunst Inspo,Watercolor Artists,Watercolor Ideas,Simple Watercolor,Tattoo Watercolor,Watercolor Techniques,Watercolor Animals,Watercolor Illustration",
         "image",
         "https://i.pinimg.com/originals/fd/54/89/fd548935dcb13545120a2115baaa41d9.jpg",
         1,
         "Local save in /data/art",
         "art"
        ],
        [
         4988,
         "fbdfd355-a356-46c2-a251-301869ae2674",
         "Fun Book Page Crafts - MomAdvice",
         "Fun Book Page Crafts - MomAdvice",
         "MomAdvice",
         "112k",
         "Harry Potter Wedding,Harry Potter Theme,Wedding Book,Wedding Table,Wedding Ideas,Wedding Vintage,Garden Wedding,Vintage Party,Wedding Paper",
         "image",
         "https://i.pinimg.com/originals/17/55/87/175587b334e71c12300453b8b4b4c6aa.jpg",
         1,
         "Local save in /data/event-planning",
         "event-planning"
        ],
        [
         427,
         "4a455340-09a2-4370-ad86-73d7964603db",
         "DIY Acrylic Paint Pouring Wall Art - Abbotts At Home",
         "Easy to follow steps for this easy DIY wall art. Acrylic Paint Pouring with a blow dryer, Dutch paint pour. Written steps and full step by step video to help you do it too! 👍",
         "Abbotts At Home",
         "52k",
         "Acrylic Pouring Art,Acrylic Wall Art,Acrylic Pouring Techniques,Acrylic Paintings,Art Paintings,Marble Art,Marble Painting,Pour Painting,Large Canvas Art",
         "video",
         "https://i.pinimg.com/videos/thumbnails/originals/d5/5e/fa/d55efa6ef50d35dac425cea935f39c89.0000001.jpg",
         1,
         "Local save in /data/art",
         "art"
        ],
        [
         3800,
         "d2c367ed-9287-4ea3-b173-198b292d9981",
         "Reinforcing the Difficult Child When Token Boards Don't Work!",
         "behavior, special education, token boards, when token boards don't work, money token systems",
         "Traci Bender - The Bender Bunch",
         "11k",
         "Special Education Behavior,Classroom Behavior Management,Behavior Plans,Behaviour Management,Behavior Charts,Behavior Board,Behavior Report,Behavior Analyst,Preschool Special Education",
         "image",
         "https://i.pinimg.com/originals/24/f9/e2/24f9e22ada4a79c61432ef6c8fe1d0f9.jpg",
         1,
         "Local save in /data/education",
         "education"
        ],
        [
         159,
         "841a161a-47b8-4161-884d-adeb67a28b1e",
         "Valentine's Day Bee Directed Drawing {Art Project}",
         "This bee directed drawing and associated pages will help you create a fun and creative Valentine's Day Directed Drawing Art Project activity for your class.Choose to do a painti… ",
         "Teachers Pay Teachers",
         "1M",
         "Classroom Art Projects,School Art Projects,Art Classroom,Art Projects For Kindergarteners,Spring Art Projects,Classroom Posters,Valentines Art Lessons,Valentines Day Activities,Grade 1 Art",
         "image",
         "https://i.pinimg.com/originals/49/ff/2e/49ff2e83c0cefdd37213f6084c6f0566.jpg",
         1,
         "Local save in /data/art",
         "art"
        ],
        [
         3599,
         "ff0dd945-dafa-411c-8cef-eb43e374e815",
         "Educational Leadership in Aotearoa New Zealand : Issues of Context and Social Justice",
         "This book presents 10 inspirational case studies of how centre leaders, principals and leadership teams in high-needs New Zealand educational settings have enacted leadership to… ",
         "Walmart",
         "2M",
         "Research Studies,Educational Leadership,Education System,Secondary School,Try It Free,Book Format,Social Justice,Young People,Paperback Books",
         "image",
         "https://i.pinimg.com/originals/0e/ea/c4/0eeac457780bbe43fcc5e9eaabd80f62.jpg",
         1,
         "Local save in /data/education",
         "education"
        ],
        [
         10552,
         "17301b8c-ccbb-42ad-b2df-3876df35b1cd",
         "The Prowler Emergency Response Vehicle",
         "January 23, 2009 We can see emergency responders queueing up for this one. ATVCorp has created versions of its Prowler Light Tactical All Terrain Vehicle (LTATV) for fire-fighti… ",
         "p hump",
         "314",
         "Army Vehicles,Armored Vehicles,Go Kart Buggy,Atv Attachments,Aviation Fuel,Special Forces,Special Ops,Terrain Vehicle,Emergency Response",
         "image",
         "https://i.pinimg.com/originals/14/6b/6b/146b6b1a1127773f7046e08550e68ed0.jpg",
         1,
         "Local save in /data/vehicles",
         "vehicles"
        ],
        [
         1422,
         "7bbe860c-a739-4ba9-babd-feb24bb6e4d9",
         "41 Life-Saving Beauty Hacks Every Girl Should Have In Her Arsenal",
         "Might try this... I'm generally skeptical about at-home remedies, but I know baking soda and lemons both do wonders. More",
         "BuzzFeed",
         "5M",
         "Baking Soda Lemon Juice,Diy Beauté,Tips Belleza,Belleza Natural,Health And Beauty Tips,Beauty Secrets,Beauty Advice,Diy Beauty Tips,Beauty Life Hacks",
         "image",
         "https://i.pinimg.com/originals/c8/ab/af/c8abaffc56050f674eef8e65ad684929.jpg",
         1,
         "Local save in /data/beauty",
         "beauty"
        ],
        [
         5309,
         "c38bb47b-9584-4fc4-af0d-a31e1061df41",
         "How to Watch Your Favorite Shows Without Cable",
         "How to Get Rid of Cable and Still Watch all of your favorite shows! Saving Money Tips for TV & Cable!",
         "Passion For Savings",
         "330k",
         "Ways To Save Money,Money Tips,Money Saving Tips,Money Hacks,Managing Money,Cable Tv Alternatives,Budget Planer,Financial Tips,Financial Planning",
         "image",
         "https://i.pinimg.com/originals/c9/18/be/c918be2784382dc49010719bf1742a61.jpg",
         1,
         "Local save in /data/finance",
         "finance"
        ],
        [
         552,
         "b82602a9-e434-42cf-9481-22f3f41d82ce",
         "The herbal bed: Katie Scott's psychedelic flora and fauna – in pictures",
         "Nike trainers sprout plants and French perfumiers inspire by mysterious scientific icons in Katie Scott’s visions that take botanical illustration into the digital age",
         "The Guardian",
         "908k",
         "Art And Illustration,Illustration Inspiration,Botanical Illustration,Vintage Illustrations,Botanical Drawings,Botanical Prints,Arte Inspo,Insect Art,Psychedelic",
         "image",
         "https://i.pinimg.com/originals/16/8a/fa/168afae02d5ffc71da10cdb312de2cb1.jpg",
         1,
         "Local save in /data/art",
         "art"
        ],
        [
         1371,
         "33e92ac1-73d1-4c31-9892-d5e633060790",
         "How To Do Makeup - Step By Step Tips For The Perfect Look",
         "What are the basic things you need for makeup? Let’s be honest, ladies; all women can do makeup, yet not all women know how to do makeup right. The good news is, this post can t… ",
         "Glaminati",
         "799k",
         "Contouring Makeup,Skin Makeup,Beauty Makeup,Makeup Brushes,Eyeliner Makeup,Makeup Tips Lips,Makeup 101,Cheap Makeup,Rosa Eyeliner",
         "image",
         "https://i.pinimg.com/originals/2c/1a/d4/2c1ad45b5c54034a2dbc73c84a89f5e4.jpg",
         1,
         "Local save in /data/beauty",
         "beauty"
        ],
        [
         10119,
         "40eab9ba-7812-4f26-baca-35a6bed95a9f",
         "How to Afford Family Travel: 10 Mistakes You're Making (and what to do instead) | Our Next Adventure",
         "See families traveling all the time and wonder, \"how the heck do they afford this?\" Read 10 mistakes you might be making, and what you should do instead.",
         "OUR NEXT ADVENTURE | family travel blog",
         "9k",
         "Family Vacation Destinations,Vacation Trips,Travel Destinations,Vacation Ideas,Cheap Family Vacations,Vacation Travel,Best Family Vacation Spots,Vacation Quotes,Vacation Memories",
         "image",
         "https://i.pinimg.com/originals/0a/49/fb/0a49fbcec746c4219d3a6f30834f378e.jpg",
         1,
         "Local save in /data/travel",
         "travel"
        ],
        [
         9074,
         "2adede06-7fb0-4b5f-8cf9-ce8e6d6fa6a1",
         "77 Disney Tattoos To Unleash Your Magic Power - Our Mindful Life",
         "Disney characters never go out with time. From small to bold, here are the best Disney tattoos that both adults and children will adore.",
         "Our Mindful Life",
         "190k",
         "Small Disney Tattoos,Disney Thigh Tattoo,Matching Disney Tattoos,Disney Couple Tattoos,Disney Inspired Tattoos,Disney Sleeve Tattoos,Matching Best Friend Tattoos,Small Tattoos,3 Best Friend Tattoos",
         "image",
         "https://i.pinimg.com/originals/29/1d/13/291d1361e275358df53c1db02b63d3a4.jpg",
         1,
         "Local save in /data/tattoos",
         "tattoos"
        ],
        [
         2604,
         "087b0fa9-f901-4262-aa0a-6caf234d1b35",
         "75+ Neutral Christmas Home Decor for the Holiday Season in Farmhouse Style using Earth Tones Modern",
         "My favorite 75+ Neutral Christmas Home Decor for decorating your house during the Holiday Season in earth tones and a farmhouse, rustic style all winter. I love this modern, sim… ",
         "Everyday Wholesome",
         "31k",
         "Colorful Christmas Decorations,Colorful Christmas Tree,Christmas Centerpieces,Christmas Colors,Xmas Colors,Winter Decorations,Christmas Trends,Christmas Inspiration,Christmas Home",
         "image",
         "https://i.pinimg.com/originals/86/84/39/868439dd894969e3abd6a2a8a9fe1e9c.jpg",
         1,
         "Local save in /data/christmas",
         "christmas"
        ],
        [
         223,
         "8672f996-6ce9-403e-9599-2c4df668f1e0",
         "Easy Gouache painting",
         "No description available Story format",
         "Jasminxg",
         "29k",
         "Simple Canvas Paintings,Easy Nature Paintings,Tree Paintings,Cool Paintings,Watercolor Art Lessons,Watercolor Paintings For Beginners,Gouache Painting,Painting Art,Mandala Art Lesson",
         "multi-video(story page format)",
         "https://i.pinimg.com/videos/thumbnails/originals/17/49/16/1749164b93866d4eac32a52a3ccfd40a.0000001.jpg",
         1,
         "Local save in /data/art",
         "art"
        ],
        [
         8312,
         "ca3c9bb0-7281-4b9b-8abf-201da0b68d62",
         "8 Vision Board Ideas To Manifest Your Dreams - TheFab20s",
         "Trying to create your dream life but don't know where to start?! These vision board ideas are a great way to manifest a new you this year",
         "TheFab20s | Travel+Food+DIY+Listicles",
         "42k",
         "Positive Self Affirmations,Positive Affirmations Quotes,Affirmation Quotes,Quotes Positive,Motivational Quotes For Success Positivity,Business Success Quotes,Positive Vibes,Motivational Quotes For Women,Affirmations For Love",
         "image",
         "https://i.pinimg.com/originals/36/d1/be/36d1be632cbf9b6c8e377a052b31d064.jpg",
         1,
         "Local save in /data/quotes",
         "quotes"
        ],
        [
         2858,
         "26f81da4-26a9-465b-b819-6099bc66e1c0",
         "50 Popular Spring Crafts For Kids You Need To Make",
         "Celebrate warmer weather & spring blooms with these 50 delightful spring crafts for kids. Bright, cheerful & fun to make these crafts are a guaranteed hit.",
         "This Tiny  Blue House",
         "108k",
         "Spring Crafts For Kids,Diy For Kids,Arts And Crafts For Kids Toddlers,Spring Crafts For Preschoolers,Spring Craft Preschool,Simple Kids Crafts,Summer Crafts For Toddlers,Easy Preschool Crafts,Garden Crafts For Kids",
         "image",
         "https://i.pinimg.com/originals/f0/ca/c3/f0cac3e3b0c2ebf5f2d2e4f70455e794.jpg",
         1,
         "Local save in /data/diy-and-crafts",
         "diy-and-crafts"
        ],
        [
         6261,
         "308c5c1c-1ebd-4649-be78-14424ee346b1",
         "DECORATING WITH RATTAN & CANE - Dashing Darlin'",
         "BOHEMIAN TRENDING TEXTURES FOR THE HOME ~ ROUNDED UP MY FAVORITE RATTAN & CANE HOME DECOR FINDS",
         "Dashing Darlin' ",
         "13k",
         "Boho Chic Living Room,Boho Chic Entryway,Living Room Decor With White Couch,Rustic Living Rooms,Diy Living Room,Living Room Upstairs,Rustic Room,Bohemian Living,Living Room Inspiration",
         "image",
         "https://i.pinimg.com/originals/24/89/f7/2489f76f98cb3c1189848ddc42f2ec52.jpg",
         1,
         "Local save in /data/home-decor",
         "home-decor"
        ],
        [
         3201,
         "6370f096-f344-49c3-a6b1-3072c537a953",
         "DIY Pom Pom Letters for MOM!",
         "Marla Meridith - DIY Pom Pom Letters for MOM!",
         "Marla Meridith",
         "671k",
         "Kids Crafts,Crafts To Make,Craft Projects,Arts And Crafts,Craft Ideas,Pom Pom Crafts,Yarn Crafts,Flower Crafts,Diy Flower",
         "image",
         "https://i.pinimg.com/originals/db/c6/98/dbc69818c531e28ee514aaaec377257d.jpg",
         1,
         "Local save in /data/diy-and-crafts",
         "diy-and-crafts"
        ],
        [
         2637,
         "b18e8d38-eb45-40c0-b443-4fca250df850",
         "Marco Boho",
         "No description available Story format",
         "El blog amarillo",
         "66k",
         "Diy Craft Projects,Diy Crafts For Home Decor,Diy And Crafts Sewing,Diy Wall Decor,Creative Crafts,Fun Crafts,Paper Crafts,Sewing Diy,Diy Wall Art",
         "multi-video(story page format)",
         "https://i.pinimg.com/videos/thumbnails/originals/b6/ab/28/b6ab28752f2804d71a3993565ba89308.0000001.jpg",
         1,
         "Local save in /data/diy-and-crafts",
         "diy-and-crafts"
        ],
        [
         1198,
         "1a90caac-f5df-4a27-821b-0fb4be678542",
         "The End of the Skin-Care Craze",
         "In the face of a pandemic, economic collapse, and climate change, Instagram photos of shelves crowded with skin-care products appear out of",
         "Mccready-romero",
         "20",
         "Care Organization,Bathroom Organisation,Medicine Organization,Beauty Care,Beauty Skin,Elle Ferguson,Shelfie,Makeup Storage,Beauty Room",
         "image",
         "https://i.pinimg.com/originals/a3/d0/29/a3d029500020cc9c9c44f97c60dbc515.png",
         1,
         "Local save in /data/beauty",
         "beauty"
        ],
        [
         10370,
         "746948e7-a216-456b-8de7-7fee7312012c",
         "Joshua Tree - A Weekend in the Desert with Faithfull | Song of Style",
         "Aimee Song of the blog Song of Style shares a photo diary of her weekend in the Joshua Tree desert with Faithfull the Brand. Photos by Grant Legan.",
         "Maggie Panning",
         "1k",
         "Pretty Cars,Cute Cars,Classy Cars,Sexy Cars,Dream Cars,My Dream Car,Carros Retro,Ford Classic Cars,Ford Mustang Classic",
         "image",
         "https://i.pinimg.com/originals/11/1e/c3/111ec37eed198cb432f71b20afd0e770.jpg",
         1,
         "Local save in /data/vehicles",
         "vehicles"
        ],
        [
         7167,
         "922425d2-16dc-465e-8fe4-e3c081a0299f",
         "Hamilton Khaki Aviation Pilot Chrono Watch H76712151",
         "Hamilton Khaki Aviation Pilot Chrono H76712151 Movement: ETA 251.274 quartz chronograph Case: Polished and brushed stainless steel. 44mm in diameter. Water resistant to 100 mete… ",
         "Midwest Jewelers & Estate Buyers",
         "265",
         "Swiss Army Watches,Seiko Watches,Luxury Watches For Men,Silver Man,Breitling,Fashion Watches,Men's Fashion,Fashion Tips,Cool Watches",
         "image",
         "https://i.pinimg.com/originals/13/cb/d6/13cbd63c3b2582b9ba4ec027d62e91c2.png",
         1,
         "Local save in /data/mens-fashion",
         "mens-fashion"
        ],
        [
         10673,
         "ede73169-5b9f-4906-b02e-9db1bee203a4",
         "Discover the new Range Rover luxury performance SUV",
         "Shadow Velar",
         "Land Rover USA",
         "9k",
         "Range Rover Negro,Range Rover Preto,Range Rover Schwarz,Range Rover Black,Range Rover Evoque,Range Rover Car,Pink Range Rovers,The New Range Rover,Luxury Sports Cars",
         "image",
         "https://i.pinimg.com/originals/5d/c8/87/5dc887a26bd47598867f3576cfe1ace7.jpg",
         1,
         "Local save in /data/vehicles",
         "vehicles"
        ],
        [
         2060,
         "177dde1a-3409-4865-a533-9f50efaedcd8",
         "50 DIY Decorations for a Jolly Christmas Table Setting",
         "You'll feel extra merry during your holiday dinner!",
         "Syndi Mulcahy",
         "254",
         "Christmas Place Cards,Christmas Names,Christmas Napkins,Christmas Mantels,Christmas Diy,Christmas Wreaths,Christmas Place Setting,Thanksgiving Place Cards,Christmas Favors",
         "image",
         "https://i.pinimg.com/originals/1a/e4/e0/1ae4e03602fb20a77cb53e623547d317.png",
         1,
         "Local save in /data/christmas",
         "christmas"
        ],
        [
         9487,
         "3bccb05e-f031-477f-9ca4-9be28e5bd542",
         "The Cheapest Countries to Visit Around the World",
         "Are you looking for the cheapest country to visit? Here are the cheapest countries to visit in the world! These are affordable destinations that offer the most value for an unfo… ",
         "Diana's Healthy Living | Luxury Adventure Travel Blog",
         "7k",
         "Travel Advice,Travel Guides,Travel Tips,Travel Goals,Travel Info,Travel Essentials,Travel Stuff,Travel Hacks,Cheap Travel",
         "image",
         "https://i.pinimg.com/originals/56/10/37/561037138bcc9c20e88a8e66ae0cb658.png",
         1,
         "Local save in /data/travel",
         "travel"
        ],
        [
         772,
         "49a12516-2c77-445f-b656-4b55b4a69608",
         "5 Pastel Color Palettes for 5 Floral Favorites",
         "Everyone loves flowers for their beautiful shapes and color, but confronting all that colorful splendor can be daunting. Artist Jude Tolar shows how to make color decoding easy… ",
         "Artists Network",
         "227k",
         "Chalk Pastel Art,Soft Pastel Art,Pastel Artwork,Oil Pastel Paintings,Chalk Pastels,Pastel Drawing,Oil Pastels,Horse Paintings,Flower Paintings",
         "image",
         "https://i.pinimg.com/originals/e1/eb/e8/e1ebe8d2f201d92109b1b12bf6e2c1ac.jpg",
         1,
         "Local save in /data/art",
         "art"
        ],
        [
         7510,
         "e09fddda-1cc2-41c8-b799-d238fe90b937",
         "See the Most Stylish Men of New York Fashion Week",
         "10 guys with great style at the spring 2016 shows.",
         "GQ Magazine",
         "874k",
         "Nyc Mens Fashion,Fashion Mode,Mens Fashion Suits,New York Fashion,Fashion Fashion,Fashion Check,Paris Fashion,Latex Fashion,Fashion Outlet",
         "image",
         "https://i.pinimg.com/originals/45/3c/fb/453cfb4859d0b6730422c75f7b8918ec.jpg",
         1,
         "Local save in /data/mens-fashion",
         "mens-fashion"
        ],
        [
         5758,
         "af602075-7bea-4aa0-adf4-a1a89952e92e",
         "Robot Challenge Screen",
         "Need to organize your finances? Create a filing system that works for you. Learn how to organize your finances and give all your documents a home with",
         "Esavingsblog",
         "14k",
         "Ways To Save Money,Money Tips,Money Saving Tips,Managing Money,Money Hacks,Saving Ideas,Finance Bank,Personal Finance,Finance Degree",
         "image",
         "https://i.pinimg.com/originals/e6/46/a3/e646a3462219ed0f6f752bcad93fd5a5.png",
         1,
         "Local save in /data/finance",
         "finance"
        ],
        [
         1137,
         "c0549191-51c3-4fb3-bcd3-824a9c46cfd7",
         "Epus-PRO Treatment Device",
         "Electroporation + LED + Low-Frequency Exercising muscles you never use in daily life, this product works like an electroporation that you can only get in a medical skin care cli… ",
         "Awesthetics by Amy Wong",
         "18",
         "Cream For Oily Skin,Moisturizer For Oily Skin,Oily Skin Care,Face Skin Care,Face Care Tips,Beauty Tips For Face,Beauty Tricks,Skin Care Clinic,Skin Treatments",
         "image",
         "https://i.pinimg.com/originals/05/61/89/056189f29c6898f2db14af0b526adf52.png",
         1,
         "Local save in /data/beauty",
         "beauty"
        ],
        [
         7234,
         "c05f564d-2783-4bec-b205-d3f756276296",
         "16 Amazing Casual Outfit Grids For Guys",
         "Your spring summer wardrobe inspiration..",
         "Mens Fashion - LIFESTYLE BY PS ",
         "613k",
         "Mode Outfits,Casual Outfits,Men Casual,Fashion Outfits,Fashion Clothes,Hijab Casual,Gentleman Mode,Gentleman Style,Mode Masculine",
         "image",
         "https://i.pinimg.com/originals/0e/cf/eb/0ecfeb441e7a3559aa41f11b94cdd6ef.jpg",
         1,
         "Local save in /data/mens-fashion",
         "mens-fashion"
        ],
        [
         327,
         "549e1cf5-2301-478b-9e41-af3f618bdc5b",
         "10 Creative Influencers to Follow for Preschool Arts and Crafts Ideas",
         "These up-and-coming influencers share amazing ideas for teaching our children through art, nature, and play. Also, their ideas are educational and fun!",
         "Learn Play Read",
         "2k",
         "Classe D'art,Preschool Arts And Crafts,Preschool Christmas,Christmas Crafts,Ecole Art,Beginning Of School,Art Classroom,Flipped Classroom,Art Plastique",
         "image",
         "https://i.pinimg.com/originals/82/c1/1c/82c11cdbc4adcbccf8db68187f45abe3.jpg",
         1,
         "Local save in /data/art",
         "art"
        ],
        [
         7874,
         "5343b4fb-36a8-4f38-a71d-48c5eaabb57f",
         "35 Happiness Quotes Will Remind You To Freaking ROCK Your Day Today",
         "Who needs anyone else? not me. I deserve the world so I'm gonna give it to myself. | Being You | Inspirational Quotes | #beinspired #beyourself #inspirationalquote | www.unsoshl… ",
         "YourTango",
         "942k",
         "Good Quotes,Motivacional Quotes,Quotes Thoughts,Great Inspirational Quotes,Life Quotes Love,Self Love Quotes,Change Quotes,Quotes To Live By,Best Quotes",
         "image",
         "https://i.pinimg.com/originals/24/8e/64/248e64a976d22570453b252fdcb96396.jpg",
         1,
         "Local save in /data/quotes",
         "quotes"
        ],
        [
         1450,
         "be11eb0e-bf1d-4558-979c-5daf59454439",
         "A multitasking cleanser/toner that feels incredibly light on the skin and smells ever so faintly of rose petals.",
         "It can be used as a pre-cleansing or pre-makeup step, a toner (that mildly hydrates and exfoliates), or a midday refresher. The possibilities!Get it from Soko Glam for $30.",
         "BuzzFeed",
         "5M",
         "Face Care,Body Care,Beauty Skin,Beauty Makeup,K Beauty,Beauty Water,Tips Belleza,Aesthetic Makeup,All Things Beauty",
         "image",
         "https://i.pinimg.com/originals/08/68/cb/0868cb65f447b9b165544f72fd05cbce.jpg",
         1,
         "Local save in /data/beauty",
         "beauty"
        ],
        [
         10245,
         "cb3aee98-8171-44ce-bc47-9275b2d2c731",
         "99 Things Every Female Traveler Should Know",
         "From practical travel tips to tips for inner travel peace, the following is a long list of everything we think every female traveler should know in order to get the most out of… ",
         "Her Packing List | Minimalist Travel Essentials & Tips for Women",
         "41k",
         "Travel To Do,Travel Blog,Travel Info,Future Travel,Travel Advice,Solo Travel,Time Travel,Travel Guides,Places To Travel",
         "image",
         "https://i.pinimg.com/originals/cd/66/6d/cd666dbe0791e67881586f0c85495f88.jpg",
         1,
         "Local save in /data/travel",
         "travel"
        ],
        [
         9093,
         "8e478adb-0e3f-4045-83ce-79f155a63722",
         "51 Unique Minimalist Tattoos Designs For Women",
         "\"Minimalist Tattoos\" Discover how less is more with the best minimalist tattoo designs for women. Explore cool conservative simplicity with super simple ink ideas. See more idea… ",
         "Beautyholo | Latest Hairstyles, Nail Design Ideas, Home Décor DIY, Women Fashion Ideas",
         "54k",
         "Small Tattoos Men,Tatoos Men,Cool Tattoos For Guys,Cool Tatoos For Women,Cool Simple Tattoos,Unique Tattoos,Diy Tattoo,Tattoo Fonts,Tattoo Quotes",
         "image",
         "https://i.pinimg.com/originals/c2/82/7d/c2827d11633b11c11a3da17b024264b0.jpg",
         1,
         "Local save in /data/tattoos",
         "tattoos"
        ],
        [
         2301,
         "d502bdc4-103c-47db-832b-4a42a1ae9e0e",
         "Christmas Candle",
         "A gorgeous fragranced soy candle in a stoneware pot. Scent notes: • Top: Apple Cider, Cinnamon • Middle: Fresh Cut Christmas Tree • Base: Cookies, Orange Peels, Cloves Burn time… ",
         "Home Etc",
         "13",
         "Christmas Tree Base,Fresh Cut Christmas Trees,Christmas Morning,Christmas Scents,Christmas Candles,Holiday Tree,Rustic Christmas,Fall Candles,Soy Candles",
         "image",
         "https://i.pinimg.com/originals/fc/a0/6e/fca06e8a43ed4c867a58acbb1b6a5e6e.jpg",
         1,
         "Local save in /data/christmas",
         "christmas"
        ],
        [
         2788,
         "caf2fab1-bca6-49ff-8084-98094c945143",
         "Painting Pasta to Thread",
         "Painting pasta to thread - this was so much fun and the cool fluro pasta made great necklaces!",
         "Katepickle - picklebums - fun ideas for families",
         "130k",
         "Craft Activities For Kids,Toddler Activities,Easy Toddler Crafts,Time Activities,Activities For 4 Year Olds,At Home Crafts For Kids,Arts And Crafts For Kids Toddlers,Back To School Crafts For Kids,Spring Toddler Crafts",
         "image",
         "https://i.pinimg.com/originals/a1/3d/0a/a13d0a596937d745809c21d68de1ab92.jpg",
         1,
         "Local save in /data/diy-and-crafts",
         "diy-and-crafts"
        ],
        [
         9268,
         "eaadbbf7-06aa-49cb-bf9b-1205118deb9c",
         "40 Hot Finger Tattoo Ideas",
         "Although in the past, finger tattoos were not chosen by most people. However, as the trend of tattoos continues to change, we have found that in recent years more and more peopl… ",
         "IdeasDonuts",
         "47k",
         "Wedding Finger Tattoos,Arrow Tattoo Finger,Flower Finger Tattoos,Hand And Finger Tattoos,Simple Finger Tattoo,Finger Tattoos For Couples,Hand Tattoos For Girls,Finger Tattoo For Women,Small Hand Tattoos",
         "image",
         "https://i.pinimg.com/originals/06/16/a7/0616a7915ce4bb0125906778ba979fe0.png",
         1,
         "Local save in /data/tattoos",
         "tattoos"
        ],
        [
         1706,
         "b5c8a1b5-9e90-4522-9bec-2477b698d5b7",
         "Standing Figurine Toys Xmas Santa Claus Snowman Reindeer Figure Plush Dolls Christmas Decorations Ornaments Home Indoor Table Ornaments Christmas Party Tree Hanging Decor Toys Gifts for Kids Friends…",
         "Features: Material:Lint Size:48ｘ18cm Quantity:1 pc Shape:Santa Claus, snowman. Elk Occasion:Christmas Description: 1. Fashion design, high quality 2. Santa Claus, snowman. Elk C… ",
         "Wear24-7",
         "5k",
         "Merry Christmas To You,Christmas Toys,Great Christmas Gifts,Christmas Snowman,Christmas Ornaments,Holiday,Christmas Party Decorations,Christmas Themes,Decoration Party",
         "image",
         "https://i.pinimg.com/originals/b5/7f/21/b57f219fa89c1165b57525b8eae711da.jpg",
         1,
         "Local save in /data/christmas",
         "christmas"
        ],
        [
         5293,
         "cf33a9ea-788b-4440-bbff-19939cd49d36",
         "I Will Teach You to Be Rich, Second Edition: No Guilt. No Excuses. No Bs. Just a 6-Week Program That Works",
         "The groundbreaking NEW YORK TIMES and WALL STREET JOURNAL BESTSELLER that taught a generation how to earn more, save more, and live a rich life--now in a revised 2nd edition. Bu… ",
         "Bookmarks Retail",
         "793",
         "Seth Godin,Wall Street Journal,Good Books,Books To Read,Money Makeover,Finance Books,Finance Tips,Words To Use,Dale Carnegie",
         "image",
         "https://i.pinimg.com/originals/5f/53/c9/5f53c9406ddaf6449dc1c6b93c7f8e31.jpg",
         1,
         "Local save in /data/finance",
         "finance"
        ],
        [
         7733,
         "4345edf6-abc4-4fc6-9230-660280ef149b",
         "40 Pick-Me-Up Quotes For When You Feel Like You're About To Give Up",
         "40 Best Inspirational Quotes To Encourage You To Not Give Up | YourTango",
         "YourTango",
         "942k",
         "Proud Quotes,Now Quotes,Words Quotes,Life Quotes,Sayings,Leader Quotes,Quotes About Being Proud,Try Again Quotes,Relationship Quotes",
         "image",
         "https://i.pinimg.com/originals/07/eb/16/07eb163de430de579cedf9ed92eba33c.jpg",
         1,
         "Local save in /data/quotes",
         "quotes"
        ],
        [
         3716,
         "74f878f3-6f1b-4b41-8e71-67a68a0ae76a",
         "Engaging Secondary Students with Crime Stories — Bespoke ELA:  Essay Writing Tips + Lesson Plans",
         "Here, you will find four projects that involve crime as a means of targeting essential skills for reading and writing. These projects are sure to capture student interest and en… ",
         "The Bespoke ELA Classroom",
         "10k",
         "Middle School Reading,Middle School English,Middle School Teachers,Ela Classroom,English Classroom,English Teachers,8th Grade Ela,Mystery,Teaching Reading",
         "image",
         "https://i.pinimg.com/originals/78/5e/2a/785e2afc1f0ca538109b1eb6b517076b.jpg",
         1,
         "Local save in /data/education",
         "education"
        ],
        [
         3750,
         "011f8a14-ffab-4eee-a180-2c9154af430d",
         "FREE FOR TEACHERS! List of Companies offering free subscriptions now!",
         "Giant list of companies offering FREE services for schools and teachers during school closures",
         "Becky Mansfield - YourModernFamily ",
         "196k",
         "Teacher Websites,Teacher Tools,Teacher Hacks,Teacher Resources,Free Teaching Resources,Teacher Binder,Teacher Stuff,Teaching Strategies,Teaching Tips",
         "image",
         "https://i.pinimg.com/originals/05/df/76/05df76296994a6d9f5830eee642ff296.jpg",
         1,
         "Local save in /data/education",
         "education"
        ],
        [
         232,
         "4b3a299c-b202-44c3-8e54-bedce8f35429",
         "Mountains made up of lines",
         "Lines can depict any shape; they can create tridimensional effects and give the perception of movement. I did this drawing with 6th grade students, in order to create a mountain… ",
         "mj",
         "26",
         "Line Art Projects,School Art Projects,Art School,Art Education Projects,Garden Projects,Doodle Art,Elements Of Art Line,4th Grade Art,Art Lessons Elementary",
         "image",
         "https://i.pinimg.com/originals/ad/e2/af/ade2af2b4ad1419a8d13b12a7969be16.jpg",
         1,
         "Local save in /data/art",
         "art"
        ],
        [
         8300,
         "7ddd23cf-68a5-4b5a-a800-1d985cbc69b4",
         "The Maker's Map - Quotes and Sayings that inspire",
         "Quotes and Sayings that inspire, motivate, encourage women. Quotes to use on social media. Content ideas for bloggers.",
         "Amber Strong - The Maker’s Map | DIY’s, Crafts & Home Decor",
         "19k",
         "Positive Quotes For Life Encouragement,Positive Quotes For Life Happiness,Good Happy Quotes,Quotes Positive,Being Happy Quotes,Happy Sayings,Happy Life Quotes To Live By,Self Happiness Quotes,Positive Thoughts Quotes",
         "image",
         "https://i.pinimg.com/originals/e9/83/44/e983446f2c08cc6da883b9d777f3369f.jpg",
         1,
         "Local save in /data/quotes",
         "quotes"
        ],
        [
         8978,
         "b98e5485-de15-45e7-b4b1-c45351d84f30",
         "50 Elephant Tattoo Designs for Women Stylish Picture",
         "Attractive Geometric Elephant Tattoo Female Will Love Today elephant tattoo for women are popular for…",
         " Travel Pins Design Ideas",
         "6k",
         "Cute Elephant Tattoo,Elephant Tattoo Design,Small Elephant Tattoos,Elephant Thigh Tattoo,Elephant Tattoo Meaning,Elephant Outline,Tattoo Oma,Tigh Tattoo,Small Thigh Tattoos",
         "image",
         "https://i.pinimg.com/originals/f9/14/11/f9141167d060e6a949e585f1b877a949.jpg",
         1,
         "Local save in /data/tattoos",
         "tattoos"
        ],
        [
         2048,
         "18574885-466a-45b5-acd8-131467643d3c",
         "Outdoor Christmas Decorations to Give Your Yard Holiday Cheer",
         "All I want for Christmas is a beautifully decorated home.",
         "Country Living Magazine",
         "1M",
         "Noel Christmas,Winter Christmas,Magical Christmas,Christmas Garlands,Christmas 2019,Christmas Displays,Office Christmas,Christmas Vacation,Christmas Movies",
         "image",
         "https://i.pinimg.com/originals/92/65/29/926529446fc63379a274a946aa85f9b8.jpg",
         1,
         "Local save in /data/christmas",
         "christmas"
        ],
        [
         10337,
         "104c2394-368c-425a-9625-a116b59da94d",
         "New Bestop Sunrider for Hardtop Review/s",
         "After a week with my Sunrider . . LOVE!! I've opened it more in a week than I've had my freedom panels off in 1.5 years. Now, who has a sun-visor mod so...",
         "WranglerForum.com",
         "11k",
         "Cj Jeep,Jeep Mods,Jeep Suv,Jeep Truck,Jeep Wrangler Forum,Jeep Wrangler Unlimited,Jeep Wrangler Accessories,Jeep Accessories,Jeep Photos",
         "image",
         "https://i.pinimg.com/originals/54/30/88/5430889d469677d563eaa2251711015f.jpg",
         1,
         "Local save in /data/vehicles",
         "vehicles"
        ],
        [
         7832,
         "a549938a-786e-4a94-a473-403e8e3a15ad",
         "You either win or you learn❤️ #inspirationalquote #quote #positive #hope",
         "No description available Story format",
         "LISA MASLYK / VOICE OVER TALENT /ACTOR",
         "3k",
         "Motivacional Quotes,Doodle Quotes,Wisdom Quotes,Words Quotes,Year Quotes,Positive Quotes For Life,Good Life Quotes,Self Love Quotes,Self Healing Quotes",
         "multi-video(story page format)",
         "https://i.pinimg.com/videos/thumbnails/originals/2b/20/ac/2b20ace41dfc29087005a3df9fe1dd6d.0000001.jpg",
         1,
         "Local save in /data/quotes",
         "quotes"
        ],
        [
         8366,
         "046e2c32-1061-42d3-8017-1fc93865edb9",
         "'Quote - You don't have to be perfect to be amazing' iPhone Case by HelenDesignXO",
         "Be Brave Enough to Set the Sun. Motivation Quotes.",
         "Vinyl Written",
         "1k",
         "Quotes Wolf,Motivacional Quotes,Poetry Quotes,Words Quotes,Funny Quotes,Sun Qoutes,Quotes On Sun,More To Life Quotes,Take Me Back Quotes",
         "image",
         "https://i.pinimg.com/originals/d3/41/91/d341916b119a3df2836d2079367f7b20.jpg",
         1,
         "Local save in /data/quotes",
         "quotes"
        ],
        [
         3334,
         "35a5460b-412c-4135-8122-e4461866018a",
         "DIY - GUMBALL MACHINE FROM BOTTLE",
         "No description available Story format",
         "Girl Crafts",
         "60k",
         "Diy Crafts For Teens,Diy Crafts To Do,Diy Crafts Hacks,Diy Crafts Jewelry,Diy Arts And Crafts,Cute Crafts,Creative Crafts,Easy Crafts,Cute Diy Crafts For Your Room",
         "multi-video(story page format)",
         "https://i.pinimg.com/videos/thumbnails/originals/39/29/48/392948e8d63ec699260decb0fc9647c1.0000001.jpg",
         1,
         "Local save in /data/diy-and-crafts",
         "diy-and-crafts"
        ],
        [
         778,
         "f82fe1cc-22ce-4c4d-82cc-2e8c9325701d",
         "Your complete guide to watercolors for beginners!",
         "Looking for a complete post on how to watercolor? This guide shows you step-by-step how to learn how to watercolor on your own!",
         "Menucha - Moms and Crafters",
         "85k",
         "Watercolor Beginner,Watercolor Paintings For Beginners,Step By Step Watercolor,Watercolor Tips,Watercolour Tutorials,Watercolor Techniques,Art Techniques,Simple Watercolor,Tattoo Watercolor",
         "image",
         "https://i.pinimg.com/originals/d9/bf/31/d9bf3191828e8a4d145db739d5fac53e.jpg",
         1,
         "Local save in /data/art",
         "art"
        ],
        [
         480,
         "f5dfee8f-1b62-417d-966c-8cf205418c68",
         "Abstract Portrait",
         "No description available",
         "Ovetta Jackson",
         "6k",
         "Abstract Portrait,Portrait Art,Arte Black,African Art Paintings,Black Art Painting,Afro Art,Arte Pop,African American Art,Love Art",
         "image",
         "https://i.pinimg.com/originals/05/ed/11/05ed1128fe3a8784ad68900d310654d6.jpg",
         1,
         "Local save in /data/art",
         "art"
        ],
        [
         3011,
         "8d5339e6-ba89-412a-bc61-4d5205fe32f8",
         "Kids paper plate string art for every holiday - My Silly Squirts",
         "Kid's String Art Craft for Every Holiday",
         "JDaniel4's Mom",
         "63k",
         "Kids Crafts,Preschool Crafts,Easter Crafts,Projects For Kids,Craft Projects,Craft Ideas,Paper Plate Crafts For Kids,Preschool Christmas,Christmas Crafts",
         "image",
         "https://i.pinimg.com/originals/bd/86/74/bd867450a3588b0ce1712f83fb5a58a4.jpg",
         1,
         "Local save in /data/diy-and-crafts",
         "diy-and-crafts"
        ],
        [
         9475,
         "5f389774-c116-4b5d-bd81-763d1e729773",
         "New Zealand North Island 7 Day Itinerary",
         "One week may feel too short, but with this New Zealand North Island 7 Day Itinerary you can cover a lot of ground! Plus, read about where to stay, self-driving, flights, and more!",
         "Alanna | Periodic Adventures",
         "1k",
         "Adventure Aesthetic,Travel Aesthetic,Best Places To Vacation,Places To See,North Island New Zealand,New Zealand Adventure,New Zealand Travel Guide,Bali,Beautiful Places To Travel",
         "image",
         "https://i.pinimg.com/originals/2e/0d/fc/2e0dfc4293e6d413d18d601248bbe041.jpg",
         1,
         "Local save in /data/travel",
         "travel"
        ],
        [
         7586,
         "28525ffe-fb38-4e4b-90be-55464575cc3b",
         "64 Bad Bitch Quotes To Awaken Your Inner Savage -Our Mindful Life",
         "A feminist? More like a warrior. These bad bitch quotes might be the perfect slap-in-the-face you'll need to fight self-doubts.",
         "Our Mindful Life",
         "190k",
         "Bitch Quotes,Sarcastic Quotes,True Quotes,Funny Quotes,Girls Attitude Quotes,Sassy Quotes Bitchy,Bad Words Quotes,Bad Girl Quotes,Girl Qoutes",
         "image",
         "https://i.pinimg.com/originals/43/91/f5/4391f5ce5501ded201706022572514ae.png",
         1,
         "Local save in /data/quotes",
         "quotes"
        ],
        [
         1864,
         "6f1951f0-63be-4c4f-8d21-e4995217f69e",
         "120 Christmas Decorations from the Dollar Store",
         "Love Christmas decorations but hate spending a lot bunch of money? Check out some of these budget DIY decorations you can easily make from the dollar store!",
         "Caroline|CarolineVencil.com | Saving & Making Money | Pro Blogger",
         "42k",
         "Diy Snowman Decorations,Christmas Candle Decorations,Diy Christmas Ornaments,Christmas Ideas,Christmas Christmas,Snowman Ornaments,Christmas Diy Gifts,Vase Decorations,Diy Christmas Decorations For Home",
         "image",
         "https://i.pinimg.com/originals/30/85/21/3085215db77e55770202724268465490.jpg",
         1,
         "Local save in /data/christmas",
         "christmas"
        ],
        [
         6014,
         "d4c57afb-4775-4482-89c8-71d1bf85b488",
         "Coffee Table Decor Ideas for a Cozy Living Room - Salvaged Living",
         "Grab these coffee table decor ideas for a cozy living room. This post is awesome, it has a list of must have elements for cozy coffee table styling plus a list of supply ideas f… ",
         "Salvaged Living",
         "40k",
         "Coffee Table Decor Living Room,Coffee Table Vignettes,Coffee Table Centerpieces,Coffee Table Styling,Diy Coffee Table,Decorating Coffee Tables,Cozy Living Rooms,Livingroom Table Decor,Living Room Candles",
         "image",
         "https://i.pinimg.com/originals/77/b2/bb/77b2bb477d1164908048dabcd78cabd5.jpg",
         1,
         "Local save in /data/home-decor",
         "home-decor"
        ],
        [
         1967,
         "0b9d5b95-51a6-465e-ae4a-2cb68ceada29",
         "15 Fun & Festive Christmas Porch Ideas",
         "15 unique Christmas porch ideas that will leave you feeling inspired and help you tackle decorating your own entryway for the holidays! It’s almost time to start decorating for… ",
         "Ashley - Modern Glam",
         "19k",
         "Exterior Christmas Lights,Front Door Christmas Decorations,Christmas Lights Outside,Christmas House Lights,Decorating With Christmas Lights,Porch Decorating,Christmas Porch Decorations,Front Porch Ideas For Christmas,Christmas Lights Outdoor Trees",
         "image",
         "https://i.pinimg.com/originals/ff/f8/3b/fff83b02aeb29e2e9341a56fc5e63345.png",
         1,
         "Local save in /data/christmas",
         "christmas"
        ],
        [
         1699,
         "e930ea57-d34a-499f-9811-126d39ed1fee",
         "Easy to Make Mason Jar Christmas Scenes",
         "ow to make easy and inexpensive Christmas decor with these cute mason jar Christmas scenes. Who doesn't love mason jar crafts for Christmas?",
         "Twelve On Main",
         "142k",
         "Christmas Decorations Diy Crafts,Christmas Crafts For Gifts,Diy Decoration,Diy Ornaments,Decor Ideas,Gift Ideas,Decorating Ideas,Diy Christmas Room Decor,Diy Christmas Projects",
         "image",
         "https://i.pinimg.com/originals/0c/31/a1/0c31a189ab7e503c035c8af991d5bd29.jpg",
         1,
         "Local save in /data/christmas",
         "christmas"
        ],
        [
         4996,
         "cf6c021f-1f41-47da-9492-cdec9d32fca8",
         "The Secret To Authentic Networking and Building a Professional Network | Career Contessa",
         "Tips on how to build an authentic network and find genuine connections in your professional network.",
         "BEIMER",
         "265",
         "Event Planning Template,Event Planning Quotes,Event Planning Checklist,Event Planning Business,Event Planning Design,Business Events,Event Decor,Pastel,Career",
         "image",
         "https://i.pinimg.com/originals/ae/25/a7/ae25a72d5584a4c8f75e972fb70d48e2.jpg",
         1,
         "Local save in /data/event-planning",
         "event-planning"
        ],
        [
         10168,
         "75b8bac1-4aa3-44c3-a310-9faddf4dc576",
         "dream destination",
         "No description available Story format",
         "DailyDose",
         "189",
         "Beautiful Places To Travel,Cool Places To Visit,Places To Go,Romantic Travel,Romantic Vacations,Vacation Places,Dream Vacations,Honeymoon Places,Dream Vacation Spots",
         "multi-video(story page format)",
         "https://i.pinimg.com/videos/thumbnails/originals/ab/ba/81/abba81b921f0efc48704f93f5972b29d.0000001.jpg",
         1,
         "Local save in /data/travel",
         "travel"
        ],
        [
         5333,
         "1e3d9a5d-4d71-4dbc-9ceb-abb1544b1e32",
         "The 20 Best Dave Ramsey Tips to Makeover Your Money Today",
         "These Dave Ramsey tips will help you manage your money and budget so you can pay off debt quickly. These are some of the best personal finance tips and advice to manage your mon… ",
         "Budgets Made Easy",
         "17k",
         "Financial Peace,Financial Tips,Financial Planning,Financial Literacy,Budgeting Finances,Budgeting Tips,Homepage Layout,Faire Son Budget,Budget Planer",
         "image",
         "https://i.pinimg.com/originals/9f/0e/18/9f0e18e2c2615478352c074fff341ccf.png",
         1,
         "Local save in /data/finance",
         "finance"
        ],
        [
         2565,
         "9cffaa08-af4a-479a-ae01-16c23f9b7aba",
         "Gorgeous Outdoor Christmas Decorations: 32 Best Ideas & Tutorials",
         "32 beautiful outdoor Christmas decorations & ideas on DIY lights, wreaths, garlands, wood signs & ornaments for the yard, porch & front door!",
         "A Piece of Rainbow",
         "603k",
         "Christmas Garden,Farmhouse Christmas Decor,Christmas Fun,Christmas Outdoor Lights,White Christmas,Outdoor Christmas Presents,Christmas Manger,All Things Christmas,Handmade Christmas",
         "image",
         "https://i.pinimg.com/originals/3c/00/a0/3c00a066c02241b11b9f88c07f63510c.jpg",
         1,
         "Local save in /data/christmas",
         "christmas"
        ],
        [
         9778,
         "4bbe076e-8916-4e61-befc-c9ab952af442",
         "Burano Italy — How to Visit The Most Colorful Town in Europe!",
         "Your Guide to Burano, Italy. The most colorful town in Europe!",
         "Amanda Green Bottoms @ kevinandamanda.com",
         "219k",
         "Places To Travel,Places To Go,Travel Destinations,Holiday Destinations,Day Trips From Venice,Venice In A Day,Italy Travel Tips,Cities In Europe,Europe Places",
         "image",
         "https://i.pinimg.com/originals/8d/21/22/8d212261e5a8e25eabf2487ce0afc3f5.jpg",
         1,
         "Local save in /data/travel",
         "travel"
        ],
        [
         3145,
         "1022ba0b-eae7-4eba-9120-1fe44d093a32",
         "How to Colour Chickpeas for Play - Inspire My Play",
         "Learn how to colour chickpeas for sensory play and craft with this easy DIY",
         "Laura- Inspire My Play | Play & Learning For Little Kids",
         "4k",
         "Baby Sensory Play,Sensory Activities Toddlers,Infant Activities,Sensory Bins,Baby Play,Kindergarten Activities,Diy For Kids,Crafts For Kids,Preschool Crafts",
         "image",
         "https://i.pinimg.com/originals/35/e0/44/35e0447b94dd9076ed9e51a8d692e489.jpg",
         1,
         "Local save in /data/diy-and-crafts",
         "diy-and-crafts"
        ],
        [
         1341,
         "7a902d47-90b8-4fd9-82fc-787f028136ac",
         "No Title Data Available",
         "No description available Story format",
         "User Info Error",
         "User Info Error",
         "N,o, ,T,a,g,s, ,A,v,a,i,l,a,b,l,e",
         "multi-video(story page format)",
         "Image src error.",
         0,
         "Local save in /data/beauty",
         "beauty"
        ],
        [
         5162,
         "a68c2e1b-a247-4990-9d78-672d7797bd2b",
         "How to Live Frugally: 50 Frugal Living Tips!",
         "What to learn how to live frugally and save money? Read on and learn 50 practical frugal living tips that’ll help you transform your life! These practical tips for frugal living… ",
         "This Mama Blogs -Work at Home Jobs |  Frugal Living | Make Money",
         "46k",
         "Ways To Save Money,Money Tips,Money Saving Tips,Money Hacks,Money Budget,Managing Money,Groceries Budget,Frugal Living Tips,Frugal Tips",
         "image",
         "https://i.pinimg.com/originals/03/f3/5d/03f35d36a796b5f29f8d91193e5e2af9.png",
         1,
         "Local save in /data/finance",
         "finance"
        ],
        [
         5151,
         "fa086007-ea95-4ecf-8653-ce749ed3fc8f",
         "How to Start Paying Off Debt...even with no extra money",
         "Find out how to start paying off debt with this one simple tip - you can become debt free months or even years faster, even when you have no extra money.",
         "GrowingSlower",
         "30k",
         "Refinance Mortgage,Mortgage Tips,Mortgage Payment,Paying Off Mortgage Faster,Pay Off Mortgage Early,Ways To Save Money,Money Tips,Money Saving Tips,Financial Tips",
         "image",
         "https://i.pinimg.com/originals/c0/9c/e2/c09ce20892daace8514215013114289e.jpg",
         1,
         "Local save in /data/finance",
         "finance"
        ],
        [
         2498,
         "1606db47-8923-4360-9fa6-9400bec6270f",
         "Tout plein d'idées de décos des Fêtes à réaliser avec des bûches et du bois",
         "Des créations festives et durables",
         "debra",
         "4k",
         "Snowman Christmas Decorations,Christmas Wood Crafts,Homemade Christmas Gifts,Christmas Projects,Holiday Crafts,Primitive Christmas,Christmas Crafts,Christmas Ornaments,Holiday Decor",
         "image",
         "https://i.pinimg.com/originals/f4/29/d5/f429d513dfa556d78e28a00bee98e109.jpg",
         1,
         "Local save in /data/christmas",
         "christmas"
        ],
        [
         7268,
         "17ed1c57-5328-4e73-b30d-7f113610955a",
         "Athleisure Outfit Ideas",
         "Athleisure Outfit Ideas For Men This Year",
         "TheUnstitchd",
         "723k",
         "Mens Fall Outfits,Stylish Mens Outfits,Casual Winter Outfits,Winter Fashion Outfits,Look Fashion,Men Casual,Man Winter Fashion,Fashion Men,Winter Style For Man",
         "image",
         "https://i.pinimg.com/originals/f0/6b/68/f06b68b833439deee027450749a9ede3.jpg",
         1,
         "Local save in /data/mens-fashion",
         "mens-fashion"
        ],
        [
         3351,
         "282a8cf2-d4f3-4d21-837c-90c953b737cf",
         "Easy Christmas Crafts for Kids - Fruit Loop Candy Cane",
         "If you're looking for easy Christmas crafts for kids, this is it! You only need 2 things to make them - Fruit Loop cereal and pipe cleaners! They're a great fine motor activity… ",
         "Lindsey Blogs",
         "29k",
         "Kids Food Crafts,Preschool Christmas Crafts,Christmas Crafts For Kids To Make,Christmas Activities For Kids,Christmas Tree Crafts,Toddler Christmas,Toddler Crafts,Preschool Winter,Winter Activities",
         "image",
         "https://i.pinimg.com/originals/f4/40/aa/f440aae805984076e0886407677e0ec2.png",
         1,
         "Local save in /data/diy-and-crafts",
         "diy-and-crafts"
        ],
        [
         7738,
         "17fd85fd-a790-4c91-b6b2-f4cfabb6a798",
         "25 Simple Living Quotes to Inspire you to Declutter & Simplify your Life!",
         "25 of my favourite simple living quotes & minimalist quotes to inspire and encourage you to declutter your home and simplify your life!",
         "Simple Lionheart Life",
         "31k",
         "Great Quotes,Me Quotes,Inspirational Quotes,Wisdom Quotes,Unique Quotes,Truth Quotes,Fact Quotes,Minimalist Quotes,Life Quotes To Live By",
         "image",
         "https://i.pinimg.com/originals/b6/3e/ad/b63eadd0568cdb0310c817c09d39898f.png",
         1,
         "Local save in /data/quotes",
         "quotes"
        ],
        [
         8886,
         "8d303604-1809-49b6-8274-392dc43ac6a0",
         "25 Mental Health Tattoos Ideas & Symbols For Awareness",
         "Mental health tattoos offer sufferers a way to express their deeply personal struggles with depression. Get ideas for mental & depression health tattoos.",
         "Mamas Uncut",
         "8M",
         "Finger Tattoo For Women,Meaningful Tattoos For Women,Tattoos For Women Small,Little Tattoos,Mini Tattoos,Love Tattoos,Knuckle Tattoos,Finger Tattoos,Tatoo",
         "image",
         "https://i.pinimg.com/originals/4d/2c/3d/4d2c3d22d37a4d0906eb243615ca51a6.jpg",
         1,
         "Local save in /data/tattoos",
         "tattoos"
        ],
        [
         5742,
         "44fc133d-0d79-4f00-a803-d6aa5fc8c31b",
         "How To Find The Best Stocks",
         "How to find Great Stocks #Finance #Investing #DaveRamsey #Debt #PassiveIncome #PersonalFinance #Trading #Stocks",
         "Financial Toolkit",
         "19k",
         "Stock Finance,Finance Tracker,Finance Tips,Trade Finance,Dave Ramsey,Homepage Layout,Analyse Technique,Value Stocks,Bollinger Bands",
         "image",
         "https://i.pinimg.com/originals/0d/d2/8e/0dd28e384ea880145f1445a22e10fac5.png",
         1,
         "Local save in /data/finance",
         "finance"
        ],
        [
         1362,
         "c28eddf9-d936-4c1e-b91f-f0d1888a5bd1",
         "26 Cheap Beauty Products That Are The Perfect Little Pick-Me-Up — BuzzFeed",
         "Will these products spark joy? Why yes, I thought you'd never ask!",
         "jennifer",
         "191",
         "Buzzfeed,Beauty Photography,Nail Polish,Skin Tag,Mouthwash,Pick Me Up,Facial Hair,Teeth Whitening,Glowing Skin",
         "image",
         "https://i.pinimg.com/originals/86/c4/c7/86c4c7fe7bc203127f45d210ac174817.jpg",
         1,
         "Local save in /data/beauty",
         "beauty"
        ],
        [
         995,
         "10a2f4e9-3760-4305-b74c-b980d86d4bdc",
         "Natural DIY Foundation Powder",
         "This DIY natural powder foundation works amazing and contains only a few all natural ingredients. Easy and inexpensive to make.",
         "A Blossoming Life DIY Projects + Recipes +     Natural Living",
         "44k",
         "Homemade Foundation,Diy Foundation,Powder Foundation,Natural Foundation,Bb Beauty,Beauty Care,Beauty Hacks,Beauty Ideas,French Beauty",
         "image",
         "https://i.pinimg.com/originals/0d/16/d1/0d16d1a759d713f2a1f10759f0200b4f.jpg",
         1,
         "Local save in /data/beauty",
         "beauty"
        ],
        [
         6250,
         "91fa9a65-e54d-4536-ad9c-4406a535be28",
         "15 espaces de travail mignons comme tout - Joli Joli Design",
         "Ces 15 espaces de travail mignons comme tout pourront vous inspirer pour bien aménager le vôtre selon vos goûts! Un espace de travail doit être propice à votre concentration tou… ",
         "Joli Joli Design",
         "19k",
         "Home Office Design,Home Office Decor,House Design,Green Home Offices,Interior Office,Green Home Decor,Home Design Decor,Design Ideas,Sweet Home",
         "image",
         "https://i.pinimg.com/originals/ca/c7/f8/cac7f86ba392d593a3f9bdb6cd467364.png",
         1,
         "Local save in /data/home-decor",
         "home-decor"
        ],
        [
         3184,
         "02acd2ca-a1fd-4290-9431-085dd78035a2",
         "40 DIY Crafts To Make & Sell For Money",
         "40 Easy & fun DIY crafts to make and sell that you need to try!! If you are looking at making some extra cash, then make sure to try out these DIY crafts!! #diycrafts #selldiycr… ",
         "RT Lifestyle Magazine | Travel, DIY, Recipes, Fitness & More",
         "43k",
         "Diy Gifts To Sell,Diy Crafts How To Make,Fun Diy Crafts,Sell Diy,Crafts For Teens,Decor Crafts,Homemade Crafts,Recycled Crafts,Crafts To Make And Sell Easy",
         "image",
         "https://i.pinimg.com/originals/61/61/5f/61615f747dab735ef8128fd3e029bcd2.png",
         1,
         "Local save in /data/diy-and-crafts",
         "diy-and-crafts"
        ],
        [
         2955,
         "612dfc38-2c04-4a46-9a86-27021dc5ca56",
         "DIY Best Nativity Crafts",
         "A round-up of many Nativity crafts that you can make with your kids or grandchildren. 35 wonderful ideas to hang on your tree or give as gifts.",
         "rhonda_floyd",
         "3k",
         "Kids Crafts,Preschool Christmas Crafts,Nativity Crafts,Christmas Activities,Christmas Projects,Holiday Crafts,Spring Crafts,Santa Crafts,Nativity Ornaments",
         "image",
         "https://i.pinimg.com/originals/e2/53/b1/e253b15420be1dd5c1adb00dbc86db19.jpg",
         1,
         "Local save in /data/diy-and-crafts",
         "diy-and-crafts"
        ],
        [
         4357,
         "ccf116e9-9096-4943-a344-1960ce216445",
         "First Steps in Launching Your Own Event Business - Learn About Event Planning",
         "Updated: January 25, 2017 You’ve organized some events for your family, friends or community and you have gained a budding reputation for knowing how put events together. You’ve… ",
         "EventPlanning.com | Learn How To Become An Event Planner",
         "4k",
         "Event Planning Quotes,Event Planning Checklist,Event Planning Business,Business Events,Business Ideas,Business Names,Business Opportunities,Corporate Events,Wedding Event Planner",
         "image",
         "https://i.pinimg.com/originals/c3/2b/c6/c32bc6ad263857cb0eea19f9cd12beb9.jpg",
         1,
         "Local save in /data/event-planning",
         "event-planning"
        ],
        [
         3563,
         "bcd69df8-b39e-4373-9304-ca239c5f3e7c",
         "Objectives and Brain Breaks",
         "My school is one of many that will be required to post our daily objectives in our classrooms next year. I've FINALLY finished mine! I purc...",
         "Alexandria Franko",
         "517",
         "Classroom Organisation,Classroom Setup,Future Classroom,Classroom Management,Behavior Management,Classroom Ideas For Teachers,Center Management,2nd Grade Classroom,Classroom Behavior",
         "image",
         "https://i.pinimg.com/originals/a1/e6/29/a1e629d678c1862420749cc1f31a6b9e.jpg",
         1,
         "Local save in /data/education",
         "education"
        ],
        [
         6558,
         "2eb66add-1986-40bd-a0da-8e0b485b3768",
         "12 Genius Laundry Room Organization Hacks - Mommyhooding",
         "I feel like the laundry room doesn’t get a ton of love! I also know that my laundry room (a.k.a the basement) is an absolute hot mess, so I need to start implementing some sort… ",
         "Mommyhooding",
         "13k",
         "Laundry Room Doors,Laundry Room Organization,Laundry Room Design,Diy Organization,Organizing Tips,Laundry Closet,Laundry Supplies,Cleaning Supplies,Cleaning Products",
         "image",
         "https://i.pinimg.com/originals/e5/2d/8d/e52d8d7207b8c0f22600b6fca5d9fa5a.jpg",
         1,
         "Local save in /data/home-decor",
         "home-decor"
        ],
        [
         4256,
         "9086bb60-9fce-46d1-9006-f05a494a05ce",
         "A Critical Study of Current Concepts of Truth in American Educational Theory and Their Educational Implications (Paperback)",
         "A Critical Study of Current Concepts of Truth in American Educational Theory and Their Educational Implications",
         "Walmart",
         "2M",
         "N,o, ,T,a,g,s, ,A,v,a,i,l,a,b,l,e",
         "image",
         "https://i.pinimg.com/originals/d4/59/ee/d459eed424eed9acdbfa8be2634f05e9.jpg",
         1,
         "Local save in /data/education",
         "education"
        ],
        [
         450,
         "a67abfbd-3db5-4f2d-a644-5a456643a9d0",
         "Kindergarten Line Painting Monsters",
         "This week, kindergarten continued their exploration of line, and started these fun line paintings! We used a new medium, to them, oil pastels and tempera cakes. 😄 Here's how we… ",
         "Elements of the Art Room",
         "13k",
         "Kindergarten Art Lessons,Art Lessons For Kids,Art For Kids,Art Projects For Kindergarteners,Monster Kindergarten,Art Children,Halloween Kunst,Halloween Art Projects,Grade 1 Art",
         "image",
         "https://i.pinimg.com/originals/2c/65/70/2c65702ea385bdad057edc4cacf08c19.jpg",
         1,
         "Local save in /data/art",
         "art"
        ],
        [
         3945,
         "80b585d0-105c-4841-9759-0d5b8e067674",
         "Wooden Hand Grab Board Set Educational Toys & Puzzles - White",
         "Made of quality wooden material, it is smooth and durable and non-odor. Cute and colorful design, each carefully constructed piece matches up to coordinating shape on the board.… ",
         "GADGETOVIA",
         "1k",
         "N,o, ,T,a,g,s, ,A,v,a,i,l,a,b,l,e",
         "image",
         "https://i.pinimg.com/originals/37/22/63/3722631f8b5840a2bc1f2ed1040fd04d.jpg",
         1,
         "Local save in /data/education",
         "education"
        ],
        [
         859,
         "80fe5ff8-1429-434b-8020-53122d1c6e1a",
         "40 idées et + de décorations à réaliser avec de simples pierres",
         "La quarantaine est le moment parfait pour s'adonner à l'artisanat en famille!",
         "Joyce Flores",
         "3k",
         "Painted Rock Animals,Painted Rocks Craft,Hand Painted Rocks,Painted Pebbles,Painted Stones,Paint On Rocks,Rock Painting Patterns,Rock Painting Ideas Easy,Rock Painting Designs",
         "image",
         "https://i.pinimg.com/originals/53/c7/a4/53c7a427778fe8a0f0db45b0275f3041.jpg",
         1,
         "Local save in /data/art",
         "art"
        ],
        [
         1521,
         "1bea3880-4177-497b-b54e-287141b689b9",
         "Clinical Formulations with Integrity",
         "Only $6 CAD😍",
         "The Pamper Place",
         "328",
         "Face Skin Care,Diy Skin Care,Skin Tips,Skin Care Tips,Skin Secrets,Schul Survival Kits,Skin Care Routine For 20s,Skincare Routine,Moisturizer For Dry Skin",
         "image",
         "https://i.pinimg.com/originals/c9/b5/ce/c9b5cec07de20f1b28dc812edb1ce483.jpg",
         1,
         "Local save in /data/beauty",
         "beauty"
        ],
        [
         1961,
         "da1c8608-878e-4c32-80f1-eca017d6cd17",
         "2019 Holiday Home Walk Through - Jessica Sara Morris",
         "2019 Holiday Home Walk Through. How we styled our home for Christmas with a little bit of modern, scandanavian, mid century and farmhouse decor.",
         "JESSICA SARA MORRIS | HOME DECOR + DIY ON A BUDGET",
         "36k",
         "Bohemian Christmas,Modern Christmas Decor,Indoor Christmas Decorations,Natural Christmas,Farmhouse Christmas Decor,Noel Christmas,Christmas Aesthetic,Farmhouse Decor,Decorating For Christmas",
         "image",
         "https://i.pinimg.com/originals/9d/b6/3e/9db63e81d01bf00d8d5c6d11e966fabb.jpg",
         1,
         "Local save in /data/christmas",
         "christmas"
        ],
        [
         10099,
         "3bd54ff8-730b-4816-b6f4-3a7f2238589b",
         "The small town of Hallstatt, Austria - Cozy & Comfy",
         "5,237 points • 127 comments",
         "9GAG",
         "3M",
         "Beautiful Places To Travel,Best Places To Travel,Places To See,Beautiful Sites,Best Places To Live,Beautiful World,Beautiful Things,Voyage Dubai,Travel Photographie",
         "image",
         "https://i.pinimg.com/originals/e9/3f/10/e93f104c9931ae559666257ab3228506.png",
         1,
         "Local save in /data/travel",
         "travel"
        ],
        [
         6066,
         "566586e5-bf39-4d0f-a639-72b82ec06e63",
         "23 Marvelous Farmhouse Fall Decor Ideas for Your Home",
         "These farmhouse fall decor ideas will help you decorate every room in your home for the autumn season in the coziest way possible!",
         "Curated Interior",
         "67k",
         "Decoration Design,Deco Design,Fall Home Decor,Autumn Home,Home Living Room,Living Room Decor,Love Your Home,Cozy House,Home Decor Inspiration",
         "image",
         "https://i.pinimg.com/originals/21/49/2a/21492a428cdd51fcffde6e0579f07ca3.jpg",
         1,
         "Local save in /data/home-decor",
         "home-decor"
        ],
        [
         10837,
         "8561ed44-7e63-471b-90a5-b6e568ae7e0b",
         "Dave's Way",
         "If you're not having fun, do something else. Ventura, CA - hot rods, classic sportscars, science fiction, bicycles, motorcycles, boats, architecture, photography. I personally l… ",
         "Desiree Weitzenhoffer",
         "196",
         "Bmw Isetta,Fiat 126,Automobile,Old Vintage Cars,Microcar,Bizarre,Weird Cars,Cute Cars,Unique Cars",
         "image",
         "https://i.pinimg.com/originals/17/ef/2d/17ef2d989eeafc043d5cea9f46e5d6db.jpg",
         1,
         "Local save in /data/vehicles",
         "vehicles"
        ],
        [
         6615,
         "4f8ac7da-93cb-41b9-9e05-b258d9cf8a35",
         "Under The Sink Kitchen Organzation",
         "No description available Story format",
         "Organize Ways",
         "2k",
         "Under Kitchen Sink Organization,Home Organization Hacks,Pantry Organization,Kitchen Storage,Tank Top Organization,Medicine Cabinet Organization,Organizing Ideas,Apartment Kitchen,Home Decor Kitchen",
         "multi-video(story page format)",
         "https://i.pinimg.com/videos/thumbnails/originals/32/31/92/323192e2cce37501f423a9b23009bd23.0000001.jpg",
         1,
         "Local save in /data/home-decor",
         "home-decor"
        ],
        [
         7641,
         "ddd4c9c0-b5fe-4db1-9699-78f26d991073",
         "Find someone you can be completely free with",
         "Find someone you can be completely free with",
         "The Minds Journal",
         "5M",
         "Soulmate Love Quotes,True Quotes,Words Quotes,Sayings,Emo Quotes,Twin Flame Relationship,Relationship Quotes,Relationships,Spiritual Quotes",
         "image",
         "https://i.pinimg.com/originals/a7/79/f2/a779f22cab937c344b99a49822acd04a.jpg",
         1,
         "Local save in /data/quotes",
         "quotes"
        ],
        [
         640,
         "21714ca6-26c3-424a-ba86-b34fe75c3015",
         "Caption This Image and Selected Wisepicks - 15 December 2020",
         "Provide a creative, relevant caption for the picture below and get selected and featured with your name and caption. We select 15+ of the best captions! and publish them on our… ",
         "The Minds Journal",
         "5M",
         "Arte Obscura,Arte Sketchbook,Funky Art,Pics Art,Psychedelic Art,Art Drawings Sketches,Art And Illustration,Surreal Art,Aesthetic Art",
         "image",
         "https://i.pinimg.com/originals/49/de/c9/49dec977a3555fb777ad3a3fd98b092f.jpg",
         1,
         "Local save in /data/art",
         "art"
        ],
        [
         8174,
         "933fef6a-ebca-4d25-bc2a-3190c1490b75",
         "18 Daily Motivational Quotes You Need In 2018 - Dare to Cultivate",
         "#quotes #quote #inspirationalquotes #motivationalquotes #quoteoftheday #Motivation #Inspiration #inspirational #Success #wisdom #amazingquotes #quoteoftheday // success quote //… ",
         "Dare to Cultivate",
         "7k",
         "Motivacional Quotes,Daily Motivational Quotes,Yoga Quotes,Words Quotes,Wise Words,Positive Quotes,Inspiring Quotes,Positive Affirmations,Inspirational Quotes About Success",
         "image",
         "https://i.pinimg.com/originals/4b/d6/1b/4bd61b788bc792d9a36e67dbd4a7b50a.jpg",
         1,
         "Local save in /data/quotes",
         "quotes"
        ],
        [
         1216,
         "4123ab8b-3ca3-411e-8763-92899ec991aa",
         "10 Ways to Use MAC Prep + Prime Fix+. — Beautiful Makeup Search",
         "I've been using MAC Prep + Prime Fix+ since its inception. The original makeup hydrating mist, this popular beauty product has sort of taken on a life of its own as users have d… ",
         "Beautiful Makeup Search",
         "159k",
         "Makeup Dupes,Makeup Kit,Makeup Cosmetics,Sephora Makeup,Face Makeup,Fix Plus Mac,Everyday Beauty Routine,Everyday Makeup,Mac Chatterbox",
         "image",
         "https://i.pinimg.com/originals/90/bd/d4/90bdd4be9991dd4449d3d699e0b17963.jpg",
         1,
         "Local save in /data/beauty",
         "beauty"
        ],
        [
         680,
         "898e3977-a49e-453c-94a1-689aedfee0ca",
         "The Supplies are in Charge of the Play! - Carolyn Dube",
         "Ever wonder if the things around your art studio come to life when you aren’t there – like in Toy Story? I am beginning to think that they really do. This cluster of stuff all s… ",
         "Carolyn Dube",
         "40k",
         "Art Journal Pages,Art Journal Challenge,Art Journal Backgrounds,Art Journal Prompts,Art Journal Techniques,Journal Ideas,Art Journals,Visual Journals,Art Pages",
         "image",
         "https://i.pinimg.com/originals/75/e5/cf/75e5cf9d6be96f10a87cd5f201de477b.jpg",
         1,
         "Local save in /data/art",
         "art"
        ],
        [
         9527,
         "7c1f0f6b-2098-4145-9aed-0eece1d7c029",
         "Solo Female Traveller Fears + How to Overcome Them - One World Wanderer",
         "These common solo travel fears are not something you are going through alone- here are a some of the common fears you can face as a solo female traveler. #solotravel #solofemale… ",
         "One World Wanderer | Travel Blogger",
         "1k",
         "Solo Travel Tips,Travel Advice,Travel Guides,Travel Hacks,Travel Info,Budget Travel,Amazing Destinations,Travel Destinations,Voyager Seul",
         "image",
         "https://i.pinimg.com/originals/13/cf/d9/13cfd91ebe35cea166268c76bcdeff75.jpg",
         1,
         "Local save in /data/travel",
         "travel"
        ],
        [
         9426,
         "dc6f593a-6c1f-4b1b-908f-6b7d44ecbb50",
         "Tattoos🤍",
         "No description available Story format",
         "kayyla.april",
         "2k",
         "Classy Tattoos,Dainty Tattoos,Girly Tattoos,Mini Tattoos,Small Tattoos,Trendy Tattoos,Unique Tattoos,Tatoos,Pretty Hand Tattoos",
         "multi-video(story page format)",
         "Image src error.",
         0,
         "Local save in /data/tattoos",
         "tattoos"
        ],
        [
         8745,
         "644f7257-7d5d-41f7-a74a-34312c3050fe",
         "Dope Tattoos",
         "No description available",
         "Addymae Rodi",
         "41",
         "Dope Tattoos,Sun Tattoos,Family Tattoos,Pretty Tattoos,Unique Tattoos,Beautiful Tattoos,Body Art Tattoos,Small Tattoos,Beautiful Moon",
         "image",
         "https://i.pinimg.com/originals/61/96/0e/61960e96dd799bc4fade3c3104e9f6f3.jpg",
         1,
         "Local save in /data/tattoos",
         "tattoos"
        ],
        [
         5959,
         "e281cc85-4c05-486b-95e1-e78124065f9a",
         "11 Home Decor Trends For 2021",
         "Easy and affordable home decor trends for 2021",
         "Lantern Lane Designs|Home Decor|DIY Projects|DIY Home Decor",
         "25k",
         "Home Decor Trends,Home Decor Styles,Home Decor Inspiration,Decor Ideas,Styles Of Decorating,Decorating A New Home,Decorating Ideas,Interior Decorating Styles,Family Room Decorating",
         "image",
         "https://i.pinimg.com/originals/e7/a4/8c/e7a48c77cc1bc9742f100a77a618062b.png",
         1,
         "Local save in /data/home-decor",
         "home-decor"
        ],
        [
         2577,
         "b1ce08b4-ffc6-4d4e-ad75-a32be401d206",
         "Gingerbread Boy FigurineGingerbread Boy Figurine",
         "Looks good enough to eat! Surprise your Christmas festivities with this delectable Gingerbread Boy Oversized Figurine. Add a sense of warmth to every holiday gathering. Features… ",
         "Wear24-7",
         "5k",
         "Gingerbread Christmas Decor,Snowman Christmas Decorations,Gingerbread Decorations,Gingerbread Ornaments,Decorating With Christmas Lights,Christmas Snowman,Gingerbread Cookies,Christmas Crafts,Christmas Ideas",
         "image",
         "https://i.pinimg.com/originals/80/d8/6a/80d86a31a227ebb78a4b21392f7a10ba.jpg",
         1,
         "Local save in /data/christmas",
         "christmas"
        ],
        [
         3008,
         "649ca299-a339-4136-a126-501515c93c8d",
         "Upcycled Denim Rag Rug DIY Instructions",
         "Turn those old jeans into practical rag rugs with just some scrap yarn and a little crochet know-how. I'll show you how to cut the jeans into strips and crochet them together to… ",
         "My Poppet - A Craft, Travel & Food Blog for Colourful Living",
         "100k",
         "Pot Mason Diy,Mason Jar Crafts,Bottle Crafts,Rag Rug Diy,Diy Crochet Rag Rug,Scrap Yarn Crochet,Diy Rugs,Crochet Rug Patterns,Free Crochet",
         "video",
         "https://i.pinimg.com/videos/thumbnails/originals/0b/10/af/0b10af74b987322a6f4384470bf4eaf0.0000001.jpg",
         1,
         "Local save in /data/diy-and-crafts",
         "diy-and-crafts"
        ],
        [
         8081,
         "d8d98ce8-d57f-4bc2-990e-04b0ba09a8b4",
         "Love Quotes For Him To Her. QuotesGram",
         "Discover and share Love Quotes For Him To Her. Explore our collection of motivational and famous quotes by authors you know and love.",
         "Autumn Shepardson",
         "2k",
         "Sexy Quotes For Him,Love Quotes For Him Romantic,Cute Love Quotes,Great Quotes,Quotes To Live By,Inspirational Quotes,Missing Quotes For Him,You Are Mine Quotes,Shes The One Quotes",
         "image",
         "https://i.pinimg.com/originals/d4/fe/29/d4fe29641d8c264a0bb59e261712f1c9.jpg",
         1,
         "Local save in /data/quotes",
         "quotes"
        ],
        [
         10120,
         "9d18af84-7e86-42d1-8415-63cf1f8dd45e",
         "Where to Stay in London + The Best Hotels in London: Area by Area",
         "Travelling to London and wondering where to stay? Don't miss this insider's guide to the best areas to stay in London and the best hotels in London. Cool things to do and places… ",
         "London x London -  Cool Things To Do + London Travel",
         "376",
         "London Places,London Hotels,London England Hotels,London England Travel,London Restaurants,Cool Places To Visit,Places To Travel,Places To Go,Travel Destinations",
         "image",
         "https://i.pinimg.com/originals/53/bb/29/53bb29993450a1fb5223bcaf524d9deb.jpg",
         1,
         "Local save in /data/travel",
         "travel"
        ],
        [
         4045,
         "f0c605d7-75bc-4b60-a9ec-e2d64eb29687",
         "K&S™ Round Brass Tube: 3mm OD x 0.225mm Wall x 300mm Long (3 Pieces)",
         "Our mission at K&S is to supply you with high-quality metals for your projects. Through precision machinery and great talent, we can supply 100s of stocked products along with c… ",
         "K&S Precision Metals",
         "5",
         "Hobbies And Crafts,Arts And Crafts,Home Crafts,Diy Crafts,Stop Motion,Craft Stores,Metals,Planes,Trains",
         "image",
         "https://i.pinimg.com/originals/12/d4/17/12d4177dc859be6e33f627d5d0006955.png",
         1,
         "Local save in /data/education",
         "education"
        ],
        [
         1599,
         "aaf8f442-fed5-494f-a84b-64c5e8dc9fea",
         "Bb Beauty",
         "27 DIY Beauty Hacks",
         "Karen Red",
         "213",
         "Bb Beauty,Beauty Care,Beauty Makeup,Fashion Beauty,Hair Beauty,Natural Beauty,Beauty Skin,Diy Beauty Hacks,Beauty Hacks For Teens",
         "image",
         "https://i.pinimg.com/originals/2c/6b/2a/2c6b2a79ce32ad125806b9a42cd00555.jpg",
         1,
         "Local save in /data/beauty",
         "beauty"
        ],
        [
         2893,
         "f17602e4-4a50-452d-b8ee-de70774b6cdc",
         "How to make handmade  paper",
         "No description available Story format",
         "Bhavani's Creations",
         "630",
         "Craft Room Decor,Diy Crafts For Home Decor,Diy Crafts Hacks,Diy Crafts For Gifts,Diy Arts And Crafts,Creative Crafts,Creative Project Ideas,Handmade Crafts,Diys",
         "multi-video(story page format)",
         "https://i.pinimg.com/videos/thumbnails/originals/48/7c/d1/487cd1ac4f607b4ef6c7eb7329d13786.0000001.jpg",
         1,
         "Local save in /data/diy-and-crafts",
         "diy-and-crafts"
        ],
        [
         4024,
         "662e0d01-4ee4-45db-9885-08dd5379baa8",
         "IEP Tubs",
         "Special education, IEP, IEP Tubs, classroom management, classroom ideas, centers, sped centers",
         "Traci Bender - The Bender Bunch",
         "11k",
         "Teaching Special Education,Teaching Tools,Teacher Resources,Teaching Ideas,Art Education,Elementary Education,Resource Room Teacher,Special Education Quotes,Primary Education",
         "image",
         "https://i.pinimg.com/originals/09/ae/d8/09aed8c3e1a0d3910ae91010538b81d6.jpg",
         1,
         "Local save in /data/education",
         "education"
        ],
        [
         310,
         "2afd584f-ce06-4358-8372-fe0b01fbd288",
         "2nd grade Polar Bears",
         "Welcome back! So glad to see all of you! This week, 2nd grade is going to be starting this cute lil polar bear, inspired by the fabulous Lauralee Chambers! Here's a link to her… ",
         "Elements of the Art Room",
         "13k",
         "Art Lessons For Kids,Art Lessons Elementary,Art For Kids,Elementary Art Education,Elementary Art Rooms,Art 2nd Grade,Grade 2,Art D'ours,Arte Elemental",
         "image",
         "https://i.pinimg.com/originals/bb/32/4d/bb324dfa309b719eef404888c52cf56b.jpg",
         1,
         "Local save in /data/art",
         "art"
        ],
        [
         7905,
         "8307e007-7168-4719-b1b4-1193ce98d64e",
         "Super-Sweet  and Short Love  Quotes  for All the Romantics  ...",
         "Coco Chanel • Winnie the Pooh • It's True • Turn Back the Clock • The Smile You Gave Me • More ...",
         "Inloversva",
         "18k",
         "Good Life Quotes,Quotes For Him,Great Quotes,Quotes To Live By,Funny Quotes,Inspirational Quotes,Be Mine Quotes,Miss You Already Quotes,Sweet Quotes For Her",
         "image",
         "https://i.pinimg.com/originals/93/5a/5d/935a5dfc1178216595149c15bee4ce80.jpg",
         1,
         "Local save in /data/quotes",
         "quotes"
        ]
       ],
       "datasetInfos": [],
       "dbfsResultPath": null,
       "isJsonSchema": true,
       "metadata": {},
       "overflow": false,
       "plotOptions": {
        "customPlotOptions": {},
        "displayType": "table",
        "pivotAggregation": null,
        "pivotColumns": null,
        "xColumns": null,
        "yColumns": null
       },
       "removedWidgets": [],
       "schema": [
        {
         "metadata": "{}",
         "name": "index",
         "type": "\"integer\""
        },
        {
         "metadata": "{}",
         "name": "unique_id",
         "type": "\"string\""
        },
        {
         "metadata": "{}",
         "name": "title",
         "type": "\"string\""
        },
        {
         "metadata": "{}",
         "name": "description",
         "type": "\"string\""
        },
        {
         "metadata": "{}",
         "name": "poster_name",
         "type": "\"string\""
        },
        {
         "metadata": "{}",
         "name": "follower_count",
         "type": "\"string\""
        },
        {
         "metadata": "{}",
         "name": "tag_list",
         "type": "\"string\""
        },
        {
         "metadata": "{}",
         "name": "is_image_or_video",
         "type": "\"string\""
        },
        {
         "metadata": "{}",
         "name": "image_src",
         "type": "\"string\""
        },
        {
         "metadata": "{}",
         "name": "downloaded",
         "type": "\"integer\""
        },
        {
         "metadata": "{}",
         "name": "save_location",
         "type": "\"string\""
        },
        {
         "metadata": "{}",
         "name": "category",
         "type": "\"string\""
        }
       ],
       "type": "table"
      }
     },
     "output_type": "display_data"
    },
    {
     "output_type": "display_data",
     "data": {
      "text/plain": [
       "\u001B[0;31m---------------------------------------------------------------------------\u001B[0m\n",
       "\u001B[0;31mNameError\u001B[0m                                 Traceback (most recent call last)\n",
       "File \u001B[0;32m<command-4087974376823059>, line 19\u001B[0m\n",
       "\u001B[1;32m      3\u001B[0m \u001B[38;5;28;01mfrom\u001B[39;00m \u001B[38;5;21;01mpyspark\u001B[39;00m\u001B[38;5;21;01m.\u001B[39;00m\u001B[38;5;21;01msql\u001B[39;00m\u001B[38;5;21;01m.\u001B[39;00m\u001B[38;5;21;01mtypes\u001B[39;00m \u001B[38;5;28;01mimport\u001B[39;00m StructType, StructField, StringType, IntegerType\n",
       "\u001B[1;32m      6\u001B[0m stream_pin_df \u001B[38;5;241m=\u001B[39m spark \\\n",
       "\u001B[1;32m      7\u001B[0m     \u001B[38;5;241m.\u001B[39mreadStream \\\n",
       "\u001B[1;32m      8\u001B[0m     \u001B[38;5;241m.\u001B[39mformat(\u001B[38;5;124m'\u001B[39m\u001B[38;5;124mkinesis\u001B[39m\u001B[38;5;124m'\u001B[39m) \\\n",
       "\u001B[0;32m   (...)\u001B[0m\n",
       "\u001B[1;32m     13\u001B[0m     \u001B[38;5;241m.\u001B[39moption(\u001B[38;5;124m'\u001B[39m\u001B[38;5;124msecretAccessKey\u001B[39m\u001B[38;5;124m'\u001B[39m, SECRET_KEY) \\\n",
       "\u001B[1;32m     14\u001B[0m     \u001B[38;5;241m.\u001B[39mload()\n",
       "\u001B[1;32m     17\u001B[0m pin_schema \u001B[38;5;241m=\u001B[39m StructType([\n",
       "\u001B[1;32m     18\u001B[0m     StructField(\u001B[38;5;124m\"\u001B[39m\u001B[38;5;124mindex\u001B[39m\u001B[38;5;124m\"\u001B[39m, IntegerType(), \u001B[38;5;28;01mTrue\u001B[39;00m),\n",
       "\u001B[0;32m---> 19\u001B[0m     Structfield(\u001B[38;5;124m\"\u001B[39m\u001B[38;5;124munique_id\u001B[39m\u001B[38;5;124m\"\u001B[39m, StringType(), \u001B[38;5;28;01mTrue\u001B[39;00m),\n",
       "\u001B[1;32m     20\u001B[0m     StructField(\u001B[38;5;124m\"\u001B[39m\u001B[38;5;124mtitle\u001B[39m\u001B[38;5;124m\"\u001B[39m, StringType(), \u001B[38;5;28;01mTrue\u001B[39;00m),\n",
       "\u001B[1;32m     21\u001B[0m     StructField(\u001B[38;5;124m\"\u001B[39m\u001B[38;5;124mdescription\u001B[39m\u001B[38;5;124m\"\u001B[39m, StringType(), \u001B[38;5;28;01mTrue\u001B[39;00m),\n",
       "\u001B[1;32m     22\u001B[0m     StructField(\u001B[38;5;124m\"\u001B[39m\u001B[38;5;124mposter_name\u001B[39m\u001B[38;5;124m\"\u001B[39m, StringType(), \u001B[38;5;28;01mTrue\u001B[39;00m),\n",
       "\u001B[1;32m     23\u001B[0m     StructField(\u001B[38;5;124m\"\u001B[39m\u001B[38;5;124mfollower_count\u001B[39m\u001B[38;5;124m\"\u001B[39m, IntegerType(), \u001B[38;5;28;01mTrue\u001B[39;00m),\n",
       "\u001B[1;32m     24\u001B[0m     StructField(\u001B[38;5;124m\"\u001B[39m\u001B[38;5;124mtag_list\u001B[39m\u001B[38;5;124m\"\u001B[39m, StringType(), \u001B[38;5;28;01mTrue\u001B[39;00m),\n",
       "\u001B[1;32m     25\u001B[0m     StructField(\u001B[38;5;124m\"\u001B[39m\u001B[38;5;124mis_image_or_video\u001B[39m\u001B[38;5;124m\"\u001B[39m, StringType(), \u001B[38;5;28;01mTrue\u001B[39;00m),\n",
       "\u001B[1;32m     26\u001B[0m     StructField(\u001B[38;5;124m\"\u001B[39m\u001B[38;5;124mimage_src\u001B[39m\u001B[38;5;124m\"\u001B[39m, StringType(), \u001B[38;5;28;01mTrue\u001B[39;00m),\n",
       "\u001B[1;32m     27\u001B[0m     StructField(\u001B[38;5;124m\"\u001B[39m\u001B[38;5;124mdownloaded\u001B[39m\u001B[38;5;124m\"\u001B[39m, IntegerType(), \u001B[38;5;28;01mTrue\u001B[39;00m),\n",
       "\u001B[1;32m     28\u001B[0m     StructField(\u001B[38;5;124m\"\u001B[39m\u001B[38;5;124msave_location\u001B[39m\u001B[38;5;124m\"\u001B[39m, StringType(), \u001B[38;5;28;01mTrue\u001B[39;00m),\n",
       "\u001B[1;32m     29\u001B[0m     StructField(\u001B[38;5;124m\"\u001B[39m\u001B[38;5;124mcategory\u001B[39m\u001B[38;5;124m\"\u001B[39m, StringType(), \u001B[38;5;28;01mTrue\u001B[39;00m),])\n",
       "\u001B[1;32m     33\u001B[0m stream_pin_df \u001B[38;5;241m=\u001B[39m stream_pin_df\u001B[38;5;241m.\u001B[39mfilter(stream_pin_df\u001B[38;5;241m.\u001B[39mpartitionKey \u001B[38;5;241m==\u001B[39m \u001B[38;5;124m\"\u001B[39m\u001B[38;5;124mpin-partition\u001B[39m\u001B[38;5;124m\"\u001B[39m)\n",
       "\u001B[1;32m     34\u001B[0m stream_pin_df \u001B[38;5;241m=\u001B[39m stream_pin_df\u001B[38;5;241m.\u001B[39mselectExpr(\u001B[38;5;124m\"\u001B[39m\u001B[38;5;124mCAST(data as STRING) jsonData\u001B[39m\u001B[38;5;124m\"\u001B[39m)\n",
       "\n",
       "\u001B[0;31mNameError\u001B[0m: name 'Structfield' is not defined"
      ]
     },
     "metadata": {
      "application/vnd.databricks.v1+output": {
       "addedWidgets": {},
       "arguments": {},
       "datasetInfos": [],
       "jupyterProps": {
        "ename": "NameError",
        "evalue": "name 'Structfield' is not defined"
       },
       "metadata": {
        "errorSummary": ""
       },
       "removedWidgets": [],
       "sqlProps": null,
       "stackFrames": [
        "\u001B[0;31m---------------------------------------------------------------------------\u001B[0m",
        "\u001B[0;31mNameError\u001B[0m                                 Traceback (most recent call last)",
        "File \u001B[0;32m<command-4087974376823059>, line 19\u001B[0m\n\u001B[1;32m      3\u001B[0m \u001B[38;5;28;01mfrom\u001B[39;00m \u001B[38;5;21;01mpyspark\u001B[39;00m\u001B[38;5;21;01m.\u001B[39;00m\u001B[38;5;21;01msql\u001B[39;00m\u001B[38;5;21;01m.\u001B[39;00m\u001B[38;5;21;01mtypes\u001B[39;00m \u001B[38;5;28;01mimport\u001B[39;00m StructType, StructField, StringType, IntegerType\n\u001B[1;32m      6\u001B[0m stream_pin_df \u001B[38;5;241m=\u001B[39m spark \\\n\u001B[1;32m      7\u001B[0m     \u001B[38;5;241m.\u001B[39mreadStream \\\n\u001B[1;32m      8\u001B[0m     \u001B[38;5;241m.\u001B[39mformat(\u001B[38;5;124m'\u001B[39m\u001B[38;5;124mkinesis\u001B[39m\u001B[38;5;124m'\u001B[39m) \\\n\u001B[0;32m   (...)\u001B[0m\n\u001B[1;32m     13\u001B[0m     \u001B[38;5;241m.\u001B[39moption(\u001B[38;5;124m'\u001B[39m\u001B[38;5;124msecretAccessKey\u001B[39m\u001B[38;5;124m'\u001B[39m, SECRET_KEY) \\\n\u001B[1;32m     14\u001B[0m     \u001B[38;5;241m.\u001B[39mload()\n\u001B[1;32m     17\u001B[0m pin_schema \u001B[38;5;241m=\u001B[39m StructType([\n\u001B[1;32m     18\u001B[0m     StructField(\u001B[38;5;124m\"\u001B[39m\u001B[38;5;124mindex\u001B[39m\u001B[38;5;124m\"\u001B[39m, IntegerType(), \u001B[38;5;28;01mTrue\u001B[39;00m),\n\u001B[0;32m---> 19\u001B[0m     Structfield(\u001B[38;5;124m\"\u001B[39m\u001B[38;5;124munique_id\u001B[39m\u001B[38;5;124m\"\u001B[39m, StringType(), \u001B[38;5;28;01mTrue\u001B[39;00m),\n\u001B[1;32m     20\u001B[0m     StructField(\u001B[38;5;124m\"\u001B[39m\u001B[38;5;124mtitle\u001B[39m\u001B[38;5;124m\"\u001B[39m, StringType(), \u001B[38;5;28;01mTrue\u001B[39;00m),\n\u001B[1;32m     21\u001B[0m     StructField(\u001B[38;5;124m\"\u001B[39m\u001B[38;5;124mdescription\u001B[39m\u001B[38;5;124m\"\u001B[39m, StringType(), \u001B[38;5;28;01mTrue\u001B[39;00m),\n\u001B[1;32m     22\u001B[0m     StructField(\u001B[38;5;124m\"\u001B[39m\u001B[38;5;124mposter_name\u001B[39m\u001B[38;5;124m\"\u001B[39m, StringType(), \u001B[38;5;28;01mTrue\u001B[39;00m),\n\u001B[1;32m     23\u001B[0m     StructField(\u001B[38;5;124m\"\u001B[39m\u001B[38;5;124mfollower_count\u001B[39m\u001B[38;5;124m\"\u001B[39m, IntegerType(), \u001B[38;5;28;01mTrue\u001B[39;00m),\n\u001B[1;32m     24\u001B[0m     StructField(\u001B[38;5;124m\"\u001B[39m\u001B[38;5;124mtag_list\u001B[39m\u001B[38;5;124m\"\u001B[39m, StringType(), \u001B[38;5;28;01mTrue\u001B[39;00m),\n\u001B[1;32m     25\u001B[0m     StructField(\u001B[38;5;124m\"\u001B[39m\u001B[38;5;124mis_image_or_video\u001B[39m\u001B[38;5;124m\"\u001B[39m, StringType(), \u001B[38;5;28;01mTrue\u001B[39;00m),\n\u001B[1;32m     26\u001B[0m     StructField(\u001B[38;5;124m\"\u001B[39m\u001B[38;5;124mimage_src\u001B[39m\u001B[38;5;124m\"\u001B[39m, StringType(), \u001B[38;5;28;01mTrue\u001B[39;00m),\n\u001B[1;32m     27\u001B[0m     StructField(\u001B[38;5;124m\"\u001B[39m\u001B[38;5;124mdownloaded\u001B[39m\u001B[38;5;124m\"\u001B[39m, IntegerType(), \u001B[38;5;28;01mTrue\u001B[39;00m),\n\u001B[1;32m     28\u001B[0m     StructField(\u001B[38;5;124m\"\u001B[39m\u001B[38;5;124msave_location\u001B[39m\u001B[38;5;124m\"\u001B[39m, StringType(), \u001B[38;5;28;01mTrue\u001B[39;00m),\n\u001B[1;32m     29\u001B[0m     StructField(\u001B[38;5;124m\"\u001B[39m\u001B[38;5;124mcategory\u001B[39m\u001B[38;5;124m\"\u001B[39m, StringType(), \u001B[38;5;28;01mTrue\u001B[39;00m),])\n\u001B[1;32m     33\u001B[0m stream_pin_df \u001B[38;5;241m=\u001B[39m stream_pin_df\u001B[38;5;241m.\u001B[39mfilter(stream_pin_df\u001B[38;5;241m.\u001B[39mpartitionKey \u001B[38;5;241m==\u001B[39m \u001B[38;5;124m\"\u001B[39m\u001B[38;5;124mpin-partition\u001B[39m\u001B[38;5;124m\"\u001B[39m)\n\u001B[1;32m     34\u001B[0m stream_pin_df \u001B[38;5;241m=\u001B[39m stream_pin_df\u001B[38;5;241m.\u001B[39mselectExpr(\u001B[38;5;124m\"\u001B[39m\u001B[38;5;124mCAST(data as STRING) jsonData\u001B[39m\u001B[38;5;124m\"\u001B[39m)\n",
        "\u001B[0;31mNameError\u001B[0m: name 'Structfield' is not defined"
       ],
       "type": "baseError"
      }
     },
     "output_type": "display_data"
    }
   ],
   "source": [
    "from pyspark.sql.functions import expr\n",
    "from pyspark.sql.functions import from_json\n",
    "from pyspark.sql.types import StructType, StructField, StringType, IntegerType\n",
    "\n",
    "\n",
    "stream_pin_df = spark \\\n",
    "    .readStream \\\n",
    "    .format('kinesis') \\\n",
    "    .option('streamName', 'Kinesis-Prod-Stream') \\\n",
    "    .option('initialPosition', 'latest') \\\n",
    "    .option('region', 'us-east-1') \\\n",
    "    .option('accessKeyId', ACCESS_KEY) \\\n",
    "    .option('secretAccessKey', SECRET_KEY) \\\n",
    "    .load()\n",
    "\n",
    "\n",
    "pin_schema = StructType([\n",
    "    StructField(\"index\", IntegerType(), True),\n",
    "    StructField(\"unique_id\", StringType(), True),\n",
    "    StructField(\"title\", StringType(), True),\n",
    "    StructField(\"description\", StringType(), True),\n",
    "    StructField(\"poster_name\", StringType(), True),\n",
    "    StructField(\"follower_count\", StringType(), True),\n",
    "    StructField(\"tag_list\", StringType(), True),\n",
    "    StructField(\"is_image_or_video\", StringType(), True),\n",
    "    StructField(\"image_src\", StringType(), True),\n",
    "    StructField(\"downloaded\", IntegerType(), True),\n",
    "    StructField(\"save_location\", StringType(), True),\n",
    "    StructField(\"category\", StringType(), True),\n",
    "    ])\n",
    "\n",
    "\n",
    "\n",
    "stream_pin_df = stream_pin_df.filter(stream_pin_df.partitionKey == \"pin-partition\")\n",
    "stream_pin_df = stream_pin_df.selectExpr(\"CAST(data as STRING) jsonData\")\n",
    "stream_pin_df = stream_pin_df.select(from_json(\"jsonData\", pin_schema).alias(\"data\")).select(\"data.*\")\n",
    "\n",
    "display(stream_pin_df)\n",
    "    "
   ]
  },
  {
   "cell_type": "code",
   "execution_count": 0,
   "metadata": {
    "application/vnd.databricks.v1+cell": {
     "cellMetadata": {
      "byteLimit": 2048000,
      "rowLimit": 10000
     },
     "inputWidgets": {},
     "nuid": "5c5054f9-7d87-4cc9-ba88-228f24a30157",
     "showTitle": false,
     "tableResultSettingsMap": {},
     "title": ""
    }
   },
   "outputs": [
    {
     "output_type": "display_data",
     "data": {
      "text/html": [
       "<style scoped>\n",
       "  .table-result-container {\n",
       "    max-height: 300px;\n",
       "    overflow: auto;\n",
       "  }\n",
       "  table, th, td {\n",
       "    border: 1px solid black;\n",
       "    border-collapse: collapse;\n",
       "  }\n",
       "  th, td {\n",
       "    padding: 5px;\n",
       "  }\n",
       "  th {\n",
       "    text-align: left;\n",
       "  }\n",
       "</style><div class='table-result-container'><table class='table-result'><thead style='background-color: white'><tr><th>ind</th><th>timestamp</th><th>latitude</th><th>longitude</th><th>country</th></tr></thead><tbody><tr><td>719</td><td>2018-10-29T04:05:12</td><td>-38.4062</td><td>-154.323</td><td>Armenia</td></tr><tr><td>1704</td><td>2018-11-29T04:46:39</td><td>-56.8702</td><td>-93.6232</td><td>Christmas Island</td></tr><tr><td>2482</td><td>2019-09-13T08:20:13</td><td>63.4563</td><td>-164.709</td><td>Bermuda</td></tr><tr><td>8930</td><td>2021-09-29T13:25:49</td><td>-89.4739</td><td>-176.154</td><td>Argentina</td></tr><tr><td>7294</td><td>2018-02-12T08:06:28</td><td>-76.2967</td><td>-136.501</td><td>Australia</td></tr><tr><td>808</td><td>2019-01-03T15:43:12</td><td>-71.6856</td><td>-179.126</td><td>Albania</td></tr><tr><td>771</td><td>2018-06-21T08:42:57</td><td>-29.1712</td><td>-107.111</td><td>Montserrat</td></tr><tr><td>4076</td><td>2019-06-07T20:13:50</td><td>-67.2157</td><td>27.8139</td><td>Mauritania</td></tr><tr><td>1545</td><td>2022-06-17T05:47:12</td><td>-30.18</td><td>-72.3784</td><td>Anguilla</td></tr><tr><td>2293</td><td>2022-03-21T10:46:53</td><td>-87.7946</td><td>-159.647</td><td>British Virgin Islands</td></tr><tr><td>10509</td><td>2019-03-06T12:21:56</td><td>-67.187</td><td>-24.2977</td><td>Gibraltar</td></tr><tr><td>2015</td><td>2018-09-22T13:52:19</td><td>-17.629</td><td>-177.685</td><td>Armenia</td></tr><tr><td>1094</td><td>2018-08-19T00:34:20</td><td>-46.7328</td><td>-124.445</td><td>Armenia</td></tr><tr><td>603</td><td>2019-06-25T05:13:01</td><td>14.0083</td><td>-141.603</td><td>Netherlands Antilles</td></tr><tr><td>7768</td><td>2018-05-25T21:34:19</td><td>-88.355</td><td>-96.0131</td><td>Algeria</td></tr><tr><td>5630</td><td>2019-05-12T14:43:19</td><td>-19.1403</td><td>-164.987</td><td>Bahrain</td></tr><tr><td>8578</td><td>2018-01-26T19:27:11</td><td>34.6427</td><td>-161.397</td><td>Guinea-Bissau</td></tr><tr><td>9936</td><td>2018-06-30T22:07:13</td><td>-82.1715</td><td>-147.691</td><td>Australia</td></tr><tr><td>6844</td><td>2021-06-06T21:53:11</td><td>-22.6915</td><td>5.69245</td><td>New Caledonia</td></tr><tr><td>3419</td><td>2021-12-20T05:01:54</td><td>7.60293</td><td>-108.979</td><td>Bhutan</td></tr><tr><td>1268</td><td>2019-07-06T04:10:29</td><td>-41.7803</td><td>-177.23</td><td>Argentina</td></tr><tr><td>6566</td><td>2020-11-19T10:06:13</td><td>-39.225</td><td>-71.6593</td><td>Cape Verde</td></tr><tr><td>1555</td><td>2017-12-24T18:41:23</td><td>-1.7046</td><td>-55.332</td><td>Algeria</td></tr><tr><td>3729</td><td>2018-01-17T03:43:38</td><td>-24.4793</td><td>-150.145</td><td>Turkey</td></tr><tr><td>6398</td><td>2020-01-19T01:49:05</td><td>-3.29267</td><td>-179.726</td><td>Albania</td></tr><tr><td>46</td><td>2018-09-15T09:16:57</td><td>4.21689</td><td>-145.82</td><td>Afghanistan</td></tr><tr><td>4988</td><td>2020-07-11T11:01:12</td><td>-32.1879</td><td>-35.2784</td><td>Madagascar</td></tr><tr><td>427</td><td>2020-04-22T03:08:50</td><td>-66.9418</td><td>-30.0087</td><td>Isle of Man</td></tr><tr><td>3800</td><td>2018-01-27T16:49:07</td><td>-61.471</td><td>-154.912</td><td>Aruba</td></tr><tr><td>159</td><td>2017-11-20T21:14:56</td><td>-88.0812</td><td>-166.603</td><td>Andorra</td></tr><tr><td>3599</td><td>2019-03-03T06:13:41</td><td>-88.5478</td><td>-174.971</td><td>Afghanistan</td></tr><tr><td>10552</td><td>2020-08-24T11:39:32</td><td>32.7568</td><td>-179.812</td><td>Grenada</td></tr><tr><td>1422</td><td>2018-04-30T08:27:21</td><td>-88.5252</td><td>-172.436</td><td>American Samoa</td></tr><tr><td>5309</td><td>2020-05-04T22:00:32</td><td>-89.4194</td><td>-84.2493</td><td>Maldives</td></tr><tr><td>552</td><td>2022-03-14T05:12:07</td><td>-80.6043</td><td>31.9601</td><td>Lesotho</td></tr><tr><td>1371</td><td>2018-08-08T04:41:17</td><td>-89.4584</td><td>-134.271</td><td>Andorra</td></tr><tr><td>10119</td><td>2020-10-22T01:59:58</td><td>-74.5431</td><td>-162.795</td><td>Christmas Island</td></tr><tr><td>9074</td><td>2022-04-10T17:06:13</td><td>-84.7363</td><td>-179.087</td><td>Andorra</td></tr><tr><td>2604</td><td>2018-12-01T09:23:35</td><td>-80.8933</td><td>-104.972</td><td>Antigua and Barbuda</td></tr><tr><td>223</td><td>2018-12-07T07:30:40</td><td>1.15509</td><td>-118.397</td><td>Isle of Man</td></tr><tr><td>8312</td><td>2021-04-25T15:56:29</td><td>-77.9744</td><td>-106.258</td><td>American Samoa</td></tr><tr><td>2858</td><td>2018-05-03T13:27:09</td><td>-65.1565</td><td>-166.807</td><td>Argentina</td></tr><tr><td>6261</td><td>2021-11-11T16:18:45</td><td>-10.3101</td><td>-109.763</td><td>Marshall Islands</td></tr><tr><td>3201</td><td>2019-06-25T08:31:37</td><td>34.0532</td><td>-68.4946</td><td>Pitcairn Islands</td></tr><tr><td>2637</td><td>2022-10-15T13:25:51</td><td>3.0033</td><td>-96.4904</td><td>Tunisia</td></tr><tr><td>1198</td><td>2020-01-24T23:42:18</td><td>6.37207</td><td>-150.73</td><td>Finland</td></tr><tr><td>10370</td><td>2018-07-29T15:53:40</td><td>-81.9798</td><td>-71.932</td><td>Finland</td></tr><tr><td>7167</td><td>2019-12-27T20:45:04</td><td>-55.757</td><td>-157.572</td><td>Ecuador</td></tr><tr><td>10673</td><td>2021-06-30T08:47:01</td><td>37.1991</td><td>-32.1713</td><td>Nicaragua</td></tr><tr><td>2060</td><td>2020-01-25T13:54:17</td><td>52.4584</td><td>68.6527</td><td>Trinidad and Tobago</td></tr><tr><td>9487</td><td>2018-12-18T11:16:52</td><td>-76.9532</td><td>-113.641</td><td>Canada</td></tr><tr><td>772</td><td>2022-09-22T05:59:55</td><td>25.0708</td><td>-97.1964</td><td>Monaco</td></tr><tr><td>7510</td><td>2021-12-21T01:37:25</td><td>-79.9828</td><td>-172.235</td><td>Aruba</td></tr><tr><td>5758</td><td>2018-09-12T15:08:34</td><td>-79.3714</td><td>-145.242</td><td>Azerbaijan</td></tr><tr><td>1137</td><td>2020-12-26T00:56:04</td><td>12.2544</td><td>10.7361</td><td>Seychelles</td></tr><tr><td>7234</td><td>2017-10-21T14:31:02</td><td>-86.4791</td><td>-169.547</td><td>Algeria</td></tr><tr><td>327</td><td>2022-02-09T03:03:58</td><td>62.3674</td><td>100.972</td><td>Gibraltar</td></tr><tr><td>7874</td><td>2022-01-18T08:58:49</td><td>-89.5173</td><td>-179.689</td><td>Algeria</td></tr><tr><td>1450</td><td>2022-01-15T16:04:27</td><td>-88.5252</td><td>-172.436</td><td>American Samoa</td></tr><tr><td>10245</td><td>2020-03-03T15:39:44</td><td>-50.1835</td><td>146.776</td><td>Bahamas</td></tr><tr><td>9093</td><td>2021-07-24T23:07:06</td><td>-87.7764</td><td>-151.645</td><td>Austria</td></tr><tr><td>2301</td><td>2020-11-14T00:25:28</td><td>13.4683</td><td>51.7244</td><td>Saint Vincent and the Grenadines</td></tr><tr><td>2788</td><td>2019-12-18T03:04:41</td><td>-36.076</td><td>-94.1779</td><td>Djibouti</td></tr><tr><td>9268</td><td>2020-03-16T23:13:51</td><td>-88.5255</td><td>-161.644</td><td>American Samoa</td></tr><tr><td>1706</td><td>2017-11-24T23:36:46</td><td>-71.5025</td><td>-179.257</td><td>Aruba</td></tr><tr><td>5293</td><td>2019-05-31T20:49:36</td><td>-13.1463</td><td>-25.9649</td><td>Sao Tome and Principe</td></tr><tr><td>7733</td><td>2022-09-29T10:45:19</td><td>-89.5173</td><td>-179.689</td><td>Algeria</td></tr><tr><td>3716</td><td>2018-12-31T20:43:42</td><td>32.6648</td><td>-16.0578</td><td>Lithuania</td></tr><tr><td>3750</td><td>2022-09-03T23:36:08</td><td>-73.8837</td><td>-159.054</td><td>Comoros</td></tr><tr><td>232</td><td>2019-02-18T03:38:47</td><td>6.60912</td><td>-173.609</td><td>Tanzania</td></tr><tr><td>8300</td><td>2018-02-14T23:50:10</td><td>-64.5259</td><td>19.7049</td><td>Chile</td></tr><tr><td>8978</td><td>2017-12-01T13:26:06</td><td>-2.01499</td><td>3.78198</td><td>Faroe Islands</td></tr><tr><td>2048</td><td>2017-11-20T06:33:50</td><td>-89.4008</td><td>-142.186</td><td>Antigua and Barbuda</td></tr><tr><td>10337</td><td>2021-10-26T12:09:43</td><td>-42.3069</td><td>-109.17</td><td>Christmas Island</td></tr><tr><td>7832</td><td>2022-02-14T13:47:24</td><td>-53.8629</td><td>91.8136</td><td>Israel</td></tr><tr><td>8366</td><td>2018-03-28T14:17:11</td><td>-38.5318</td><td>-139.215</td><td>Kuwait</td></tr><tr><td>3334</td><td>2019-09-26T20:13:48</td><td>-89.0609</td><td>-170.904</td><td>Anguilla</td></tr><tr><td>778</td><td>2018-10-19T14:43:39</td><td>48.2704</td><td>-123.073</td><td>Guatemala</td></tr><tr><td>480</td><td>2019-02-08T03:34:58</td><td>-30.7158</td><td>-167.461</td><td>Mozambique</td></tr><tr><td>3011</td><td>2019-12-17T17:46:18</td><td>-76.4675</td><td>28.8054</td><td>Kuwait</td></tr><tr><td>9475</td><td>2019-03-19T08:26:35</td><td>-84.1953</td><td>164.362</td><td>Panama</td></tr><tr><td>7586</td><td>2021-02-07T22:17:31</td><td>-84.7363</td><td>-179.087</td><td>Andorra</td></tr><tr><td>1864</td><td>2020-04-24T17:08:13</td><td>-72.3958</td><td>-164.414</td><td>Algeria</td></tr><tr><td>6014</td><td>2019-04-30T12:33:13</td><td>-26.6026</td><td>155.206</td><td>French Southern Territories</td></tr><tr><td>1967</td><td>2021-02-05T10:37:28</td><td>32.74</td><td>-179.581</td><td>Australia</td></tr><tr><td>1699</td><td>2022-07-03T13:25:48</td><td>-54.3706</td><td>-127.783</td><td>Canada</td></tr><tr><td>4996</td><td>2019-04-16T23:49:42</td><td>39.9625</td><td>-118.569</td><td>Poland</td></tr><tr><td>10168</td><td>2019-10-14T00:19:33</td><td>-14.7211</td><td>137.812</td><td>Norway</td></tr><tr><td>5333</td><td>2021-01-20T08:10:08</td><td>-86.6652</td><td>-173.898</td><td>Croatia</td></tr><tr><td>2565</td><td>2022-02-06T13:42:35</td><td>-87.4992</td><td>-177.336</td><td>Bulgaria</td></tr><tr><td>9778</td><td>2020-08-24T14:24:42</td><td>85.2343</td><td>126.628</td><td>Guam</td></tr><tr><td>3145</td><td>2022-06-18T22:46:26</td><td>-57.5981</td><td>-19.8932</td><td>Kenya</td></tr><tr><td>1341</td><td>2022-08-11T05:25:33</td><td>-89.9787</td><td>-173.293</td><td>Albania</td></tr><tr><td>5162</td><td>2019-09-27T19:06:43</td><td>-71.6607</td><td>-149.206</td><td>Antarctica (the territory South of 60 deg S)</td></tr><tr><td>5151</td><td>2020-07-15T01:42:38</td><td>-47.3372</td><td>-151.397</td><td>Guatemala</td></tr><tr><td>2498</td><td>2021-04-03T18:10:34</td><td>61.4706</td><td>-51.05</td><td>Togo</td></tr><tr><td>7268</td><td>2019-12-11T14:05:18</td><td>-88.3754</td><td>-164.273</td><td>Afghanistan</td></tr><tr><td>3351</td><td>2020-09-12T10:34:11</td><td>-9.11859</td><td>-96.9091</td><td>Portugal</td></tr><tr><td>7738</td><td>2017-11-12T03:45:21</td><td>66.8478</td><td>22.777</td><td>Comoros</td></tr><tr><td>8886</td><td>2022-01-16T10:17:16</td><td>-88.2286</td><td>-178.919</td><td>American Samoa</td></tr><tr><td>5742</td><td>2020-09-02T01:40:18</td><td>-73.4926</td><td>-61.56</td><td>Jamaica</td></tr><tr><td>1362</td><td>2022-07-20T05:38:18</td><td>48.3704</td><td>92.28</td><td>Ghana</td></tr><tr><td>995</td><td>2022-09-22T12:17:57</td><td>-88.0923</td><td>-179.319</td><td>Moldova</td></tr><tr><td>6250</td><td>2020-11-22T18:28:02</td><td>-73.2098</td><td>-150.856</td><td>Austria</td></tr><tr><td>3184</td><td>2018-09-25T23:17:46</td><td>-41.293</td><td>-171.585</td><td>Cape Verde</td></tr><tr><td>2955</td><td>2022-10-11T17:21:06</td><td>23.7768</td><td>-23.4838</td><td>Antigua and Barbuda</td></tr><tr><td>4357</td><td>2020-03-06T09:56:43</td><td>-75.4909</td><td>-179.908</td><td>Bahamas</td></tr><tr><td>3563</td><td>2018-09-05T07:40:01</td><td>-77.3153</td><td>-69.505</td><td>Saint Barthelemy</td></tr><tr><td>6558</td><td>2019-09-08T03:27:31</td><td>-26.4944</td><td>-174.009</td><td>Guadeloupe</td></tr><tr><td>4256</td><td>2018-10-10T17:57:16</td><td>-88.5478</td><td>-174.971</td><td>Afghanistan</td></tr><tr><td>450</td><td>2018-09-28T05:43:18</td><td>-81.0108</td><td>-165.206</td><td>Antigua and Barbuda</td></tr><tr><td>3945</td><td>2022-04-17T02:01:53</td><td>-66.2816</td><td>-142.673</td><td>Barbados</td></tr><tr><td>859</td><td>2020-04-07T19:23:24</td><td>89.8261</td><td>48.2256</td><td>Romania</td></tr><tr><td>1521</td><td>2022-10-12T14:03:26</td><td>24.5192</td><td>64.9674</td><td>Saint Helena</td></tr><tr><td>1961</td><td>2022-07-29T18:16:50</td><td>-65.3952</td><td>-175.249</td><td>Argentina</td></tr><tr><td>10099</td><td>2020-12-24T13:33:03</td><td>-89.4261</td><td>-171.58</td><td>Afghanistan</td></tr><tr><td>6066</td><td>2019-03-04T01:04:11</td><td>-67.7278</td><td>-174.505</td><td>Bolivia</td></tr><tr><td>10837</td><td>2018-09-27T07:12:31</td><td>86.6387</td><td>-26.2408</td><td>Samoa</td></tr><tr><td>6615</td><td>2022-01-31T18:53:34</td><td>-25.2428</td><td>-32.8992</td><td>Wallis and Futuna</td></tr><tr><td>7641</td><td>2021-09-28T13:56:50</td><td>-87.2</td><td>-177.109</td><td>Albania</td></tr><tr><td>640</td><td>2019-07-12T16:46:03</td><td>-87.2</td><td>-177.109</td><td>Albania</td></tr><tr><td>8174</td><td>2018-10-20T17:28:23</td><td>-66.6708</td><td>-110.47</td><td>Burkina Faso</td></tr><tr><td>1216</td><td>2020-07-19T23:57:16</td><td>-69.8134</td><td>-152.834</td><td>Albania</td></tr><tr><td>680</td><td>2019-03-29T23:22:56</td><td>-73.1838</td><td>-154.293</td><td>Bangladesh</td></tr><tr><td>9527</td><td>2021-11-17T07:50:58</td><td>-38.4443</td><td>170.601</td><td>Turkmenistan</td></tr><tr><td>9426</td><td>2021-06-30T02:14:47</td><td>-29.8646</td><td>-78.1449</td><td>Sao Tome and Principe</td></tr><tr><td>8745</td><td>2020-10-28T03:45:33</td><td>31.6701</td><td>-59.7391</td><td>Tuvalu</td></tr><tr><td>5959</td><td>2020-08-10T01:00:33</td><td>-44.9016</td><td>-17.5192</td><td>Cyprus</td></tr><tr><td>2577</td><td>2019-08-01T05:45:51</td><td>-71.5025</td><td>-179.257</td><td>Aruba</td></tr><tr><td>3008</td><td>2019-07-31T22:36:11</td><td>0.314337</td><td>-58.7666</td><td>Venezuela</td></tr><tr><td>8081</td><td>2022-03-25T07:42:29</td><td>-33.8238</td><td>-129.18</td><td>Egypt</td></tr><tr><td>10120</td><td>2022-03-10T07:02:32</td><td>-55.1562</td><td>-122.854</td><td>Isle of Man</td></tr><tr><td>4045</td><td>2018-03-11T23:01:08</td><td>-89.3099</td><td>-166.033</td><td>American Samoa</td></tr><tr><td>1599</td><td>2019-02-05T14:58:20</td><td>86.0967</td><td>111.323</td><td>Bolivia</td></tr><tr><td>2893</td><td>2018-03-05T04:33:55</td><td>-68.5399</td><td>-28.38</td><td>Bermuda</td></tr><tr><td>4024</td><td>2019-10-19T10:03:03</td><td>-61.471</td><td>-154.912</td><td>Aruba</td></tr><tr><td>310</td><td>2021-01-25T22:22:37</td><td>-81.0108</td><td>-165.206</td><td>Antigua and Barbuda</td></tr></tbody></table></div>"
      ]
     },
     "metadata": {
      "application/vnd.databricks.v1+output": {
       "addedWidgets": {},
       "aggData": [],
       "aggError": "",
       "aggOverflow": false,
       "aggSchema": [],
       "aggSeriesLimitReached": false,
       "aggType": "",
       "arguments": {},
       "columnCustomDisplayInfos": {},
       "data": [
        [
         719,
         "2018-10-29T04:05:12",
         -38.4062,
         -154.323,
         "Armenia"
        ],
        [
         1704,
         "2018-11-29T04:46:39",
         -56.8702,
         -93.6232,
         "Christmas Island"
        ],
        [
         2482,
         "2019-09-13T08:20:13",
         63.4563,
         -164.709,
         "Bermuda"
        ],
        [
         8930,
         "2021-09-29T13:25:49",
         -89.4739,
         -176.154,
         "Argentina"
        ],
        [
         7294,
         "2018-02-12T08:06:28",
         -76.2967,
         -136.501,
         "Australia"
        ],
        [
         808,
         "2019-01-03T15:43:12",
         -71.6856,
         -179.126,
         "Albania"
        ],
        [
         771,
         "2018-06-21T08:42:57",
         -29.1712,
         -107.111,
         "Montserrat"
        ],
        [
         4076,
         "2019-06-07T20:13:50",
         -67.2157,
         27.8139,
         "Mauritania"
        ],
        [
         1545,
         "2022-06-17T05:47:12",
         -30.18,
         -72.3784,
         "Anguilla"
        ],
        [
         2293,
         "2022-03-21T10:46:53",
         -87.7946,
         -159.647,
         "British Virgin Islands"
        ],
        [
         10509,
         "2019-03-06T12:21:56",
         -67.187,
         -24.2977,
         "Gibraltar"
        ],
        [
         2015,
         "2018-09-22T13:52:19",
         -17.629,
         -177.685,
         "Armenia"
        ],
        [
         1094,
         "2018-08-19T00:34:20",
         -46.7328,
         -124.445,
         "Armenia"
        ],
        [
         603,
         "2019-06-25T05:13:01",
         14.0083,
         -141.603,
         "Netherlands Antilles"
        ],
        [
         7768,
         "2018-05-25T21:34:19",
         -88.355,
         -96.0131,
         "Algeria"
        ],
        [
         5630,
         "2019-05-12T14:43:19",
         -19.1403,
         -164.987,
         "Bahrain"
        ],
        [
         8578,
         "2018-01-26T19:27:11",
         34.6427,
         -161.397,
         "Guinea-Bissau"
        ],
        [
         9936,
         "2018-06-30T22:07:13",
         -82.1715,
         -147.691,
         "Australia"
        ],
        [
         6844,
         "2021-06-06T21:53:11",
         -22.6915,
         5.69245,
         "New Caledonia"
        ],
        [
         3419,
         "2021-12-20T05:01:54",
         7.60293,
         -108.979,
         "Bhutan"
        ],
        [
         1268,
         "2019-07-06T04:10:29",
         -41.7803,
         -177.23,
         "Argentina"
        ],
        [
         6566,
         "2020-11-19T10:06:13",
         -39.225,
         -71.6593,
         "Cape Verde"
        ],
        [
         1555,
         "2017-12-24T18:41:23",
         -1.7046,
         -55.332,
         "Algeria"
        ],
        [
         3729,
         "2018-01-17T03:43:38",
         -24.4793,
         -150.145,
         "Turkey"
        ],
        [
         6398,
         "2020-01-19T01:49:05",
         -3.29267,
         -179.726,
         "Albania"
        ],
        [
         46,
         "2018-09-15T09:16:57",
         4.21689,
         -145.82,
         "Afghanistan"
        ],
        [
         4988,
         "2020-07-11T11:01:12",
         -32.1879,
         -35.2784,
         "Madagascar"
        ],
        [
         427,
         "2020-04-22T03:08:50",
         -66.9418,
         -30.0087,
         "Isle of Man"
        ],
        [
         3800,
         "2018-01-27T16:49:07",
         -61.471,
         -154.912,
         "Aruba"
        ],
        [
         159,
         "2017-11-20T21:14:56",
         -88.0812,
         -166.603,
         "Andorra"
        ],
        [
         3599,
         "2019-03-03T06:13:41",
         -88.5478,
         -174.971,
         "Afghanistan"
        ],
        [
         10552,
         "2020-08-24T11:39:32",
         32.7568,
         -179.812,
         "Grenada"
        ],
        [
         1422,
         "2018-04-30T08:27:21",
         -88.5252,
         -172.436,
         "American Samoa"
        ],
        [
         5309,
         "2020-05-04T22:00:32",
         -89.4194,
         -84.2493,
         "Maldives"
        ],
        [
         552,
         "2022-03-14T05:12:07",
         -80.6043,
         31.9601,
         "Lesotho"
        ],
        [
         1371,
         "2018-08-08T04:41:17",
         -89.4584,
         -134.271,
         "Andorra"
        ],
        [
         10119,
         "2020-10-22T01:59:58",
         -74.5431,
         -162.795,
         "Christmas Island"
        ],
        [
         9074,
         "2022-04-10T17:06:13",
         -84.7363,
         -179.087,
         "Andorra"
        ],
        [
         2604,
         "2018-12-01T09:23:35",
         -80.8933,
         -104.972,
         "Antigua and Barbuda"
        ],
        [
         223,
         "2018-12-07T07:30:40",
         1.15509,
         -118.397,
         "Isle of Man"
        ],
        [
         8312,
         "2021-04-25T15:56:29",
         -77.9744,
         -106.258,
         "American Samoa"
        ],
        [
         2858,
         "2018-05-03T13:27:09",
         -65.1565,
         -166.807,
         "Argentina"
        ],
        [
         6261,
         "2021-11-11T16:18:45",
         -10.3101,
         -109.763,
         "Marshall Islands"
        ],
        [
         3201,
         "2019-06-25T08:31:37",
         34.0532,
         -68.4946,
         "Pitcairn Islands"
        ],
        [
         2637,
         "2022-10-15T13:25:51",
         3.0033,
         -96.4904,
         "Tunisia"
        ],
        [
         1198,
         "2020-01-24T23:42:18",
         6.37207,
         -150.73,
         "Finland"
        ],
        [
         10370,
         "2018-07-29T15:53:40",
         -81.9798,
         -71.932,
         "Finland"
        ],
        [
         7167,
         "2019-12-27T20:45:04",
         -55.757,
         -157.572,
         "Ecuador"
        ],
        [
         10673,
         "2021-06-30T08:47:01",
         37.1991,
         -32.1713,
         "Nicaragua"
        ],
        [
         2060,
         "2020-01-25T13:54:17",
         52.4584,
         68.6527,
         "Trinidad and Tobago"
        ],
        [
         9487,
         "2018-12-18T11:16:52",
         -76.9532,
         -113.641,
         "Canada"
        ],
        [
         772,
         "2022-09-22T05:59:55",
         25.0708,
         -97.1964,
         "Monaco"
        ],
        [
         7510,
         "2021-12-21T01:37:25",
         -79.9828,
         -172.235,
         "Aruba"
        ],
        [
         5758,
         "2018-09-12T15:08:34",
         -79.3714,
         -145.242,
         "Azerbaijan"
        ],
        [
         1137,
         "2020-12-26T00:56:04",
         12.2544,
         10.7361,
         "Seychelles"
        ],
        [
         7234,
         "2017-10-21T14:31:02",
         -86.4791,
         -169.547,
         "Algeria"
        ],
        [
         327,
         "2022-02-09T03:03:58",
         62.3674,
         100.972,
         "Gibraltar"
        ],
        [
         7874,
         "2022-01-18T08:58:49",
         -89.5173,
         -179.689,
         "Algeria"
        ],
        [
         1450,
         "2022-01-15T16:04:27",
         -88.5252,
         -172.436,
         "American Samoa"
        ],
        [
         10245,
         "2020-03-03T15:39:44",
         -50.1835,
         146.776,
         "Bahamas"
        ],
        [
         9093,
         "2021-07-24T23:07:06",
         -87.7764,
         -151.645,
         "Austria"
        ],
        [
         2301,
         "2020-11-14T00:25:28",
         13.4683,
         51.7244,
         "Saint Vincent and the Grenadines"
        ],
        [
         2788,
         "2019-12-18T03:04:41",
         -36.076,
         -94.1779,
         "Djibouti"
        ],
        [
         9268,
         "2020-03-16T23:13:51",
         -88.5255,
         -161.644,
         "American Samoa"
        ],
        [
         1706,
         "2017-11-24T23:36:46",
         -71.5025,
         -179.257,
         "Aruba"
        ],
        [
         5293,
         "2019-05-31T20:49:36",
         -13.1463,
         -25.9649,
         "Sao Tome and Principe"
        ],
        [
         7733,
         "2022-09-29T10:45:19",
         -89.5173,
         -179.689,
         "Algeria"
        ],
        [
         3716,
         "2018-12-31T20:43:42",
         32.6648,
         -16.0578,
         "Lithuania"
        ],
        [
         3750,
         "2022-09-03T23:36:08",
         -73.8837,
         -159.054,
         "Comoros"
        ],
        [
         232,
         "2019-02-18T03:38:47",
         6.60912,
         -173.609,
         "Tanzania"
        ],
        [
         8300,
         "2018-02-14T23:50:10",
         -64.5259,
         19.7049,
         "Chile"
        ],
        [
         8978,
         "2017-12-01T13:26:06",
         -2.01499,
         3.78198,
         "Faroe Islands"
        ],
        [
         2048,
         "2017-11-20T06:33:50",
         -89.4008,
         -142.186,
         "Antigua and Barbuda"
        ],
        [
         10337,
         "2021-10-26T12:09:43",
         -42.3069,
         -109.17,
         "Christmas Island"
        ],
        [
         7832,
         "2022-02-14T13:47:24",
         -53.8629,
         91.8136,
         "Israel"
        ],
        [
         8366,
         "2018-03-28T14:17:11",
         -38.5318,
         -139.215,
         "Kuwait"
        ],
        [
         3334,
         "2019-09-26T20:13:48",
         -89.0609,
         -170.904,
         "Anguilla"
        ],
        [
         778,
         "2018-10-19T14:43:39",
         48.2704,
         -123.073,
         "Guatemala"
        ],
        [
         480,
         "2019-02-08T03:34:58",
         -30.7158,
         -167.461,
         "Mozambique"
        ],
        [
         3011,
         "2019-12-17T17:46:18",
         -76.4675,
         28.8054,
         "Kuwait"
        ],
        [
         9475,
         "2019-03-19T08:26:35",
         -84.1953,
         164.362,
         "Panama"
        ],
        [
         7586,
         "2021-02-07T22:17:31",
         -84.7363,
         -179.087,
         "Andorra"
        ],
        [
         1864,
         "2020-04-24T17:08:13",
         -72.3958,
         -164.414,
         "Algeria"
        ],
        [
         6014,
         "2019-04-30T12:33:13",
         -26.6026,
         155.206,
         "French Southern Territories"
        ],
        [
         1967,
         "2021-02-05T10:37:28",
         32.74,
         -179.581,
         "Australia"
        ],
        [
         1699,
         "2022-07-03T13:25:48",
         -54.3706,
         -127.783,
         "Canada"
        ],
        [
         4996,
         "2019-04-16T23:49:42",
         39.9625,
         -118.569,
         "Poland"
        ],
        [
         10168,
         "2019-10-14T00:19:33",
         -14.7211,
         137.812,
         "Norway"
        ],
        [
         5333,
         "2021-01-20T08:10:08",
         -86.6652,
         -173.898,
         "Croatia"
        ],
        [
         2565,
         "2022-02-06T13:42:35",
         -87.4992,
         -177.336,
         "Bulgaria"
        ],
        [
         9778,
         "2020-08-24T14:24:42",
         85.2343,
         126.628,
         "Guam"
        ],
        [
         3145,
         "2022-06-18T22:46:26",
         -57.5981,
         -19.8932,
         "Kenya"
        ],
        [
         1341,
         "2022-08-11T05:25:33",
         -89.9787,
         -173.293,
         "Albania"
        ],
        [
         5162,
         "2019-09-27T19:06:43",
         -71.6607,
         -149.206,
         "Antarctica (the territory South of 60 deg S)"
        ],
        [
         5151,
         "2020-07-15T01:42:38",
         -47.3372,
         -151.397,
         "Guatemala"
        ],
        [
         2498,
         "2021-04-03T18:10:34",
         61.4706,
         -51.05,
         "Togo"
        ],
        [
         7268,
         "2019-12-11T14:05:18",
         -88.3754,
         -164.273,
         "Afghanistan"
        ],
        [
         3351,
         "2020-09-12T10:34:11",
         -9.11859,
         -96.9091,
         "Portugal"
        ],
        [
         7738,
         "2017-11-12T03:45:21",
         66.8478,
         22.777,
         "Comoros"
        ],
        [
         8886,
         "2022-01-16T10:17:16",
         -88.2286,
         -178.919,
         "American Samoa"
        ],
        [
         5742,
         "2020-09-02T01:40:18",
         -73.4926,
         -61.56,
         "Jamaica"
        ],
        [
         1362,
         "2022-07-20T05:38:18",
         48.3704,
         92.28,
         "Ghana"
        ],
        [
         995,
         "2022-09-22T12:17:57",
         -88.0923,
         -179.319,
         "Moldova"
        ],
        [
         6250,
         "2020-11-22T18:28:02",
         -73.2098,
         -150.856,
         "Austria"
        ],
        [
         3184,
         "2018-09-25T23:17:46",
         -41.293,
         -171.585,
         "Cape Verde"
        ],
        [
         2955,
         "2022-10-11T17:21:06",
         23.7768,
         -23.4838,
         "Antigua and Barbuda"
        ],
        [
         4357,
         "2020-03-06T09:56:43",
         -75.4909,
         -179.908,
         "Bahamas"
        ],
        [
         3563,
         "2018-09-05T07:40:01",
         -77.3153,
         -69.505,
         "Saint Barthelemy"
        ],
        [
         6558,
         "2019-09-08T03:27:31",
         -26.4944,
         -174.009,
         "Guadeloupe"
        ],
        [
         4256,
         "2018-10-10T17:57:16",
         -88.5478,
         -174.971,
         "Afghanistan"
        ],
        [
         450,
         "2018-09-28T05:43:18",
         -81.0108,
         -165.206,
         "Antigua and Barbuda"
        ],
        [
         3945,
         "2022-04-17T02:01:53",
         -66.2816,
         -142.673,
         "Barbados"
        ],
        [
         859,
         "2020-04-07T19:23:24",
         89.8261,
         48.2256,
         "Romania"
        ],
        [
         1521,
         "2022-10-12T14:03:26",
         24.5192,
         64.9674,
         "Saint Helena"
        ],
        [
         1961,
         "2022-07-29T18:16:50",
         -65.3952,
         -175.249,
         "Argentina"
        ],
        [
         10099,
         "2020-12-24T13:33:03",
         -89.4261,
         -171.58,
         "Afghanistan"
        ],
        [
         6066,
         "2019-03-04T01:04:11",
         -67.7278,
         -174.505,
         "Bolivia"
        ],
        [
         10837,
         "2018-09-27T07:12:31",
         86.6387,
         -26.2408,
         "Samoa"
        ],
        [
         6615,
         "2022-01-31T18:53:34",
         -25.2428,
         -32.8992,
         "Wallis and Futuna"
        ],
        [
         7641,
         "2021-09-28T13:56:50",
         -87.2,
         -177.109,
         "Albania"
        ],
        [
         640,
         "2019-07-12T16:46:03",
         -87.2,
         -177.109,
         "Albania"
        ],
        [
         8174,
         "2018-10-20T17:28:23",
         -66.6708,
         -110.47,
         "Burkina Faso"
        ],
        [
         1216,
         "2020-07-19T23:57:16",
         -69.8134,
         -152.834,
         "Albania"
        ],
        [
         680,
         "2019-03-29T23:22:56",
         -73.1838,
         -154.293,
         "Bangladesh"
        ],
        [
         9527,
         "2021-11-17T07:50:58",
         -38.4443,
         170.601,
         "Turkmenistan"
        ],
        [
         9426,
         "2021-06-30T02:14:47",
         -29.8646,
         -78.1449,
         "Sao Tome and Principe"
        ],
        [
         8745,
         "2020-10-28T03:45:33",
         31.6701,
         -59.7391,
         "Tuvalu"
        ],
        [
         5959,
         "2020-08-10T01:00:33",
         -44.9016,
         -17.5192,
         "Cyprus"
        ],
        [
         2577,
         "2019-08-01T05:45:51",
         -71.5025,
         -179.257,
         "Aruba"
        ],
        [
         3008,
         "2019-07-31T22:36:11",
         0.314337,
         -58.7666,
         "Venezuela"
        ],
        [
         8081,
         "2022-03-25T07:42:29",
         -33.8238,
         -129.18,
         "Egypt"
        ],
        [
         10120,
         "2022-03-10T07:02:32",
         -55.1562,
         -122.854,
         "Isle of Man"
        ],
        [
         4045,
         "2018-03-11T23:01:08",
         -89.3099,
         -166.033,
         "American Samoa"
        ],
        [
         1599,
         "2019-02-05T14:58:20",
         86.0967,
         111.323,
         "Bolivia"
        ],
        [
         2893,
         "2018-03-05T04:33:55",
         -68.5399,
         -28.38,
         "Bermuda"
        ],
        [
         4024,
         "2019-10-19T10:03:03",
         -61.471,
         -154.912,
         "Aruba"
        ],
        [
         310,
         "2021-01-25T22:22:37",
         -81.0108,
         -165.206,
         "Antigua and Barbuda"
        ]
       ],
       "datasetInfos": [],
       "dbfsResultPath": null,
       "isJsonSchema": true,
       "metadata": {
        "isDbfsCommandResult": false
       },
       "overflow": false,
       "plotOptions": {
        "customPlotOptions": {},
        "displayType": "table",
        "pivotAggregation": null,
        "pivotColumns": null,
        "xColumns": null,
        "yColumns": null
       },
       "removedWidgets": [],
       "schema": [
        {
         "metadata": "{}",
         "name": "ind",
         "type": "\"integer\""
        },
        {
         "metadata": "{}",
         "name": "timestamp",
         "type": "\"string\""
        },
        {
         "metadata": "{}",
         "name": "latitude",
         "type": "\"double\""
        },
        {
         "metadata": "{}",
         "name": "longitude",
         "type": "\"double\""
        },
        {
         "metadata": "{}",
         "name": "country",
         "type": "\"string\""
        }
       ],
       "type": "table"
      }
     },
     "output_type": "display_data"
    },
    {
     "output_type": "display_data",
     "data": {
      "text/plain": [
       "\u001B[0;31m---------------------------------------------------------------------------\u001B[0m\n",
       "\u001B[0;31mTypeError\u001B[0m                                 Traceback (most recent call last)\n",
       "File \u001B[0;32m<command-4087974376823060>, line 11\u001B[0m\n",
       "\u001B[1;32m      1\u001B[0m stream_geo_df \u001B[38;5;241m=\u001B[39m spark \\\n",
       "\u001B[1;32m      2\u001B[0m     \u001B[38;5;241m.\u001B[39mreadStream \\\n",
       "\u001B[1;32m      3\u001B[0m     \u001B[38;5;241m.\u001B[39mformat(\u001B[38;5;124m'\u001B[39m\u001B[38;5;124mkinesis\u001B[39m\u001B[38;5;124m'\u001B[39m) \\\n",
       "\u001B[0;32m   (...)\u001B[0m\n",
       "\u001B[1;32m      8\u001B[0m     \u001B[38;5;241m.\u001B[39moption(\u001B[38;5;124m'\u001B[39m\u001B[38;5;124msecretAccessKey\u001B[39m\u001B[38;5;124m'\u001B[39m, SECRET_KEY) \\\n",
       "\u001B[1;32m      9\u001B[0m     \u001B[38;5;241m.\u001B[39mload()\n",
       "\u001B[0;32m---> 11\u001B[0m geo_schema \u001B[38;5;241m=\u001B[39m StructField([\n",
       "\u001B[1;32m     12\u001B[0m     StructField(\u001B[38;5;124m\"\u001B[39m\u001B[38;5;124mindex\u001B[39m\u001B[38;5;124m\"\u001B[39m, IntegerType(), \u001B[38;5;28;01mTrue\u001B[39;00m),\n",
       "\u001B[1;32m     13\u001B[0m     StructField(\u001B[38;5;124m\"\u001B[39m\u001B[38;5;124mtimestamp\u001B[39m\u001B[38;5;124m\"\u001B[39m, StringType(), \u001B[38;5;28;01mTrue\u001B[39;00m),\n",
       "\u001B[1;32m     14\u001B[0m     StructField(\u001B[38;5;124m\"\u001B[39m\u001B[38;5;124mlatitude\u001B[39m\u001B[38;5;124m\"\u001B[39m, StringType(), \u001B[38;5;28;01mTrue\u001B[39;00m),\n",
       "\u001B[1;32m     15\u001B[0m     StructField(\u001B[38;5;124m\"\u001B[39m\u001B[38;5;124mlongitude\u001B[39m\u001B[38;5;124m\"\u001B[39m, StringType(), \u001B[38;5;28;01mTrue\u001B[39;00m),\n",
       "\u001B[1;32m     16\u001B[0m     StructField(\u001B[38;5;124m\"\u001B[39m\u001B[38;5;124mcountry\u001B[39m\u001B[38;5;124m\"\u001B[39m, StringType(), \u001B[38;5;28;01mTrue\u001B[39;00m),\n",
       "\u001B[1;32m     17\u001B[0m ])\n",
       "\u001B[1;32m     20\u001B[0m stream_geo_df \u001B[38;5;241m=\u001B[39m stream_geo_df\u001B[38;5;241m.\u001B[39mfilter(stream_geo_df\u001B[38;5;241m.\u001B[39mpartitionKey \u001B[38;5;241m==\u001B[39m \u001B[38;5;124m\"\u001B[39m\u001B[38;5;124mgeo-partition\u001B[39m\u001B[38;5;124m\"\u001B[39m)\n",
       "\u001B[1;32m     21\u001B[0m stream_geo_df \u001B[38;5;241m=\u001B[39m stream_geo_df\u001B[38;5;241m.\u001B[39mselectExpr(\u001B[38;5;124m\"\u001B[39m\u001B[38;5;124mCAST(data as STRING) jsonData\u001B[39m\u001B[38;5;124m\"\u001B[39m)\n",
       "\n",
       "\u001B[0;31mTypeError\u001B[0m: StructField.__init__() missing 1 required positional argument: 'dataType'"
      ]
     },
     "metadata": {
      "application/vnd.databricks.v1+output": {
       "addedWidgets": {},
       "arguments": {},
       "datasetInfos": [],
       "jupyterProps": {
        "ename": "TypeError",
        "evalue": "StructField.__init__() missing 1 required positional argument: 'dataType'"
       },
       "metadata": {
        "errorSummary": ""
       },
       "removedWidgets": [],
       "sqlProps": null,
       "stackFrames": [
        "\u001B[0;31m---------------------------------------------------------------------------\u001B[0m",
        "\u001B[0;31mTypeError\u001B[0m                                 Traceback (most recent call last)",
        "File \u001B[0;32m<command-4087974376823060>, line 11\u001B[0m\n\u001B[1;32m      1\u001B[0m stream_geo_df \u001B[38;5;241m=\u001B[39m spark \\\n\u001B[1;32m      2\u001B[0m     \u001B[38;5;241m.\u001B[39mreadStream \\\n\u001B[1;32m      3\u001B[0m     \u001B[38;5;241m.\u001B[39mformat(\u001B[38;5;124m'\u001B[39m\u001B[38;5;124mkinesis\u001B[39m\u001B[38;5;124m'\u001B[39m) \\\n\u001B[0;32m   (...)\u001B[0m\n\u001B[1;32m      8\u001B[0m     \u001B[38;5;241m.\u001B[39moption(\u001B[38;5;124m'\u001B[39m\u001B[38;5;124msecretAccessKey\u001B[39m\u001B[38;5;124m'\u001B[39m, SECRET_KEY) \\\n\u001B[1;32m      9\u001B[0m     \u001B[38;5;241m.\u001B[39mload()\n\u001B[0;32m---> 11\u001B[0m geo_schema \u001B[38;5;241m=\u001B[39m StructField([\n\u001B[1;32m     12\u001B[0m     StructField(\u001B[38;5;124m\"\u001B[39m\u001B[38;5;124mindex\u001B[39m\u001B[38;5;124m\"\u001B[39m, IntegerType(), \u001B[38;5;28;01mTrue\u001B[39;00m),\n\u001B[1;32m     13\u001B[0m     StructField(\u001B[38;5;124m\"\u001B[39m\u001B[38;5;124mtimestamp\u001B[39m\u001B[38;5;124m\"\u001B[39m, StringType(), \u001B[38;5;28;01mTrue\u001B[39;00m),\n\u001B[1;32m     14\u001B[0m     StructField(\u001B[38;5;124m\"\u001B[39m\u001B[38;5;124mlatitude\u001B[39m\u001B[38;5;124m\"\u001B[39m, StringType(), \u001B[38;5;28;01mTrue\u001B[39;00m),\n\u001B[1;32m     15\u001B[0m     StructField(\u001B[38;5;124m\"\u001B[39m\u001B[38;5;124mlongitude\u001B[39m\u001B[38;5;124m\"\u001B[39m, StringType(), \u001B[38;5;28;01mTrue\u001B[39;00m),\n\u001B[1;32m     16\u001B[0m     StructField(\u001B[38;5;124m\"\u001B[39m\u001B[38;5;124mcountry\u001B[39m\u001B[38;5;124m\"\u001B[39m, StringType(), \u001B[38;5;28;01mTrue\u001B[39;00m),\n\u001B[1;32m     17\u001B[0m ])\n\u001B[1;32m     20\u001B[0m stream_geo_df \u001B[38;5;241m=\u001B[39m stream_geo_df\u001B[38;5;241m.\u001B[39mfilter(stream_geo_df\u001B[38;5;241m.\u001B[39mpartitionKey \u001B[38;5;241m==\u001B[39m \u001B[38;5;124m\"\u001B[39m\u001B[38;5;124mgeo-partition\u001B[39m\u001B[38;5;124m\"\u001B[39m)\n\u001B[1;32m     21\u001B[0m stream_geo_df \u001B[38;5;241m=\u001B[39m stream_geo_df\u001B[38;5;241m.\u001B[39mselectExpr(\u001B[38;5;124m\"\u001B[39m\u001B[38;5;124mCAST(data as STRING) jsonData\u001B[39m\u001B[38;5;124m\"\u001B[39m)\n",
        "\u001B[0;31mTypeError\u001B[0m: StructField.__init__() missing 1 required positional argument: 'dataType'"
       ],
       "type": "baseError"
      }
     },
     "output_type": "display_data"
    }
   ],
   "source": [
    "from pyspark.sql.functions import expr\n",
    "from pyspark.sql.functions import from_json\n",
    "from pyspark.sql.types import StructType, StructField, StringType, IntegerType\n",
    "\n",
    "\n",
    "stream_geo_df = spark \\\n",
    "    .readStream \\\n",
    "    .format('kinesis') \\\n",
    "    .option('streamName', 'Kinesis-Prod-Stream') \\\n",
    "    .option('initialPosition', 'latest') \\\n",
    "    .option('region', 'us-east-1') \\\n",
    "    .option('accessKeyId', ACCESS_KEY) \\\n",
    "    .option('secretAccessKey', SECRET_KEY) \\\n",
    "    .load()\n",
    "\n",
    "geo_schema = StructType([\n",
    "    StructField(\"ind\", IntegerType(), True),\n",
    "    StructField(\"timestamp\", StringType(), True),\n",
    "    StructField(\"latitude\", DoubleType(), True),\n",
    "    StructField(\"longitude\", DoubleType(), True),\n",
    "    StructField(\"country\", StringType(), True),\n",
    "])\n",
    "\n",
    "\n",
    "stream_geo_df = stream_geo_df.filter(stream_geo_df.partitionKey == \"geo-partition\")\n",
    "stream_geo_df = stream_geo_df.selectExpr(\"CAST(data as STRING) jsonData\")\n",
    "stream_geo_df = stream_geo_df.select(from_json(\"jsonData\", geo_schema).alias(\"data\")).select(\"data.*\")\n",
    "\n",
    "display(stream_geo_df)\n",
    "    "
   ]
  },
  {
   "cell_type": "code",
   "execution_count": 0,
   "metadata": {
    "application/vnd.databricks.v1+cell": {
     "cellMetadata": {
      "byteLimit": 2048000,
      "rowLimit": 10000
     },
     "inputWidgets": {},
     "nuid": "d4f4b9be-e8de-4ec2-b4e5-1af94df52724",
     "showTitle": false,
     "tableResultSettingsMap": {},
     "title": ""
    }
   },
   "outputs": [
    {
     "output_type": "display_data",
     "data": {
      "text/html": [
       "<style scoped>\n",
       "  .table-result-container {\n",
       "    max-height: 300px;\n",
       "    overflow: auto;\n",
       "  }\n",
       "  table, th, td {\n",
       "    border: 1px solid black;\n",
       "    border-collapse: collapse;\n",
       "  }\n",
       "  th, td {\n",
       "    padding: 5px;\n",
       "  }\n",
       "  th {\n",
       "    text-align: left;\n",
       "  }\n",
       "</style><div class='table-result-container'><table class='table-result'><thead style='background-color: white'><tr><th>ind</th><th>first_name</th><th>last_name</th><th>age</th><th>date_joined</th></tr></thead><tbody><tr><td>719</td><td>Alicia</td><td>Avila</td><td>20</td><td>2016-01-26T01:49:23</td></tr><tr><td>1704</td><td>Barry</td><td>Lynn</td><td>20</td><td>2015-10-28T05:00:33</td></tr><tr><td>2482</td><td>David</td><td>Moss</td><td>22</td><td>2016-03-01T07:11:48</td></tr><tr><td>8930</td><td>Andrew</td><td>Anderson</td><td>23</td><td>2015-11-28T11:52:37</td></tr><tr><td>7294</td><td>Dawn</td><td>Anderson</td><td>20</td><td>2016-12-31T00:06:36</td></tr><tr><td>808</td><td>Aaron</td><td>Bartlett</td><td>21</td><td>2015-11-24T02:15:36</td></tr><tr><td>771</td><td>Brittany</td><td>Butler</td><td>32</td><td>2016-03-10T04:11:31</td></tr><tr><td>4076</td><td>Larry</td><td>Pineda</td><td>20</td><td>2015-10-23T22:47:39</td></tr><tr><td>1545</td><td>Jonathan</td><td>Avila</td><td>46</td><td>2015-11-27T23:11:21</td></tr><tr><td>2293</td><td>Alex</td><td>Bean</td><td>24</td><td>2016-01-11T23:08:27</td></tr><tr><td>10509</td><td>Brittany</td><td>Thompson</td><td>49</td><td>2016-04-22T20:36:02</td></tr><tr><td>2015</td><td>Christopher</td><td>Bradshaw</td><td>27</td><td>2016-03-08T13:38:37</td></tr><tr><td>1094</td><td>Ann</td><td>Elliott</td><td>20</td><td>2016-07-02T02:32:30</td></tr><tr><td>603</td><td>Brandon</td><td>Jackson</td><td>44</td><td>2016-10-29T02:07:21</td></tr><tr><td>7768</td><td>Christine</td><td>Cortez</td><td>23</td><td>2015-12-01T18:15:02</td></tr><tr><td>5630</td><td>Carlos</td><td>Estrada</td><td>22</td><td>2016-02-09T17:01:38</td></tr><tr><td>8578</td><td>Joe</td><td>Pham</td><td>48</td><td>2017-06-01T23:13:27</td></tr><tr><td>9936</td><td>Anthony</td><td>Cantu</td><td>28</td><td>2016-11-15T10:40:03</td></tr><tr><td>6844</td><td>Peter</td><td>Roberts</td><td>30</td><td>2016-07-03T10:59:40</td></tr><tr><td>3419</td><td>Aaron</td><td>Jenkins</td><td>47</td><td>2017-04-26T03:26:23</td></tr><tr><td>1268</td><td>Donna</td><td>Campbell</td><td>32</td><td>2016-06-08T22:10:13</td></tr><tr><td>6566</td><td>Alexander</td><td>Perez</td><td>31</td><td>2017-08-04T14:30:22</td></tr><tr><td>1555</td><td>Alexis</td><td>Bennett</td><td>54</td><td>2016-05-15T04:22:01</td></tr><tr><td>3729</td><td>Richard</td><td>Edwards</td><td>52</td><td>2016-02-07T20:00:25</td></tr><tr><td>6398</td><td>Christina</td><td>Davenport</td><td>39</td><td>2016-06-29T20:43:59</td></tr><tr><td>46</td><td>Erik</td><td>Kelley</td><td>30</td><td>2016-01-06T09:58:56</td></tr><tr><td>4988</td><td>Rhonda</td><td>Durham</td><td>25</td><td>2017-07-20T05:51:23</td></tr><tr><td>427</td><td>Jon</td><td>Burke</td><td>25</td><td>2015-11-26T17:42:37</td></tr><tr><td>3800</td><td>Adam</td><td>Armstrong</td><td>20</td><td>2015-12-17T08:43:40</td></tr><tr><td>159</td><td>Alison</td><td>Bell</td><td>21</td><td>2016-01-07T08:11:35</td></tr><tr><td>3599</td><td>Alexandria</td><td>Alvarado</td><td>20</td><td>2015-10-23T04:13:23</td></tr><tr><td>10552</td><td>Michael</td><td>Hunter</td><td>40</td><td>2017-05-16T07:09:21</td></tr><tr><td>1422</td><td>Aaron</td><td>Abbott</td><td>20</td><td>2015-10-31T18:51:07</td></tr><tr><td>5309</td><td>Daniel</td><td>Roy</td><td>31</td><td>2016-03-07T01:01:24</td></tr><tr><td>552</td><td>Regina</td><td>Morales</td><td>20</td><td>2017-01-17T01:49:27</td></tr><tr><td>1371</td><td>Amanda</td><td>Brown</td><td>20</td><td>2015-11-12T03:23:49</td></tr><tr><td>10119</td><td>Chelsea</td><td>Gonzalez</td><td>43</td><td>2016-07-21T15:25:08</td></tr><tr><td>9074</td><td>Aaron</td><td>Alexander</td><td>21</td><td>2015-10-25T07:36:08</td></tr><tr><td>2604</td><td>Ashley</td><td>Evans</td><td>30</td><td>2016-02-21T12:54:01</td></tr><tr><td>223</td><td>Melanie</td><td>Hill</td><td>51</td><td>2016-10-09T14:47:51</td></tr><tr><td>8312</td><td>Daniel</td><td>Brooks</td><td>25</td><td>2015-11-19T21:24:33</td></tr><tr><td>2858</td><td>Anne</td><td>Bond</td><td>21</td><td>2015-12-27T23:43:42</td></tr><tr><td>6261</td><td>Nicholas</td><td>Hart</td><td>38</td><td>2015-10-26T09:45:45</td></tr><tr><td>3201</td><td>Elizabeth</td><td>Terry</td><td>28</td><td>2016-01-29T20:32:05</td></tr><tr><td>2637</td><td>Shawn</td><td>Jones</td><td>32</td><td>2016-08-23T20:36:12</td></tr><tr><td>1198</td><td>Ariana</td><td>Gross</td><td>59</td><td>2016-12-17T11:10:48</td></tr><tr><td>10370</td><td>Derrick</td><td>Kim</td><td>30</td><td>2016-12-21T13:39:14</td></tr><tr><td>7167</td><td>Dawn</td><td>Bradley</td><td>20</td><td>2016-08-26T16:09:52</td></tr><tr><td>10673</td><td>Alexander</td><td>Cervantes</td><td>59</td><td>2017-05-12T21:22:17</td></tr><tr><td>2060</td><td>Joshua</td><td>Long</td><td>27</td><td>2016-12-18T10:11:23</td></tr><tr><td>9487</td><td>Jose</td><td>Bailey</td><td>21</td><td>2016-01-10T09:41:14</td></tr><tr><td>772</td><td>Glenn</td><td>Hammond</td><td>25</td><td>2016-04-27T02:59:27</td></tr><tr><td>7510</td><td>Debra</td><td>Becker</td><td>20</td><td>2016-07-27T06:20:48</td></tr><tr><td>5758</td><td>Amanda</td><td>Arnold</td><td>20</td><td>2015-10-26T23:04:52</td></tr><tr><td>1137</td><td>Virginia</td><td>Vega</td><td>38</td><td>2017-05-03T03:08:33</td></tr><tr><td>7234</td><td>Angela</td><td>Allen</td><td>20</td><td>2015-10-26T04:12:32</td></tr><tr><td>327</td><td>Jill</td><td>Taylor</td><td>39</td><td>2015-12-04T03:15:28</td></tr><tr><td>7874</td><td>Aaron</td><td>Abbott</td><td>20</td><td>2015-10-23T16:08:41</td></tr><tr><td>1450</td><td>Aaron</td><td>Abbott</td><td>20</td><td>2015-10-31T18:51:07</td></tr><tr><td>10245</td><td>Julie</td><td>Cook</td><td>34</td><td>2016-05-08T16:27:01</td></tr><tr><td>9093</td><td>Albert</td><td>Adams</td><td>21</td><td>2015-11-05T22:07:56</td></tr><tr><td>2301</td><td>Karina</td><td>Morton</td><td>31</td><td>2016-01-21T12:53:34</td></tr><tr><td>2788</td><td>Jesus</td><td>Arellano</td><td>43</td><td>2016-03-22T15:45:21</td></tr><tr><td>9268</td><td>Alexander</td><td>Bailey</td><td>20</td><td>2015-10-30T11:37:32</td></tr><tr><td>1706</td><td>Amy</td><td>Adams</td><td>20</td><td>2015-10-24T05:05:28</td></tr><tr><td>5293</td><td>David</td><td>Taylor</td><td>36</td><td>2016-06-03T23:53:50</td></tr><tr><td>7733</td><td>Aaron</td><td>Abbott</td><td>20</td><td>2015-10-23T16:08:41</td></tr><tr><td>3716</td><td>Catherine</td><td>Ferrell</td><td>21</td><td>2017-01-02T03:01:09</td></tr><tr><td>3750</td><td>Gary</td><td>Barker</td><td>28</td><td>2015-11-26T11:23:50</td></tr><tr><td>232</td><td>Sarah</td><td>Buchanan</td><td>33</td><td>2017-04-19T08:49:40</td></tr><tr><td>8300</td><td>Nathan</td><td>Stanton</td><td>51</td><td>2017-08-14T08:26:30</td></tr><tr><td>8978</td><td>Mark</td><td>Jones</td><td>34</td><td>2017-08-22T00:01:29</td></tr><tr><td>2048</td><td>Ann</td><td>Chung</td><td>22</td><td>2015-11-18T23:11:15</td></tr><tr><td>10337</td><td>Carrie</td><td>Parker</td><td>46</td><td>2016-09-11T22:32:50</td></tr><tr><td>7832</td><td>Samuel</td><td>Hawkins</td><td>39</td><td>2016-06-30T02:56:06</td></tr><tr><td>8366</td><td>Justin</td><td>Ewing</td><td>56</td><td>2016-02-04T23:27:36</td></tr><tr><td>3334</td><td>Amber</td><td>Casey</td><td>23</td><td>2016-01-06T12:22:08</td></tr><tr><td>778</td><td>Christine</td><td>Adams</td><td>31</td><td>2016-02-06T10:22:53</td></tr><tr><td>480</td><td>Timothy</td><td>Sullivan</td><td>40</td><td>2017-01-12T08:37:12</td></tr><tr><td>3011</td><td>Justin</td><td>Singleton</td><td>20</td><td>2017-03-10T19:53:44</td></tr><tr><td>9475</td><td>Jessica</td><td>Mejia</td><td>40</td><td>2016-01-03T12:03:05</td></tr><tr><td>7586</td><td>Aaron</td><td>Alexander</td><td>21</td><td>2015-10-25T07:36:08</td></tr><tr><td>1864</td><td>Alexander</td><td>Adams</td><td>32</td><td>2015-10-28T15:48:24</td></tr><tr><td>6014</td><td>Mary</td><td>Luna</td><td>22</td><td>2016-01-02T01:40:52</td></tr><tr><td>1967</td><td>Jay</td><td>Flynn</td><td>24</td><td>2016-05-12T16:28:27</td></tr><tr><td>1699</td><td>Brandon</td><td>Cummings</td><td>22</td><td>2016-05-11T01:36:00</td></tr><tr><td>4996</td><td>John</td><td>Anderson</td><td>27</td><td>2016-03-03T07:28:39</td></tr><tr><td>10168</td><td>Nicole</td><td>Gray</td><td>53</td><td>2016-02-20T13:03:00</td></tr><tr><td>5333</td><td>Aaron</td><td>Clark</td><td>35</td><td>2016-11-19T22:36:49</td></tr><tr><td>2565</td><td>Anthony</td><td>Adkins</td><td>21</td><td>2015-10-28T03:59:42</td></tr><tr><td>9778</td><td>Holly</td><td>Campbell</td><td>30</td><td>2016-07-08T19:10:37</td></tr><tr><td>3145</td><td>Crystal</td><td>Schmidt</td><td>22</td><td>2017-04-14T13:57:52</td></tr><tr><td>1341</td><td>Abigail</td><td>Ali</td><td>20</td><td>2015-10-24T11:23:51</td></tr><tr><td>5162</td><td>James</td><td>Jacobson</td><td>28</td><td>2017-04-30T16:41:26</td></tr><tr><td>5151</td><td>Mary</td><td>Jordan</td><td>26</td><td>2017-06-12T16:02:59</td></tr><tr><td>2498</td><td>Jeremy</td><td>Chase</td><td>50</td><td>2017-07-31T16:56:52</td></tr><tr><td>7268</td><td>Alejandra</td><td>Acevedo</td><td>20</td><td>2015-11-24T21:01:23</td></tr><tr><td>3351</td><td>Eric</td><td>Taylor</td><td>39</td><td>2017-04-04T06:05:03</td></tr><tr><td>7738</td><td>Alexis</td><td>George</td><td>34</td><td>2016-02-26T00:38:01</td></tr><tr><td>8886</td><td>Abigail</td><td>Bates</td><td>20</td><td>2015-11-07T20:59:32</td></tr><tr><td>5742</td><td>Barbara</td><td>Edwards</td><td>24</td><td>2016-01-09T19:37:29</td></tr><tr><td>1362</td><td>Nancy</td><td>Case</td><td>23</td><td>2016-02-18T08:44:33</td></tr><tr><td>995</td><td>Jason</td><td>Horne</td><td>27</td><td>2016-02-06T15:31:57</td></tr><tr><td>6250</td><td>Lydia</td><td>Nelson</td><td>59</td><td>2016-09-06T06:21:57</td></tr><tr><td>3184</td><td>Allison</td><td>Dawson</td><td>35</td><td>2016-02-04T14:45:39</td></tr><tr><td>2955</td><td>Kevin</td><td>Young</td><td>58</td><td>2016-09-18T07:28:19</td></tr><tr><td>4357</td><td>Allison</td><td>Adams</td><td>22</td><td>2015-11-30T10:51:59</td></tr><tr><td>3563</td><td>Gerald</td><td>Davis</td><td>55</td><td>2017-08-11T14:24:41</td></tr><tr><td>6558</td><td>Gary</td><td>Tanner</td><td>43</td><td>2016-11-29T22:22:47</td></tr><tr><td>4256</td><td>Alexandria</td><td>Alvarado</td><td>20</td><td>2015-10-23T04:13:23</td></tr><tr><td>450</td><td>Amanda</td><td>Benitez</td><td>21</td><td>2015-11-01T09:16:18</td></tr><tr><td>3945</td><td>Beth</td><td>Johnson</td><td>30</td><td>2015-11-29T15:45:13</td></tr><tr><td>859</td><td>Scott</td><td>Page</td><td>44</td><td>2015-10-31T14:35:30</td></tr><tr><td>1521</td><td>Mindy</td><td>Garrison</td><td>29</td><td>2016-02-18T23:18:39</td></tr><tr><td>1961</td><td>Adrienne</td><td>Barrett</td><td>22</td><td>2015-11-04T15:48:14</td></tr><tr><td>10099</td><td>Amanda</td><td>Carlson</td><td>21</td><td>2015-11-23T09:01:37</td></tr><tr><td>6066</td><td>Angela</td><td>Flores</td><td>28</td><td>2015-10-29T08:51:34</td></tr><tr><td>10837</td><td>Mark</td><td>Richardson</td><td>55</td><td>2015-11-18T05:46:35</td></tr><tr><td>6615</td><td>Barry</td><td>West</td><td>44</td><td>2016-08-13T21:13:14</td></tr><tr><td>7641</td><td>Aaron</td><td>Anderson</td><td>21</td><td>2015-10-24T05:35:27</td></tr><tr><td>640</td><td>Aaron</td><td>Anderson</td><td>21</td><td>2015-10-24T05:35:27</td></tr><tr><td>8174</td><td>Andrew</td><td>Brown</td><td>25</td><td>2016-03-26T04:30:23</td></tr><tr><td>1216</td><td>Juan</td><td>Cortez</td><td>20</td><td>2016-04-07T13:02:08</td></tr><tr><td>680</td><td>Diana</td><td>Ballard</td><td>23</td><td>2017-01-12T11:17:31</td></tr><tr><td>9527</td><td>Vernon</td><td>Brown</td><td>55</td><td>2017-08-04T01:04:25</td></tr><tr><td>9426</td><td>Nicholas</td><td>Mcdaniel</td><td>45</td><td>2017-05-24T01:41:26</td></tr><tr><td>8745</td><td>Grant</td><td>Villanueva</td><td>53</td><td>2016-02-14T19:17:10</td></tr><tr><td>5959</td><td>Jason</td><td>Brooks</td><td>28</td><td>2015-12-21T00:33:51</td></tr><tr><td>2577</td><td>Amy</td><td>Adams</td><td>20</td><td>2015-10-24T05:05:28</td></tr><tr><td>3008</td><td>Scott</td><td>Houston</td><td>58</td><td>2016-10-22T16:08:50</td></tr><tr><td>8081</td><td>Carmen</td><td>Taylor</td><td>40</td><td>2016-08-02T19:06:12</td></tr><tr><td>10120</td><td>Jacob</td><td>Baird</td><td>24</td><td>2016-02-25T08:52:45</td></tr><tr><td>4045</td><td>Amanda</td><td>Allen</td><td>21</td><td>2015-11-16T23:15:00</td></tr></tbody></table></div>"
      ]
     },
     "metadata": {
      "application/vnd.databricks.v1+output": {
       "addedWidgets": {},
       "aggData": [],
       "aggError": "",
       "aggOverflow": false,
       "aggSchema": [],
       "aggSeriesLimitReached": false,
       "aggType": "",
       "arguments": {},
       "columnCustomDisplayInfos": {},
       "data": [
        [
         719,
         "Alicia",
         "Avila",
         20,
         "2016-01-26T01:49:23"
        ],
        [
         1704,
         "Barry",
         "Lynn",
         20,
         "2015-10-28T05:00:33"
        ],
        [
         2482,
         "David",
         "Moss",
         22,
         "2016-03-01T07:11:48"
        ],
        [
         8930,
         "Andrew",
         "Anderson",
         23,
         "2015-11-28T11:52:37"
        ],
        [
         7294,
         "Dawn",
         "Anderson",
         20,
         "2016-12-31T00:06:36"
        ],
        [
         808,
         "Aaron",
         "Bartlett",
         21,
         "2015-11-24T02:15:36"
        ],
        [
         771,
         "Brittany",
         "Butler",
         32,
         "2016-03-10T04:11:31"
        ],
        [
         4076,
         "Larry",
         "Pineda",
         20,
         "2015-10-23T22:47:39"
        ],
        [
         1545,
         "Jonathan",
         "Avila",
         46,
         "2015-11-27T23:11:21"
        ],
        [
         2293,
         "Alex",
         "Bean",
         24,
         "2016-01-11T23:08:27"
        ],
        [
         10509,
         "Brittany",
         "Thompson",
         49,
         "2016-04-22T20:36:02"
        ],
        [
         2015,
         "Christopher",
         "Bradshaw",
         27,
         "2016-03-08T13:38:37"
        ],
        [
         1094,
         "Ann",
         "Elliott",
         20,
         "2016-07-02T02:32:30"
        ],
        [
         603,
         "Brandon",
         "Jackson",
         44,
         "2016-10-29T02:07:21"
        ],
        [
         7768,
         "Christine",
         "Cortez",
         23,
         "2015-12-01T18:15:02"
        ],
        [
         5630,
         "Carlos",
         "Estrada",
         22,
         "2016-02-09T17:01:38"
        ],
        [
         8578,
         "Joe",
         "Pham",
         48,
         "2017-06-01T23:13:27"
        ],
        [
         9936,
         "Anthony",
         "Cantu",
         28,
         "2016-11-15T10:40:03"
        ],
        [
         6844,
         "Peter",
         "Roberts",
         30,
         "2016-07-03T10:59:40"
        ],
        [
         3419,
         "Aaron",
         "Jenkins",
         47,
         "2017-04-26T03:26:23"
        ],
        [
         1268,
         "Donna",
         "Campbell",
         32,
         "2016-06-08T22:10:13"
        ],
        [
         6566,
         "Alexander",
         "Perez",
         31,
         "2017-08-04T14:30:22"
        ],
        [
         1555,
         "Alexis",
         "Bennett",
         54,
         "2016-05-15T04:22:01"
        ],
        [
         3729,
         "Richard",
         "Edwards",
         52,
         "2016-02-07T20:00:25"
        ],
        [
         6398,
         "Christina",
         "Davenport",
         39,
         "2016-06-29T20:43:59"
        ],
        [
         46,
         "Erik",
         "Kelley",
         30,
         "2016-01-06T09:58:56"
        ],
        [
         4988,
         "Rhonda",
         "Durham",
         25,
         "2017-07-20T05:51:23"
        ],
        [
         427,
         "Jon",
         "Burke",
         25,
         "2015-11-26T17:42:37"
        ],
        [
         3800,
         "Adam",
         "Armstrong",
         20,
         "2015-12-17T08:43:40"
        ],
        [
         159,
         "Alison",
         "Bell",
         21,
         "2016-01-07T08:11:35"
        ],
        [
         3599,
         "Alexandria",
         "Alvarado",
         20,
         "2015-10-23T04:13:23"
        ],
        [
         10552,
         "Michael",
         "Hunter",
         40,
         "2017-05-16T07:09:21"
        ],
        [
         1422,
         "Aaron",
         "Abbott",
         20,
         "2015-10-31T18:51:07"
        ],
        [
         5309,
         "Daniel",
         "Roy",
         31,
         "2016-03-07T01:01:24"
        ],
        [
         552,
         "Regina",
         "Morales",
         20,
         "2017-01-17T01:49:27"
        ],
        [
         1371,
         "Amanda",
         "Brown",
         20,
         "2015-11-12T03:23:49"
        ],
        [
         10119,
         "Chelsea",
         "Gonzalez",
         43,
         "2016-07-21T15:25:08"
        ],
        [
         9074,
         "Aaron",
         "Alexander",
         21,
         "2015-10-25T07:36:08"
        ],
        [
         2604,
         "Ashley",
         "Evans",
         30,
         "2016-02-21T12:54:01"
        ],
        [
         223,
         "Melanie",
         "Hill",
         51,
         "2016-10-09T14:47:51"
        ],
        [
         8312,
         "Daniel",
         "Brooks",
         25,
         "2015-11-19T21:24:33"
        ],
        [
         2858,
         "Anne",
         "Bond",
         21,
         "2015-12-27T23:43:42"
        ],
        [
         6261,
         "Nicholas",
         "Hart",
         38,
         "2015-10-26T09:45:45"
        ],
        [
         3201,
         "Elizabeth",
         "Terry",
         28,
         "2016-01-29T20:32:05"
        ],
        [
         2637,
         "Shawn",
         "Jones",
         32,
         "2016-08-23T20:36:12"
        ],
        [
         1198,
         "Ariana",
         "Gross",
         59,
         "2016-12-17T11:10:48"
        ],
        [
         10370,
         "Derrick",
         "Kim",
         30,
         "2016-12-21T13:39:14"
        ],
        [
         7167,
         "Dawn",
         "Bradley",
         20,
         "2016-08-26T16:09:52"
        ],
        [
         10673,
         "Alexander",
         "Cervantes",
         59,
         "2017-05-12T21:22:17"
        ],
        [
         2060,
         "Joshua",
         "Long",
         27,
         "2016-12-18T10:11:23"
        ],
        [
         9487,
         "Jose",
         "Bailey",
         21,
         "2016-01-10T09:41:14"
        ],
        [
         772,
         "Glenn",
         "Hammond",
         25,
         "2016-04-27T02:59:27"
        ],
        [
         7510,
         "Debra",
         "Becker",
         20,
         "2016-07-27T06:20:48"
        ],
        [
         5758,
         "Amanda",
         "Arnold",
         20,
         "2015-10-26T23:04:52"
        ],
        [
         1137,
         "Virginia",
         "Vega",
         38,
         "2017-05-03T03:08:33"
        ],
        [
         7234,
         "Angela",
         "Allen",
         20,
         "2015-10-26T04:12:32"
        ],
        [
         327,
         "Jill",
         "Taylor",
         39,
         "2015-12-04T03:15:28"
        ],
        [
         7874,
         "Aaron",
         "Abbott",
         20,
         "2015-10-23T16:08:41"
        ],
        [
         1450,
         "Aaron",
         "Abbott",
         20,
         "2015-10-31T18:51:07"
        ],
        [
         10245,
         "Julie",
         "Cook",
         34,
         "2016-05-08T16:27:01"
        ],
        [
         9093,
         "Albert",
         "Adams",
         21,
         "2015-11-05T22:07:56"
        ],
        [
         2301,
         "Karina",
         "Morton",
         31,
         "2016-01-21T12:53:34"
        ],
        [
         2788,
         "Jesus",
         "Arellano",
         43,
         "2016-03-22T15:45:21"
        ],
        [
         9268,
         "Alexander",
         "Bailey",
         20,
         "2015-10-30T11:37:32"
        ],
        [
         1706,
         "Amy",
         "Adams",
         20,
         "2015-10-24T05:05:28"
        ],
        [
         5293,
         "David",
         "Taylor",
         36,
         "2016-06-03T23:53:50"
        ],
        [
         7733,
         "Aaron",
         "Abbott",
         20,
         "2015-10-23T16:08:41"
        ],
        [
         3716,
         "Catherine",
         "Ferrell",
         21,
         "2017-01-02T03:01:09"
        ],
        [
         3750,
         "Gary",
         "Barker",
         28,
         "2015-11-26T11:23:50"
        ],
        [
         232,
         "Sarah",
         "Buchanan",
         33,
         "2017-04-19T08:49:40"
        ],
        [
         8300,
         "Nathan",
         "Stanton",
         51,
         "2017-08-14T08:26:30"
        ],
        [
         8978,
         "Mark",
         "Jones",
         34,
         "2017-08-22T00:01:29"
        ],
        [
         2048,
         "Ann",
         "Chung",
         22,
         "2015-11-18T23:11:15"
        ],
        [
         10337,
         "Carrie",
         "Parker",
         46,
         "2016-09-11T22:32:50"
        ],
        [
         7832,
         "Samuel",
         "Hawkins",
         39,
         "2016-06-30T02:56:06"
        ],
        [
         8366,
         "Justin",
         "Ewing",
         56,
         "2016-02-04T23:27:36"
        ],
        [
         3334,
         "Amber",
         "Casey",
         23,
         "2016-01-06T12:22:08"
        ],
        [
         778,
         "Christine",
         "Adams",
         31,
         "2016-02-06T10:22:53"
        ],
        [
         480,
         "Timothy",
         "Sullivan",
         40,
         "2017-01-12T08:37:12"
        ],
        [
         3011,
         "Justin",
         "Singleton",
         20,
         "2017-03-10T19:53:44"
        ],
        [
         9475,
         "Jessica",
         "Mejia",
         40,
         "2016-01-03T12:03:05"
        ],
        [
         7586,
         "Aaron",
         "Alexander",
         21,
         "2015-10-25T07:36:08"
        ],
        [
         1864,
         "Alexander",
         "Adams",
         32,
         "2015-10-28T15:48:24"
        ],
        [
         6014,
         "Mary",
         "Luna",
         22,
         "2016-01-02T01:40:52"
        ],
        [
         1967,
         "Jay",
         "Flynn",
         24,
         "2016-05-12T16:28:27"
        ],
        [
         1699,
         "Brandon",
         "Cummings",
         22,
         "2016-05-11T01:36:00"
        ],
        [
         4996,
         "John",
         "Anderson",
         27,
         "2016-03-03T07:28:39"
        ],
        [
         10168,
         "Nicole",
         "Gray",
         53,
         "2016-02-20T13:03:00"
        ],
        [
         5333,
         "Aaron",
         "Clark",
         35,
         "2016-11-19T22:36:49"
        ],
        [
         2565,
         "Anthony",
         "Adkins",
         21,
         "2015-10-28T03:59:42"
        ],
        [
         9778,
         "Holly",
         "Campbell",
         30,
         "2016-07-08T19:10:37"
        ],
        [
         3145,
         "Crystal",
         "Schmidt",
         22,
         "2017-04-14T13:57:52"
        ],
        [
         1341,
         "Abigail",
         "Ali",
         20,
         "2015-10-24T11:23:51"
        ],
        [
         5162,
         "James",
         "Jacobson",
         28,
         "2017-04-30T16:41:26"
        ],
        [
         5151,
         "Mary",
         "Jordan",
         26,
         "2017-06-12T16:02:59"
        ],
        [
         2498,
         "Jeremy",
         "Chase",
         50,
         "2017-07-31T16:56:52"
        ],
        [
         7268,
         "Alejandra",
         "Acevedo",
         20,
         "2015-11-24T21:01:23"
        ],
        [
         3351,
         "Eric",
         "Taylor",
         39,
         "2017-04-04T06:05:03"
        ],
        [
         7738,
         "Alexis",
         "George",
         34,
         "2016-02-26T00:38:01"
        ],
        [
         8886,
         "Abigail",
         "Bates",
         20,
         "2015-11-07T20:59:32"
        ],
        [
         5742,
         "Barbara",
         "Edwards",
         24,
         "2016-01-09T19:37:29"
        ],
        [
         1362,
         "Nancy",
         "Case",
         23,
         "2016-02-18T08:44:33"
        ],
        [
         995,
         "Jason",
         "Horne",
         27,
         "2016-02-06T15:31:57"
        ],
        [
         6250,
         "Lydia",
         "Nelson",
         59,
         "2016-09-06T06:21:57"
        ],
        [
         3184,
         "Allison",
         "Dawson",
         35,
         "2016-02-04T14:45:39"
        ],
        [
         2955,
         "Kevin",
         "Young",
         58,
         "2016-09-18T07:28:19"
        ],
        [
         4357,
         "Allison",
         "Adams",
         22,
         "2015-11-30T10:51:59"
        ],
        [
         3563,
         "Gerald",
         "Davis",
         55,
         "2017-08-11T14:24:41"
        ],
        [
         6558,
         "Gary",
         "Tanner",
         43,
         "2016-11-29T22:22:47"
        ],
        [
         4256,
         "Alexandria",
         "Alvarado",
         20,
         "2015-10-23T04:13:23"
        ],
        [
         450,
         "Amanda",
         "Benitez",
         21,
         "2015-11-01T09:16:18"
        ],
        [
         3945,
         "Beth",
         "Johnson",
         30,
         "2015-11-29T15:45:13"
        ],
        [
         859,
         "Scott",
         "Page",
         44,
         "2015-10-31T14:35:30"
        ],
        [
         1521,
         "Mindy",
         "Garrison",
         29,
         "2016-02-18T23:18:39"
        ],
        [
         1961,
         "Adrienne",
         "Barrett",
         22,
         "2015-11-04T15:48:14"
        ],
        [
         10099,
         "Amanda",
         "Carlson",
         21,
         "2015-11-23T09:01:37"
        ],
        [
         6066,
         "Angela",
         "Flores",
         28,
         "2015-10-29T08:51:34"
        ],
        [
         10837,
         "Mark",
         "Richardson",
         55,
         "2015-11-18T05:46:35"
        ],
        [
         6615,
         "Barry",
         "West",
         44,
         "2016-08-13T21:13:14"
        ],
        [
         7641,
         "Aaron",
         "Anderson",
         21,
         "2015-10-24T05:35:27"
        ],
        [
         640,
         "Aaron",
         "Anderson",
         21,
         "2015-10-24T05:35:27"
        ],
        [
         8174,
         "Andrew",
         "Brown",
         25,
         "2016-03-26T04:30:23"
        ],
        [
         1216,
         "Juan",
         "Cortez",
         20,
         "2016-04-07T13:02:08"
        ],
        [
         680,
         "Diana",
         "Ballard",
         23,
         "2017-01-12T11:17:31"
        ],
        [
         9527,
         "Vernon",
         "Brown",
         55,
         "2017-08-04T01:04:25"
        ],
        [
         9426,
         "Nicholas",
         "Mcdaniel",
         45,
         "2017-05-24T01:41:26"
        ],
        [
         8745,
         "Grant",
         "Villanueva",
         53,
         "2016-02-14T19:17:10"
        ],
        [
         5959,
         "Jason",
         "Brooks",
         28,
         "2015-12-21T00:33:51"
        ],
        [
         2577,
         "Amy",
         "Adams",
         20,
         "2015-10-24T05:05:28"
        ],
        [
         3008,
         "Scott",
         "Houston",
         58,
         "2016-10-22T16:08:50"
        ],
        [
         8081,
         "Carmen",
         "Taylor",
         40,
         "2016-08-02T19:06:12"
        ],
        [
         10120,
         "Jacob",
         "Baird",
         24,
         "2016-02-25T08:52:45"
        ],
        [
         4045,
         "Amanda",
         "Allen",
         21,
         "2015-11-16T23:15:00"
        ]
       ],
       "datasetInfos": [],
       "dbfsResultPath": null,
       "isJsonSchema": true,
       "metadata": {
        "isDbfsCommandResult": false
       },
       "overflow": false,
       "plotOptions": {
        "customPlotOptions": {},
        "displayType": "table",
        "pivotAggregation": null,
        "pivotColumns": null,
        "xColumns": null,
        "yColumns": null
       },
       "removedWidgets": [],
       "schema": [
        {
         "metadata": "{}",
         "name": "ind",
         "type": "\"integer\""
        },
        {
         "metadata": "{}",
         "name": "first_name",
         "type": "\"string\""
        },
        {
         "metadata": "{}",
         "name": "last_name",
         "type": "\"string\""
        },
        {
         "metadata": "{}",
         "name": "age",
         "type": "\"integer\""
        },
        {
         "metadata": "{}",
         "name": "date_joined",
         "type": "\"string\""
        }
       ],
       "type": "table"
      }
     },
     "output_type": "display_data"
    }
   ],
   "source": [
    "from pyspark.sql.functions import expr\n",
    "from pyspark.sql.functions import from_json\n",
    "from pyspark.sql.types import StructType, StructField, StringType, IntegerType\n",
    "\n",
    "stream_user_df = spark \\\n",
    "    .readStream \\\n",
    "    .format('kinesis') \\\n",
    "    .option('streamName', 'Kinesis-Prod-Stream') \\\n",
    "    .option('initialPosition', 'latest') \\\n",
    "    .option('region', 'us-east-1') \\\n",
    "    .option('accessKeyId', ACCESS_KEY) \\\n",
    "    .option('secretAccessKey', SECRET_KEY) \\\n",
    "    .load()\n",
    "\n",
    "user_schema = StructType([\n",
    "    StructField(\"ind\", IntegerType(), True),\n",
    "    StructField(\"first_name\", StringType(), True),\n",
    "    StructField(\"last_name\", StringType(), True),\n",
    "    StructField(\"age\", IntegerType(), True),\n",
    "    StructField(\"date_joined\", StringType(), True),\n",
    "])\n",
    "\n",
    "stream_user_df = stream_user_df.filter(stream_user_df.partitionKey == \"user-partition\")\n",
    "stream_user_df = stream_user_df.selectExpr(\"CAST(data as STRING) jsonData\")\n",
    "stream_user_df = stream_user_df.select(from_json(\"jsonData\", user_schema).alias(\"data\")).select(\"data.*\")\n",
    "\n",
    "display(stream_user_df)"
   ]
  },
  {
   "cell_type": "code",
   "execution_count": 0,
   "metadata": {
    "application/vnd.databricks.v1+cell": {
     "cellMetadata": {
      "byteLimit": 2048000,
      "rowLimit": 10000
     },
     "inputWidgets": {},
     "nuid": "f07dd861-6aaa-49b0-af7e-209a77f826e1",
     "showTitle": false,
     "tableResultSettingsMap": {},
     "title": ""
    }
   },
   "outputs": [],
   "source": [
    "from pyspark.sql.functions import regexp_replace\n",
    "\n",
    "\n",
    "def clean_pin_data(stream_pin_df):\n",
    "    pin_cleaned_df = stream_pin_df.replace({'No description available Story format': None,}, subset=['description'])\n",
    "    pin_cleaned_df = pin_cleaned_df.replace({'N,o, ,T,a,g,s, ,A,v,a,i,l,a,b,l,e': None,}, subset=['tag_list'])\n",
    "    pin_cleaned_df = pin_cleaned_df.replace({'No Title Data Available': None,}, subset=['title'])\n",
    "    pin_cleaned_df = pin_cleaned_df.replace({'User Info Error': None, }, subset=['follower_count'])\n",
    "    pin_cleaned_df = pin_cleaned_df.replace({'Image src error.': None, }, subset=['image_src'])\n",
    "    pin_cleaned_df = pin_cleaned_df.replace({'User Info Error': None, }, subset=['poster_name'])\n",
    "\n",
    "    cleaned_pin_data_df = pin_cleaned_df.withColumn('follower_count', pin_cleaned_df['follower_count'].cast('int'))\n",
    "    cleaned_pin_data_df = cleaned_pin_data_df.withColumn('save_location', regexp_replace('save_location', 'Local save in', ''))\n",
    "    cleaned_pin_data_df = cleaned_pin_data_df.withColumn('follower_count', regexp_replace('follower_count', 'k', '000'))\n",
    "    cleaned_pin_data_df = cleaned_pin_data_df.withColumn('follower_count', regexp_replace('follower_count', 'M', '000000'))\n",
    "\n",
    "    cleaned_pin_data_df = cleaned_pin_data_df.withColumnRenamed('index', 'ind')\n",
    "    cleaned_pin_data_df = cleaned_pin_data_df.select('ind', 'unique_id', 'title', 'description', 'follower_count', 'poster_name', 'tag_list', 'is_image_or_video', 'image_src', 'save_location', 'category')\n",
    "\n",
    "    return cleaned_pin_data_df"
   ]
  },
  {
   "cell_type": "code",
   "execution_count": 0,
   "metadata": {
    "application/vnd.databricks.v1+cell": {
     "cellMetadata": {
      "byteLimit": 2048000,
      "rowLimit": 10000
     },
     "inputWidgets": {},
     "nuid": "73ecbec0-f1ee-4a6e-85b8-0b6556cac9f2",
     "showTitle": false,
     "tableResultSettingsMap": {},
     "title": ""
    }
   },
   "outputs": [
    {
     "output_type": "display_data",
     "data": {
      "text/html": [
       "<style scoped>\n",
       "  .table-result-container {\n",
       "    max-height: 300px;\n",
       "    overflow: auto;\n",
       "  }\n",
       "  table, th, td {\n",
       "    border: 1px solid black;\n",
       "    border-collapse: collapse;\n",
       "  }\n",
       "  th, td {\n",
       "    padding: 5px;\n",
       "  }\n",
       "  th {\n",
       "    text-align: left;\n",
       "  }\n",
       "</style><div class='table-result-container'><table class='table-result'><thead style='background-color: white'><tr><th>ind</th><th>unique_id</th><th>title</th><th>description</th><th>follower_count</th><th>poster_name</th><th>tag_list</th><th>is_image_or_video</th><th>image_src</th><th>save_location</th><th>category</th></tr></thead><tbody><tr><td>1704</td><td>5fbf9863-fb79-477c-a5b6-540c3020a55f</td><td>Christmas Trees From Pallet Wood | Holiday DIY</td><td>Christmas Trees From Pallet Wood | Holiday DIY: Deck the yard with some fun outdoor Christmas Trees! We made these merry and bright decorations from two old pallets we had lying… </td><td>null</td><td>Instructables</td><td>Pallet Wood Christmas Tree,Wooden Christmas Crafts,Diy Christmas Tree,Christmas Projects,Holiday Crafts,Wooden Xmas Trees,Different Christmas Trees,Pallet Tree,Christmas Kitchen</td><td>image</td><td>https://i.pinimg.com/originals/64/7b/ca/647bca35169b7c144604116c64bcba8a.png</td><td> /data/christmas</td><td>christmas</td></tr><tr><td>2482</td><td>08604f20-fa17-4b9a-9949-781717eca6cd</td><td>FORNT PORCH CHRISTMAS DECORATING IDEAS</td><td>Christmas decorating ideas for porches. Beautiful holiday decor ideas for front porches both small and large. Outdoor decorations like sleds, lanterns, Christmas trees, wreaths,… </td><td>null</td><td>Life on Summerhill | Home, Holiday Decor & DIY Website</td><td>Diy Christmas Decorations For Home,Farmhouse Christmas Decor,Christmas Home,Christmas Holidays,Christmas Front Porches,How To Decorate For Christmas,Christmas Porch Ideas,Christmas Decorating Ideas,Large Outdoor Christmas Decorations</td><td>video</td><td>https://i.pinimg.com/videos/thumbnails/originals/40/83/f5/4083f5b4971bf235f89a4784ab87271e.0000001.jpg</td><td> /data/christmas</td><td>christmas</td></tr><tr><td>8930</td><td>a2999c28-f7b2-4577-af87-49d21d6d8a18</td><td>135 Sunflower Tattoo Ideas - [Best Rated Designs in 2021]</td><td>We have put together the Ultimative Sunflower Tattoo Collection in 2020. Check out our highest rated handpicked Sunflower designs here!</td><td>null</td><td>Next Luxury</td><td>Sunflower Tattoo Sleeve,Sunflower Tattoo Shoulder,Sunflower Tattoo Small,Sunflower Tattoos,Sunflower Tattoo Design,Shoulder Tattoo,Sunflower Mandala Tattoo,Sunflower Tattoo Meaning,Form Tattoo</td><td>image</td><td>https://i.pinimg.com/originals/18/de/6c/18de6c81a8637e224c7d63dce1414ceb.jpg</td><td> /data/tattoos</td><td>tattoos</td></tr><tr><td>7294</td><td>9d8409ef-bea7-4133-a021-c58b9c042210</td><td>Foolproof Fall Fashion For Men You'll Love</td><td>Looking for the coolest fall fashion for men this season? Click to read this article on fall fashion for men to look sharp on LLEGANCE.</td><td>null</td><td>LLEGANCE | Workwear Fashion Woman Advice For Driven Professionals</td><td>Fashion 90s,Autumn Fashion,Fashion Ideas,Trendy Fashion,Fashion Photo,Fashion Outfits,Fashion Trends,Urban Fashion Men,Men's Casual Fashion</td><td>image</td><td>https://i.pinimg.com/originals/4c/bf/2d/4cbf2d6e04d2502612169220553f4cef.jpg</td><td> /data/mens-fashion</td><td>mens-fashion</td></tr><tr><td>808</td><td>23f67e42-db9f-4aae-8b82-cbec64ad9f4d</td><td>Chalk Pastel Hot Chocolate Art Project</td><td>Kids will use chalk pastels and black paper to create this bold and bright hot chocolate art project! Easy to follow tutorial included.</td><td>null</td><td>Projects with Kids</td><td>Hot Chocolate Art,Chocolate Crafts,Art Activities For Kids,Preschool Art,Preschool Winter,Christmas Activities,Winter Art Projects,Clay Art Projects,Chalk Pastel Art</td><td>image</td><td>https://i.pinimg.com/originals/5a/d3/82/5ad38202cf8acb022cb8f46ce2a78ad6.jpg</td><td> /data/art</td><td>art</td></tr><tr><td>771</td><td>a5021766-a8aa-4dc7-9857-4da6b8e3dc1a</td><td>African Sunset Shadow Tracing Art - Taming Little Monsters</td><td>Use your mini world figures to create this beautiful African sunset. Your kids will love learning about shadows, angles and distortion in this fun art and STEM activity for kids.</td><td>null</td><td>Taming Little Monsters - Fun Activities for Kids</td><td>African Art Projects,Cool Art Projects,Projects For Kids,African Art For Kids,African Crafts Kids,Art Club Projects,Art Education Projects,Tracing Art,African Sunset</td><td>image</td><td>https://i.pinimg.com/originals/e3/aa/35/e3aa350f8f104d0e59f26d7f17ea7461.png</td><td> /data/art</td><td>art</td></tr><tr><td>4076</td><td>3a52d364-7c04-47cb-a3e5-56d9e2b77528</td><td>Phonics Activities Your Kids Will Love - The Literacy Nest</td><td>Hi everyone! As a teacher using the Orton-Gillingham approach, I am constantly looking for phonics activities that my students will find fun and engaging. Using Orton-Gillingham… </td><td>null</td><td>The Literacy Nest</td><td>Literacy Games,Kindergarten Activities,Literacy Centers,Fun Phonics Activities,Listening Activities,Vocabulary Games,Literacy Stations,Letter Activities,Montessori Activities</td><td>image</td><td>https://i.pinimg.com/originals/58/8e/38/588e380b19942a71a86a69d9c9973d25.png</td><td> /data/education</td><td>education</td></tr><tr><td>1545</td><td>0c629541-cc5b-4b61-bd3f-613346893258</td><td>Oil Cleansing Method: What it is and why you should do it.</td><td>The oil cleansing method is a simple, natural way to have clean skin without using toxic chemicals. It will leave your face radiant and soft!</td><td>null</td><td>Thank Your Body</td><td>Beauty Care,Diy Beauty,Beauty Hacks,Beauty Shop,Oil Cleansing Method,Goji,Korean Skincare Routine,Homemade Beauty Products,Organic Beauty</td><td>image</td><td>https://i.pinimg.com/originals/2c/1c/da/2c1cda7da86ee711536bbacfe89c75c9.jpg</td><td> /data/beauty</td><td>beauty</td></tr><tr><td>2293</td><td>1fd7d4cc-54c1-4542-9c1f-449cb4c875f4</td><td>Over 40 of the BEST Homemade Christmas Ornament Ideas</td><td>Over 40 of the BEST Homemade Christmas Ornaments...these easy Holiday crafts are so fun to make for Kids and Adults! Lots of great class party ideas!</td><td>null</td><td>Kitchen Fun With My 3 Sons</td><td>Diy Christmas Lights,Homemade Christmas Decorations,Christmas Crafts For Gifts,Mini Christmas Tree,Christmas Ornament Crafts,Homemade Christmas Gifts,Xmas Decorations,Simple Christmas,Handmade Christmas</td><td>image</td><td>https://i.pinimg.com/originals/d0/d3/a3/d0d3a31e87296224d5ba8896904b5b88.jpg</td><td> /data/christmas</td><td>christmas</td></tr><tr><td>10509</td><td>6a5f0e7e-1389-4e54-942f-4cb69f09f140</td><td>Flying Car</td><td>null</td><td>null</td><td>TheSuperBOO!</td><td>Electric Off Road Vehicle,Cool Illusions,Flying Vehicles,Wow Video,Art And Craft Videos,Top Luxury Cars,Chevy Muscle Cars,Street Racing Cars,Funny Videos Clean</td><td>multi-video(story page format)</td><td>https://i.pinimg.com/videos/thumbnails/originals/4a/d4/96/4ad4961606179854f1141a90f50f002c.0000001.jpg</td><td> /data/vehicles</td><td>vehicles</td></tr><tr><td>2015</td><td>72359164-4419-452c-81cb-74f30a5a26b7</td><td>16 Blissful Christmas Table Decor Ideas That You Must See</td><td>Take a look at this new collection of Christmas decor featuring 16 Blissful Christmas Table Decor Ideas That You Must See. Happy holidays!</td><td>null</td><td>ArchitectureArtDesigns</td><td>Kids Crafts,Christmas Crafts For Kids,Homemade Christmas,Christmas Projects,Holiday Crafts,Christmas Gift Ideas,Preschool Christmas,Tree Crafts,Christmas Inspiration</td><td>image</td><td>https://i.pinimg.com/originals/5f/70/30/5f7030a35bb8a1491e915fb0ae29bcf5.jpg</td><td> /data/christmas</td><td>christmas</td></tr><tr><td>1094</td><td>6deacdcd-75ed-4dd8-8951-9b77453f38e0</td><td>9 colors lazy lipstick - 9 colors lazy lipstick4</td><td>9 colors lazy lipstick</td><td>null</td><td>Jiew82633</td><td>Nail Inspo,Lazy,Lipstick,How To Apply,Makeup,Colors,Products,Make Up,Lipsticks</td><td>image</td><td>https://i.pinimg.com/originals/25/cf/8c/25cf8cb74b43ab95591342c2bbe4ecd8.jpg</td><td> /data/beauty</td><td>beauty</td></tr><tr><td>603</td><td>78e21a64-53b0-4745-8294-e8c456f0ccc1</td><td>How to Create Alcohol Ink Rings For Gorgeous Pieces of Art -</td><td>Learn to create alcohol ink rings for gorgeous pieces of art. Each ring sits on top of another, giving a multilayered appearance</td><td>null</td><td>Kim Cook-Thirteen Chairs-Slates Mugs And Tees</td><td>Alcohol Ink Tiles,Alcohol Ink Glass,Alcohol Ink Crafts,Alcohol Ink Painting,Pour Painting,Zealand Tattoo,Copics,Types Of Art,Art Techniques</td><td>image</td><td>https://i.pinimg.com/originals/03/03/1f/03031fdc9775d0c06f61d68e51362379.png</td><td> /data/art</td><td>art</td></tr><tr><td>7768</td><td>ae1a61f6-d958-40fe-ba93-6a78b3a73178</td><td>16 Motivational Quotes Get You Inspired Today - Boss Babe Chronicles</td><td>motivation quotes</td><td>null</td><td>Boss Babe Chronicles | Personal Development, Finances, Self Care</td><td>Motivacional Quotes,Motivational Quotes For Life,Uplifting Quotes,True Quotes,Words Quotes,Empowering Quotes,Boss Up Quotes,Inspirational Success Quotes,Boss Babe Quotes Work Hard</td><td>image</td><td>https://i.pinimg.com/originals/ee/b4/bc/eeb4bccdb074edb787ea61711e0c4dfd.jpg</td><td> /data/quotes</td><td>quotes</td></tr><tr><td>5630</td><td>d41e703c-c97c-4c5a-9f9c-338982ca7504</td><td>7 Insanely Useful Money Management Worksheets</td><td>Get your personal finance in order with these 8 fr…</td><td>null</td><td>R.J. Weiss at The Ways To Wealth | Personal Finance | Debt Payoff</td><td>Ways To Save Money,Money Tips,Money Saving Tips,Money Budget,Saving Ideas,Budgeting Finances,Budgeting Tips,Planning Budget,Budget Planer</td><td>image</td><td>https://i.pinimg.com/originals/f1/4f/cc/f14fcc75ee73ff22c983bdce70c022e2.jpg</td><td> /data/finance</td><td>finance</td></tr><tr><td>8578</td><td>036ec267-658b-4dad-a097-8ef0b4f30c0d</td><td>Snake Collarbone Temporary Tattoo. Halloween Tattoos  Spooky | Etsy</td><td>Snake temporary tattoo for collarbone. Spooky 3D tattoo for Halloween Includes 2 copies, 1 for the right side and 1 for the left side Apply with water and remove anytime with ba… </td><td>0</td><td>Livitrevisani</td><td>Finger Tattoo Designs,Small Tattoo Designs,Finger Tattoos,Small 3d Tattoos,Cool Tattoos,Line Work Tattoo,Back Tattoo,Collarbone Tattoo,Tattoo Neck</td><td>image</td><td>https://i.pinimg.com/originals/d8/b7/a1/d8b7a11a3fe64e7fab91d3afb1536537.jpg</td><td> /data/tattoos</td><td>tattoos</td></tr><tr><td>9936</td><td>1f3154a6-13f0-4049-8d5c-faea15b9f07c</td><td>Chasing Waterfalls in Costa Rica</td><td>Volcanoes, hikes, and hot springs in Costa Rica! The ultimate 5 day travel itinerary. - #costarica #travel #blogging #blog #bucketlist</td><td>null</td><td>Jess Wandering</td><td>Costa Rica Reisen,Costa Rica Travel,Vacation Places,Dream Vacations,Vacation Spots,Vacation Food,Vacation Ideas,Voyage Dubai,Beautiful Places To Travel</td><td>image</td><td>https://i.pinimg.com/originals/60/fe/4c/60fe4c3602e8e50e2e9f787ed27d2aba.jpg</td><td> /data/travel</td><td>travel</td></tr><tr><td>6844</td><td>69c3f268-274f-44bd-9cb4-427e64fefc44</td><td>♔the-fashman♔</td><td>billy-george: “Summer styles ”</td><td>377</td><td>Au'vey Smith</td><td>Fashion Week Hommes,La Fashion Week,Fashion Moda,Urban Fashion,Trendy Fashion,Fashion Spring,Fashion 2017,New Mens Fashion,Trendy Clothing</td><td>image</td><td>https://i.pinimg.com/originals/3c/8c/53/3c8c534cd02334c50047bd3a4feccce9.jpg</td><td> /data/mens-fashion</td><td>mens-fashion</td></tr><tr><td>3419</td><td>d0b80187-0171-49b2-8ee4-572984244f65</td><td>Easy Christmas Tree Crafts Ideas for toddlers and preschoolers | Sharing Our Experiences</td><td>Easy Christmas tree Craft Ideas for toddlers and preschoolers. Engage your kids in these DIY</td><td>null</td><td>Kids Crafts & Free Preschool Printables- Sharing Our Experiences</td><td>Christmas Crafts For Kids To Make,Christmas Tree Painting,Christmas Activities For Kids,Easy Christmas Crafts For Toddlers,Kid Activities,Christmas Handprint Crafts,Christmas Tree Crafts,Christmas Baby,Xmas Tree</td><td>image</td><td>https://i.pinimg.com/originals/69/f0/75/69f075939d4449dffa69519756c30e26.png</td><td> /data/diy-and-crafts</td><td>diy-and-crafts</td></tr><tr><td>1268</td><td>e2f2cec5-cda5-42b2-ab9d-6dddf863e94e</td><td>Janet on Twitter</td><td>Here’s how to get long-lasting makeup, so you can do your face in the morning and be set for the entire day. Follow these makeup tips for foundation, lipstick and more using pro… </td><td>null</td><td>Tony</td><td>Beauty Makeup,Eye Makeup,Diy Beauty,Beauty Ideas,Beauty Skin,Homemade Beauty,Wolf Makeup,Oily Skin Makeup,Face Beauty</td><td>image</td><td>https://i.pinimg.com/originals/d9/d1/3b/d9d13b9ac47d54940f05a75345a873d4.jpg</td><td> /data/beauty</td><td>beauty</td></tr><tr><td>6566</td><td>6d8848f8-f515-4935-8dae-5dd02304d76e</td><td>Navy and Neutral Fall Living Room + Kitchen Tour - Sand and Sisal</td><td>Celebrate fall with a neutral color palette with natural elements. This Navy and Neutral Fall Living Room + Kitchen Tour will make you rethink fall decor.</td><td>null</td><td>Sand and Sisal</td><td>Fall Living Room,Coastal Living Rooms,Living Room Paint,Living Room Kitchen,Living Room Interior,Living Room Furniture,Living Room Decor,Living Area,Small Living</td><td>image</td><td>https://i.pinimg.com/originals/f1/be/b6/f1beb6d3414f1c52929df39a83d8da9f.jpg</td><td> /data/home-decor</td><td>home-decor</td></tr><tr><td>1555</td><td>1f20551b-a21c-4ff0-b20d-49e95fdc50d3</td><td>Skin Purging: Die Pflegemethode für reine Haut | ELLE</td><td>Skin Purging sorgt für die reinste Haut, die du jemals hattest #skin äpurging #skinpurging #skincare #hautpflege #schönehaut #haut #beauty #tips</td><td>null</td><td>ELLE Germany</td><td>Natural Hair Mask,Natural Hair Styles,Natural Beauty,Skin Tag,How To Apply Makeup,Pimples,Beauty Routines,Skincare Routine,Glowing Skin</td><td>image</td><td>https://i.pinimg.com/originals/93/b2/7b/93b27be044b2fd2f227f30a7f2c2faf2.jpg</td><td> /data/beauty</td><td>beauty</td></tr><tr><td>3729</td><td>ac90f1d2-dc9e-438c-b073-dd48511b80b0</td><td>5 + Nature Games for Your Homeschool</td><td>Our family would rather spend time outdoors than indoors. We love nature! That said, sometimes mother nature is uncooperative. On these days, it can be fun to pull out some natu… </td><td>null</td><td>My Little Poppies (Cait Curley, MA/CAGS)</td><td>Diy Nature,Theme Nature,Nature Study,Science And Nature,Summer Science,Earth Science,Nature Crafts,Outdoor Education,Outdoor Learning</td><td>image</td><td>https://i.pinimg.com/originals/d6/3b/1a/d63b1a2a36534ecac5d1fbd0d932403a.jpg</td><td> /data/education</td><td>education</td></tr><tr><td>6398</td><td>ea44d318-2ced-4cf8-a66f-a6a036b84faa</td><td>My master bathroom makeover with @flooranddecor ! Follow me on Instagram @Mojisstyle for more</td><td>null</td><td>null</td><td>MojisStyle</td><td>Decor Home Living Room,Home And Living,Diy Bedroom Decor,Home Decor,Bathroom Interior Design,Interior Design Living Room,Dream Home Design,House Design,Beautiful Bathrooms</td><td>multi-video(story page format)</td><td>https://i.pinimg.com/videos/thumbnails/originals/75/48/3b/75483b74822855519ec8b40df4c670ef.0000001.jpg</td><td> /data/home-decor</td><td>home-decor</td></tr><tr><td>46</td><td>19234073-8905-4885-b0d5-98e0b84cbf27</td><td>10 Watercolor Hacks For Beginners | Tips and Tricks to Making Watercolor Painting Easier</td><td>Mountain monologue watercolor</td><td>null</td><td>It's me, JD | DIY, Crafts, Home & Organization</td><td>Arte Inspo,Kunst Inspo,Watercolor Artists,Watercolor Ideas,Simple Watercolor,Tattoo Watercolor,Watercolor Techniques,Watercolor Animals,Watercolor Illustration</td><td>image</td><td>https://i.pinimg.com/originals/fd/54/89/fd548935dcb13545120a2115baaa41d9.jpg</td><td> /data/art</td><td>art</td></tr><tr><td>4988</td><td>fbdfd355-a356-46c2-a251-301869ae2674</td><td>Fun Book Page Crafts - MomAdvice</td><td>Fun Book Page Crafts - MomAdvice</td><td>null</td><td>MomAdvice</td><td>Harry Potter Wedding,Harry Potter Theme,Wedding Book,Wedding Table,Wedding Ideas,Wedding Vintage,Garden Wedding,Vintage Party,Wedding Paper</td><td>image</td><td>https://i.pinimg.com/originals/17/55/87/175587b334e71c12300453b8b4b4c6aa.jpg</td><td> /data/event-planning</td><td>event-planning</td></tr><tr><td>427</td><td>4a455340-09a2-4370-ad86-73d7964603db</td><td>DIY Acrylic Paint Pouring Wall Art - Abbotts At Home</td><td>Easy to follow steps for this easy DIY wall art. Acrylic Paint Pouring with a blow dryer, Dutch paint pour. Written steps and full step by step video to help you do it too! 👍</td><td>null</td><td>Abbotts At Home</td><td>Acrylic Pouring Art,Acrylic Wall Art,Acrylic Pouring Techniques,Acrylic Paintings,Art Paintings,Marble Art,Marble Painting,Pour Painting,Large Canvas Art</td><td>video</td><td>https://i.pinimg.com/videos/thumbnails/originals/d5/5e/fa/d55efa6ef50d35dac425cea935f39c89.0000001.jpg</td><td> /data/art</td><td>art</td></tr><tr><td>3800</td><td>d2c367ed-9287-4ea3-b173-198b292d9981</td><td>Reinforcing the Difficult Child When Token Boards Don't Work!</td><td>behavior, special education, token boards, when token boards don't work, money token systems</td><td>null</td><td>Traci Bender - The Bender Bunch</td><td>Special Education Behavior,Classroom Behavior Management,Behavior Plans,Behaviour Management,Behavior Charts,Behavior Board,Behavior Report,Behavior Analyst,Preschool Special Education</td><td>image</td><td>https://i.pinimg.com/originals/24/f9/e2/24f9e22ada4a79c61432ef6c8fe1d0f9.jpg</td><td> /data/education</td><td>education</td></tr><tr><td>159</td><td>841a161a-47b8-4161-884d-adeb67a28b1e</td><td>Valentine's Day Bee Directed Drawing {Art Project}</td><td>This bee directed drawing and associated pages will help you create a fun and creative Valentine's Day Directed Drawing Art Project activity for your class.Choose to do a painti… </td><td>null</td><td>Teachers Pay Teachers</td><td>Classroom Art Projects,School Art Projects,Art Classroom,Art Projects For Kindergarteners,Spring Art Projects,Classroom Posters,Valentines Art Lessons,Valentines Day Activities,Grade 1 Art</td><td>image</td><td>https://i.pinimg.com/originals/49/ff/2e/49ff2e83c0cefdd37213f6084c6f0566.jpg</td><td> /data/art</td><td>art</td></tr><tr><td>3599</td><td>ff0dd945-dafa-411c-8cef-eb43e374e815</td><td>Educational Leadership in Aotearoa New Zealand : Issues of Context and Social Justice</td><td>This book presents 10 inspirational case studies of how centre leaders, principals and leadership teams in high-needs New Zealand educational settings have enacted leadership to… </td><td>null</td><td>Walmart</td><td>Research Studies,Educational Leadership,Education System,Secondary School,Try It Free,Book Format,Social Justice,Young People,Paperback Books</td><td>image</td><td>https://i.pinimg.com/originals/0e/ea/c4/0eeac457780bbe43fcc5e9eaabd80f62.jpg</td><td> /data/education</td><td>education</td></tr><tr><td>10552</td><td>17301b8c-ccbb-42ad-b2df-3876df35b1cd</td><td>The Prowler Emergency Response Vehicle</td><td>January 23, 2009 We can see emergency responders queueing up for this one. ATVCorp has created versions of its Prowler Light Tactical All Terrain Vehicle (LTATV) for fire-fighti… </td><td>314</td><td>p hump</td><td>Army Vehicles,Armored Vehicles,Go Kart Buggy,Atv Attachments,Aviation Fuel,Special Forces,Special Ops,Terrain Vehicle,Emergency Response</td><td>image</td><td>https://i.pinimg.com/originals/14/6b/6b/146b6b1a1127773f7046e08550e68ed0.jpg</td><td> /data/vehicles</td><td>vehicles</td></tr><tr><td>1422</td><td>7bbe860c-a739-4ba9-babd-feb24bb6e4d9</td><td>41 Life-Saving Beauty Hacks Every Girl Should Have In Her Arsenal</td><td>Might try this... I'm generally skeptical about at-home remedies, but I know baking soda and lemons both do wonders. More</td><td>null</td><td>BuzzFeed</td><td>Baking Soda Lemon Juice,Diy Beauté,Tips Belleza,Belleza Natural,Health And Beauty Tips,Beauty Secrets,Beauty Advice,Diy Beauty Tips,Beauty Life Hacks</td><td>image</td><td>https://i.pinimg.com/originals/c8/ab/af/c8abaffc56050f674eef8e65ad684929.jpg</td><td> /data/beauty</td><td>beauty</td></tr><tr><td>5309</td><td>c38bb47b-9584-4fc4-af0d-a31e1061df41</td><td>How to Watch Your Favorite Shows Without Cable</td><td>How to Get Rid of Cable and Still Watch all of your favorite shows! Saving Money Tips for TV & Cable!</td><td>null</td><td>Passion For Savings</td><td>Ways To Save Money,Money Tips,Money Saving Tips,Money Hacks,Managing Money,Cable Tv Alternatives,Budget Planer,Financial Tips,Financial Planning</td><td>image</td><td>https://i.pinimg.com/originals/c9/18/be/c918be2784382dc49010719bf1742a61.jpg</td><td> /data/finance</td><td>finance</td></tr><tr><td>552</td><td>b82602a9-e434-42cf-9481-22f3f41d82ce</td><td>The herbal bed: Katie Scott's psychedelic flora and fauna – in pictures</td><td>Nike trainers sprout plants and French perfumiers inspire by mysterious scientific icons in Katie Scott’s visions that take botanical illustration into the digital age</td><td>null</td><td>The Guardian</td><td>Art And Illustration,Illustration Inspiration,Botanical Illustration,Vintage Illustrations,Botanical Drawings,Botanical Prints,Arte Inspo,Insect Art,Psychedelic</td><td>image</td><td>https://i.pinimg.com/originals/16/8a/fa/168afae02d5ffc71da10cdb312de2cb1.jpg</td><td> /data/art</td><td>art</td></tr><tr><td>1371</td><td>33e92ac1-73d1-4c31-9892-d5e633060790</td><td>How To Do Makeup - Step By Step Tips For The Perfect Look</td><td>What are the basic things you need for makeup? Let’s be honest, ladies; all women can do makeup, yet not all women know how to do makeup right. The good news is, this post can t… </td><td>null</td><td>Glaminati</td><td>Contouring Makeup,Skin Makeup,Beauty Makeup,Makeup Brushes,Eyeliner Makeup,Makeup Tips Lips,Makeup 101,Cheap Makeup,Rosa Eyeliner</td><td>image</td><td>https://i.pinimg.com/originals/2c/1a/d4/2c1ad45b5c54034a2dbc73c84a89f5e4.jpg</td><td> /data/beauty</td><td>beauty</td></tr><tr><td>10119</td><td>40eab9ba-7812-4f26-baca-35a6bed95a9f</td><td>How to Afford Family Travel: 10 Mistakes You're Making (and what to do instead) | Our Next Adventure</td><td>See families traveling all the time and wonder, \"how the heck do they afford this?\" Read 10 mistakes you might be making, and what you should do instead.</td><td>null</td><td>OUR NEXT ADVENTURE | family travel blog</td><td>Family Vacation Destinations,Vacation Trips,Travel Destinations,Vacation Ideas,Cheap Family Vacations,Vacation Travel,Best Family Vacation Spots,Vacation Quotes,Vacation Memories</td><td>image</td><td>https://i.pinimg.com/originals/0a/49/fb/0a49fbcec746c4219d3a6f30834f378e.jpg</td><td> /data/travel</td><td>travel</td></tr><tr><td>9074</td><td>2adede06-7fb0-4b5f-8cf9-ce8e6d6fa6a1</td><td>77 Disney Tattoos To Unleash Your Magic Power - Our Mindful Life</td><td>Disney characters never go out with time. From small to bold, here are the best Disney tattoos that both adults and children will adore.</td><td>null</td><td>Our Mindful Life</td><td>Small Disney Tattoos,Disney Thigh Tattoo,Matching Disney Tattoos,Disney Couple Tattoos,Disney Inspired Tattoos,Disney Sleeve Tattoos,Matching Best Friend Tattoos,Small Tattoos,3 Best Friend Tattoos</td><td>image</td><td>https://i.pinimg.com/originals/29/1d/13/291d1361e275358df53c1db02b63d3a4.jpg</td><td> /data/tattoos</td><td>tattoos</td></tr><tr><td>2604</td><td>087b0fa9-f901-4262-aa0a-6caf234d1b35</td><td>75+ Neutral Christmas Home Decor for the Holiday Season in Farmhouse Style using Earth Tones Modern</td><td>My favorite 75+ Neutral Christmas Home Decor for decorating your house during the Holiday Season in earth tones and a farmhouse, rustic style all winter. I love this modern, sim… </td><td>null</td><td>Everyday Wholesome</td><td>Colorful Christmas Decorations,Colorful Christmas Tree,Christmas Centerpieces,Christmas Colors,Xmas Colors,Winter Decorations,Christmas Trends,Christmas Inspiration,Christmas Home</td><td>image</td><td>https://i.pinimg.com/originals/86/84/39/868439dd894969e3abd6a2a8a9fe1e9c.jpg</td><td> /data/christmas</td><td>christmas</td></tr><tr><td>223</td><td>8672f996-6ce9-403e-9599-2c4df668f1e0</td><td>Easy Gouache painting</td><td>null</td><td>null</td><td>Jasminxg</td><td>Simple Canvas Paintings,Easy Nature Paintings,Tree Paintings,Cool Paintings,Watercolor Art Lessons,Watercolor Paintings For Beginners,Gouache Painting,Painting Art,Mandala Art Lesson</td><td>multi-video(story page format)</td><td>https://i.pinimg.com/videos/thumbnails/originals/17/49/16/1749164b93866d4eac32a52a3ccfd40a.0000001.jpg</td><td> /data/art</td><td>art</td></tr><tr><td>8312</td><td>ca3c9bb0-7281-4b9b-8abf-201da0b68d62</td><td>8 Vision Board Ideas To Manifest Your Dreams - TheFab20s</td><td>Trying to create your dream life but don't know where to start?! These vision board ideas are a great way to manifest a new you this year</td><td>null</td><td>TheFab20s | Travel+Food+DIY+Listicles</td><td>Positive Self Affirmations,Positive Affirmations Quotes,Affirmation Quotes,Quotes Positive,Motivational Quotes For Success Positivity,Business Success Quotes,Positive Vibes,Motivational Quotes For Women,Affirmations For Love</td><td>image</td><td>https://i.pinimg.com/originals/36/d1/be/36d1be632cbf9b6c8e377a052b31d064.jpg</td><td> /data/quotes</td><td>quotes</td></tr><tr><td>2858</td><td>26f81da4-26a9-465b-b819-6099bc66e1c0</td><td>50 Popular Spring Crafts For Kids You Need To Make</td><td>Celebrate warmer weather & spring blooms with these 50 delightful spring crafts for kids. Bright, cheerful & fun to make these crafts are a guaranteed hit.</td><td>null</td><td>This Tiny  Blue House</td><td>Spring Crafts For Kids,Diy For Kids,Arts And Crafts For Kids Toddlers,Spring Crafts For Preschoolers,Spring Craft Preschool,Simple Kids Crafts,Summer Crafts For Toddlers,Easy Preschool Crafts,Garden Crafts For Kids</td><td>image</td><td>https://i.pinimg.com/originals/f0/ca/c3/f0cac3e3b0c2ebf5f2d2e4f70455e794.jpg</td><td> /data/diy-and-crafts</td><td>diy-and-crafts</td></tr><tr><td>6261</td><td>308c5c1c-1ebd-4649-be78-14424ee346b1</td><td>DECORATING WITH RATTAN & CANE - Dashing Darlin'</td><td>BOHEMIAN TRENDING TEXTURES FOR THE HOME ~ ROUNDED UP MY FAVORITE RATTAN & CANE HOME DECOR FINDS</td><td>null</td><td>Dashing Darlin' </td><td>Boho Chic Living Room,Boho Chic Entryway,Living Room Decor With White Couch,Rustic Living Rooms,Diy Living Room,Living Room Upstairs,Rustic Room,Bohemian Living,Living Room Inspiration</td><td>image</td><td>https://i.pinimg.com/originals/24/89/f7/2489f76f98cb3c1189848ddc42f2ec52.jpg</td><td> /data/home-decor</td><td>home-decor</td></tr><tr><td>3201</td><td>6370f096-f344-49c3-a6b1-3072c537a953</td><td>DIY Pom Pom Letters for MOM!</td><td>Marla Meridith - DIY Pom Pom Letters for MOM!</td><td>null</td><td>Marla Meridith</td><td>Kids Crafts,Crafts To Make,Craft Projects,Arts And Crafts,Craft Ideas,Pom Pom Crafts,Yarn Crafts,Flower Crafts,Diy Flower</td><td>image</td><td>https://i.pinimg.com/originals/db/c6/98/dbc69818c531e28ee514aaaec377257d.jpg</td><td> /data/diy-and-crafts</td><td>diy-and-crafts</td></tr><tr><td>2637</td><td>b18e8d38-eb45-40c0-b443-4fca250df850</td><td>Marco Boho</td><td>null</td><td>null</td><td>El blog amarillo</td><td>Diy Craft Projects,Diy Crafts For Home Decor,Diy And Crafts Sewing,Diy Wall Decor,Creative Crafts,Fun Crafts,Paper Crafts,Sewing Diy,Diy Wall Art</td><td>multi-video(story page format)</td><td>https://i.pinimg.com/videos/thumbnails/originals/b6/ab/28/b6ab28752f2804d71a3993565ba89308.0000001.jpg</td><td> /data/diy-and-crafts</td><td>diy-and-crafts</td></tr><tr><td>1198</td><td>1a90caac-f5df-4a27-821b-0fb4be678542</td><td>The End of the Skin-Care Craze</td><td>In the face of a pandemic, economic collapse, and climate change, Instagram photos of shelves crowded with skin-care products appear out of</td><td>20</td><td>Mccready-romero</td><td>Care Organization,Bathroom Organisation,Medicine Organization,Beauty Care,Beauty Skin,Elle Ferguson,Shelfie,Makeup Storage,Beauty Room</td><td>image</td><td>https://i.pinimg.com/originals/a3/d0/29/a3d029500020cc9c9c44f97c60dbc515.png</td><td> /data/beauty</td><td>beauty</td></tr><tr><td>10370</td><td>746948e7-a216-456b-8de7-7fee7312012c</td><td>Joshua Tree - A Weekend in the Desert with Faithfull | Song of Style</td><td>Aimee Song of the blog Song of Style shares a photo diary of her weekend in the Joshua Tree desert with Faithfull the Brand. Photos by Grant Legan.</td><td>null</td><td>Maggie Panning</td><td>Pretty Cars,Cute Cars,Classy Cars,Sexy Cars,Dream Cars,My Dream Car,Carros Retro,Ford Classic Cars,Ford Mustang Classic</td><td>image</td><td>https://i.pinimg.com/originals/11/1e/c3/111ec37eed198cb432f71b20afd0e770.jpg</td><td> /data/vehicles</td><td>vehicles</td></tr><tr><td>7167</td><td>922425d2-16dc-465e-8fe4-e3c081a0299f</td><td>Hamilton Khaki Aviation Pilot Chrono Watch H76712151</td><td>Hamilton Khaki Aviation Pilot Chrono H76712151 Movement: ETA 251.274 quartz chronograph Case: Polished and brushed stainless steel. 44mm in diameter. Water resistant to 100 mete… </td><td>265</td><td>Midwest Jewelers & Estate Buyers</td><td>Swiss Army Watches,Seiko Watches,Luxury Watches For Men,Silver Man,Breitling,Fashion Watches,Men's Fashion,Fashion Tips,Cool Watches</td><td>image</td><td>https://i.pinimg.com/originals/13/cb/d6/13cbd63c3b2582b9ba4ec027d62e91c2.png</td><td> /data/mens-fashion</td><td>mens-fashion</td></tr><tr><td>10673</td><td>ede73169-5b9f-4906-b02e-9db1bee203a4</td><td>Discover the new Range Rover luxury performance SUV</td><td>Shadow Velar</td><td>null</td><td>Land Rover USA</td><td>Range Rover Negro,Range Rover Preto,Range Rover Schwarz,Range Rover Black,Range Rover Evoque,Range Rover Car,Pink Range Rovers,The New Range Rover,Luxury Sports Cars</td><td>image</td><td>https://i.pinimg.com/originals/5d/c8/87/5dc887a26bd47598867f3576cfe1ace7.jpg</td><td> /data/vehicles</td><td>vehicles</td></tr><tr><td>2060</td><td>177dde1a-3409-4865-a533-9f50efaedcd8</td><td>50 DIY Decorations for a Jolly Christmas Table Setting</td><td>You'll feel extra merry during your holiday dinner!</td><td>254</td><td>Syndi Mulcahy</td><td>Christmas Place Cards,Christmas Names,Christmas Napkins,Christmas Mantels,Christmas Diy,Christmas Wreaths,Christmas Place Setting,Thanksgiving Place Cards,Christmas Favors</td><td>image</td><td>https://i.pinimg.com/originals/1a/e4/e0/1ae4e03602fb20a77cb53e623547d317.png</td><td> /data/christmas</td><td>christmas</td></tr><tr><td>9487</td><td>3bccb05e-f031-477f-9ca4-9be28e5bd542</td><td>The Cheapest Countries to Visit Around the World</td><td>Are you looking for the cheapest country to visit? Here are the cheapest countries to visit in the world! These are affordable destinations that offer the most value for an unfo… </td><td>null</td><td>Diana's Healthy Living | Luxury Adventure Travel Blog</td><td>Travel Advice,Travel Guides,Travel Tips,Travel Goals,Travel Info,Travel Essentials,Travel Stuff,Travel Hacks,Cheap Travel</td><td>image</td><td>https://i.pinimg.com/originals/56/10/37/561037138bcc9c20e88a8e66ae0cb658.png</td><td> /data/travel</td><td>travel</td></tr><tr><td>772</td><td>49a12516-2c77-445f-b656-4b55b4a69608</td><td>5 Pastel Color Palettes for 5 Floral Favorites</td><td>Everyone loves flowers for their beautiful shapes and color, but confronting all that colorful splendor can be daunting. Artist Jude Tolar shows how to make color decoding easy… </td><td>null</td><td>Artists Network</td><td>Chalk Pastel Art,Soft Pastel Art,Pastel Artwork,Oil Pastel Paintings,Chalk Pastels,Pastel Drawing,Oil Pastels,Horse Paintings,Flower Paintings</td><td>image</td><td>https://i.pinimg.com/originals/e1/eb/e8/e1ebe8d2f201d92109b1b12bf6e2c1ac.jpg</td><td> /data/art</td><td>art</td></tr><tr><td>7510</td><td>e09fddda-1cc2-41c8-b799-d238fe90b937</td><td>See the Most Stylish Men of New York Fashion Week</td><td>10 guys with great style at the spring 2016 shows.</td><td>null</td><td>GQ Magazine</td><td>Nyc Mens Fashion,Fashion Mode,Mens Fashion Suits,New York Fashion,Fashion Fashion,Fashion Check,Paris Fashion,Latex Fashion,Fashion Outlet</td><td>image</td><td>https://i.pinimg.com/originals/45/3c/fb/453cfb4859d0b6730422c75f7b8918ec.jpg</td><td> /data/mens-fashion</td><td>mens-fashion</td></tr><tr><td>5758</td><td>af602075-7bea-4aa0-adf4-a1a89952e92e</td><td>Robot Challenge Screen</td><td>Need to organize your finances? Create a filing system that works for you. Learn how to organize your finances and give all your documents a home with</td><td>null</td><td>Esavingsblog</td><td>Ways To Save Money,Money Tips,Money Saving Tips,Managing Money,Money Hacks,Saving Ideas,Finance Bank,Personal Finance,Finance Degree</td><td>image</td><td>https://i.pinimg.com/originals/e6/46/a3/e646a3462219ed0f6f752bcad93fd5a5.png</td><td> /data/finance</td><td>finance</td></tr><tr><td>1137</td><td>c0549191-51c3-4fb3-bcd3-824a9c46cfd7</td><td>Epus-PRO Treatment Device</td><td>Electroporation + LED + Low-Frequency Exercising muscles you never use in daily life, this product works like an electroporation that you can only get in a medical skin care cli… </td><td>18</td><td>Awesthetics by Amy Wong</td><td>Cream For Oily Skin,Moisturizer For Oily Skin,Oily Skin Care,Face Skin Care,Face Care Tips,Beauty Tips For Face,Beauty Tricks,Skin Care Clinic,Skin Treatments</td><td>image</td><td>https://i.pinimg.com/originals/05/61/89/056189f29c6898f2db14af0b526adf52.png</td><td> /data/beauty</td><td>beauty</td></tr><tr><td>7234</td><td>c05f564d-2783-4bec-b205-d3f756276296</td><td>16 Amazing Casual Outfit Grids For Guys</td><td>Your spring summer wardrobe inspiration..</td><td>null</td><td>Mens Fashion - LIFESTYLE BY PS </td><td>Mode Outfits,Casual Outfits,Men Casual,Fashion Outfits,Fashion Clothes,Hijab Casual,Gentleman Mode,Gentleman Style,Mode Masculine</td><td>image</td><td>https://i.pinimg.com/originals/0e/cf/eb/0ecfeb441e7a3559aa41f11b94cdd6ef.jpg</td><td> /data/mens-fashion</td><td>mens-fashion</td></tr><tr><td>327</td><td>549e1cf5-2301-478b-9e41-af3f618bdc5b</td><td>10 Creative Influencers to Follow for Preschool Arts and Crafts Ideas</td><td>These up-and-coming influencers share amazing ideas for teaching our children through art, nature, and play. Also, their ideas are educational and fun!</td><td>null</td><td>Learn Play Read</td><td>Classe D'art,Preschool Arts And Crafts,Preschool Christmas,Christmas Crafts,Ecole Art,Beginning Of School,Art Classroom,Flipped Classroom,Art Plastique</td><td>image</td><td>https://i.pinimg.com/originals/82/c1/1c/82c11cdbc4adcbccf8db68187f45abe3.jpg</td><td> /data/art</td><td>art</td></tr><tr><td>7874</td><td>5343b4fb-36a8-4f38-a71d-48c5eaabb57f</td><td>35 Happiness Quotes Will Remind You To Freaking ROCK Your Day Today</td><td>Who needs anyone else? not me. I deserve the world so I'm gonna give it to myself. | Being You | Inspirational Quotes | #beinspired #beyourself #inspirationalquote | www.unsoshl… </td><td>null</td><td>YourTango</td><td>Good Quotes,Motivacional Quotes,Quotes Thoughts,Great Inspirational Quotes,Life Quotes Love,Self Love Quotes,Change Quotes,Quotes To Live By,Best Quotes</td><td>image</td><td>https://i.pinimg.com/originals/24/8e/64/248e64a976d22570453b252fdcb96396.jpg</td><td> /data/quotes</td><td>quotes</td></tr><tr><td>1450</td><td>be11eb0e-bf1d-4558-979c-5daf59454439</td><td>A multitasking cleanser/toner that feels incredibly light on the skin and smells ever so faintly of rose petals.</td><td>It can be used as a pre-cleansing or pre-makeup step, a toner (that mildly hydrates and exfoliates), or a midday refresher. The possibilities!Get it from Soko Glam for $30.</td><td>null</td><td>BuzzFeed</td><td>Face Care,Body Care,Beauty Skin,Beauty Makeup,K Beauty,Beauty Water,Tips Belleza,Aesthetic Makeup,All Things Beauty</td><td>image</td><td>https://i.pinimg.com/originals/08/68/cb/0868cb65f447b9b165544f72fd05cbce.jpg</td><td> /data/beauty</td><td>beauty</td></tr><tr><td>10245</td><td>cb3aee98-8171-44ce-bc47-9275b2d2c731</td><td>99 Things Every Female Traveler Should Know</td><td>From practical travel tips to tips for inner travel peace, the following is a long list of everything we think every female traveler should know in order to get the most out of… </td><td>null</td><td>Her Packing List | Minimalist Travel Essentials & Tips for Women</td><td>Travel To Do,Travel Blog,Travel Info,Future Travel,Travel Advice,Solo Travel,Time Travel,Travel Guides,Places To Travel</td><td>image</td><td>https://i.pinimg.com/originals/cd/66/6d/cd666dbe0791e67881586f0c85495f88.jpg</td><td> /data/travel</td><td>travel</td></tr><tr><td>9093</td><td>8e478adb-0e3f-4045-83ce-79f155a63722</td><td>51 Unique Minimalist Tattoos Designs For Women</td><td>\"Minimalist Tattoos\" Discover how less is more with the best minimalist tattoo designs for women. Explore cool conservative simplicity with super simple ink ideas. See more idea… </td><td>null</td><td>Beautyholo | Latest Hairstyles, Nail Design Ideas, Home Décor DIY, Women Fashion Ideas</td><td>Small Tattoos Men,Tatoos Men,Cool Tattoos For Guys,Cool Tatoos For Women,Cool Simple Tattoos,Unique Tattoos,Diy Tattoo,Tattoo Fonts,Tattoo Quotes</td><td>image</td><td>https://i.pinimg.com/originals/c2/82/7d/c2827d11633b11c11a3da17b024264b0.jpg</td><td> /data/tattoos</td><td>tattoos</td></tr><tr><td>2301</td><td>d502bdc4-103c-47db-832b-4a42a1ae9e0e</td><td>Christmas Candle</td><td>A gorgeous fragranced soy candle in a stoneware pot. Scent notes: • Top: Apple Cider, Cinnamon • Middle: Fresh Cut Christmas Tree • Base: Cookies, Orange Peels, Cloves Burn time… </td><td>13</td><td>Home Etc</td><td>Christmas Tree Base,Fresh Cut Christmas Trees,Christmas Morning,Christmas Scents,Christmas Candles,Holiday Tree,Rustic Christmas,Fall Candles,Soy Candles</td><td>image</td><td>https://i.pinimg.com/originals/fc/a0/6e/fca06e8a43ed4c867a58acbb1b6a5e6e.jpg</td><td> /data/christmas</td><td>christmas</td></tr><tr><td>2788</td><td>caf2fab1-bca6-49ff-8084-98094c945143</td><td>Painting Pasta to Thread</td><td>Painting pasta to thread - this was so much fun and the cool fluro pasta made great necklaces!</td><td>null</td><td>Katepickle - picklebums - fun ideas for families</td><td>Craft Activities For Kids,Toddler Activities,Easy Toddler Crafts,Time Activities,Activities For 4 Year Olds,At Home Crafts For Kids,Arts And Crafts For Kids Toddlers,Back To School Crafts For Kids,Spring Toddler Crafts</td><td>image</td><td>https://i.pinimg.com/originals/a1/3d/0a/a13d0a596937d745809c21d68de1ab92.jpg</td><td> /data/diy-and-crafts</td><td>diy-and-crafts</td></tr><tr><td>9268</td><td>eaadbbf7-06aa-49cb-bf9b-1205118deb9c</td><td>40 Hot Finger Tattoo Ideas</td><td>Although in the past, finger tattoos were not chosen by most people. However, as the trend of tattoos continues to change, we have found that in recent years more and more peopl… </td><td>null</td><td>IdeasDonuts</td><td>Wedding Finger Tattoos,Arrow Tattoo Finger,Flower Finger Tattoos,Hand And Finger Tattoos,Simple Finger Tattoo,Finger Tattoos For Couples,Hand Tattoos For Girls,Finger Tattoo For Women,Small Hand Tattoos</td><td>image</td><td>https://i.pinimg.com/originals/06/16/a7/0616a7915ce4bb0125906778ba979fe0.png</td><td> /data/tattoos</td><td>tattoos</td></tr><tr><td>1706</td><td>b5c8a1b5-9e90-4522-9bec-2477b698d5b7</td><td>Standing Figurine Toys Xmas Santa Claus Snowman Reindeer Figure Plush Dolls Christmas Decorations Ornaments Home Indoor Table Ornaments Christmas Party Tree Hanging Decor Toys Gifts for Kids Friends…</td><td>Features: Material:Lint Size:48ｘ18cm Quantity:1 pc Shape:Santa Claus, snowman. Elk Occasion:Christmas Description: 1. Fashion design, high quality 2. Santa Claus, snowman. Elk C… </td><td>null</td><td>Wear24-7</td><td>Merry Christmas To You,Christmas Toys,Great Christmas Gifts,Christmas Snowman,Christmas Ornaments,Holiday,Christmas Party Decorations,Christmas Themes,Decoration Party</td><td>image</td><td>https://i.pinimg.com/originals/b5/7f/21/b57f219fa89c1165b57525b8eae711da.jpg</td><td> /data/christmas</td><td>christmas</td></tr><tr><td>5293</td><td>cf33a9ea-788b-4440-bbff-19939cd49d36</td><td>I Will Teach You to Be Rich, Second Edition: No Guilt. No Excuses. No Bs. Just a 6-Week Program That Works</td><td>The groundbreaking NEW YORK TIMES and WALL STREET JOURNAL BESTSELLER that taught a generation how to earn more, save more, and live a rich life--now in a revised 2nd edition. Bu… </td><td>793</td><td>Bookmarks Retail</td><td>Seth Godin,Wall Street Journal,Good Books,Books To Read,Money Makeover,Finance Books,Finance Tips,Words To Use,Dale Carnegie</td><td>image</td><td>https://i.pinimg.com/originals/5f/53/c9/5f53c9406ddaf6449dc1c6b93c7f8e31.jpg</td><td> /data/finance</td><td>finance</td></tr><tr><td>7733</td><td>4345edf6-abc4-4fc6-9230-660280ef149b</td><td>40 Pick-Me-Up Quotes For When You Feel Like You're About To Give Up</td><td>40 Best Inspirational Quotes To Encourage You To Not Give Up | YourTango</td><td>null</td><td>YourTango</td><td>Proud Quotes,Now Quotes,Words Quotes,Life Quotes,Sayings,Leader Quotes,Quotes About Being Proud,Try Again Quotes,Relationship Quotes</td><td>image</td><td>https://i.pinimg.com/originals/07/eb/16/07eb163de430de579cedf9ed92eba33c.jpg</td><td> /data/quotes</td><td>quotes</td></tr><tr><td>3716</td><td>74f878f3-6f1b-4b41-8e71-67a68a0ae76a</td><td>Engaging Secondary Students with Crime Stories — Bespoke ELA:  Essay Writing Tips + Lesson Plans</td><td>Here, you will find four projects that involve crime as a means of targeting essential skills for reading and writing. These projects are sure to capture student interest and en… </td><td>null</td><td>The Bespoke ELA Classroom</td><td>Middle School Reading,Middle School English,Middle School Teachers,Ela Classroom,English Classroom,English Teachers,8th Grade Ela,Mystery,Teaching Reading</td><td>image</td><td>https://i.pinimg.com/originals/78/5e/2a/785e2afc1f0ca538109b1eb6b517076b.jpg</td><td> /data/education</td><td>education</td></tr><tr><td>3750</td><td>011f8a14-ffab-4eee-a180-2c9154af430d</td><td>FREE FOR TEACHERS! List of Companies offering free subscriptions now!</td><td>Giant list of companies offering FREE services for schools and teachers during school closures</td><td>null</td><td>Becky Mansfield - YourModernFamily </td><td>Teacher Websites,Teacher Tools,Teacher Hacks,Teacher Resources,Free Teaching Resources,Teacher Binder,Teacher Stuff,Teaching Strategies,Teaching Tips</td><td>image</td><td>https://i.pinimg.com/originals/05/df/76/05df76296994a6d9f5830eee642ff296.jpg</td><td> /data/education</td><td>education</td></tr><tr><td>232</td><td>4b3a299c-b202-44c3-8e54-bedce8f35429</td><td>Mountains made up of lines</td><td>Lines can depict any shape; they can create tridimensional effects and give the perception of movement. I did this drawing with 6th grade students, in order to create a mountain… </td><td>26</td><td>mj</td><td>Line Art Projects,School Art Projects,Art School,Art Education Projects,Garden Projects,Doodle Art,Elements Of Art Line,4th Grade Art,Art Lessons Elementary</td><td>image</td><td>https://i.pinimg.com/originals/ad/e2/af/ade2af2b4ad1419a8d13b12a7969be16.jpg</td><td> /data/art</td><td>art</td></tr><tr><td>8300</td><td>7ddd23cf-68a5-4b5a-a800-1d985cbc69b4</td><td>The Maker's Map - Quotes and Sayings that inspire</td><td>Quotes and Sayings that inspire, motivate, encourage women. Quotes to use on social media. Content ideas for bloggers.</td><td>null</td><td>Amber Strong - The Maker’s Map | DIY’s, Crafts & Home Decor</td><td>Positive Quotes For Life Encouragement,Positive Quotes For Life Happiness,Good Happy Quotes,Quotes Positive,Being Happy Quotes,Happy Sayings,Happy Life Quotes To Live By,Self Happiness Quotes,Positive Thoughts Quotes</td><td>image</td><td>https://i.pinimg.com/originals/e9/83/44/e983446f2c08cc6da883b9d777f3369f.jpg</td><td> /data/quotes</td><td>quotes</td></tr><tr><td>8978</td><td>b98e5485-de15-45e7-b4b1-c45351d84f30</td><td>50 Elephant Tattoo Designs for Women Stylish Picture</td><td>Attractive Geometric Elephant Tattoo Female Will Love Today elephant tattoo for women are popular for…</td><td>null</td><td> Travel Pins Design Ideas</td><td>Cute Elephant Tattoo,Elephant Tattoo Design,Small Elephant Tattoos,Elephant Thigh Tattoo,Elephant Tattoo Meaning,Elephant Outline,Tattoo Oma,Tigh Tattoo,Small Thigh Tattoos</td><td>image</td><td>https://i.pinimg.com/originals/f9/14/11/f9141167d060e6a949e585f1b877a949.jpg</td><td> /data/tattoos</td><td>tattoos</td></tr><tr><td>2048</td><td>18574885-466a-45b5-acd8-131467643d3c</td><td>Outdoor Christmas Decorations to Give Your Yard Holiday Cheer</td><td>All I want for Christmas is a beautifully decorated home.</td><td>null</td><td>Country Living Magazine</td><td>Noel Christmas,Winter Christmas,Magical Christmas,Christmas Garlands,Christmas 2019,Christmas Displays,Office Christmas,Christmas Vacation,Christmas Movies</td><td>image</td><td>https://i.pinimg.com/originals/92/65/29/926529446fc63379a274a946aa85f9b8.jpg</td><td> /data/christmas</td><td>christmas</td></tr><tr><td>10337</td><td>104c2394-368c-425a-9625-a116b59da94d</td><td>New Bestop Sunrider for Hardtop Review/s</td><td>After a week with my Sunrider . . LOVE!! I've opened it more in a week than I've had my freedom panels off in 1.5 years. Now, who has a sun-visor mod so...</td><td>null</td><td>WranglerForum.com</td><td>Cj Jeep,Jeep Mods,Jeep Suv,Jeep Truck,Jeep Wrangler Forum,Jeep Wrangler Unlimited,Jeep Wrangler Accessories,Jeep Accessories,Jeep Photos</td><td>image</td><td>https://i.pinimg.com/originals/54/30/88/5430889d469677d563eaa2251711015f.jpg</td><td> /data/vehicles</td><td>vehicles</td></tr><tr><td>7832</td><td>a549938a-786e-4a94-a473-403e8e3a15ad</td><td>You either win or you learn❤️ #inspirationalquote #quote #positive #hope</td><td>null</td><td>null</td><td>LISA MASLYK / VOICE OVER TALENT /ACTOR</td><td>Motivacional Quotes,Doodle Quotes,Wisdom Quotes,Words Quotes,Year Quotes,Positive Quotes For Life,Good Life Quotes,Self Love Quotes,Self Healing Quotes</td><td>multi-video(story page format)</td><td>https://i.pinimg.com/videos/thumbnails/originals/2b/20/ac/2b20ace41dfc29087005a3df9fe1dd6d.0000001.jpg</td><td> /data/quotes</td><td>quotes</td></tr><tr><td>8366</td><td>046e2c32-1061-42d3-8017-1fc93865edb9</td><td>'Quote - You don't have to be perfect to be amazing' iPhone Case by HelenDesignXO</td><td>Be Brave Enough to Set the Sun. Motivation Quotes.</td><td>null</td><td>Vinyl Written</td><td>Quotes Wolf,Motivacional Quotes,Poetry Quotes,Words Quotes,Funny Quotes,Sun Qoutes,Quotes On Sun,More To Life Quotes,Take Me Back Quotes</td><td>image</td><td>https://i.pinimg.com/originals/d3/41/91/d341916b119a3df2836d2079367f7b20.jpg</td><td> /data/quotes</td><td>quotes</td></tr><tr><td>3334</td><td>35a5460b-412c-4135-8122-e4461866018a</td><td>DIY - GUMBALL MACHINE FROM BOTTLE</td><td>null</td><td>null</td><td>Girl Crafts</td><td>Diy Crafts For Teens,Diy Crafts To Do,Diy Crafts Hacks,Diy Crafts Jewelry,Diy Arts And Crafts,Cute Crafts,Creative Crafts,Easy Crafts,Cute Diy Crafts For Your Room</td><td>multi-video(story page format)</td><td>https://i.pinimg.com/videos/thumbnails/originals/39/29/48/392948e8d63ec699260decb0fc9647c1.0000001.jpg</td><td> /data/diy-and-crafts</td><td>diy-and-crafts</td></tr><tr><td>778</td><td>f82fe1cc-22ce-4c4d-82cc-2e8c9325701d</td><td>Your complete guide to watercolors for beginners!</td><td>Looking for a complete post on how to watercolor? This guide shows you step-by-step how to learn how to watercolor on your own!</td><td>null</td><td>Menucha - Moms and Crafters</td><td>Watercolor Beginner,Watercolor Paintings For Beginners,Step By Step Watercolor,Watercolor Tips,Watercolour Tutorials,Watercolor Techniques,Art Techniques,Simple Watercolor,Tattoo Watercolor</td><td>image</td><td>https://i.pinimg.com/originals/d9/bf/31/d9bf3191828e8a4d145db739d5fac53e.jpg</td><td> /data/art</td><td>art</td></tr><tr><td>480</td><td>f5dfee8f-1b62-417d-966c-8cf205418c68</td><td>Abstract Portrait</td><td>No description available</td><td>null</td><td>Ovetta Jackson</td><td>Abstract Portrait,Portrait Art,Arte Black,African Art Paintings,Black Art Painting,Afro Art,Arte Pop,African American Art,Love Art</td><td>image</td><td>https://i.pinimg.com/originals/05/ed/11/05ed1128fe3a8784ad68900d310654d6.jpg</td><td> /data/art</td><td>art</td></tr><tr><td>3011</td><td>8d5339e6-ba89-412a-bc61-4d5205fe32f8</td><td>Kids paper plate string art for every holiday - My Silly Squirts</td><td>Kid's String Art Craft for Every Holiday</td><td>null</td><td>JDaniel4's Mom</td><td>Kids Crafts,Preschool Crafts,Easter Crafts,Projects For Kids,Craft Projects,Craft Ideas,Paper Plate Crafts For Kids,Preschool Christmas,Christmas Crafts</td><td>image</td><td>https://i.pinimg.com/originals/bd/86/74/bd867450a3588b0ce1712f83fb5a58a4.jpg</td><td> /data/diy-and-crafts</td><td>diy-and-crafts</td></tr><tr><td>9475</td><td>5f389774-c116-4b5d-bd81-763d1e729773</td><td>New Zealand North Island 7 Day Itinerary</td><td>One week may feel too short, but with this New Zealand North Island 7 Day Itinerary you can cover a lot of ground! Plus, read about where to stay, self-driving, flights, and more!</td><td>null</td><td>Alanna | Periodic Adventures</td><td>Adventure Aesthetic,Travel Aesthetic,Best Places To Vacation,Places To See,North Island New Zealand,New Zealand Adventure,New Zealand Travel Guide,Bali,Beautiful Places To Travel</td><td>image</td><td>https://i.pinimg.com/originals/2e/0d/fc/2e0dfc4293e6d413d18d601248bbe041.jpg</td><td> /data/travel</td><td>travel</td></tr><tr><td>7586</td><td>28525ffe-fb38-4e4b-90be-55464575cc3b</td><td>64 Bad Bitch Quotes To Awaken Your Inner Savage -Our Mindful Life</td><td>A feminist? More like a warrior. These bad bitch quotes might be the perfect slap-in-the-face you'll need to fight self-doubts.</td><td>null</td><td>Our Mindful Life</td><td>Bitch Quotes,Sarcastic Quotes,True Quotes,Funny Quotes,Girls Attitude Quotes,Sassy Quotes Bitchy,Bad Words Quotes,Bad Girl Quotes,Girl Qoutes</td><td>image</td><td>https://i.pinimg.com/originals/43/91/f5/4391f5ce5501ded201706022572514ae.png</td><td> /data/quotes</td><td>quotes</td></tr><tr><td>1864</td><td>6f1951f0-63be-4c4f-8d21-e4995217f69e</td><td>120 Christmas Decorations from the Dollar Store</td><td>Love Christmas decorations but hate spending a lot bunch of money? Check out some of these budget DIY decorations you can easily make from the dollar store!</td><td>null</td><td>Caroline|CarolineVencil.com | Saving & Making Money | Pro Blogger</td><td>Diy Snowman Decorations,Christmas Candle Decorations,Diy Christmas Ornaments,Christmas Ideas,Christmas Christmas,Snowman Ornaments,Christmas Diy Gifts,Vase Decorations,Diy Christmas Decorations For Home</td><td>image</td><td>https://i.pinimg.com/originals/30/85/21/3085215db77e55770202724268465490.jpg</td><td> /data/christmas</td><td>christmas</td></tr><tr><td>6014</td><td>d4c57afb-4775-4482-89c8-71d1bf85b488</td><td>Coffee Table Decor Ideas for a Cozy Living Room - Salvaged Living</td><td>Grab these coffee table decor ideas for a cozy living room. This post is awesome, it has a list of must have elements for cozy coffee table styling plus a list of supply ideas f… </td><td>null</td><td>Salvaged Living</td><td>Coffee Table Decor Living Room,Coffee Table Vignettes,Coffee Table Centerpieces,Coffee Table Styling,Diy Coffee Table,Decorating Coffee Tables,Cozy Living Rooms,Livingroom Table Decor,Living Room Candles</td><td>image</td><td>https://i.pinimg.com/originals/77/b2/bb/77b2bb477d1164908048dabcd78cabd5.jpg</td><td> /data/home-decor</td><td>home-decor</td></tr><tr><td>1967</td><td>0b9d5b95-51a6-465e-ae4a-2cb68ceada29</td><td>15 Fun & Festive Christmas Porch Ideas</td><td>15 unique Christmas porch ideas that will leave you feeling inspired and help you tackle decorating your own entryway for the holidays! It’s almost time to start decorating for… </td><td>null</td><td>Ashley - Modern Glam</td><td>Exterior Christmas Lights,Front Door Christmas Decorations,Christmas Lights Outside,Christmas House Lights,Decorating With Christmas Lights,Porch Decorating,Christmas Porch Decorations,Front Porch Ideas For Christmas,Christmas Lights Outdoor Trees</td><td>image</td><td>https://i.pinimg.com/originals/ff/f8/3b/fff83b02aeb29e2e9341a56fc5e63345.png</td><td> /data/christmas</td><td>christmas</td></tr><tr><td>1699</td><td>e930ea57-d34a-499f-9811-126d39ed1fee</td><td>Easy to Make Mason Jar Christmas Scenes</td><td>ow to make easy and inexpensive Christmas decor with these cute mason jar Christmas scenes. Who doesn't love mason jar crafts for Christmas?</td><td>null</td><td>Twelve On Main</td><td>Christmas Decorations Diy Crafts,Christmas Crafts For Gifts,Diy Decoration,Diy Ornaments,Decor Ideas,Gift Ideas,Decorating Ideas,Diy Christmas Room Decor,Diy Christmas Projects</td><td>image</td><td>https://i.pinimg.com/originals/0c/31/a1/0c31a189ab7e503c035c8af991d5bd29.jpg</td><td> /data/christmas</td><td>christmas</td></tr><tr><td>4996</td><td>cf6c021f-1f41-47da-9492-cdec9d32fca8</td><td>The Secret To Authentic Networking and Building a Professional Network | Career Contessa</td><td>Tips on how to build an authentic network and find genuine connections in your professional network.</td><td>265</td><td>BEIMER</td><td>Event Planning Template,Event Planning Quotes,Event Planning Checklist,Event Planning Business,Event Planning Design,Business Events,Event Decor,Pastel,Career</td><td>image</td><td>https://i.pinimg.com/originals/ae/25/a7/ae25a72d5584a4c8f75e972fb70d48e2.jpg</td><td> /data/event-planning</td><td>event-planning</td></tr><tr><td>10168</td><td>75b8bac1-4aa3-44c3-a310-9faddf4dc576</td><td>dream destination</td><td>null</td><td>189</td><td>DailyDose</td><td>Beautiful Places To Travel,Cool Places To Visit,Places To Go,Romantic Travel,Romantic Vacations,Vacation Places,Dream Vacations,Honeymoon Places,Dream Vacation Spots</td><td>multi-video(story page format)</td><td>https://i.pinimg.com/videos/thumbnails/originals/ab/ba/81/abba81b921f0efc48704f93f5972b29d.0000001.jpg</td><td> /data/travel</td><td>travel</td></tr><tr><td>5333</td><td>1e3d9a5d-4d71-4dbc-9ceb-abb1544b1e32</td><td>The 20 Best Dave Ramsey Tips to Makeover Your Money Today</td><td>These Dave Ramsey tips will help you manage your money and budget so you can pay off debt quickly. These are some of the best personal finance tips and advice to manage your mon… </td><td>null</td><td>Budgets Made Easy</td><td>Financial Peace,Financial Tips,Financial Planning,Financial Literacy,Budgeting Finances,Budgeting Tips,Homepage Layout,Faire Son Budget,Budget Planer</td><td>image</td><td>https://i.pinimg.com/originals/9f/0e/18/9f0e18e2c2615478352c074fff341ccf.png</td><td> /data/finance</td><td>finance</td></tr><tr><td>2565</td><td>9cffaa08-af4a-479a-ae01-16c23f9b7aba</td><td>Gorgeous Outdoor Christmas Decorations: 32 Best Ideas & Tutorials</td><td>32 beautiful outdoor Christmas decorations & ideas on DIY lights, wreaths, garlands, wood signs & ornaments for the yard, porch & front door!</td><td>null</td><td>A Piece of Rainbow</td><td>Christmas Garden,Farmhouse Christmas Decor,Christmas Fun,Christmas Outdoor Lights,White Christmas,Outdoor Christmas Presents,Christmas Manger,All Things Christmas,Handmade Christmas</td><td>image</td><td>https://i.pinimg.com/originals/3c/00/a0/3c00a066c02241b11b9f88c07f63510c.jpg</td><td> /data/christmas</td><td>christmas</td></tr><tr><td>9778</td><td>4bbe076e-8916-4e61-befc-c9ab952af442</td><td>Burano Italy — How to Visit The Most Colorful Town in Europe!</td><td>Your Guide to Burano, Italy. The most colorful town in Europe!</td><td>null</td><td>Amanda Green Bottoms @ kevinandamanda.com</td><td>Places To Travel,Places To Go,Travel Destinations,Holiday Destinations,Day Trips From Venice,Venice In A Day,Italy Travel Tips,Cities In Europe,Europe Places</td><td>image</td><td>https://i.pinimg.com/originals/8d/21/22/8d212261e5a8e25eabf2487ce0afc3f5.jpg</td><td> /data/travel</td><td>travel</td></tr><tr><td>3145</td><td>1022ba0b-eae7-4eba-9120-1fe44d093a32</td><td>How to Colour Chickpeas for Play - Inspire My Play</td><td>Learn how to colour chickpeas for sensory play and craft with this easy DIY</td><td>null</td><td>Laura- Inspire My Play | Play & Learning For Little Kids</td><td>Baby Sensory Play,Sensory Activities Toddlers,Infant Activities,Sensory Bins,Baby Play,Kindergarten Activities,Diy For Kids,Crafts For Kids,Preschool Crafts</td><td>image</td><td>https://i.pinimg.com/originals/35/e0/44/35e0447b94dd9076ed9e51a8d692e489.jpg</td><td> /data/diy-and-crafts</td><td>diy-and-crafts</td></tr><tr><td>1341</td><td>7a902d47-90b8-4fd9-82fc-787f028136ac</td><td>null</td><td>null</td><td>null</td><td>null</td><td>null</td><td>multi-video(story page format)</td><td>null</td><td> /data/beauty</td><td>beauty</td></tr><tr><td>5162</td><td>a68c2e1b-a247-4990-9d78-672d7797bd2b</td><td>How to Live Frugally: 50 Frugal Living Tips!</td><td>What to learn how to live frugally and save money? Read on and learn 50 practical frugal living tips that’ll help you transform your life! These practical tips for frugal living… </td><td>null</td><td>This Mama Blogs -Work at Home Jobs |  Frugal Living | Make Money</td><td>Ways To Save Money,Money Tips,Money Saving Tips,Money Hacks,Money Budget,Managing Money,Groceries Budget,Frugal Living Tips,Frugal Tips</td><td>image</td><td>https://i.pinimg.com/originals/03/f3/5d/03f35d36a796b5f29f8d91193e5e2af9.png</td><td> /data/finance</td><td>finance</td></tr><tr><td>5151</td><td>fa086007-ea95-4ecf-8653-ce749ed3fc8f</td><td>How to Start Paying Off Debt...even with no extra money</td><td>Find out how to start paying off debt with this one simple tip - you can become debt free months or even years faster, even when you have no extra money.</td><td>null</td><td>GrowingSlower</td><td>Refinance Mortgage,Mortgage Tips,Mortgage Payment,Paying Off Mortgage Faster,Pay Off Mortgage Early,Ways To Save Money,Money Tips,Money Saving Tips,Financial Tips</td><td>image</td><td>https://i.pinimg.com/originals/c0/9c/e2/c09ce20892daace8514215013114289e.jpg</td><td> /data/finance</td><td>finance</td></tr><tr><td>2498</td><td>1606db47-8923-4360-9fa6-9400bec6270f</td><td>Tout plein d'idées de décos des Fêtes à réaliser avec des bûches et du bois</td><td>Des créations festives et durables</td><td>null</td><td>debra</td><td>Snowman Christmas Decorations,Christmas Wood Crafts,Homemade Christmas Gifts,Christmas Projects,Holiday Crafts,Primitive Christmas,Christmas Crafts,Christmas Ornaments,Holiday Decor</td><td>image</td><td>https://i.pinimg.com/originals/f4/29/d5/f429d513dfa556d78e28a00bee98e109.jpg</td><td> /data/christmas</td><td>christmas</td></tr><tr><td>7268</td><td>17ed1c57-5328-4e73-b30d-7f113610955a</td><td>Athleisure Outfit Ideas</td><td>Athleisure Outfit Ideas For Men This Year</td><td>null</td><td>TheUnstitchd</td><td>Mens Fall Outfits,Stylish Mens Outfits,Casual Winter Outfits,Winter Fashion Outfits,Look Fashion,Men Casual,Man Winter Fashion,Fashion Men,Winter Style For Man</td><td>image</td><td>https://i.pinimg.com/originals/f0/6b/68/f06b68b833439deee027450749a9ede3.jpg</td><td> /data/mens-fashion</td><td>mens-fashion</td></tr><tr><td>3351</td><td>282a8cf2-d4f3-4d21-837c-90c953b737cf</td><td>Easy Christmas Crafts for Kids - Fruit Loop Candy Cane</td><td>If you're looking for easy Christmas crafts for kids, this is it! You only need 2 things to make them - Fruit Loop cereal and pipe cleaners! They're a great fine motor activity… </td><td>null</td><td>Lindsey Blogs</td><td>Kids Food Crafts,Preschool Christmas Crafts,Christmas Crafts For Kids To Make,Christmas Activities For Kids,Christmas Tree Crafts,Toddler Christmas,Toddler Crafts,Preschool Winter,Winter Activities</td><td>image</td><td>https://i.pinimg.com/originals/f4/40/aa/f440aae805984076e0886407677e0ec2.png</td><td> /data/diy-and-crafts</td><td>diy-and-crafts</td></tr><tr><td>7738</td><td>17fd85fd-a790-4c91-b6b2-f4cfabb6a798</td><td>25 Simple Living Quotes to Inspire you to Declutter & Simplify your Life!</td><td>25 of my favourite simple living quotes & minimalist quotes to inspire and encourage you to declutter your home and simplify your life!</td><td>null</td><td>Simple Lionheart Life</td><td>Great Quotes,Me Quotes,Inspirational Quotes,Wisdom Quotes,Unique Quotes,Truth Quotes,Fact Quotes,Minimalist Quotes,Life Quotes To Live By</td><td>image</td><td>https://i.pinimg.com/originals/b6/3e/ad/b63eadd0568cdb0310c817c09d39898f.png</td><td> /data/quotes</td><td>quotes</td></tr><tr><td>8886</td><td>8d303604-1809-49b6-8274-392dc43ac6a0</td><td>25 Mental Health Tattoos Ideas & Symbols For Awareness</td><td>Mental health tattoos offer sufferers a way to express their deeply personal struggles with depression. Get ideas for mental & depression health tattoos.</td><td>null</td><td>Mamas Uncut</td><td>Finger Tattoo For Women,Meaningful Tattoos For Women,Tattoos For Women Small,Little Tattoos,Mini Tattoos,Love Tattoos,Knuckle Tattoos,Finger Tattoos,Tatoo</td><td>image</td><td>https://i.pinimg.com/originals/4d/2c/3d/4d2c3d22d37a4d0906eb243615ca51a6.jpg</td><td> /data/tattoos</td><td>tattoos</td></tr><tr><td>5742</td><td>44fc133d-0d79-4f00-a803-d6aa5fc8c31b</td><td>How To Find The Best Stocks</td><td>How to find Great Stocks #Finance #Investing #DaveRamsey #Debt #PassiveIncome #PersonalFinance #Trading #Stocks</td><td>null</td><td>Financial Toolkit</td><td>Stock Finance,Finance Tracker,Finance Tips,Trade Finance,Dave Ramsey,Homepage Layout,Analyse Technique,Value Stocks,Bollinger Bands</td><td>image</td><td>https://i.pinimg.com/originals/0d/d2/8e/0dd28e384ea880145f1445a22e10fac5.png</td><td> /data/finance</td><td>finance</td></tr><tr><td>1362</td><td>c28eddf9-d936-4c1e-b91f-f0d1888a5bd1</td><td>26 Cheap Beauty Products That Are The Perfect Little Pick-Me-Up — BuzzFeed</td><td>Will these products spark joy? Why yes, I thought you'd never ask!</td><td>191</td><td>jennifer</td><td>Buzzfeed,Beauty Photography,Nail Polish,Skin Tag,Mouthwash,Pick Me Up,Facial Hair,Teeth Whitening,Glowing Skin</td><td>image</td><td>https://i.pinimg.com/originals/86/c4/c7/86c4c7fe7bc203127f45d210ac174817.jpg</td><td> /data/beauty</td><td>beauty</td></tr><tr><td>995</td><td>10a2f4e9-3760-4305-b74c-b980d86d4bdc</td><td>Natural DIY Foundation Powder</td><td>This DIY natural powder foundation works amazing and contains only a few all natural ingredients. Easy and inexpensive to make.</td><td>null</td><td>A Blossoming Life DIY Projects + Recipes +     Natural Living</td><td>Homemade Foundation,Diy Foundation,Powder Foundation,Natural Foundation,Bb Beauty,Beauty Care,Beauty Hacks,Beauty Ideas,French Beauty</td><td>image</td><td>https://i.pinimg.com/originals/0d/16/d1/0d16d1a759d713f2a1f10759f0200b4f.jpg</td><td> /data/beauty</td><td>beauty</td></tr><tr><td>6250</td><td>91fa9a65-e54d-4536-ad9c-4406a535be28</td><td>15 espaces de travail mignons comme tout - Joli Joli Design</td><td>Ces 15 espaces de travail mignons comme tout pourront vous inspirer pour bien aménager le vôtre selon vos goûts! Un espace de travail doit être propice à votre concentration tou… </td><td>null</td><td>Joli Joli Design</td><td>Home Office Design,Home Office Decor,House Design,Green Home Offices,Interior Office,Green Home Decor,Home Design Decor,Design Ideas,Sweet Home</td><td>image</td><td>https://i.pinimg.com/originals/ca/c7/f8/cac7f86ba392d593a3f9bdb6cd467364.png</td><td> /data/home-decor</td><td>home-decor</td></tr><tr><td>3184</td><td>02acd2ca-a1fd-4290-9431-085dd78035a2</td><td>40 DIY Crafts To Make & Sell For Money</td><td>40 Easy & fun DIY crafts to make and sell that you need to try!! If you are looking at making some extra cash, then make sure to try out these DIY crafts!! #diycrafts #selldiycr… </td><td>null</td><td>RT Lifestyle Magazine | Travel, DIY, Recipes, Fitness & More</td><td>Diy Gifts To Sell,Diy Crafts How To Make,Fun Diy Crafts,Sell Diy,Crafts For Teens,Decor Crafts,Homemade Crafts,Recycled Crafts,Crafts To Make And Sell Easy</td><td>image</td><td>https://i.pinimg.com/originals/61/61/5f/61615f747dab735ef8128fd3e029bcd2.png</td><td> /data/diy-and-crafts</td><td>diy-and-crafts</td></tr><tr><td>2955</td><td>612dfc38-2c04-4a46-9a86-27021dc5ca56</td><td>DIY Best Nativity Crafts</td><td>A round-up of many Nativity crafts that you can make with your kids or grandchildren. 35 wonderful ideas to hang on your tree or give as gifts.</td><td>null</td><td>rhonda_floyd</td><td>Kids Crafts,Preschool Christmas Crafts,Nativity Crafts,Christmas Activities,Christmas Projects,Holiday Crafts,Spring Crafts,Santa Crafts,Nativity Ornaments</td><td>image</td><td>https://i.pinimg.com/originals/e2/53/b1/e253b15420be1dd5c1adb00dbc86db19.jpg</td><td> /data/diy-and-crafts</td><td>diy-and-crafts</td></tr><tr><td>4357</td><td>ccf116e9-9096-4943-a344-1960ce216445</td><td>First Steps in Launching Your Own Event Business - Learn About Event Planning</td><td>Updated: January 25, 2017 You’ve organized some events for your family, friends or community and you have gained a budding reputation for knowing how put events together. You’ve… </td><td>null</td><td>EventPlanning.com | Learn How To Become An Event Planner</td><td>Event Planning Quotes,Event Planning Checklist,Event Planning Business,Business Events,Business Ideas,Business Names,Business Opportunities,Corporate Events,Wedding Event Planner</td><td>image</td><td>https://i.pinimg.com/originals/c3/2b/c6/c32bc6ad263857cb0eea19f9cd12beb9.jpg</td><td> /data/event-planning</td><td>event-planning</td></tr><tr><td>3563</td><td>bcd69df8-b39e-4373-9304-ca239c5f3e7c</td><td>Objectives and Brain Breaks</td><td>My school is one of many that will be required to post our daily objectives in our classrooms next year. I've FINALLY finished mine! I purc...</td><td>517</td><td>Alexandria Franko</td><td>Classroom Organisation,Classroom Setup,Future Classroom,Classroom Management,Behavior Management,Classroom Ideas For Teachers,Center Management,2nd Grade Classroom,Classroom Behavior</td><td>image</td><td>https://i.pinimg.com/originals/a1/e6/29/a1e629d678c1862420749cc1f31a6b9e.jpg</td><td> /data/education</td><td>education</td></tr><tr><td>6558</td><td>2eb66add-1986-40bd-a0da-8e0b485b3768</td><td>12 Genius Laundry Room Organization Hacks - Mommyhooding</td><td>I feel like the laundry room doesn’t get a ton of love! I also know that my laundry room (a.k.a the basement) is an absolute hot mess, so I need to start implementing some sort… </td><td>null</td><td>Mommyhooding</td><td>Laundry Room Doors,Laundry Room Organization,Laundry Room Design,Diy Organization,Organizing Tips,Laundry Closet,Laundry Supplies,Cleaning Supplies,Cleaning Products</td><td>image</td><td>https://i.pinimg.com/originals/e5/2d/8d/e52d8d7207b8c0f22600b6fca5d9fa5a.jpg</td><td> /data/home-decor</td><td>home-decor</td></tr><tr><td>4256</td><td>9086bb60-9fce-46d1-9006-f05a494a05ce</td><td>A Critical Study of Current Concepts of Truth in American Educational Theory and Their Educational Implications (Paperback)</td><td>A Critical Study of Current Concepts of Truth in American Educational Theory and Their Educational Implications</td><td>null</td><td>Walmart</td><td>null</td><td>image</td><td>https://i.pinimg.com/originals/d4/59/ee/d459eed424eed9acdbfa8be2634f05e9.jpg</td><td> /data/education</td><td>education</td></tr><tr><td>450</td><td>a67abfbd-3db5-4f2d-a644-5a456643a9d0</td><td>Kindergarten Line Painting Monsters</td><td>This week, kindergarten continued their exploration of line, and started these fun line paintings! We used a new medium, to them, oil pastels and tempera cakes. 😄 Here's how we… </td><td>null</td><td>Elements of the Art Room</td><td>Kindergarten Art Lessons,Art Lessons For Kids,Art For Kids,Art Projects For Kindergarteners,Monster Kindergarten,Art Children,Halloween Kunst,Halloween Art Projects,Grade 1 Art</td><td>image</td><td>https://i.pinimg.com/originals/2c/65/70/2c65702ea385bdad057edc4cacf08c19.jpg</td><td> /data/art</td><td>art</td></tr><tr><td>3945</td><td>80b585d0-105c-4841-9759-0d5b8e067674</td><td>Wooden Hand Grab Board Set Educational Toys & Puzzles - White</td><td>Made of quality wooden material, it is smooth and durable and non-odor. Cute and colorful design, each carefully constructed piece matches up to coordinating shape on the board.… </td><td>null</td><td>GADGETOVIA</td><td>null</td><td>image</td><td>https://i.pinimg.com/originals/37/22/63/3722631f8b5840a2bc1f2ed1040fd04d.jpg</td><td> /data/education</td><td>education</td></tr><tr><td>859</td><td>80fe5ff8-1429-434b-8020-53122d1c6e1a</td><td>40 idées et + de décorations à réaliser avec de simples pierres</td><td>La quarantaine est le moment parfait pour s'adonner à l'artisanat en famille!</td><td>null</td><td>Joyce Flores</td><td>Painted Rock Animals,Painted Rocks Craft,Hand Painted Rocks,Painted Pebbles,Painted Stones,Paint On Rocks,Rock Painting Patterns,Rock Painting Ideas Easy,Rock Painting Designs</td><td>image</td><td>https://i.pinimg.com/originals/53/c7/a4/53c7a427778fe8a0f0db45b0275f3041.jpg</td><td> /data/art</td><td>art</td></tr><tr><td>1521</td><td>1bea3880-4177-497b-b54e-287141b689b9</td><td>Clinical Formulations with Integrity</td><td>Only $6 CAD😍</td><td>328</td><td>The Pamper Place</td><td>Face Skin Care,Diy Skin Care,Skin Tips,Skin Care Tips,Skin Secrets,Schul Survival Kits,Skin Care Routine For 20s,Skincare Routine,Moisturizer For Dry Skin</td><td>image</td><td>https://i.pinimg.com/originals/c9/b5/ce/c9b5cec07de20f1b28dc812edb1ce483.jpg</td><td> /data/beauty</td><td>beauty</td></tr><tr><td>1961</td><td>da1c8608-878e-4c32-80f1-eca017d6cd17</td><td>2019 Holiday Home Walk Through - Jessica Sara Morris</td><td>2019 Holiday Home Walk Through. How we styled our home for Christmas with a little bit of modern, scandanavian, mid century and farmhouse decor.</td><td>null</td><td>JESSICA SARA MORRIS | HOME DECOR + DIY ON A BUDGET</td><td>Bohemian Christmas,Modern Christmas Decor,Indoor Christmas Decorations,Natural Christmas,Farmhouse Christmas Decor,Noel Christmas,Christmas Aesthetic,Farmhouse Decor,Decorating For Christmas</td><td>image</td><td>https://i.pinimg.com/originals/9d/b6/3e/9db63e81d01bf00d8d5c6d11e966fabb.jpg</td><td> /data/christmas</td><td>christmas</td></tr><tr><td>10099</td><td>3bd54ff8-730b-4816-b6f4-3a7f2238589b</td><td>The small town of Hallstatt, Austria - Cozy & Comfy</td><td>5,237 points • 127 comments</td><td>null</td><td>9GAG</td><td>Beautiful Places To Travel,Best Places To Travel,Places To See,Beautiful Sites,Best Places To Live,Beautiful World,Beautiful Things,Voyage Dubai,Travel Photographie</td><td>image</td><td>https://i.pinimg.com/originals/e9/3f/10/e93f104c9931ae559666257ab3228506.png</td><td> /data/travel</td><td>travel</td></tr><tr><td>6066</td><td>566586e5-bf39-4d0f-a639-72b82ec06e63</td><td>23 Marvelous Farmhouse Fall Decor Ideas for Your Home</td><td>These farmhouse fall decor ideas will help you decorate every room in your home for the autumn season in the coziest way possible!</td><td>null</td><td>Curated Interior</td><td>Decoration Design,Deco Design,Fall Home Decor,Autumn Home,Home Living Room,Living Room Decor,Love Your Home,Cozy House,Home Decor Inspiration</td><td>image</td><td>https://i.pinimg.com/originals/21/49/2a/21492a428cdd51fcffde6e0579f07ca3.jpg</td><td> /data/home-decor</td><td>home-decor</td></tr><tr><td>10837</td><td>8561ed44-7e63-471b-90a5-b6e568ae7e0b</td><td>Dave's Way</td><td>If you're not having fun, do something else. Ventura, CA - hot rods, classic sportscars, science fiction, bicycles, motorcycles, boats, architecture, photography. I personally l… </td><td>196</td><td>Desiree Weitzenhoffer</td><td>Bmw Isetta,Fiat 126,Automobile,Old Vintage Cars,Microcar,Bizarre,Weird Cars,Cute Cars,Unique Cars</td><td>image</td><td>https://i.pinimg.com/originals/17/ef/2d/17ef2d989eeafc043d5cea9f46e5d6db.jpg</td><td> /data/vehicles</td><td>vehicles</td></tr><tr><td>6615</td><td>4f8ac7da-93cb-41b9-9e05-b258d9cf8a35</td><td>Under The Sink Kitchen Organzation</td><td>null</td><td>null</td><td>Organize Ways</td><td>Under Kitchen Sink Organization,Home Organization Hacks,Pantry Organization,Kitchen Storage,Tank Top Organization,Medicine Cabinet Organization,Organizing Ideas,Apartment Kitchen,Home Decor Kitchen</td><td>multi-video(story page format)</td><td>https://i.pinimg.com/videos/thumbnails/originals/32/31/92/323192e2cce37501f423a9b23009bd23.0000001.jpg</td><td> /data/home-decor</td><td>home-decor</td></tr><tr><td>7641</td><td>ddd4c9c0-b5fe-4db1-9699-78f26d991073</td><td>Find someone you can be completely free with</td><td>Find someone you can be completely free with</td><td>null</td><td>The Minds Journal</td><td>Soulmate Love Quotes,True Quotes,Words Quotes,Sayings,Emo Quotes,Twin Flame Relationship,Relationship Quotes,Relationships,Spiritual Quotes</td><td>image</td><td>https://i.pinimg.com/originals/a7/79/f2/a779f22cab937c344b99a49822acd04a.jpg</td><td> /data/quotes</td><td>quotes</td></tr><tr><td>640</td><td>21714ca6-26c3-424a-ba86-b34fe75c3015</td><td>Caption This Image and Selected Wisepicks - 15 December 2020</td><td>Provide a creative, relevant caption for the picture below and get selected and featured with your name and caption. We select 15+ of the best captions! and publish them on our… </td><td>null</td><td>The Minds Journal</td><td>Arte Obscura,Arte Sketchbook,Funky Art,Pics Art,Psychedelic Art,Art Drawings Sketches,Art And Illustration,Surreal Art,Aesthetic Art</td><td>image</td><td>https://i.pinimg.com/originals/49/de/c9/49dec977a3555fb777ad3a3fd98b092f.jpg</td><td> /data/art</td><td>art</td></tr><tr><td>8174</td><td>933fef6a-ebca-4d25-bc2a-3190c1490b75</td><td>18 Daily Motivational Quotes You Need In 2018 - Dare to Cultivate</td><td>#quotes #quote #inspirationalquotes #motivationalquotes #quoteoftheday #Motivation #Inspiration #inspirational #Success #wisdom #amazingquotes #quoteoftheday // success quote //… </td><td>null</td><td>Dare to Cultivate</td><td>Motivacional Quotes,Daily Motivational Quotes,Yoga Quotes,Words Quotes,Wise Words,Positive Quotes,Inspiring Quotes,Positive Affirmations,Inspirational Quotes About Success</td><td>image</td><td>https://i.pinimg.com/originals/4b/d6/1b/4bd61b788bc792d9a36e67dbd4a7b50a.jpg</td><td> /data/quotes</td><td>quotes</td></tr><tr><td>1216</td><td>4123ab8b-3ca3-411e-8763-92899ec991aa</td><td>10 Ways to Use MAC Prep + Prime Fix+. — Beautiful Makeup Search</td><td>I've been using MAC Prep + Prime Fix+ since its inception. The original makeup hydrating mist, this popular beauty product has sort of taken on a life of its own as users have d… </td><td>null</td><td>Beautiful Makeup Search</td><td>Makeup Dupes,Makeup Kit,Makeup Cosmetics,Sephora Makeup,Face Makeup,Fix Plus Mac,Everyday Beauty Routine,Everyday Makeup,Mac Chatterbox</td><td>image</td><td>https://i.pinimg.com/originals/90/bd/d4/90bdd4be9991dd4449d3d699e0b17963.jpg</td><td> /data/beauty</td><td>beauty</td></tr><tr><td>680</td><td>898e3977-a49e-453c-94a1-689aedfee0ca</td><td>The Supplies are in Charge of the Play! - Carolyn Dube</td><td>Ever wonder if the things around your art studio come to life when you aren’t there – like in Toy Story? I am beginning to think that they really do. This cluster of stuff all s… </td><td>null</td><td>Carolyn Dube</td><td>Art Journal Pages,Art Journal Challenge,Art Journal Backgrounds,Art Journal Prompts,Art Journal Techniques,Journal Ideas,Art Journals,Visual Journals,Art Pages</td><td>image</td><td>https://i.pinimg.com/originals/75/e5/cf/75e5cf9d6be96f10a87cd5f201de477b.jpg</td><td> /data/art</td><td>art</td></tr><tr><td>9527</td><td>7c1f0f6b-2098-4145-9aed-0eece1d7c029</td><td>Solo Female Traveller Fears + How to Overcome Them - One World Wanderer</td><td>These common solo travel fears are not something you are going through alone- here are a some of the common fears you can face as a solo female traveler. #solotravel #solofemale… </td><td>null</td><td>One World Wanderer | Travel Blogger</td><td>Solo Travel Tips,Travel Advice,Travel Guides,Travel Hacks,Travel Info,Budget Travel,Amazing Destinations,Travel Destinations,Voyager Seul</td><td>image</td><td>https://i.pinimg.com/originals/13/cf/d9/13cfd91ebe35cea166268c76bcdeff75.jpg</td><td> /data/travel</td><td>travel</td></tr><tr><td>9426</td><td>dc6f593a-6c1f-4b1b-908f-6b7d44ecbb50</td><td>Tattoos🤍</td><td>null</td><td>null</td><td>kayyla.april</td><td>Classy Tattoos,Dainty Tattoos,Girly Tattoos,Mini Tattoos,Small Tattoos,Trendy Tattoos,Unique Tattoos,Tatoos,Pretty Hand Tattoos</td><td>multi-video(story page format)</td><td>null</td><td> /data/tattoos</td><td>tattoos</td></tr><tr><td>8745</td><td>644f7257-7d5d-41f7-a74a-34312c3050fe</td><td>Dope Tattoos</td><td>No description available</td><td>41</td><td>Addymae Rodi</td><td>Dope Tattoos,Sun Tattoos,Family Tattoos,Pretty Tattoos,Unique Tattoos,Beautiful Tattoos,Body Art Tattoos,Small Tattoos,Beautiful Moon</td><td>image</td><td>https://i.pinimg.com/originals/61/96/0e/61960e96dd799bc4fade3c3104e9f6f3.jpg</td><td> /data/tattoos</td><td>tattoos</td></tr><tr><td>5959</td><td>e281cc85-4c05-486b-95e1-e78124065f9a</td><td>11 Home Decor Trends For 2021</td><td>Easy and affordable home decor trends for 2021</td><td>null</td><td>Lantern Lane Designs|Home Decor|DIY Projects|DIY Home Decor</td><td>Home Decor Trends,Home Decor Styles,Home Decor Inspiration,Decor Ideas,Styles Of Decorating,Decorating A New Home,Decorating Ideas,Interior Decorating Styles,Family Room Decorating</td><td>image</td><td>https://i.pinimg.com/originals/e7/a4/8c/e7a48c77cc1bc9742f100a77a618062b.png</td><td> /data/home-decor</td><td>home-decor</td></tr><tr><td>2577</td><td>b1ce08b4-ffc6-4d4e-ad75-a32be401d206</td><td>Gingerbread Boy FigurineGingerbread Boy Figurine</td><td>Looks good enough to eat! Surprise your Christmas festivities with this delectable Gingerbread Boy Oversized Figurine. Add a sense of warmth to every holiday gathering. Features… </td><td>null</td><td>Wear24-7</td><td>Gingerbread Christmas Decor,Snowman Christmas Decorations,Gingerbread Decorations,Gingerbread Ornaments,Decorating With Christmas Lights,Christmas Snowman,Gingerbread Cookies,Christmas Crafts,Christmas Ideas</td><td>image</td><td>https://i.pinimg.com/originals/80/d8/6a/80d86a31a227ebb78a4b21392f7a10ba.jpg</td><td> /data/christmas</td><td>christmas</td></tr><tr><td>3008</td><td>649ca299-a339-4136-a126-501515c93c8d</td><td>Upcycled Denim Rag Rug DIY Instructions</td><td>Turn those old jeans into practical rag rugs with just some scrap yarn and a little crochet know-how. I'll show you how to cut the jeans into strips and crochet them together to… </td><td>null</td><td>My Poppet - A Craft, Travel & Food Blog for Colourful Living</td><td>Pot Mason Diy,Mason Jar Crafts,Bottle Crafts,Rag Rug Diy,Diy Crochet Rag Rug,Scrap Yarn Crochet,Diy Rugs,Crochet Rug Patterns,Free Crochet</td><td>video</td><td>https://i.pinimg.com/videos/thumbnails/originals/0b/10/af/0b10af74b987322a6f4384470bf4eaf0.0000001.jpg</td><td> /data/diy-and-crafts</td><td>diy-and-crafts</td></tr><tr><td>8081</td><td>d8d98ce8-d57f-4bc2-990e-04b0ba09a8b4</td><td>Love Quotes For Him To Her. QuotesGram</td><td>Discover and share Love Quotes For Him To Her. Explore our collection of motivational and famous quotes by authors you know and love.</td><td>null</td><td>Autumn Shepardson</td><td>Sexy Quotes For Him,Love Quotes For Him Romantic,Cute Love Quotes,Great Quotes,Quotes To Live By,Inspirational Quotes,Missing Quotes For Him,You Are Mine Quotes,Shes The One Quotes</td><td>image</td><td>https://i.pinimg.com/originals/d4/fe/29/d4fe29641d8c264a0bb59e261712f1c9.jpg</td><td> /data/quotes</td><td>quotes</td></tr><tr><td>10120</td><td>9d18af84-7e86-42d1-8415-63cf1f8dd45e</td><td>Where to Stay in London + The Best Hotels in London: Area by Area</td><td>Travelling to London and wondering where to stay? Don't miss this insider's guide to the best areas to stay in London and the best hotels in London. Cool things to do and places… </td><td>376</td><td>London x London -  Cool Things To Do + London Travel</td><td>London Places,London Hotels,London England Hotels,London England Travel,London Restaurants,Cool Places To Visit,Places To Travel,Places To Go,Travel Destinations</td><td>image</td><td>https://i.pinimg.com/originals/53/bb/29/53bb29993450a1fb5223bcaf524d9deb.jpg</td><td> /data/travel</td><td>travel</td></tr><tr><td>4045</td><td>f0c605d7-75bc-4b60-a9ec-e2d64eb29687</td><td>K&S™ Round Brass Tube: 3mm OD x 0.225mm Wall x 300mm Long (3 Pieces)</td><td>Our mission at K&S is to supply you with high-quality metals for your projects. Through precision machinery and great talent, we can supply 100s of stocked products along with c… </td><td>5</td><td>K&S Precision Metals</td><td>Hobbies And Crafts,Arts And Crafts,Home Crafts,Diy Crafts,Stop Motion,Craft Stores,Metals,Planes,Trains</td><td>image</td><td>https://i.pinimg.com/originals/12/d4/17/12d4177dc859be6e33f627d5d0006955.png</td><td> /data/education</td><td>education</td></tr><tr><td>1599</td><td>aaf8f442-fed5-494f-a84b-64c5e8dc9fea</td><td>Bb Beauty</td><td>27 DIY Beauty Hacks</td><td>213</td><td>Karen Red</td><td>Bb Beauty,Beauty Care,Beauty Makeup,Fashion Beauty,Hair Beauty,Natural Beauty,Beauty Skin,Diy Beauty Hacks,Beauty Hacks For Teens</td><td>image</td><td>https://i.pinimg.com/originals/2c/6b/2a/2c6b2a79ce32ad125806b9a42cd00555.jpg</td><td> /data/beauty</td><td>beauty</td></tr><tr><td>2893</td><td>f17602e4-4a50-452d-b8ee-de70774b6cdc</td><td>How to make handmade  paper</td><td>null</td><td>630</td><td>Bhavani's Creations</td><td>Craft Room Decor,Diy Crafts For Home Decor,Diy Crafts Hacks,Diy Crafts For Gifts,Diy Arts And Crafts,Creative Crafts,Creative Project Ideas,Handmade Crafts,Diys</td><td>multi-video(story page format)</td><td>https://i.pinimg.com/videos/thumbnails/originals/48/7c/d1/487cd1ac4f607b4ef6c7eb7329d13786.0000001.jpg</td><td> /data/diy-and-crafts</td><td>diy-and-crafts</td></tr><tr><td>4024</td><td>662e0d01-4ee4-45db-9885-08dd5379baa8</td><td>IEP Tubs</td><td>Special education, IEP, IEP Tubs, classroom management, classroom ideas, centers, sped centers</td><td>null</td><td>Traci Bender - The Bender Bunch</td><td>Teaching Special Education,Teaching Tools,Teacher Resources,Teaching Ideas,Art Education,Elementary Education,Resource Room Teacher,Special Education Quotes,Primary Education</td><td>image</td><td>https://i.pinimg.com/originals/09/ae/d8/09aed8c3e1a0d3910ae91010538b81d6.jpg</td><td> /data/education</td><td>education</td></tr><tr><td>310</td><td>2afd584f-ce06-4358-8372-fe0b01fbd288</td><td>2nd grade Polar Bears</td><td>Welcome back! So glad to see all of you! This week, 2nd grade is going to be starting this cute lil polar bear, inspired by the fabulous Lauralee Chambers! Here's a link to her… </td><td>null</td><td>Elements of the Art Room</td><td>Art Lessons For Kids,Art Lessons Elementary,Art For Kids,Elementary Art Education,Elementary Art Rooms,Art 2nd Grade,Grade 2,Art D'ours,Arte Elemental</td><td>image</td><td>https://i.pinimg.com/originals/bb/32/4d/bb324dfa309b719eef404888c52cf56b.jpg</td><td> /data/art</td><td>art</td></tr></tbody></table></div>"
      ]
     },
     "metadata": {
      "application/vnd.databricks.v1+output": {
       "addedWidgets": {},
       "aggData": [],
       "aggError": "",
       "aggOverflow": false,
       "aggSchema": [],
       "aggSeriesLimitReached": false,
       "aggType": "",
       "arguments": {},
       "columnCustomDisplayInfos": {},
       "data": [
        [
         1704,
         "5fbf9863-fb79-477c-a5b6-540c3020a55f",
         "Christmas Trees From Pallet Wood | Holiday DIY",
         "Christmas Trees From Pallet Wood | Holiday DIY: Deck the yard with some fun outdoor Christmas Trees! We made these merry and bright decorations from two old pallets we had lying… ",
         null,
         "Instructables",
         "Pallet Wood Christmas Tree,Wooden Christmas Crafts,Diy Christmas Tree,Christmas Projects,Holiday Crafts,Wooden Xmas Trees,Different Christmas Trees,Pallet Tree,Christmas Kitchen",
         "image",
         "https://i.pinimg.com/originals/64/7b/ca/647bca35169b7c144604116c64bcba8a.png",
         " /data/christmas",
         "christmas"
        ],
        [
         2482,
         "08604f20-fa17-4b9a-9949-781717eca6cd",
         "FORNT PORCH CHRISTMAS DECORATING IDEAS",
         "Christmas decorating ideas for porches. Beautiful holiday decor ideas for front porches both small and large. Outdoor decorations like sleds, lanterns, Christmas trees, wreaths,… ",
         null,
         "Life on Summerhill | Home, Holiday Decor & DIY Website",
         "Diy Christmas Decorations For Home,Farmhouse Christmas Decor,Christmas Home,Christmas Holidays,Christmas Front Porches,How To Decorate For Christmas,Christmas Porch Ideas,Christmas Decorating Ideas,Large Outdoor Christmas Decorations",
         "video",
         "https://i.pinimg.com/videos/thumbnails/originals/40/83/f5/4083f5b4971bf235f89a4784ab87271e.0000001.jpg",
         " /data/christmas",
         "christmas"
        ],
        [
         8930,
         "a2999c28-f7b2-4577-af87-49d21d6d8a18",
         "135 Sunflower Tattoo Ideas - [Best Rated Designs in 2021]",
         "We have put together the Ultimative Sunflower Tattoo Collection in 2020. Check out our highest rated handpicked Sunflower designs here!",
         null,
         "Next Luxury",
         "Sunflower Tattoo Sleeve,Sunflower Tattoo Shoulder,Sunflower Tattoo Small,Sunflower Tattoos,Sunflower Tattoo Design,Shoulder Tattoo,Sunflower Mandala Tattoo,Sunflower Tattoo Meaning,Form Tattoo",
         "image",
         "https://i.pinimg.com/originals/18/de/6c/18de6c81a8637e224c7d63dce1414ceb.jpg",
         " /data/tattoos",
         "tattoos"
        ],
        [
         7294,
         "9d8409ef-bea7-4133-a021-c58b9c042210",
         "Foolproof Fall Fashion For Men You'll Love",
         "Looking for the coolest fall fashion for men this season? Click to read this article on fall fashion for men to look sharp on LLEGANCE.",
         null,
         "LLEGANCE | Workwear Fashion Woman Advice For Driven Professionals",
         "Fashion 90s,Autumn Fashion,Fashion Ideas,Trendy Fashion,Fashion Photo,Fashion Outfits,Fashion Trends,Urban Fashion Men,Men's Casual Fashion",
         "image",
         "https://i.pinimg.com/originals/4c/bf/2d/4cbf2d6e04d2502612169220553f4cef.jpg",
         " /data/mens-fashion",
         "mens-fashion"
        ],
        [
         808,
         "23f67e42-db9f-4aae-8b82-cbec64ad9f4d",
         "Chalk Pastel Hot Chocolate Art Project",
         "Kids will use chalk pastels and black paper to create this bold and bright hot chocolate art project! Easy to follow tutorial included.",
         null,
         "Projects with Kids",
         "Hot Chocolate Art,Chocolate Crafts,Art Activities For Kids,Preschool Art,Preschool Winter,Christmas Activities,Winter Art Projects,Clay Art Projects,Chalk Pastel Art",
         "image",
         "https://i.pinimg.com/originals/5a/d3/82/5ad38202cf8acb022cb8f46ce2a78ad6.jpg",
         " /data/art",
         "art"
        ],
        [
         771,
         "a5021766-a8aa-4dc7-9857-4da6b8e3dc1a",
         "African Sunset Shadow Tracing Art - Taming Little Monsters",
         "Use your mini world figures to create this beautiful African sunset. Your kids will love learning about shadows, angles and distortion in this fun art and STEM activity for kids.",
         null,
         "Taming Little Monsters - Fun Activities for Kids",
         "African Art Projects,Cool Art Projects,Projects For Kids,African Art For Kids,African Crafts Kids,Art Club Projects,Art Education Projects,Tracing Art,African Sunset",
         "image",
         "https://i.pinimg.com/originals/e3/aa/35/e3aa350f8f104d0e59f26d7f17ea7461.png",
         " /data/art",
         "art"
        ],
        [
         4076,
         "3a52d364-7c04-47cb-a3e5-56d9e2b77528",
         "Phonics Activities Your Kids Will Love - The Literacy Nest",
         "Hi everyone! As a teacher using the Orton-Gillingham approach, I am constantly looking for phonics activities that my students will find fun and engaging. Using Orton-Gillingham… ",
         null,
         "The Literacy Nest",
         "Literacy Games,Kindergarten Activities,Literacy Centers,Fun Phonics Activities,Listening Activities,Vocabulary Games,Literacy Stations,Letter Activities,Montessori Activities",
         "image",
         "https://i.pinimg.com/originals/58/8e/38/588e380b19942a71a86a69d9c9973d25.png",
         " /data/education",
         "education"
        ],
        [
         1545,
         "0c629541-cc5b-4b61-bd3f-613346893258",
         "Oil Cleansing Method: What it is and why you should do it.",
         "The oil cleansing method is a simple, natural way to have clean skin without using toxic chemicals. It will leave your face radiant and soft!",
         null,
         "Thank Your Body",
         "Beauty Care,Diy Beauty,Beauty Hacks,Beauty Shop,Oil Cleansing Method,Goji,Korean Skincare Routine,Homemade Beauty Products,Organic Beauty",
         "image",
         "https://i.pinimg.com/originals/2c/1c/da/2c1cda7da86ee711536bbacfe89c75c9.jpg",
         " /data/beauty",
         "beauty"
        ],
        [
         2293,
         "1fd7d4cc-54c1-4542-9c1f-449cb4c875f4",
         "Over 40 of the BEST Homemade Christmas Ornament Ideas",
         "Over 40 of the BEST Homemade Christmas Ornaments...these easy Holiday crafts are so fun to make for Kids and Adults! Lots of great class party ideas!",
         null,
         "Kitchen Fun With My 3 Sons",
         "Diy Christmas Lights,Homemade Christmas Decorations,Christmas Crafts For Gifts,Mini Christmas Tree,Christmas Ornament Crafts,Homemade Christmas Gifts,Xmas Decorations,Simple Christmas,Handmade Christmas",
         "image",
         "https://i.pinimg.com/originals/d0/d3/a3/d0d3a31e87296224d5ba8896904b5b88.jpg",
         " /data/christmas",
         "christmas"
        ],
        [
         10509,
         "6a5f0e7e-1389-4e54-942f-4cb69f09f140",
         "Flying Car",
         null,
         null,
         "TheSuperBOO!",
         "Electric Off Road Vehicle,Cool Illusions,Flying Vehicles,Wow Video,Art And Craft Videos,Top Luxury Cars,Chevy Muscle Cars,Street Racing Cars,Funny Videos Clean",
         "multi-video(story page format)",
         "https://i.pinimg.com/videos/thumbnails/originals/4a/d4/96/4ad4961606179854f1141a90f50f002c.0000001.jpg",
         " /data/vehicles",
         "vehicles"
        ],
        [
         2015,
         "72359164-4419-452c-81cb-74f30a5a26b7",
         "16 Blissful Christmas Table Decor Ideas That You Must See",
         "Take a look at this new collection of Christmas decor featuring 16 Blissful Christmas Table Decor Ideas That You Must See. Happy holidays!",
         null,
         "ArchitectureArtDesigns",
         "Kids Crafts,Christmas Crafts For Kids,Homemade Christmas,Christmas Projects,Holiday Crafts,Christmas Gift Ideas,Preschool Christmas,Tree Crafts,Christmas Inspiration",
         "image",
         "https://i.pinimg.com/originals/5f/70/30/5f7030a35bb8a1491e915fb0ae29bcf5.jpg",
         " /data/christmas",
         "christmas"
        ],
        [
         1094,
         "6deacdcd-75ed-4dd8-8951-9b77453f38e0",
         "9 colors lazy lipstick - 9 colors lazy lipstick4",
         "9 colors lazy lipstick",
         null,
         "Jiew82633",
         "Nail Inspo,Lazy,Lipstick,How To Apply,Makeup,Colors,Products,Make Up,Lipsticks",
         "image",
         "https://i.pinimg.com/originals/25/cf/8c/25cf8cb74b43ab95591342c2bbe4ecd8.jpg",
         " /data/beauty",
         "beauty"
        ],
        [
         603,
         "78e21a64-53b0-4745-8294-e8c456f0ccc1",
         "How to Create Alcohol Ink Rings For Gorgeous Pieces of Art -",
         "Learn to create alcohol ink rings for gorgeous pieces of art. Each ring sits on top of another, giving a multilayered appearance",
         null,
         "Kim Cook-Thirteen Chairs-Slates Mugs And Tees",
         "Alcohol Ink Tiles,Alcohol Ink Glass,Alcohol Ink Crafts,Alcohol Ink Painting,Pour Painting,Zealand Tattoo,Copics,Types Of Art,Art Techniques",
         "image",
         "https://i.pinimg.com/originals/03/03/1f/03031fdc9775d0c06f61d68e51362379.png",
         " /data/art",
         "art"
        ],
        [
         7768,
         "ae1a61f6-d958-40fe-ba93-6a78b3a73178",
         "16 Motivational Quotes Get You Inspired Today - Boss Babe Chronicles",
         "motivation quotes",
         null,
         "Boss Babe Chronicles | Personal Development, Finances, Self Care",
         "Motivacional Quotes,Motivational Quotes For Life,Uplifting Quotes,True Quotes,Words Quotes,Empowering Quotes,Boss Up Quotes,Inspirational Success Quotes,Boss Babe Quotes Work Hard",
         "image",
         "https://i.pinimg.com/originals/ee/b4/bc/eeb4bccdb074edb787ea61711e0c4dfd.jpg",
         " /data/quotes",
         "quotes"
        ],
        [
         5630,
         "d41e703c-c97c-4c5a-9f9c-338982ca7504",
         "7 Insanely Useful Money Management Worksheets",
         "Get your personal finance in order with these 8 fr…",
         null,
         "R.J. Weiss at The Ways To Wealth | Personal Finance | Debt Payoff",
         "Ways To Save Money,Money Tips,Money Saving Tips,Money Budget,Saving Ideas,Budgeting Finances,Budgeting Tips,Planning Budget,Budget Planer",
         "image",
         "https://i.pinimg.com/originals/f1/4f/cc/f14fcc75ee73ff22c983bdce70c022e2.jpg",
         " /data/finance",
         "finance"
        ],
        [
         8578,
         "036ec267-658b-4dad-a097-8ef0b4f30c0d",
         "Snake Collarbone Temporary Tattoo. Halloween Tattoos  Spooky | Etsy",
         "Snake temporary tattoo for collarbone. Spooky 3D tattoo for Halloween Includes 2 copies, 1 for the right side and 1 for the left side Apply with water and remove anytime with ba… ",
         "0",
         "Livitrevisani",
         "Finger Tattoo Designs,Small Tattoo Designs,Finger Tattoos,Small 3d Tattoos,Cool Tattoos,Line Work Tattoo,Back Tattoo,Collarbone Tattoo,Tattoo Neck",
         "image",
         "https://i.pinimg.com/originals/d8/b7/a1/d8b7a11a3fe64e7fab91d3afb1536537.jpg",
         " /data/tattoos",
         "tattoos"
        ],
        [
         9936,
         "1f3154a6-13f0-4049-8d5c-faea15b9f07c",
         "Chasing Waterfalls in Costa Rica",
         "Volcanoes, hikes, and hot springs in Costa Rica! The ultimate 5 day travel itinerary. - #costarica #travel #blogging #blog #bucketlist",
         null,
         "Jess Wandering",
         "Costa Rica Reisen,Costa Rica Travel,Vacation Places,Dream Vacations,Vacation Spots,Vacation Food,Vacation Ideas,Voyage Dubai,Beautiful Places To Travel",
         "image",
         "https://i.pinimg.com/originals/60/fe/4c/60fe4c3602e8e50e2e9f787ed27d2aba.jpg",
         " /data/travel",
         "travel"
        ],
        [
         6844,
         "69c3f268-274f-44bd-9cb4-427e64fefc44",
         "♔the-fashman♔",
         "billy-george: “Summer styles ”",
         "377",
         "Au'vey Smith",
         "Fashion Week Hommes,La Fashion Week,Fashion Moda,Urban Fashion,Trendy Fashion,Fashion Spring,Fashion 2017,New Mens Fashion,Trendy Clothing",
         "image",
         "https://i.pinimg.com/originals/3c/8c/53/3c8c534cd02334c50047bd3a4feccce9.jpg",
         " /data/mens-fashion",
         "mens-fashion"
        ],
        [
         3419,
         "d0b80187-0171-49b2-8ee4-572984244f65",
         "Easy Christmas Tree Crafts Ideas for toddlers and preschoolers | Sharing Our Experiences",
         "Easy Christmas tree Craft Ideas for toddlers and preschoolers. Engage your kids in these DIY",
         null,
         "Kids Crafts & Free Preschool Printables- Sharing Our Experiences",
         "Christmas Crafts For Kids To Make,Christmas Tree Painting,Christmas Activities For Kids,Easy Christmas Crafts For Toddlers,Kid Activities,Christmas Handprint Crafts,Christmas Tree Crafts,Christmas Baby,Xmas Tree",
         "image",
         "https://i.pinimg.com/originals/69/f0/75/69f075939d4449dffa69519756c30e26.png",
         " /data/diy-and-crafts",
         "diy-and-crafts"
        ],
        [
         1268,
         "e2f2cec5-cda5-42b2-ab9d-6dddf863e94e",
         "Janet on Twitter",
         "Here’s how to get long-lasting makeup, so you can do your face in the morning and be set for the entire day. Follow these makeup tips for foundation, lipstick and more using pro… ",
         null,
         "Tony",
         "Beauty Makeup,Eye Makeup,Diy Beauty,Beauty Ideas,Beauty Skin,Homemade Beauty,Wolf Makeup,Oily Skin Makeup,Face Beauty",
         "image",
         "https://i.pinimg.com/originals/d9/d1/3b/d9d13b9ac47d54940f05a75345a873d4.jpg",
         " /data/beauty",
         "beauty"
        ],
        [
         6566,
         "6d8848f8-f515-4935-8dae-5dd02304d76e",
         "Navy and Neutral Fall Living Room + Kitchen Tour - Sand and Sisal",
         "Celebrate fall with a neutral color palette with natural elements. This Navy and Neutral Fall Living Room + Kitchen Tour will make you rethink fall decor.",
         null,
         "Sand and Sisal",
         "Fall Living Room,Coastal Living Rooms,Living Room Paint,Living Room Kitchen,Living Room Interior,Living Room Furniture,Living Room Decor,Living Area,Small Living",
         "image",
         "https://i.pinimg.com/originals/f1/be/b6/f1beb6d3414f1c52929df39a83d8da9f.jpg",
         " /data/home-decor",
         "home-decor"
        ],
        [
         1555,
         "1f20551b-a21c-4ff0-b20d-49e95fdc50d3",
         "Skin Purging: Die Pflegemethode für reine Haut | ELLE",
         "Skin Purging sorgt für die reinste Haut, die du jemals hattest #skin äpurging #skinpurging #skincare #hautpflege #schönehaut #haut #beauty #tips",
         null,
         "ELLE Germany",
         "Natural Hair Mask,Natural Hair Styles,Natural Beauty,Skin Tag,How To Apply Makeup,Pimples,Beauty Routines,Skincare Routine,Glowing Skin",
         "image",
         "https://i.pinimg.com/originals/93/b2/7b/93b27be044b2fd2f227f30a7f2c2faf2.jpg",
         " /data/beauty",
         "beauty"
        ],
        [
         3729,
         "ac90f1d2-dc9e-438c-b073-dd48511b80b0",
         "5 + Nature Games for Your Homeschool",
         "Our family would rather spend time outdoors than indoors. We love nature! That said, sometimes mother nature is uncooperative. On these days, it can be fun to pull out some natu… ",
         null,
         "My Little Poppies (Cait Curley, MA/CAGS)",
         "Diy Nature,Theme Nature,Nature Study,Science And Nature,Summer Science,Earth Science,Nature Crafts,Outdoor Education,Outdoor Learning",
         "image",
         "https://i.pinimg.com/originals/d6/3b/1a/d63b1a2a36534ecac5d1fbd0d932403a.jpg",
         " /data/education",
         "education"
        ],
        [
         6398,
         "ea44d318-2ced-4cf8-a66f-a6a036b84faa",
         "My master bathroom makeover with @flooranddecor ! Follow me on Instagram @Mojisstyle for more",
         null,
         null,
         "MojisStyle",
         "Decor Home Living Room,Home And Living,Diy Bedroom Decor,Home Decor,Bathroom Interior Design,Interior Design Living Room,Dream Home Design,House Design,Beautiful Bathrooms",
         "multi-video(story page format)",
         "https://i.pinimg.com/videos/thumbnails/originals/75/48/3b/75483b74822855519ec8b40df4c670ef.0000001.jpg",
         " /data/home-decor",
         "home-decor"
        ],
        [
         46,
         "19234073-8905-4885-b0d5-98e0b84cbf27",
         "10 Watercolor Hacks For Beginners | Tips and Tricks to Making Watercolor Painting Easier",
         "Mountain monologue watercolor",
         null,
         "It's me, JD | DIY, Crafts, Home & Organization",
         "Arte Inspo,Kunst Inspo,Watercolor Artists,Watercolor Ideas,Simple Watercolor,Tattoo Watercolor,Watercolor Techniques,Watercolor Animals,Watercolor Illustration",
         "image",
         "https://i.pinimg.com/originals/fd/54/89/fd548935dcb13545120a2115baaa41d9.jpg",
         " /data/art",
         "art"
        ],
        [
         4988,
         "fbdfd355-a356-46c2-a251-301869ae2674",
         "Fun Book Page Crafts - MomAdvice",
         "Fun Book Page Crafts - MomAdvice",
         null,
         "MomAdvice",
         "Harry Potter Wedding,Harry Potter Theme,Wedding Book,Wedding Table,Wedding Ideas,Wedding Vintage,Garden Wedding,Vintage Party,Wedding Paper",
         "image",
         "https://i.pinimg.com/originals/17/55/87/175587b334e71c12300453b8b4b4c6aa.jpg",
         " /data/event-planning",
         "event-planning"
        ],
        [
         427,
         "4a455340-09a2-4370-ad86-73d7964603db",
         "DIY Acrylic Paint Pouring Wall Art - Abbotts At Home",
         "Easy to follow steps for this easy DIY wall art. Acrylic Paint Pouring with a blow dryer, Dutch paint pour. Written steps and full step by step video to help you do it too! 👍",
         null,
         "Abbotts At Home",
         "Acrylic Pouring Art,Acrylic Wall Art,Acrylic Pouring Techniques,Acrylic Paintings,Art Paintings,Marble Art,Marble Painting,Pour Painting,Large Canvas Art",
         "video",
         "https://i.pinimg.com/videos/thumbnails/originals/d5/5e/fa/d55efa6ef50d35dac425cea935f39c89.0000001.jpg",
         " /data/art",
         "art"
        ],
        [
         3800,
         "d2c367ed-9287-4ea3-b173-198b292d9981",
         "Reinforcing the Difficult Child When Token Boards Don't Work!",
         "behavior, special education, token boards, when token boards don't work, money token systems",
         null,
         "Traci Bender - The Bender Bunch",
         "Special Education Behavior,Classroom Behavior Management,Behavior Plans,Behaviour Management,Behavior Charts,Behavior Board,Behavior Report,Behavior Analyst,Preschool Special Education",
         "image",
         "https://i.pinimg.com/originals/24/f9/e2/24f9e22ada4a79c61432ef6c8fe1d0f9.jpg",
         " /data/education",
         "education"
        ],
        [
         159,
         "841a161a-47b8-4161-884d-adeb67a28b1e",
         "Valentine's Day Bee Directed Drawing {Art Project}",
         "This bee directed drawing and associated pages will help you create a fun and creative Valentine's Day Directed Drawing Art Project activity for your class.Choose to do a painti… ",
         null,
         "Teachers Pay Teachers",
         "Classroom Art Projects,School Art Projects,Art Classroom,Art Projects For Kindergarteners,Spring Art Projects,Classroom Posters,Valentines Art Lessons,Valentines Day Activities,Grade 1 Art",
         "image",
         "https://i.pinimg.com/originals/49/ff/2e/49ff2e83c0cefdd37213f6084c6f0566.jpg",
         " /data/art",
         "art"
        ],
        [
         3599,
         "ff0dd945-dafa-411c-8cef-eb43e374e815",
         "Educational Leadership in Aotearoa New Zealand : Issues of Context and Social Justice",
         "This book presents 10 inspirational case studies of how centre leaders, principals and leadership teams in high-needs New Zealand educational settings have enacted leadership to… ",
         null,
         "Walmart",
         "Research Studies,Educational Leadership,Education System,Secondary School,Try It Free,Book Format,Social Justice,Young People,Paperback Books",
         "image",
         "https://i.pinimg.com/originals/0e/ea/c4/0eeac457780bbe43fcc5e9eaabd80f62.jpg",
         " /data/education",
         "education"
        ],
        [
         10552,
         "17301b8c-ccbb-42ad-b2df-3876df35b1cd",
         "The Prowler Emergency Response Vehicle",
         "January 23, 2009 We can see emergency responders queueing up for this one. ATVCorp has created versions of its Prowler Light Tactical All Terrain Vehicle (LTATV) for fire-fighti… ",
         "314",
         "p hump",
         "Army Vehicles,Armored Vehicles,Go Kart Buggy,Atv Attachments,Aviation Fuel,Special Forces,Special Ops,Terrain Vehicle,Emergency Response",
         "image",
         "https://i.pinimg.com/originals/14/6b/6b/146b6b1a1127773f7046e08550e68ed0.jpg",
         " /data/vehicles",
         "vehicles"
        ],
        [
         1422,
         "7bbe860c-a739-4ba9-babd-feb24bb6e4d9",
         "41 Life-Saving Beauty Hacks Every Girl Should Have In Her Arsenal",
         "Might try this... I'm generally skeptical about at-home remedies, but I know baking soda and lemons both do wonders. More",
         null,
         "BuzzFeed",
         "Baking Soda Lemon Juice,Diy Beauté,Tips Belleza,Belleza Natural,Health And Beauty Tips,Beauty Secrets,Beauty Advice,Diy Beauty Tips,Beauty Life Hacks",
         "image",
         "https://i.pinimg.com/originals/c8/ab/af/c8abaffc56050f674eef8e65ad684929.jpg",
         " /data/beauty",
         "beauty"
        ],
        [
         5309,
         "c38bb47b-9584-4fc4-af0d-a31e1061df41",
         "How to Watch Your Favorite Shows Without Cable",
         "How to Get Rid of Cable and Still Watch all of your favorite shows! Saving Money Tips for TV & Cable!",
         null,
         "Passion For Savings",
         "Ways To Save Money,Money Tips,Money Saving Tips,Money Hacks,Managing Money,Cable Tv Alternatives,Budget Planer,Financial Tips,Financial Planning",
         "image",
         "https://i.pinimg.com/originals/c9/18/be/c918be2784382dc49010719bf1742a61.jpg",
         " /data/finance",
         "finance"
        ],
        [
         552,
         "b82602a9-e434-42cf-9481-22f3f41d82ce",
         "The herbal bed: Katie Scott's psychedelic flora and fauna – in pictures",
         "Nike trainers sprout plants and French perfumiers inspire by mysterious scientific icons in Katie Scott’s visions that take botanical illustration into the digital age",
         null,
         "The Guardian",
         "Art And Illustration,Illustration Inspiration,Botanical Illustration,Vintage Illustrations,Botanical Drawings,Botanical Prints,Arte Inspo,Insect Art,Psychedelic",
         "image",
         "https://i.pinimg.com/originals/16/8a/fa/168afae02d5ffc71da10cdb312de2cb1.jpg",
         " /data/art",
         "art"
        ],
        [
         1371,
         "33e92ac1-73d1-4c31-9892-d5e633060790",
         "How To Do Makeup - Step By Step Tips For The Perfect Look",
         "What are the basic things you need for makeup? Let’s be honest, ladies; all women can do makeup, yet not all women know how to do makeup right. The good news is, this post can t… ",
         null,
         "Glaminati",
         "Contouring Makeup,Skin Makeup,Beauty Makeup,Makeup Brushes,Eyeliner Makeup,Makeup Tips Lips,Makeup 101,Cheap Makeup,Rosa Eyeliner",
         "image",
         "https://i.pinimg.com/originals/2c/1a/d4/2c1ad45b5c54034a2dbc73c84a89f5e4.jpg",
         " /data/beauty",
         "beauty"
        ],
        [
         10119,
         "40eab9ba-7812-4f26-baca-35a6bed95a9f",
         "How to Afford Family Travel: 10 Mistakes You're Making (and what to do instead) | Our Next Adventure",
         "See families traveling all the time and wonder, \"how the heck do they afford this?\" Read 10 mistakes you might be making, and what you should do instead.",
         null,
         "OUR NEXT ADVENTURE | family travel blog",
         "Family Vacation Destinations,Vacation Trips,Travel Destinations,Vacation Ideas,Cheap Family Vacations,Vacation Travel,Best Family Vacation Spots,Vacation Quotes,Vacation Memories",
         "image",
         "https://i.pinimg.com/originals/0a/49/fb/0a49fbcec746c4219d3a6f30834f378e.jpg",
         " /data/travel",
         "travel"
        ],
        [
         9074,
         "2adede06-7fb0-4b5f-8cf9-ce8e6d6fa6a1",
         "77 Disney Tattoos To Unleash Your Magic Power - Our Mindful Life",
         "Disney characters never go out with time. From small to bold, here are the best Disney tattoos that both adults and children will adore.",
         null,
         "Our Mindful Life",
         "Small Disney Tattoos,Disney Thigh Tattoo,Matching Disney Tattoos,Disney Couple Tattoos,Disney Inspired Tattoos,Disney Sleeve Tattoos,Matching Best Friend Tattoos,Small Tattoos,3 Best Friend Tattoos",
         "image",
         "https://i.pinimg.com/originals/29/1d/13/291d1361e275358df53c1db02b63d3a4.jpg",
         " /data/tattoos",
         "tattoos"
        ],
        [
         2604,
         "087b0fa9-f901-4262-aa0a-6caf234d1b35",
         "75+ Neutral Christmas Home Decor for the Holiday Season in Farmhouse Style using Earth Tones Modern",
         "My favorite 75+ Neutral Christmas Home Decor for decorating your house during the Holiday Season in earth tones and a farmhouse, rustic style all winter. I love this modern, sim… ",
         null,
         "Everyday Wholesome",
         "Colorful Christmas Decorations,Colorful Christmas Tree,Christmas Centerpieces,Christmas Colors,Xmas Colors,Winter Decorations,Christmas Trends,Christmas Inspiration,Christmas Home",
         "image",
         "https://i.pinimg.com/originals/86/84/39/868439dd894969e3abd6a2a8a9fe1e9c.jpg",
         " /data/christmas",
         "christmas"
        ],
        [
         223,
         "8672f996-6ce9-403e-9599-2c4df668f1e0",
         "Easy Gouache painting",
         null,
         null,
         "Jasminxg",
         "Simple Canvas Paintings,Easy Nature Paintings,Tree Paintings,Cool Paintings,Watercolor Art Lessons,Watercolor Paintings For Beginners,Gouache Painting,Painting Art,Mandala Art Lesson",
         "multi-video(story page format)",
         "https://i.pinimg.com/videos/thumbnails/originals/17/49/16/1749164b93866d4eac32a52a3ccfd40a.0000001.jpg",
         " /data/art",
         "art"
        ],
        [
         8312,
         "ca3c9bb0-7281-4b9b-8abf-201da0b68d62",
         "8 Vision Board Ideas To Manifest Your Dreams - TheFab20s",
         "Trying to create your dream life but don't know where to start?! These vision board ideas are a great way to manifest a new you this year",
         null,
         "TheFab20s | Travel+Food+DIY+Listicles",
         "Positive Self Affirmations,Positive Affirmations Quotes,Affirmation Quotes,Quotes Positive,Motivational Quotes For Success Positivity,Business Success Quotes,Positive Vibes,Motivational Quotes For Women,Affirmations For Love",
         "image",
         "https://i.pinimg.com/originals/36/d1/be/36d1be632cbf9b6c8e377a052b31d064.jpg",
         " /data/quotes",
         "quotes"
        ],
        [
         2858,
         "26f81da4-26a9-465b-b819-6099bc66e1c0",
         "50 Popular Spring Crafts For Kids You Need To Make",
         "Celebrate warmer weather & spring blooms with these 50 delightful spring crafts for kids. Bright, cheerful & fun to make these crafts are a guaranteed hit.",
         null,
         "This Tiny  Blue House",
         "Spring Crafts For Kids,Diy For Kids,Arts And Crafts For Kids Toddlers,Spring Crafts For Preschoolers,Spring Craft Preschool,Simple Kids Crafts,Summer Crafts For Toddlers,Easy Preschool Crafts,Garden Crafts For Kids",
         "image",
         "https://i.pinimg.com/originals/f0/ca/c3/f0cac3e3b0c2ebf5f2d2e4f70455e794.jpg",
         " /data/diy-and-crafts",
         "diy-and-crafts"
        ],
        [
         6261,
         "308c5c1c-1ebd-4649-be78-14424ee346b1",
         "DECORATING WITH RATTAN & CANE - Dashing Darlin'",
         "BOHEMIAN TRENDING TEXTURES FOR THE HOME ~ ROUNDED UP MY FAVORITE RATTAN & CANE HOME DECOR FINDS",
         null,
         "Dashing Darlin' ",
         "Boho Chic Living Room,Boho Chic Entryway,Living Room Decor With White Couch,Rustic Living Rooms,Diy Living Room,Living Room Upstairs,Rustic Room,Bohemian Living,Living Room Inspiration",
         "image",
         "https://i.pinimg.com/originals/24/89/f7/2489f76f98cb3c1189848ddc42f2ec52.jpg",
         " /data/home-decor",
         "home-decor"
        ],
        [
         3201,
         "6370f096-f344-49c3-a6b1-3072c537a953",
         "DIY Pom Pom Letters for MOM!",
         "Marla Meridith - DIY Pom Pom Letters for MOM!",
         null,
         "Marla Meridith",
         "Kids Crafts,Crafts To Make,Craft Projects,Arts And Crafts,Craft Ideas,Pom Pom Crafts,Yarn Crafts,Flower Crafts,Diy Flower",
         "image",
         "https://i.pinimg.com/originals/db/c6/98/dbc69818c531e28ee514aaaec377257d.jpg",
         " /data/diy-and-crafts",
         "diy-and-crafts"
        ],
        [
         2637,
         "b18e8d38-eb45-40c0-b443-4fca250df850",
         "Marco Boho",
         null,
         null,
         "El blog amarillo",
         "Diy Craft Projects,Diy Crafts For Home Decor,Diy And Crafts Sewing,Diy Wall Decor,Creative Crafts,Fun Crafts,Paper Crafts,Sewing Diy,Diy Wall Art",
         "multi-video(story page format)",
         "https://i.pinimg.com/videos/thumbnails/originals/b6/ab/28/b6ab28752f2804d71a3993565ba89308.0000001.jpg",
         " /data/diy-and-crafts",
         "diy-and-crafts"
        ],
        [
         1198,
         "1a90caac-f5df-4a27-821b-0fb4be678542",
         "The End of the Skin-Care Craze",
         "In the face of a pandemic, economic collapse, and climate change, Instagram photos of shelves crowded with skin-care products appear out of",
         "20",
         "Mccready-romero",
         "Care Organization,Bathroom Organisation,Medicine Organization,Beauty Care,Beauty Skin,Elle Ferguson,Shelfie,Makeup Storage,Beauty Room",
         "image",
         "https://i.pinimg.com/originals/a3/d0/29/a3d029500020cc9c9c44f97c60dbc515.png",
         " /data/beauty",
         "beauty"
        ],
        [
         10370,
         "746948e7-a216-456b-8de7-7fee7312012c",
         "Joshua Tree - A Weekend in the Desert with Faithfull | Song of Style",
         "Aimee Song of the blog Song of Style shares a photo diary of her weekend in the Joshua Tree desert with Faithfull the Brand. Photos by Grant Legan.",
         null,
         "Maggie Panning",
         "Pretty Cars,Cute Cars,Classy Cars,Sexy Cars,Dream Cars,My Dream Car,Carros Retro,Ford Classic Cars,Ford Mustang Classic",
         "image",
         "https://i.pinimg.com/originals/11/1e/c3/111ec37eed198cb432f71b20afd0e770.jpg",
         " /data/vehicles",
         "vehicles"
        ],
        [
         7167,
         "922425d2-16dc-465e-8fe4-e3c081a0299f",
         "Hamilton Khaki Aviation Pilot Chrono Watch H76712151",
         "Hamilton Khaki Aviation Pilot Chrono H76712151 Movement: ETA 251.274 quartz chronograph Case: Polished and brushed stainless steel. 44mm in diameter. Water resistant to 100 mete… ",
         "265",
         "Midwest Jewelers & Estate Buyers",
         "Swiss Army Watches,Seiko Watches,Luxury Watches For Men,Silver Man,Breitling,Fashion Watches,Men's Fashion,Fashion Tips,Cool Watches",
         "image",
         "https://i.pinimg.com/originals/13/cb/d6/13cbd63c3b2582b9ba4ec027d62e91c2.png",
         " /data/mens-fashion",
         "mens-fashion"
        ],
        [
         10673,
         "ede73169-5b9f-4906-b02e-9db1bee203a4",
         "Discover the new Range Rover luxury performance SUV",
         "Shadow Velar",
         null,
         "Land Rover USA",
         "Range Rover Negro,Range Rover Preto,Range Rover Schwarz,Range Rover Black,Range Rover Evoque,Range Rover Car,Pink Range Rovers,The New Range Rover,Luxury Sports Cars",
         "image",
         "https://i.pinimg.com/originals/5d/c8/87/5dc887a26bd47598867f3576cfe1ace7.jpg",
         " /data/vehicles",
         "vehicles"
        ],
        [
         2060,
         "177dde1a-3409-4865-a533-9f50efaedcd8",
         "50 DIY Decorations for a Jolly Christmas Table Setting",
         "You'll feel extra merry during your holiday dinner!",
         "254",
         "Syndi Mulcahy",
         "Christmas Place Cards,Christmas Names,Christmas Napkins,Christmas Mantels,Christmas Diy,Christmas Wreaths,Christmas Place Setting,Thanksgiving Place Cards,Christmas Favors",
         "image",
         "https://i.pinimg.com/originals/1a/e4/e0/1ae4e03602fb20a77cb53e623547d317.png",
         " /data/christmas",
         "christmas"
        ],
        [
         9487,
         "3bccb05e-f031-477f-9ca4-9be28e5bd542",
         "The Cheapest Countries to Visit Around the World",
         "Are you looking for the cheapest country to visit? Here are the cheapest countries to visit in the world! These are affordable destinations that offer the most value for an unfo… ",
         null,
         "Diana's Healthy Living | Luxury Adventure Travel Blog",
         "Travel Advice,Travel Guides,Travel Tips,Travel Goals,Travel Info,Travel Essentials,Travel Stuff,Travel Hacks,Cheap Travel",
         "image",
         "https://i.pinimg.com/originals/56/10/37/561037138bcc9c20e88a8e66ae0cb658.png",
         " /data/travel",
         "travel"
        ],
        [
         772,
         "49a12516-2c77-445f-b656-4b55b4a69608",
         "5 Pastel Color Palettes for 5 Floral Favorites",
         "Everyone loves flowers for their beautiful shapes and color, but confronting all that colorful splendor can be daunting. Artist Jude Tolar shows how to make color decoding easy… ",
         null,
         "Artists Network",
         "Chalk Pastel Art,Soft Pastel Art,Pastel Artwork,Oil Pastel Paintings,Chalk Pastels,Pastel Drawing,Oil Pastels,Horse Paintings,Flower Paintings",
         "image",
         "https://i.pinimg.com/originals/e1/eb/e8/e1ebe8d2f201d92109b1b12bf6e2c1ac.jpg",
         " /data/art",
         "art"
        ],
        [
         7510,
         "e09fddda-1cc2-41c8-b799-d238fe90b937",
         "See the Most Stylish Men of New York Fashion Week",
         "10 guys with great style at the spring 2016 shows.",
         null,
         "GQ Magazine",
         "Nyc Mens Fashion,Fashion Mode,Mens Fashion Suits,New York Fashion,Fashion Fashion,Fashion Check,Paris Fashion,Latex Fashion,Fashion Outlet",
         "image",
         "https://i.pinimg.com/originals/45/3c/fb/453cfb4859d0b6730422c75f7b8918ec.jpg",
         " /data/mens-fashion",
         "mens-fashion"
        ],
        [
         5758,
         "af602075-7bea-4aa0-adf4-a1a89952e92e",
         "Robot Challenge Screen",
         "Need to organize your finances? Create a filing system that works for you. Learn how to organize your finances and give all your documents a home with",
         null,
         "Esavingsblog",
         "Ways To Save Money,Money Tips,Money Saving Tips,Managing Money,Money Hacks,Saving Ideas,Finance Bank,Personal Finance,Finance Degree",
         "image",
         "https://i.pinimg.com/originals/e6/46/a3/e646a3462219ed0f6f752bcad93fd5a5.png",
         " /data/finance",
         "finance"
        ],
        [
         1137,
         "c0549191-51c3-4fb3-bcd3-824a9c46cfd7",
         "Epus-PRO Treatment Device",
         "Electroporation + LED + Low-Frequency Exercising muscles you never use in daily life, this product works like an electroporation that you can only get in a medical skin care cli… ",
         "18",
         "Awesthetics by Amy Wong",
         "Cream For Oily Skin,Moisturizer For Oily Skin,Oily Skin Care,Face Skin Care,Face Care Tips,Beauty Tips For Face,Beauty Tricks,Skin Care Clinic,Skin Treatments",
         "image",
         "https://i.pinimg.com/originals/05/61/89/056189f29c6898f2db14af0b526adf52.png",
         " /data/beauty",
         "beauty"
        ],
        [
         7234,
         "c05f564d-2783-4bec-b205-d3f756276296",
         "16 Amazing Casual Outfit Grids For Guys",
         "Your spring summer wardrobe inspiration..",
         null,
         "Mens Fashion - LIFESTYLE BY PS ",
         "Mode Outfits,Casual Outfits,Men Casual,Fashion Outfits,Fashion Clothes,Hijab Casual,Gentleman Mode,Gentleman Style,Mode Masculine",
         "image",
         "https://i.pinimg.com/originals/0e/cf/eb/0ecfeb441e7a3559aa41f11b94cdd6ef.jpg",
         " /data/mens-fashion",
         "mens-fashion"
        ],
        [
         327,
         "549e1cf5-2301-478b-9e41-af3f618bdc5b",
         "10 Creative Influencers to Follow for Preschool Arts and Crafts Ideas",
         "These up-and-coming influencers share amazing ideas for teaching our children through art, nature, and play. Also, their ideas are educational and fun!",
         null,
         "Learn Play Read",
         "Classe D'art,Preschool Arts And Crafts,Preschool Christmas,Christmas Crafts,Ecole Art,Beginning Of School,Art Classroom,Flipped Classroom,Art Plastique",
         "image",
         "https://i.pinimg.com/originals/82/c1/1c/82c11cdbc4adcbccf8db68187f45abe3.jpg",
         " /data/art",
         "art"
        ],
        [
         7874,
         "5343b4fb-36a8-4f38-a71d-48c5eaabb57f",
         "35 Happiness Quotes Will Remind You To Freaking ROCK Your Day Today",
         "Who needs anyone else? not me. I deserve the world so I'm gonna give it to myself. | Being You | Inspirational Quotes | #beinspired #beyourself #inspirationalquote | www.unsoshl… ",
         null,
         "YourTango",
         "Good Quotes,Motivacional Quotes,Quotes Thoughts,Great Inspirational Quotes,Life Quotes Love,Self Love Quotes,Change Quotes,Quotes To Live By,Best Quotes",
         "image",
         "https://i.pinimg.com/originals/24/8e/64/248e64a976d22570453b252fdcb96396.jpg",
         " /data/quotes",
         "quotes"
        ],
        [
         1450,
         "be11eb0e-bf1d-4558-979c-5daf59454439",
         "A multitasking cleanser/toner that feels incredibly light on the skin and smells ever so faintly of rose petals.",
         "It can be used as a pre-cleansing or pre-makeup step, a toner (that mildly hydrates and exfoliates), or a midday refresher. The possibilities!Get it from Soko Glam for $30.",
         null,
         "BuzzFeed",
         "Face Care,Body Care,Beauty Skin,Beauty Makeup,K Beauty,Beauty Water,Tips Belleza,Aesthetic Makeup,All Things Beauty",
         "image",
         "https://i.pinimg.com/originals/08/68/cb/0868cb65f447b9b165544f72fd05cbce.jpg",
         " /data/beauty",
         "beauty"
        ],
        [
         10245,
         "cb3aee98-8171-44ce-bc47-9275b2d2c731",
         "99 Things Every Female Traveler Should Know",
         "From practical travel tips to tips for inner travel peace, the following is a long list of everything we think every female traveler should know in order to get the most out of… ",
         null,
         "Her Packing List | Minimalist Travel Essentials & Tips for Women",
         "Travel To Do,Travel Blog,Travel Info,Future Travel,Travel Advice,Solo Travel,Time Travel,Travel Guides,Places To Travel",
         "image",
         "https://i.pinimg.com/originals/cd/66/6d/cd666dbe0791e67881586f0c85495f88.jpg",
         " /data/travel",
         "travel"
        ],
        [
         9093,
         "8e478adb-0e3f-4045-83ce-79f155a63722",
         "51 Unique Minimalist Tattoos Designs For Women",
         "\"Minimalist Tattoos\" Discover how less is more with the best minimalist tattoo designs for women. Explore cool conservative simplicity with super simple ink ideas. See more idea… ",
         null,
         "Beautyholo | Latest Hairstyles, Nail Design Ideas, Home Décor DIY, Women Fashion Ideas",
         "Small Tattoos Men,Tatoos Men,Cool Tattoos For Guys,Cool Tatoos For Women,Cool Simple Tattoos,Unique Tattoos,Diy Tattoo,Tattoo Fonts,Tattoo Quotes",
         "image",
         "https://i.pinimg.com/originals/c2/82/7d/c2827d11633b11c11a3da17b024264b0.jpg",
         " /data/tattoos",
         "tattoos"
        ],
        [
         2301,
         "d502bdc4-103c-47db-832b-4a42a1ae9e0e",
         "Christmas Candle",
         "A gorgeous fragranced soy candle in a stoneware pot. Scent notes: • Top: Apple Cider, Cinnamon • Middle: Fresh Cut Christmas Tree • Base: Cookies, Orange Peels, Cloves Burn time… ",
         "13",
         "Home Etc",
         "Christmas Tree Base,Fresh Cut Christmas Trees,Christmas Morning,Christmas Scents,Christmas Candles,Holiday Tree,Rustic Christmas,Fall Candles,Soy Candles",
         "image",
         "https://i.pinimg.com/originals/fc/a0/6e/fca06e8a43ed4c867a58acbb1b6a5e6e.jpg",
         " /data/christmas",
         "christmas"
        ],
        [
         2788,
         "caf2fab1-bca6-49ff-8084-98094c945143",
         "Painting Pasta to Thread",
         "Painting pasta to thread - this was so much fun and the cool fluro pasta made great necklaces!",
         null,
         "Katepickle - picklebums - fun ideas for families",
         "Craft Activities For Kids,Toddler Activities,Easy Toddler Crafts,Time Activities,Activities For 4 Year Olds,At Home Crafts For Kids,Arts And Crafts For Kids Toddlers,Back To School Crafts For Kids,Spring Toddler Crafts",
         "image",
         "https://i.pinimg.com/originals/a1/3d/0a/a13d0a596937d745809c21d68de1ab92.jpg",
         " /data/diy-and-crafts",
         "diy-and-crafts"
        ],
        [
         9268,
         "eaadbbf7-06aa-49cb-bf9b-1205118deb9c",
         "40 Hot Finger Tattoo Ideas",
         "Although in the past, finger tattoos were not chosen by most people. However, as the trend of tattoos continues to change, we have found that in recent years more and more peopl… ",
         null,
         "IdeasDonuts",
         "Wedding Finger Tattoos,Arrow Tattoo Finger,Flower Finger Tattoos,Hand And Finger Tattoos,Simple Finger Tattoo,Finger Tattoos For Couples,Hand Tattoos For Girls,Finger Tattoo For Women,Small Hand Tattoos",
         "image",
         "https://i.pinimg.com/originals/06/16/a7/0616a7915ce4bb0125906778ba979fe0.png",
         " /data/tattoos",
         "tattoos"
        ],
        [
         1706,
         "b5c8a1b5-9e90-4522-9bec-2477b698d5b7",
         "Standing Figurine Toys Xmas Santa Claus Snowman Reindeer Figure Plush Dolls Christmas Decorations Ornaments Home Indoor Table Ornaments Christmas Party Tree Hanging Decor Toys Gifts for Kids Friends…",
         "Features: Material:Lint Size:48ｘ18cm Quantity:1 pc Shape:Santa Claus, snowman. Elk Occasion:Christmas Description: 1. Fashion design, high quality 2. Santa Claus, snowman. Elk C… ",
         null,
         "Wear24-7",
         "Merry Christmas To You,Christmas Toys,Great Christmas Gifts,Christmas Snowman,Christmas Ornaments,Holiday,Christmas Party Decorations,Christmas Themes,Decoration Party",
         "image",
         "https://i.pinimg.com/originals/b5/7f/21/b57f219fa89c1165b57525b8eae711da.jpg",
         " /data/christmas",
         "christmas"
        ],
        [
         5293,
         "cf33a9ea-788b-4440-bbff-19939cd49d36",
         "I Will Teach You to Be Rich, Second Edition: No Guilt. No Excuses. No Bs. Just a 6-Week Program That Works",
         "The groundbreaking NEW YORK TIMES and WALL STREET JOURNAL BESTSELLER that taught a generation how to earn more, save more, and live a rich life--now in a revised 2nd edition. Bu… ",
         "793",
         "Bookmarks Retail",
         "Seth Godin,Wall Street Journal,Good Books,Books To Read,Money Makeover,Finance Books,Finance Tips,Words To Use,Dale Carnegie",
         "image",
         "https://i.pinimg.com/originals/5f/53/c9/5f53c9406ddaf6449dc1c6b93c7f8e31.jpg",
         " /data/finance",
         "finance"
        ],
        [
         7733,
         "4345edf6-abc4-4fc6-9230-660280ef149b",
         "40 Pick-Me-Up Quotes For When You Feel Like You're About To Give Up",
         "40 Best Inspirational Quotes To Encourage You To Not Give Up | YourTango",
         null,
         "YourTango",
         "Proud Quotes,Now Quotes,Words Quotes,Life Quotes,Sayings,Leader Quotes,Quotes About Being Proud,Try Again Quotes,Relationship Quotes",
         "image",
         "https://i.pinimg.com/originals/07/eb/16/07eb163de430de579cedf9ed92eba33c.jpg",
         " /data/quotes",
         "quotes"
        ],
        [
         3716,
         "74f878f3-6f1b-4b41-8e71-67a68a0ae76a",
         "Engaging Secondary Students with Crime Stories — Bespoke ELA:  Essay Writing Tips + Lesson Plans",
         "Here, you will find four projects that involve crime as a means of targeting essential skills for reading and writing. These projects are sure to capture student interest and en… ",
         null,
         "The Bespoke ELA Classroom",
         "Middle School Reading,Middle School English,Middle School Teachers,Ela Classroom,English Classroom,English Teachers,8th Grade Ela,Mystery,Teaching Reading",
         "image",
         "https://i.pinimg.com/originals/78/5e/2a/785e2afc1f0ca538109b1eb6b517076b.jpg",
         " /data/education",
         "education"
        ],
        [
         3750,
         "011f8a14-ffab-4eee-a180-2c9154af430d",
         "FREE FOR TEACHERS! List of Companies offering free subscriptions now!",
         "Giant list of companies offering FREE services for schools and teachers during school closures",
         null,
         "Becky Mansfield - YourModernFamily ",
         "Teacher Websites,Teacher Tools,Teacher Hacks,Teacher Resources,Free Teaching Resources,Teacher Binder,Teacher Stuff,Teaching Strategies,Teaching Tips",
         "image",
         "https://i.pinimg.com/originals/05/df/76/05df76296994a6d9f5830eee642ff296.jpg",
         " /data/education",
         "education"
        ],
        [
         232,
         "4b3a299c-b202-44c3-8e54-bedce8f35429",
         "Mountains made up of lines",
         "Lines can depict any shape; they can create tridimensional effects and give the perception of movement. I did this drawing with 6th grade students, in order to create a mountain… ",
         "26",
         "mj",
         "Line Art Projects,School Art Projects,Art School,Art Education Projects,Garden Projects,Doodle Art,Elements Of Art Line,4th Grade Art,Art Lessons Elementary",
         "image",
         "https://i.pinimg.com/originals/ad/e2/af/ade2af2b4ad1419a8d13b12a7969be16.jpg",
         " /data/art",
         "art"
        ],
        [
         8300,
         "7ddd23cf-68a5-4b5a-a800-1d985cbc69b4",
         "The Maker's Map - Quotes and Sayings that inspire",
         "Quotes and Sayings that inspire, motivate, encourage women. Quotes to use on social media. Content ideas for bloggers.",
         null,
         "Amber Strong - The Maker’s Map | DIY’s, Crafts & Home Decor",
         "Positive Quotes For Life Encouragement,Positive Quotes For Life Happiness,Good Happy Quotes,Quotes Positive,Being Happy Quotes,Happy Sayings,Happy Life Quotes To Live By,Self Happiness Quotes,Positive Thoughts Quotes",
         "image",
         "https://i.pinimg.com/originals/e9/83/44/e983446f2c08cc6da883b9d777f3369f.jpg",
         " /data/quotes",
         "quotes"
        ],
        [
         8978,
         "b98e5485-de15-45e7-b4b1-c45351d84f30",
         "50 Elephant Tattoo Designs for Women Stylish Picture",
         "Attractive Geometric Elephant Tattoo Female Will Love Today elephant tattoo for women are popular for…",
         null,
         " Travel Pins Design Ideas",
         "Cute Elephant Tattoo,Elephant Tattoo Design,Small Elephant Tattoos,Elephant Thigh Tattoo,Elephant Tattoo Meaning,Elephant Outline,Tattoo Oma,Tigh Tattoo,Small Thigh Tattoos",
         "image",
         "https://i.pinimg.com/originals/f9/14/11/f9141167d060e6a949e585f1b877a949.jpg",
         " /data/tattoos",
         "tattoos"
        ],
        [
         2048,
         "18574885-466a-45b5-acd8-131467643d3c",
         "Outdoor Christmas Decorations to Give Your Yard Holiday Cheer",
         "All I want for Christmas is a beautifully decorated home.",
         null,
         "Country Living Magazine",
         "Noel Christmas,Winter Christmas,Magical Christmas,Christmas Garlands,Christmas 2019,Christmas Displays,Office Christmas,Christmas Vacation,Christmas Movies",
         "image",
         "https://i.pinimg.com/originals/92/65/29/926529446fc63379a274a946aa85f9b8.jpg",
         " /data/christmas",
         "christmas"
        ],
        [
         10337,
         "104c2394-368c-425a-9625-a116b59da94d",
         "New Bestop Sunrider for Hardtop Review/s",
         "After a week with my Sunrider . . LOVE!! I've opened it more in a week than I've had my freedom panels off in 1.5 years. Now, who has a sun-visor mod so...",
         null,
         "WranglerForum.com",
         "Cj Jeep,Jeep Mods,Jeep Suv,Jeep Truck,Jeep Wrangler Forum,Jeep Wrangler Unlimited,Jeep Wrangler Accessories,Jeep Accessories,Jeep Photos",
         "image",
         "https://i.pinimg.com/originals/54/30/88/5430889d469677d563eaa2251711015f.jpg",
         " /data/vehicles",
         "vehicles"
        ],
        [
         7832,
         "a549938a-786e-4a94-a473-403e8e3a15ad",
         "You either win or you learn❤️ #inspirationalquote #quote #positive #hope",
         null,
         null,
         "LISA MASLYK / VOICE OVER TALENT /ACTOR",
         "Motivacional Quotes,Doodle Quotes,Wisdom Quotes,Words Quotes,Year Quotes,Positive Quotes For Life,Good Life Quotes,Self Love Quotes,Self Healing Quotes",
         "multi-video(story page format)",
         "https://i.pinimg.com/videos/thumbnails/originals/2b/20/ac/2b20ace41dfc29087005a3df9fe1dd6d.0000001.jpg",
         " /data/quotes",
         "quotes"
        ],
        [
         8366,
         "046e2c32-1061-42d3-8017-1fc93865edb9",
         "'Quote - You don't have to be perfect to be amazing' iPhone Case by HelenDesignXO",
         "Be Brave Enough to Set the Sun. Motivation Quotes.",
         null,
         "Vinyl Written",
         "Quotes Wolf,Motivacional Quotes,Poetry Quotes,Words Quotes,Funny Quotes,Sun Qoutes,Quotes On Sun,More To Life Quotes,Take Me Back Quotes",
         "image",
         "https://i.pinimg.com/originals/d3/41/91/d341916b119a3df2836d2079367f7b20.jpg",
         " /data/quotes",
         "quotes"
        ],
        [
         3334,
         "35a5460b-412c-4135-8122-e4461866018a",
         "DIY - GUMBALL MACHINE FROM BOTTLE",
         null,
         null,
         "Girl Crafts",
         "Diy Crafts For Teens,Diy Crafts To Do,Diy Crafts Hacks,Diy Crafts Jewelry,Diy Arts And Crafts,Cute Crafts,Creative Crafts,Easy Crafts,Cute Diy Crafts For Your Room",
         "multi-video(story page format)",
         "https://i.pinimg.com/videos/thumbnails/originals/39/29/48/392948e8d63ec699260decb0fc9647c1.0000001.jpg",
         " /data/diy-and-crafts",
         "diy-and-crafts"
        ],
        [
         778,
         "f82fe1cc-22ce-4c4d-82cc-2e8c9325701d",
         "Your complete guide to watercolors for beginners!",
         "Looking for a complete post on how to watercolor? This guide shows you step-by-step how to learn how to watercolor on your own!",
         null,
         "Menucha - Moms and Crafters",
         "Watercolor Beginner,Watercolor Paintings For Beginners,Step By Step Watercolor,Watercolor Tips,Watercolour Tutorials,Watercolor Techniques,Art Techniques,Simple Watercolor,Tattoo Watercolor",
         "image",
         "https://i.pinimg.com/originals/d9/bf/31/d9bf3191828e8a4d145db739d5fac53e.jpg",
         " /data/art",
         "art"
        ],
        [
         480,
         "f5dfee8f-1b62-417d-966c-8cf205418c68",
         "Abstract Portrait",
         "No description available",
         null,
         "Ovetta Jackson",
         "Abstract Portrait,Portrait Art,Arte Black,African Art Paintings,Black Art Painting,Afro Art,Arte Pop,African American Art,Love Art",
         "image",
         "https://i.pinimg.com/originals/05/ed/11/05ed1128fe3a8784ad68900d310654d6.jpg",
         " /data/art",
         "art"
        ],
        [
         3011,
         "8d5339e6-ba89-412a-bc61-4d5205fe32f8",
         "Kids paper plate string art for every holiday - My Silly Squirts",
         "Kid's String Art Craft for Every Holiday",
         null,
         "JDaniel4's Mom",
         "Kids Crafts,Preschool Crafts,Easter Crafts,Projects For Kids,Craft Projects,Craft Ideas,Paper Plate Crafts For Kids,Preschool Christmas,Christmas Crafts",
         "image",
         "https://i.pinimg.com/originals/bd/86/74/bd867450a3588b0ce1712f83fb5a58a4.jpg",
         " /data/diy-and-crafts",
         "diy-and-crafts"
        ],
        [
         9475,
         "5f389774-c116-4b5d-bd81-763d1e729773",
         "New Zealand North Island 7 Day Itinerary",
         "One week may feel too short, but with this New Zealand North Island 7 Day Itinerary you can cover a lot of ground! Plus, read about where to stay, self-driving, flights, and more!",
         null,
         "Alanna | Periodic Adventures",
         "Adventure Aesthetic,Travel Aesthetic,Best Places To Vacation,Places To See,North Island New Zealand,New Zealand Adventure,New Zealand Travel Guide,Bali,Beautiful Places To Travel",
         "image",
         "https://i.pinimg.com/originals/2e/0d/fc/2e0dfc4293e6d413d18d601248bbe041.jpg",
         " /data/travel",
         "travel"
        ],
        [
         7586,
         "28525ffe-fb38-4e4b-90be-55464575cc3b",
         "64 Bad Bitch Quotes To Awaken Your Inner Savage -Our Mindful Life",
         "A feminist? More like a warrior. These bad bitch quotes might be the perfect slap-in-the-face you'll need to fight self-doubts.",
         null,
         "Our Mindful Life",
         "Bitch Quotes,Sarcastic Quotes,True Quotes,Funny Quotes,Girls Attitude Quotes,Sassy Quotes Bitchy,Bad Words Quotes,Bad Girl Quotes,Girl Qoutes",
         "image",
         "https://i.pinimg.com/originals/43/91/f5/4391f5ce5501ded201706022572514ae.png",
         " /data/quotes",
         "quotes"
        ],
        [
         1864,
         "6f1951f0-63be-4c4f-8d21-e4995217f69e",
         "120 Christmas Decorations from the Dollar Store",
         "Love Christmas decorations but hate spending a lot bunch of money? Check out some of these budget DIY decorations you can easily make from the dollar store!",
         null,
         "Caroline|CarolineVencil.com | Saving & Making Money | Pro Blogger",
         "Diy Snowman Decorations,Christmas Candle Decorations,Diy Christmas Ornaments,Christmas Ideas,Christmas Christmas,Snowman Ornaments,Christmas Diy Gifts,Vase Decorations,Diy Christmas Decorations For Home",
         "image",
         "https://i.pinimg.com/originals/30/85/21/3085215db77e55770202724268465490.jpg",
         " /data/christmas",
         "christmas"
        ],
        [
         6014,
         "d4c57afb-4775-4482-89c8-71d1bf85b488",
         "Coffee Table Decor Ideas for a Cozy Living Room - Salvaged Living",
         "Grab these coffee table decor ideas for a cozy living room. This post is awesome, it has a list of must have elements for cozy coffee table styling plus a list of supply ideas f… ",
         null,
         "Salvaged Living",
         "Coffee Table Decor Living Room,Coffee Table Vignettes,Coffee Table Centerpieces,Coffee Table Styling,Diy Coffee Table,Decorating Coffee Tables,Cozy Living Rooms,Livingroom Table Decor,Living Room Candles",
         "image",
         "https://i.pinimg.com/originals/77/b2/bb/77b2bb477d1164908048dabcd78cabd5.jpg",
         " /data/home-decor",
         "home-decor"
        ],
        [
         1967,
         "0b9d5b95-51a6-465e-ae4a-2cb68ceada29",
         "15 Fun & Festive Christmas Porch Ideas",
         "15 unique Christmas porch ideas that will leave you feeling inspired and help you tackle decorating your own entryway for the holidays! It’s almost time to start decorating for… ",
         null,
         "Ashley - Modern Glam",
         "Exterior Christmas Lights,Front Door Christmas Decorations,Christmas Lights Outside,Christmas House Lights,Decorating With Christmas Lights,Porch Decorating,Christmas Porch Decorations,Front Porch Ideas For Christmas,Christmas Lights Outdoor Trees",
         "image",
         "https://i.pinimg.com/originals/ff/f8/3b/fff83b02aeb29e2e9341a56fc5e63345.png",
         " /data/christmas",
         "christmas"
        ],
        [
         1699,
         "e930ea57-d34a-499f-9811-126d39ed1fee",
         "Easy to Make Mason Jar Christmas Scenes",
         "ow to make easy and inexpensive Christmas decor with these cute mason jar Christmas scenes. Who doesn't love mason jar crafts for Christmas?",
         null,
         "Twelve On Main",
         "Christmas Decorations Diy Crafts,Christmas Crafts For Gifts,Diy Decoration,Diy Ornaments,Decor Ideas,Gift Ideas,Decorating Ideas,Diy Christmas Room Decor,Diy Christmas Projects",
         "image",
         "https://i.pinimg.com/originals/0c/31/a1/0c31a189ab7e503c035c8af991d5bd29.jpg",
         " /data/christmas",
         "christmas"
        ],
        [
         4996,
         "cf6c021f-1f41-47da-9492-cdec9d32fca8",
         "The Secret To Authentic Networking and Building a Professional Network | Career Contessa",
         "Tips on how to build an authentic network and find genuine connections in your professional network.",
         "265",
         "BEIMER",
         "Event Planning Template,Event Planning Quotes,Event Planning Checklist,Event Planning Business,Event Planning Design,Business Events,Event Decor,Pastel,Career",
         "image",
         "https://i.pinimg.com/originals/ae/25/a7/ae25a72d5584a4c8f75e972fb70d48e2.jpg",
         " /data/event-planning",
         "event-planning"
        ],
        [
         10168,
         "75b8bac1-4aa3-44c3-a310-9faddf4dc576",
         "dream destination",
         null,
         "189",
         "DailyDose",
         "Beautiful Places To Travel,Cool Places To Visit,Places To Go,Romantic Travel,Romantic Vacations,Vacation Places,Dream Vacations,Honeymoon Places,Dream Vacation Spots",
         "multi-video(story page format)",
         "https://i.pinimg.com/videos/thumbnails/originals/ab/ba/81/abba81b921f0efc48704f93f5972b29d.0000001.jpg",
         " /data/travel",
         "travel"
        ],
        [
         5333,
         "1e3d9a5d-4d71-4dbc-9ceb-abb1544b1e32",
         "The 20 Best Dave Ramsey Tips to Makeover Your Money Today",
         "These Dave Ramsey tips will help you manage your money and budget so you can pay off debt quickly. These are some of the best personal finance tips and advice to manage your mon… ",
         null,
         "Budgets Made Easy",
         "Financial Peace,Financial Tips,Financial Planning,Financial Literacy,Budgeting Finances,Budgeting Tips,Homepage Layout,Faire Son Budget,Budget Planer",
         "image",
         "https://i.pinimg.com/originals/9f/0e/18/9f0e18e2c2615478352c074fff341ccf.png",
         " /data/finance",
         "finance"
        ],
        [
         2565,
         "9cffaa08-af4a-479a-ae01-16c23f9b7aba",
         "Gorgeous Outdoor Christmas Decorations: 32 Best Ideas & Tutorials",
         "32 beautiful outdoor Christmas decorations & ideas on DIY lights, wreaths, garlands, wood signs & ornaments for the yard, porch & front door!",
         null,
         "A Piece of Rainbow",
         "Christmas Garden,Farmhouse Christmas Decor,Christmas Fun,Christmas Outdoor Lights,White Christmas,Outdoor Christmas Presents,Christmas Manger,All Things Christmas,Handmade Christmas",
         "image",
         "https://i.pinimg.com/originals/3c/00/a0/3c00a066c02241b11b9f88c07f63510c.jpg",
         " /data/christmas",
         "christmas"
        ],
        [
         9778,
         "4bbe076e-8916-4e61-befc-c9ab952af442",
         "Burano Italy — How to Visit The Most Colorful Town in Europe!",
         "Your Guide to Burano, Italy. The most colorful town in Europe!",
         null,
         "Amanda Green Bottoms @ kevinandamanda.com",
         "Places To Travel,Places To Go,Travel Destinations,Holiday Destinations,Day Trips From Venice,Venice In A Day,Italy Travel Tips,Cities In Europe,Europe Places",
         "image",
         "https://i.pinimg.com/originals/8d/21/22/8d212261e5a8e25eabf2487ce0afc3f5.jpg",
         " /data/travel",
         "travel"
        ],
        [
         3145,
         "1022ba0b-eae7-4eba-9120-1fe44d093a32",
         "How to Colour Chickpeas for Play - Inspire My Play",
         "Learn how to colour chickpeas for sensory play and craft with this easy DIY",
         null,
         "Laura- Inspire My Play | Play & Learning For Little Kids",
         "Baby Sensory Play,Sensory Activities Toddlers,Infant Activities,Sensory Bins,Baby Play,Kindergarten Activities,Diy For Kids,Crafts For Kids,Preschool Crafts",
         "image",
         "https://i.pinimg.com/originals/35/e0/44/35e0447b94dd9076ed9e51a8d692e489.jpg",
         " /data/diy-and-crafts",
         "diy-and-crafts"
        ],
        [
         1341,
         "7a902d47-90b8-4fd9-82fc-787f028136ac",
         null,
         null,
         null,
         null,
         null,
         "multi-video(story page format)",
         null,
         " /data/beauty",
         "beauty"
        ],
        [
         5162,
         "a68c2e1b-a247-4990-9d78-672d7797bd2b",
         "How to Live Frugally: 50 Frugal Living Tips!",
         "What to learn how to live frugally and save money? Read on and learn 50 practical frugal living tips that’ll help you transform your life! These practical tips for frugal living… ",
         null,
         "This Mama Blogs -Work at Home Jobs |  Frugal Living | Make Money",
         "Ways To Save Money,Money Tips,Money Saving Tips,Money Hacks,Money Budget,Managing Money,Groceries Budget,Frugal Living Tips,Frugal Tips",
         "image",
         "https://i.pinimg.com/originals/03/f3/5d/03f35d36a796b5f29f8d91193e5e2af9.png",
         " /data/finance",
         "finance"
        ],
        [
         5151,
         "fa086007-ea95-4ecf-8653-ce749ed3fc8f",
         "How to Start Paying Off Debt...even with no extra money",
         "Find out how to start paying off debt with this one simple tip - you can become debt free months or even years faster, even when you have no extra money.",
         null,
         "GrowingSlower",
         "Refinance Mortgage,Mortgage Tips,Mortgage Payment,Paying Off Mortgage Faster,Pay Off Mortgage Early,Ways To Save Money,Money Tips,Money Saving Tips,Financial Tips",
         "image",
         "https://i.pinimg.com/originals/c0/9c/e2/c09ce20892daace8514215013114289e.jpg",
         " /data/finance",
         "finance"
        ],
        [
         2498,
         "1606db47-8923-4360-9fa6-9400bec6270f",
         "Tout plein d'idées de décos des Fêtes à réaliser avec des bûches et du bois",
         "Des créations festives et durables",
         null,
         "debra",
         "Snowman Christmas Decorations,Christmas Wood Crafts,Homemade Christmas Gifts,Christmas Projects,Holiday Crafts,Primitive Christmas,Christmas Crafts,Christmas Ornaments,Holiday Decor",
         "image",
         "https://i.pinimg.com/originals/f4/29/d5/f429d513dfa556d78e28a00bee98e109.jpg",
         " /data/christmas",
         "christmas"
        ],
        [
         7268,
         "17ed1c57-5328-4e73-b30d-7f113610955a",
         "Athleisure Outfit Ideas",
         "Athleisure Outfit Ideas For Men This Year",
         null,
         "TheUnstitchd",
         "Mens Fall Outfits,Stylish Mens Outfits,Casual Winter Outfits,Winter Fashion Outfits,Look Fashion,Men Casual,Man Winter Fashion,Fashion Men,Winter Style For Man",
         "image",
         "https://i.pinimg.com/originals/f0/6b/68/f06b68b833439deee027450749a9ede3.jpg",
         " /data/mens-fashion",
         "mens-fashion"
        ],
        [
         3351,
         "282a8cf2-d4f3-4d21-837c-90c953b737cf",
         "Easy Christmas Crafts for Kids - Fruit Loop Candy Cane",
         "If you're looking for easy Christmas crafts for kids, this is it! You only need 2 things to make them - Fruit Loop cereal and pipe cleaners! They're a great fine motor activity… ",
         null,
         "Lindsey Blogs",
         "Kids Food Crafts,Preschool Christmas Crafts,Christmas Crafts For Kids To Make,Christmas Activities For Kids,Christmas Tree Crafts,Toddler Christmas,Toddler Crafts,Preschool Winter,Winter Activities",
         "image",
         "https://i.pinimg.com/originals/f4/40/aa/f440aae805984076e0886407677e0ec2.png",
         " /data/diy-and-crafts",
         "diy-and-crafts"
        ],
        [
         7738,
         "17fd85fd-a790-4c91-b6b2-f4cfabb6a798",
         "25 Simple Living Quotes to Inspire you to Declutter & Simplify your Life!",
         "25 of my favourite simple living quotes & minimalist quotes to inspire and encourage you to declutter your home and simplify your life!",
         null,
         "Simple Lionheart Life",
         "Great Quotes,Me Quotes,Inspirational Quotes,Wisdom Quotes,Unique Quotes,Truth Quotes,Fact Quotes,Minimalist Quotes,Life Quotes To Live By",
         "image",
         "https://i.pinimg.com/originals/b6/3e/ad/b63eadd0568cdb0310c817c09d39898f.png",
         " /data/quotes",
         "quotes"
        ],
        [
         8886,
         "8d303604-1809-49b6-8274-392dc43ac6a0",
         "25 Mental Health Tattoos Ideas & Symbols For Awareness",
         "Mental health tattoos offer sufferers a way to express their deeply personal struggles with depression. Get ideas for mental & depression health tattoos.",
         null,
         "Mamas Uncut",
         "Finger Tattoo For Women,Meaningful Tattoos For Women,Tattoos For Women Small,Little Tattoos,Mini Tattoos,Love Tattoos,Knuckle Tattoos,Finger Tattoos,Tatoo",
         "image",
         "https://i.pinimg.com/originals/4d/2c/3d/4d2c3d22d37a4d0906eb243615ca51a6.jpg",
         " /data/tattoos",
         "tattoos"
        ],
        [
         5742,
         "44fc133d-0d79-4f00-a803-d6aa5fc8c31b",
         "How To Find The Best Stocks",
         "How to find Great Stocks #Finance #Investing #DaveRamsey #Debt #PassiveIncome #PersonalFinance #Trading #Stocks",
         null,
         "Financial Toolkit",
         "Stock Finance,Finance Tracker,Finance Tips,Trade Finance,Dave Ramsey,Homepage Layout,Analyse Technique,Value Stocks,Bollinger Bands",
         "image",
         "https://i.pinimg.com/originals/0d/d2/8e/0dd28e384ea880145f1445a22e10fac5.png",
         " /data/finance",
         "finance"
        ],
        [
         1362,
         "c28eddf9-d936-4c1e-b91f-f0d1888a5bd1",
         "26 Cheap Beauty Products That Are The Perfect Little Pick-Me-Up — BuzzFeed",
         "Will these products spark joy? Why yes, I thought you'd never ask!",
         "191",
         "jennifer",
         "Buzzfeed,Beauty Photography,Nail Polish,Skin Tag,Mouthwash,Pick Me Up,Facial Hair,Teeth Whitening,Glowing Skin",
         "image",
         "https://i.pinimg.com/originals/86/c4/c7/86c4c7fe7bc203127f45d210ac174817.jpg",
         " /data/beauty",
         "beauty"
        ],
        [
         995,
         "10a2f4e9-3760-4305-b74c-b980d86d4bdc",
         "Natural DIY Foundation Powder",
         "This DIY natural powder foundation works amazing and contains only a few all natural ingredients. Easy and inexpensive to make.",
         null,
         "A Blossoming Life DIY Projects + Recipes +     Natural Living",
         "Homemade Foundation,Diy Foundation,Powder Foundation,Natural Foundation,Bb Beauty,Beauty Care,Beauty Hacks,Beauty Ideas,French Beauty",
         "image",
         "https://i.pinimg.com/originals/0d/16/d1/0d16d1a759d713f2a1f10759f0200b4f.jpg",
         " /data/beauty",
         "beauty"
        ],
        [
         6250,
         "91fa9a65-e54d-4536-ad9c-4406a535be28",
         "15 espaces de travail mignons comme tout - Joli Joli Design",
         "Ces 15 espaces de travail mignons comme tout pourront vous inspirer pour bien aménager le vôtre selon vos goûts! Un espace de travail doit être propice à votre concentration tou… ",
         null,
         "Joli Joli Design",
         "Home Office Design,Home Office Decor,House Design,Green Home Offices,Interior Office,Green Home Decor,Home Design Decor,Design Ideas,Sweet Home",
         "image",
         "https://i.pinimg.com/originals/ca/c7/f8/cac7f86ba392d593a3f9bdb6cd467364.png",
         " /data/home-decor",
         "home-decor"
        ],
        [
         3184,
         "02acd2ca-a1fd-4290-9431-085dd78035a2",
         "40 DIY Crafts To Make & Sell For Money",
         "40 Easy & fun DIY crafts to make and sell that you need to try!! If you are looking at making some extra cash, then make sure to try out these DIY crafts!! #diycrafts #selldiycr… ",
         null,
         "RT Lifestyle Magazine | Travel, DIY, Recipes, Fitness & More",
         "Diy Gifts To Sell,Diy Crafts How To Make,Fun Diy Crafts,Sell Diy,Crafts For Teens,Decor Crafts,Homemade Crafts,Recycled Crafts,Crafts To Make And Sell Easy",
         "image",
         "https://i.pinimg.com/originals/61/61/5f/61615f747dab735ef8128fd3e029bcd2.png",
         " /data/diy-and-crafts",
         "diy-and-crafts"
        ],
        [
         2955,
         "612dfc38-2c04-4a46-9a86-27021dc5ca56",
         "DIY Best Nativity Crafts",
         "A round-up of many Nativity crafts that you can make with your kids or grandchildren. 35 wonderful ideas to hang on your tree or give as gifts.",
         null,
         "rhonda_floyd",
         "Kids Crafts,Preschool Christmas Crafts,Nativity Crafts,Christmas Activities,Christmas Projects,Holiday Crafts,Spring Crafts,Santa Crafts,Nativity Ornaments",
         "image",
         "https://i.pinimg.com/originals/e2/53/b1/e253b15420be1dd5c1adb00dbc86db19.jpg",
         " /data/diy-and-crafts",
         "diy-and-crafts"
        ],
        [
         4357,
         "ccf116e9-9096-4943-a344-1960ce216445",
         "First Steps in Launching Your Own Event Business - Learn About Event Planning",
         "Updated: January 25, 2017 You’ve organized some events for your family, friends or community and you have gained a budding reputation for knowing how put events together. You’ve… ",
         null,
         "EventPlanning.com | Learn How To Become An Event Planner",
         "Event Planning Quotes,Event Planning Checklist,Event Planning Business,Business Events,Business Ideas,Business Names,Business Opportunities,Corporate Events,Wedding Event Planner",
         "image",
         "https://i.pinimg.com/originals/c3/2b/c6/c32bc6ad263857cb0eea19f9cd12beb9.jpg",
         " /data/event-planning",
         "event-planning"
        ],
        [
         3563,
         "bcd69df8-b39e-4373-9304-ca239c5f3e7c",
         "Objectives and Brain Breaks",
         "My school is one of many that will be required to post our daily objectives in our classrooms next year. I've FINALLY finished mine! I purc...",
         "517",
         "Alexandria Franko",
         "Classroom Organisation,Classroom Setup,Future Classroom,Classroom Management,Behavior Management,Classroom Ideas For Teachers,Center Management,2nd Grade Classroom,Classroom Behavior",
         "image",
         "https://i.pinimg.com/originals/a1/e6/29/a1e629d678c1862420749cc1f31a6b9e.jpg",
         " /data/education",
         "education"
        ],
        [
         6558,
         "2eb66add-1986-40bd-a0da-8e0b485b3768",
         "12 Genius Laundry Room Organization Hacks - Mommyhooding",
         "I feel like the laundry room doesn’t get a ton of love! I also know that my laundry room (a.k.a the basement) is an absolute hot mess, so I need to start implementing some sort… ",
         null,
         "Mommyhooding",
         "Laundry Room Doors,Laundry Room Organization,Laundry Room Design,Diy Organization,Organizing Tips,Laundry Closet,Laundry Supplies,Cleaning Supplies,Cleaning Products",
         "image",
         "https://i.pinimg.com/originals/e5/2d/8d/e52d8d7207b8c0f22600b6fca5d9fa5a.jpg",
         " /data/home-decor",
         "home-decor"
        ],
        [
         4256,
         "9086bb60-9fce-46d1-9006-f05a494a05ce",
         "A Critical Study of Current Concepts of Truth in American Educational Theory and Their Educational Implications (Paperback)",
         "A Critical Study of Current Concepts of Truth in American Educational Theory and Their Educational Implications",
         null,
         "Walmart",
         null,
         "image",
         "https://i.pinimg.com/originals/d4/59/ee/d459eed424eed9acdbfa8be2634f05e9.jpg",
         " /data/education",
         "education"
        ],
        [
         450,
         "a67abfbd-3db5-4f2d-a644-5a456643a9d0",
         "Kindergarten Line Painting Monsters",
         "This week, kindergarten continued their exploration of line, and started these fun line paintings! We used a new medium, to them, oil pastels and tempera cakes. 😄 Here's how we… ",
         null,
         "Elements of the Art Room",
         "Kindergarten Art Lessons,Art Lessons For Kids,Art For Kids,Art Projects For Kindergarteners,Monster Kindergarten,Art Children,Halloween Kunst,Halloween Art Projects,Grade 1 Art",
         "image",
         "https://i.pinimg.com/originals/2c/65/70/2c65702ea385bdad057edc4cacf08c19.jpg",
         " /data/art",
         "art"
        ],
        [
         3945,
         "80b585d0-105c-4841-9759-0d5b8e067674",
         "Wooden Hand Grab Board Set Educational Toys & Puzzles - White",
         "Made of quality wooden material, it is smooth and durable and non-odor. Cute and colorful design, each carefully constructed piece matches up to coordinating shape on the board.… ",
         null,
         "GADGETOVIA",
         null,
         "image",
         "https://i.pinimg.com/originals/37/22/63/3722631f8b5840a2bc1f2ed1040fd04d.jpg",
         " /data/education",
         "education"
        ],
        [
         859,
         "80fe5ff8-1429-434b-8020-53122d1c6e1a",
         "40 idées et + de décorations à réaliser avec de simples pierres",
         "La quarantaine est le moment parfait pour s'adonner à l'artisanat en famille!",
         null,
         "Joyce Flores",
         "Painted Rock Animals,Painted Rocks Craft,Hand Painted Rocks,Painted Pebbles,Painted Stones,Paint On Rocks,Rock Painting Patterns,Rock Painting Ideas Easy,Rock Painting Designs",
         "image",
         "https://i.pinimg.com/originals/53/c7/a4/53c7a427778fe8a0f0db45b0275f3041.jpg",
         " /data/art",
         "art"
        ],
        [
         1521,
         "1bea3880-4177-497b-b54e-287141b689b9",
         "Clinical Formulations with Integrity",
         "Only $6 CAD😍",
         "328",
         "The Pamper Place",
         "Face Skin Care,Diy Skin Care,Skin Tips,Skin Care Tips,Skin Secrets,Schul Survival Kits,Skin Care Routine For 20s,Skincare Routine,Moisturizer For Dry Skin",
         "image",
         "https://i.pinimg.com/originals/c9/b5/ce/c9b5cec07de20f1b28dc812edb1ce483.jpg",
         " /data/beauty",
         "beauty"
        ],
        [
         1961,
         "da1c8608-878e-4c32-80f1-eca017d6cd17",
         "2019 Holiday Home Walk Through - Jessica Sara Morris",
         "2019 Holiday Home Walk Through. How we styled our home for Christmas with a little bit of modern, scandanavian, mid century and farmhouse decor.",
         null,
         "JESSICA SARA MORRIS | HOME DECOR + DIY ON A BUDGET",
         "Bohemian Christmas,Modern Christmas Decor,Indoor Christmas Decorations,Natural Christmas,Farmhouse Christmas Decor,Noel Christmas,Christmas Aesthetic,Farmhouse Decor,Decorating For Christmas",
         "image",
         "https://i.pinimg.com/originals/9d/b6/3e/9db63e81d01bf00d8d5c6d11e966fabb.jpg",
         " /data/christmas",
         "christmas"
        ],
        [
         10099,
         "3bd54ff8-730b-4816-b6f4-3a7f2238589b",
         "The small town of Hallstatt, Austria - Cozy & Comfy",
         "5,237 points • 127 comments",
         null,
         "9GAG",
         "Beautiful Places To Travel,Best Places To Travel,Places To See,Beautiful Sites,Best Places To Live,Beautiful World,Beautiful Things,Voyage Dubai,Travel Photographie",
         "image",
         "https://i.pinimg.com/originals/e9/3f/10/e93f104c9931ae559666257ab3228506.png",
         " /data/travel",
         "travel"
        ],
        [
         6066,
         "566586e5-bf39-4d0f-a639-72b82ec06e63",
         "23 Marvelous Farmhouse Fall Decor Ideas for Your Home",
         "These farmhouse fall decor ideas will help you decorate every room in your home for the autumn season in the coziest way possible!",
         null,
         "Curated Interior",
         "Decoration Design,Deco Design,Fall Home Decor,Autumn Home,Home Living Room,Living Room Decor,Love Your Home,Cozy House,Home Decor Inspiration",
         "image",
         "https://i.pinimg.com/originals/21/49/2a/21492a428cdd51fcffde6e0579f07ca3.jpg",
         " /data/home-decor",
         "home-decor"
        ],
        [
         10837,
         "8561ed44-7e63-471b-90a5-b6e568ae7e0b",
         "Dave's Way",
         "If you're not having fun, do something else. Ventura, CA - hot rods, classic sportscars, science fiction, bicycles, motorcycles, boats, architecture, photography. I personally l… ",
         "196",
         "Desiree Weitzenhoffer",
         "Bmw Isetta,Fiat 126,Automobile,Old Vintage Cars,Microcar,Bizarre,Weird Cars,Cute Cars,Unique Cars",
         "image",
         "https://i.pinimg.com/originals/17/ef/2d/17ef2d989eeafc043d5cea9f46e5d6db.jpg",
         " /data/vehicles",
         "vehicles"
        ],
        [
         6615,
         "4f8ac7da-93cb-41b9-9e05-b258d9cf8a35",
         "Under The Sink Kitchen Organzation",
         null,
         null,
         "Organize Ways",
         "Under Kitchen Sink Organization,Home Organization Hacks,Pantry Organization,Kitchen Storage,Tank Top Organization,Medicine Cabinet Organization,Organizing Ideas,Apartment Kitchen,Home Decor Kitchen",
         "multi-video(story page format)",
         "https://i.pinimg.com/videos/thumbnails/originals/32/31/92/323192e2cce37501f423a9b23009bd23.0000001.jpg",
         " /data/home-decor",
         "home-decor"
        ],
        [
         7641,
         "ddd4c9c0-b5fe-4db1-9699-78f26d991073",
         "Find someone you can be completely free with",
         "Find someone you can be completely free with",
         null,
         "The Minds Journal",
         "Soulmate Love Quotes,True Quotes,Words Quotes,Sayings,Emo Quotes,Twin Flame Relationship,Relationship Quotes,Relationships,Spiritual Quotes",
         "image",
         "https://i.pinimg.com/originals/a7/79/f2/a779f22cab937c344b99a49822acd04a.jpg",
         " /data/quotes",
         "quotes"
        ],
        [
         640,
         "21714ca6-26c3-424a-ba86-b34fe75c3015",
         "Caption This Image and Selected Wisepicks - 15 December 2020",
         "Provide a creative, relevant caption for the picture below and get selected and featured with your name and caption. We select 15+ of the best captions! and publish them on our… ",
         null,
         "The Minds Journal",
         "Arte Obscura,Arte Sketchbook,Funky Art,Pics Art,Psychedelic Art,Art Drawings Sketches,Art And Illustration,Surreal Art,Aesthetic Art",
         "image",
         "https://i.pinimg.com/originals/49/de/c9/49dec977a3555fb777ad3a3fd98b092f.jpg",
         " /data/art",
         "art"
        ],
        [
         8174,
         "933fef6a-ebca-4d25-bc2a-3190c1490b75",
         "18 Daily Motivational Quotes You Need In 2018 - Dare to Cultivate",
         "#quotes #quote #inspirationalquotes #motivationalquotes #quoteoftheday #Motivation #Inspiration #inspirational #Success #wisdom #amazingquotes #quoteoftheday // success quote //… ",
         null,
         "Dare to Cultivate",
         "Motivacional Quotes,Daily Motivational Quotes,Yoga Quotes,Words Quotes,Wise Words,Positive Quotes,Inspiring Quotes,Positive Affirmations,Inspirational Quotes About Success",
         "image",
         "https://i.pinimg.com/originals/4b/d6/1b/4bd61b788bc792d9a36e67dbd4a7b50a.jpg",
         " /data/quotes",
         "quotes"
        ],
        [
         1216,
         "4123ab8b-3ca3-411e-8763-92899ec991aa",
         "10 Ways to Use MAC Prep + Prime Fix+. — Beautiful Makeup Search",
         "I've been using MAC Prep + Prime Fix+ since its inception. The original makeup hydrating mist, this popular beauty product has sort of taken on a life of its own as users have d… ",
         null,
         "Beautiful Makeup Search",
         "Makeup Dupes,Makeup Kit,Makeup Cosmetics,Sephora Makeup,Face Makeup,Fix Plus Mac,Everyday Beauty Routine,Everyday Makeup,Mac Chatterbox",
         "image",
         "https://i.pinimg.com/originals/90/bd/d4/90bdd4be9991dd4449d3d699e0b17963.jpg",
         " /data/beauty",
         "beauty"
        ],
        [
         680,
         "898e3977-a49e-453c-94a1-689aedfee0ca",
         "The Supplies are in Charge of the Play! - Carolyn Dube",
         "Ever wonder if the things around your art studio come to life when you aren’t there – like in Toy Story? I am beginning to think that they really do. This cluster of stuff all s… ",
         null,
         "Carolyn Dube",
         "Art Journal Pages,Art Journal Challenge,Art Journal Backgrounds,Art Journal Prompts,Art Journal Techniques,Journal Ideas,Art Journals,Visual Journals,Art Pages",
         "image",
         "https://i.pinimg.com/originals/75/e5/cf/75e5cf9d6be96f10a87cd5f201de477b.jpg",
         " /data/art",
         "art"
        ],
        [
         9527,
         "7c1f0f6b-2098-4145-9aed-0eece1d7c029",
         "Solo Female Traveller Fears + How to Overcome Them - One World Wanderer",
         "These common solo travel fears are not something you are going through alone- here are a some of the common fears you can face as a solo female traveler. #solotravel #solofemale… ",
         null,
         "One World Wanderer | Travel Blogger",
         "Solo Travel Tips,Travel Advice,Travel Guides,Travel Hacks,Travel Info,Budget Travel,Amazing Destinations,Travel Destinations,Voyager Seul",
         "image",
         "https://i.pinimg.com/originals/13/cf/d9/13cfd91ebe35cea166268c76bcdeff75.jpg",
         " /data/travel",
         "travel"
        ],
        [
         9426,
         "dc6f593a-6c1f-4b1b-908f-6b7d44ecbb50",
         "Tattoos🤍",
         null,
         null,
         "kayyla.april",
         "Classy Tattoos,Dainty Tattoos,Girly Tattoos,Mini Tattoos,Small Tattoos,Trendy Tattoos,Unique Tattoos,Tatoos,Pretty Hand Tattoos",
         "multi-video(story page format)",
         null,
         " /data/tattoos",
         "tattoos"
        ],
        [
         8745,
         "644f7257-7d5d-41f7-a74a-34312c3050fe",
         "Dope Tattoos",
         "No description available",
         "41",
         "Addymae Rodi",
         "Dope Tattoos,Sun Tattoos,Family Tattoos,Pretty Tattoos,Unique Tattoos,Beautiful Tattoos,Body Art Tattoos,Small Tattoos,Beautiful Moon",
         "image",
         "https://i.pinimg.com/originals/61/96/0e/61960e96dd799bc4fade3c3104e9f6f3.jpg",
         " /data/tattoos",
         "tattoos"
        ],
        [
         5959,
         "e281cc85-4c05-486b-95e1-e78124065f9a",
         "11 Home Decor Trends For 2021",
         "Easy and affordable home decor trends for 2021",
         null,
         "Lantern Lane Designs|Home Decor|DIY Projects|DIY Home Decor",
         "Home Decor Trends,Home Decor Styles,Home Decor Inspiration,Decor Ideas,Styles Of Decorating,Decorating A New Home,Decorating Ideas,Interior Decorating Styles,Family Room Decorating",
         "image",
         "https://i.pinimg.com/originals/e7/a4/8c/e7a48c77cc1bc9742f100a77a618062b.png",
         " /data/home-decor",
         "home-decor"
        ],
        [
         2577,
         "b1ce08b4-ffc6-4d4e-ad75-a32be401d206",
         "Gingerbread Boy FigurineGingerbread Boy Figurine",
         "Looks good enough to eat! Surprise your Christmas festivities with this delectable Gingerbread Boy Oversized Figurine. Add a sense of warmth to every holiday gathering. Features… ",
         null,
         "Wear24-7",
         "Gingerbread Christmas Decor,Snowman Christmas Decorations,Gingerbread Decorations,Gingerbread Ornaments,Decorating With Christmas Lights,Christmas Snowman,Gingerbread Cookies,Christmas Crafts,Christmas Ideas",
         "image",
         "https://i.pinimg.com/originals/80/d8/6a/80d86a31a227ebb78a4b21392f7a10ba.jpg",
         " /data/christmas",
         "christmas"
        ],
        [
         3008,
         "649ca299-a339-4136-a126-501515c93c8d",
         "Upcycled Denim Rag Rug DIY Instructions",
         "Turn those old jeans into practical rag rugs with just some scrap yarn and a little crochet know-how. I'll show you how to cut the jeans into strips and crochet them together to… ",
         null,
         "My Poppet - A Craft, Travel & Food Blog for Colourful Living",
         "Pot Mason Diy,Mason Jar Crafts,Bottle Crafts,Rag Rug Diy,Diy Crochet Rag Rug,Scrap Yarn Crochet,Diy Rugs,Crochet Rug Patterns,Free Crochet",
         "video",
         "https://i.pinimg.com/videos/thumbnails/originals/0b/10/af/0b10af74b987322a6f4384470bf4eaf0.0000001.jpg",
         " /data/diy-and-crafts",
         "diy-and-crafts"
        ],
        [
         8081,
         "d8d98ce8-d57f-4bc2-990e-04b0ba09a8b4",
         "Love Quotes For Him To Her. QuotesGram",
         "Discover and share Love Quotes For Him To Her. Explore our collection of motivational and famous quotes by authors you know and love.",
         null,
         "Autumn Shepardson",
         "Sexy Quotes For Him,Love Quotes For Him Romantic,Cute Love Quotes,Great Quotes,Quotes To Live By,Inspirational Quotes,Missing Quotes For Him,You Are Mine Quotes,Shes The One Quotes",
         "image",
         "https://i.pinimg.com/originals/d4/fe/29/d4fe29641d8c264a0bb59e261712f1c9.jpg",
         " /data/quotes",
         "quotes"
        ],
        [
         10120,
         "9d18af84-7e86-42d1-8415-63cf1f8dd45e",
         "Where to Stay in London + The Best Hotels in London: Area by Area",
         "Travelling to London and wondering where to stay? Don't miss this insider's guide to the best areas to stay in London and the best hotels in London. Cool things to do and places… ",
         "376",
         "London x London -  Cool Things To Do + London Travel",
         "London Places,London Hotels,London England Hotels,London England Travel,London Restaurants,Cool Places To Visit,Places To Travel,Places To Go,Travel Destinations",
         "image",
         "https://i.pinimg.com/originals/53/bb/29/53bb29993450a1fb5223bcaf524d9deb.jpg",
         " /data/travel",
         "travel"
        ],
        [
         4045,
         "f0c605d7-75bc-4b60-a9ec-e2d64eb29687",
         "K&S™ Round Brass Tube: 3mm OD x 0.225mm Wall x 300mm Long (3 Pieces)",
         "Our mission at K&S is to supply you with high-quality metals for your projects. Through precision machinery and great talent, we can supply 100s of stocked products along with c… ",
         "5",
         "K&S Precision Metals",
         "Hobbies And Crafts,Arts And Crafts,Home Crafts,Diy Crafts,Stop Motion,Craft Stores,Metals,Planes,Trains",
         "image",
         "https://i.pinimg.com/originals/12/d4/17/12d4177dc859be6e33f627d5d0006955.png",
         " /data/education",
         "education"
        ],
        [
         1599,
         "aaf8f442-fed5-494f-a84b-64c5e8dc9fea",
         "Bb Beauty",
         "27 DIY Beauty Hacks",
         "213",
         "Karen Red",
         "Bb Beauty,Beauty Care,Beauty Makeup,Fashion Beauty,Hair Beauty,Natural Beauty,Beauty Skin,Diy Beauty Hacks,Beauty Hacks For Teens",
         "image",
         "https://i.pinimg.com/originals/2c/6b/2a/2c6b2a79ce32ad125806b9a42cd00555.jpg",
         " /data/beauty",
         "beauty"
        ],
        [
         2893,
         "f17602e4-4a50-452d-b8ee-de70774b6cdc",
         "How to make handmade  paper",
         null,
         "630",
         "Bhavani's Creations",
         "Craft Room Decor,Diy Crafts For Home Decor,Diy Crafts Hacks,Diy Crafts For Gifts,Diy Arts And Crafts,Creative Crafts,Creative Project Ideas,Handmade Crafts,Diys",
         "multi-video(story page format)",
         "https://i.pinimg.com/videos/thumbnails/originals/48/7c/d1/487cd1ac4f607b4ef6c7eb7329d13786.0000001.jpg",
         " /data/diy-and-crafts",
         "diy-and-crafts"
        ],
        [
         4024,
         "662e0d01-4ee4-45db-9885-08dd5379baa8",
         "IEP Tubs",
         "Special education, IEP, IEP Tubs, classroom management, classroom ideas, centers, sped centers",
         null,
         "Traci Bender - The Bender Bunch",
         "Teaching Special Education,Teaching Tools,Teacher Resources,Teaching Ideas,Art Education,Elementary Education,Resource Room Teacher,Special Education Quotes,Primary Education",
         "image",
         "https://i.pinimg.com/originals/09/ae/d8/09aed8c3e1a0d3910ae91010538b81d6.jpg",
         " /data/education",
         "education"
        ],
        [
         310,
         "2afd584f-ce06-4358-8372-fe0b01fbd288",
         "2nd grade Polar Bears",
         "Welcome back! So glad to see all of you! This week, 2nd grade is going to be starting this cute lil polar bear, inspired by the fabulous Lauralee Chambers! Here's a link to her… ",
         null,
         "Elements of the Art Room",
         "Art Lessons For Kids,Art Lessons Elementary,Art For Kids,Elementary Art Education,Elementary Art Rooms,Art 2nd Grade,Grade 2,Art D'ours,Arte Elemental",
         "image",
         "https://i.pinimg.com/originals/bb/32/4d/bb324dfa309b719eef404888c52cf56b.jpg",
         " /data/art",
         "art"
        ]
       ],
       "datasetInfos": [],
       "dbfsResultPath": null,
       "isJsonSchema": true,
       "metadata": {},
       "overflow": false,
       "plotOptions": {
        "customPlotOptions": {},
        "displayType": "table",
        "pivotAggregation": null,
        "pivotColumns": null,
        "xColumns": null,
        "yColumns": null
       },
       "removedWidgets": [],
       "schema": [
        {
         "metadata": "{}",
         "name": "ind",
         "type": "\"integer\""
        },
        {
         "metadata": "{}",
         "name": "unique_id",
         "type": "\"string\""
        },
        {
         "metadata": "{}",
         "name": "title",
         "type": "\"string\""
        },
        {
         "metadata": "{}",
         "name": "description",
         "type": "\"string\""
        },
        {
         "metadata": "{}",
         "name": "follower_count",
         "type": "\"string\""
        },
        {
         "metadata": "{}",
         "name": "poster_name",
         "type": "\"string\""
        },
        {
         "metadata": "{}",
         "name": "tag_list",
         "type": "\"string\""
        },
        {
         "metadata": "{}",
         "name": "is_image_or_video",
         "type": "\"string\""
        },
        {
         "metadata": "{}",
         "name": "image_src",
         "type": "\"string\""
        },
        {
         "metadata": "{}",
         "name": "save_location",
         "type": "\"string\""
        },
        {
         "metadata": "{}",
         "name": "category",
         "type": "\"string\""
        }
       ],
       "type": "table"
      }
     },
     "output_type": "display_data"
    },
    {
     "output_type": "display_data",
     "data": {
      "text/html": [
       "<style scoped>\n",
       "  .ansiout {\n",
       "    display: block;\n",
       "    unicode-bidi: embed;\n",
       "    white-space: pre-wrap;\n",
       "    word-wrap: break-word;\n",
       "    word-break: break-all;\n",
       "    font-family: \"Menlo\", \"Monaco\", \"Consolas\", \"Ubuntu Mono\", \"Source Code Pro\", monospace;\n",
       "    font-size: 13px;\n",
       "    color: #555;\n",
       "    margin-left: 4px;\n",
       "    line-height: 19px;\n",
       "  }\n",
       "</style>"
      ]
     },
     "metadata": {
      "application/vnd.databricks.v1+output": {
       "arguments": {},
       "data": "",
       "errorSummary": "",
       "errorTraceType": null,
       "metadata": {},
       "type": "ipynbError"
      }
     },
     "output_type": "display_data"
    }
   ],
   "source": [
    "pin_df_cleaned = clean_pin_data(stream_pin_df)\n",
    "display(pin_df_cleaned)"
   ]
  },
  {
   "cell_type": "code",
   "execution_count": 0,
   "metadata": {
    "application/vnd.databricks.v1+cell": {
     "cellMetadata": {
      "byteLimit": 2048000,
      "rowLimit": 10000
     },
     "inputWidgets": {},
     "nuid": "a46af700-2218-422d-a499-724a2a08cc3b",
     "showTitle": false,
     "tableResultSettingsMap": {},
     "title": ""
    }
   },
   "outputs": [],
   "source": [
    "from pyspark.sql.functions import array, col, to_timestamp\n",
    "\n",
    "def cleaned_geo_df(stream_geo_df):\n",
    "    clean_geo_df = stream_geo_df.withColumn('coordinates', array(col('longitude'), col('latitude')))\n",
    "    clean_geo_df = clean_geo_df.drop('longitude', 'latitude')\n",
    "\n",
    "    clean_geo_df = clean_geo_df.withColumn('timestamp', to_timestamp(col('timestamp')))\n",
    "    clean_geo_df = clean_geo_df.select('ind', 'country', 'coordinates', 'timestamp')\n",
    "\n",
    "    return clean_geo_df"
   ]
  },
  {
   "cell_type": "code",
   "execution_count": 0,
   "metadata": {
    "application/vnd.databricks.v1+cell": {
     "cellMetadata": {
      "byteLimit": 2048000,
      "rowLimit": 10000
     },
     "inputWidgets": {},
     "nuid": "186b093d-1b0b-412e-b216-dae71923f317",
     "showTitle": false,
     "tableResultSettingsMap": {},
     "title": ""
    }
   },
   "outputs": [
    {
     "output_type": "display_data",
     "data": {
      "text/html": [
       "<style scoped>\n",
       "  .table-result-container {\n",
       "    max-height: 300px;\n",
       "    overflow: auto;\n",
       "  }\n",
       "  table, th, td {\n",
       "    border: 1px solid black;\n",
       "    border-collapse: collapse;\n",
       "  }\n",
       "  th, td {\n",
       "    padding: 5px;\n",
       "  }\n",
       "  th {\n",
       "    text-align: left;\n",
       "  }\n",
       "</style><div class='table-result-container'><table class='table-result'><thead style='background-color: white'><tr><th>ind</th><th>country</th><th>coordinates</th><th>timestamp</th></tr></thead><tbody><tr><td>1704</td><td>Christmas Island</td><td>List(-93.6232, -56.8702)</td><td>2018-11-29T04:46:39Z</td></tr><tr><td>2482</td><td>Bermuda</td><td>List(-164.709, 63.4563)</td><td>2019-09-13T08:20:13Z</td></tr><tr><td>8930</td><td>Argentina</td><td>List(-176.154, -89.4739)</td><td>2021-09-29T13:25:49Z</td></tr><tr><td>7294</td><td>Australia</td><td>List(-136.501, -76.2967)</td><td>2018-02-12T08:06:28Z</td></tr><tr><td>808</td><td>Albania</td><td>List(-179.126, -71.6856)</td><td>2019-01-03T15:43:12Z</td></tr><tr><td>771</td><td>Montserrat</td><td>List(-107.111, -29.1712)</td><td>2018-06-21T08:42:57Z</td></tr><tr><td>4076</td><td>Mauritania</td><td>List(27.8139, -67.2157)</td><td>2019-06-07T20:13:50Z</td></tr><tr><td>1545</td><td>Anguilla</td><td>List(-72.3784, -30.18)</td><td>2022-06-17T05:47:12Z</td></tr><tr><td>2293</td><td>British Virgin Islands</td><td>List(-159.647, -87.7946)</td><td>2022-03-21T10:46:53Z</td></tr><tr><td>10509</td><td>Gibraltar</td><td>List(-24.2977, -67.187)</td><td>2019-03-06T12:21:56Z</td></tr><tr><td>2015</td><td>Armenia</td><td>List(-177.685, -17.629)</td><td>2018-09-22T13:52:19Z</td></tr><tr><td>1094</td><td>Armenia</td><td>List(-124.445, -46.7328)</td><td>2018-08-19T00:34:20Z</td></tr><tr><td>603</td><td>Netherlands Antilles</td><td>List(-141.603, 14.0083)</td><td>2019-06-25T05:13:01Z</td></tr><tr><td>7768</td><td>Algeria</td><td>List(-96.0131, -88.355)</td><td>2018-05-25T21:34:19Z</td></tr><tr><td>5630</td><td>Bahrain</td><td>List(-164.987, -19.1403)</td><td>2019-05-12T14:43:19Z</td></tr><tr><td>8578</td><td>Guinea-Bissau</td><td>List(-161.397, 34.6427)</td><td>2018-01-26T19:27:11Z</td></tr><tr><td>9936</td><td>Australia</td><td>List(-147.691, -82.1715)</td><td>2018-06-30T22:07:13Z</td></tr><tr><td>6844</td><td>New Caledonia</td><td>List(5.69245, -22.6915)</td><td>2021-06-06T21:53:11Z</td></tr><tr><td>3419</td><td>Bhutan</td><td>List(-108.979, 7.60293)</td><td>2021-12-20T05:01:54Z</td></tr><tr><td>1268</td><td>Argentina</td><td>List(-177.23, -41.7803)</td><td>2019-07-06T04:10:29Z</td></tr><tr><td>6566</td><td>Cape Verde</td><td>List(-71.6593, -39.225)</td><td>2020-11-19T10:06:13Z</td></tr><tr><td>1555</td><td>Algeria</td><td>List(-55.332, -1.7046)</td><td>2017-12-24T18:41:23Z</td></tr><tr><td>3729</td><td>Turkey</td><td>List(-150.145, -24.4793)</td><td>2018-01-17T03:43:38Z</td></tr><tr><td>6398</td><td>Albania</td><td>List(-179.726, -3.29267)</td><td>2020-01-19T01:49:05Z</td></tr><tr><td>46</td><td>Afghanistan</td><td>List(-145.82, 4.21689)</td><td>2018-09-15T09:16:57Z</td></tr><tr><td>4988</td><td>Madagascar</td><td>List(-35.2784, -32.1879)</td><td>2020-07-11T11:01:12Z</td></tr><tr><td>427</td><td>Isle of Man</td><td>List(-30.0087, -66.9418)</td><td>2020-04-22T03:08:50Z</td></tr><tr><td>3800</td><td>Aruba</td><td>List(-154.912, -61.471)</td><td>2018-01-27T16:49:07Z</td></tr><tr><td>159</td><td>Andorra</td><td>List(-166.603, -88.0812)</td><td>2017-11-20T21:14:56Z</td></tr><tr><td>3599</td><td>Afghanistan</td><td>List(-174.971, -88.5478)</td><td>2019-03-03T06:13:41Z</td></tr><tr><td>10552</td><td>Grenada</td><td>List(-179.812, 32.7568)</td><td>2020-08-24T11:39:32Z</td></tr><tr><td>1422</td><td>American Samoa</td><td>List(-172.436, -88.5252)</td><td>2018-04-30T08:27:21Z</td></tr><tr><td>5309</td><td>Maldives</td><td>List(-84.2493, -89.4194)</td><td>2020-05-04T22:00:32Z</td></tr><tr><td>552</td><td>Lesotho</td><td>List(31.9601, -80.6043)</td><td>2022-03-14T05:12:07Z</td></tr><tr><td>1371</td><td>Andorra</td><td>List(-134.271, -89.4584)</td><td>2018-08-08T04:41:17Z</td></tr><tr><td>10119</td><td>Christmas Island</td><td>List(-162.795, -74.5431)</td><td>2020-10-22T01:59:58Z</td></tr><tr><td>9074</td><td>Andorra</td><td>List(-179.087, -84.7363)</td><td>2022-04-10T17:06:13Z</td></tr><tr><td>2604</td><td>Antigua and Barbuda</td><td>List(-104.972, -80.8933)</td><td>2018-12-01T09:23:35Z</td></tr><tr><td>223</td><td>Isle of Man</td><td>List(-118.397, 1.15509)</td><td>2018-12-07T07:30:40Z</td></tr><tr><td>8312</td><td>American Samoa</td><td>List(-106.258, -77.9744)</td><td>2021-04-25T15:56:29Z</td></tr><tr><td>2858</td><td>Argentina</td><td>List(-166.807, -65.1565)</td><td>2018-05-03T13:27:09Z</td></tr><tr><td>6261</td><td>Marshall Islands</td><td>List(-109.763, -10.3101)</td><td>2021-11-11T16:18:45Z</td></tr><tr><td>3201</td><td>Pitcairn Islands</td><td>List(-68.4946, 34.0532)</td><td>2019-06-25T08:31:37Z</td></tr><tr><td>2637</td><td>Tunisia</td><td>List(-96.4904, 3.0033)</td><td>2022-10-15T13:25:51Z</td></tr><tr><td>1198</td><td>Finland</td><td>List(-150.73, 6.37207)</td><td>2020-01-24T23:42:18Z</td></tr><tr><td>10370</td><td>Finland</td><td>List(-71.932, -81.9798)</td><td>2018-07-29T15:53:40Z</td></tr><tr><td>7167</td><td>Ecuador</td><td>List(-157.572, -55.757)</td><td>2019-12-27T20:45:04Z</td></tr><tr><td>10673</td><td>Nicaragua</td><td>List(-32.1713, 37.1991)</td><td>2021-06-30T08:47:01Z</td></tr><tr><td>2060</td><td>Trinidad and Tobago</td><td>List(68.6527, 52.4584)</td><td>2020-01-25T13:54:17Z</td></tr><tr><td>9487</td><td>Canada</td><td>List(-113.641, -76.9532)</td><td>2018-12-18T11:16:52Z</td></tr><tr><td>772</td><td>Monaco</td><td>List(-97.1964, 25.0708)</td><td>2022-09-22T05:59:55Z</td></tr><tr><td>7510</td><td>Aruba</td><td>List(-172.235, -79.9828)</td><td>2021-12-21T01:37:25Z</td></tr><tr><td>5758</td><td>Azerbaijan</td><td>List(-145.242, -79.3714)</td><td>2018-09-12T15:08:34Z</td></tr><tr><td>1137</td><td>Seychelles</td><td>List(10.7361, 12.2544)</td><td>2020-12-26T00:56:04Z</td></tr><tr><td>7234</td><td>Algeria</td><td>List(-169.547, -86.4791)</td><td>2017-10-21T14:31:02Z</td></tr><tr><td>327</td><td>Gibraltar</td><td>List(100.972, 62.3674)</td><td>2022-02-09T03:03:58Z</td></tr><tr><td>7874</td><td>Algeria</td><td>List(-179.689, -89.5173)</td><td>2022-01-18T08:58:49Z</td></tr><tr><td>1450</td><td>American Samoa</td><td>List(-172.436, -88.5252)</td><td>2022-01-15T16:04:27Z</td></tr><tr><td>10245</td><td>Bahamas</td><td>List(146.776, -50.1835)</td><td>2020-03-03T15:39:44Z</td></tr><tr><td>9093</td><td>Austria</td><td>List(-151.645, -87.7764)</td><td>2021-07-24T23:07:06Z</td></tr><tr><td>2301</td><td>Saint Vincent and the Grenadines</td><td>List(51.7244, 13.4683)</td><td>2020-11-14T00:25:28Z</td></tr><tr><td>2788</td><td>Djibouti</td><td>List(-94.1779, -36.076)</td><td>2019-12-18T03:04:41Z</td></tr><tr><td>9268</td><td>American Samoa</td><td>List(-161.644, -88.5255)</td><td>2020-03-16T23:13:51Z</td></tr><tr><td>1706</td><td>Aruba</td><td>List(-179.257, -71.5025)</td><td>2017-11-24T23:36:46Z</td></tr><tr><td>5293</td><td>Sao Tome and Principe</td><td>List(-25.9649, -13.1463)</td><td>2019-05-31T20:49:36Z</td></tr><tr><td>7733</td><td>Algeria</td><td>List(-179.689, -89.5173)</td><td>2022-09-29T10:45:19Z</td></tr><tr><td>3716</td><td>Lithuania</td><td>List(-16.0578, 32.6648)</td><td>2018-12-31T20:43:42Z</td></tr><tr><td>3750</td><td>Comoros</td><td>List(-159.054, -73.8837)</td><td>2022-09-03T23:36:08Z</td></tr><tr><td>232</td><td>Tanzania</td><td>List(-173.609, 6.60912)</td><td>2019-02-18T03:38:47Z</td></tr><tr><td>8300</td><td>Chile</td><td>List(19.7049, -64.5259)</td><td>2018-02-14T23:50:10Z</td></tr><tr><td>8978</td><td>Faroe Islands</td><td>List(3.78198, -2.01499)</td><td>2017-12-01T13:26:06Z</td></tr><tr><td>2048</td><td>Antigua and Barbuda</td><td>List(-142.186, -89.4008)</td><td>2017-11-20T06:33:50Z</td></tr><tr><td>10337</td><td>Christmas Island</td><td>List(-109.17, -42.3069)</td><td>2021-10-26T12:09:43Z</td></tr><tr><td>7832</td><td>Israel</td><td>List(91.8136, -53.8629)</td><td>2022-02-14T13:47:24Z</td></tr><tr><td>8366</td><td>Kuwait</td><td>List(-139.215, -38.5318)</td><td>2018-03-28T14:17:11Z</td></tr><tr><td>3334</td><td>Anguilla</td><td>List(-170.904, -89.0609)</td><td>2019-09-26T20:13:48Z</td></tr><tr><td>778</td><td>Guatemala</td><td>List(-123.073, 48.2704)</td><td>2018-10-19T14:43:39Z</td></tr><tr><td>480</td><td>Mozambique</td><td>List(-167.461, -30.7158)</td><td>2019-02-08T03:34:58Z</td></tr><tr><td>3011</td><td>Kuwait</td><td>List(28.8054, -76.4675)</td><td>2019-12-17T17:46:18Z</td></tr><tr><td>9475</td><td>Panama</td><td>List(164.362, -84.1953)</td><td>2019-03-19T08:26:35Z</td></tr><tr><td>7586</td><td>Andorra</td><td>List(-179.087, -84.7363)</td><td>2021-02-07T22:17:31Z</td></tr><tr><td>1864</td><td>Algeria</td><td>List(-164.414, -72.3958)</td><td>2020-04-24T17:08:13Z</td></tr><tr><td>6014</td><td>French Southern Territories</td><td>List(155.206, -26.6026)</td><td>2019-04-30T12:33:13Z</td></tr><tr><td>1967</td><td>Australia</td><td>List(-179.581, 32.74)</td><td>2021-02-05T10:37:28Z</td></tr><tr><td>1699</td><td>Canada</td><td>List(-127.783, -54.3706)</td><td>2022-07-03T13:25:48Z</td></tr><tr><td>4996</td><td>Poland</td><td>List(-118.569, 39.9625)</td><td>2019-04-16T23:49:42Z</td></tr><tr><td>10168</td><td>Norway</td><td>List(137.812, -14.7211)</td><td>2019-10-14T00:19:33Z</td></tr><tr><td>5333</td><td>Croatia</td><td>List(-173.898, -86.6652)</td><td>2021-01-20T08:10:08Z</td></tr><tr><td>2565</td><td>Bulgaria</td><td>List(-177.336, -87.4992)</td><td>2022-02-06T13:42:35Z</td></tr><tr><td>9778</td><td>Guam</td><td>List(126.628, 85.2343)</td><td>2020-08-24T14:24:42Z</td></tr><tr><td>3145</td><td>Kenya</td><td>List(-19.8932, -57.5981)</td><td>2022-06-18T22:46:26Z</td></tr><tr><td>1341</td><td>Albania</td><td>List(-173.293, -89.9787)</td><td>2022-08-11T05:25:33Z</td></tr><tr><td>5162</td><td>Antarctica (the territory South of 60 deg S)</td><td>List(-149.206, -71.6607)</td><td>2019-09-27T19:06:43Z</td></tr><tr><td>5151</td><td>Guatemala</td><td>List(-151.397, -47.3372)</td><td>2020-07-15T01:42:38Z</td></tr><tr><td>2498</td><td>Togo</td><td>List(-51.05, 61.4706)</td><td>2021-04-03T18:10:34Z</td></tr><tr><td>7268</td><td>Afghanistan</td><td>List(-164.273, -88.3754)</td><td>2019-12-11T14:05:18Z</td></tr><tr><td>3351</td><td>Portugal</td><td>List(-96.9091, -9.11859)</td><td>2020-09-12T10:34:11Z</td></tr><tr><td>7738</td><td>Comoros</td><td>List(22.777, 66.8478)</td><td>2017-11-12T03:45:21Z</td></tr><tr><td>8886</td><td>American Samoa</td><td>List(-178.919, -88.2286)</td><td>2022-01-16T10:17:16Z</td></tr><tr><td>5742</td><td>Jamaica</td><td>List(-61.56, -73.4926)</td><td>2020-09-02T01:40:18Z</td></tr><tr><td>1362</td><td>Ghana</td><td>List(92.28, 48.3704)</td><td>2022-07-20T05:38:18Z</td></tr><tr><td>995</td><td>Moldova</td><td>List(-179.319, -88.0923)</td><td>2022-09-22T12:17:57Z</td></tr><tr><td>6250</td><td>Austria</td><td>List(-150.856, -73.2098)</td><td>2020-11-22T18:28:02Z</td></tr><tr><td>3184</td><td>Cape Verde</td><td>List(-171.585, -41.293)</td><td>2018-09-25T23:17:46Z</td></tr><tr><td>2955</td><td>Antigua and Barbuda</td><td>List(-23.4838, 23.7768)</td><td>2022-10-11T17:21:06Z</td></tr><tr><td>4357</td><td>Bahamas</td><td>List(-179.908, -75.4909)</td><td>2020-03-06T09:56:43Z</td></tr><tr><td>3563</td><td>Saint Barthelemy</td><td>List(-69.505, -77.3153)</td><td>2018-09-05T07:40:01Z</td></tr><tr><td>6558</td><td>Guadeloupe</td><td>List(-174.009, -26.4944)</td><td>2019-09-08T03:27:31Z</td></tr><tr><td>4256</td><td>Afghanistan</td><td>List(-174.971, -88.5478)</td><td>2018-10-10T17:57:16Z</td></tr><tr><td>450</td><td>Antigua and Barbuda</td><td>List(-165.206, -81.0108)</td><td>2018-09-28T05:43:18Z</td></tr><tr><td>3945</td><td>Barbados</td><td>List(-142.673, -66.2816)</td><td>2022-04-17T02:01:53Z</td></tr><tr><td>859</td><td>Romania</td><td>List(48.2256, 89.8261)</td><td>2020-04-07T19:23:24Z</td></tr><tr><td>1521</td><td>Saint Helena</td><td>List(64.9674, 24.5192)</td><td>2022-10-12T14:03:26Z</td></tr><tr><td>1961</td><td>Argentina</td><td>List(-175.249, -65.3952)</td><td>2022-07-29T18:16:50Z</td></tr><tr><td>10099</td><td>Afghanistan</td><td>List(-171.58, -89.4261)</td><td>2020-12-24T13:33:03Z</td></tr><tr><td>6066</td><td>Bolivia</td><td>List(-174.505, -67.7278)</td><td>2019-03-04T01:04:11Z</td></tr><tr><td>10837</td><td>Samoa</td><td>List(-26.2408, 86.6387)</td><td>2018-09-27T07:12:31Z</td></tr><tr><td>6615</td><td>Wallis and Futuna</td><td>List(-32.8992, -25.2428)</td><td>2022-01-31T18:53:34Z</td></tr><tr><td>7641</td><td>Albania</td><td>List(-177.109, -87.2)</td><td>2021-09-28T13:56:50Z</td></tr><tr><td>640</td><td>Albania</td><td>List(-177.109, -87.2)</td><td>2019-07-12T16:46:03Z</td></tr><tr><td>8174</td><td>Burkina Faso</td><td>List(-110.47, -66.6708)</td><td>2018-10-20T17:28:23Z</td></tr><tr><td>1216</td><td>Albania</td><td>List(-152.834, -69.8134)</td><td>2020-07-19T23:57:16Z</td></tr><tr><td>680</td><td>Bangladesh</td><td>List(-154.293, -73.1838)</td><td>2019-03-29T23:22:56Z</td></tr><tr><td>9527</td><td>Turkmenistan</td><td>List(170.601, -38.4443)</td><td>2021-11-17T07:50:58Z</td></tr><tr><td>9426</td><td>Sao Tome and Principe</td><td>List(-78.1449, -29.8646)</td><td>2021-06-30T02:14:47Z</td></tr><tr><td>8745</td><td>Tuvalu</td><td>List(-59.7391, 31.6701)</td><td>2020-10-28T03:45:33Z</td></tr><tr><td>5959</td><td>Cyprus</td><td>List(-17.5192, -44.9016)</td><td>2020-08-10T01:00:33Z</td></tr><tr><td>2577</td><td>Aruba</td><td>List(-179.257, -71.5025)</td><td>2019-08-01T05:45:51Z</td></tr><tr><td>3008</td><td>Venezuela</td><td>List(-58.7666, 0.314337)</td><td>2019-07-31T22:36:11Z</td></tr><tr><td>8081</td><td>Egypt</td><td>List(-129.18, -33.8238)</td><td>2022-03-25T07:42:29Z</td></tr><tr><td>10120</td><td>Isle of Man</td><td>List(-122.854, -55.1562)</td><td>2022-03-10T07:02:32Z</td></tr><tr><td>4045</td><td>American Samoa</td><td>List(-166.033, -89.3099)</td><td>2018-03-11T23:01:08Z</td></tr></tbody></table></div>"
      ]
     },
     "metadata": {
      "application/vnd.databricks.v1+output": {
       "addedWidgets": {},
       "aggData": [],
       "aggError": "",
       "aggOverflow": false,
       "aggSchema": [],
       "aggSeriesLimitReached": false,
       "aggType": "",
       "arguments": {},
       "columnCustomDisplayInfos": {},
       "data": [
        [
         1704,
         "Christmas Island",
         [
          -93.6232,
          -56.8702
         ],
         "2018-11-29T04:46:39Z"
        ],
        [
         2482,
         "Bermuda",
         [
          -164.709,
          63.4563
         ],
         "2019-09-13T08:20:13Z"
        ],
        [
         8930,
         "Argentina",
         [
          -176.154,
          -89.4739
         ],
         "2021-09-29T13:25:49Z"
        ],
        [
         7294,
         "Australia",
         [
          -136.501,
          -76.2967
         ],
         "2018-02-12T08:06:28Z"
        ],
        [
         808,
         "Albania",
         [
          -179.126,
          -71.6856
         ],
         "2019-01-03T15:43:12Z"
        ],
        [
         771,
         "Montserrat",
         [
          -107.111,
          -29.1712
         ],
         "2018-06-21T08:42:57Z"
        ],
        [
         4076,
         "Mauritania",
         [
          27.8139,
          -67.2157
         ],
         "2019-06-07T20:13:50Z"
        ],
        [
         1545,
         "Anguilla",
         [
          -72.3784,
          -30.18
         ],
         "2022-06-17T05:47:12Z"
        ],
        [
         2293,
         "British Virgin Islands",
         [
          -159.647,
          -87.7946
         ],
         "2022-03-21T10:46:53Z"
        ],
        [
         10509,
         "Gibraltar",
         [
          -24.2977,
          -67.187
         ],
         "2019-03-06T12:21:56Z"
        ],
        [
         2015,
         "Armenia",
         [
          -177.685,
          -17.629
         ],
         "2018-09-22T13:52:19Z"
        ],
        [
         1094,
         "Armenia",
         [
          -124.445,
          -46.7328
         ],
         "2018-08-19T00:34:20Z"
        ],
        [
         603,
         "Netherlands Antilles",
         [
          -141.603,
          14.0083
         ],
         "2019-06-25T05:13:01Z"
        ],
        [
         7768,
         "Algeria",
         [
          -96.0131,
          -88.355
         ],
         "2018-05-25T21:34:19Z"
        ],
        [
         5630,
         "Bahrain",
         [
          -164.987,
          -19.1403
         ],
         "2019-05-12T14:43:19Z"
        ],
        [
         8578,
         "Guinea-Bissau",
         [
          -161.397,
          34.6427
         ],
         "2018-01-26T19:27:11Z"
        ],
        [
         9936,
         "Australia",
         [
          -147.691,
          -82.1715
         ],
         "2018-06-30T22:07:13Z"
        ],
        [
         6844,
         "New Caledonia",
         [
          5.69245,
          -22.6915
         ],
         "2021-06-06T21:53:11Z"
        ],
        [
         3419,
         "Bhutan",
         [
          -108.979,
          7.60293
         ],
         "2021-12-20T05:01:54Z"
        ],
        [
         1268,
         "Argentina",
         [
          -177.23,
          -41.7803
         ],
         "2019-07-06T04:10:29Z"
        ],
        [
         6566,
         "Cape Verde",
         [
          -71.6593,
          -39.225
         ],
         "2020-11-19T10:06:13Z"
        ],
        [
         1555,
         "Algeria",
         [
          -55.332,
          -1.7046
         ],
         "2017-12-24T18:41:23Z"
        ],
        [
         3729,
         "Turkey",
         [
          -150.145,
          -24.4793
         ],
         "2018-01-17T03:43:38Z"
        ],
        [
         6398,
         "Albania",
         [
          -179.726,
          -3.29267
         ],
         "2020-01-19T01:49:05Z"
        ],
        [
         46,
         "Afghanistan",
         [
          -145.82,
          4.21689
         ],
         "2018-09-15T09:16:57Z"
        ],
        [
         4988,
         "Madagascar",
         [
          -35.2784,
          -32.1879
         ],
         "2020-07-11T11:01:12Z"
        ],
        [
         427,
         "Isle of Man",
         [
          -30.0087,
          -66.9418
         ],
         "2020-04-22T03:08:50Z"
        ],
        [
         3800,
         "Aruba",
         [
          -154.912,
          -61.471
         ],
         "2018-01-27T16:49:07Z"
        ],
        [
         159,
         "Andorra",
         [
          -166.603,
          -88.0812
         ],
         "2017-11-20T21:14:56Z"
        ],
        [
         3599,
         "Afghanistan",
         [
          -174.971,
          -88.5478
         ],
         "2019-03-03T06:13:41Z"
        ],
        [
         10552,
         "Grenada",
         [
          -179.812,
          32.7568
         ],
         "2020-08-24T11:39:32Z"
        ],
        [
         1422,
         "American Samoa",
         [
          -172.436,
          -88.5252
         ],
         "2018-04-30T08:27:21Z"
        ],
        [
         5309,
         "Maldives",
         [
          -84.2493,
          -89.4194
         ],
         "2020-05-04T22:00:32Z"
        ],
        [
         552,
         "Lesotho",
         [
          31.9601,
          -80.6043
         ],
         "2022-03-14T05:12:07Z"
        ],
        [
         1371,
         "Andorra",
         [
          -134.271,
          -89.4584
         ],
         "2018-08-08T04:41:17Z"
        ],
        [
         10119,
         "Christmas Island",
         [
          -162.795,
          -74.5431
         ],
         "2020-10-22T01:59:58Z"
        ],
        [
         9074,
         "Andorra",
         [
          -179.087,
          -84.7363
         ],
         "2022-04-10T17:06:13Z"
        ],
        [
         2604,
         "Antigua and Barbuda",
         [
          -104.972,
          -80.8933
         ],
         "2018-12-01T09:23:35Z"
        ],
        [
         223,
         "Isle of Man",
         [
          -118.397,
          1.15509
         ],
         "2018-12-07T07:30:40Z"
        ],
        [
         8312,
         "American Samoa",
         [
          -106.258,
          -77.9744
         ],
         "2021-04-25T15:56:29Z"
        ],
        [
         2858,
         "Argentina",
         [
          -166.807,
          -65.1565
         ],
         "2018-05-03T13:27:09Z"
        ],
        [
         6261,
         "Marshall Islands",
         [
          -109.763,
          -10.3101
         ],
         "2021-11-11T16:18:45Z"
        ],
        [
         3201,
         "Pitcairn Islands",
         [
          -68.4946,
          34.0532
         ],
         "2019-06-25T08:31:37Z"
        ],
        [
         2637,
         "Tunisia",
         [
          -96.4904,
          3.0033
         ],
         "2022-10-15T13:25:51Z"
        ],
        [
         1198,
         "Finland",
         [
          -150.73,
          6.37207
         ],
         "2020-01-24T23:42:18Z"
        ],
        [
         10370,
         "Finland",
         [
          -71.932,
          -81.9798
         ],
         "2018-07-29T15:53:40Z"
        ],
        [
         7167,
         "Ecuador",
         [
          -157.572,
          -55.757
         ],
         "2019-12-27T20:45:04Z"
        ],
        [
         10673,
         "Nicaragua",
         [
          -32.1713,
          37.1991
         ],
         "2021-06-30T08:47:01Z"
        ],
        [
         2060,
         "Trinidad and Tobago",
         [
          68.6527,
          52.4584
         ],
         "2020-01-25T13:54:17Z"
        ],
        [
         9487,
         "Canada",
         [
          -113.641,
          -76.9532
         ],
         "2018-12-18T11:16:52Z"
        ],
        [
         772,
         "Monaco",
         [
          -97.1964,
          25.0708
         ],
         "2022-09-22T05:59:55Z"
        ],
        [
         7510,
         "Aruba",
         [
          -172.235,
          -79.9828
         ],
         "2021-12-21T01:37:25Z"
        ],
        [
         5758,
         "Azerbaijan",
         [
          -145.242,
          -79.3714
         ],
         "2018-09-12T15:08:34Z"
        ],
        [
         1137,
         "Seychelles",
         [
          10.7361,
          12.2544
         ],
         "2020-12-26T00:56:04Z"
        ],
        [
         7234,
         "Algeria",
         [
          -169.547,
          -86.4791
         ],
         "2017-10-21T14:31:02Z"
        ],
        [
         327,
         "Gibraltar",
         [
          100.972,
          62.3674
         ],
         "2022-02-09T03:03:58Z"
        ],
        [
         7874,
         "Algeria",
         [
          -179.689,
          -89.5173
         ],
         "2022-01-18T08:58:49Z"
        ],
        [
         1450,
         "American Samoa",
         [
          -172.436,
          -88.5252
         ],
         "2022-01-15T16:04:27Z"
        ],
        [
         10245,
         "Bahamas",
         [
          146.776,
          -50.1835
         ],
         "2020-03-03T15:39:44Z"
        ],
        [
         9093,
         "Austria",
         [
          -151.645,
          -87.7764
         ],
         "2021-07-24T23:07:06Z"
        ],
        [
         2301,
         "Saint Vincent and the Grenadines",
         [
          51.7244,
          13.4683
         ],
         "2020-11-14T00:25:28Z"
        ],
        [
         2788,
         "Djibouti",
         [
          -94.1779,
          -36.076
         ],
         "2019-12-18T03:04:41Z"
        ],
        [
         9268,
         "American Samoa",
         [
          -161.644,
          -88.5255
         ],
         "2020-03-16T23:13:51Z"
        ],
        [
         1706,
         "Aruba",
         [
          -179.257,
          -71.5025
         ],
         "2017-11-24T23:36:46Z"
        ],
        [
         5293,
         "Sao Tome and Principe",
         [
          -25.9649,
          -13.1463
         ],
         "2019-05-31T20:49:36Z"
        ],
        [
         7733,
         "Algeria",
         [
          -179.689,
          -89.5173
         ],
         "2022-09-29T10:45:19Z"
        ],
        [
         3716,
         "Lithuania",
         [
          -16.0578,
          32.6648
         ],
         "2018-12-31T20:43:42Z"
        ],
        [
         3750,
         "Comoros",
         [
          -159.054,
          -73.8837
         ],
         "2022-09-03T23:36:08Z"
        ],
        [
         232,
         "Tanzania",
         [
          -173.609,
          6.60912
         ],
         "2019-02-18T03:38:47Z"
        ],
        [
         8300,
         "Chile",
         [
          19.7049,
          -64.5259
         ],
         "2018-02-14T23:50:10Z"
        ],
        [
         8978,
         "Faroe Islands",
         [
          3.78198,
          -2.01499
         ],
         "2017-12-01T13:26:06Z"
        ],
        [
         2048,
         "Antigua and Barbuda",
         [
          -142.186,
          -89.4008
         ],
         "2017-11-20T06:33:50Z"
        ],
        [
         10337,
         "Christmas Island",
         [
          -109.17,
          -42.3069
         ],
         "2021-10-26T12:09:43Z"
        ],
        [
         7832,
         "Israel",
         [
          91.8136,
          -53.8629
         ],
         "2022-02-14T13:47:24Z"
        ],
        [
         8366,
         "Kuwait",
         [
          -139.215,
          -38.5318
         ],
         "2018-03-28T14:17:11Z"
        ],
        [
         3334,
         "Anguilla",
         [
          -170.904,
          -89.0609
         ],
         "2019-09-26T20:13:48Z"
        ],
        [
         778,
         "Guatemala",
         [
          -123.073,
          48.2704
         ],
         "2018-10-19T14:43:39Z"
        ],
        [
         480,
         "Mozambique",
         [
          -167.461,
          -30.7158
         ],
         "2019-02-08T03:34:58Z"
        ],
        [
         3011,
         "Kuwait",
         [
          28.8054,
          -76.4675
         ],
         "2019-12-17T17:46:18Z"
        ],
        [
         9475,
         "Panama",
         [
          164.362,
          -84.1953
         ],
         "2019-03-19T08:26:35Z"
        ],
        [
         7586,
         "Andorra",
         [
          -179.087,
          -84.7363
         ],
         "2021-02-07T22:17:31Z"
        ],
        [
         1864,
         "Algeria",
         [
          -164.414,
          -72.3958
         ],
         "2020-04-24T17:08:13Z"
        ],
        [
         6014,
         "French Southern Territories",
         [
          155.206,
          -26.6026
         ],
         "2019-04-30T12:33:13Z"
        ],
        [
         1967,
         "Australia",
         [
          -179.581,
          32.74
         ],
         "2021-02-05T10:37:28Z"
        ],
        [
         1699,
         "Canada",
         [
          -127.783,
          -54.3706
         ],
         "2022-07-03T13:25:48Z"
        ],
        [
         4996,
         "Poland",
         [
          -118.569,
          39.9625
         ],
         "2019-04-16T23:49:42Z"
        ],
        [
         10168,
         "Norway",
         [
          137.812,
          -14.7211
         ],
         "2019-10-14T00:19:33Z"
        ],
        [
         5333,
         "Croatia",
         [
          -173.898,
          -86.6652
         ],
         "2021-01-20T08:10:08Z"
        ],
        [
         2565,
         "Bulgaria",
         [
          -177.336,
          -87.4992
         ],
         "2022-02-06T13:42:35Z"
        ],
        [
         9778,
         "Guam",
         [
          126.628,
          85.2343
         ],
         "2020-08-24T14:24:42Z"
        ],
        [
         3145,
         "Kenya",
         [
          -19.8932,
          -57.5981
         ],
         "2022-06-18T22:46:26Z"
        ],
        [
         1341,
         "Albania",
         [
          -173.293,
          -89.9787
         ],
         "2022-08-11T05:25:33Z"
        ],
        [
         5162,
         "Antarctica (the territory South of 60 deg S)",
         [
          -149.206,
          -71.6607
         ],
         "2019-09-27T19:06:43Z"
        ],
        [
         5151,
         "Guatemala",
         [
          -151.397,
          -47.3372
         ],
         "2020-07-15T01:42:38Z"
        ],
        [
         2498,
         "Togo",
         [
          -51.05,
          61.4706
         ],
         "2021-04-03T18:10:34Z"
        ],
        [
         7268,
         "Afghanistan",
         [
          -164.273,
          -88.3754
         ],
         "2019-12-11T14:05:18Z"
        ],
        [
         3351,
         "Portugal",
         [
          -96.9091,
          -9.11859
         ],
         "2020-09-12T10:34:11Z"
        ],
        [
         7738,
         "Comoros",
         [
          22.777,
          66.8478
         ],
         "2017-11-12T03:45:21Z"
        ],
        [
         8886,
         "American Samoa",
         [
          -178.919,
          -88.2286
         ],
         "2022-01-16T10:17:16Z"
        ],
        [
         5742,
         "Jamaica",
         [
          -61.56,
          -73.4926
         ],
         "2020-09-02T01:40:18Z"
        ],
        [
         1362,
         "Ghana",
         [
          92.28,
          48.3704
         ],
         "2022-07-20T05:38:18Z"
        ],
        [
         995,
         "Moldova",
         [
          -179.319,
          -88.0923
         ],
         "2022-09-22T12:17:57Z"
        ],
        [
         6250,
         "Austria",
         [
          -150.856,
          -73.2098
         ],
         "2020-11-22T18:28:02Z"
        ],
        [
         3184,
         "Cape Verde",
         [
          -171.585,
          -41.293
         ],
         "2018-09-25T23:17:46Z"
        ],
        [
         2955,
         "Antigua and Barbuda",
         [
          -23.4838,
          23.7768
         ],
         "2022-10-11T17:21:06Z"
        ],
        [
         4357,
         "Bahamas",
         [
          -179.908,
          -75.4909
         ],
         "2020-03-06T09:56:43Z"
        ],
        [
         3563,
         "Saint Barthelemy",
         [
          -69.505,
          -77.3153
         ],
         "2018-09-05T07:40:01Z"
        ],
        [
         6558,
         "Guadeloupe",
         [
          -174.009,
          -26.4944
         ],
         "2019-09-08T03:27:31Z"
        ],
        [
         4256,
         "Afghanistan",
         [
          -174.971,
          -88.5478
         ],
         "2018-10-10T17:57:16Z"
        ],
        [
         450,
         "Antigua and Barbuda",
         [
          -165.206,
          -81.0108
         ],
         "2018-09-28T05:43:18Z"
        ],
        [
         3945,
         "Barbados",
         [
          -142.673,
          -66.2816
         ],
         "2022-04-17T02:01:53Z"
        ],
        [
         859,
         "Romania",
         [
          48.2256,
          89.8261
         ],
         "2020-04-07T19:23:24Z"
        ],
        [
         1521,
         "Saint Helena",
         [
          64.9674,
          24.5192
         ],
         "2022-10-12T14:03:26Z"
        ],
        [
         1961,
         "Argentina",
         [
          -175.249,
          -65.3952
         ],
         "2022-07-29T18:16:50Z"
        ],
        [
         10099,
         "Afghanistan",
         [
          -171.58,
          -89.4261
         ],
         "2020-12-24T13:33:03Z"
        ],
        [
         6066,
         "Bolivia",
         [
          -174.505,
          -67.7278
         ],
         "2019-03-04T01:04:11Z"
        ],
        [
         10837,
         "Samoa",
         [
          -26.2408,
          86.6387
         ],
         "2018-09-27T07:12:31Z"
        ],
        [
         6615,
         "Wallis and Futuna",
         [
          -32.8992,
          -25.2428
         ],
         "2022-01-31T18:53:34Z"
        ],
        [
         7641,
         "Albania",
         [
          -177.109,
          -87.2
         ],
         "2021-09-28T13:56:50Z"
        ],
        [
         640,
         "Albania",
         [
          -177.109,
          -87.2
         ],
         "2019-07-12T16:46:03Z"
        ],
        [
         8174,
         "Burkina Faso",
         [
          -110.47,
          -66.6708
         ],
         "2018-10-20T17:28:23Z"
        ],
        [
         1216,
         "Albania",
         [
          -152.834,
          -69.8134
         ],
         "2020-07-19T23:57:16Z"
        ],
        [
         680,
         "Bangladesh",
         [
          -154.293,
          -73.1838
         ],
         "2019-03-29T23:22:56Z"
        ],
        [
         9527,
         "Turkmenistan",
         [
          170.601,
          -38.4443
         ],
         "2021-11-17T07:50:58Z"
        ],
        [
         9426,
         "Sao Tome and Principe",
         [
          -78.1449,
          -29.8646
         ],
         "2021-06-30T02:14:47Z"
        ],
        [
         8745,
         "Tuvalu",
         [
          -59.7391,
          31.6701
         ],
         "2020-10-28T03:45:33Z"
        ],
        [
         5959,
         "Cyprus",
         [
          -17.5192,
          -44.9016
         ],
         "2020-08-10T01:00:33Z"
        ],
        [
         2577,
         "Aruba",
         [
          -179.257,
          -71.5025
         ],
         "2019-08-01T05:45:51Z"
        ],
        [
         3008,
         "Venezuela",
         [
          -58.7666,
          0.314337
         ],
         "2019-07-31T22:36:11Z"
        ],
        [
         8081,
         "Egypt",
         [
          -129.18,
          -33.8238
         ],
         "2022-03-25T07:42:29Z"
        ],
        [
         10120,
         "Isle of Man",
         [
          -122.854,
          -55.1562
         ],
         "2022-03-10T07:02:32Z"
        ],
        [
         4045,
         "American Samoa",
         [
          -166.033,
          -89.3099
         ],
         "2018-03-11T23:01:08Z"
        ]
       ],
       "datasetInfos": [],
       "dbfsResultPath": null,
       "isJsonSchema": true,
       "metadata": {
        "isDbfsCommandResult": false
       },
       "overflow": false,
       "plotOptions": {
        "customPlotOptions": {},
        "displayType": "table",
        "pivotAggregation": null,
        "pivotColumns": null,
        "xColumns": null,
        "yColumns": null
       },
       "removedWidgets": [],
       "schema": [
        {
         "metadata": "{}",
         "name": "ind",
         "type": "\"integer\""
        },
        {
         "metadata": "{}",
         "name": "country",
         "type": "\"string\""
        },
        {
         "metadata": "{}",
         "name": "coordinates",
         "type": "{\"type\":\"array\",\"elementType\":\"double\",\"containsNull\":true}"
        },
        {
         "metadata": "{}",
         "name": "timestamp",
         "type": "\"timestamp\""
        }
       ],
       "type": "table"
      }
     },
     "output_type": "display_data"
    },
    {
     "output_type": "display_data",
     "data": {
      "text/plain": [
       "\u001B[0;31m---------------------------------------------------------------------------\u001B[0m\n",
       "\u001B[0;31mNameError\u001B[0m                                 Traceback (most recent call last)\n",
       "File \u001B[0;32m<command-7717831699936065>, line 1\u001B[0m\n",
       "\u001B[0;32m----> 1\u001B[0m cleaned_geo_df \u001B[38;5;241m=\u001B[39m cleaned_geo(stream_geo_df)\n",
       "\u001B[1;32m      2\u001B[0m display(cleaned_geo_df)\n",
       "\n",
       "\u001B[0;31mNameError\u001B[0m: name 'cleaned_geo' is not defined"
      ]
     },
     "metadata": {
      "application/vnd.databricks.v1+output": {
       "addedWidgets": {},
       "arguments": {},
       "datasetInfos": [],
       "jupyterProps": {
        "ename": "NameError",
        "evalue": "name 'cleaned_geo' is not defined"
       },
       "metadata": {
        "errorSummary": ""
       },
       "removedWidgets": [],
       "sqlProps": null,
       "stackFrames": [
        "\u001B[0;31m---------------------------------------------------------------------------\u001B[0m",
        "\u001B[0;31mNameError\u001B[0m                                 Traceback (most recent call last)",
        "File \u001B[0;32m<command-7717831699936065>, line 1\u001B[0m\n\u001B[0;32m----> 1\u001B[0m cleaned_geo_df \u001B[38;5;241m=\u001B[39m cleaned_geo(stream_geo_df)\n\u001B[1;32m      2\u001B[0m display(cleaned_geo_df)\n",
        "\u001B[0;31mNameError\u001B[0m: name 'cleaned_geo' is not defined"
       ],
       "type": "baseError"
      }
     },
     "output_type": "display_data"
    }
   ],
   "source": [
    "cleaned_geo_df = cleaned_geo_df(stream_geo_df)\n",
    "display(cleaned_geo_df)"
   ]
  },
  {
   "cell_type": "code",
   "execution_count": 0,
   "metadata": {
    "application/vnd.databricks.v1+cell": {
     "cellMetadata": {
      "byteLimit": 2048000,
      "rowLimit": 10000
     },
     "inputWidgets": {},
     "nuid": "f0d7b151-259a-4ed5-9999-a5a1b6ad0c19",
     "showTitle": false,
     "tableResultSettingsMap": {},
     "title": ""
    }
   },
   "outputs": [],
   "source": [
    "from pyspark.sql.functions import concat\n",
    "\n",
    "def cleaned_user_df(stream_user_df):\n",
    "    clean_user_df = stream_user_df.withColumn('user_name', concat('first_name', 'last_name'))\n",
    "    clean_user_df = clean_user_df.drop('first_name', 'last_name')\n",
    "    clean_user_df = clean_user_df.withColumn('user_name', regexp_replace(\"user_name\", \"([a-z]) ([A-Z])\", r\"\\1 \\2\")) \n",
    "\n",
    "    clean_user_df = clean_user_df.withColumn('date_joined', to_timestamp(col('date_joined')))\n",
    "    clean_user_df = clean_user_df.select('ind' , 'user_name', 'age', 'date_joined')\n",
    "    return clean_user_df"
   ]
  },
  {
   "cell_type": "code",
   "execution_count": 0,
   "metadata": {
    "application/vnd.databricks.v1+cell": {
     "cellMetadata": {
      "byteLimit": 2048000,
      "rowLimit": 10000
     },
     "inputWidgets": {},
     "nuid": "347efeac-3c36-46b5-945a-f55ccfd7af03",
     "showTitle": false,
     "tableResultSettingsMap": {},
     "title": ""
    }
   },
   "outputs": [
    {
     "output_type": "display_data",
     "data": {
      "text/html": [
       "<style scoped>\n",
       "  .table-result-container {\n",
       "    max-height: 300px;\n",
       "    overflow: auto;\n",
       "  }\n",
       "  table, th, td {\n",
       "    border: 1px solid black;\n",
       "    border-collapse: collapse;\n",
       "  }\n",
       "  th, td {\n",
       "    padding: 5px;\n",
       "  }\n",
       "  th {\n",
       "    text-align: left;\n",
       "  }\n",
       "</style><div class='table-result-container'><table class='table-result'><thead style='background-color: white'><tr><th>ind</th><th>user_name</th><th>age</th><th>date_joined</th></tr></thead><tbody><tr><td>771</td><td>BrittanyButler</td><td>32</td><td>2016-03-10T04:11:31Z</td></tr><tr><td>4076</td><td>LarryPineda</td><td>20</td><td>2015-10-23T22:47:39Z</td></tr><tr><td>1545</td><td>JonathanAvila</td><td>46</td><td>2015-11-27T23:11:21Z</td></tr><tr><td>2293</td><td>AlexBean</td><td>24</td><td>2016-01-11T23:08:27Z</td></tr><tr><td>10509</td><td>BrittanyThompson</td><td>49</td><td>2016-04-22T20:36:02Z</td></tr><tr><td>2015</td><td>ChristopherBradshaw</td><td>27</td><td>2016-03-08T13:38:37Z</td></tr><tr><td>1094</td><td>AnnElliott</td><td>20</td><td>2016-07-02T02:32:30Z</td></tr><tr><td>603</td><td>BrandonJackson</td><td>44</td><td>2016-10-29T02:07:21Z</td></tr><tr><td>7768</td><td>ChristineCortez</td><td>23</td><td>2015-12-01T18:15:02Z</td></tr><tr><td>5630</td><td>CarlosEstrada</td><td>22</td><td>2016-02-09T17:01:38Z</td></tr><tr><td>8578</td><td>JoePham</td><td>48</td><td>2017-06-01T23:13:27Z</td></tr><tr><td>9936</td><td>AnthonyCantu</td><td>28</td><td>2016-11-15T10:40:03Z</td></tr><tr><td>6844</td><td>PeterRoberts</td><td>30</td><td>2016-07-03T10:59:40Z</td></tr><tr><td>3419</td><td>AaronJenkins</td><td>47</td><td>2017-04-26T03:26:23Z</td></tr><tr><td>1268</td><td>DonnaCampbell</td><td>32</td><td>2016-06-08T22:10:13Z</td></tr><tr><td>6566</td><td>AlexanderPerez</td><td>31</td><td>2017-08-04T14:30:22Z</td></tr><tr><td>1555</td><td>AlexisBennett</td><td>54</td><td>2016-05-15T04:22:01Z</td></tr><tr><td>3729</td><td>RichardEdwards</td><td>52</td><td>2016-02-07T20:00:25Z</td></tr><tr><td>6398</td><td>ChristinaDavenport</td><td>39</td><td>2016-06-29T20:43:59Z</td></tr><tr><td>46</td><td>ErikKelley</td><td>30</td><td>2016-01-06T09:58:56Z</td></tr><tr><td>4988</td><td>RhondaDurham</td><td>25</td><td>2017-07-20T05:51:23Z</td></tr><tr><td>427</td><td>JonBurke</td><td>25</td><td>2015-11-26T17:42:37Z</td></tr><tr><td>3800</td><td>AdamArmstrong</td><td>20</td><td>2015-12-17T08:43:40Z</td></tr><tr><td>159</td><td>AlisonBell</td><td>21</td><td>2016-01-07T08:11:35Z</td></tr><tr><td>3599</td><td>AlexandriaAlvarado</td><td>20</td><td>2015-10-23T04:13:23Z</td></tr><tr><td>10552</td><td>MichaelHunter</td><td>40</td><td>2017-05-16T07:09:21Z</td></tr><tr><td>1422</td><td>AaronAbbott</td><td>20</td><td>2015-10-31T18:51:07Z</td></tr><tr><td>5309</td><td>DanielRoy</td><td>31</td><td>2016-03-07T01:01:24Z</td></tr><tr><td>552</td><td>ReginaMorales</td><td>20</td><td>2017-01-17T01:49:27Z</td></tr><tr><td>1371</td><td>AmandaBrown</td><td>20</td><td>2015-11-12T03:23:49Z</td></tr><tr><td>10119</td><td>ChelseaGonzalez</td><td>43</td><td>2016-07-21T15:25:08Z</td></tr><tr><td>9074</td><td>AaronAlexander</td><td>21</td><td>2015-10-25T07:36:08Z</td></tr><tr><td>2604</td><td>AshleyEvans</td><td>30</td><td>2016-02-21T12:54:01Z</td></tr><tr><td>223</td><td>MelanieHill</td><td>51</td><td>2016-10-09T14:47:51Z</td></tr><tr><td>8312</td><td>DanielBrooks</td><td>25</td><td>2015-11-19T21:24:33Z</td></tr><tr><td>2858</td><td>AnneBond</td><td>21</td><td>2015-12-27T23:43:42Z</td></tr><tr><td>6261</td><td>NicholasHart</td><td>38</td><td>2015-10-26T09:45:45Z</td></tr><tr><td>3201</td><td>ElizabethTerry</td><td>28</td><td>2016-01-29T20:32:05Z</td></tr><tr><td>2637</td><td>ShawnJones</td><td>32</td><td>2016-08-23T20:36:12Z</td></tr><tr><td>1198</td><td>ArianaGross</td><td>59</td><td>2016-12-17T11:10:48Z</td></tr><tr><td>10370</td><td>DerrickKim</td><td>30</td><td>2016-12-21T13:39:14Z</td></tr><tr><td>7167</td><td>DawnBradley</td><td>20</td><td>2016-08-26T16:09:52Z</td></tr><tr><td>10673</td><td>AlexanderCervantes</td><td>59</td><td>2017-05-12T21:22:17Z</td></tr><tr><td>2060</td><td>JoshuaLong</td><td>27</td><td>2016-12-18T10:11:23Z</td></tr><tr><td>9487</td><td>JoseBailey</td><td>21</td><td>2016-01-10T09:41:14Z</td></tr><tr><td>772</td><td>GlennHammond</td><td>25</td><td>2016-04-27T02:59:27Z</td></tr><tr><td>7510</td><td>DebraBecker</td><td>20</td><td>2016-07-27T06:20:48Z</td></tr><tr><td>5758</td><td>AmandaArnold</td><td>20</td><td>2015-10-26T23:04:52Z</td></tr><tr><td>1137</td><td>VirginiaVega</td><td>38</td><td>2017-05-03T03:08:33Z</td></tr><tr><td>7234</td><td>AngelaAllen</td><td>20</td><td>2015-10-26T04:12:32Z</td></tr><tr><td>327</td><td>JillTaylor</td><td>39</td><td>2015-12-04T03:15:28Z</td></tr><tr><td>7874</td><td>AaronAbbott</td><td>20</td><td>2015-10-23T16:08:41Z</td></tr><tr><td>1450</td><td>AaronAbbott</td><td>20</td><td>2015-10-31T18:51:07Z</td></tr><tr><td>10245</td><td>JulieCook</td><td>34</td><td>2016-05-08T16:27:01Z</td></tr><tr><td>9093</td><td>AlbertAdams</td><td>21</td><td>2015-11-05T22:07:56Z</td></tr><tr><td>2301</td><td>KarinaMorton</td><td>31</td><td>2016-01-21T12:53:34Z</td></tr><tr><td>2788</td><td>JesusArellano</td><td>43</td><td>2016-03-22T15:45:21Z</td></tr><tr><td>9268</td><td>AlexanderBailey</td><td>20</td><td>2015-10-30T11:37:32Z</td></tr><tr><td>1706</td><td>AmyAdams</td><td>20</td><td>2015-10-24T05:05:28Z</td></tr><tr><td>5293</td><td>DavidTaylor</td><td>36</td><td>2016-06-03T23:53:50Z</td></tr><tr><td>7733</td><td>AaronAbbott</td><td>20</td><td>2015-10-23T16:08:41Z</td></tr><tr><td>3716</td><td>CatherineFerrell</td><td>21</td><td>2017-01-02T03:01:09Z</td></tr><tr><td>3750</td><td>GaryBarker</td><td>28</td><td>2015-11-26T11:23:50Z</td></tr><tr><td>232</td><td>SarahBuchanan</td><td>33</td><td>2017-04-19T08:49:40Z</td></tr><tr><td>8300</td><td>NathanStanton</td><td>51</td><td>2017-08-14T08:26:30Z</td></tr><tr><td>8978</td><td>MarkJones</td><td>34</td><td>2017-08-22T00:01:29Z</td></tr><tr><td>2048</td><td>AnnChung</td><td>22</td><td>2015-11-18T23:11:15Z</td></tr><tr><td>10337</td><td>CarrieParker</td><td>46</td><td>2016-09-11T22:32:50Z</td></tr><tr><td>7832</td><td>SamuelHawkins</td><td>39</td><td>2016-06-30T02:56:06Z</td></tr><tr><td>8366</td><td>JustinEwing</td><td>56</td><td>2016-02-04T23:27:36Z</td></tr><tr><td>3334</td><td>AmberCasey</td><td>23</td><td>2016-01-06T12:22:08Z</td></tr><tr><td>778</td><td>ChristineAdams</td><td>31</td><td>2016-02-06T10:22:53Z</td></tr><tr><td>480</td><td>TimothySullivan</td><td>40</td><td>2017-01-12T08:37:12Z</td></tr><tr><td>3011</td><td>JustinSingleton</td><td>20</td><td>2017-03-10T19:53:44Z</td></tr><tr><td>9475</td><td>JessicaMejia</td><td>40</td><td>2016-01-03T12:03:05Z</td></tr><tr><td>7586</td><td>AaronAlexander</td><td>21</td><td>2015-10-25T07:36:08Z</td></tr><tr><td>1864</td><td>AlexanderAdams</td><td>32</td><td>2015-10-28T15:48:24Z</td></tr><tr><td>6014</td><td>MaryLuna</td><td>22</td><td>2016-01-02T01:40:52Z</td></tr><tr><td>1967</td><td>JayFlynn</td><td>24</td><td>2016-05-12T16:28:27Z</td></tr><tr><td>1699</td><td>BrandonCummings</td><td>22</td><td>2016-05-11T01:36:00Z</td></tr><tr><td>4996</td><td>JohnAnderson</td><td>27</td><td>2016-03-03T07:28:39Z</td></tr><tr><td>10168</td><td>NicoleGray</td><td>53</td><td>2016-02-20T13:03:00Z</td></tr><tr><td>5333</td><td>AaronClark</td><td>35</td><td>2016-11-19T22:36:49Z</td></tr><tr><td>2565</td><td>AnthonyAdkins</td><td>21</td><td>2015-10-28T03:59:42Z</td></tr><tr><td>9778</td><td>HollyCampbell</td><td>30</td><td>2016-07-08T19:10:37Z</td></tr><tr><td>3145</td><td>CrystalSchmidt</td><td>22</td><td>2017-04-14T13:57:52Z</td></tr><tr><td>1341</td><td>AbigailAli</td><td>20</td><td>2015-10-24T11:23:51Z</td></tr><tr><td>5162</td><td>JamesJacobson</td><td>28</td><td>2017-04-30T16:41:26Z</td></tr><tr><td>5151</td><td>MaryJordan</td><td>26</td><td>2017-06-12T16:02:59Z</td></tr><tr><td>2498</td><td>JeremyChase</td><td>50</td><td>2017-07-31T16:56:52Z</td></tr><tr><td>7268</td><td>AlejandraAcevedo</td><td>20</td><td>2015-11-24T21:01:23Z</td></tr><tr><td>3351</td><td>EricTaylor</td><td>39</td><td>2017-04-04T06:05:03Z</td></tr><tr><td>7738</td><td>AlexisGeorge</td><td>34</td><td>2016-02-26T00:38:01Z</td></tr><tr><td>8886</td><td>AbigailBates</td><td>20</td><td>2015-11-07T20:59:32Z</td></tr><tr><td>5742</td><td>BarbaraEdwards</td><td>24</td><td>2016-01-09T19:37:29Z</td></tr><tr><td>1362</td><td>NancyCase</td><td>23</td><td>2016-02-18T08:44:33Z</td></tr><tr><td>995</td><td>JasonHorne</td><td>27</td><td>2016-02-06T15:31:57Z</td></tr><tr><td>6250</td><td>LydiaNelson</td><td>59</td><td>2016-09-06T06:21:57Z</td></tr><tr><td>3184</td><td>AllisonDawson</td><td>35</td><td>2016-02-04T14:45:39Z</td></tr><tr><td>2955</td><td>KevinYoung</td><td>58</td><td>2016-09-18T07:28:19Z</td></tr><tr><td>4357</td><td>AllisonAdams</td><td>22</td><td>2015-11-30T10:51:59Z</td></tr><tr><td>3563</td><td>GeraldDavis</td><td>55</td><td>2017-08-11T14:24:41Z</td></tr><tr><td>6558</td><td>GaryTanner</td><td>43</td><td>2016-11-29T22:22:47Z</td></tr><tr><td>4256</td><td>AlexandriaAlvarado</td><td>20</td><td>2015-10-23T04:13:23Z</td></tr><tr><td>450</td><td>AmandaBenitez</td><td>21</td><td>2015-11-01T09:16:18Z</td></tr><tr><td>3945</td><td>BethJohnson</td><td>30</td><td>2015-11-29T15:45:13Z</td></tr><tr><td>859</td><td>ScottPage</td><td>44</td><td>2015-10-31T14:35:30Z</td></tr><tr><td>1521</td><td>MindyGarrison</td><td>29</td><td>2016-02-18T23:18:39Z</td></tr><tr><td>1961</td><td>AdrienneBarrett</td><td>22</td><td>2015-11-04T15:48:14Z</td></tr><tr><td>10099</td><td>AmandaCarlson</td><td>21</td><td>2015-11-23T09:01:37Z</td></tr><tr><td>6066</td><td>AngelaFlores</td><td>28</td><td>2015-10-29T08:51:34Z</td></tr><tr><td>10837</td><td>MarkRichardson</td><td>55</td><td>2015-11-18T05:46:35Z</td></tr><tr><td>6615</td><td>BarryWest</td><td>44</td><td>2016-08-13T21:13:14Z</td></tr><tr><td>7641</td><td>AaronAnderson</td><td>21</td><td>2015-10-24T05:35:27Z</td></tr><tr><td>640</td><td>AaronAnderson</td><td>21</td><td>2015-10-24T05:35:27Z</td></tr><tr><td>8174</td><td>AndrewBrown</td><td>25</td><td>2016-03-26T04:30:23Z</td></tr><tr><td>1216</td><td>JuanCortez</td><td>20</td><td>2016-04-07T13:02:08Z</td></tr><tr><td>680</td><td>DianaBallard</td><td>23</td><td>2017-01-12T11:17:31Z</td></tr><tr><td>9527</td><td>VernonBrown</td><td>55</td><td>2017-08-04T01:04:25Z</td></tr><tr><td>9426</td><td>NicholasMcdaniel</td><td>45</td><td>2017-05-24T01:41:26Z</td></tr><tr><td>8745</td><td>GrantVillanueva</td><td>53</td><td>2016-02-14T19:17:10Z</td></tr><tr><td>5959</td><td>JasonBrooks</td><td>28</td><td>2015-12-21T00:33:51Z</td></tr><tr><td>2577</td><td>AmyAdams</td><td>20</td><td>2015-10-24T05:05:28Z</td></tr></tbody></table></div>"
      ]
     },
     "metadata": {
      "application/vnd.databricks.v1+output": {
       "addedWidgets": {},
       "aggData": [],
       "aggError": "",
       "aggOverflow": false,
       "aggSchema": [],
       "aggSeriesLimitReached": false,
       "aggType": "",
       "arguments": {},
       "columnCustomDisplayInfos": {},
       "data": [
        [
         771,
         "BrittanyButler",
         32,
         "2016-03-10T04:11:31Z"
        ],
        [
         4076,
         "LarryPineda",
         20,
         "2015-10-23T22:47:39Z"
        ],
        [
         1545,
         "JonathanAvila",
         46,
         "2015-11-27T23:11:21Z"
        ],
        [
         2293,
         "AlexBean",
         24,
         "2016-01-11T23:08:27Z"
        ],
        [
         10509,
         "BrittanyThompson",
         49,
         "2016-04-22T20:36:02Z"
        ],
        [
         2015,
         "ChristopherBradshaw",
         27,
         "2016-03-08T13:38:37Z"
        ],
        [
         1094,
         "AnnElliott",
         20,
         "2016-07-02T02:32:30Z"
        ],
        [
         603,
         "BrandonJackson",
         44,
         "2016-10-29T02:07:21Z"
        ],
        [
         7768,
         "ChristineCortez",
         23,
         "2015-12-01T18:15:02Z"
        ],
        [
         5630,
         "CarlosEstrada",
         22,
         "2016-02-09T17:01:38Z"
        ],
        [
         8578,
         "JoePham",
         48,
         "2017-06-01T23:13:27Z"
        ],
        [
         9936,
         "AnthonyCantu",
         28,
         "2016-11-15T10:40:03Z"
        ],
        [
         6844,
         "PeterRoberts",
         30,
         "2016-07-03T10:59:40Z"
        ],
        [
         3419,
         "AaronJenkins",
         47,
         "2017-04-26T03:26:23Z"
        ],
        [
         1268,
         "DonnaCampbell",
         32,
         "2016-06-08T22:10:13Z"
        ],
        [
         6566,
         "AlexanderPerez",
         31,
         "2017-08-04T14:30:22Z"
        ],
        [
         1555,
         "AlexisBennett",
         54,
         "2016-05-15T04:22:01Z"
        ],
        [
         3729,
         "RichardEdwards",
         52,
         "2016-02-07T20:00:25Z"
        ],
        [
         6398,
         "ChristinaDavenport",
         39,
         "2016-06-29T20:43:59Z"
        ],
        [
         46,
         "ErikKelley",
         30,
         "2016-01-06T09:58:56Z"
        ],
        [
         4988,
         "RhondaDurham",
         25,
         "2017-07-20T05:51:23Z"
        ],
        [
         427,
         "JonBurke",
         25,
         "2015-11-26T17:42:37Z"
        ],
        [
         3800,
         "AdamArmstrong",
         20,
         "2015-12-17T08:43:40Z"
        ],
        [
         159,
         "AlisonBell",
         21,
         "2016-01-07T08:11:35Z"
        ],
        [
         3599,
         "AlexandriaAlvarado",
         20,
         "2015-10-23T04:13:23Z"
        ],
        [
         10552,
         "MichaelHunter",
         40,
         "2017-05-16T07:09:21Z"
        ],
        [
         1422,
         "AaronAbbott",
         20,
         "2015-10-31T18:51:07Z"
        ],
        [
         5309,
         "DanielRoy",
         31,
         "2016-03-07T01:01:24Z"
        ],
        [
         552,
         "ReginaMorales",
         20,
         "2017-01-17T01:49:27Z"
        ],
        [
         1371,
         "AmandaBrown",
         20,
         "2015-11-12T03:23:49Z"
        ],
        [
         10119,
         "ChelseaGonzalez",
         43,
         "2016-07-21T15:25:08Z"
        ],
        [
         9074,
         "AaronAlexander",
         21,
         "2015-10-25T07:36:08Z"
        ],
        [
         2604,
         "AshleyEvans",
         30,
         "2016-02-21T12:54:01Z"
        ],
        [
         223,
         "MelanieHill",
         51,
         "2016-10-09T14:47:51Z"
        ],
        [
         8312,
         "DanielBrooks",
         25,
         "2015-11-19T21:24:33Z"
        ],
        [
         2858,
         "AnneBond",
         21,
         "2015-12-27T23:43:42Z"
        ],
        [
         6261,
         "NicholasHart",
         38,
         "2015-10-26T09:45:45Z"
        ],
        [
         3201,
         "ElizabethTerry",
         28,
         "2016-01-29T20:32:05Z"
        ],
        [
         2637,
         "ShawnJones",
         32,
         "2016-08-23T20:36:12Z"
        ],
        [
         1198,
         "ArianaGross",
         59,
         "2016-12-17T11:10:48Z"
        ],
        [
         10370,
         "DerrickKim",
         30,
         "2016-12-21T13:39:14Z"
        ],
        [
         7167,
         "DawnBradley",
         20,
         "2016-08-26T16:09:52Z"
        ],
        [
         10673,
         "AlexanderCervantes",
         59,
         "2017-05-12T21:22:17Z"
        ],
        [
         2060,
         "JoshuaLong",
         27,
         "2016-12-18T10:11:23Z"
        ],
        [
         9487,
         "JoseBailey",
         21,
         "2016-01-10T09:41:14Z"
        ],
        [
         772,
         "GlennHammond",
         25,
         "2016-04-27T02:59:27Z"
        ],
        [
         7510,
         "DebraBecker",
         20,
         "2016-07-27T06:20:48Z"
        ],
        [
         5758,
         "AmandaArnold",
         20,
         "2015-10-26T23:04:52Z"
        ],
        [
         1137,
         "VirginiaVega",
         38,
         "2017-05-03T03:08:33Z"
        ],
        [
         7234,
         "AngelaAllen",
         20,
         "2015-10-26T04:12:32Z"
        ],
        [
         327,
         "JillTaylor",
         39,
         "2015-12-04T03:15:28Z"
        ],
        [
         7874,
         "AaronAbbott",
         20,
         "2015-10-23T16:08:41Z"
        ],
        [
         1450,
         "AaronAbbott",
         20,
         "2015-10-31T18:51:07Z"
        ],
        [
         10245,
         "JulieCook",
         34,
         "2016-05-08T16:27:01Z"
        ],
        [
         9093,
         "AlbertAdams",
         21,
         "2015-11-05T22:07:56Z"
        ],
        [
         2301,
         "KarinaMorton",
         31,
         "2016-01-21T12:53:34Z"
        ],
        [
         2788,
         "JesusArellano",
         43,
         "2016-03-22T15:45:21Z"
        ],
        [
         9268,
         "AlexanderBailey",
         20,
         "2015-10-30T11:37:32Z"
        ],
        [
         1706,
         "AmyAdams",
         20,
         "2015-10-24T05:05:28Z"
        ],
        [
         5293,
         "DavidTaylor",
         36,
         "2016-06-03T23:53:50Z"
        ],
        [
         7733,
         "AaronAbbott",
         20,
         "2015-10-23T16:08:41Z"
        ],
        [
         3716,
         "CatherineFerrell",
         21,
         "2017-01-02T03:01:09Z"
        ],
        [
         3750,
         "GaryBarker",
         28,
         "2015-11-26T11:23:50Z"
        ],
        [
         232,
         "SarahBuchanan",
         33,
         "2017-04-19T08:49:40Z"
        ],
        [
         8300,
         "NathanStanton",
         51,
         "2017-08-14T08:26:30Z"
        ],
        [
         8978,
         "MarkJones",
         34,
         "2017-08-22T00:01:29Z"
        ],
        [
         2048,
         "AnnChung",
         22,
         "2015-11-18T23:11:15Z"
        ],
        [
         10337,
         "CarrieParker",
         46,
         "2016-09-11T22:32:50Z"
        ],
        [
         7832,
         "SamuelHawkins",
         39,
         "2016-06-30T02:56:06Z"
        ],
        [
         8366,
         "JustinEwing",
         56,
         "2016-02-04T23:27:36Z"
        ],
        [
         3334,
         "AmberCasey",
         23,
         "2016-01-06T12:22:08Z"
        ],
        [
         778,
         "ChristineAdams",
         31,
         "2016-02-06T10:22:53Z"
        ],
        [
         480,
         "TimothySullivan",
         40,
         "2017-01-12T08:37:12Z"
        ],
        [
         3011,
         "JustinSingleton",
         20,
         "2017-03-10T19:53:44Z"
        ],
        [
         9475,
         "JessicaMejia",
         40,
         "2016-01-03T12:03:05Z"
        ],
        [
         7586,
         "AaronAlexander",
         21,
         "2015-10-25T07:36:08Z"
        ],
        [
         1864,
         "AlexanderAdams",
         32,
         "2015-10-28T15:48:24Z"
        ],
        [
         6014,
         "MaryLuna",
         22,
         "2016-01-02T01:40:52Z"
        ],
        [
         1967,
         "JayFlynn",
         24,
         "2016-05-12T16:28:27Z"
        ],
        [
         1699,
         "BrandonCummings",
         22,
         "2016-05-11T01:36:00Z"
        ],
        [
         4996,
         "JohnAnderson",
         27,
         "2016-03-03T07:28:39Z"
        ],
        [
         10168,
         "NicoleGray",
         53,
         "2016-02-20T13:03:00Z"
        ],
        [
         5333,
         "AaronClark",
         35,
         "2016-11-19T22:36:49Z"
        ],
        [
         2565,
         "AnthonyAdkins",
         21,
         "2015-10-28T03:59:42Z"
        ],
        [
         9778,
         "HollyCampbell",
         30,
         "2016-07-08T19:10:37Z"
        ],
        [
         3145,
         "CrystalSchmidt",
         22,
         "2017-04-14T13:57:52Z"
        ],
        [
         1341,
         "AbigailAli",
         20,
         "2015-10-24T11:23:51Z"
        ],
        [
         5162,
         "JamesJacobson",
         28,
         "2017-04-30T16:41:26Z"
        ],
        [
         5151,
         "MaryJordan",
         26,
         "2017-06-12T16:02:59Z"
        ],
        [
         2498,
         "JeremyChase",
         50,
         "2017-07-31T16:56:52Z"
        ],
        [
         7268,
         "AlejandraAcevedo",
         20,
         "2015-11-24T21:01:23Z"
        ],
        [
         3351,
         "EricTaylor",
         39,
         "2017-04-04T06:05:03Z"
        ],
        [
         7738,
         "AlexisGeorge",
         34,
         "2016-02-26T00:38:01Z"
        ],
        [
         8886,
         "AbigailBates",
         20,
         "2015-11-07T20:59:32Z"
        ],
        [
         5742,
         "BarbaraEdwards",
         24,
         "2016-01-09T19:37:29Z"
        ],
        [
         1362,
         "NancyCase",
         23,
         "2016-02-18T08:44:33Z"
        ],
        [
         995,
         "JasonHorne",
         27,
         "2016-02-06T15:31:57Z"
        ],
        [
         6250,
         "LydiaNelson",
         59,
         "2016-09-06T06:21:57Z"
        ],
        [
         3184,
         "AllisonDawson",
         35,
         "2016-02-04T14:45:39Z"
        ],
        [
         2955,
         "KevinYoung",
         58,
         "2016-09-18T07:28:19Z"
        ],
        [
         4357,
         "AllisonAdams",
         22,
         "2015-11-30T10:51:59Z"
        ],
        [
         3563,
         "GeraldDavis",
         55,
         "2017-08-11T14:24:41Z"
        ],
        [
         6558,
         "GaryTanner",
         43,
         "2016-11-29T22:22:47Z"
        ],
        [
         4256,
         "AlexandriaAlvarado",
         20,
         "2015-10-23T04:13:23Z"
        ],
        [
         450,
         "AmandaBenitez",
         21,
         "2015-11-01T09:16:18Z"
        ],
        [
         3945,
         "BethJohnson",
         30,
         "2015-11-29T15:45:13Z"
        ],
        [
         859,
         "ScottPage",
         44,
         "2015-10-31T14:35:30Z"
        ],
        [
         1521,
         "MindyGarrison",
         29,
         "2016-02-18T23:18:39Z"
        ],
        [
         1961,
         "AdrienneBarrett",
         22,
         "2015-11-04T15:48:14Z"
        ],
        [
         10099,
         "AmandaCarlson",
         21,
         "2015-11-23T09:01:37Z"
        ],
        [
         6066,
         "AngelaFlores",
         28,
         "2015-10-29T08:51:34Z"
        ],
        [
         10837,
         "MarkRichardson",
         55,
         "2015-11-18T05:46:35Z"
        ],
        [
         6615,
         "BarryWest",
         44,
         "2016-08-13T21:13:14Z"
        ],
        [
         7641,
         "AaronAnderson",
         21,
         "2015-10-24T05:35:27Z"
        ],
        [
         640,
         "AaronAnderson",
         21,
         "2015-10-24T05:35:27Z"
        ],
        [
         8174,
         "AndrewBrown",
         25,
         "2016-03-26T04:30:23Z"
        ],
        [
         1216,
         "JuanCortez",
         20,
         "2016-04-07T13:02:08Z"
        ],
        [
         680,
         "DianaBallard",
         23,
         "2017-01-12T11:17:31Z"
        ],
        [
         9527,
         "VernonBrown",
         55,
         "2017-08-04T01:04:25Z"
        ],
        [
         9426,
         "NicholasMcdaniel",
         45,
         "2017-05-24T01:41:26Z"
        ],
        [
         8745,
         "GrantVillanueva",
         53,
         "2016-02-14T19:17:10Z"
        ],
        [
         5959,
         "JasonBrooks",
         28,
         "2015-12-21T00:33:51Z"
        ],
        [
         2577,
         "AmyAdams",
         20,
         "2015-10-24T05:05:28Z"
        ]
       ],
       "datasetInfos": [],
       "dbfsResultPath": null,
       "isJsonSchema": true,
       "metadata": {
        "isDbfsCommandResult": false
       },
       "overflow": false,
       "plotOptions": {
        "customPlotOptions": {},
        "displayType": "table",
        "pivotAggregation": null,
        "pivotColumns": null,
        "xColumns": null,
        "yColumns": null
       },
       "removedWidgets": [],
       "schema": [
        {
         "metadata": "{}",
         "name": "ind",
         "type": "\"integer\""
        },
        {
         "metadata": "{}",
         "name": "user_name",
         "type": "\"string\""
        },
        {
         "metadata": "{}",
         "name": "age",
         "type": "\"integer\""
        },
        {
         "metadata": "{}",
         "name": "date_joined",
         "type": "\"timestamp\""
        }
       ],
       "type": "table"
      }
     },
     "output_type": "display_data"
    }
   ],
   "source": [
    "cleaned_user_stream = cleaned_user_df(stream_user_df)\n",
    "display(cleaned_user_stream)"
   ]
  },
  {
   "cell_type": "code",
   "execution_count": 0,
   "metadata": {
    "application/vnd.databricks.v1+cell": {
     "cellMetadata": {
      "byteLimit": 2048000,
      "rowLimit": 10000
     },
     "inputWidgets": {},
     "nuid": "874a8271-b927-48bc-9991-31a53441e93e",
     "showTitle": false,
     "tableResultSettingsMap": {},
     "title": ""
    }
   },
   "outputs": [
    {
     "output_type": "execute_result",
     "data": {
      "text/plain": [
       "<pyspark.sql.streaming.query.StreamingQuery at 0x7fc7f8a710f0>"
      ]
     },
     "execution_count": 89,
     "metadata": {},
     "output_type": "execute_result"
    }
   ],
   "source": [
    "dbutils.fs.rm(\"/tmp/kinesis/_checkpoints/\", True)\n",
    "\n",
    "pin_df_cleaned.writeStream \\\n",
    "    .format(\"delta\") \\\n",
    "    .outputMode(\"append\") \\\n",
    "    .option(\"checkpointLocation\", \"/tmp/kinesis/_checkpoints/\") \\\n",
    "    .table(\"0eaf46a0829f_pin_table\")"
   ]
  },
  {
   "cell_type": "code",
   "execution_count": 0,
   "metadata": {
    "application/vnd.databricks.v1+cell": {
     "cellMetadata": {
      "byteLimit": 2048000,
      "rowLimit": 10000
     },
     "inputWidgets": {},
     "nuid": "75eccb6e-db9b-4611-b23e-a7d40c99e088",
     "showTitle": false,
     "tableResultSettingsMap": {},
     "title": ""
    }
   },
   "outputs": [
    {
     "output_type": "execute_result",
     "data": {
      "text/plain": [
       "<pyspark.sql.streaming.query.StreamingQuery at 0x7fc7f818f070>"
      ]
     },
     "execution_count": 90,
     "metadata": {},
     "output_type": "execute_result"
    },
    {
     "output_type": "display_data",
     "data": {
      "text/plain": [
       "\u001B[0;31m---------------------------------------------------------------------------\u001B[0m\n",
       "\u001B[0;31mNameError\u001B[0m                                 Traceback (most recent call last)\n",
       "File \u001B[0;32m<command-7717831699936068>, line 1\u001B[0m\n",
       "\u001B[0;32m----> 1\u001B[0m \u001B[43mdf\u001B[49m\u001B[38;5;241m.\u001B[39mwriteStream \\\n",
       "\u001B[1;32m      2\u001B[0m     \u001B[38;5;241m.\u001B[39mformat(\u001B[38;5;124m\"\u001B[39m\u001B[38;5;124mdelta\u001B[39m\u001B[38;5;124m\"\u001B[39m) \\\n",
       "\u001B[1;32m      3\u001B[0m     \u001B[38;5;241m.\u001B[39moutputMode(\u001B[38;5;124m\"\u001B[39m\u001B[38;5;124mappend\u001B[39m\u001B[38;5;124m\"\u001B[39m) \\\n",
       "\u001B[1;32m      4\u001B[0m     \u001B[38;5;241m.\u001B[39moption(\u001B[38;5;124m\"\u001B[39m\u001B[38;5;124mcheckpointLocation\u001B[39m\u001B[38;5;124m\"\u001B[39m, \u001B[38;5;124m\"\u001B[39m\u001B[38;5;124m/tmp/kinesis/_checkpoints/\u001B[39m\u001B[38;5;124m\"\u001B[39m) \\\n",
       "\u001B[1;32m      5\u001B[0m     \u001B[38;5;241m.\u001B[39mtoTable(\u001B[38;5;124m\"\u001B[39m\u001B[38;5;124m0eaf46a0829f_pin_table\u001B[39m\u001B[38;5;124m\"\u001B[39m)\n",
       "\n",
       "\u001B[0;31mNameError\u001B[0m: name 'df' is not defined"
      ]
     },
     "metadata": {
      "application/vnd.databricks.v1+output": {
       "addedWidgets": {},
       "arguments": {},
       "datasetInfos": [],
       "jupyterProps": {
        "ename": "NameError",
        "evalue": "name 'df' is not defined"
       },
       "metadata": {
        "errorSummary": ""
       },
       "removedWidgets": [],
       "sqlProps": null,
       "stackFrames": [
        "\u001B[0;31m---------------------------------------------------------------------------\u001B[0m",
        "\u001B[0;31mNameError\u001B[0m                                 Traceback (most recent call last)",
        "File \u001B[0;32m<command-7717831699936068>, line 1\u001B[0m\n\u001B[0;32m----> 1\u001B[0m \u001B[43mdf\u001B[49m\u001B[38;5;241m.\u001B[39mwriteStream \\\n\u001B[1;32m      2\u001B[0m     \u001B[38;5;241m.\u001B[39mformat(\u001B[38;5;124m\"\u001B[39m\u001B[38;5;124mdelta\u001B[39m\u001B[38;5;124m\"\u001B[39m) \\\n\u001B[1;32m      3\u001B[0m     \u001B[38;5;241m.\u001B[39moutputMode(\u001B[38;5;124m\"\u001B[39m\u001B[38;5;124mappend\u001B[39m\u001B[38;5;124m\"\u001B[39m) \\\n\u001B[1;32m      4\u001B[0m     \u001B[38;5;241m.\u001B[39moption(\u001B[38;5;124m\"\u001B[39m\u001B[38;5;124mcheckpointLocation\u001B[39m\u001B[38;5;124m\"\u001B[39m, \u001B[38;5;124m\"\u001B[39m\u001B[38;5;124m/tmp/kinesis/_checkpoints/\u001B[39m\u001B[38;5;124m\"\u001B[39m) \\\n\u001B[1;32m      5\u001B[0m     \u001B[38;5;241m.\u001B[39mtoTable(\u001B[38;5;124m\"\u001B[39m\u001B[38;5;124m0eaf46a0829f_pin_table\u001B[39m\u001B[38;5;124m\"\u001B[39m)\n",
        "\u001B[0;31mNameError\u001B[0m: name 'df' is not defined"
       ],
       "type": "baseError"
      }
     },
     "output_type": "display_data"
    }
   ],
   "source": [
    "\n",
    "\n",
    "cleaned_geo_df.writeStream \\\n",
    "    .format(\"delta\") \\\n",
    "    .outputMode(\"append\") \\\n",
    "    .option(\"checkpointLocation\", \"/tmp/kinesis/_checkpoints/cleaned_geo_df/\") \\\n",
    "    .table(\"0eaf46a0829f_geo_table\")"
   ]
  },
  {
   "cell_type": "code",
   "execution_count": 0,
   "metadata": {
    "application/vnd.databricks.v1+cell": {
     "cellMetadata": {
      "byteLimit": 2048000,
      "rowLimit": 10000
     },
     "inputWidgets": {},
     "nuid": "6524c9ba-7694-426b-80aa-3ff8466faacf",
     "showTitle": false,
     "tableResultSettingsMap": {},
     "title": ""
    }
   },
   "outputs": [
    {
     "output_type": "execute_result",
     "data": {
      "text/plain": [
       "<pyspark.sql.streaming.query.StreamingQuery at 0x7fc7f8a736d0>"
      ]
     },
     "execution_count": 91,
     "metadata": {},
     "output_type": "execute_result"
    }
   ],
   "source": [
    "\n",
    "\n",
    "cleaned_user_stream.writeStream \\\n",
    "    .format(\"delta\") \\\n",
    "    .outputMode(\"append\") \\\n",
    "    .option(\"checkpointLocation\", \"/tmp/kinesis/_checkpoints/cleaned_user_stream/\") \\\n",
    "    .table(\"0eaf46a0829f_user_table\")"
   ]
  }
 ],
 "metadata": {
  "application/vnd.databricks.v1+notebook": {
   "computePreferences": null,
   "dashboards": [],
   "environmentMetadata": {
    "base_environment": "",
    "client": "2"
   },
   "language": "python",
   "notebookMetadata": {
    "mostRecentlyExecutedCommandWithImplicitDF": {
     "commandId": 3359017282345996,
     "dataframes": [
      "_sqldf"
     ]
    },
    "pythonIndentUnit": 4
   },
   "notebookName": "AWS Kinesis work",
   "widgets": {}
  },
  "language_info": {
   "name": "python"
  }
 },
 "nbformat": 4,
 "nbformat_minor": 0
}