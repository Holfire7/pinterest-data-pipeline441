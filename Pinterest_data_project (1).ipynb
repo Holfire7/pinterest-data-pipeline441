{
 "cells": [
  {
   "cell_type": "code",
   "execution_count": 0,
   "metadata": {
    "application/vnd.databricks.v1+cell": {
     "cellMetadata": {
      "byteLimit": 2048000,
      "rowLimit": 10000
     },
     "inputWidgets": {},
     "nuid": "c73d1d26-2cc0-4566-bbf0-20405acfd694",
     "showTitle": false,
     "tableResultSettingsMap": {},
     "title": ""
    }
   },
   "outputs": [
    {
     "output_type": "display_data",
     "data": {
      "text/plain": [
       "\u001B[0;31m---------------------------------------------------------------------------\u001B[0m\n",
       "\u001B[0;31mExecutionError\u001B[0m                            Traceback (most recent call last)\n",
       "File \u001B[0;32m<command-1918370915724611>, line 15\u001B[0m\n",
       "\u001B[1;32m     13\u001B[0m MOUNT_NAME \u001B[38;5;241m=\u001B[39m \u001B[38;5;124m\"\u001B[39m\u001B[38;5;124m/mnt/Ben_data_mount\u001B[39m\u001B[38;5;124m\"\u001B[39m\n",
       "\u001B[1;32m     14\u001B[0m SOURCE_URL \u001B[38;5;241m=\u001B[39m \u001B[38;5;124m\"\u001B[39m\u001B[38;5;124ms3n://\u001B[39m\u001B[38;5;132;01m{0}\u001B[39;00m\u001B[38;5;124m:\u001B[39m\u001B[38;5;132;01m{1}\u001B[39;00m\u001B[38;5;124m@\u001B[39m\u001B[38;5;132;01m{2}\u001B[39;00m\u001B[38;5;124m\"\u001B[39m\u001B[38;5;241m.\u001B[39mformat(ACCESS_KEY, ENCODED_SECRET_KEY, AWS_S3_BUCKET)\n",
       "\u001B[0;32m---> 15\u001B[0m dbutils\u001B[38;5;241m.\u001B[39mfs\u001B[38;5;241m.\u001B[39mmount(SOURCE_URL, MOUNT_NAME)\n",
       "\n",
       "File \u001B[0;32m/databricks/python_shell/dbruntime/dbutils.py:380\u001B[0m, in \u001B[0;36mDBUtils.FSHandler.prettify_exception_message.<locals>.f_with_exception_handling\u001B[0;34m(*args, **kwargs)\u001B[0m\n",
       "\u001B[1;32m    378\u001B[0m exc\u001B[38;5;241m.\u001B[39m__context__ \u001B[38;5;241m=\u001B[39m \u001B[38;5;28;01mNone\u001B[39;00m\n",
       "\u001B[1;32m    379\u001B[0m exc\u001B[38;5;241m.\u001B[39m__cause__ \u001B[38;5;241m=\u001B[39m \u001B[38;5;28;01mNone\u001B[39;00m\n",
       "\u001B[0;32m--> 380\u001B[0m \u001B[38;5;28;01mraise\u001B[39;00m exc\n",
       "\n",
       "\u001B[0;31mExecutionError\u001B[0m: An error occurred while calling o420.mount.\n",
       ": java.rmi.RemoteException: java.lang.IllegalArgumentException: requirement failed: Directory already mounted: /mnt/Ben_data_mount; nested exception is: \n",
       "\tjava.lang.IllegalArgumentException: requirement failed: Directory already mounted: /mnt/Ben_data_mount\n",
       "\tat com.databricks.backend.daemon.data.client.DbfsClient.send0(DbfsClient.scala:141)\n",
       "\tat com.databricks.backend.daemon.data.client.DbfsClient.sendIdempotent(DbfsClient.scala:70)\n",
       "\tat com.databricks.backend.daemon.dbutils.DBUtilsCore.createOrUpdateMount(DBUtilsCore.scala:1126)\n",
       "\tat com.databricks.backend.daemon.dbutils.DBUtilsCore.$anonfun$mount$1(DBUtilsCore.scala:1152)\n",
       "\tat com.databricks.logging.UsageLogging.$anonfun$recordOperation$1(UsageLogging.scala:573)\n",
       "\tat com.databricks.logging.UsageLogging.executeThunkAndCaptureResultTags$1(UsageLogging.scala:669)\n",
       "\tat com.databricks.logging.UsageLogging.$anonfun$recordOperationWithResultTags$4(UsageLogging.scala:687)\n",
       "\tat com.databricks.logging.UsageLogging.$anonfun$withAttributionContext$1(UsageLogging.scala:426)\n",
       "\tat scala.util.DynamicVariable.withValue(DynamicVariable.scala:62)\n",
       "\tat com.databricks.logging.AttributionContext$.withValue(AttributionContext.scala:216)\n",
       "\tat com.databricks.logging.UsageLogging.withAttributionContext(UsageLogging.scala:424)\n",
       "\tat com.databricks.logging.UsageLogging.withAttributionContext$(UsageLogging.scala:418)\n",
       "\tat com.databricks.backend.daemon.dbutils.FSUtils.withAttributionContext(DBUtilsCore.scala:73)\n",
       "\tat com.databricks.logging.UsageLogging.withAttributionTags(UsageLogging.scala:472)\n",
       "\tat com.databricks.logging.UsageLogging.withAttributionTags$(UsageLogging.scala:455)\n",
       "\tat com.databricks.backend.daemon.dbutils.FSUtils.withAttributionTags(DBUtilsCore.scala:73)\n",
       "\tat com.databricks.logging.UsageLogging.recordOperationWithResultTags(UsageLogging.scala:664)\n",
       "\tat com.databricks.logging.UsageLogging.recordOperationWithResultTags$(UsageLogging.scala:582)\n",
       "\tat com.databricks.backend.daemon.dbutils.FSUtils.recordOperationWithResultTags(DBUtilsCore.scala:73)\n",
       "\tat com.databricks.logging.UsageLogging.recordOperation(UsageLogging.scala:573)\n",
       "\tat com.databricks.logging.UsageLogging.recordOperation$(UsageLogging.scala:542)\n",
       "\tat com.databricks.backend.daemon.dbutils.FSUtils.recordOperation(DBUtilsCore.scala:73)\n",
       "\tat com.databricks.backend.daemon.dbutils.FSUtils.recordDbutilsFsOp(DBUtilsCore.scala:137)\n",
       "\tat com.databricks.backend.daemon.dbutils.DBUtilsCore.mount(DBUtilsCore.scala:1146)\n",
       "\tat sun.reflect.NativeMethodAccessorImpl.invoke0(Native Method)\n",
       "\tat sun.reflect.NativeMethodAccessorImpl.invoke(NativeMethodAccessorImpl.java:62)\n",
       "\tat sun.reflect.DelegatingMethodAccessorImpl.invoke(DelegatingMethodAccessorImpl.java:43)\n",
       "\tat java.lang.reflect.Method.invoke(Method.java:498)\n",
       "\tat py4j.reflection.MethodInvoker.invoke(MethodInvoker.java:244)\n",
       "\tat py4j.reflection.ReflectionEngine.invoke(ReflectionEngine.java:397)\n",
       "\tat py4j.Gateway.invoke(Gateway.java:306)\n",
       "\tat py4j.commands.AbstractCommand.invokeMethod(AbstractCommand.java:132)\n",
       "\tat py4j.commands.CallCommand.execute(CallCommand.java:79)\n",
       "\tat py4j.ClientServerConnection.waitForCommands(ClientServerConnection.java:199)\n",
       "\tat py4j.ClientServerConnection.run(ClientServerConnection.java:119)\n",
       "\tat java.lang.Thread.run(Thread.java:750)\n",
       "Caused by: java.lang.IllegalArgumentException: requirement failed: Directory already mounted: /mnt/Ben_data_mount\n",
       "\tat scala.Predef$.require(Predef.scala:281)\n",
       "\tat com.databricks.backend.daemon.data.server.DefaultMetadataManager.$anonfun$insertMount$1(MetadataManager.scala:810)\n",
       "\tat com.databricks.backend.daemon.data.server.DefaultMetadataManager.$anonfun$modifyAndVerify$2(MetadataManager.scala:1192)\n",
       "\tat scala.runtime.java8.JFunction0$mcV$sp.apply(JFunction0$mcV$sp.java:23)\n",
       "\tat com.databricks.backend.daemon.data.server.DefaultMetadataManager.withRetries(MetadataManager.scala:965)\n",
       "\tat com.databricks.backend.daemon.data.server.DefaultMetadataManager.modifyAndVerify(MetadataManager.scala:1181)\n",
       "\tat com.databricks.backend.daemon.data.server.DefaultMetadataManager.insertMount(MetadataManager.scala:818)\n",
       "\tat com.databricks.backend.daemon.data.server.handler.MountHandler.receive(MountHandler.scala:128)\n",
       "\tat com.databricks.backend.daemon.data.server.session.SessionContext.$anonfun$queryHandlers$1(SessionContext.scala:54)\n",
       "\tat com.databricks.backend.daemon.data.server.session.SessionContext.$anonfun$queryHandlers$1$adapted(SessionContext.scala:53)\n",
       "\tat scala.collection.immutable.List.foreach(List.scala:431)\n",
       "\tat com.databricks.backend.daemon.data.server.session.SessionContext.queryHandlers(SessionContext.scala:53)\n",
       "\tat com.databricks.backend.daemon.data.server.DbfsServerBackend$$anonfun$receive$4.$anonfun$applyOrElse$10(DbfsServerBackend.scala:462)\n",
       "\tat com.databricks.logging.AttributionContextTracing.$anonfun$withAttributionContext$1(AttributionContextTracing.scala:49)\n",
       "\tat com.databricks.logging.AttributionContext$.$anonfun$withValue$1(AttributionContext.scala:295)\n",
       "\tat scala.util.DynamicVariable.withValue(DynamicVariable.scala:62)\n",
       "\tat com.databricks.logging.AttributionContext$.withValue(AttributionContext.scala:291)\n",
       "\tat com.databricks.logging.AttributionContextTracing.withAttributionContext(AttributionContextTracing.scala:47)\n",
       "\tat com.databricks.logging.AttributionContextTracing.withAttributionContext$(AttributionContextTracing.scala:44)\n",
       "\tat com.databricks.rpc.ServerBackend.withAttributionContext(ServerBackend.scala:22)\n",
       "\tat com.databricks.logging.AttributionContextTracing.withAttributionTags(AttributionContextTracing.scala:96)\n",
       "\tat com.databricks.logging.AttributionContextTracing.withAttributionTags$(AttributionContextTracing.scala:77)\n",
       "\tat com.databricks.rpc.ServerBackend.withAttributionTags(ServerBackend.scala:22)\n",
       "\tat com.databricks.backend.daemon.data.server.DbfsServerBackend$$anonfun$receive$4.applyOrElse(DbfsServerBackend.scala:462)\n",
       "\tat com.databricks.backend.daemon.data.server.DbfsServerBackend$$anonfun$receive$4.applyOrElse(DbfsServerBackend.scala:355)\n",
       "\tat com.databricks.rpc.ServerBackend.$anonfun$internalReceive0$2(ServerBackend.scala:174)\n",
       "\tat com.databricks.rpc.ServerBackend$$anonfun$commonReceive$1.applyOrElse(ServerBackend.scala:200)\n",
       "\tat com.databricks.rpc.ServerBackend$$anonfun$commonReceive$1.applyOrElse(ServerBackend.scala:200)\n",
       "\tat com.databricks.rpc.ServerBackend.internalReceive0(ServerBackend.scala:171)\n",
       "\tat com.databricks.rpc.ServerBackend.$anonfun$internalReceive$1(ServerBackend.scala:147)\n",
       "\tat com.databricks.logging.UsageLogging.$anonfun$recordOperation$1(UsageLogging.scala:508)\n",
       "\tat com.databricks.logging.UsageLogging.executeThunkAndCaptureResultTags$1(UsageLogging.scala:613)\n",
       "\tat com.databricks.logging.UsageLogging.$anonfun$recordOperationWithResultTags$4(UsageLogging.scala:636)\n",
       "\tat com.databricks.logging.AttributionContextTracing.$anonfun$withAttributionContext$1(AttributionContextTracing.scala:49)\n",
       "\tat com.databricks.logging.AttributionContext$.$anonfun$withValue$1(AttributionContext.scala:295)\n",
       "\tat scala.util.DynamicVariable.withValue(DynamicVariable.scala:62)\n",
       "\tat com.databricks.logging.AttributionContext$.withValue(AttributionContext.scala:291)\n",
       "\tat com.databricks.logging.AttributionContextTracing.withAttributionContext(AttributionContextTracing.scala:47)\n",
       "\tat com.databricks.logging.AttributionContextTracing.withAttributionContext$(AttributionContextTracing.scala:44)\n",
       "\tat com.databricks.rpc.ServerBackend.withAttributionContext(ServerBackend.scala:22)\n",
       "\tat com.databricks.logging.AttributionContextTracing.withAttributionTags(AttributionContextTracing.scala:96)\n",
       "\tat com.databricks.logging.AttributionContextTracing.withAttributionTags$(AttributionContextTracing.scala:77)\n",
       "\tat com.databricks.rpc.ServerBackend.withAttributionTags(ServerBackend.scala:22)\n",
       "\tat com.databricks.logging.UsageLogging.recordOperationWithResultTags(UsageLogging.scala:608)\n",
       "\tat com.databricks.logging.UsageLogging.recordOperationWithResultTags$(UsageLogging.scala:517)\n",
       "\tat com.databricks.rpc.ServerBackend.recordOperationWithResultTags(ServerBackend.scala:22)\n",
       "\tat com.databricks.logging.UsageLogging.recordOperation(UsageLogging.scala:509)\n",
       "\tat com.databricks.logging.UsageLogging.recordOperation$(UsageLogging.scala:475)\n",
       "\tat com.databricks.rpc.ServerBackend.recordOperation(ServerBackend.scala:22)\n",
       "\tat com.databricks.rpc.ServerBackend.internalReceive(ServerBackend.scala:146)\n",
       "\tat com.databricks.rpc.JettyServer$RequestManager.handleRPC(JettyServer.scala:1032)\n",
       "\tat com.databricks.rpc.JettyServer$RequestManager.handleRequestAndRespond(JettyServer.scala:952)\n",
       "\tat com.databricks.rpc.JettyServer$RequestManager.$anonfun$handleHttp$6(JettyServer.scala:552)\n",
       "\tat com.databricks.rpc.JettyServer$RequestManager.$anonfun$handleHttp$6$adapted(JettyServer.scala:521)\n",
       "\tat com.databricks.logging.activity.ActivityContextFactory$.$anonfun$withActivityInternal$12(ActivityContextFactory.scala:766)\n",
       "\tat com.databricks.logging.AttributionContextTracing.$anonfun$withAttributionContext$1(AttributionContextTracing.scala:49)\n",
       "\tat com.databricks.logging.AttributionContext$.$anonfun$withValue$1(AttributionContext.scala:295)\n",
       "\tat scala.util.DynamicVariable.withValue(DynamicVariable.scala:62)\n",
       "\tat com.databricks.logging.AttributionContext$.withValue(AttributionContext.scala:291)\n",
       "\tat com.databricks.logging.AttributionContextTracing.withAttributionContext(AttributionContextTracing.scala:47)\n",
       "\tat com.databricks.logging.AttributionContextTracing.withAttributionContext$(AttributionContextTracing.scala:44)\n",
       "\tat com.databricks.logging.activity.ActivityContextFactory$.withAttributionContext(ActivityContextFactory.scala:46)\n",
       "\tat com.databricks.logging.activity.ActivityContextFactory$.$anonfun$withActivityInternal$2(ActivityContextFactory.scala:766)\n",
       "\tat com.databricks.context.integrity.IntegrityCheckContext$ThreadLocalStorage$.withValue(IntegrityCheckContext.scala:73)\n",
       "\tat com.databricks.logging.activity.ActivityContextFactory$.withActivityInternal(ActivityContextFactory.scala:729)\n",
       "\tat com.databricks.logging.activity.ActivityContextFactory$.withActivityInternal(ActivityContextFactory.scala:711)\n",
       "\tat com.databricks.logging.activity.ActivityContextFactory$.$anonfun$withServiceRequestActivity$16(ActivityContextFactory.scala:283)\n",
       "\tat com.databricks.logging.AttributionContextTracing.$anonfun$withAttributionContext$1(AttributionContextTracing.scala:49)\n",
       "\tat com.databricks.logging.AttributionContext$.$anonfun$withValue$1(AttributionContext.scala:295)\n",
       "\tat scala.util.DynamicVariable.withValue(DynamicVariable.scala:62)\n",
       "\tat com.databricks.logging.AttributionContext$.withValue(AttributionContext.scala:291)\n",
       "\tat com.databricks.logging.AttributionContextTracing.withAttributionContext(AttributionContextTracing.scala:47)\n",
       "\tat com.databricks.logging.AttributionContextTracing.withAttributionContext$(AttributionContextTracing.scala:44)\n",
       "\tat com.databricks.logging.activity.ActivityContextFactory$.withAttributionContext(ActivityContextFactory.scala:46)\n",
       "\tat com.databricks.logging.activity.ActivityContextFactory$.withServiceRequestActivity(ActivityContextFactory.scala:283)\n",
       "\tat com.databricks.rpc.JettyServer$RequestManager.handleHttp(JettyServer.scala:521)\n",
       "\tat com.databricks.rpc.JettyServer$RequestManager.doPost(JettyServer.scala:411)\n",
       "\tat javax.servlet.http.HttpServlet.service(HttpServlet.java:665)\n",
       "\tat com.databricks.rpc.HttpServletWithPatch.service(HttpServletWithPatch.scala:33)\n",
       "\tat javax.servlet.http.HttpServlet.service(HttpServlet.java:750)\n",
       "\tat org.eclipse.jetty.servlet.ServletHolder.handle(ServletHolder.java:799)\n",
       "\tat org.eclipse.jetty.servlet.ServletHandler.doHandle(ServletHandler.java:554)\n",
       "\tat org.eclipse.jetty.server.handler.ScopedHandler.nextScope(ScopedHandler.java:190)\n",
       "\tat org.eclipse.jetty.servlet.ServletHandler.doScope(ServletHandler.java:505)\n",
       "\tat org.eclipse.jetty.server.handler.ScopedHandler.handle(ScopedHandler.java:141)\n",
       "\tat org.eclipse.jetty.server.handler.HandlerWrapper.handle(HandlerWrapper.java:127)\n",
       "\tat org.eclipse.jetty.server.Server.handle(Server.java:516)\n",
       "\tat org.eclipse.jetty.server.HttpChannel.lambda$handle$1(HttpChannel.java:487)\n",
       "\tat org.eclipse.jetty.server.HttpChannel.dispatch(HttpChannel.java:732)\n",
       "\tat org.eclipse.jetty.server.HttpChannel.handle(HttpChannel.java:479)\n",
       "\tat org.eclipse.jetty.server.HttpConnection.onFillable(HttpConnection.java:277)\n",
       "\tat org.eclipse.jetty.io.AbstractConnection$ReadCallback.succeeded(AbstractConnection.java:311)\n",
       "\tat org.eclipse.jetty.io.FillInterest.fillable(FillInterest.java:105)\n",
       "\tat org.eclipse.jetty.io.ChannelEndPoint$1.run(ChannelEndPoint.java:104)\n",
       "\tat org.eclipse.jetty.util.thread.strategy.EatWhatYouKill.runTask(EatWhatYouKill.java:338)\n",
       "\tat org.eclipse.jetty.util.thread.strategy.EatWhatYouKill.doProduce(EatWhatYouKill.java:315)\n",
       "\tat org.eclipse.jetty.util.thread.strategy.EatWhatYouKill.tryProduce(EatWhatYouKill.java:173)\n",
       "\tat org.eclipse.jetty.util.thread.strategy.EatWhatYouKill.run(EatWhatYouKill.java:131)\n",
       "\tat org.eclipse.jetty.util.thread.ReservedThreadExecutor$ReservedThread.run(ReservedThreadExecutor.java:409)\n",
       "\tat com.databricks.rpc.InstrumentedQueuedThreadPool$$anon$1.$anonfun$run$2(InstrumentedQueuedThreadPool.scala:110)\n",
       "\tat scala.runtime.java8.JFunction0$mcV$sp.apply(JFunction0$mcV$sp.java:23)\n",
       "\tat com.databricks.logging.AttributionContextTracing.$anonfun$withAttributionContext$1(AttributionContextTracing.scala:49)\n",
       "\tat com.databricks.logging.AttributionContext$.$anonfun$withValue$1(AttributionContext.scala:295)\n",
       "\tat scala.util.DynamicVariable.withValue(DynamicVariable.scala:62)\n",
       "\tat com.databricks.logging.AttributionContext$.withValue(AttributionContext.scala:291)\n",
       "\tat com.databricks.logging.AttributionContextTracing.withAttributionContext(AttributionContextTracing.scala:47)\n",
       "\tat com.databricks.logging.AttributionContextTracing.withAttributionContext$(AttributionContextTracing.scala:44)\n",
       "\tat com.databricks.rpc.InstrumentedQueuedThreadPool.withAttributionContext(InstrumentedQueuedThreadPool.scala:45)\n",
       "\tat com.databricks.rpc.InstrumentedQueuedThreadPool$$anon$1.$anonfun$run$1(InstrumentedQueuedThreadPool.scala:110)\n",
       "\tat scala.runtime.java8.JFunction0$mcV$sp.apply(JFunction0$mcV$sp.java:23)\n",
       "\tat com.databricks.instrumentation.QueuedThreadPoolInstrumenter.trackActiveThreads(QueuedThreadPoolInstrumenter.scala:126)\n",
       "\tat com.databricks.instrumentation.QueuedThreadPoolInstrumenter.trackActiveThreads$(QueuedThreadPoolInstrumenter.scala:123)\n",
       "\tat com.databricks.rpc.InstrumentedQueuedThreadPool.trackActiveThreads(InstrumentedQueuedThreadPool.scala:45)\n",
       "\tat com.databricks.rpc.InstrumentedQueuedThreadPool$$anon$1.run(InstrumentedQueuedThreadPool.scala:92)\n",
       "\tat org.eclipse.jetty.util.thread.QueuedThreadPool.runJob(QueuedThreadPool.java:883)\n",
       "\tat org.eclipse.jetty.util.thread.QueuedThreadPool$Runner.run(QueuedThreadPool.java:1034)\n",
       "\tat java.lang.Thread.run(Thread.java:840)\n"
      ]
     },
     "metadata": {
      "application/vnd.databricks.v1+output": {
       "addedWidgets": {},
       "arguments": {},
       "datasetInfos": [],
       "jupyterProps": {
        "ename": "ExecutionError",
        "evalue": "An error occurred while calling o420.mount.\n: java.rmi.RemoteException: java.lang.IllegalArgumentException: requirement failed: Directory already mounted: /mnt/Ben_data_mount; nested exception is: \n\tjava.lang.IllegalArgumentException: requirement failed: Directory already mounted: /mnt/Ben_data_mount\n\tat com.databricks.backend.daemon.data.client.DbfsClient.send0(DbfsClient.scala:141)\n\tat com.databricks.backend.daemon.data.client.DbfsClient.sendIdempotent(DbfsClient.scala:70)\n\tat com.databricks.backend.daemon.dbutils.DBUtilsCore.createOrUpdateMount(DBUtilsCore.scala:1126)\n\tat com.databricks.backend.daemon.dbutils.DBUtilsCore.$anonfun$mount$1(DBUtilsCore.scala:1152)\n\tat com.databricks.logging.UsageLogging.$anonfun$recordOperation$1(UsageLogging.scala:573)\n\tat com.databricks.logging.UsageLogging.executeThunkAndCaptureResultTags$1(UsageLogging.scala:669)\n\tat com.databricks.logging.UsageLogging.$anonfun$recordOperationWithResultTags$4(UsageLogging.scala:687)\n\tat com.databricks.logging.UsageLogging.$anonfun$withAttributionContext$1(UsageLogging.scala:426)\n\tat scala.util.DynamicVariable.withValue(DynamicVariable.scala:62)\n\tat com.databricks.logging.AttributionContext$.withValue(AttributionContext.scala:216)\n\tat com.databricks.logging.UsageLogging.withAttributionContext(UsageLogging.scala:424)\n\tat com.databricks.logging.UsageLogging.withAttributionContext$(UsageLogging.scala:418)\n\tat com.databricks.backend.daemon.dbutils.FSUtils.withAttributionContext(DBUtilsCore.scala:73)\n\tat com.databricks.logging.UsageLogging.withAttributionTags(UsageLogging.scala:472)\n\tat com.databricks.logging.UsageLogging.withAttributionTags$(UsageLogging.scala:455)\n\tat com.databricks.backend.daemon.dbutils.FSUtils.withAttributionTags(DBUtilsCore.scala:73)\n\tat com.databricks.logging.UsageLogging.recordOperationWithResultTags(UsageLogging.scala:664)\n\tat com.databricks.logging.UsageLogging.recordOperationWithResultTags$(UsageLogging.scala:582)\n\tat com.databricks.backend.daemon.dbutils.FSUtils.recordOperationWithResultTags(DBUtilsCore.scala:73)\n\tat com.databricks.logging.UsageLogging.recordOperation(UsageLogging.scala:573)\n\tat com.databricks.logging.UsageLogging.recordOperation$(UsageLogging.scala:542)\n\tat com.databricks.backend.daemon.dbutils.FSUtils.recordOperation(DBUtilsCore.scala:73)\n\tat com.databricks.backend.daemon.dbutils.FSUtils.recordDbutilsFsOp(DBUtilsCore.scala:137)\n\tat com.databricks.backend.daemon.dbutils.DBUtilsCore.mount(DBUtilsCore.scala:1146)\n\tat sun.reflect.NativeMethodAccessorImpl.invoke0(Native Method)\n\tat sun.reflect.NativeMethodAccessorImpl.invoke(NativeMethodAccessorImpl.java:62)\n\tat sun.reflect.DelegatingMethodAccessorImpl.invoke(DelegatingMethodAccessorImpl.java:43)\n\tat java.lang.reflect.Method.invoke(Method.java:498)\n\tat py4j.reflection.MethodInvoker.invoke(MethodInvoker.java:244)\n\tat py4j.reflection.ReflectionEngine.invoke(ReflectionEngine.java:397)\n\tat py4j.Gateway.invoke(Gateway.java:306)\n\tat py4j.commands.AbstractCommand.invokeMethod(AbstractCommand.java:132)\n\tat py4j.commands.CallCommand.execute(CallCommand.java:79)\n\tat py4j.ClientServerConnection.waitForCommands(ClientServerConnection.java:199)\n\tat py4j.ClientServerConnection.run(ClientServerConnection.java:119)\n\tat java.lang.Thread.run(Thread.java:750)\nCaused by: java.lang.IllegalArgumentException: requirement failed: Directory already mounted: /mnt/Ben_data_mount\n\tat scala.Predef$.require(Predef.scala:281)\n\tat com.databricks.backend.daemon.data.server.DefaultMetadataManager.$anonfun$insertMount$1(MetadataManager.scala:810)\n\tat com.databricks.backend.daemon.data.server.DefaultMetadataManager.$anonfun$modifyAndVerify$2(MetadataManager.scala:1192)\n\tat scala.runtime.java8.JFunction0$mcV$sp.apply(JFunction0$mcV$sp.java:23)\n\tat com.databricks.backend.daemon.data.server.DefaultMetadataManager.withRetries(MetadataManager.scala:965)\n\tat com.databricks.backend.daemon.data.server.DefaultMetadataManager.modifyAndVerify(MetadataManager.scala:1181)\n\tat com.databricks.backend.daemon.data.server.DefaultMetadataManager.insertMount(MetadataManager.scala:818)\n\tat com.databricks.backend.daemon.data.server.handler.MountHandler.receive(MountHandler.scala:128)\n\tat com.databricks.backend.daemon.data.server.session.SessionContext.$anonfun$queryHandlers$1(SessionContext.scala:54)\n\tat com.databricks.backend.daemon.data.server.session.SessionContext.$anonfun$queryHandlers$1$adapted(SessionContext.scala:53)\n\tat scala.collection.immutable.List.foreach(List.scala:431)\n\tat com.databricks.backend.daemon.data.server.session.SessionContext.queryHandlers(SessionContext.scala:53)\n\tat com.databricks.backend.daemon.data.server.DbfsServerBackend$$anonfun$receive$4.$anonfun$applyOrElse$10(DbfsServerBackend.scala:462)\n\tat com.databricks.logging.AttributionContextTracing.$anonfun$withAttributionContext$1(AttributionContextTracing.scala:49)\n\tat com.databricks.logging.AttributionContext$.$anonfun$withValue$1(AttributionContext.scala:295)\n\tat scala.util.DynamicVariable.withValue(DynamicVariable.scala:62)\n\tat com.databricks.logging.AttributionContext$.withValue(AttributionContext.scala:291)\n\tat com.databricks.logging.AttributionContextTracing.withAttributionContext(AttributionContextTracing.scala:47)\n\tat com.databricks.logging.AttributionContextTracing.withAttributionContext$(AttributionContextTracing.scala:44)\n\tat com.databricks.rpc.ServerBackend.withAttributionContext(ServerBackend.scala:22)\n\tat com.databricks.logging.AttributionContextTracing.withAttributionTags(AttributionContextTracing.scala:96)\n\tat com.databricks.logging.AttributionContextTracing.withAttributionTags$(AttributionContextTracing.scala:77)\n\tat com.databricks.rpc.ServerBackend.withAttributionTags(ServerBackend.scala:22)\n\tat com.databricks.backend.daemon.data.server.DbfsServerBackend$$anonfun$receive$4.applyOrElse(DbfsServerBackend.scala:462)\n\tat com.databricks.backend.daemon.data.server.DbfsServerBackend$$anonfun$receive$4.applyOrElse(DbfsServerBackend.scala:355)\n\tat com.databricks.rpc.ServerBackend.$anonfun$internalReceive0$2(ServerBackend.scala:174)\n\tat com.databricks.rpc.ServerBackend$$anonfun$commonReceive$1.applyOrElse(ServerBackend.scala:200)\n\tat com.databricks.rpc.ServerBackend$$anonfun$commonReceive$1.applyOrElse(ServerBackend.scala:200)\n\tat com.databricks.rpc.ServerBackend.internalReceive0(ServerBackend.scala:171)\n\tat com.databricks.rpc.ServerBackend.$anonfun$internalReceive$1(ServerBackend.scala:147)\n\tat com.databricks.logging.UsageLogging.$anonfun$recordOperation$1(UsageLogging.scala:508)\n\tat com.databricks.logging.UsageLogging.executeThunkAndCaptureResultTags$1(UsageLogging.scala:613)\n\tat com.databricks.logging.UsageLogging.$anonfun$recordOperationWithResultTags$4(UsageLogging.scala:636)\n\tat com.databricks.logging.AttributionContextTracing.$anonfun$withAttributionContext$1(AttributionContextTracing.scala:49)\n\tat com.databricks.logging.AttributionContext$.$anonfun$withValue$1(AttributionContext.scala:295)\n\tat scala.util.DynamicVariable.withValue(DynamicVariable.scala:62)\n\tat com.databricks.logging.AttributionContext$.withValue(AttributionContext.scala:291)\n\tat com.databricks.logging.AttributionContextTracing.withAttributionContext(AttributionContextTracing.scala:47)\n\tat com.databricks.logging.AttributionContextTracing.withAttributionContext$(AttributionContextTracing.scala:44)\n\tat com.databricks.rpc.ServerBackend.withAttributionContext(ServerBackend.scala:22)\n\tat com.databricks.logging.AttributionContextTracing.withAttributionTags(AttributionContextTracing.scala:96)\n\tat com.databricks.logging.AttributionContextTracing.withAttributionTags$(AttributionContextTracing.scala:77)\n\tat com.databricks.rpc.ServerBackend.withAttributionTags(ServerBackend.scala:22)\n\tat com.databricks.logging.UsageLogging.recordOperationWithResultTags(UsageLogging.scala:608)\n\tat com.databricks.logging.UsageLogging.recordOperationWithResultTags$(UsageLogging.scala:517)\n\tat com.databricks.rpc.ServerBackend.recordOperationWithResultTags(ServerBackend.scala:22)\n\tat com.databricks.logging.UsageLogging.recordOperation(UsageLogging.scala:509)\n\tat com.databricks.logging.UsageLogging.recordOperation$(UsageLogging.scala:475)\n\tat com.databricks.rpc.ServerBackend.recordOperation(ServerBackend.scala:22)\n\tat com.databricks.rpc.ServerBackend.internalReceive(ServerBackend.scala:146)\n\tat com.databricks.rpc.JettyServer$RequestManager.handleRPC(JettyServer.scala:1032)\n\tat com.databricks.rpc.JettyServer$RequestManager.handleRequestAndRespond(JettyServer.scala:952)\n\tat com.databricks.rpc.JettyServer$RequestManager.$anonfun$handleHttp$6(JettyServer.scala:552)\n\tat com.databricks.rpc.JettyServer$RequestManager.$anonfun$handleHttp$6$adapted(JettyServer.scala:521)\n\tat com.databricks.logging.activity.ActivityContextFactory$.$anonfun$withActivityInternal$12(ActivityContextFactory.scala:766)\n\tat com.databricks.logging.AttributionContextTracing.$anonfun$withAttributionContext$1(AttributionContextTracing.scala:49)\n\tat com.databricks.logging.AttributionContext$.$anonfun$withValue$1(AttributionContext.scala:295)\n\tat scala.util.DynamicVariable.withValue(DynamicVariable.scala:62)\n\tat com.databricks.logging.AttributionContext$.withValue(AttributionContext.scala:291)\n\tat com.databricks.logging.AttributionContextTracing.withAttributionContext(AttributionContextTracing.scala:47)\n\tat com.databricks.logging.AttributionContextTracing.withAttributionContext$(AttributionContextTracing.scala:44)\n\tat com.databricks.logging.activity.ActivityContextFactory$.withAttributionContext(ActivityContextFactory.scala:46)\n\tat com.databricks.logging.activity.ActivityContextFactory$.$anonfun$withActivityInternal$2(ActivityContextFactory.scala:766)\n\tat com.databricks.context.integrity.IntegrityCheckContext$ThreadLocalStorage$.withValue(IntegrityCheckContext.scala:73)\n\tat com.databricks.logging.activity.ActivityContextFactory$.withActivityInternal(ActivityContextFactory.scala:729)\n\tat com.databricks.logging.activity.ActivityContextFactory$.withActivityInternal(ActivityContextFactory.scala:711)\n\tat com.databricks.logging.activity.ActivityContextFactory$.$anonfun$withServiceRequestActivity$16(ActivityContextFactory.scala:283)\n\tat com.databricks.logging.AttributionContextTracing.$anonfun$withAttributionContext$1(AttributionContextTracing.scala:49)\n\tat com.databricks.logging.AttributionContext$.$anonfun$withValue$1(AttributionContext.scala:295)\n\tat scala.util.DynamicVariable.withValue(DynamicVariable.scala:62)\n\tat com.databricks.logging.AttributionContext$.withValue(AttributionContext.scala:291)\n\tat com.databricks.logging.AttributionContextTracing.withAttributionContext(AttributionContextTracing.scala:47)\n\tat com.databricks.logging.AttributionContextTracing.withAttributionContext$(AttributionContextTracing.scala:44)\n\tat com.databricks.logging.activity.ActivityContextFactory$.withAttributionContext(ActivityContextFactory.scala:46)\n\tat com.databricks.logging.activity.ActivityContextFactory$.withServiceRequestActivity(ActivityContextFactory.scala:283)\n\tat com.databricks.rpc.JettyServer$RequestManager.handleHttp(JettyServer.scala:521)\n\tat com.databricks.rpc.JettyServer$RequestManager.doPost(JettyServer.scala:411)\n\tat javax.servlet.http.HttpServlet.service(HttpServlet.java:665)\n\tat com.databricks.rpc.HttpServletWithPatch.service(HttpServletWithPatch.scala:33)\n\tat javax.servlet.http.HttpServlet.service(HttpServlet.java:750)\n\tat org.eclipse.jetty.servlet.ServletHolder.handle(ServletHolder.java:799)\n\tat org.eclipse.jetty.servlet.ServletHandler.doHandle(ServletHandler.java:554)\n\tat org.eclipse.jetty.server.handler.ScopedHandler.nextScope(ScopedHandler.java:190)\n\tat org.eclipse.jetty.servlet.ServletHandler.doScope(ServletHandler.java:505)\n\tat org.eclipse.jetty.server.handler.ScopedHandler.handle(ScopedHandler.java:141)\n\tat org.eclipse.jetty.server.handler.HandlerWrapper.handle(HandlerWrapper.java:127)\n\tat org.eclipse.jetty.server.Server.handle(Server.java:516)\n\tat org.eclipse.jetty.server.HttpChannel.lambda$handle$1(HttpChannel.java:487)\n\tat org.eclipse.jetty.server.HttpChannel.dispatch(HttpChannel.java:732)\n\tat org.eclipse.jetty.server.HttpChannel.handle(HttpChannel.java:479)\n\tat org.eclipse.jetty.server.HttpConnection.onFillable(HttpConnection.java:277)\n\tat org.eclipse.jetty.io.AbstractConnection$ReadCallback.succeeded(AbstractConnection.java:311)\n\tat org.eclipse.jetty.io.FillInterest.fillable(FillInterest.java:105)\n\tat org.eclipse.jetty.io.ChannelEndPoint$1.run(ChannelEndPoint.java:104)\n\tat org.eclipse.jetty.util.thread.strategy.EatWhatYouKill.runTask(EatWhatYouKill.java:338)\n\tat org.eclipse.jetty.util.thread.strategy.EatWhatYouKill.doProduce(EatWhatYouKill.java:315)\n\tat org.eclipse.jetty.util.thread.strategy.EatWhatYouKill.tryProduce(EatWhatYouKill.java:173)\n\tat org.eclipse.jetty.util.thread.strategy.EatWhatYouKill.run(EatWhatYouKill.java:131)\n\tat org.eclipse.jetty.util.thread.ReservedThreadExecutor$ReservedThread.run(ReservedThreadExecutor.java:409)\n\tat com.databricks.rpc.InstrumentedQueuedThreadPool$$anon$1.$anonfun$run$2(InstrumentedQueuedThreadPool.scala:110)\n\tat scala.runtime.java8.JFunction0$mcV$sp.apply(JFunction0$mcV$sp.java:23)\n\tat com.databricks.logging.AttributionContextTracing.$anonfun$withAttributionContext$1(AttributionContextTracing.scala:49)\n\tat com.databricks.logging.AttributionContext$.$anonfun$withValue$1(AttributionContext.scala:295)\n\tat scala.util.DynamicVariable.withValue(DynamicVariable.scala:62)\n\tat com.databricks.logging.AttributionContext$.withValue(AttributionContext.scala:291)\n\tat com.databricks.logging.AttributionContextTracing.withAttributionContext(AttributionContextTracing.scala:47)\n\tat com.databricks.logging.AttributionContextTracing.withAttributionContext$(AttributionContextTracing.scala:44)\n\tat com.databricks.rpc.InstrumentedQueuedThreadPool.withAttributionContext(InstrumentedQueuedThreadPool.scala:45)\n\tat com.databricks.rpc.InstrumentedQueuedThreadPool$$anon$1.$anonfun$run$1(InstrumentedQueuedThreadPool.scala:110)\n\tat scala.runtime.java8.JFunction0$mcV$sp.apply(JFunction0$mcV$sp.java:23)\n\tat com.databricks.instrumentation.QueuedThreadPoolInstrumenter.trackActiveThreads(QueuedThreadPoolInstrumenter.scala:126)\n\tat com.databricks.instrumentation.QueuedThreadPoolInstrumenter.trackActiveThreads$(QueuedThreadPoolInstrumenter.scala:123)\n\tat com.databricks.rpc.InstrumentedQueuedThreadPool.trackActiveThreads(InstrumentedQueuedThreadPool.scala:45)\n\tat com.databricks.rpc.InstrumentedQueuedThreadPool$$anon$1.run(InstrumentedQueuedThreadPool.scala:92)\n\tat org.eclipse.jetty.util.thread.QueuedThreadPool.runJob(QueuedThreadPool.java:883)\n\tat org.eclipse.jetty.util.thread.QueuedThreadPool$Runner.run(QueuedThreadPool.java:1034)\n\tat java.lang.Thread.run(Thread.java:840)\n"
       },
       "metadata": {
        "errorSummary": "<span class='ansi-red-fg'>ExecutionError</span>: An error occurred while calling o420.mount.\n: java.rmi.RemoteException: java.lang.IllegalArgumentException: requirement failed: Directory already mounted: /mnt/Ben_data_mount; nested exception is: \n\tjava.lang.IllegalArgumentException: requirement failed: Directory already mounted: /mnt/Ben_data_mount\n\tat com.databricks.backend.daemon.data.client.DbfsClient.send0(DbfsClient.scala:141)\n\tat com.databricks.backend.daemon.data.client.DbfsClient.sendIdempotent(DbfsClient.scala:70)\n\tat com.databricks.backend.daemon.dbutils.DBUtilsCore.createOrUpdateMount(DBUtilsCore.scala:1126)\n\tat com.databricks.backend.daemon.dbutils.DBUtilsCore.$anonfun$mount$1(DBUtilsCore.scala:1152)\n\tat com.databricks.logging.UsageLogging.$anonfun$recordOperation$1(UsageLogging.scala:573)\n\tat com.databricks.logging.UsageLogging.executeThunkAndCaptureResultTags$1(UsageLogging.scala:669)\n\tat com.databricks.logging.UsageLogging.$anonfun$recordOperationWithResultTags$4(UsageLogging.scala:687)\n\tat com.databricks.logging.UsageLogging.$anonfun$withAttributionContext$1(UsageLogging.scala:426)\n\tat scala.util.DynamicVariable.withValue(DynamicVariable.scala:62)\n\tat com.databricks.logging.AttributionContext$.withValue(AttributionContext.scala:216)\n\tat com.databricks.logging.UsageLogging.withAttributionContext(UsageLogging.scala:424)\n\tat com.databricks.logging.UsageLogging.withAttributionContext$(UsageLogging.scala:418)\n\tat com.databricks.backend.daemon.dbutils.FSUtils.withAttributionContext(DBUtilsCore.scala:73)\n\tat com.databricks.logging.UsageLogging.withAttributionTags(UsageLogging.scala:472)\n\tat com.databricks.logging.UsageLogging.withAttributionTags$(UsageLogging.scala:455)\n\tat com.databricks.backend.daemon.dbutils.FSUtils.withAttributionTags(DBUtilsCore.scala:73)\n\tat com.databricks.logging.UsageLogging.recordOperationWithResultTags(UsageLogging.scala:664)\n\tat com.databricks.logging.UsageLogging.recordOperationWithResultTags$(UsageLogging.scala:582)\n\tat com.databricks.backend.daemon.dbutils.FSUtils.recordOperationWithResultTags(DBUtilsCore.scala:73)\n\tat com.databricks.logging.UsageLogging.recordOperation(UsageLogging.scala:573)\n\tat com.databricks.logging.UsageLogging.recordOperation$(UsageLogging.scala:542)\n\tat com.databricks.backend.daemon.dbutils.FSUtils.recordOperation(DBUtilsCore.scala:73)\n\tat com.databricks.backend.daemon.dbutils.FSUtils.recordDbutilsFsOp(DBUtilsCore.scala:137)\n\tat com.databricks.backend.daemon.dbutils.DBUtilsCore.mount(DBUtilsCore.scala:1146)\n\tat sun.reflect.NativeMethodAccessorImpl.invoke0(Native Method)\n\tat sun.reflect.NativeMethodAccessorImpl.invoke(NativeMethodAccessorImpl.java:62)\n\tat sun.reflect.DelegatingMethodAccessorImpl.invoke(DelegatingMethodAccessorImpl.java:43)\n\tat java.lang.reflect.Method.invoke(Method.java:498)\n\tat py4j.reflection.MethodInvoker.invoke(MethodInvoker.java:244)\n\tat py4j.reflection.ReflectionEngine.invoke(ReflectionEngine.java:397)\n\tat py4j.Gateway.invoke(Gateway.java:306)\n\tat py4j.commands.AbstractCommand.invokeMethod(AbstractCommand.java:132)\n\tat py4j.commands.CallCommand.execute(CallCommand.java:79)\n\tat py4j.ClientServerConnection.waitForCommands(ClientServerConnection.java:199)\n\tat py4j.ClientServerConnection.run(ClientServerConnection.java:119)\n\tat java.lang.Thread.run(Thread.java:750)\nCaused by: java.lang.IllegalArgumentException: requirement failed: Directory already mounted: /mnt/Ben_data_mount\n\tat scala.Predef$.require(Predef.scala:281)\n\tat com.databricks.backend.daemon.data.server.DefaultMetadataManager.$anonfun$insertMount$1(MetadataManager.scala:810)\n\tat com.databricks.backend.daemon.data.server.DefaultMetadataManager.$anonfun$modifyAndVerify$2(MetadataManager.scala:1192)\n\tat scala.runtime.java8.JFunction0$mcV$sp.apply(JFunction0$mcV$sp.java:23)\n\tat com.databricks.backend.daemon.data.server.DefaultMetadataManager.withRetries(MetadataManager.scala:965)\n\tat com.databricks.backend.daemon.data.server.DefaultMetadataManager.modifyAndVerify(MetadataManager.scala:1181)\n\tat com.databricks.backend.daemon.data.server.DefaultMetadataManager.insertMount(MetadataManager.scala:818)\n\tat com.databricks.backend.daemon.data.server.handler.MountHandler.receive(MountHandler.scala:128)\n\tat com.databricks.backend.daemon.data.server.session.SessionContext.$anonfun$queryHandlers$1(SessionContext.scala:54)\n\tat com.databricks.backend.daemon.data.server.session.SessionContext.$anonfun$queryHandlers$1$adapted(SessionContext.scala:53)\n\tat scala.collection.immutable.List.foreach(List.scala:431)\n\tat com.databricks.backend.daemon.data.server.session.SessionContext.queryHandlers(SessionContext.scala:53)\n\tat com.databricks.backend.daemon.data.server.DbfsServerBackend$$anonfun$receive$4.$anonfun$applyOrElse$10(DbfsServerBackend.scala:462)\n\tat com.databricks.logging.AttributionContextTracing.$anonfun$withAttributionContext$1(AttributionContextTracing.scala:49)\n\tat com.databricks.logging.AttributionContext$.$anonfun$withValue$1(AttributionContext.scala:295)\n\tat scala.util.DynamicVariable.withValue(DynamicVariable.scala:62)\n\tat com.databricks.logging.AttributionContext$.withValue(AttributionContext.scala:291)\n\tat com.databricks.logging.AttributionContextTracing.withAttributionContext(AttributionContextTracing.scala:47)\n\tat com.databricks.logging.AttributionContextTracing.withAttributionContext$(AttributionContextTracing.scala:44)\n\tat com.databricks.rpc.ServerBackend.withAttributionContext(ServerBackend.scala:22)\n\tat com.databricks.logging.AttributionContextTracing.withAttributionTags(AttributionContextTracing.scala:96)\n\tat com.databricks.logging.AttributionContextTracing.withAttributionTags$(AttributionContextTracing.scala:77)\n\tat com.databricks.rpc.ServerBackend.withAttributionTags(ServerBackend.scala:22)\n\tat com.databricks.backend.daemon.data.server.DbfsServerBackend$$anonfun$receive$4.applyOrElse(DbfsServerBackend.scala:462)\n\tat com.databricks.backend.daemon.data.server.DbfsServerBackend$$anonfun$receive$4.applyOrElse(DbfsServerBackend.scala:355)\n\tat com.databricks.rpc.ServerBackend.$anonfun$internalReceive0$2(ServerBackend.scala:174)\n\tat com.databricks.rpc.ServerBackend$$anonfun$commonReceive$1.applyOrElse(ServerBackend.scala:200)\n\tat com.databricks.rpc.ServerBackend$$anonfun$commonReceive$1.applyOrElse(ServerBackend.scala:200)\n\tat com.databricks.rpc.ServerBackend.internalReceive0(ServerBackend.scala:171)\n\tat com.databricks.rpc.ServerBackend.$anonfun$internalReceive$1(ServerBackend.scala:147)\n\tat com.databricks.logging.UsageLogging.$anonfun$recordOperation$1(UsageLogging.scala:508)\n\tat com.databricks.logging.UsageLogging.executeThunkAndCaptureResultTags$1(UsageLogging.scala:613)\n\tat com.databricks.logging.UsageLogging.$anonfun$recordOperationWithResultTags$4(UsageLogging.scala:636)\n\tat com.databricks.logging.AttributionContextTracing.$anonfun$withAttributionContext$1(AttributionContextTracing.scala:49)\n\tat com.databricks.logging.AttributionContext$.$anonfun$withValue$1(AttributionContext.scala:295)\n\tat scala.util.DynamicVariable.withValue(DynamicVariable.scala:62)\n\tat com.databricks.logging.AttributionContext$.withValue(AttributionContext.scala:291)\n\tat com.databricks.logging.AttributionContextTracing.withAttributionContext(AttributionContextTracing.scala:47)\n\tat com.databricks.logging.AttributionContextTracing.withAttributionContext$(AttributionContextTracing.scala:44)\n\tat com.databricks.rpc.ServerBackend.withAttributionContext(ServerBackend.scala:22)\n\tat com.databricks.logging.AttributionContextTracing.withAttributionTags(AttributionContextTracing.scala:96)\n\tat com.databricks.logging.AttributionContextTracing.withAttributionTags$(AttributionContextTracing.scala:77)\n\tat com.databricks.rpc.ServerBackend.withAttributionTags(ServerBackend.scala:22)\n\tat com.databricks.logging.UsageLogging.recordOperationWithResultTags(UsageLogging.scala:608)\n\tat com.databricks.logging.UsageLogging.recordOperationWithResultTags$(UsageLogging.scala:517)\n\tat com.databricks.rpc.ServerBackend.recordOperationWithResultTags(ServerBackend.scala:22)\n\tat com.databricks.logging.UsageLogging.recordOperation(UsageLogging.scala:509)\n\tat com.databricks.logging.UsageLogging.recordOperation$(UsageLogging.scala:475)\n\tat com.databricks.rpc.ServerBackend.recordOperation(ServerBackend.scala:22)\n\tat com.databricks.rpc.ServerBackend.internalReceive(ServerBackend.scala:146)\n\tat com.databricks.rpc.JettyServer$RequestManager.handleRPC(JettyServer.scala:1032)\n\tat com.databricks.rpc.JettyServer$RequestManager.handleRequestAndRespond(JettyServer.scala:952)\n\tat com.databricks.rpc.JettyServer$RequestManager.$anonfun$handleHttp$6(JettyServer.scala:552)\n\tat com.databricks.rpc.JettyServer$RequestManager.$anonfun$handleHttp$6$adapted(JettyServer.scala:521)\n\tat com.databricks.logging.activity.ActivityContextFactory$.$anonfun$withActivityInternal$12(ActivityContextFactory.scala:766)\n\tat com.databricks.logging.AttributionContextTracing.$anonfun$withAttributionContext$1(AttributionContextTracing.scala:49)\n\tat com.databricks.logging.AttributionContext$.$anonfun$withValue$1(AttributionContext.scala:295)\n\tat scala.util.DynamicVariable.withValue(DynamicVariable.scala:62)\n\tat com.databricks.logging.AttributionContext$.withValue(AttributionContext.scala:291)\n\tat com.databricks.logging.AttributionContextTracing.withAttributionContext(AttributionContextTracing.scala:47)\n\tat com.databricks.logging.AttributionContextTracing.withAttributionContext$(AttributionContextTracing.scala:44)\n\tat com.databricks.logging.activity.ActivityContextFactory$.withAttributionContext(ActivityContextFactory.scala:46)\n\tat com.databricks.logging.activity.ActivityContextFactory$.$anonfun$withActivityInternal$2(ActivityContextFactory.scala:766)\n\tat com.databricks.context.integrity.IntegrityCheckContext$ThreadLocalStorage$.withValue(IntegrityCheckContext.scala:73)\n\tat com.databricks.logging.activity.ActivityContextFactory$.withActivityInternal(ActivityContextFactory.scala:729)\n\tat com.databricks.logging.activity.ActivityContextFactory$.withActivityInternal(ActivityContextFactory.scala:711)\n\tat com.databricks.logging.activity.ActivityContextFactory$.$anonfun$withServiceRequestActivity$16(ActivityContextFactory.scala:283)\n\tat com.databricks.logging.AttributionContextTracing.$anonfun$withAttributionContext$1(AttributionContextTracing.scala:49)\n\tat com.databricks.logging.AttributionContext$.$anonfun$withValue$1(AttributionContext.scala:295)\n\tat scala.util.DynamicVariable.withValue(DynamicVariable.scala:62)\n\tat com.databricks.logging.AttributionContext$.withValue(AttributionContext.scala:291)\n\tat com.databricks.logging.AttributionContextTracing.withAttributionContext(AttributionContextTracing.scala:47)\n\tat com.databricks.logging.AttributionContextTracing.withAttributionContext$(AttributionContextTracing.scala:44)\n\tat com.databricks.logging.activity.ActivityContextFactory$.withAttributionContext(ActivityContextFactory.scala:46)\n\tat com.databricks.logging.activity.ActivityContextFactory$.withServiceRequestActivity(ActivityContextFactory.scala:283)\n\tat com.databricks.rpc.JettyServer$RequestManager.handleHttp(JettyServer.scala:521)\n\tat com.databricks.rpc.JettyServer$RequestManager.doPost(JettyServer.scala:411)\n\tat javax.servlet.http.HttpServlet.service(HttpServlet.java:665)\n\tat com.databricks.rpc.HttpServletWithPatch.service(HttpServletWithPatch.scala:33)\n\tat javax.servlet.http.HttpServlet.service(HttpServlet.java:750)\n\tat org.eclipse.jetty.servlet.ServletHolder.handle(ServletHolder.java:799)\n\tat org.eclipse.jetty.servlet.ServletHandler.doHandle(ServletHandler.java:554)\n\tat org.eclipse.jetty.server.handler.ScopedHandler.nextScope(ScopedHandler.java:190)\n\tat org.eclipse.jetty.servlet.ServletHandler.doScope(ServletHandler.java:505)\n\tat org.eclipse.jetty.server.handler.ScopedHandler.handle(ScopedHandler.java:141)\n\tat org.eclipse.jetty.server.handler.HandlerWrapper.handle(HandlerWrapper.java:127)\n\tat org.eclipse.jetty.server.Server.handle(Server.java:516)\n\tat org.eclipse.jetty.server.HttpChannel.lambda$handle$1(HttpChannel.java:487)\n\tat org.eclipse.jetty.server.HttpChannel.dispatch(HttpChannel.java:732)\n\tat org.eclipse.jetty.server.HttpChannel.handle(HttpChannel.java:479)\n\tat org.eclipse.jetty.server.HttpConnection.onFillable(HttpConnection.java:277)\n\tat org.eclipse.jetty.io.AbstractConnection$ReadCallback.succeeded(AbstractConnection.java:311)\n\tat org.eclipse.jetty.io.FillInterest.fillable(FillInterest.java:105)\n\tat org.eclipse.jetty.io.ChannelEndPoint$1.run(ChannelEndPoint.java:104)\n\tat org.eclipse.jetty.util.thread.strategy.EatWhatYouKill.runTask(EatWhatYouKill.java:338)\n\tat org.eclipse.jetty.util.thread.strategy.EatWhatYouKill.doProduce(EatWhatYouKill.java:315)\n\tat org.eclipse.jetty.util.thread.strategy.EatWhatYouKill.tryProduce(EatWhatYouKill.java:173)\n\tat org.eclipse.jetty.util.thread.strategy.EatWhatYouKill.run(EatWhatYouKill.java:131)\n\tat org.eclipse.jetty.util.thread.ReservedThreadExecutor$ReservedThread.run(ReservedThreadExecutor.java:409)\n\tat com.databricks.rpc.InstrumentedQueuedThreadPool$$anon$1.$anonfun$run$2(InstrumentedQueuedThreadPool.scala:110)\n\tat scala.runtime.java8.JFunction0$mcV$sp.apply(JFunction0$mcV$sp.java:23)\n\tat com.databricks.logging.AttributionContextTracing.$anonfun$withAttributionContext$1(AttributionContextTracing.scala:49)\n\tat com.databricks.logging.AttributionContext$.$anonfun$withValue$1(AttributionContext.scala:295)\n\tat scala.util.DynamicVariable.withValue(DynamicVariable.scala:62)\n\tat com.databricks.logging.AttributionContext$.withValue(AttributionContext.scala:291)\n\tat com.databricks.logging.AttributionContextTracing.withAttributionContext(AttributionContextTracing.scala:47)\n\tat com.databricks.logging.AttributionContextTracing.withAttributionContext$(AttributionContextTracing.scala:44)\n\tat com.databricks.rpc.InstrumentedQueuedThreadPool.withAttributionContext(InstrumentedQueuedThreadPool.scala:45)\n\tat com.databricks.rpc.InstrumentedQueuedThreadPool$$anon$1.$anonfun$run$1(InstrumentedQueuedThreadPool.scala:110)\n\tat scala.runtime.java8.JFunction0$mcV$sp.apply(JFunction0$mcV$sp.java:23)\n\tat com.databricks.instrumentation.QueuedThreadPoolInstrumenter.trackActiveThreads(QueuedThreadPoolInstrumenter.scala:126)\n\tat com.databricks.instrumentation.QueuedThreadPoolInstrumenter.trackActiveThreads$(QueuedThreadPoolInstrumenter.scala:123)\n\tat com.databricks.rpc.InstrumentedQueuedThreadPool.trackActiveThreads(InstrumentedQueuedThreadPool.scala:45)\n\tat com.databricks.rpc.InstrumentedQueuedThreadPool$$anon$1.run(InstrumentedQueuedThreadPool.scala:92)\n\tat org.eclipse.jetty.util.thread.QueuedThreadPool.runJob(QueuedThreadPool.java:883)\n\tat org.eclipse.jetty.util.thread.QueuedThreadPool$Runner.run(QueuedThreadPool.java:1034)\n\tat java.lang.Thread.run(Thread.java:840)\n"
       },
       "removedWidgets": [],
       "sqlProps": null,
       "stackFrames": [
        "\u001B[0;31m---------------------------------------------------------------------------\u001B[0m",
        "\u001B[0;31mExecutionError\u001B[0m                            Traceback (most recent call last)",
        "File \u001B[0;32m<command-1918370915724611>, line 15\u001B[0m\n\u001B[1;32m     13\u001B[0m MOUNT_NAME \u001B[38;5;241m=\u001B[39m \u001B[38;5;124m\"\u001B[39m\u001B[38;5;124m/mnt/Ben_data_mount\u001B[39m\u001B[38;5;124m\"\u001B[39m\n\u001B[1;32m     14\u001B[0m SOURCE_URL \u001B[38;5;241m=\u001B[39m \u001B[38;5;124m\"\u001B[39m\u001B[38;5;124ms3n://\u001B[39m\u001B[38;5;132;01m{0}\u001B[39;00m\u001B[38;5;124m:\u001B[39m\u001B[38;5;132;01m{1}\u001B[39;00m\u001B[38;5;124m@\u001B[39m\u001B[38;5;132;01m{2}\u001B[39;00m\u001B[38;5;124m\"\u001B[39m\u001B[38;5;241m.\u001B[39mformat(ACCESS_KEY, ENCODED_SECRET_KEY, AWS_S3_BUCKET)\n\u001B[0;32m---> 15\u001B[0m dbutils\u001B[38;5;241m.\u001B[39mfs\u001B[38;5;241m.\u001B[39mmount(SOURCE_URL, MOUNT_NAME)\n",
        "File \u001B[0;32m/databricks/python_shell/dbruntime/dbutils.py:380\u001B[0m, in \u001B[0;36mDBUtils.FSHandler.prettify_exception_message.<locals>.f_with_exception_handling\u001B[0;34m(*args, **kwargs)\u001B[0m\n\u001B[1;32m    378\u001B[0m exc\u001B[38;5;241m.\u001B[39m__context__ \u001B[38;5;241m=\u001B[39m \u001B[38;5;28;01mNone\u001B[39;00m\n\u001B[1;32m    379\u001B[0m exc\u001B[38;5;241m.\u001B[39m__cause__ \u001B[38;5;241m=\u001B[39m \u001B[38;5;28;01mNone\u001B[39;00m\n\u001B[0;32m--> 380\u001B[0m \u001B[38;5;28;01mraise\u001B[39;00m exc\n",
        "\u001B[0;31mExecutionError\u001B[0m: An error occurred while calling o420.mount.\n: java.rmi.RemoteException: java.lang.IllegalArgumentException: requirement failed: Directory already mounted: /mnt/Ben_data_mount; nested exception is: \n\tjava.lang.IllegalArgumentException: requirement failed: Directory already mounted: /mnt/Ben_data_mount\n\tat com.databricks.backend.daemon.data.client.DbfsClient.send0(DbfsClient.scala:141)\n\tat com.databricks.backend.daemon.data.client.DbfsClient.sendIdempotent(DbfsClient.scala:70)\n\tat com.databricks.backend.daemon.dbutils.DBUtilsCore.createOrUpdateMount(DBUtilsCore.scala:1126)\n\tat com.databricks.backend.daemon.dbutils.DBUtilsCore.$anonfun$mount$1(DBUtilsCore.scala:1152)\n\tat com.databricks.logging.UsageLogging.$anonfun$recordOperation$1(UsageLogging.scala:573)\n\tat com.databricks.logging.UsageLogging.executeThunkAndCaptureResultTags$1(UsageLogging.scala:669)\n\tat com.databricks.logging.UsageLogging.$anonfun$recordOperationWithResultTags$4(UsageLogging.scala:687)\n\tat com.databricks.logging.UsageLogging.$anonfun$withAttributionContext$1(UsageLogging.scala:426)\n\tat scala.util.DynamicVariable.withValue(DynamicVariable.scala:62)\n\tat com.databricks.logging.AttributionContext$.withValue(AttributionContext.scala:216)\n\tat com.databricks.logging.UsageLogging.withAttributionContext(UsageLogging.scala:424)\n\tat com.databricks.logging.UsageLogging.withAttributionContext$(UsageLogging.scala:418)\n\tat com.databricks.backend.daemon.dbutils.FSUtils.withAttributionContext(DBUtilsCore.scala:73)\n\tat com.databricks.logging.UsageLogging.withAttributionTags(UsageLogging.scala:472)\n\tat com.databricks.logging.UsageLogging.withAttributionTags$(UsageLogging.scala:455)\n\tat com.databricks.backend.daemon.dbutils.FSUtils.withAttributionTags(DBUtilsCore.scala:73)\n\tat com.databricks.logging.UsageLogging.recordOperationWithResultTags(UsageLogging.scala:664)\n\tat com.databricks.logging.UsageLogging.recordOperationWithResultTags$(UsageLogging.scala:582)\n\tat com.databricks.backend.daemon.dbutils.FSUtils.recordOperationWithResultTags(DBUtilsCore.scala:73)\n\tat com.databricks.logging.UsageLogging.recordOperation(UsageLogging.scala:573)\n\tat com.databricks.logging.UsageLogging.recordOperation$(UsageLogging.scala:542)\n\tat com.databricks.backend.daemon.dbutils.FSUtils.recordOperation(DBUtilsCore.scala:73)\n\tat com.databricks.backend.daemon.dbutils.FSUtils.recordDbutilsFsOp(DBUtilsCore.scala:137)\n\tat com.databricks.backend.daemon.dbutils.DBUtilsCore.mount(DBUtilsCore.scala:1146)\n\tat sun.reflect.NativeMethodAccessorImpl.invoke0(Native Method)\n\tat sun.reflect.NativeMethodAccessorImpl.invoke(NativeMethodAccessorImpl.java:62)\n\tat sun.reflect.DelegatingMethodAccessorImpl.invoke(DelegatingMethodAccessorImpl.java:43)\n\tat java.lang.reflect.Method.invoke(Method.java:498)\n\tat py4j.reflection.MethodInvoker.invoke(MethodInvoker.java:244)\n\tat py4j.reflection.ReflectionEngine.invoke(ReflectionEngine.java:397)\n\tat py4j.Gateway.invoke(Gateway.java:306)\n\tat py4j.commands.AbstractCommand.invokeMethod(AbstractCommand.java:132)\n\tat py4j.commands.CallCommand.execute(CallCommand.java:79)\n\tat py4j.ClientServerConnection.waitForCommands(ClientServerConnection.java:199)\n\tat py4j.ClientServerConnection.run(ClientServerConnection.java:119)\n\tat java.lang.Thread.run(Thread.java:750)\nCaused by: java.lang.IllegalArgumentException: requirement failed: Directory already mounted: /mnt/Ben_data_mount\n\tat scala.Predef$.require(Predef.scala:281)\n\tat com.databricks.backend.daemon.data.server.DefaultMetadataManager.$anonfun$insertMount$1(MetadataManager.scala:810)\n\tat com.databricks.backend.daemon.data.server.DefaultMetadataManager.$anonfun$modifyAndVerify$2(MetadataManager.scala:1192)\n\tat scala.runtime.java8.JFunction0$mcV$sp.apply(JFunction0$mcV$sp.java:23)\n\tat com.databricks.backend.daemon.data.server.DefaultMetadataManager.withRetries(MetadataManager.scala:965)\n\tat com.databricks.backend.daemon.data.server.DefaultMetadataManager.modifyAndVerify(MetadataManager.scala:1181)\n\tat com.databricks.backend.daemon.data.server.DefaultMetadataManager.insertMount(MetadataManager.scala:818)\n\tat com.databricks.backend.daemon.data.server.handler.MountHandler.receive(MountHandler.scala:128)\n\tat com.databricks.backend.daemon.data.server.session.SessionContext.$anonfun$queryHandlers$1(SessionContext.scala:54)\n\tat com.databricks.backend.daemon.data.server.session.SessionContext.$anonfun$queryHandlers$1$adapted(SessionContext.scala:53)\n\tat scala.collection.immutable.List.foreach(List.scala:431)\n\tat com.databricks.backend.daemon.data.server.session.SessionContext.queryHandlers(SessionContext.scala:53)\n\tat com.databricks.backend.daemon.data.server.DbfsServerBackend$$anonfun$receive$4.$anonfun$applyOrElse$10(DbfsServerBackend.scala:462)\n\tat com.databricks.logging.AttributionContextTracing.$anonfun$withAttributionContext$1(AttributionContextTracing.scala:49)\n\tat com.databricks.logging.AttributionContext$.$anonfun$withValue$1(AttributionContext.scala:295)\n\tat scala.util.DynamicVariable.withValue(DynamicVariable.scala:62)\n\tat com.databricks.logging.AttributionContext$.withValue(AttributionContext.scala:291)\n\tat com.databricks.logging.AttributionContextTracing.withAttributionContext(AttributionContextTracing.scala:47)\n\tat com.databricks.logging.AttributionContextTracing.withAttributionContext$(AttributionContextTracing.scala:44)\n\tat com.databricks.rpc.ServerBackend.withAttributionContext(ServerBackend.scala:22)\n\tat com.databricks.logging.AttributionContextTracing.withAttributionTags(AttributionContextTracing.scala:96)\n\tat com.databricks.logging.AttributionContextTracing.withAttributionTags$(AttributionContextTracing.scala:77)\n\tat com.databricks.rpc.ServerBackend.withAttributionTags(ServerBackend.scala:22)\n\tat com.databricks.backend.daemon.data.server.DbfsServerBackend$$anonfun$receive$4.applyOrElse(DbfsServerBackend.scala:462)\n\tat com.databricks.backend.daemon.data.server.DbfsServerBackend$$anonfun$receive$4.applyOrElse(DbfsServerBackend.scala:355)\n\tat com.databricks.rpc.ServerBackend.$anonfun$internalReceive0$2(ServerBackend.scala:174)\n\tat com.databricks.rpc.ServerBackend$$anonfun$commonReceive$1.applyOrElse(ServerBackend.scala:200)\n\tat com.databricks.rpc.ServerBackend$$anonfun$commonReceive$1.applyOrElse(ServerBackend.scala:200)\n\tat com.databricks.rpc.ServerBackend.internalReceive0(ServerBackend.scala:171)\n\tat com.databricks.rpc.ServerBackend.$anonfun$internalReceive$1(ServerBackend.scala:147)\n\tat com.databricks.logging.UsageLogging.$anonfun$recordOperation$1(UsageLogging.scala:508)\n\tat com.databricks.logging.UsageLogging.executeThunkAndCaptureResultTags$1(UsageLogging.scala:613)\n\tat com.databricks.logging.UsageLogging.$anonfun$recordOperationWithResultTags$4(UsageLogging.scala:636)\n\tat com.databricks.logging.AttributionContextTracing.$anonfun$withAttributionContext$1(AttributionContextTracing.scala:49)\n\tat com.databricks.logging.AttributionContext$.$anonfun$withValue$1(AttributionContext.scala:295)\n\tat scala.util.DynamicVariable.withValue(DynamicVariable.scala:62)\n\tat com.databricks.logging.AttributionContext$.withValue(AttributionContext.scala:291)\n\tat com.databricks.logging.AttributionContextTracing.withAttributionContext(AttributionContextTracing.scala:47)\n\tat com.databricks.logging.AttributionContextTracing.withAttributionContext$(AttributionContextTracing.scala:44)\n\tat com.databricks.rpc.ServerBackend.withAttributionContext(ServerBackend.scala:22)\n\tat com.databricks.logging.AttributionContextTracing.withAttributionTags(AttributionContextTracing.scala:96)\n\tat com.databricks.logging.AttributionContextTracing.withAttributionTags$(AttributionContextTracing.scala:77)\n\tat com.databricks.rpc.ServerBackend.withAttributionTags(ServerBackend.scala:22)\n\tat com.databricks.logging.UsageLogging.recordOperationWithResultTags(UsageLogging.scala:608)\n\tat com.databricks.logging.UsageLogging.recordOperationWithResultTags$(UsageLogging.scala:517)\n\tat com.databricks.rpc.ServerBackend.recordOperationWithResultTags(ServerBackend.scala:22)\n\tat com.databricks.logging.UsageLogging.recordOperation(UsageLogging.scala:509)\n\tat com.databricks.logging.UsageLogging.recordOperation$(UsageLogging.scala:475)\n\tat com.databricks.rpc.ServerBackend.recordOperation(ServerBackend.scala:22)\n\tat com.databricks.rpc.ServerBackend.internalReceive(ServerBackend.scala:146)\n\tat com.databricks.rpc.JettyServer$RequestManager.handleRPC(JettyServer.scala:1032)\n\tat com.databricks.rpc.JettyServer$RequestManager.handleRequestAndRespond(JettyServer.scala:952)\n\tat com.databricks.rpc.JettyServer$RequestManager.$anonfun$handleHttp$6(JettyServer.scala:552)\n\tat com.databricks.rpc.JettyServer$RequestManager.$anonfun$handleHttp$6$adapted(JettyServer.scala:521)\n\tat com.databricks.logging.activity.ActivityContextFactory$.$anonfun$withActivityInternal$12(ActivityContextFactory.scala:766)\n\tat com.databricks.logging.AttributionContextTracing.$anonfun$withAttributionContext$1(AttributionContextTracing.scala:49)\n\tat com.databricks.logging.AttributionContext$.$anonfun$withValue$1(AttributionContext.scala:295)\n\tat scala.util.DynamicVariable.withValue(DynamicVariable.scala:62)\n\tat com.databricks.logging.AttributionContext$.withValue(AttributionContext.scala:291)\n\tat com.databricks.logging.AttributionContextTracing.withAttributionContext(AttributionContextTracing.scala:47)\n\tat com.databricks.logging.AttributionContextTracing.withAttributionContext$(AttributionContextTracing.scala:44)\n\tat com.databricks.logging.activity.ActivityContextFactory$.withAttributionContext(ActivityContextFactory.scala:46)\n\tat com.databricks.logging.activity.ActivityContextFactory$.$anonfun$withActivityInternal$2(ActivityContextFactory.scala:766)\n\tat com.databricks.context.integrity.IntegrityCheckContext$ThreadLocalStorage$.withValue(IntegrityCheckContext.scala:73)\n\tat com.databricks.logging.activity.ActivityContextFactory$.withActivityInternal(ActivityContextFactory.scala:729)\n\tat com.databricks.logging.activity.ActivityContextFactory$.withActivityInternal(ActivityContextFactory.scala:711)\n\tat com.databricks.logging.activity.ActivityContextFactory$.$anonfun$withServiceRequestActivity$16(ActivityContextFactory.scala:283)\n\tat com.databricks.logging.AttributionContextTracing.$anonfun$withAttributionContext$1(AttributionContextTracing.scala:49)\n\tat com.databricks.logging.AttributionContext$.$anonfun$withValue$1(AttributionContext.scala:295)\n\tat scala.util.DynamicVariable.withValue(DynamicVariable.scala:62)\n\tat com.databricks.logging.AttributionContext$.withValue(AttributionContext.scala:291)\n\tat com.databricks.logging.AttributionContextTracing.withAttributionContext(AttributionContextTracing.scala:47)\n\tat com.databricks.logging.AttributionContextTracing.withAttributionContext$(AttributionContextTracing.scala:44)\n\tat com.databricks.logging.activity.ActivityContextFactory$.withAttributionContext(ActivityContextFactory.scala:46)\n\tat com.databricks.logging.activity.ActivityContextFactory$.withServiceRequestActivity(ActivityContextFactory.scala:283)\n\tat com.databricks.rpc.JettyServer$RequestManager.handleHttp(JettyServer.scala:521)\n\tat com.databricks.rpc.JettyServer$RequestManager.doPost(JettyServer.scala:411)\n\tat javax.servlet.http.HttpServlet.service(HttpServlet.java:665)\n\tat com.databricks.rpc.HttpServletWithPatch.service(HttpServletWithPatch.scala:33)\n\tat javax.servlet.http.HttpServlet.service(HttpServlet.java:750)\n\tat org.eclipse.jetty.servlet.ServletHolder.handle(ServletHolder.java:799)\n\tat org.eclipse.jetty.servlet.ServletHandler.doHandle(ServletHandler.java:554)\n\tat org.eclipse.jetty.server.handler.ScopedHandler.nextScope(ScopedHandler.java:190)\n\tat org.eclipse.jetty.servlet.ServletHandler.doScope(ServletHandler.java:505)\n\tat org.eclipse.jetty.server.handler.ScopedHandler.handle(ScopedHandler.java:141)\n\tat org.eclipse.jetty.server.handler.HandlerWrapper.handle(HandlerWrapper.java:127)\n\tat org.eclipse.jetty.server.Server.handle(Server.java:516)\n\tat org.eclipse.jetty.server.HttpChannel.lambda$handle$1(HttpChannel.java:487)\n\tat org.eclipse.jetty.server.HttpChannel.dispatch(HttpChannel.java:732)\n\tat org.eclipse.jetty.server.HttpChannel.handle(HttpChannel.java:479)\n\tat org.eclipse.jetty.server.HttpConnection.onFillable(HttpConnection.java:277)\n\tat org.eclipse.jetty.io.AbstractConnection$ReadCallback.succeeded(AbstractConnection.java:311)\n\tat org.eclipse.jetty.io.FillInterest.fillable(FillInterest.java:105)\n\tat org.eclipse.jetty.io.ChannelEndPoint$1.run(ChannelEndPoint.java:104)\n\tat org.eclipse.jetty.util.thread.strategy.EatWhatYouKill.runTask(EatWhatYouKill.java:338)\n\tat org.eclipse.jetty.util.thread.strategy.EatWhatYouKill.doProduce(EatWhatYouKill.java:315)\n\tat org.eclipse.jetty.util.thread.strategy.EatWhatYouKill.tryProduce(EatWhatYouKill.java:173)\n\tat org.eclipse.jetty.util.thread.strategy.EatWhatYouKill.run(EatWhatYouKill.java:131)\n\tat org.eclipse.jetty.util.thread.ReservedThreadExecutor$ReservedThread.run(ReservedThreadExecutor.java:409)\n\tat com.databricks.rpc.InstrumentedQueuedThreadPool$$anon$1.$anonfun$run$2(InstrumentedQueuedThreadPool.scala:110)\n\tat scala.runtime.java8.JFunction0$mcV$sp.apply(JFunction0$mcV$sp.java:23)\n\tat com.databricks.logging.AttributionContextTracing.$anonfun$withAttributionContext$1(AttributionContextTracing.scala:49)\n\tat com.databricks.logging.AttributionContext$.$anonfun$withValue$1(AttributionContext.scala:295)\n\tat scala.util.DynamicVariable.withValue(DynamicVariable.scala:62)\n\tat com.databricks.logging.AttributionContext$.withValue(AttributionContext.scala:291)\n\tat com.databricks.logging.AttributionContextTracing.withAttributionContext(AttributionContextTracing.scala:47)\n\tat com.databricks.logging.AttributionContextTracing.withAttributionContext$(AttributionContextTracing.scala:44)\n\tat com.databricks.rpc.InstrumentedQueuedThreadPool.withAttributionContext(InstrumentedQueuedThreadPool.scala:45)\n\tat com.databricks.rpc.InstrumentedQueuedThreadPool$$anon$1.$anonfun$run$1(InstrumentedQueuedThreadPool.scala:110)\n\tat scala.runtime.java8.JFunction0$mcV$sp.apply(JFunction0$mcV$sp.java:23)\n\tat com.databricks.instrumentation.QueuedThreadPoolInstrumenter.trackActiveThreads(QueuedThreadPoolInstrumenter.scala:126)\n\tat com.databricks.instrumentation.QueuedThreadPoolInstrumenter.trackActiveThreads$(QueuedThreadPoolInstrumenter.scala:123)\n\tat com.databricks.rpc.InstrumentedQueuedThreadPool.trackActiveThreads(InstrumentedQueuedThreadPool.scala:45)\n\tat com.databricks.rpc.InstrumentedQueuedThreadPool$$anon$1.run(InstrumentedQueuedThreadPool.scala:92)\n\tat org.eclipse.jetty.util.thread.QueuedThreadPool.runJob(QueuedThreadPool.java:883)\n\tat org.eclipse.jetty.util.thread.QueuedThreadPool$Runner.run(QueuedThreadPool.java:1034)\n\tat java.lang.Thread.run(Thread.java:840)\n"
       ],
       "type": "baseError"
      }
     },
     "output_type": "display_data"
    }
   ],
   "source": [
    "from pyspark.sql.functions import *\n",
    "import urllib\n",
    "\n",
    "delta_path = \"dbfs:/user/hive/warehouse/authentication_credentials\"\n",
    "credentials_df = spark.read.format(\"delta\").load(delta_path)\n",
    "\n",
    "ACCESS_KEY = credentials_df.select('Access key ID').collect()[0]['Access key ID']\n",
    "SECRET_KEY = credentials_df.select('Secret access key').collect()[0]['Secret access key']\n",
    "\n",
    "ENCODED_SECRET_KEY = urllib.parse.quote(string=SECRET_KEY, safe=\"\")\n",
    "\n",
    "AWS_S3_BUCKET = \"user-0eaf46a0829f-bucket\"\n",
    "MOUNT_NAME = \"/mnt/Ben_data_mount\"\n",
    "SOURCE_URL = \"s3n://{0}:{1}@{2}\".format(ACCESS_KEY, ENCODED_SECRET_KEY, AWS_S3_BUCKET)\n",
    "dbutils.fs.mount(SOURCE_URL, MOUNT_NAME)\n",
    "\n"
   ]
  },
  {
   "cell_type": "code",
   "execution_count": 0,
   "metadata": {
    "application/vnd.databricks.v1+cell": {
     "cellMetadata": {
      "byteLimit": 2048000,
      "rowLimit": 10000
     },
     "inputWidgets": {},
     "nuid": "0b788a31-a53f-40ae-b06a-7c0341ff064b",
     "showTitle": false,
     "tableResultSettingsMap": {},
     "title": ""
    }
   },
   "outputs": [
    {
     "output_type": "display_data",
     "data": {
      "text/html": [
       "<style scoped>\n",
       "  .table-result-container {\n",
       "    max-height: 300px;\n",
       "    overflow: auto;\n",
       "  }\n",
       "  table, th, td {\n",
       "    border: 1px solid black;\n",
       "    border-collapse: collapse;\n",
       "  }\n",
       "  th, td {\n",
       "    padding: 5px;\n",
       "  }\n",
       "  th {\n",
       "    text-align: left;\n",
       "  }\n",
       "</style><div class='table-result-container'><table class='table-result'><thead style='background-color: white'><tr><th>category</th><th>description</th><th>downloaded</th><th>follower_count</th><th>image_src</th><th>index</th><th>is_image_or_video</th><th>poster_name</th><th>save_location</th><th>tag_list</th><th>title</th><th>unique_id</th></tr></thead><tbody><tr><td>christmas</td><td>Christmas decorating ideas for porches. Beautiful holiday decor ideas for front porches both small and large. Outdoor decorations like sleds, lanterns, Christmas trees, wreaths,… </td><td>1</td><td>46k</td><td>https://i.pinimg.com/videos/thumbnails/originals/40/83/f5/4083f5b4971bf235f89a4784ab87271e.0000001.jpg</td><td>2482</td><td>video</td><td>Life on Summerhill | Home, Holiday Decor & DIY Website</td><td>Local save in /data/christmas</td><td>Diy Christmas Decorations For Home,Farmhouse Christmas Decor,Christmas Home,Christmas Holidays,Christmas Front Porches,How To Decorate For Christmas,Christmas Porch Ideas,Christmas Decorating Ideas,Large Outdoor Christmas Decorations</td><td>FORNT PORCH CHRISTMAS DECORATING IDEAS</td><td>08604f20-fa17-4b9a-9949-781717eca6cd</td></tr><tr><td>travel</td><td>This Costa Rica itinerary is the ultimate guide to spending two weeks in Costa Rica. Find out about visiting La Fortuna, Arenal, Monteverde, Naranjo, Corcovado National Park, Or… </td><td>1</td><td>10k</td><td>https://i.pinimg.com/originals/30/93/cb/3093cb01d9de2d125fda8ba5e3e41946.jpg</td><td>10138</td><td>image</td><td>Wanderlust Chloe ✈️ Travel guides, inspo and adventure travel ✈️</td><td>Local save in /data/travel</td><td>Costa Rica Travel,Rio Celeste Costa Rica,Dream Vacations,Vacation Spots,Vacation Travel,Travel Pictures,Travel Photos,Fortuna Costa Rica,Costa Rica Pictures</td><td>14 Amazing Things To Do In Costa Rica | Volcanoes, Waterfalls, Wildlife And More</td><td>927c4658-cc3f-4b92-9b5c-70743d0c238d</td></tr><tr><td>christmas</td><td>My favorite 75+ Neutral Christmas Home Decor for decorating your house during the Holiday Season in earth tones and a farmhouse, rustic style all winter. I love this modern, sim… </td><td>1</td><td>31k</td><td>https://i.pinimg.com/originals/86/84/39/868439dd894969e3abd6a2a8a9fe1e9c.jpg</td><td>2604</td><td>image</td><td>Everyday Wholesome</td><td>Local save in /data/christmas</td><td>Colorful Christmas Decorations,Colorful Christmas Tree,Christmas Centerpieces,Christmas Colors,Xmas Colors,Winter Decorations,Christmas Trends,Christmas Inspiration,Christmas Home</td><td>75+ Neutral Christmas Home Decor for the Holiday Season in Farmhouse Style using Earth Tones Modern</td><td>087b0fa9-f901-4262-aa0a-6caf234d1b35</td></tr><tr><td>diy-and-crafts</td><td>This post may contain affiliate links, read our Disclosure Policy for more information. As an Amazon Associate I earn from qualifying purchases, thank you! Make some cute handpr… </td><td>1</td><td>892k</td><td>https://i.pinimg.com/originals/ff/fe/38/fffe384f3ec18a0d87cb2d80cc8c1499.jpg</td><td>3156</td><td>image</td><td>Michelle {CraftyMorning.com}</td><td>Local save in /data/diy-and-crafts</td><td>Christmas Gifts For Parents,Christmas Decorations For Kids,Christmas Crafts For Toddlers,Preschool Christmas,Christmas Crafts For Gifts,Christmas Activities,Toddler Crafts,Kids Christmas,Christmas Feeling</td><td>Handprint Reindeer Ornaments - Crafty Morning</td><td>fa6e31a4-18c2-4eca-a6d8-e903eee2c2a4</td></tr><tr><td>travel</td><td>See families traveling all the time and wonder, \"how the heck do they afford this?\" Read 10 mistakes you might be making, and what you should do instead.</td><td>1</td><td>9k</td><td>https://i.pinimg.com/originals/0a/49/fb/0a49fbcec746c4219d3a6f30834f378e.jpg</td><td>10119</td><td>image</td><td>OUR NEXT ADVENTURE | family travel blog</td><td>Local save in /data/travel</td><td>Family Vacation Destinations,Vacation Trips,Travel Destinations,Vacation Ideas,Cheap Family Vacations,Vacation Travel,Best Family Vacation Spots,Vacation Quotes,Vacation Memories</td><td>How to Afford Family Travel: 10 Mistakes You're Making (and what to do instead) | Our Next Adventure</td><td>40eab9ba-7812-4f26-baca-35a6bed95a9f</td></tr><tr><td>diy-and-crafts</td><td>Easy Christmas tree Craft Ideas for toddlers and preschoolers. Engage your kids in these DIY</td><td>1</td><td>3k</td><td>https://i.pinimg.com/originals/69/f0/75/69f075939d4449dffa69519756c30e26.png</td><td>3419</td><td>image</td><td>Kids Crafts & Free Preschool Printables- Sharing Our Experiences</td><td>Local save in /data/diy-and-crafts</td><td>Christmas Crafts For Kids To Make,Christmas Tree Painting,Christmas Activities For Kids,Easy Christmas Crafts For Toddlers,Kid Activities,Christmas Handprint Crafts,Christmas Tree Crafts,Christmas Baby,Xmas Tree</td><td>Easy Christmas Tree Crafts Ideas for toddlers and preschoolers | Sharing Our Experiences</td><td>d0b80187-0171-49b2-8ee4-572984244f65</td></tr><tr><td>finance</td><td>If you love budgeting, make sure to give Dave Ramsey's 7 Baby Steps a try. Follow these steps to begin your debt snowball, build an emergency fund, invest and reach riches. I ca… </td><td>1</td><td>26k</td><td>https://i.pinimg.com/originals/1e/9d/90/1e9d906e4e150e3b95187f3b76ea7c71.png</td><td>5494</td><td>image</td><td>Living Low Key | Save Money, Make Money, & Frugal Living</td><td>Local save in /data/finance</td><td>Financial Peace,Financial Tips,Saving Money Quotes,Total Money Makeover,Budgeting Finances,Money Management,Wealth Management,Personal Finance,Making Ideas</td><td>Dave Ramsey's 7 Baby Steps: What Are They And Will They Work For You</td><td>8fb2af68-543b-4639-8119-de33d28706ed</td></tr><tr><td>christmas</td><td>Here are the best DIY Christmas Centerpieces ideas perfect for your Christmas & holiday season home decor. From Christmas Vignettes to Table Centerpieces.</td><td>1</td><td>500k</td><td>https://i.pinimg.com/originals/aa/6d/0f/aa6d0f44d7c1c96b998cb9aa6c4446b8.png</td><td>2418</td><td>image</td><td>HikenDip</td><td>Local save in /data/christmas</td><td>Farmhouse Christmas Decor,Rustic Christmas,Christmas Time,Vintage Christmas,Xmas,Primitive Christmas Crafts,Christmas Vignette,Indoor Christmas Decorations,Diy Christmas Ornaments</td><td>100 DIY Christmas Centerpieces You'll Love To Decorate Your Home With For The Christmas Season - Hike n Dip</td><td>da8745a6-5160-46c4-877d-181d50a729fd</td></tr><tr><td>quotes</td><td>Trying to create your dream life but don't know where to start?! These vision board ideas are a great way to manifest a new you this year</td><td>1</td><td>42k</td><td>https://i.pinimg.com/originals/36/d1/be/36d1be632cbf9b6c8e377a052b31d064.jpg</td><td>8312</td><td>image</td><td>TheFab20s | Travel+Food+DIY+Listicles</td><td>Local save in /data/quotes</td><td>Positive Self Affirmations,Positive Affirmations Quotes,Affirmation Quotes,Quotes Positive,Motivational Quotes For Success Positivity,Business Success Quotes,Positive Vibes,Motivational Quotes For Women,Affirmations For Love</td><td>8 Vision Board Ideas To Manifest Your Dreams - TheFab20s</td><td>ca3c9bb0-7281-4b9b-8abf-201da0b68d62</td></tr><tr><td>quotes</td><td>summcoco gives you inspiration for the women fashion trends you want. Thinking about a new look or lifestyle? This is your ultimate resource to get the hottest trends. 45 Top Li… </td><td>1</td><td>306k</td><td>https://i.pinimg.com/originals/bb/c0/e6/bbc0e6a797079505f11ac12bcb0b8c66.jpg</td><td>7922</td><td>image</td><td>Sumcoco | Decor Ideas, Hairstyles, Nails Fashion Advice</td><td>Local save in /data/quotes</td><td>Life Quotes Love,Inspirational Quotes About Love,Mood Quotes,Motivational Quotes,Tears Quotes,Quotes About Sadness,Deep Quotes About Life,Quotes Quotes,Quote Life</td><td>45 Top Life Quotes School Did Not Teach You</td><td>a584581c-1b38-4731-a1cc-f36115ecf229</td></tr><tr><td>art</td><td>Use your mini world figures to create this beautiful African sunset. Your kids will love learning about shadows, angles and distortion in this fun art and STEM activity for kids.</td><td>1</td><td>4k</td><td>https://i.pinimg.com/originals/e3/aa/35/e3aa350f8f104d0e59f26d7f17ea7461.png</td><td>771</td><td>image</td><td>Taming Little Monsters - Fun Activities for Kids</td><td>Local save in /data/art</td><td>African Art Projects,Cool Art Projects,Projects For Kids,African Art For Kids,African Crafts Kids,Art Club Projects,Art Education Projects,Tracing Art,African Sunset</td><td>African Sunset Shadow Tracing Art - Taming Little Monsters</td><td>a5021766-a8aa-4dc7-9857-4da6b8e3dc1a</td></tr><tr><td>event-planning</td><td>Personalize your event or shop with a customized neon sign. Make a statement with your own custom vibes! This light is 32 -40 inches (80cm-100cm) if you need something bigger, p… </td><td>1</td><td>111</td><td>https://i.pinimg.com/originals/e9/c0/7c/e9c07cf0cf16cab23764a36718ab76c1.jpg</td><td>4508</td><td>image</td><td>Life of Neon | Custom Neon Light Signs | Home Decor Wall Art</td><td>Local save in /data/event-planning</td><td>Our Wedding,Wedding Venues,Dream Wedding,Wedding Cakes,Church Wedding,Wedding Flowers,Lace Wedding,Wedding Rings,Wedding Dresses</td><td>Custom Event and Shop Neon Sign Lights - Event & Shop</td><td>9064f4a2-2753-476c-815e-db360f45a93e</td></tr><tr><td>education</td><td>Hi everyone! As a teacher using the Orton-Gillingham approach, I am constantly looking for phonics activities that my students will find fun and engaging. Using Orton-Gillingham… </td><td>1</td><td>22k</td><td>https://i.pinimg.com/originals/58/8e/38/588e380b19942a71a86a69d9c9973d25.png</td><td>4076</td><td>image</td><td>The Literacy Nest</td><td>Local save in /data/education</td><td>Literacy Games,Kindergarten Activities,Literacy Centers,Fun Phonics Activities,Listening Activities,Vocabulary Games,Literacy Stations,Letter Activities,Montessori Activities</td><td>Phonics Activities Your Kids Will Love - The Literacy Nest</td><td>3a52d364-7c04-47cb-a3e5-56d9e2b77528</td></tr><tr><td>christmas</td><td>Over 40 of the BEST Homemade Christmas Ornaments...these easy Holiday crafts are so fun to make for Kids and Adults! Lots of great class party ideas!</td><td>1</td><td>245k</td><td>https://i.pinimg.com/originals/d0/d3/a3/d0d3a31e87296224d5ba8896904b5b88.jpg</td><td>2293</td><td>image</td><td>Kitchen Fun With My 3 Sons</td><td>Local save in /data/christmas</td><td>Diy Christmas Lights,Homemade Christmas Decorations,Christmas Crafts For Gifts,Mini Christmas Tree,Christmas Ornament Crafts,Homemade Christmas Gifts,Xmas Decorations,Simple Christmas,Handmade Christmas</td><td>Over 40 of the BEST Homemade Christmas Ornament Ideas</td><td>1fd7d4cc-54c1-4542-9c1f-449cb4c875f4</td></tr><tr><td>art</td><td>This bee directed drawing and associated pages will help you create a fun and creative Valentine's Day Directed Drawing Art Project activity for your class.Choose to do a painti… </td><td>1</td><td>1M</td><td>https://i.pinimg.com/originals/49/ff/2e/49ff2e83c0cefdd37213f6084c6f0566.jpg</td><td>159</td><td>image</td><td>Teachers Pay Teachers</td><td>Local save in /data/art</td><td>Classroom Art Projects,School Art Projects,Art Classroom,Art Projects For Kindergarteners,Spring Art Projects,Classroom Posters,Valentines Art Lessons,Valentines Day Activities,Grade 1 Art</td><td>Valentine's Day Bee Directed Drawing {Art Project}</td><td>841a161a-47b8-4161-884d-adeb67a28b1e</td></tr><tr><td>travel</td><td>Are you traveling to Paris during the summer? Find out what to do in Paris, France during the summer. Fun summertime activities in Paris. Enjoy the incredible outdoors when trav… </td><td>1</td><td>3k</td><td>https://i.pinimg.com/originals/6c/4c/90/6c4c90bba27ebf8c8bfe4c1acfb9f07a.jpg</td><td>9979</td><td>image</td><td>Petite in Paris</td><td>Local save in /data/travel</td><td>Torre Eiffel Paris,Tour Eiffel,Picnic In Paris,Hello France,Voyage Europe,Destination Voyage,Beautiful Places To Travel,Travel Aesthetic,Paris Travel</td><td>Paris in the Summer. 10 fun things to do in Paris in the Summertime • Petite in Paris</td><td>2b2abc85-fc51-481f-8ae6-17681993da28</td></tr><tr><td>travel</td><td>Although you'd think Greek islands are fairly similar, you'd be completely wrong! Each island has it's own personality and appeal. Here are the 8 Best Greek Islands to visit, es… </td><td>1</td><td>42k</td><td>https://i.pinimg.com/originals/06/1d/ce/061dce38929dec8e74844442116bea4a.jpg</td><td>9759</td><td>image</td><td>TheFab20s | Travel+Food+DIY+Listicles</td><td>Local save in /data/travel</td><td>Greek Islands To Visit,Best Greek Islands,Greece Islands,Cool Places To Visit,Places To Go,Best Places In Portugal,Copenhagen Travel,Paros Island,Santorini Island</td><td>8 Best Greek Islands You Have To Visit - TheFab20s</td><td>d105eb6e-0f9f-46e7-8d02-d24b62f6ae90</td></tr><tr><td>diy-and-crafts</td><td>DIY Dollar Store Valentine’s Day Heart Wreath Decoration. There are so many great Valentine crafts at the Dollar Tree right now! During our last trip, we picked up a few supplie… </td><td>1</td><td>9k</td><td>https://i.pinimg.com/originals/dc/f6/8a/dcf68adcc63c339c24fa5664f1115994.png</td><td>2698</td><td>image</td><td>South Lumina Style</td><td>Local save in /data/diy-and-crafts</td><td>Valentine Day Wreaths,Valentines Day Hearts,Valentines Day Decorations,Valentine Day Crafts,Holiday Crafts,Diy Christmas,Christmas Wreaths,Valentine Tree,Printable Valentine</td><td>DIY Dollar Tree Valentine's Day Wreath</td><td>73f16302-4871-486a-8836-947530526337</td></tr><tr><td>home-decor</td><td>Holiday mantle decor, Christmas decor, metallic mercury glass style Christmas trees, eucalyptus vine, evergreen pine branches, white neutral holiday decor, cozy mantle for the h… </td><td>1</td><td>83k</td><td>https://i.pinimg.com/originals/9d/82/1a/9d821a80acd8f90c16454e978bd9b115.jpg</td><td>6145</td><td>image</td><td>Stylin by Aylin</td><td>Local save in /data/home-decor</td><td>Winter Home Decor,Christmas Living Room Decor,Living Room Decor Cozy,Christmas Decor,Cozy Fireplace,Rustic Fireplace Decor,Fireplace Decorations,Rustic Room,House Decorations</td><td>HOLIDAY MANTLE DECOR - @AMAZON & @TARGET FINDS</td><td>82e13a07-db99-43a3-b1c0-89a4b75821da</td></tr><tr><td>art</td><td>Easy to follow steps for this easy DIY wall art. Acrylic Paint Pouring with a blow dryer, Dutch paint pour. Written steps and full step by step video to help you do it too! 👍</td><td>1</td><td>52k</td><td>https://i.pinimg.com/videos/thumbnails/originals/d5/5e/fa/d55efa6ef50d35dac425cea935f39c89.0000001.jpg</td><td>427</td><td>video</td><td>Abbotts At Home</td><td>Local save in /data/art</td><td>Acrylic Pouring Art,Acrylic Wall Art,Acrylic Pouring Techniques,Acrylic Paintings,Art Paintings,Marble Art,Marble Painting,Pour Painting,Large Canvas Art</td><td>DIY Acrylic Paint Pouring Wall Art - Abbotts At Home</td><td>4a455340-09a2-4370-ad86-73d7964603db</td></tr><tr><td>christmas</td><td>Christmas Trees From Pallet Wood | Holiday DIY: Deck the yard with some fun outdoor Christmas Trees! We made these merry and bright decorations from two old pallets we had lying… </td><td>1</td><td>3M</td><td>https://i.pinimg.com/originals/64/7b/ca/647bca35169b7c144604116c64bcba8a.png</td><td>1704</td><td>image</td><td>Instructables</td><td>Local save in /data/christmas</td><td>Pallet Wood Christmas Tree,Wooden Christmas Crafts,Diy Christmas Tree,Christmas Projects,Holiday Crafts,Wooden Xmas Trees,Different Christmas Trees,Pallet Tree,Christmas Kitchen</td><td>Christmas Trees From Pallet Wood | Holiday DIY</td><td>5fbf9863-fb79-477c-a5b6-540c3020a55f</td></tr><tr><td>education</td><td>Podcasts for Teachers or Parents of Teenagers: Teaching teens middle school and high school can feel joyful and rewarding most days, but can also frustrate you with one challeng… </td><td>1</td><td>25k</td><td>https://i.pinimg.com/originals/50/19/31/501931a27ee4d076658980851b995b2c.jpg</td><td>4315</td><td>image</td><td>Math Giraffe</td><td>Local save in /data/education</td><td>Middle School Classroom,High School Students,High School Teachers,Middle School Tips,High School Counseling,Ela Classroom,High School Science,Future Classroom,Google Classroom</td><td>Podcasts for Teachers or Parents of Teenagers</td><td>21b59ba9-829d-4c33-8c27-4cd4c56d26b8</td></tr><tr><td>education</td><td>This book presents 10 inspirational case studies of how centre leaders, principals and leadership teams in high-needs New Zealand educational settings have enacted leadership to… </td><td>1</td><td>2M</td><td>https://i.pinimg.com/originals/0e/ea/c4/0eeac457780bbe43fcc5e9eaabd80f62.jpg</td><td>3599</td><td>image</td><td>Walmart</td><td>Local save in /data/education</td><td>Research Studies,Educational Leadership,Education System,Secondary School,Try It Free,Book Format,Social Justice,Young People,Paperback Books</td><td>Educational Leadership in Aotearoa New Zealand : Issues of Context and Social Justice</td><td>ff0dd945-dafa-411c-8cef-eb43e374e815</td></tr><tr><td>event-planning</td><td>Sacramento California Wedding 2 Chic Events & Design Jodi Yorston Photography Wilson Vineyards Barn Miosa Couture Yellow Barn Vineyard Outdoor Candles DIY</td><td>1</td><td>6M</td><td>https://i.pinimg.com/originals/7e/45/90/7e45905fefa36347e83333fd6d091140.jpg</td><td>5069</td><td>image</td><td>Style Me Pretty</td><td>Local save in /data/event-planning</td><td>60th Anniversary Parties,Anniversary Decorations,Golden Anniversary,25th Wedding Anniversary,Anniversary Pictures,Anniversary Ideas,Birthday Decorations,Event Planning Design,Event Design</td><td>The Vault: Curated & Refined Wedding Inspiration</td><td>b75b6f87-deb3-444f-b29e-ce9161b2df49</td></tr><tr><td>mens-fashion</td><td>Black And Brown Outfits You Need To Try This Fall Season. The trick with black and brown outfits is to know how to combine colors, fabrics, and shapes to get a cohesive look. So… </td><td>1</td><td>1M</td><td>https://i.pinimg.com/originals/3e/49/09/3e4909c0ccc4dbba3cad83d97eab4a61.png</td><td>7343</td><td>image</td><td>Cultura Colectiva</td><td>Local save in /data/mens-fashion</td><td>Winter Outfits Men,Stylish Mens Outfits,Casual Outfits,Men Casual,Smart Casual,Outfits For Men,Fall Outfits,Mens Winter Boots,Business Casual Men</td><td>This Fashion Rule Is Nonsense, And We Should All Forget About It</td><td>b8c63a95-6fe8-4d7f-9455-1eef3462fee0</td></tr><tr><td>tattoos</td><td>summcoco gives you inspiration for the women fashion trends you want. Thinking about a new look or lifestyle? This is your ultimate resource to get the hottest trends. 30+ Eagle… </td><td>1</td><td>306k</td><td>https://i.pinimg.com/originals/8d/c6/ed/8dc6ed0b212393187a14c7d07a88060f.png</td><td>8606</td><td>image</td><td>Sumcoco | Decor Ideas, Hairstyles, Nails Fashion Advice</td><td>Local save in /data/tattoos</td><td>White Bird Tattoos,Rose Tattoos,Flower Tattoos,Tattoo Black,Bird And Flower Tattoo,Tattoo Floral,Mini Tattoos,Flower Art,Girls With Sleeve Tattoos</td><td>30+ Eagle Tattoos Ideas for Women</td><td>71757040-bfc8-4631-9cac-22801e61d9e3</td></tr><tr><td>tattoos</td><td>Disney characters never go out with time. From small to bold, here are the best Disney tattoos that both adults and children will adore.</td><td>1</td><td>190k</td><td>https://i.pinimg.com/originals/29/1d/13/291d1361e275358df53c1db02b63d3a4.jpg</td><td>9074</td><td>image</td><td>Our Mindful Life</td><td>Local save in /data/tattoos</td><td>Small Disney Tattoos,Disney Thigh Tattoo,Matching Disney Tattoos,Disney Couple Tattoos,Disney Inspired Tattoos,Disney Sleeve Tattoos,Matching Best Friend Tattoos,Small Tattoos,3 Best Friend Tattoos</td><td>77 Disney Tattoos To Unleash Your Magic Power - Our Mindful Life</td><td>2adede06-7fb0-4b5f-8cf9-ce8e6d6fa6a1</td></tr><tr><td>home-decor</td><td>Beautiful and easy ways to update every room in your home with fall decor. Plus, my favorite finds in fall decor for 2020!</td><td>1</td><td>92k</td><td>https://i.pinimg.com/originals/e5/ae/dc/e5aedc14ce557e3a69f672e0f8c88f6e.png</td><td>6063</td><td>image</td><td>Kristen | Lifestyle, Mom Tips & Teacher Stuff Blog</td><td>Local save in /data/home-decor</td><td>Fall Home Decor,Autumn Home,Fall Decor Outdoor,Front Porch Fall Decor,Home Decor Ideas,Porch Ideas For Fall,Fall Outdoor Decorating,Decorating Ideas For Fall,Fall Front Doors</td><td>41 Gorgeous Fall Decor Ideas For Your Home - Chaylor & Mads</td><td>60693727-4927-4bd6-a8c5-096a392d63e6</td></tr><tr><td>event-planning</td><td>So you're thinking of getting your event planner certification, but how much do you REALLY know about event planning? Event planners need to be knowledgeable and able to answer… </td><td>1</td><td>5k</td><td>https://i.pinimg.com/originals/6f/19/bc/6f19bce24921bf843540fc04da9eb6bf.jpg</td><td>5076</td><td>image</td><td>QC Career School</td><td>Local save in /data/event-planning</td><td>Diy Wedding Food,Best Wedding Makeup,Wedding Events,Wedding Tips,Wedding Stuff,Weddings,Event Planning Business,Business Events,Wedding Makeup Tutorial</td><td>Quiz: Test Your Event IQ! - Pointers For Planners</td><td>fa3af29c-dc78-4eed-a4c5-52a407ea04c0</td></tr><tr><td>art</td><td>Nike trainers sprout plants and French perfumiers inspire by mysterious scientific icons in Katie Scott’s visions that take botanical illustration into the digital age</td><td>1</td><td>908k</td><td>https://i.pinimg.com/originals/16/8a/fa/168afae02d5ffc71da10cdb312de2cb1.jpg</td><td>552</td><td>image</td><td>The Guardian</td><td>Local save in /data/art</td><td>Art And Illustration,Illustration Inspiration,Botanical Illustration,Vintage Illustrations,Botanical Drawings,Botanical Prints,Arte Inspo,Insect Art,Psychedelic</td><td>The herbal bed: Katie Scott's psychedelic flora and fauna – in pictures</td><td>b82602a9-e434-42cf-9481-22f3f41d82ce</td></tr><tr><td>tattoos</td><td>Snake temporary tattoo for collarbone. Spooky 3D tattoo for Halloween Includes 2 copies, 1 for the right side and 1 for the left side Apply with water and remove anytime with ba… </td><td>1</td><td>0</td><td>https://i.pinimg.com/originals/d8/b7/a1/d8b7a11a3fe64e7fab91d3afb1536537.jpg</td><td>8578</td><td>image</td><td>Livitrevisani</td><td>Local save in /data/tattoos</td><td>Finger Tattoo Designs,Small Tattoo Designs,Finger Tattoos,Small 3d Tattoos,Cool Tattoos,Line Work Tattoo,Back Tattoo,Collarbone Tattoo,Tattoo Neck</td><td>Snake Collarbone Temporary Tattoo. Halloween Tattoos  Spooky | Etsy</td><td>036ec267-658b-4dad-a097-8ef0b4f30c0d</td></tr><tr><td>education</td><td>15 Essential Classroom Items For First Year Teachers / First Year Teacher Must Haves</td><td>1</td><td>5k</td><td>https://i.pinimg.com/originals/4b/b9/a8/4bb9a85f609a8384ed9c9ab14e7bcea0.jpg</td><td>4137</td><td>image</td><td>Write Your Story | Budgeting, Healthy Lifestyle, Faith</td><td>Local save in /data/education</td><td>1st Year Teachers,First Year Teaching,First Grade Teachers,Elementary Teacher,Montessori Elementary,Teaching Reading,History Teachers,High School Classroom,First Grade Classroom</td><td>15 Essential Classroom Items For First Year Teachers / First Year Teacher Must Haves</td><td>bf275054-4464-448b-9143-1bf101aa366d</td></tr><tr><td>home-decor</td><td>Celebrate fall with a neutral color palette with natural elements. This Navy and Neutral Fall Living Room + Kitchen Tour will make you rethink fall decor.</td><td>1</td><td>178k</td><td>https://i.pinimg.com/originals/f1/be/b6/f1beb6d3414f1c52929df39a83d8da9f.jpg</td><td>6566</td><td>image</td><td>Sand and Sisal</td><td>Local save in /data/home-decor</td><td>Fall Living Room,Coastal Living Rooms,Living Room Paint,Living Room Kitchen,Living Room Interior,Living Room Furniture,Living Room Decor,Living Area,Small Living</td><td>Navy and Neutral Fall Living Room + Kitchen Tour - Sand and Sisal</td><td>6d8848f8-f515-4935-8dae-5dd02304d76e</td></tr><tr><td>christmas</td><td>Transform mini terra cotta pots into the sweetest gingerbread house ornaments! Kids will love making this adorable Christmas craft to hang on the tree.</td><td>1</td><td>20k</td><td>https://i.pinimg.com/originals/13/28/09/1328097d7c290d1bf8642b01a6ba1c6c.jpg</td><td>2411</td><td>image</td><td>Projects with Kids</td><td>Local save in /data/christmas</td><td>Noel Christmas,Diy Christmas Ornaments,Homemade Christmas,Simple Christmas,Gingerbread Ornaments,Christmas Gingerbread,Gingerbread Houses,Preschool Christmas,Ornaments Ideas</td><td>The Sweetest Gingerbread House Ornaments Kids Can Make</td><td>4e11801e-7a64-4f1e-90dd-e900677595c5</td></tr><tr><td>mens-fashion</td><td>Women's T-shirt. Design inspired by the rock band The Killers' hit \"Mr. Brightside\". One of the greatest song from the album Hot Fuss released in 2004. Soft and light, 100% cott… </td><td>1</td><td>27</td><td>https://i.pinimg.com/originals/8c/42/39/8c42391d35fcad51a4a79f7cd81bf26d.jpg</td><td>7166</td><td>image</td><td>Mala Rock | Rock T-shirts</td><td>Local save in /data/mens-fashion</td><td>Mr Brightside,Rock T Shirts,Greatest Songs,Timeless Classic,Rock Bands,Album,T Shirts For Women,Inspired,Hot</td><td>The Killers - Mr. Brightside - Women's T-Shirt - Heather Dark Grey / S</td><td>4a844b03-e161-47a1-904b-591eb5dc4fb1</td></tr><tr><td>tattoos</td><td>We have put together the Ultimative Sunflower Tattoo Collection in 2020. Check out our highest rated handpicked Sunflower designs here!</td><td>1</td><td>800k</td><td>https://i.pinimg.com/originals/18/de/6c/18de6c81a8637e224c7d63dce1414ceb.jpg</td><td>8930</td><td>image</td><td>Next Luxury</td><td>Local save in /data/tattoos</td><td>Sunflower Tattoo Sleeve,Sunflower Tattoo Shoulder,Sunflower Tattoo Small,Sunflower Tattoos,Sunflower Tattoo Design,Shoulder Tattoo,Sunflower Mandala Tattoo,Sunflower Tattoo Meaning,Form Tattoo</td><td>135 Sunflower Tattoo Ideas - [Best Rated Designs in 2021]</td><td>a2999c28-f7b2-4577-af87-49d21d6d8a18</td></tr><tr><td>travel</td><td>On our Calgary to Vancouver road trip we got to spend time in Banff, Canada. We visited the stunning Lake Moraine as well as Lake Louise and plenty of other of Canada's natural… </td><td>1</td><td>7k</td><td>https://i.pinimg.com/videos/thumbnails/originals/57/9d/52/579d52242ae5609978c754d393e44e81.0000001.jpg</td><td>9672</td><td>video</td><td>Travel Mad Mum</td><td>Local save in /data/travel</td><td>Beautiful Places To Travel,Cool Places To Visit,Beautiful Roads,Beautiful Scenery,Wonderful Places,Lac Moraine,Moraine Lake,Lac Louise,Natur Wallpaper</td><td>Lake Moraine, Banff, Canada</td><td>1a5050a4-ac82-472c-aeff-3457de8bbee9</td></tr><tr><td>education</td><td>Our family would rather spend time outdoors than indoors. We love nature! That said, sometimes mother nature is uncooperative. On these days, it can be fun to pull out some natu… </td><td>1</td><td>9k</td><td>https://i.pinimg.com/originals/d6/3b/1a/d63b1a2a36534ecac5d1fbd0d932403a.jpg</td><td>3729</td><td>image</td><td>My Little Poppies (Cait Curley, MA/CAGS)</td><td>Local save in /data/education</td><td>Diy Nature,Theme Nature,Nature Study,Science And Nature,Summer Science,Earth Science,Nature Crafts,Outdoor Education,Outdoor Learning</td><td>5 + Nature Games for Your Homeschool</td><td>ac90f1d2-dc9e-438c-b073-dd48511b80b0</td></tr><tr><td>mens-fashion</td><td>Looking for the coolest fall fashion for men this season? Click to read this article on fall fashion for men to look sharp on LLEGANCE.</td><td>1</td><td>28k</td><td>https://i.pinimg.com/originals/4c/bf/2d/4cbf2d6e04d2502612169220553f4cef.jpg</td><td>7294</td><td>image</td><td>LLEGANCE | Workwear Fashion Woman Advice For Driven Professionals</td><td>Local save in /data/mens-fashion</td><td>Fashion 90s,Autumn Fashion,Fashion Ideas,Trendy Fashion,Fashion Photo,Fashion Outfits,Fashion Trends,Urban Fashion Men,Men's Casual Fashion</td><td>Foolproof Fall Fashion For Men You'll Love</td><td>9d8409ef-bea7-4133-a021-c58b9c042210</td></tr><tr><td>christmas</td><td>Take a look at this new collection of Christmas decor featuring 16 Blissful Christmas Table Decor Ideas That You Must See. Happy holidays!</td><td>1</td><td>616k</td><td>https://i.pinimg.com/originals/5f/70/30/5f7030a35bb8a1491e915fb0ae29bcf5.jpg</td><td>2015</td><td>image</td><td>ArchitectureArtDesigns</td><td>Local save in /data/christmas</td><td>Kids Crafts,Christmas Crafts For Kids,Homemade Christmas,Christmas Projects,Holiday Crafts,Christmas Gift Ideas,Preschool Christmas,Tree Crafts,Christmas Inspiration</td><td>16 Blissful Christmas Table Decor Ideas That You Must See</td><td>72359164-4419-452c-81cb-74f30a5a26b7</td></tr><tr><td>event-planning</td><td>Do you love planning parties? Do you want to work-at-home? This post covers everything you need to know about becoming a home-based event planner!</td><td>1</td><td>110k</td><td>https://i.pinimg.com/originals/4d/a3/a4/4da3a4730418239f1b43ce81fb032c15.jpg</td><td>4913</td><td>image</td><td>The Work at Home Woman</td><td>Local save in /data/event-planning</td><td>Event Planning Tips,Event Planning Business,Party Planning,Business Ideas,Craft Business,Business Chic,Business Inspiration,Business Goals,Business Opportunities</td><td>How to Work From Home as an Event Planner</td><td>4d2d79c6-9ca8-46c9-a38e-931c5d967804</td></tr><tr><td>diy-and-crafts</td><td>One thing I love about Crafts is how the evolve! These toilet paper rolls are adorable and modern. I love that something as simple as a recycled toilet paper roll can be taken t… </td><td>1</td><td>502k</td><td>https://i.pinimg.com/originals/c6/cd/0d/c6cd0d04da9cfc11566cfd34eeb1f918.jpg</td><td>2959</td><td>image</td><td>CraftGossip.com</td><td>Local save in /data/diy-and-crafts</td><td>Toilet Paper Roll Crafts,Cardboard Crafts,Diy Paper,Paper Crafting,Toilet Paper Rolls,Cardboard Playhouse,Paper Art,Kids Crafts,Toddler Crafts</td><td>The Cutest Toilet Paper Crafts</td><td>439cac4b-18e8-4aaa-88c5-edb26a701111</td></tr><tr><td>travel</td><td>35 European bucket list destinations for any traveler heading to Europe. From Cinque Terre, Italy to Iceland - there are so many amazing sites to see in Europe.</td><td>1</td><td>28k</td><td>https://i.pinimg.com/originals/71/04/1a/71041ad83ede43d9665741e719c58a86.jpg</td><td>9875</td><td>image</td><td>Nicki </td><td>Local save in /data/travel</td><td>Backpacking Europe,Europe Travel Guide,Travel Guides,Travel Packing,Traveling Europe,Travelling,Travel Backpack,Budget Travel,2 Week Europe Itinerary</td><td>European Bucket List: 35 Things NOT To Miss When Traveling Europe</td><td>782dcbad-ff91-40a6-ba60-216efe29adb7</td></tr><tr><td>art</td><td>Fashion designer Issac Mizrahi’s Greenwich Village home is an amalgamation of three apartments that was 20 years in the making</td><td>1</td><td>3M</td><td>https://i.pinimg.com/originals/f4/6c/54/f46c546a2e480022a42d842b7dca157e.jpg</td><td>428</td><td>image</td><td>Architectural Digest</td><td>Local save in /data/art</td><td>Modern Art,Contemporary Art,Contemporary Kitchens,Contemporary Bedroom,New York City Apartment,Manhattan Apartment,Art Moderne,Architectural Digest,Painting Inspiration</td><td>Fashion Designer Isaac Mizrahi’s Updated 1930s New York City Apartment</td><td>610b3f83-9fe0-469d-946c-d16b577fca71</td></tr><tr><td>beauty</td><td>What are the basic things you need for makeup? Let’s be honest, ladies; all women can do makeup, yet not all women know how to do makeup right. The good news is, this post can t… </td><td>1</td><td>799k</td><td>https://i.pinimg.com/originals/2c/1a/d4/2c1ad45b5c54034a2dbc73c84a89f5e4.jpg</td><td>1371</td><td>image</td><td>Glaminati</td><td>Local save in /data/beauty</td><td>Contouring Makeup,Skin Makeup,Beauty Makeup,Makeup Brushes,Eyeliner Makeup,Makeup Tips Lips,Makeup 101,Cheap Makeup,Rosa Eyeliner</td><td>How To Do Makeup - Step By Step Tips For The Perfect Look</td><td>33e92ac1-73d1-4c31-9892-d5e633060790</td></tr><tr><td>education</td><td>behavior, special education, token boards, when token boards don't work, money token systems</td><td>1</td><td>11k</td><td>https://i.pinimg.com/originals/24/f9/e2/24f9e22ada4a79c61432ef6c8fe1d0f9.jpg</td><td>3800</td><td>image</td><td>Traci Bender - The Bender Bunch</td><td>Local save in /data/education</td><td>Special Education Behavior,Classroom Behavior Management,Behavior Plans,Behaviour Management,Behavior Charts,Behavior Board,Behavior Report,Behavior Analyst,Preschool Special Education</td><td>Reinforcing the Difficult Child When Token Boards Don't Work!</td><td>d2c367ed-9287-4ea3-b173-198b292d9981</td></tr><tr><td>diy-and-crafts</td><td>HELPFUL RESOURCES – Check out my resin colorants resources page here with links to all the products mentioned in this article (and more). Let me know if you have any that you lo… </td><td>1</td><td>6k</td><td>https://i.pinimg.com/originals/d4/12/78/d4127833023ca32600571ddca16f1556.jpg</td><td>3454</td><td>image</td><td>Mixed Media Crafts</td><td>Local save in /data/diy-and-crafts</td><td>Epoxy Resin Art,Diy Resin Art,Diy Resin Crafts,Resin Molds,Ice Resin,Resin Pour,Diy Epoxy,Diy Resin Painting,Diy Resin Dice</td><td>What can you use to color resin?</td><td>46bd3f86-b09d-4e29-9033-7ff2df595e51</td></tr><tr><td>home-decor</td><td>No description available Story format</td><td>1</td><td>117k</td><td>https://i.pinimg.com/videos/thumbnails/originals/75/48/3b/75483b74822855519ec8b40df4c670ef.0000001.jpg</td><td>6398</td><td>multi-video(story page format)</td><td>MojisStyle</td><td>Local save in /data/home-decor</td><td>Decor Home Living Room,Home And Living,Diy Bedroom Decor,Home Decor,Bathroom Interior Design,Interior Design Living Room,Dream Home Design,House Design,Beautiful Bathrooms</td><td>My master bathroom makeover with @flooranddecor ! Follow me on Instagram @Mojisstyle for more</td><td>ea44d318-2ced-4cf8-a66f-a6a036b84faa</td></tr><tr><td>finance</td><td>Description Coupon Organizer in a fun colorful fabric -island oasis, Great Size for the \"basic\" couponer - holds up to 500 coupons with ease, and is made long enough so that you… </td><td>1</td><td>0</td><td>https://i.pinimg.com/originals/65/bb/ea/65bbeaf458907bb079317d8303c4fa0e.jpg</td><td>5730</td><td>image</td><td>Consuelo Aguirre</td><td>Local save in /data/finance</td><td>Grocery Items,Grocery Coupons,Care Organization,Coupon Organization,Extreme Couponing,Couponing 101,Life Binder,Save My Money,Love Coupons</td><td>Island Oasis Coupon Organizer</td><td>1e1f0c8b-9fcf-460b-9154-c775827206eb</td></tr><tr><td>finance</td><td>Description Coupon Organizer in a fun colorful fabric -island oasis, Great Size for the \"basic\" couponer - holds up to 500 coupons with ease, and is made long enough so that you… </td><td>1</td><td>0</td><td>https://i.pinimg.com/originals/65/bb/ea/65bbeaf458907bb079317d8303c4fa0e.jpg</td><td>5730</td><td>image</td><td>Consuelo Aguirre</td><td>Local save in /data/finance</td><td>Grocery Items,Grocery Coupons,Care Organization,Coupon Organization,Extreme Couponing,Couponing 101,Life Binder,Save My Money,Love Coupons</td><td>Island Oasis Coupon Organizer</td><td>1e1f0c8b-9fcf-460b-9154-c775827206eb</td></tr><tr><td>finance</td><td>Description Coupon Organizer in a fun colorful fabric -island oasis, Great Size for the \"basic\" couponer - holds up to 500 coupons with ease, and is made long enough so that you… </td><td>1</td><td>0</td><td>https://i.pinimg.com/originals/65/bb/ea/65bbeaf458907bb079317d8303c4fa0e.jpg</td><td>5730</td><td>image</td><td>Consuelo Aguirre</td><td>Local save in /data/finance</td><td>Grocery Items,Grocery Coupons,Care Organization,Coupon Organization,Extreme Couponing,Couponing 101,Life Binder,Save My Money,Love Coupons</td><td>Island Oasis Coupon Organizer</td><td>1e1f0c8b-9fcf-460b-9154-c775827206eb</td></tr><tr><td>vehicles</td><td>January 23, 2009 We can see emergency responders queueing up for this one. ATVCorp has created versions of its Prowler Light Tactical All Terrain Vehicle (LTATV) for fire-fighti… </td><td>1</td><td>314</td><td>https://i.pinimg.com/originals/14/6b/6b/146b6b1a1127773f7046e08550e68ed0.jpg</td><td>10552</td><td>image</td><td>p hump</td><td>Local save in /data/vehicles</td><td>Army Vehicles,Armored Vehicles,Go Kart Buggy,Atv Attachments,Aviation Fuel,Special Forces,Special Ops,Terrain Vehicle,Emergency Response</td><td>The Prowler Emergency Response Vehicle</td><td>17301b8c-ccbb-42ad-b2df-3876df35b1cd</td></tr><tr><td>art</td><td>Learn to create alcohol ink rings for gorgeous pieces of art. Each ring sits on top of another, giving a multilayered appearance</td><td>1</td><td>7k</td><td>https://i.pinimg.com/originals/03/03/1f/03031fdc9775d0c06f61d68e51362379.png</td><td>603</td><td>image</td><td>Kim Cook-Thirteen Chairs-Slates Mugs And Tees</td><td>Local save in /data/art</td><td>Alcohol Ink Tiles,Alcohol Ink Glass,Alcohol Ink Crafts,Alcohol Ink Painting,Pour Painting,Zealand Tattoo,Copics,Types Of Art,Art Techniques</td><td>How to Create Alcohol Ink Rings For Gorgeous Pieces of Art -</td><td>78e21a64-53b0-4745-8294-e8c456f0ccc1</td></tr><tr><td>art</td><td>10 art sub lessons that only need a pencil. Cover lessons for art teachers. Make the perfect art sub lessson folder with this amazing resources.</td><td>1</td><td>25k</td><td>https://i.pinimg.com/originals/ee/a8/78/eea878911033897d981a69d9f6b2fb7c.png</td><td>719</td><td>image</td><td>The Arty Teacher</td><td>Local save in /data/art</td><td>Art Lessons For Kids,Art Lessons Elementary,Art For Kids,Art Sub Plans,Art Lesson Plans,Art Substitute Plans,High School Art,Middle School Art,Primary School Art</td><td>10 Art Sub Lessons that only need a Pencil</td><td>d7c53e34-9540-4f48-a31b-89b6ed1852bb</td></tr><tr><td>christmas</td><td>20 Christmas Decorating Ideas We Bet You Haven't Thought Of via @PureWow</td><td>1</td><td>868k</td><td>https://i.pinimg.com/originals/e9/b9/f0/e9b9f01cc3b2cf41948b45854335396c.jpg</td><td>2074</td><td>image</td><td>PureWow</td><td>Local save in /data/christmas</td><td>Holiday Centerpieces,Xmas Decorations,Centerpiece Ideas,Table Centerpieces,Valentine Decorations,Wedding Centerpieces,Outdoor Decorations,Christmas Centerpieces With Candles,Christmas Dining Table Decorations</td><td>35 Christmas Decorating Ideas We Bet You Haven't Thought Of</td><td>86ed09a7-842d-496d-9501-010c654eb340</td></tr><tr><td>art</td><td>Free quick inspirational video on creating a mixed media face with acrylic, collage, stenciling and simple techniques. Come on over to watch</td><td>1</td><td>27k</td><td>https://i.pinimg.com/videos/thumbnails/originals/05/86/a4/0586a4116e1fc34efc25e064ccd123e8.0000001.jpg</td><td>831</td><td>video</td><td>Shawn Petite</td><td>Local save in /data/art</td><td>Collage Kunst,Paper Collage Art,Collage Art Mixed Media,Mixed Media Painting,Mixed Media Canvas,Canvas Collage,Art Collages,Wall Canvas,Canvas Art</td><td>creating mixed-media faces tutorial</td><td>5e65914d-9f58-4ff1-9676-658e426e8ce5</td></tr><tr><td>beauty</td><td>The oil cleansing method is a simple, natural way to have clean skin without using toxic chemicals. It will leave your face radiant and soft!</td><td>1</td><td>85k</td><td>https://i.pinimg.com/originals/2c/1c/da/2c1cda7da86ee711536bbacfe89c75c9.jpg</td><td>1545</td><td>image</td><td>Thank Your Body</td><td>Local save in /data/beauty</td><td>Beauty Care,Diy Beauty,Beauty Hacks,Beauty Shop,Oil Cleansing Method,Goji,Korean Skincare Routine,Homemade Beauty Products,Organic Beauty</td><td>Oil Cleansing Method: What it is and why you should do it.</td><td>0c629541-cc5b-4b61-bd3f-613346893258</td></tr><tr><td>art</td><td>Use our easy step by step tutorial to create a DIY abstract heart painting on any canvas size. Lots of inspiration to help you choose colors.</td><td>1</td><td>410k</td><td>https://i.pinimg.com/originals/33/85/f8/3385f82ee5e8ecdcccdf798bdcbee3d2.jpg</td><td>205</td><td>image</td><td>The Creativity Exchange</td><td>Local save in /data/art</td><td>Painting & Drawing,Watercolor Paintings,Original Paintings,Owl Watercolor,Acrylic Paintings,Owl Art,Bird Art,Beginner Painting,Animal Paintings</td><td>DIY Abstract Heart Painting and a Fun Paint Party</td><td>f4afd543-b9fe-44c3-8064-f2198faa1372</td></tr><tr><td>art</td><td>Kids will use chalk pastels and black paper to create this bold and bright hot chocolate art project! Easy to follow tutorial included.</td><td>1</td><td>20k</td><td>https://i.pinimg.com/originals/5a/d3/82/5ad38202cf8acb022cb8f46ce2a78ad6.jpg</td><td>808</td><td>image</td><td>Projects with Kids</td><td>Local save in /data/art</td><td>Hot Chocolate Art,Chocolate Crafts,Art Activities For Kids,Preschool Art,Preschool Winter,Christmas Activities,Winter Art Projects,Clay Art Projects,Chalk Pastel Art</td><td>Chalk Pastel Hot Chocolate Art Project</td><td>23f67e42-db9f-4aae-8b82-cbec64ad9f4d</td></tr><tr><td>beauty</td><td>Skin Purging sorgt für die reinste Haut, die du jemals hattest #skin äpurging #skinpurging #skincare #hautpflege #schönehaut #haut #beauty #tips</td><td>1</td><td>326k</td><td>https://i.pinimg.com/originals/93/b2/7b/93b27be044b2fd2f227f30a7f2c2faf2.jpg</td><td>1555</td><td>image</td><td>ELLE Germany</td><td>Local save in /data/beauty</td><td>Natural Hair Mask,Natural Hair Styles,Natural Beauty,Skin Tag,How To Apply Makeup,Pimples,Beauty Routines,Skincare Routine,Glowing Skin</td><td>Skin Purging: Die Pflegemethode für reine Haut | ELLE</td><td>1f20551b-a21c-4ff0-b20d-49e95fdc50d3</td></tr><tr><td>finance</td><td>Don't fight about budgets and money with your spouse! Here are a few tips that we've found that make it work in our marriage!</td><td>1</td><td>313</td><td>https://i.pinimg.com/originals/37/d5/82/37d58296bcef3471a633c76b89d8625e.jpg</td><td>5468</td><td>image</td><td>Annamarie Hilton</td><td>Local save in /data/finance</td><td>Ways To Save Money,Money Tips,Money Saving Tips,How To Make Money,Managing Money,Saving Time,College Fund,Scholarships For College,Education College</td><td>Budgets, Spouses & Making It Work! - Tshanina Peterson</td><td>91ee49f6-0070-4270-ba19-fde88ba51c91</td></tr><tr><td>quotes</td><td>Are you looking for some heart touching sad quotes and sayings; Here we have collected for you 50 best heart touching sad quotes..</td><td>1</td><td>112</td><td>https://i.pinimg.com/originals/0c/0f/40/0c0f408d96458080e0c82adb50be8e8f.jpg</td><td>7790</td><td>image</td><td>AnnaLee Kick</td><td>Local save in /data/quotes</td><td>Crush Quotes For Girls,Sad Crush Quotes,Hurt Quotes,Love Me Quotes,Mood Quotes,Quotes To Live By,Life Quotes,Quotes Quotes,Sad Quotes That Make You Cry</td><td>50 Heart Touching Sad Quotes That Will Make You Cry</td><td>9cd89fb9-d1af-4e66-85ca-c9d656c918b4</td></tr><tr><td>beauty</td><td>Might try this... I'm generally skeptical about at-home remedies, but I know baking soda and lemons both do wonders. More</td><td>1</td><td>5M</td><td>https://i.pinimg.com/originals/c8/ab/af/c8abaffc56050f674eef8e65ad684929.jpg</td><td>1422</td><td>image</td><td>BuzzFeed</td><td>Local save in /data/beauty</td><td>Baking Soda Lemon Juice,Diy Beauté,Tips Belleza,Belleza Natural,Health And Beauty Tips,Beauty Secrets,Beauty Advice,Diy Beauty Tips,Beauty Life Hacks</td><td>41 Life-Saving Beauty Hacks Every Girl Should Have In Her Arsenal</td><td>7bbe860c-a739-4ba9-babd-feb24bb6e4d9</td></tr><tr><td>vehicles</td><td>There are a lot of options of places to stay so you probably only have to book the initial one so you know the best place to land from the airport</td><td>1</td><td>171k</td><td>https://i.pinimg.com/originals/e9/01/4d/e9014d537dd2b81c606e8466cef3904c.jpg</td><td>10663</td><td>image</td><td>vintagetopia</td><td>Local save in /data/vehicles</td><td>Old Classic Cars,Classic Trucks,Old Vintage Cars,Antique Cars,Vintage Trucks,Antique Trucks,Cadillac,Convertible,Mustang</td><td>21+ Classic Car Picture of the 1950s - Vintagetopia</td><td>d5208c16-82ae-4fd1-87f0-36e5ef789412</td></tr><tr><td>diy-and-crafts</td><td>Keep the kids busy this summer with these easy diy crafts and projects. Creative and…</td><td>1</td><td>124k</td><td>https://i.pinimg.com/originals/b3/bc/e2/b3bce2964e8c8975387b39660eed5f16.jpg</td><td>2863</td><td>image</td><td>Of Life & Lisa | Lifestyle Blog</td><td>Local save in /data/diy-and-crafts</td><td>Summer Crafts For Kids,Fun Crafts For Kids,Summer Kids,Toddler Crafts,Crafts To Do,Diy For Kids,Summer Snow,Diys For Summer,Craft Ideas For Girls</td><td>25 Super Fun Summer Crafts for Kids - Of Life and Lisa</td><td>9bf39437-42a6-4f02-99a0-9a0383d8cd70</td></tr><tr><td>diy-and-crafts</td><td>Keep the kids busy this summer with these easy diy crafts and projects. Creative and…</td><td>1</td><td>124k</td><td>https://i.pinimg.com/originals/b3/bc/e2/b3bce2964e8c8975387b39660eed5f16.jpg</td><td>2863</td><td>image</td><td>Of Life & Lisa | Lifestyle Blog</td><td>Local save in /data/diy-and-crafts</td><td>Summer Crafts For Kids,Fun Crafts For Kids,Summer Kids,Toddler Crafts,Crafts To Do,Diy For Kids,Summer Snow,Diys For Summer,Craft Ideas For Girls</td><td>25 Super Fun Summer Crafts for Kids - Of Life and Lisa</td><td>9bf39437-42a6-4f02-99a0-9a0383d8cd70</td></tr><tr><td>diy-and-crafts</td><td>Keep the kids busy this summer with these easy diy crafts and projects. Creative and…</td><td>1</td><td>124k</td><td>https://i.pinimg.com/originals/b3/bc/e2/b3bce2964e8c8975387b39660eed5f16.jpg</td><td>2863</td><td>image</td><td>Of Life & Lisa | Lifestyle Blog</td><td>Local save in /data/diy-and-crafts</td><td>Summer Crafts For Kids,Fun Crafts For Kids,Summer Kids,Toddler Crafts,Crafts To Do,Diy For Kids,Summer Snow,Diys For Summer,Craft Ideas For Girls</td><td>25 Super Fun Summer Crafts for Kids - Of Life and Lisa</td><td>9bf39437-42a6-4f02-99a0-9a0383d8cd70</td></tr><tr><td>diy-and-crafts</td><td>Keep the kids busy this summer with these easy diy crafts and projects. Creative and…</td><td>1</td><td>124k</td><td>https://i.pinimg.com/originals/b3/bc/e2/b3bce2964e8c8975387b39660eed5f16.jpg</td><td>2863</td><td>image</td><td>Of Life & Lisa | Lifestyle Blog</td><td>Local save in /data/diy-and-crafts</td><td>Summer Crafts For Kids,Fun Crafts For Kids,Summer Kids,Toddler Crafts,Crafts To Do,Diy For Kids,Summer Snow,Diys For Summer,Craft Ideas For Girls</td><td>25 Super Fun Summer Crafts for Kids - Of Life and Lisa</td><td>9bf39437-42a6-4f02-99a0-9a0383d8cd70</td></tr><tr><td>tattoos</td><td>We welcome you to our latest collection of Beautiful Tattoo Ideas For Women. Check out and get inspired by the most beautiful design for yourself.</td><td>1</td><td>21k</td><td>https://i.pinimg.com/originals/fa/cf/7c/facf7cd752a4bc7c09faaa8925ab80b1.jpg</td><td>8653</td><td>image</td><td>ALL FOR WOMAN</td><td>Local save in /data/tattoos</td><td>Small Back Tattoos,Small Girl Tattoos,Little Tattoos,Tattoo Girls,Mini Tattoos,Tattoo Small,Back Tattoo Women,Tattoo On Back,Girl Back Tattoos</td><td>Unique Women Tattoos Ideas 2020</td><td>24b1343c-4d86-4705-8ec9-7f1f2df2d77e</td></tr><tr><td>diy-and-crafts</td><td>A fun space activity for kids. Preshoolers and kindergartners will love making their own alien spacecraft!</td><td>1</td><td>192k</td><td>https://i.pinimg.com/originals/6f/e8/aa/6fe8aa405513c6d2f77b5f47d17cdce8.jpg</td><td>2923</td><td>image</td><td>The Crafting Chicks</td><td>Local save in /data/diy-and-crafts</td><td>Paper Plate Crafts For Kids,Fun Crafts For Kids,Summer Crafts,Toddler Crafts,Art For Kids,Outer Space Crafts For Kids,Kid Crafts,Space Kids,Back To School Crafts For Kids</td><td>UFO Paper Plate Craft</td><td>52fa3af5-24a4-4ccb-8f17-9c3eb12327ee</td></tr><tr><td>travel</td><td>Volcanoes, hikes, and hot springs in Costa Rica! The ultimate 5 day travel itinerary. - #costarica #travel #blogging #blog #bucketlist</td><td>1</td><td>22k</td><td>https://i.pinimg.com/originals/60/fe/4c/60fe4c3602e8e50e2e9f787ed27d2aba.jpg</td><td>9936</td><td>image</td><td>Jess Wandering</td><td>Local save in /data/travel</td><td>Costa Rica Reisen,Costa Rica Travel,Vacation Places,Dream Vacations,Vacation Spots,Vacation Food,Vacation Ideas,Voyage Dubai,Beautiful Places To Travel</td><td>Chasing Waterfalls in Costa Rica</td><td>1f3154a6-13f0-4049-8d5c-faea15b9f07c</td></tr><tr><td>quotes</td><td>motivation quotes</td><td>1</td><td>45k</td><td>https://i.pinimg.com/originals/ee/b4/bc/eeb4bccdb074edb787ea61711e0c4dfd.jpg</td><td>7768</td><td>image</td><td>Boss Babe Chronicles | Personal Development, Finances, Self Care</td><td>Local save in /data/quotes</td><td>Motivacional Quotes,Motivational Quotes For Life,Uplifting Quotes,True Quotes,Words Quotes,Empowering Quotes,Boss Up Quotes,Inspirational Success Quotes,Boss Babe Quotes Work Hard</td><td>16 Motivational Quotes Get You Inspired Today - Boss Babe Chronicles</td><td>ae1a61f6-d958-40fe-ba93-6a78b3a73178</td></tr><tr><td>beauty</td><td>Here’s how to get long-lasting makeup, so you can do your face in the morning and be set for the entire day. Follow these makeup tips for foundation, lipstick and more using pro… </td><td>1</td><td>3k</td><td>https://i.pinimg.com/originals/d9/d1/3b/d9d13b9ac47d54940f05a75345a873d4.jpg</td><td>1268</td><td>image</td><td>Tony</td><td>Local save in /data/beauty</td><td>Beauty Makeup,Eye Makeup,Diy Beauty,Beauty Ideas,Beauty Skin,Homemade Beauty,Wolf Makeup,Oily Skin Makeup,Face Beauty</td><td>Janet on Twitter</td><td>e2f2cec5-cda5-42b2-ab9d-6dddf863e94e</td></tr><tr><td>art</td><td>Mountain monologue watercolor</td><td>1</td><td>27k</td><td>https://i.pinimg.com/originals/fd/54/89/fd548935dcb13545120a2115baaa41d9.jpg</td><td>46</td><td>image</td><td>It's me, JD | DIY, Crafts, Home & Organization</td><td>Local save in /data/art</td><td>Arte Inspo,Kunst Inspo,Watercolor Artists,Watercolor Ideas,Simple Watercolor,Tattoo Watercolor,Watercolor Techniques,Watercolor Animals,Watercolor Illustration</td><td>10 Watercolor Hacks For Beginners | Tips and Tricks to Making Watercolor Painting Easier</td><td>19234073-8905-4885-b0d5-98e0b84cbf27</td></tr><tr><td>finance</td><td>How to Get Rid of Cable and Still Watch all of your favorite shows! Saving Money Tips for TV & Cable!</td><td>1</td><td>330k</td><td>https://i.pinimg.com/originals/c9/18/be/c918be2784382dc49010719bf1742a61.jpg</td><td>5309</td><td>image</td><td>Passion For Savings</td><td>Local save in /data/finance</td><td>Ways To Save Money,Money Tips,Money Saving Tips,Money Hacks,Managing Money,Cable Tv Alternatives,Budget Planer,Financial Tips,Financial Planning</td><td>How to Watch Your Favorite Shows Without Cable</td><td>c38bb47b-9584-4fc4-af0d-a31e1061df41</td></tr><tr><td>travel</td><td>The best trips to take when you are young!</td><td>1</td><td>89k</td><td>https://i.pinimg.com/videos/thumbnails/originals/81/97/c1/8197c1beef8bcb19bea5d8b422211f34.0000001.jpg</td><td>9546</td><td>video</td><td>The World Pursuit Travel Website</td><td>Local save in /data/travel</td><td>Fun Places To Go,Beautiful Places To Travel,Best Places To Travel,Travel Jobs,Holiday Places,Future Travel,Travel Around The World,Adventure Travel,Travel Photos</td><td>20 Amazing Trips to Take in Your Twenties!</td><td>efd5b2d6-2f69-40cd-bb59-41f18c089e52</td></tr><tr><td>finance</td><td>Get your personal finance in order with these 8 fr…</td><td>1</td><td>46k</td><td>https://i.pinimg.com/originals/f1/4f/cc/f14fcc75ee73ff22c983bdce70c022e2.jpg</td><td>5630</td><td>image</td><td>R.J. Weiss at The Ways To Wealth | Personal Finance | Debt Payoff</td><td>Local save in /data/finance</td><td>Ways To Save Money,Money Tips,Money Saving Tips,Money Budget,Saving Ideas,Budgeting Finances,Budgeting Tips,Planning Budget,Budget Planer</td><td>7 Insanely Useful Money Management Worksheets</td><td>d41e703c-c97c-4c5a-9f9c-338982ca7504</td></tr><tr><td>tattoos</td><td>Koi fish tattoos are a popular choice for men who want to make a statement, thanks to their rich symbolism and bold design.</td><td>1</td><td>211k</td><td>https://i.pinimg.com/originals/8a/0c/0a/8a0c0a7b6236565c519acd41ad1a52c0.jpg</td><td>8731</td><td>image</td><td>TheTrendSpotter</td><td>Local save in /data/tattoos</td><td>Dr Tattoo,Wörter Tattoos,Pisces Tattoos,Tatoo Art,Dream Tattoos,Dope Tattoos,Mini Tattoos,Finger Tattoos,Body Art Tattoos</td><td>20 Koi Fish Tattoos For Lucky Men</td><td>ea760f71-febf-4023-b592-d17396659039</td></tr><tr><td>quotes</td><td>#lovequotes #matchmaker #matchmadeinheaven #loveyourself #respectyourself</td><td>1</td><td>51k</td><td>https://i.pinimg.com/originals/c6/64/ee/c664ee71524fb5a6e7b7b49233f93b43.png</td><td>8304</td><td>image</td><td>Commitment Connection</td><td>Local save in /data/quotes</td><td>Wise Quotes,Quotable Quotes,Words Quotes,Wise Words,Quotes To Live By,Great Quotes,Motivational Quotes,Inspirational Quotes,Funny Quotes</td><td>The #1 Reason You’re Not His Priority Anymore - Matthew Coast</td><td>5b6d0913-25e4-43ab-839d-85d5516f78a4</td></tr><tr><td>quotes</td><td>#lovequotes #matchmaker #matchmadeinheaven #loveyourself #respectyourself</td><td>1</td><td>51k</td><td>https://i.pinimg.com/originals/c6/64/ee/c664ee71524fb5a6e7b7b49233f93b43.png</td><td>8304</td><td>image</td><td>Commitment Connection</td><td>Local save in /data/quotes</td><td>Wise Quotes,Quotable Quotes,Words Quotes,Wise Words,Quotes To Live By,Great Quotes,Motivational Quotes,Inspirational Quotes,Funny Quotes</td><td>The #1 Reason You’re Not His Priority Anymore - Matthew Coast</td><td>5b6d0913-25e4-43ab-839d-85d5516f78a4</td></tr><tr><td>art</td><td>No description available Story format</td><td>1</td><td>29k</td><td>https://i.pinimg.com/videos/thumbnails/originals/17/49/16/1749164b93866d4eac32a52a3ccfd40a.0000001.jpg</td><td>223</td><td>multi-video(story page format)</td><td>Jasminxg</td><td>Local save in /data/art</td><td>Simple Canvas Paintings,Easy Nature Paintings,Tree Paintings,Cool Paintings,Watercolor Art Lessons,Watercolor Paintings For Beginners,Gouache Painting,Painting Art,Mandala Art Lesson</td><td>Easy Gouache painting</td><td>8672f996-6ce9-403e-9599-2c4df668f1e0</td></tr><tr><td>mens-fashion</td><td>imgentleboss: “ - More about men’s fashion at @Gentleboss - GB’s Facebook - ”</td><td>1</td><td>940</td><td>https://i.pinimg.com/originals/e7/6e/8e/e76e8ed6cc838b84a934c6948a5caff7.jpg</td><td>7554</td><td>image</td><td>iElylike ..✿◕‿◕✿ஐ✿◕‿◕✿</td><td>Local save in /data/mens-fashion</td><td>Mens Fashion Blog,Look Fashion,Autumn Fashion,Fashion News,Fashion Sale,80s Fashion,Paris Fashion,Runway Fashion,Fashion Trends</td><td>Craig Style</td><td>c6fa12f4-0d4a-4b07-a335-5bf9f37f8281</td></tr><tr><td>tattoos</td><td>Tattoos are one of the most efficient ways through which one decides to express themselves…</td><td>1</td><td>4k</td><td>https://i.pinimg.com/originals/ab/8e/50/ab8e505b04d4abc8f23e273c15f8a65d.jpg</td><td>8887</td><td>image</td><td>RapidLeaks</td><td>Local save in /data/tattoos</td><td>Dream Tattoos,Body Art Tattoos,New Tattoos,Small Tattoos,Cross Tattoos,Random Tattoos,Fashion Tattoos,Bird Tattoos,Fitness Tattoos</td><td>25 Ultra Sexy Back Tattoo Ideas For Girls</td><td>5df9f6e5-07f5-4ce8-a82e-96586bbc05d8</td></tr><tr><td>vehicles</td><td>No description available Story format</td><td>1</td><td>89k</td><td>https://i.pinimg.com/videos/thumbnails/originals/4a/d4/96/4ad4961606179854f1141a90f50f002c.0000001.jpg</td><td>10509</td><td>multi-video(story page format)</td><td>TheSuperBOO!</td><td>Local save in /data/vehicles</td><td>Electric Off Road Vehicle,Cool Illusions,Flying Vehicles,Wow Video,Art And Craft Videos,Top Luxury Cars,Chevy Muscle Cars,Street Racing Cars,Funny Videos Clean</td><td>Flying Car</td><td>6a5f0e7e-1389-4e54-942f-4cb69f09f140</td></tr><tr><td>beauty</td><td>Instantly create the look of lash extensions with this award-winning, best-selling mascara that won't clump, flake or smudge. Available in 3 shades!</td><td>1</td><td>43k</td><td>https://i.pinimg.com/videos/thumbnails/originals/69/84/e2/6984e20f3e262098fa9c0614c3453254.0000001.jpg</td><td>1313</td><td>video</td><td>Thrive Causemetics</td><td>Local save in /data/beauty</td><td>N,o, ,T,a,g,s, ,A,v,a,i,l,a,b,l,e</td><td>Liquid Lash Extensions Mascara</td><td>44662045-e891-4821-8a19-ebe7eedd371a</td></tr><tr><td>vehicles</td><td>1937 Jaguar SS100 - 2 1/2 Litre Roadster, one of the most sought after pre-war sports cars</td><td>1</td><td>8k</td><td>https://i.pinimg.com/originals/26/81/a7/2681a71bd0c8f7fd0ab79c455338a49a.jpg</td><td>10625</td><td>image</td><td>hobbyDB</td><td>Local save in /data/vehicles</td><td>Jaguar Type E,Jaguar Xk,Jaguar Cars,Jaguar Roadster,Jaguar Sport,Retro Cars,Vintage Cars,Antique Cars,British Sports Cars</td><td>Jaguar Type E</td><td>d31885b7-742a-4e2a-bbb7-ac5f9d334340</td></tr><tr><td>event-planning</td><td>Fun Book Page Crafts - MomAdvice</td><td>1</td><td>112k</td><td>https://i.pinimg.com/originals/17/55/87/175587b334e71c12300453b8b4b4c6aa.jpg</td><td>4988</td><td>image</td><td>MomAdvice</td><td>Local save in /data/event-planning</td><td>Harry Potter Wedding,Harry Potter Theme,Wedding Book,Wedding Table,Wedding Ideas,Wedding Vintage,Garden Wedding,Vintage Party,Wedding Paper</td><td>Fun Book Page Crafts - MomAdvice</td><td>fbdfd355-a356-46c2-a251-301869ae2674</td></tr><tr><td>travel</td><td>Best spots to see for travel through Ireland!</td><td>1</td><td>130k</td><td>https://i.pinimg.com/originals/c7/50/d3/c750d36524856873d64406652d69b4fb.png</td><td>9590</td><td>image</td><td>Fun Life Crisis</td><td>Local save in /data/travel</td><td>Vacation Ideas,Vacation Spots,Emerald Isle,London England,Travel Guides,Travel Tips,Travel Hacks,Travel Packing,Places To Travel</td><td>Top 20 Things To See And Do In Ireland</td><td>b849e976-52f6-45d7-8b25-51559318f167</td></tr><tr><td>mens-fashion</td><td>billy-george: “Summer styles ”</td><td>1</td><td>377</td><td>https://i.pinimg.com/originals/3c/8c/53/3c8c534cd02334c50047bd3a4feccce9.jpg</td><td>6844</td><td>image</td><td>Au'vey Smith</td><td>Local save in /data/mens-fashion</td><td>Fashion Week Hommes,La Fashion Week,Fashion Moda,Urban Fashion,Trendy Fashion,Fashion Spring,Fashion 2017,New Mens Fashion,Trendy Clothing</td><td>♔the-fashman♔</td><td>69c3f268-274f-44bd-9cb4-427e64fefc44</td></tr><tr><td>beauty</td><td>Untitled</td><td>1</td><td>0</td><td>https://i.pinimg.com/originals/af/c4/59/afc459bd6e1fd8f9aef212504afebf3a.jpg</td><td>1014</td><td>image</td><td>Grecia Perales</td><td>Local save in /data/beauty</td><td>Hair Inspo,Hair Inspiration,Motivation Inspiration,Cl Rapper,Foto Glamour,Kreative Portraits,Classy Aesthetic,Pretty Hairstyles,Hair Looks</td><td>Hairstyles & Beauty</td><td>9ac94307-bb27-410e-b554-0a0ab6c19847</td></tr><tr><td>vehicles</td><td>Nissan GT-R. Sick.</td><td>1</td><td>437</td><td>https://i.pinimg.com/originals/0d/29/9f/0d299f3df020395aa7ce8387f40fbeed.jpg</td><td>10794</td><td>image</td><td>Ray Uyemura</td><td>Local save in /data/vehicles</td><td>Lowrider,Old Vintage Cars,Antique Cars,Austin Martin,Nissan Gtr Black,Jaguar,1959 Cadillac,Cadillac Ct6,Old School Cars</td><td>TireBuyer</td><td>c4bd2577-a7bb-4409-bb7a-17d5ed7e1cf1</td></tr><tr><td>beauty</td><td>9 colors lazy lipstick</td><td>1</td><td>8k</td><td>https://i.pinimg.com/originals/25/cf/8c/25cf8cb74b43ab95591342c2bbe4ecd8.jpg</td><td>1094</td><td>image</td><td>Jiew82633</td><td>Local save in /data/beauty</td><td>Nail Inspo,Lazy,Lipstick,How To Apply,Makeup,Colors,Products,Make Up,Lipsticks</td><td>9 colors lazy lipstick - 9 colors lazy lipstick4</td><td>6deacdcd-75ed-4dd8-8951-9b77453f38e0</td></tr><tr><td>diy-and-crafts</td><td>No description available Story format</td><td>0</td><td>User Info Error</td><td>Image src error.</td><td>3089</td><td>multi-video(story page format)</td><td>User Info Error</td><td>Local save in /data/diy-and-crafts</td><td>N,o, ,T,a,g,s, ,A,v,a,i,l,a,b,l,e</td><td>No Title Data Available</td><td>88f9227e-88d0-4b1c-b0be-bcfc3028b8e2</td></tr><tr><td>mens-fashion</td><td>No description available Story format</td><td>0</td><td>User Info Error</td><td>Image src error.</td><td>7528</td><td>multi-video(story page format)</td><td>User Info Error</td><td>Local save in /data/mens-fashion</td><td>N,o, ,T,a,g,s, ,A,v,a,i,l,a,b,l,e</td><td>No Title Data Available</td><td>fbe53c66-3442-4773-b19e-d3ec6f54dddf</td></tr><tr><td>mens-fashion</td><td>No description available Story format</td><td>0</td><td>User Info Error</td><td>Image src error.</td><td>7528</td><td>multi-video(story page format)</td><td>User Info Error</td><td>Local save in /data/mens-fashion</td><td>N,o, ,T,a,g,s, ,A,v,a,i,l,a,b,l,e</td><td>No Title Data Available</td><td>fbe53c66-3442-4773-b19e-d3ec6f54dddf</td></tr><tr><td>mens-fashion</td><td>No description available Story format</td><td>0</td><td>User Info Error</td><td>Image src error.</td><td>7528</td><td>multi-video(story page format)</td><td>User Info Error</td><td>Local save in /data/mens-fashion</td><td>N,o, ,T,a,g,s, ,A,v,a,i,l,a,b,l,e</td><td>No Title Data Available</td><td>fbe53c66-3442-4773-b19e-d3ec6f54dddf</td></tr><tr><td>mens-fashion</td><td>No description available Story format</td><td>0</td><td>User Info Error</td><td>Image src error.</td><td>7528</td><td>multi-video(story page format)</td><td>User Info Error</td><td>Local save in /data/mens-fashion</td><td>N,o, ,T,a,g,s, ,A,v,a,i,l,a,b,l,e</td><td>No Title Data Available</td><td>fbe53c66-3442-4773-b19e-d3ec6f54dddf</td></tr><tr><td>mens-fashion</td><td>No description available Story format</td><td>0</td><td>User Info Error</td><td>Image src error.</td><td>7528</td><td>multi-video(story page format)</td><td>User Info Error</td><td>Local save in /data/mens-fashion</td><td>N,o, ,T,a,g,s, ,A,v,a,i,l,a,b,l,e</td><td>No Title Data Available</td><td>fbe53c66-3442-4773-b19e-d3ec6f54dddf</td></tr></tbody></table></div>"
      ]
     },
     "metadata": {
      "application/vnd.databricks.v1+output": {
       "addedWidgets": {},
       "aggData": [],
       "aggError": "",
       "aggOverflow": false,
       "aggSchema": [],
       "aggSeriesLimitReached": false,
       "aggType": "",
       "arguments": {},
       "columnCustomDisplayInfos": {},
       "data": [
        [
         "christmas",
         "Christmas decorating ideas for porches. Beautiful holiday decor ideas for front porches both small and large. Outdoor decorations like sleds, lanterns, Christmas trees, wreaths,… ",
         1,
         "46k",
         "https://i.pinimg.com/videos/thumbnails/originals/40/83/f5/4083f5b4971bf235f89a4784ab87271e.0000001.jpg",
         2482,
         "video",
         "Life on Summerhill | Home, Holiday Decor & DIY Website",
         "Local save in /data/christmas",
         "Diy Christmas Decorations For Home,Farmhouse Christmas Decor,Christmas Home,Christmas Holidays,Christmas Front Porches,How To Decorate For Christmas,Christmas Porch Ideas,Christmas Decorating Ideas,Large Outdoor Christmas Decorations",
         "FORNT PORCH CHRISTMAS DECORATING IDEAS",
         "08604f20-fa17-4b9a-9949-781717eca6cd"
        ],
        [
         "travel",
         "This Costa Rica itinerary is the ultimate guide to spending two weeks in Costa Rica. Find out about visiting La Fortuna, Arenal, Monteverde, Naranjo, Corcovado National Park, Or… ",
         1,
         "10k",
         "https://i.pinimg.com/originals/30/93/cb/3093cb01d9de2d125fda8ba5e3e41946.jpg",
         10138,
         "image",
         "Wanderlust Chloe ✈️ Travel guides, inspo and adventure travel ✈️",
         "Local save in /data/travel",
         "Costa Rica Travel,Rio Celeste Costa Rica,Dream Vacations,Vacation Spots,Vacation Travel,Travel Pictures,Travel Photos,Fortuna Costa Rica,Costa Rica Pictures",
         "14 Amazing Things To Do In Costa Rica | Volcanoes, Waterfalls, Wildlife And More",
         "927c4658-cc3f-4b92-9b5c-70743d0c238d"
        ],
        [
         "christmas",
         "My favorite 75+ Neutral Christmas Home Decor for decorating your house during the Holiday Season in earth tones and a farmhouse, rustic style all winter. I love this modern, sim… ",
         1,
         "31k",
         "https://i.pinimg.com/originals/86/84/39/868439dd894969e3abd6a2a8a9fe1e9c.jpg",
         2604,
         "image",
         "Everyday Wholesome",
         "Local save in /data/christmas",
         "Colorful Christmas Decorations,Colorful Christmas Tree,Christmas Centerpieces,Christmas Colors,Xmas Colors,Winter Decorations,Christmas Trends,Christmas Inspiration,Christmas Home",
         "75+ Neutral Christmas Home Decor for the Holiday Season in Farmhouse Style using Earth Tones Modern",
         "087b0fa9-f901-4262-aa0a-6caf234d1b35"
        ],
        [
         "diy-and-crafts",
         "This post may contain affiliate links, read our Disclosure Policy for more information. As an Amazon Associate I earn from qualifying purchases, thank you! Make some cute handpr… ",
         1,
         "892k",
         "https://i.pinimg.com/originals/ff/fe/38/fffe384f3ec18a0d87cb2d80cc8c1499.jpg",
         3156,
         "image",
         "Michelle {CraftyMorning.com}",
         "Local save in /data/diy-and-crafts",
         "Christmas Gifts For Parents,Christmas Decorations For Kids,Christmas Crafts For Toddlers,Preschool Christmas,Christmas Crafts For Gifts,Christmas Activities,Toddler Crafts,Kids Christmas,Christmas Feeling",
         "Handprint Reindeer Ornaments - Crafty Morning",
         "fa6e31a4-18c2-4eca-a6d8-e903eee2c2a4"
        ],
        [
         "travel",
         "See families traveling all the time and wonder, \"how the heck do they afford this?\" Read 10 mistakes you might be making, and what you should do instead.",
         1,
         "9k",
         "https://i.pinimg.com/originals/0a/49/fb/0a49fbcec746c4219d3a6f30834f378e.jpg",
         10119,
         "image",
         "OUR NEXT ADVENTURE | family travel blog",
         "Local save in /data/travel",
         "Family Vacation Destinations,Vacation Trips,Travel Destinations,Vacation Ideas,Cheap Family Vacations,Vacation Travel,Best Family Vacation Spots,Vacation Quotes,Vacation Memories",
         "How to Afford Family Travel: 10 Mistakes You're Making (and what to do instead) | Our Next Adventure",
         "40eab9ba-7812-4f26-baca-35a6bed95a9f"
        ],
        [
         "diy-and-crafts",
         "Easy Christmas tree Craft Ideas for toddlers and preschoolers. Engage your kids in these DIY",
         1,
         "3k",
         "https://i.pinimg.com/originals/69/f0/75/69f075939d4449dffa69519756c30e26.png",
         3419,
         "image",
         "Kids Crafts & Free Preschool Printables- Sharing Our Experiences",
         "Local save in /data/diy-and-crafts",
         "Christmas Crafts For Kids To Make,Christmas Tree Painting,Christmas Activities For Kids,Easy Christmas Crafts For Toddlers,Kid Activities,Christmas Handprint Crafts,Christmas Tree Crafts,Christmas Baby,Xmas Tree",
         "Easy Christmas Tree Crafts Ideas for toddlers and preschoolers | Sharing Our Experiences",
         "d0b80187-0171-49b2-8ee4-572984244f65"
        ],
        [
         "finance",
         "If you love budgeting, make sure to give Dave Ramsey's 7 Baby Steps a try. Follow these steps to begin your debt snowball, build an emergency fund, invest and reach riches. I ca… ",
         1,
         "26k",
         "https://i.pinimg.com/originals/1e/9d/90/1e9d906e4e150e3b95187f3b76ea7c71.png",
         5494,
         "image",
         "Living Low Key | Save Money, Make Money, & Frugal Living",
         "Local save in /data/finance",
         "Financial Peace,Financial Tips,Saving Money Quotes,Total Money Makeover,Budgeting Finances,Money Management,Wealth Management,Personal Finance,Making Ideas",
         "Dave Ramsey's 7 Baby Steps: What Are They And Will They Work For You",
         "8fb2af68-543b-4639-8119-de33d28706ed"
        ],
        [
         "christmas",
         "Here are the best DIY Christmas Centerpieces ideas perfect for your Christmas & holiday season home decor. From Christmas Vignettes to Table Centerpieces.",
         1,
         "500k",
         "https://i.pinimg.com/originals/aa/6d/0f/aa6d0f44d7c1c96b998cb9aa6c4446b8.png",
         2418,
         "image",
         "HikenDip",
         "Local save in /data/christmas",
         "Farmhouse Christmas Decor,Rustic Christmas,Christmas Time,Vintage Christmas,Xmas,Primitive Christmas Crafts,Christmas Vignette,Indoor Christmas Decorations,Diy Christmas Ornaments",
         "100 DIY Christmas Centerpieces You'll Love To Decorate Your Home With For The Christmas Season - Hike n Dip",
         "da8745a6-5160-46c4-877d-181d50a729fd"
        ],
        [
         "quotes",
         "Trying to create your dream life but don't know where to start?! These vision board ideas are a great way to manifest a new you this year",
         1,
         "42k",
         "https://i.pinimg.com/originals/36/d1/be/36d1be632cbf9b6c8e377a052b31d064.jpg",
         8312,
         "image",
         "TheFab20s | Travel+Food+DIY+Listicles",
         "Local save in /data/quotes",
         "Positive Self Affirmations,Positive Affirmations Quotes,Affirmation Quotes,Quotes Positive,Motivational Quotes For Success Positivity,Business Success Quotes,Positive Vibes,Motivational Quotes For Women,Affirmations For Love",
         "8 Vision Board Ideas To Manifest Your Dreams - TheFab20s",
         "ca3c9bb0-7281-4b9b-8abf-201da0b68d62"
        ],
        [
         "quotes",
         "summcoco gives you inspiration for the women fashion trends you want. Thinking about a new look or lifestyle? This is your ultimate resource to get the hottest trends. 45 Top Li… ",
         1,
         "306k",
         "https://i.pinimg.com/originals/bb/c0/e6/bbc0e6a797079505f11ac12bcb0b8c66.jpg",
         7922,
         "image",
         "Sumcoco | Decor Ideas, Hairstyles, Nails Fashion Advice",
         "Local save in /data/quotes",
         "Life Quotes Love,Inspirational Quotes About Love,Mood Quotes,Motivational Quotes,Tears Quotes,Quotes About Sadness,Deep Quotes About Life,Quotes Quotes,Quote Life",
         "45 Top Life Quotes School Did Not Teach You",
         "a584581c-1b38-4731-a1cc-f36115ecf229"
        ],
        [
         "art",
         "Use your mini world figures to create this beautiful African sunset. Your kids will love learning about shadows, angles and distortion in this fun art and STEM activity for kids.",
         1,
         "4k",
         "https://i.pinimg.com/originals/e3/aa/35/e3aa350f8f104d0e59f26d7f17ea7461.png",
         771,
         "image",
         "Taming Little Monsters - Fun Activities for Kids",
         "Local save in /data/art",
         "African Art Projects,Cool Art Projects,Projects For Kids,African Art For Kids,African Crafts Kids,Art Club Projects,Art Education Projects,Tracing Art,African Sunset",
         "African Sunset Shadow Tracing Art - Taming Little Monsters",
         "a5021766-a8aa-4dc7-9857-4da6b8e3dc1a"
        ],
        [
         "event-planning",
         "Personalize your event or shop with a customized neon sign. Make a statement with your own custom vibes! This light is 32 -40 inches (80cm-100cm) if you need something bigger, p… ",
         1,
         "111",
         "https://i.pinimg.com/originals/e9/c0/7c/e9c07cf0cf16cab23764a36718ab76c1.jpg",
         4508,
         "image",
         "Life of Neon | Custom Neon Light Signs | Home Decor Wall Art",
         "Local save in /data/event-planning",
         "Our Wedding,Wedding Venues,Dream Wedding,Wedding Cakes,Church Wedding,Wedding Flowers,Lace Wedding,Wedding Rings,Wedding Dresses",
         "Custom Event and Shop Neon Sign Lights - Event & Shop",
         "9064f4a2-2753-476c-815e-db360f45a93e"
        ],
        [
         "education",
         "Hi everyone! As a teacher using the Orton-Gillingham approach, I am constantly looking for phonics activities that my students will find fun and engaging. Using Orton-Gillingham… ",
         1,
         "22k",
         "https://i.pinimg.com/originals/58/8e/38/588e380b19942a71a86a69d9c9973d25.png",
         4076,
         "image",
         "The Literacy Nest",
         "Local save in /data/education",
         "Literacy Games,Kindergarten Activities,Literacy Centers,Fun Phonics Activities,Listening Activities,Vocabulary Games,Literacy Stations,Letter Activities,Montessori Activities",
         "Phonics Activities Your Kids Will Love - The Literacy Nest",
         "3a52d364-7c04-47cb-a3e5-56d9e2b77528"
        ],
        [
         "christmas",
         "Over 40 of the BEST Homemade Christmas Ornaments...these easy Holiday crafts are so fun to make for Kids and Adults! Lots of great class party ideas!",
         1,
         "245k",
         "https://i.pinimg.com/originals/d0/d3/a3/d0d3a31e87296224d5ba8896904b5b88.jpg",
         2293,
         "image",
         "Kitchen Fun With My 3 Sons",
         "Local save in /data/christmas",
         "Diy Christmas Lights,Homemade Christmas Decorations,Christmas Crafts For Gifts,Mini Christmas Tree,Christmas Ornament Crafts,Homemade Christmas Gifts,Xmas Decorations,Simple Christmas,Handmade Christmas",
         "Over 40 of the BEST Homemade Christmas Ornament Ideas",
         "1fd7d4cc-54c1-4542-9c1f-449cb4c875f4"
        ],
        [
         "art",
         "This bee directed drawing and associated pages will help you create a fun and creative Valentine's Day Directed Drawing Art Project activity for your class.Choose to do a painti… ",
         1,
         "1M",
         "https://i.pinimg.com/originals/49/ff/2e/49ff2e83c0cefdd37213f6084c6f0566.jpg",
         159,
         "image",
         "Teachers Pay Teachers",
         "Local save in /data/art",
         "Classroom Art Projects,School Art Projects,Art Classroom,Art Projects For Kindergarteners,Spring Art Projects,Classroom Posters,Valentines Art Lessons,Valentines Day Activities,Grade 1 Art",
         "Valentine's Day Bee Directed Drawing {Art Project}",
         "841a161a-47b8-4161-884d-adeb67a28b1e"
        ],
        [
         "travel",
         "Are you traveling to Paris during the summer? Find out what to do in Paris, France during the summer. Fun summertime activities in Paris. Enjoy the incredible outdoors when trav… ",
         1,
         "3k",
         "https://i.pinimg.com/originals/6c/4c/90/6c4c90bba27ebf8c8bfe4c1acfb9f07a.jpg",
         9979,
         "image",
         "Petite in Paris",
         "Local save in /data/travel",
         "Torre Eiffel Paris,Tour Eiffel,Picnic In Paris,Hello France,Voyage Europe,Destination Voyage,Beautiful Places To Travel,Travel Aesthetic,Paris Travel",
         "Paris in the Summer. 10 fun things to do in Paris in the Summertime • Petite in Paris",
         "2b2abc85-fc51-481f-8ae6-17681993da28"
        ],
        [
         "travel",
         "Although you'd think Greek islands are fairly similar, you'd be completely wrong! Each island has it's own personality and appeal. Here are the 8 Best Greek Islands to visit, es… ",
         1,
         "42k",
         "https://i.pinimg.com/originals/06/1d/ce/061dce38929dec8e74844442116bea4a.jpg",
         9759,
         "image",
         "TheFab20s | Travel+Food+DIY+Listicles",
         "Local save in /data/travel",
         "Greek Islands To Visit,Best Greek Islands,Greece Islands,Cool Places To Visit,Places To Go,Best Places In Portugal,Copenhagen Travel,Paros Island,Santorini Island",
         "8 Best Greek Islands You Have To Visit - TheFab20s",
         "d105eb6e-0f9f-46e7-8d02-d24b62f6ae90"
        ],
        [
         "diy-and-crafts",
         "DIY Dollar Store Valentine’s Day Heart Wreath Decoration. There are so many great Valentine crafts at the Dollar Tree right now! During our last trip, we picked up a few supplie… ",
         1,
         "9k",
         "https://i.pinimg.com/originals/dc/f6/8a/dcf68adcc63c339c24fa5664f1115994.png",
         2698,
         "image",
         "South Lumina Style",
         "Local save in /data/diy-and-crafts",
         "Valentine Day Wreaths,Valentines Day Hearts,Valentines Day Decorations,Valentine Day Crafts,Holiday Crafts,Diy Christmas,Christmas Wreaths,Valentine Tree,Printable Valentine",
         "DIY Dollar Tree Valentine's Day Wreath",
         "73f16302-4871-486a-8836-947530526337"
        ],
        [
         "home-decor",
         "Holiday mantle decor, Christmas decor, metallic mercury glass style Christmas trees, eucalyptus vine, evergreen pine branches, white neutral holiday decor, cozy mantle for the h… ",
         1,
         "83k",
         "https://i.pinimg.com/originals/9d/82/1a/9d821a80acd8f90c16454e978bd9b115.jpg",
         6145,
         "image",
         "Stylin by Aylin",
         "Local save in /data/home-decor",
         "Winter Home Decor,Christmas Living Room Decor,Living Room Decor Cozy,Christmas Decor,Cozy Fireplace,Rustic Fireplace Decor,Fireplace Decorations,Rustic Room,House Decorations",
         "HOLIDAY MANTLE DECOR - @AMAZON & @TARGET FINDS",
         "82e13a07-db99-43a3-b1c0-89a4b75821da"
        ],
        [
         "art",
         "Easy to follow steps for this easy DIY wall art. Acrylic Paint Pouring with a blow dryer, Dutch paint pour. Written steps and full step by step video to help you do it too! 👍",
         1,
         "52k",
         "https://i.pinimg.com/videos/thumbnails/originals/d5/5e/fa/d55efa6ef50d35dac425cea935f39c89.0000001.jpg",
         427,
         "video",
         "Abbotts At Home",
         "Local save in /data/art",
         "Acrylic Pouring Art,Acrylic Wall Art,Acrylic Pouring Techniques,Acrylic Paintings,Art Paintings,Marble Art,Marble Painting,Pour Painting,Large Canvas Art",
         "DIY Acrylic Paint Pouring Wall Art - Abbotts At Home",
         "4a455340-09a2-4370-ad86-73d7964603db"
        ],
        [
         "christmas",
         "Christmas Trees From Pallet Wood | Holiday DIY: Deck the yard with some fun outdoor Christmas Trees! We made these merry and bright decorations from two old pallets we had lying… ",
         1,
         "3M",
         "https://i.pinimg.com/originals/64/7b/ca/647bca35169b7c144604116c64bcba8a.png",
         1704,
         "image",
         "Instructables",
         "Local save in /data/christmas",
         "Pallet Wood Christmas Tree,Wooden Christmas Crafts,Diy Christmas Tree,Christmas Projects,Holiday Crafts,Wooden Xmas Trees,Different Christmas Trees,Pallet Tree,Christmas Kitchen",
         "Christmas Trees From Pallet Wood | Holiday DIY",
         "5fbf9863-fb79-477c-a5b6-540c3020a55f"
        ],
        [
         "education",
         "Podcasts for Teachers or Parents of Teenagers: Teaching teens middle school and high school can feel joyful and rewarding most days, but can also frustrate you with one challeng… ",
         1,
         "25k",
         "https://i.pinimg.com/originals/50/19/31/501931a27ee4d076658980851b995b2c.jpg",
         4315,
         "image",
         "Math Giraffe",
         "Local save in /data/education",
         "Middle School Classroom,High School Students,High School Teachers,Middle School Tips,High School Counseling,Ela Classroom,High School Science,Future Classroom,Google Classroom",
         "Podcasts for Teachers or Parents of Teenagers",
         "21b59ba9-829d-4c33-8c27-4cd4c56d26b8"
        ],
        [
         "education",
         "This book presents 10 inspirational case studies of how centre leaders, principals and leadership teams in high-needs New Zealand educational settings have enacted leadership to… ",
         1,
         "2M",
         "https://i.pinimg.com/originals/0e/ea/c4/0eeac457780bbe43fcc5e9eaabd80f62.jpg",
         3599,
         "image",
         "Walmart",
         "Local save in /data/education",
         "Research Studies,Educational Leadership,Education System,Secondary School,Try It Free,Book Format,Social Justice,Young People,Paperback Books",
         "Educational Leadership in Aotearoa New Zealand : Issues of Context and Social Justice",
         "ff0dd945-dafa-411c-8cef-eb43e374e815"
        ],
        [
         "event-planning",
         "Sacramento California Wedding 2 Chic Events & Design Jodi Yorston Photography Wilson Vineyards Barn Miosa Couture Yellow Barn Vineyard Outdoor Candles DIY",
         1,
         "6M",
         "https://i.pinimg.com/originals/7e/45/90/7e45905fefa36347e83333fd6d091140.jpg",
         5069,
         "image",
         "Style Me Pretty",
         "Local save in /data/event-planning",
         "60th Anniversary Parties,Anniversary Decorations,Golden Anniversary,25th Wedding Anniversary,Anniversary Pictures,Anniversary Ideas,Birthday Decorations,Event Planning Design,Event Design",
         "The Vault: Curated & Refined Wedding Inspiration",
         "b75b6f87-deb3-444f-b29e-ce9161b2df49"
        ],
        [
         "mens-fashion",
         "Black And Brown Outfits You Need To Try This Fall Season. The trick with black and brown outfits is to know how to combine colors, fabrics, and shapes to get a cohesive look. So… ",
         1,
         "1M",
         "https://i.pinimg.com/originals/3e/49/09/3e4909c0ccc4dbba3cad83d97eab4a61.png",
         7343,
         "image",
         "Cultura Colectiva",
         "Local save in /data/mens-fashion",
         "Winter Outfits Men,Stylish Mens Outfits,Casual Outfits,Men Casual,Smart Casual,Outfits For Men,Fall Outfits,Mens Winter Boots,Business Casual Men",
         "This Fashion Rule Is Nonsense, And We Should All Forget About It",
         "b8c63a95-6fe8-4d7f-9455-1eef3462fee0"
        ],
        [
         "tattoos",
         "summcoco gives you inspiration for the women fashion trends you want. Thinking about a new look or lifestyle? This is your ultimate resource to get the hottest trends. 30+ Eagle… ",
         1,
         "306k",
         "https://i.pinimg.com/originals/8d/c6/ed/8dc6ed0b212393187a14c7d07a88060f.png",
         8606,
         "image",
         "Sumcoco | Decor Ideas, Hairstyles, Nails Fashion Advice",
         "Local save in /data/tattoos",
         "White Bird Tattoos,Rose Tattoos,Flower Tattoos,Tattoo Black,Bird And Flower Tattoo,Tattoo Floral,Mini Tattoos,Flower Art,Girls With Sleeve Tattoos",
         "30+ Eagle Tattoos Ideas for Women",
         "71757040-bfc8-4631-9cac-22801e61d9e3"
        ],
        [
         "tattoos",
         "Disney characters never go out with time. From small to bold, here are the best Disney tattoos that both adults and children will adore.",
         1,
         "190k",
         "https://i.pinimg.com/originals/29/1d/13/291d1361e275358df53c1db02b63d3a4.jpg",
         9074,
         "image",
         "Our Mindful Life",
         "Local save in /data/tattoos",
         "Small Disney Tattoos,Disney Thigh Tattoo,Matching Disney Tattoos,Disney Couple Tattoos,Disney Inspired Tattoos,Disney Sleeve Tattoos,Matching Best Friend Tattoos,Small Tattoos,3 Best Friend Tattoos",
         "77 Disney Tattoos To Unleash Your Magic Power - Our Mindful Life",
         "2adede06-7fb0-4b5f-8cf9-ce8e6d6fa6a1"
        ],
        [
         "home-decor",
         "Beautiful and easy ways to update every room in your home with fall decor. Plus, my favorite finds in fall decor for 2020!",
         1,
         "92k",
         "https://i.pinimg.com/originals/e5/ae/dc/e5aedc14ce557e3a69f672e0f8c88f6e.png",
         6063,
         "image",
         "Kristen | Lifestyle, Mom Tips & Teacher Stuff Blog",
         "Local save in /data/home-decor",
         "Fall Home Decor,Autumn Home,Fall Decor Outdoor,Front Porch Fall Decor,Home Decor Ideas,Porch Ideas For Fall,Fall Outdoor Decorating,Decorating Ideas For Fall,Fall Front Doors",
         "41 Gorgeous Fall Decor Ideas For Your Home - Chaylor & Mads",
         "60693727-4927-4bd6-a8c5-096a392d63e6"
        ],
        [
         "event-planning",
         "So you're thinking of getting your event planner certification, but how much do you REALLY know about event planning? Event planners need to be knowledgeable and able to answer… ",
         1,
         "5k",
         "https://i.pinimg.com/originals/6f/19/bc/6f19bce24921bf843540fc04da9eb6bf.jpg",
         5076,
         "image",
         "QC Career School",
         "Local save in /data/event-planning",
         "Diy Wedding Food,Best Wedding Makeup,Wedding Events,Wedding Tips,Wedding Stuff,Weddings,Event Planning Business,Business Events,Wedding Makeup Tutorial",
         "Quiz: Test Your Event IQ! - Pointers For Planners",
         "fa3af29c-dc78-4eed-a4c5-52a407ea04c0"
        ],
        [
         "art",
         "Nike trainers sprout plants and French perfumiers inspire by mysterious scientific icons in Katie Scott’s visions that take botanical illustration into the digital age",
         1,
         "908k",
         "https://i.pinimg.com/originals/16/8a/fa/168afae02d5ffc71da10cdb312de2cb1.jpg",
         552,
         "image",
         "The Guardian",
         "Local save in /data/art",
         "Art And Illustration,Illustration Inspiration,Botanical Illustration,Vintage Illustrations,Botanical Drawings,Botanical Prints,Arte Inspo,Insect Art,Psychedelic",
         "The herbal bed: Katie Scott's psychedelic flora and fauna – in pictures",
         "b82602a9-e434-42cf-9481-22f3f41d82ce"
        ],
        [
         "tattoos",
         "Snake temporary tattoo for collarbone. Spooky 3D tattoo for Halloween Includes 2 copies, 1 for the right side and 1 for the left side Apply with water and remove anytime with ba… ",
         1,
         "0",
         "https://i.pinimg.com/originals/d8/b7/a1/d8b7a11a3fe64e7fab91d3afb1536537.jpg",
         8578,
         "image",
         "Livitrevisani",
         "Local save in /data/tattoos",
         "Finger Tattoo Designs,Small Tattoo Designs,Finger Tattoos,Small 3d Tattoos,Cool Tattoos,Line Work Tattoo,Back Tattoo,Collarbone Tattoo,Tattoo Neck",
         "Snake Collarbone Temporary Tattoo. Halloween Tattoos  Spooky | Etsy",
         "036ec267-658b-4dad-a097-8ef0b4f30c0d"
        ],
        [
         "education",
         "15 Essential Classroom Items For First Year Teachers / First Year Teacher Must Haves",
         1,
         "5k",
         "https://i.pinimg.com/originals/4b/b9/a8/4bb9a85f609a8384ed9c9ab14e7bcea0.jpg",
         4137,
         "image",
         "Write Your Story | Budgeting, Healthy Lifestyle, Faith",
         "Local save in /data/education",
         "1st Year Teachers,First Year Teaching,First Grade Teachers,Elementary Teacher,Montessori Elementary,Teaching Reading,History Teachers,High School Classroom,First Grade Classroom",
         "15 Essential Classroom Items For First Year Teachers / First Year Teacher Must Haves",
         "bf275054-4464-448b-9143-1bf101aa366d"
        ],
        [
         "home-decor",
         "Celebrate fall with a neutral color palette with natural elements. This Navy and Neutral Fall Living Room + Kitchen Tour will make you rethink fall decor.",
         1,
         "178k",
         "https://i.pinimg.com/originals/f1/be/b6/f1beb6d3414f1c52929df39a83d8da9f.jpg",
         6566,
         "image",
         "Sand and Sisal",
         "Local save in /data/home-decor",
         "Fall Living Room,Coastal Living Rooms,Living Room Paint,Living Room Kitchen,Living Room Interior,Living Room Furniture,Living Room Decor,Living Area,Small Living",
         "Navy and Neutral Fall Living Room + Kitchen Tour - Sand and Sisal",
         "6d8848f8-f515-4935-8dae-5dd02304d76e"
        ],
        [
         "christmas",
         "Transform mini terra cotta pots into the sweetest gingerbread house ornaments! Kids will love making this adorable Christmas craft to hang on the tree.",
         1,
         "20k",
         "https://i.pinimg.com/originals/13/28/09/1328097d7c290d1bf8642b01a6ba1c6c.jpg",
         2411,
         "image",
         "Projects with Kids",
         "Local save in /data/christmas",
         "Noel Christmas,Diy Christmas Ornaments,Homemade Christmas,Simple Christmas,Gingerbread Ornaments,Christmas Gingerbread,Gingerbread Houses,Preschool Christmas,Ornaments Ideas",
         "The Sweetest Gingerbread House Ornaments Kids Can Make",
         "4e11801e-7a64-4f1e-90dd-e900677595c5"
        ],
        [
         "mens-fashion",
         "Women's T-shirt. Design inspired by the rock band The Killers' hit \"Mr. Brightside\". One of the greatest song from the album Hot Fuss released in 2004. Soft and light, 100% cott… ",
         1,
         "27",
         "https://i.pinimg.com/originals/8c/42/39/8c42391d35fcad51a4a79f7cd81bf26d.jpg",
         7166,
         "image",
         "Mala Rock | Rock T-shirts",
         "Local save in /data/mens-fashion",
         "Mr Brightside,Rock T Shirts,Greatest Songs,Timeless Classic,Rock Bands,Album,T Shirts For Women,Inspired,Hot",
         "The Killers - Mr. Brightside - Women's T-Shirt - Heather Dark Grey / S",
         "4a844b03-e161-47a1-904b-591eb5dc4fb1"
        ],
        [
         "tattoos",
         "We have put together the Ultimative Sunflower Tattoo Collection in 2020. Check out our highest rated handpicked Sunflower designs here!",
         1,
         "800k",
         "https://i.pinimg.com/originals/18/de/6c/18de6c81a8637e224c7d63dce1414ceb.jpg",
         8930,
         "image",
         "Next Luxury",
         "Local save in /data/tattoos",
         "Sunflower Tattoo Sleeve,Sunflower Tattoo Shoulder,Sunflower Tattoo Small,Sunflower Tattoos,Sunflower Tattoo Design,Shoulder Tattoo,Sunflower Mandala Tattoo,Sunflower Tattoo Meaning,Form Tattoo",
         "135 Sunflower Tattoo Ideas - [Best Rated Designs in 2021]",
         "a2999c28-f7b2-4577-af87-49d21d6d8a18"
        ],
        [
         "travel",
         "On our Calgary to Vancouver road trip we got to spend time in Banff, Canada. We visited the stunning Lake Moraine as well as Lake Louise and plenty of other of Canada's natural… ",
         1,
         "7k",
         "https://i.pinimg.com/videos/thumbnails/originals/57/9d/52/579d52242ae5609978c754d393e44e81.0000001.jpg",
         9672,
         "video",
         "Travel Mad Mum",
         "Local save in /data/travel",
         "Beautiful Places To Travel,Cool Places To Visit,Beautiful Roads,Beautiful Scenery,Wonderful Places,Lac Moraine,Moraine Lake,Lac Louise,Natur Wallpaper",
         "Lake Moraine, Banff, Canada",
         "1a5050a4-ac82-472c-aeff-3457de8bbee9"
        ],
        [
         "education",
         "Our family would rather spend time outdoors than indoors. We love nature! That said, sometimes mother nature is uncooperative. On these days, it can be fun to pull out some natu… ",
         1,
         "9k",
         "https://i.pinimg.com/originals/d6/3b/1a/d63b1a2a36534ecac5d1fbd0d932403a.jpg",
         3729,
         "image",
         "My Little Poppies (Cait Curley, MA/CAGS)",
         "Local save in /data/education",
         "Diy Nature,Theme Nature,Nature Study,Science And Nature,Summer Science,Earth Science,Nature Crafts,Outdoor Education,Outdoor Learning",
         "5 + Nature Games for Your Homeschool",
         "ac90f1d2-dc9e-438c-b073-dd48511b80b0"
        ],
        [
         "mens-fashion",
         "Looking for the coolest fall fashion for men this season? Click to read this article on fall fashion for men to look sharp on LLEGANCE.",
         1,
         "28k",
         "https://i.pinimg.com/originals/4c/bf/2d/4cbf2d6e04d2502612169220553f4cef.jpg",
         7294,
         "image",
         "LLEGANCE | Workwear Fashion Woman Advice For Driven Professionals",
         "Local save in /data/mens-fashion",
         "Fashion 90s,Autumn Fashion,Fashion Ideas,Trendy Fashion,Fashion Photo,Fashion Outfits,Fashion Trends,Urban Fashion Men,Men's Casual Fashion",
         "Foolproof Fall Fashion For Men You'll Love",
         "9d8409ef-bea7-4133-a021-c58b9c042210"
        ],
        [
         "christmas",
         "Take a look at this new collection of Christmas decor featuring 16 Blissful Christmas Table Decor Ideas That You Must See. Happy holidays!",
         1,
         "616k",
         "https://i.pinimg.com/originals/5f/70/30/5f7030a35bb8a1491e915fb0ae29bcf5.jpg",
         2015,
         "image",
         "ArchitectureArtDesigns",
         "Local save in /data/christmas",
         "Kids Crafts,Christmas Crafts For Kids,Homemade Christmas,Christmas Projects,Holiday Crafts,Christmas Gift Ideas,Preschool Christmas,Tree Crafts,Christmas Inspiration",
         "16 Blissful Christmas Table Decor Ideas That You Must See",
         "72359164-4419-452c-81cb-74f30a5a26b7"
        ],
        [
         "event-planning",
         "Do you love planning parties? Do you want to work-at-home? This post covers everything you need to know about becoming a home-based event planner!",
         1,
         "110k",
         "https://i.pinimg.com/originals/4d/a3/a4/4da3a4730418239f1b43ce81fb032c15.jpg",
         4913,
         "image",
         "The Work at Home Woman",
         "Local save in /data/event-planning",
         "Event Planning Tips,Event Planning Business,Party Planning,Business Ideas,Craft Business,Business Chic,Business Inspiration,Business Goals,Business Opportunities",
         "How to Work From Home as an Event Planner",
         "4d2d79c6-9ca8-46c9-a38e-931c5d967804"
        ],
        [
         "diy-and-crafts",
         "One thing I love about Crafts is how the evolve! These toilet paper rolls are adorable and modern. I love that something as simple as a recycled toilet paper roll can be taken t… ",
         1,
         "502k",
         "https://i.pinimg.com/originals/c6/cd/0d/c6cd0d04da9cfc11566cfd34eeb1f918.jpg",
         2959,
         "image",
         "CraftGossip.com",
         "Local save in /data/diy-and-crafts",
         "Toilet Paper Roll Crafts,Cardboard Crafts,Diy Paper,Paper Crafting,Toilet Paper Rolls,Cardboard Playhouse,Paper Art,Kids Crafts,Toddler Crafts",
         "The Cutest Toilet Paper Crafts",
         "439cac4b-18e8-4aaa-88c5-edb26a701111"
        ],
        [
         "travel",
         "35 European bucket list destinations for any traveler heading to Europe. From Cinque Terre, Italy to Iceland - there are so many amazing sites to see in Europe.",
         1,
         "28k",
         "https://i.pinimg.com/originals/71/04/1a/71041ad83ede43d9665741e719c58a86.jpg",
         9875,
         "image",
         "Nicki ",
         "Local save in /data/travel",
         "Backpacking Europe,Europe Travel Guide,Travel Guides,Travel Packing,Traveling Europe,Travelling,Travel Backpack,Budget Travel,2 Week Europe Itinerary",
         "European Bucket List: 35 Things NOT To Miss When Traveling Europe",
         "782dcbad-ff91-40a6-ba60-216efe29adb7"
        ],
        [
         "art",
         "Fashion designer Issac Mizrahi’s Greenwich Village home is an amalgamation of three apartments that was 20 years in the making",
         1,
         "3M",
         "https://i.pinimg.com/originals/f4/6c/54/f46c546a2e480022a42d842b7dca157e.jpg",
         428,
         "image",
         "Architectural Digest",
         "Local save in /data/art",
         "Modern Art,Contemporary Art,Contemporary Kitchens,Contemporary Bedroom,New York City Apartment,Manhattan Apartment,Art Moderne,Architectural Digest,Painting Inspiration",
         "Fashion Designer Isaac Mizrahi’s Updated 1930s New York City Apartment",
         "610b3f83-9fe0-469d-946c-d16b577fca71"
        ],
        [
         "beauty",
         "What are the basic things you need for makeup? Let’s be honest, ladies; all women can do makeup, yet not all women know how to do makeup right. The good news is, this post can t… ",
         1,
         "799k",
         "https://i.pinimg.com/originals/2c/1a/d4/2c1ad45b5c54034a2dbc73c84a89f5e4.jpg",
         1371,
         "image",
         "Glaminati",
         "Local save in /data/beauty",
         "Contouring Makeup,Skin Makeup,Beauty Makeup,Makeup Brushes,Eyeliner Makeup,Makeup Tips Lips,Makeup 101,Cheap Makeup,Rosa Eyeliner",
         "How To Do Makeup - Step By Step Tips For The Perfect Look",
         "33e92ac1-73d1-4c31-9892-d5e633060790"
        ],
        [
         "education",
         "behavior, special education, token boards, when token boards don't work, money token systems",
         1,
         "11k",
         "https://i.pinimg.com/originals/24/f9/e2/24f9e22ada4a79c61432ef6c8fe1d0f9.jpg",
         3800,
         "image",
         "Traci Bender - The Bender Bunch",
         "Local save in /data/education",
         "Special Education Behavior,Classroom Behavior Management,Behavior Plans,Behaviour Management,Behavior Charts,Behavior Board,Behavior Report,Behavior Analyst,Preschool Special Education",
         "Reinforcing the Difficult Child When Token Boards Don't Work!",
         "d2c367ed-9287-4ea3-b173-198b292d9981"
        ],
        [
         "diy-and-crafts",
         "HELPFUL RESOURCES – Check out my resin colorants resources page here with links to all the products mentioned in this article (and more). Let me know if you have any that you lo… ",
         1,
         "6k",
         "https://i.pinimg.com/originals/d4/12/78/d4127833023ca32600571ddca16f1556.jpg",
         3454,
         "image",
         "Mixed Media Crafts",
         "Local save in /data/diy-and-crafts",
         "Epoxy Resin Art,Diy Resin Art,Diy Resin Crafts,Resin Molds,Ice Resin,Resin Pour,Diy Epoxy,Diy Resin Painting,Diy Resin Dice",
         "What can you use to color resin?",
         "46bd3f86-b09d-4e29-9033-7ff2df595e51"
        ],
        [
         "home-decor",
         "No description available Story format",
         1,
         "117k",
         "https://i.pinimg.com/videos/thumbnails/originals/75/48/3b/75483b74822855519ec8b40df4c670ef.0000001.jpg",
         6398,
         "multi-video(story page format)",
         "MojisStyle",
         "Local save in /data/home-decor",
         "Decor Home Living Room,Home And Living,Diy Bedroom Decor,Home Decor,Bathroom Interior Design,Interior Design Living Room,Dream Home Design,House Design,Beautiful Bathrooms",
         "My master bathroom makeover with @flooranddecor ! Follow me on Instagram @Mojisstyle for more",
         "ea44d318-2ced-4cf8-a66f-a6a036b84faa"
        ],
        [
         "finance",
         "Description Coupon Organizer in a fun colorful fabric -island oasis, Great Size for the \"basic\" couponer - holds up to 500 coupons with ease, and is made long enough so that you… ",
         1,
         "0",
         "https://i.pinimg.com/originals/65/bb/ea/65bbeaf458907bb079317d8303c4fa0e.jpg",
         5730,
         "image",
         "Consuelo Aguirre",
         "Local save in /data/finance",
         "Grocery Items,Grocery Coupons,Care Organization,Coupon Organization,Extreme Couponing,Couponing 101,Life Binder,Save My Money,Love Coupons",
         "Island Oasis Coupon Organizer",
         "1e1f0c8b-9fcf-460b-9154-c775827206eb"
        ],
        [
         "finance",
         "Description Coupon Organizer in a fun colorful fabric -island oasis, Great Size for the \"basic\" couponer - holds up to 500 coupons with ease, and is made long enough so that you… ",
         1,
         "0",
         "https://i.pinimg.com/originals/65/bb/ea/65bbeaf458907bb079317d8303c4fa0e.jpg",
         5730,
         "image",
         "Consuelo Aguirre",
         "Local save in /data/finance",
         "Grocery Items,Grocery Coupons,Care Organization,Coupon Organization,Extreme Couponing,Couponing 101,Life Binder,Save My Money,Love Coupons",
         "Island Oasis Coupon Organizer",
         "1e1f0c8b-9fcf-460b-9154-c775827206eb"
        ],
        [
         "finance",
         "Description Coupon Organizer in a fun colorful fabric -island oasis, Great Size for the \"basic\" couponer - holds up to 500 coupons with ease, and is made long enough so that you… ",
         1,
         "0",
         "https://i.pinimg.com/originals/65/bb/ea/65bbeaf458907bb079317d8303c4fa0e.jpg",
         5730,
         "image",
         "Consuelo Aguirre",
         "Local save in /data/finance",
         "Grocery Items,Grocery Coupons,Care Organization,Coupon Organization,Extreme Couponing,Couponing 101,Life Binder,Save My Money,Love Coupons",
         "Island Oasis Coupon Organizer",
         "1e1f0c8b-9fcf-460b-9154-c775827206eb"
        ],
        [
         "vehicles",
         "January 23, 2009 We can see emergency responders queueing up for this one. ATVCorp has created versions of its Prowler Light Tactical All Terrain Vehicle (LTATV) for fire-fighti… ",
         1,
         "314",
         "https://i.pinimg.com/originals/14/6b/6b/146b6b1a1127773f7046e08550e68ed0.jpg",
         10552,
         "image",
         "p hump",
         "Local save in /data/vehicles",
         "Army Vehicles,Armored Vehicles,Go Kart Buggy,Atv Attachments,Aviation Fuel,Special Forces,Special Ops,Terrain Vehicle,Emergency Response",
         "The Prowler Emergency Response Vehicle",
         "17301b8c-ccbb-42ad-b2df-3876df35b1cd"
        ],
        [
         "art",
         "Learn to create alcohol ink rings for gorgeous pieces of art. Each ring sits on top of another, giving a multilayered appearance",
         1,
         "7k",
         "https://i.pinimg.com/originals/03/03/1f/03031fdc9775d0c06f61d68e51362379.png",
         603,
         "image",
         "Kim Cook-Thirteen Chairs-Slates Mugs And Tees",
         "Local save in /data/art",
         "Alcohol Ink Tiles,Alcohol Ink Glass,Alcohol Ink Crafts,Alcohol Ink Painting,Pour Painting,Zealand Tattoo,Copics,Types Of Art,Art Techniques",
         "How to Create Alcohol Ink Rings For Gorgeous Pieces of Art -",
         "78e21a64-53b0-4745-8294-e8c456f0ccc1"
        ],
        [
         "art",
         "10 art sub lessons that only need a pencil. Cover lessons for art teachers. Make the perfect art sub lessson folder with this amazing resources.",
         1,
         "25k",
         "https://i.pinimg.com/originals/ee/a8/78/eea878911033897d981a69d9f6b2fb7c.png",
         719,
         "image",
         "The Arty Teacher",
         "Local save in /data/art",
         "Art Lessons For Kids,Art Lessons Elementary,Art For Kids,Art Sub Plans,Art Lesson Plans,Art Substitute Plans,High School Art,Middle School Art,Primary School Art",
         "10 Art Sub Lessons that only need a Pencil",
         "d7c53e34-9540-4f48-a31b-89b6ed1852bb"
        ],
        [
         "christmas",
         "20 Christmas Decorating Ideas We Bet You Haven't Thought Of via @PureWow",
         1,
         "868k",
         "https://i.pinimg.com/originals/e9/b9/f0/e9b9f01cc3b2cf41948b45854335396c.jpg",
         2074,
         "image",
         "PureWow",
         "Local save in /data/christmas",
         "Holiday Centerpieces,Xmas Decorations,Centerpiece Ideas,Table Centerpieces,Valentine Decorations,Wedding Centerpieces,Outdoor Decorations,Christmas Centerpieces With Candles,Christmas Dining Table Decorations",
         "35 Christmas Decorating Ideas We Bet You Haven't Thought Of",
         "86ed09a7-842d-496d-9501-010c654eb340"
        ],
        [
         "art",
         "Free quick inspirational video on creating a mixed media face with acrylic, collage, stenciling and simple techniques. Come on over to watch",
         1,
         "27k",
         "https://i.pinimg.com/videos/thumbnails/originals/05/86/a4/0586a4116e1fc34efc25e064ccd123e8.0000001.jpg",
         831,
         "video",
         "Shawn Petite",
         "Local save in /data/art",
         "Collage Kunst,Paper Collage Art,Collage Art Mixed Media,Mixed Media Painting,Mixed Media Canvas,Canvas Collage,Art Collages,Wall Canvas,Canvas Art",
         "creating mixed-media faces tutorial",
         "5e65914d-9f58-4ff1-9676-658e426e8ce5"
        ],
        [
         "beauty",
         "The oil cleansing method is a simple, natural way to have clean skin without using toxic chemicals. It will leave your face radiant and soft!",
         1,
         "85k",
         "https://i.pinimg.com/originals/2c/1c/da/2c1cda7da86ee711536bbacfe89c75c9.jpg",
         1545,
         "image",
         "Thank Your Body",
         "Local save in /data/beauty",
         "Beauty Care,Diy Beauty,Beauty Hacks,Beauty Shop,Oil Cleansing Method,Goji,Korean Skincare Routine,Homemade Beauty Products,Organic Beauty",
         "Oil Cleansing Method: What it is and why you should do it.",
         "0c629541-cc5b-4b61-bd3f-613346893258"
        ],
        [
         "art",
         "Use our easy step by step tutorial to create a DIY abstract heart painting on any canvas size. Lots of inspiration to help you choose colors.",
         1,
         "410k",
         "https://i.pinimg.com/originals/33/85/f8/3385f82ee5e8ecdcccdf798bdcbee3d2.jpg",
         205,
         "image",
         "The Creativity Exchange",
         "Local save in /data/art",
         "Painting & Drawing,Watercolor Paintings,Original Paintings,Owl Watercolor,Acrylic Paintings,Owl Art,Bird Art,Beginner Painting,Animal Paintings",
         "DIY Abstract Heart Painting and a Fun Paint Party",
         "f4afd543-b9fe-44c3-8064-f2198faa1372"
        ],
        [
         "art",
         "Kids will use chalk pastels and black paper to create this bold and bright hot chocolate art project! Easy to follow tutorial included.",
         1,
         "20k",
         "https://i.pinimg.com/originals/5a/d3/82/5ad38202cf8acb022cb8f46ce2a78ad6.jpg",
         808,
         "image",
         "Projects with Kids",
         "Local save in /data/art",
         "Hot Chocolate Art,Chocolate Crafts,Art Activities For Kids,Preschool Art,Preschool Winter,Christmas Activities,Winter Art Projects,Clay Art Projects,Chalk Pastel Art",
         "Chalk Pastel Hot Chocolate Art Project",
         "23f67e42-db9f-4aae-8b82-cbec64ad9f4d"
        ],
        [
         "beauty",
         "Skin Purging sorgt für die reinste Haut, die du jemals hattest #skin äpurging #skinpurging #skincare #hautpflege #schönehaut #haut #beauty #tips",
         1,
         "326k",
         "https://i.pinimg.com/originals/93/b2/7b/93b27be044b2fd2f227f30a7f2c2faf2.jpg",
         1555,
         "image",
         "ELLE Germany",
         "Local save in /data/beauty",
         "Natural Hair Mask,Natural Hair Styles,Natural Beauty,Skin Tag,How To Apply Makeup,Pimples,Beauty Routines,Skincare Routine,Glowing Skin",
         "Skin Purging: Die Pflegemethode für reine Haut | ELLE",
         "1f20551b-a21c-4ff0-b20d-49e95fdc50d3"
        ],
        [
         "finance",
         "Don't fight about budgets and money with your spouse! Here are a few tips that we've found that make it work in our marriage!",
         1,
         "313",
         "https://i.pinimg.com/originals/37/d5/82/37d58296bcef3471a633c76b89d8625e.jpg",
         5468,
         "image",
         "Annamarie Hilton",
         "Local save in /data/finance",
         "Ways To Save Money,Money Tips,Money Saving Tips,How To Make Money,Managing Money,Saving Time,College Fund,Scholarships For College,Education College",
         "Budgets, Spouses & Making It Work! - Tshanina Peterson",
         "91ee49f6-0070-4270-ba19-fde88ba51c91"
        ],
        [
         "quotes",
         "Are you looking for some heart touching sad quotes and sayings; Here we have collected for you 50 best heart touching sad quotes..",
         1,
         "112",
         "https://i.pinimg.com/originals/0c/0f/40/0c0f408d96458080e0c82adb50be8e8f.jpg",
         7790,
         "image",
         "AnnaLee Kick",
         "Local save in /data/quotes",
         "Crush Quotes For Girls,Sad Crush Quotes,Hurt Quotes,Love Me Quotes,Mood Quotes,Quotes To Live By,Life Quotes,Quotes Quotes,Sad Quotes That Make You Cry",
         "50 Heart Touching Sad Quotes That Will Make You Cry",
         "9cd89fb9-d1af-4e66-85ca-c9d656c918b4"
        ],
        [
         "beauty",
         "Might try this... I'm generally skeptical about at-home remedies, but I know baking soda and lemons both do wonders. More",
         1,
         "5M",
         "https://i.pinimg.com/originals/c8/ab/af/c8abaffc56050f674eef8e65ad684929.jpg",
         1422,
         "image",
         "BuzzFeed",
         "Local save in /data/beauty",
         "Baking Soda Lemon Juice,Diy Beauté,Tips Belleza,Belleza Natural,Health And Beauty Tips,Beauty Secrets,Beauty Advice,Diy Beauty Tips,Beauty Life Hacks",
         "41 Life-Saving Beauty Hacks Every Girl Should Have In Her Arsenal",
         "7bbe860c-a739-4ba9-babd-feb24bb6e4d9"
        ],
        [
         "vehicles",
         "There are a lot of options of places to stay so you probably only have to book the initial one so you know the best place to land from the airport",
         1,
         "171k",
         "https://i.pinimg.com/originals/e9/01/4d/e9014d537dd2b81c606e8466cef3904c.jpg",
         10663,
         "image",
         "vintagetopia",
         "Local save in /data/vehicles",
         "Old Classic Cars,Classic Trucks,Old Vintage Cars,Antique Cars,Vintage Trucks,Antique Trucks,Cadillac,Convertible,Mustang",
         "21+ Classic Car Picture of the 1950s - Vintagetopia",
         "d5208c16-82ae-4fd1-87f0-36e5ef789412"
        ],
        [
         "diy-and-crafts",
         "Keep the kids busy this summer with these easy diy crafts and projects. Creative and…",
         1,
         "124k",
         "https://i.pinimg.com/originals/b3/bc/e2/b3bce2964e8c8975387b39660eed5f16.jpg",
         2863,
         "image",
         "Of Life & Lisa | Lifestyle Blog",
         "Local save in /data/diy-and-crafts",
         "Summer Crafts For Kids,Fun Crafts For Kids,Summer Kids,Toddler Crafts,Crafts To Do,Diy For Kids,Summer Snow,Diys For Summer,Craft Ideas For Girls",
         "25 Super Fun Summer Crafts for Kids - Of Life and Lisa",
         "9bf39437-42a6-4f02-99a0-9a0383d8cd70"
        ],
        [
         "diy-and-crafts",
         "Keep the kids busy this summer with these easy diy crafts and projects. Creative and…",
         1,
         "124k",
         "https://i.pinimg.com/originals/b3/bc/e2/b3bce2964e8c8975387b39660eed5f16.jpg",
         2863,
         "image",
         "Of Life & Lisa | Lifestyle Blog",
         "Local save in /data/diy-and-crafts",
         "Summer Crafts For Kids,Fun Crafts For Kids,Summer Kids,Toddler Crafts,Crafts To Do,Diy For Kids,Summer Snow,Diys For Summer,Craft Ideas For Girls",
         "25 Super Fun Summer Crafts for Kids - Of Life and Lisa",
         "9bf39437-42a6-4f02-99a0-9a0383d8cd70"
        ],
        [
         "diy-and-crafts",
         "Keep the kids busy this summer with these easy diy crafts and projects. Creative and…",
         1,
         "124k",
         "https://i.pinimg.com/originals/b3/bc/e2/b3bce2964e8c8975387b39660eed5f16.jpg",
         2863,
         "image",
         "Of Life & Lisa | Lifestyle Blog",
         "Local save in /data/diy-and-crafts",
         "Summer Crafts For Kids,Fun Crafts For Kids,Summer Kids,Toddler Crafts,Crafts To Do,Diy For Kids,Summer Snow,Diys For Summer,Craft Ideas For Girls",
         "25 Super Fun Summer Crafts for Kids - Of Life and Lisa",
         "9bf39437-42a6-4f02-99a0-9a0383d8cd70"
        ],
        [
         "diy-and-crafts",
         "Keep the kids busy this summer with these easy diy crafts and projects. Creative and…",
         1,
         "124k",
         "https://i.pinimg.com/originals/b3/bc/e2/b3bce2964e8c8975387b39660eed5f16.jpg",
         2863,
         "image",
         "Of Life & Lisa | Lifestyle Blog",
         "Local save in /data/diy-and-crafts",
         "Summer Crafts For Kids,Fun Crafts For Kids,Summer Kids,Toddler Crafts,Crafts To Do,Diy For Kids,Summer Snow,Diys For Summer,Craft Ideas For Girls",
         "25 Super Fun Summer Crafts for Kids - Of Life and Lisa",
         "9bf39437-42a6-4f02-99a0-9a0383d8cd70"
        ],
        [
         "tattoos",
         "We welcome you to our latest collection of Beautiful Tattoo Ideas For Women. Check out and get inspired by the most beautiful design for yourself.",
         1,
         "21k",
         "https://i.pinimg.com/originals/fa/cf/7c/facf7cd752a4bc7c09faaa8925ab80b1.jpg",
         8653,
         "image",
         "ALL FOR WOMAN",
         "Local save in /data/tattoos",
         "Small Back Tattoos,Small Girl Tattoos,Little Tattoos,Tattoo Girls,Mini Tattoos,Tattoo Small,Back Tattoo Women,Tattoo On Back,Girl Back Tattoos",
         "Unique Women Tattoos Ideas 2020",
         "24b1343c-4d86-4705-8ec9-7f1f2df2d77e"
        ],
        [
         "diy-and-crafts",
         "A fun space activity for kids. Preshoolers and kindergartners will love making their own alien spacecraft!",
         1,
         "192k",
         "https://i.pinimg.com/originals/6f/e8/aa/6fe8aa405513c6d2f77b5f47d17cdce8.jpg",
         2923,
         "image",
         "The Crafting Chicks",
         "Local save in /data/diy-and-crafts",
         "Paper Plate Crafts For Kids,Fun Crafts For Kids,Summer Crafts,Toddler Crafts,Art For Kids,Outer Space Crafts For Kids,Kid Crafts,Space Kids,Back To School Crafts For Kids",
         "UFO Paper Plate Craft",
         "52fa3af5-24a4-4ccb-8f17-9c3eb12327ee"
        ],
        [
         "travel",
         "Volcanoes, hikes, and hot springs in Costa Rica! The ultimate 5 day travel itinerary. - #costarica #travel #blogging #blog #bucketlist",
         1,
         "22k",
         "https://i.pinimg.com/originals/60/fe/4c/60fe4c3602e8e50e2e9f787ed27d2aba.jpg",
         9936,
         "image",
         "Jess Wandering",
         "Local save in /data/travel",
         "Costa Rica Reisen,Costa Rica Travel,Vacation Places,Dream Vacations,Vacation Spots,Vacation Food,Vacation Ideas,Voyage Dubai,Beautiful Places To Travel",
         "Chasing Waterfalls in Costa Rica",
         "1f3154a6-13f0-4049-8d5c-faea15b9f07c"
        ],
        [
         "quotes",
         "motivation quotes",
         1,
         "45k",
         "https://i.pinimg.com/originals/ee/b4/bc/eeb4bccdb074edb787ea61711e0c4dfd.jpg",
         7768,
         "image",
         "Boss Babe Chronicles | Personal Development, Finances, Self Care",
         "Local save in /data/quotes",
         "Motivacional Quotes,Motivational Quotes For Life,Uplifting Quotes,True Quotes,Words Quotes,Empowering Quotes,Boss Up Quotes,Inspirational Success Quotes,Boss Babe Quotes Work Hard",
         "16 Motivational Quotes Get You Inspired Today - Boss Babe Chronicles",
         "ae1a61f6-d958-40fe-ba93-6a78b3a73178"
        ],
        [
         "beauty",
         "Here’s how to get long-lasting makeup, so you can do your face in the morning and be set for the entire day. Follow these makeup tips for foundation, lipstick and more using pro… ",
         1,
         "3k",
         "https://i.pinimg.com/originals/d9/d1/3b/d9d13b9ac47d54940f05a75345a873d4.jpg",
         1268,
         "image",
         "Tony",
         "Local save in /data/beauty",
         "Beauty Makeup,Eye Makeup,Diy Beauty,Beauty Ideas,Beauty Skin,Homemade Beauty,Wolf Makeup,Oily Skin Makeup,Face Beauty",
         "Janet on Twitter",
         "e2f2cec5-cda5-42b2-ab9d-6dddf863e94e"
        ],
        [
         "art",
         "Mountain monologue watercolor",
         1,
         "27k",
         "https://i.pinimg.com/originals/fd/54/89/fd548935dcb13545120a2115baaa41d9.jpg",
         46,
         "image",
         "It's me, JD | DIY, Crafts, Home & Organization",
         "Local save in /data/art",
         "Arte Inspo,Kunst Inspo,Watercolor Artists,Watercolor Ideas,Simple Watercolor,Tattoo Watercolor,Watercolor Techniques,Watercolor Animals,Watercolor Illustration",
         "10 Watercolor Hacks For Beginners | Tips and Tricks to Making Watercolor Painting Easier",
         "19234073-8905-4885-b0d5-98e0b84cbf27"
        ],
        [
         "finance",
         "How to Get Rid of Cable and Still Watch all of your favorite shows! Saving Money Tips for TV & Cable!",
         1,
         "330k",
         "https://i.pinimg.com/originals/c9/18/be/c918be2784382dc49010719bf1742a61.jpg",
         5309,
         "image",
         "Passion For Savings",
         "Local save in /data/finance",
         "Ways To Save Money,Money Tips,Money Saving Tips,Money Hacks,Managing Money,Cable Tv Alternatives,Budget Planer,Financial Tips,Financial Planning",
         "How to Watch Your Favorite Shows Without Cable",
         "c38bb47b-9584-4fc4-af0d-a31e1061df41"
        ],
        [
         "travel",
         "The best trips to take when you are young!",
         1,
         "89k",
         "https://i.pinimg.com/videos/thumbnails/originals/81/97/c1/8197c1beef8bcb19bea5d8b422211f34.0000001.jpg",
         9546,
         "video",
         "The World Pursuit Travel Website",
         "Local save in /data/travel",
         "Fun Places To Go,Beautiful Places To Travel,Best Places To Travel,Travel Jobs,Holiday Places,Future Travel,Travel Around The World,Adventure Travel,Travel Photos",
         "20 Amazing Trips to Take in Your Twenties!",
         "efd5b2d6-2f69-40cd-bb59-41f18c089e52"
        ],
        [
         "finance",
         "Get your personal finance in order with these 8 fr…",
         1,
         "46k",
         "https://i.pinimg.com/originals/f1/4f/cc/f14fcc75ee73ff22c983bdce70c022e2.jpg",
         5630,
         "image",
         "R.J. Weiss at The Ways To Wealth | Personal Finance | Debt Payoff",
         "Local save in /data/finance",
         "Ways To Save Money,Money Tips,Money Saving Tips,Money Budget,Saving Ideas,Budgeting Finances,Budgeting Tips,Planning Budget,Budget Planer",
         "7 Insanely Useful Money Management Worksheets",
         "d41e703c-c97c-4c5a-9f9c-338982ca7504"
        ],
        [
         "tattoos",
         "Koi fish tattoos are a popular choice for men who want to make a statement, thanks to their rich symbolism and bold design.",
         1,
         "211k",
         "https://i.pinimg.com/originals/8a/0c/0a/8a0c0a7b6236565c519acd41ad1a52c0.jpg",
         8731,
         "image",
         "TheTrendSpotter",
         "Local save in /data/tattoos",
         "Dr Tattoo,Wörter Tattoos,Pisces Tattoos,Tatoo Art,Dream Tattoos,Dope Tattoos,Mini Tattoos,Finger Tattoos,Body Art Tattoos",
         "20 Koi Fish Tattoos For Lucky Men",
         "ea760f71-febf-4023-b592-d17396659039"
        ],
        [
         "quotes",
         "#lovequotes #matchmaker #matchmadeinheaven #loveyourself #respectyourself",
         1,
         "51k",
         "https://i.pinimg.com/originals/c6/64/ee/c664ee71524fb5a6e7b7b49233f93b43.png",
         8304,
         "image",
         "Commitment Connection",
         "Local save in /data/quotes",
         "Wise Quotes,Quotable Quotes,Words Quotes,Wise Words,Quotes To Live By,Great Quotes,Motivational Quotes,Inspirational Quotes,Funny Quotes",
         "The #1 Reason You’re Not His Priority Anymore - Matthew Coast",
         "5b6d0913-25e4-43ab-839d-85d5516f78a4"
        ],
        [
         "quotes",
         "#lovequotes #matchmaker #matchmadeinheaven #loveyourself #respectyourself",
         1,
         "51k",
         "https://i.pinimg.com/originals/c6/64/ee/c664ee71524fb5a6e7b7b49233f93b43.png",
         8304,
         "image",
         "Commitment Connection",
         "Local save in /data/quotes",
         "Wise Quotes,Quotable Quotes,Words Quotes,Wise Words,Quotes To Live By,Great Quotes,Motivational Quotes,Inspirational Quotes,Funny Quotes",
         "The #1 Reason You’re Not His Priority Anymore - Matthew Coast",
         "5b6d0913-25e4-43ab-839d-85d5516f78a4"
        ],
        [
         "art",
         "No description available Story format",
         1,
         "29k",
         "https://i.pinimg.com/videos/thumbnails/originals/17/49/16/1749164b93866d4eac32a52a3ccfd40a.0000001.jpg",
         223,
         "multi-video(story page format)",
         "Jasminxg",
         "Local save in /data/art",
         "Simple Canvas Paintings,Easy Nature Paintings,Tree Paintings,Cool Paintings,Watercolor Art Lessons,Watercolor Paintings For Beginners,Gouache Painting,Painting Art,Mandala Art Lesson",
         "Easy Gouache painting",
         "8672f996-6ce9-403e-9599-2c4df668f1e0"
        ],
        [
         "mens-fashion",
         "imgentleboss: “ - More about men’s fashion at @Gentleboss - GB’s Facebook - ”",
         1,
         "940",
         "https://i.pinimg.com/originals/e7/6e/8e/e76e8ed6cc838b84a934c6948a5caff7.jpg",
         7554,
         "image",
         "iElylike ..✿◕‿◕✿ஐ✿◕‿◕✿",
         "Local save in /data/mens-fashion",
         "Mens Fashion Blog,Look Fashion,Autumn Fashion,Fashion News,Fashion Sale,80s Fashion,Paris Fashion,Runway Fashion,Fashion Trends",
         "Craig Style",
         "c6fa12f4-0d4a-4b07-a335-5bf9f37f8281"
        ],
        [
         "tattoos",
         "Tattoos are one of the most efficient ways through which one decides to express themselves…",
         1,
         "4k",
         "https://i.pinimg.com/originals/ab/8e/50/ab8e505b04d4abc8f23e273c15f8a65d.jpg",
         8887,
         "image",
         "RapidLeaks",
         "Local save in /data/tattoos",
         "Dream Tattoos,Body Art Tattoos,New Tattoos,Small Tattoos,Cross Tattoos,Random Tattoos,Fashion Tattoos,Bird Tattoos,Fitness Tattoos",
         "25 Ultra Sexy Back Tattoo Ideas For Girls",
         "5df9f6e5-07f5-4ce8-a82e-96586bbc05d8"
        ],
        [
         "vehicles",
         "No description available Story format",
         1,
         "89k",
         "https://i.pinimg.com/videos/thumbnails/originals/4a/d4/96/4ad4961606179854f1141a90f50f002c.0000001.jpg",
         10509,
         "multi-video(story page format)",
         "TheSuperBOO!",
         "Local save in /data/vehicles",
         "Electric Off Road Vehicle,Cool Illusions,Flying Vehicles,Wow Video,Art And Craft Videos,Top Luxury Cars,Chevy Muscle Cars,Street Racing Cars,Funny Videos Clean",
         "Flying Car",
         "6a5f0e7e-1389-4e54-942f-4cb69f09f140"
        ],
        [
         "beauty",
         "Instantly create the look of lash extensions with this award-winning, best-selling mascara that won't clump, flake or smudge. Available in 3 shades!",
         1,
         "43k",
         "https://i.pinimg.com/videos/thumbnails/originals/69/84/e2/6984e20f3e262098fa9c0614c3453254.0000001.jpg",
         1313,
         "video",
         "Thrive Causemetics",
         "Local save in /data/beauty",
         "N,o, ,T,a,g,s, ,A,v,a,i,l,a,b,l,e",
         "Liquid Lash Extensions Mascara",
         "44662045-e891-4821-8a19-ebe7eedd371a"
        ],
        [
         "vehicles",
         "1937 Jaguar SS100 - 2 1/2 Litre Roadster, one of the most sought after pre-war sports cars",
         1,
         "8k",
         "https://i.pinimg.com/originals/26/81/a7/2681a71bd0c8f7fd0ab79c455338a49a.jpg",
         10625,
         "image",
         "hobbyDB",
         "Local save in /data/vehicles",
         "Jaguar Type E,Jaguar Xk,Jaguar Cars,Jaguar Roadster,Jaguar Sport,Retro Cars,Vintage Cars,Antique Cars,British Sports Cars",
         "Jaguar Type E",
         "d31885b7-742a-4e2a-bbb7-ac5f9d334340"
        ],
        [
         "event-planning",
         "Fun Book Page Crafts - MomAdvice",
         1,
         "112k",
         "https://i.pinimg.com/originals/17/55/87/175587b334e71c12300453b8b4b4c6aa.jpg",
         4988,
         "image",
         "MomAdvice",
         "Local save in /data/event-planning",
         "Harry Potter Wedding,Harry Potter Theme,Wedding Book,Wedding Table,Wedding Ideas,Wedding Vintage,Garden Wedding,Vintage Party,Wedding Paper",
         "Fun Book Page Crafts - MomAdvice",
         "fbdfd355-a356-46c2-a251-301869ae2674"
        ],
        [
         "travel",
         "Best spots to see for travel through Ireland!",
         1,
         "130k",
         "https://i.pinimg.com/originals/c7/50/d3/c750d36524856873d64406652d69b4fb.png",
         9590,
         "image",
         "Fun Life Crisis",
         "Local save in /data/travel",
         "Vacation Ideas,Vacation Spots,Emerald Isle,London England,Travel Guides,Travel Tips,Travel Hacks,Travel Packing,Places To Travel",
         "Top 20 Things To See And Do In Ireland",
         "b849e976-52f6-45d7-8b25-51559318f167"
        ],
        [
         "mens-fashion",
         "billy-george: “Summer styles ”",
         1,
         "377",
         "https://i.pinimg.com/originals/3c/8c/53/3c8c534cd02334c50047bd3a4feccce9.jpg",
         6844,
         "image",
         "Au'vey Smith",
         "Local save in /data/mens-fashion",
         "Fashion Week Hommes,La Fashion Week,Fashion Moda,Urban Fashion,Trendy Fashion,Fashion Spring,Fashion 2017,New Mens Fashion,Trendy Clothing",
         "♔the-fashman♔",
         "69c3f268-274f-44bd-9cb4-427e64fefc44"
        ],
        [
         "beauty",
         "Untitled",
         1,
         "0",
         "https://i.pinimg.com/originals/af/c4/59/afc459bd6e1fd8f9aef212504afebf3a.jpg",
         1014,
         "image",
         "Grecia Perales",
         "Local save in /data/beauty",
         "Hair Inspo,Hair Inspiration,Motivation Inspiration,Cl Rapper,Foto Glamour,Kreative Portraits,Classy Aesthetic,Pretty Hairstyles,Hair Looks",
         "Hairstyles & Beauty",
         "9ac94307-bb27-410e-b554-0a0ab6c19847"
        ],
        [
         "vehicles",
         "Nissan GT-R. Sick.",
         1,
         "437",
         "https://i.pinimg.com/originals/0d/29/9f/0d299f3df020395aa7ce8387f40fbeed.jpg",
         10794,
         "image",
         "Ray Uyemura",
         "Local save in /data/vehicles",
         "Lowrider,Old Vintage Cars,Antique Cars,Austin Martin,Nissan Gtr Black,Jaguar,1959 Cadillac,Cadillac Ct6,Old School Cars",
         "TireBuyer",
         "c4bd2577-a7bb-4409-bb7a-17d5ed7e1cf1"
        ],
        [
         "beauty",
         "9 colors lazy lipstick",
         1,
         "8k",
         "https://i.pinimg.com/originals/25/cf/8c/25cf8cb74b43ab95591342c2bbe4ecd8.jpg",
         1094,
         "image",
         "Jiew82633",
         "Local save in /data/beauty",
         "Nail Inspo,Lazy,Lipstick,How To Apply,Makeup,Colors,Products,Make Up,Lipsticks",
         "9 colors lazy lipstick - 9 colors lazy lipstick4",
         "6deacdcd-75ed-4dd8-8951-9b77453f38e0"
        ],
        [
         "diy-and-crafts",
         "No description available Story format",
         0,
         "User Info Error",
         "Image src error.",
         3089,
         "multi-video(story page format)",
         "User Info Error",
         "Local save in /data/diy-and-crafts",
         "N,o, ,T,a,g,s, ,A,v,a,i,l,a,b,l,e",
         "No Title Data Available",
         "88f9227e-88d0-4b1c-b0be-bcfc3028b8e2"
        ],
        [
         "mens-fashion",
         "No description available Story format",
         0,
         "User Info Error",
         "Image src error.",
         7528,
         "multi-video(story page format)",
         "User Info Error",
         "Local save in /data/mens-fashion",
         "N,o, ,T,a,g,s, ,A,v,a,i,l,a,b,l,e",
         "No Title Data Available",
         "fbe53c66-3442-4773-b19e-d3ec6f54dddf"
        ],
        [
         "mens-fashion",
         "No description available Story format",
         0,
         "User Info Error",
         "Image src error.",
         7528,
         "multi-video(story page format)",
         "User Info Error",
         "Local save in /data/mens-fashion",
         "N,o, ,T,a,g,s, ,A,v,a,i,l,a,b,l,e",
         "No Title Data Available",
         "fbe53c66-3442-4773-b19e-d3ec6f54dddf"
        ],
        [
         "mens-fashion",
         "No description available Story format",
         0,
         "User Info Error",
         "Image src error.",
         7528,
         "multi-video(story page format)",
         "User Info Error",
         "Local save in /data/mens-fashion",
         "N,o, ,T,a,g,s, ,A,v,a,i,l,a,b,l,e",
         "No Title Data Available",
         "fbe53c66-3442-4773-b19e-d3ec6f54dddf"
        ],
        [
         "mens-fashion",
         "No description available Story format",
         0,
         "User Info Error",
         "Image src error.",
         7528,
         "multi-video(story page format)",
         "User Info Error",
         "Local save in /data/mens-fashion",
         "N,o, ,T,a,g,s, ,A,v,a,i,l,a,b,l,e",
         "No Title Data Available",
         "fbe53c66-3442-4773-b19e-d3ec6f54dddf"
        ],
        [
         "mens-fashion",
         "No description available Story format",
         0,
         "User Info Error",
         "Image src error.",
         7528,
         "multi-video(story page format)",
         "User Info Error",
         "Local save in /data/mens-fashion",
         "N,o, ,T,a,g,s, ,A,v,a,i,l,a,b,l,e",
         "No Title Data Available",
         "fbe53c66-3442-4773-b19e-d3ec6f54dddf"
        ]
       ],
       "datasetInfos": [],
       "dbfsResultPath": null,
       "isJsonSchema": true,
       "metadata": {},
       "overflow": false,
       "plotOptions": {
        "customPlotOptions": {},
        "displayType": "table",
        "pivotAggregation": null,
        "pivotColumns": null,
        "xColumns": null,
        "yColumns": null
       },
       "removedWidgets": [],
       "schema": [
        {
         "metadata": "{}",
         "name": "category",
         "type": "\"string\""
        },
        {
         "metadata": "{}",
         "name": "description",
         "type": "\"string\""
        },
        {
         "metadata": "{}",
         "name": "downloaded",
         "type": "\"long\""
        },
        {
         "metadata": "{}",
         "name": "follower_count",
         "type": "\"string\""
        },
        {
         "metadata": "{}",
         "name": "image_src",
         "type": "\"string\""
        },
        {
         "metadata": "{}",
         "name": "index",
         "type": "\"long\""
        },
        {
         "metadata": "{}",
         "name": "is_image_or_video",
         "type": "\"string\""
        },
        {
         "metadata": "{}",
         "name": "poster_name",
         "type": "\"string\""
        },
        {
         "metadata": "{}",
         "name": "save_location",
         "type": "\"string\""
        },
        {
         "metadata": "{}",
         "name": "tag_list",
         "type": "\"string\""
        },
        {
         "metadata": "{}",
         "name": "title",
         "type": "\"string\""
        },
        {
         "metadata": "{}",
         "name": "unique_id",
         "type": "\"string\""
        }
       ],
       "type": "table"
      }
     },
     "output_type": "display_data"
    }
   ],
   "source": [
    "location_of_pinfile = \"s3://user-0eaf46a0829f-bucket/topics/0eaf46a0829f.pin/partition=0/*.json\"\n",
    "\n",
    "file_type = \"json\"\n",
    "infer_schema = \"true\"\n",
    "\n",
    "df_pin = spark.read.format(file_type).option(\"inferSchema\", infer_schema).load(location_of_pinfile)\n",
    "\n",
    "display(df_pin)"
   ]
  },
  {
   "cell_type": "code",
   "execution_count": 0,
   "metadata": {
    "application/vnd.databricks.v1+cell": {
     "cellMetadata": {
      "byteLimit": 2048000,
      "rowLimit": 10000
     },
     "inputWidgets": {},
     "nuid": "8ae823b9-3de9-4a73-8ddc-a629169f16fa",
     "showTitle": false,
     "tableResultSettingsMap": {},
     "title": ""
    }
   },
   "outputs": [
    {
     "output_type": "display_data",
     "data": {
      "text/html": [
       "<style scoped>\n",
       "  .table-result-container {\n",
       "    max-height: 300px;\n",
       "    overflow: auto;\n",
       "  }\n",
       "  table, th, td {\n",
       "    border: 1px solid black;\n",
       "    border-collapse: collapse;\n",
       "  }\n",
       "  th, td {\n",
       "    padding: 5px;\n",
       "  }\n",
       "  th {\n",
       "    text-align: left;\n",
       "  }\n",
       "</style><div class='table-result-container'><table class='table-result'><thead style='background-color: white'><tr><th>country</th><th>ind</th><th>latitude</th><th>longitude</th><th>timestamp</th></tr></thead><tbody><tr><td>Antarctica (the territory South of 60 deg S)</td><td>2418</td><td>-88.4642</td><td>-171.061</td><td>2022-05-27T11:30:59</td></tr><tr><td>Cocos (Keeling) Islands</td><td>10794</td><td>-89.5236</td><td>-154.567</td><td>2022-01-01T02:26:50</td></tr><tr><td>Central African Republic</td><td>2074</td><td>-52.3213</td><td>-50.11</td><td>2019-11-03T05:41:59</td></tr><tr><td>British Virgin Islands</td><td>2293</td><td>-87.7946</td><td>-159.647</td><td>2022-03-21T10:46:53</td></tr><tr><td>Saint Kitts and Nevis</td><td>10663</td><td>-27.3474</td><td>-162.83</td><td>2019-07-25T18:53:51</td></tr><tr><td>Antigua and Barbuda</td><td>7922</td><td>-88.0974</td><td>-172.052</td><td>2021-01-27T09:14:19</td></tr><tr><td>Antigua and Barbuda</td><td>8606</td><td>-88.0974</td><td>-172.052</td><td>2021-03-28T14:54:07</td></tr><tr><td>Antigua and Barbuda</td><td>2604</td><td>-80.8933</td><td>-104.972</td><td>2018-12-01T09:23:35</td></tr><tr><td>Netherlands Antilles</td><td>603</td><td>14.0083</td><td>-141.603</td><td>2019-06-25T05:13:01</td></tr><tr><td>Dominican Republic</td><td>9979</td><td>14.9967</td><td>-120.682</td><td>2018-07-18T19:01:46</td></tr><tr><td>Christmas Island</td><td>10119</td><td>-74.5431</td><td>-162.795</td><td>2020-10-22T01:59:58</td></tr><tr><td>Christmas Island</td><td>1704</td><td>-56.8702</td><td>-93.6232</td><td>2018-11-29T04:46:39</td></tr><tr><td>Papua New Guinea</td><td>7790</td><td>-43.692</td><td>64.9839</td><td>2018-07-31T08:19:15</td></tr><tr><td>American Samoa</td><td>9759</td><td>-77.9744</td><td>-106.258</td><td>2017-12-30T13:05:49</td></tr><tr><td>American Samoa</td><td>1422</td><td>-88.5252</td><td>-172.436</td><td>2018-04-30T08:27:21</td></tr><tr><td>American Samoa</td><td>8312</td><td>-77.9744</td><td>-106.258</td><td>2021-04-25T15:56:29</td></tr><tr><td>Cote d'Ivoire</td><td>2923</td><td>-84.6302</td><td>-164.507</td><td>2019-09-08T22:53:09</td></tr><tr><td>French Guiana</td><td>8304</td><td>-28.8852</td><td>-164.87</td><td>2019-09-13T04:50:29</td></tr><tr><td>French Guiana</td><td>8304</td><td>-28.8852</td><td>-164.87</td><td>2019-09-13T04:50:29</td></tr><tr><td>Cote d'Ivoire</td><td>4315</td><td>-45.8508</td><td>66.1003</td><td>2019-12-15T03:51:28</td></tr><tr><td>Guinea-Bissau</td><td>8578</td><td>34.6427</td><td>-161.397</td><td>2018-01-26T19:27:11</td></tr><tr><td>New Caledonia</td><td>6844</td><td>-22.6915</td><td>5.69245</td><td>2021-06-06T21:53:11</td></tr><tr><td>Afghanistan</td><td>3599</td><td>-88.5478</td><td>-174.971</td><td>2019-03-03T06:13:41</td></tr><tr><td>Azerbaijan</td><td>5069</td><td>-63.0063</td><td>-157.474</td><td>2021-03-20T09:32:44</td></tr><tr><td>Mozambique</td><td>6145</td><td>-65.9079</td><td>-143.845</td><td>2019-12-05T02:09:44</td></tr><tr><td>Philippines</td><td>4508</td><td>69.1858</td><td>-76.0761</td><td>2019-01-04T11:15:27</td></tr><tr><td>Madagascar</td><td>4988</td><td>-32.1879</td><td>-35.2784</td><td>2020-07-11T11:01:12</td></tr><tr><td>Isle of Man</td><td>427</td><td>-66.9418</td><td>-30.0087</td><td>2020-04-22T03:08:50</td></tr><tr><td>Bangladesh</td><td>428</td><td>-83.4105</td><td>-150.788</td><td>2020-09-27T18:46:41</td></tr><tr><td>Australia</td><td>7343</td><td>-65.4428</td><td>-161.684</td><td>2018-08-06T12:17:07</td></tr><tr><td>Seychelles</td><td>8653</td><td>48.4569</td><td>-139.658</td><td>2022-04-11T18:30:19</td></tr><tr><td>Isle of Man</td><td>5468</td><td>-83.544</td><td>33.9473</td><td>2020-05-16T23:17:50</td></tr><tr><td>Argentina</td><td>8930</td><td>-89.4739</td><td>-176.154</td><td>2021-09-29T13:25:49</td></tr><tr><td>Australia</td><td>7294</td><td>-76.2967</td><td>-136.501</td><td>2018-02-12T08:06:28</td></tr><tr><td>Montserrat</td><td>771</td><td>-29.1712</td><td>-107.111</td><td>2018-06-21T08:42:57</td></tr><tr><td>Mauritania</td><td>4076</td><td>-67.2157</td><td>27.8139</td><td>2019-06-07T20:13:50</td></tr><tr><td>Gibraltar</td><td>10509</td><td>-67.187</td><td>-24.2977</td><td>2019-03-06T12:21:56</td></tr><tr><td>Australia</td><td>9936</td><td>-82.1715</td><td>-147.691</td><td>2018-06-30T22:07:13</td></tr><tr><td>Cape Verde</td><td>6566</td><td>-39.225</td><td>-71.6593</td><td>2020-11-19T10:06:13</td></tr><tr><td>Isle of Man</td><td>223</td><td>1.15509</td><td>-118.397</td><td>2018-12-07T07:30:40</td></tr><tr><td>Bulgaria</td><td>5494</td><td>-82.6768</td><td>-129.202</td><td>2021-07-21T02:02:35</td></tr><tr><td>Anguilla</td><td>6063</td><td>-89.1797</td><td>-174.015</td><td>2021-07-20T09:02:47</td></tr><tr><td>Cambodia</td><td>3454</td><td>-0.375174</td><td>49.8106</td><td>2021-07-25T02:20:29</td></tr><tr><td>Jamaica</td><td>10625</td><td>-84.4944</td><td>-81.0613</td><td>2018-07-13T11:51:15</td></tr><tr><td>Barbados</td><td>9875</td><td>-74.3382</td><td>-110.484</td><td>2020-03-20T13:03:18</td></tr><tr><td>Botswana</td><td>8887</td><td>-28.0137</td><td>-160.708</td><td>2021-09-19T05:27:43</td></tr><tr><td>Australia</td><td>4137</td><td>-55.3079</td><td>108.918</td><td>2019-06-23T22:16:34</td></tr><tr><td>Argentina</td><td>1268</td><td>-41.7803</td><td>-177.23</td><td>2019-07-06T04:10:29</td></tr><tr><td>Maldives</td><td>5309</td><td>-89.4194</td><td>-84.2493</td><td>2020-05-04T22:00:32</td></tr><tr><td>Albania</td><td>7528</td><td>-89.9787</td><td>-173.293</td><td>2020-08-28T03:52:47</td></tr><tr><td>Armenia</td><td>2863</td><td>-5.34445</td><td>-177.924</td><td>2020-04-27T13:34:16</td></tr><tr><td>Colombia</td><td>5730</td><td>-77.015</td><td>-101.437</td><td>2021-04-19T17:37:03</td></tr><tr><td>Albania</td><td>7528</td><td>-89.9787</td><td>-173.293</td><td>2020-08-28T03:52:47</td></tr><tr><td>Armenia</td><td>2863</td><td>-5.34445</td><td>-177.924</td><td>2020-04-27T13:34:16</td></tr><tr><td>Colombia</td><td>5730</td><td>-77.015</td><td>-101.437</td><td>2021-04-19T17:37:03</td></tr><tr><td>Albania</td><td>3089</td><td>-89.9787</td><td>-173.293</td><td>2018-02-28T05:31:29</td></tr><tr><td>Austria</td><td>10138</td><td>-72.142</td><td>-74.3545</td><td>2019-08-03T00:59:29</td></tr><tr><td>Austria</td><td>9546</td><td>-70.0295</td><td>-155.428</td><td>2018-02-10T06:16:40</td></tr><tr><td>Albania</td><td>2411</td><td>-71.6856</td><td>-179.126</td><td>2020-11-15T17:10:07</td></tr><tr><td>Algeria</td><td>9590</td><td>-64.3876</td><td>-174.281</td><td>2019-05-20T19:48:48</td></tr><tr><td>Germany</td><td>5076</td><td>-70.7195</td><td>-91.1935</td><td>2019-05-05T16:22:23</td></tr><tr><td>Barbados</td><td>205</td><td>-75.8378</td><td>-163.945</td><td>2020-07-08T14:10:38</td></tr><tr><td>Armenia</td><td>1094</td><td>-46.7328</td><td>-124.445</td><td>2018-08-19T00:34:20</td></tr><tr><td>Bahrain</td><td>5630</td><td>-19.1403</td><td>-164.987</td><td>2019-05-12T14:43:19</td></tr><tr><td>Albania</td><td>6398</td><td>-3.29267</td><td>-179.726</td><td>2020-01-19T01:49:05</td></tr><tr><td>Afghanistan</td><td>46</td><td>4.21689</td><td>-145.82</td><td>2018-09-15T09:16:57</td></tr><tr><td>Grenada</td><td>10552</td><td>32.7568</td><td>-179.812</td><td>2020-08-24T11:39:32</td></tr><tr><td>Andorra</td><td>1371</td><td>-89.4584</td><td>-134.271</td><td>2018-08-08T04:41:17</td></tr><tr><td>Andorra</td><td>9074</td><td>-84.7363</td><td>-179.087</td><td>2022-04-10T17:06:13</td></tr><tr><td>Maldives</td><td>1313</td><td>77.0447</td><td>61.9119</td><td>2018-06-26T02:39:25</td></tr><tr><td>Angola</td><td>2959</td><td>-68.0095</td><td>-157.227</td><td>2019-08-19T08:22:02</td></tr><tr><td>Armenia</td><td>3156</td><td>-84.738</td><td>-160.795</td><td>2018-01-13T19:33:49</td></tr><tr><td>Armenia</td><td>719</td><td>-38.4062</td><td>-154.323</td><td>2018-10-29T04:05:12</td></tr><tr><td>Bermuda</td><td>2482</td><td>63.4563</td><td>-164.709</td><td>2019-09-13T08:20:13</td></tr><tr><td>Albania</td><td>808</td><td>-71.6856</td><td>-179.126</td><td>2019-01-03T15:43:12</td></tr><tr><td>Anguilla</td><td>1545</td><td>-30.18</td><td>-72.3784</td><td>2022-06-17T05:47:12</td></tr><tr><td>Armenia</td><td>2015</td><td>-17.629</td><td>-177.685</td><td>2018-09-22T13:52:19</td></tr><tr><td>Algeria</td><td>7768</td><td>-88.355</td><td>-96.0131</td><td>2018-05-25T21:34:19</td></tr><tr><td>Turkey</td><td>3729</td><td>-24.4793</td><td>-150.145</td><td>2018-01-17T03:43:38</td></tr><tr><td>Andorra</td><td>159</td><td>-88.0812</td><td>-166.603</td><td>2017-11-20T21:14:56</td></tr><tr><td>Sudan</td><td>7554</td><td>-51.2172</td><td>-77.9768</td><td>2019-03-20T03:15:07</td></tr><tr><td>Aruba</td><td>4913</td><td>-84.3768</td><td>-157.544</td><td>2019-03-08T06:45:39</td></tr><tr><td>Aruba</td><td>7166</td><td>-86.4063</td><td>-136.657</td><td>2022-07-25T03:07:37</td></tr><tr><td>Bhutan</td><td>3419</td><td>7.60293</td><td>-108.979</td><td>2021-12-20T05:01:54</td></tr><tr><td>Algeria</td><td>1555</td><td>-1.7046</td><td>-55.332</td><td>2017-12-24T18:41:23</td></tr><tr><td>Lesotho</td><td>552</td><td>-80.6043</td><td>31.9601</td><td>2022-03-14T05:12:07</td></tr><tr><td>Aruba</td><td>8731</td><td>-83.104</td><td>-171.302</td><td>2020-07-17T04:39:09</td></tr><tr><td>India</td><td>9672</td><td>79.4658</td><td>-69.4133</td><td>2019-11-03T13:15:52</td></tr><tr><td>Congo</td><td>831</td><td>-43.7816</td><td>-66.1592</td><td>2021-06-23T23:16:10</td></tr><tr><td>Aruba</td><td>3800</td><td>-61.471</td><td>-154.912</td><td>2018-01-27T16:49:07</td></tr><tr><td>Tonga</td><td>1014</td><td>81.1477</td><td>69.3538</td><td>2022-02-03T22:05:34</td></tr><tr><td>Egypt</td><td>2698</td><td>-72.7174</td><td>24.169</td><td>2021-11-24T08:33:51</td></tr></tbody></table></div>"
      ]
     },
     "metadata": {
      "application/vnd.databricks.v1+output": {
       "addedWidgets": {},
       "aggData": [],
       "aggError": "",
       "aggOverflow": false,
       "aggSchema": [],
       "aggSeriesLimitReached": false,
       "aggType": "",
       "arguments": {},
       "columnCustomDisplayInfos": {},
       "data": [
        [
         "Antarctica (the territory South of 60 deg S)",
         2418,
         -88.4642,
         -171.061,
         "2022-05-27T11:30:59"
        ],
        [
         "Cocos (Keeling) Islands",
         10794,
         -89.5236,
         -154.567,
         "2022-01-01T02:26:50"
        ],
        [
         "Central African Republic",
         2074,
         -52.3213,
         -50.11,
         "2019-11-03T05:41:59"
        ],
        [
         "British Virgin Islands",
         2293,
         -87.7946,
         -159.647,
         "2022-03-21T10:46:53"
        ],
        [
         "Saint Kitts and Nevis",
         10663,
         -27.3474,
         -162.83,
         "2019-07-25T18:53:51"
        ],
        [
         "Antigua and Barbuda",
         7922,
         -88.0974,
         -172.052,
         "2021-01-27T09:14:19"
        ],
        [
         "Antigua and Barbuda",
         8606,
         -88.0974,
         -172.052,
         "2021-03-28T14:54:07"
        ],
        [
         "Antigua and Barbuda",
         2604,
         -80.8933,
         -104.972,
         "2018-12-01T09:23:35"
        ],
        [
         "Netherlands Antilles",
         603,
         14.0083,
         -141.603,
         "2019-06-25T05:13:01"
        ],
        [
         "Dominican Republic",
         9979,
         14.9967,
         -120.682,
         "2018-07-18T19:01:46"
        ],
        [
         "Christmas Island",
         10119,
         -74.5431,
         -162.795,
         "2020-10-22T01:59:58"
        ],
        [
         "Christmas Island",
         1704,
         -56.8702,
         -93.6232,
         "2018-11-29T04:46:39"
        ],
        [
         "Papua New Guinea",
         7790,
         -43.692,
         64.9839,
         "2018-07-31T08:19:15"
        ],
        [
         "American Samoa",
         9759,
         -77.9744,
         -106.258,
         "2017-12-30T13:05:49"
        ],
        [
         "American Samoa",
         1422,
         -88.5252,
         -172.436,
         "2018-04-30T08:27:21"
        ],
        [
         "American Samoa",
         8312,
         -77.9744,
         -106.258,
         "2021-04-25T15:56:29"
        ],
        [
         "Cote d'Ivoire",
         2923,
         -84.6302,
         -164.507,
         "2019-09-08T22:53:09"
        ],
        [
         "French Guiana",
         8304,
         -28.8852,
         -164.87,
         "2019-09-13T04:50:29"
        ],
        [
         "French Guiana",
         8304,
         -28.8852,
         -164.87,
         "2019-09-13T04:50:29"
        ],
        [
         "Cote d'Ivoire",
         4315,
         -45.8508,
         66.1003,
         "2019-12-15T03:51:28"
        ],
        [
         "Guinea-Bissau",
         8578,
         34.6427,
         -161.397,
         "2018-01-26T19:27:11"
        ],
        [
         "New Caledonia",
         6844,
         -22.6915,
         5.69245,
         "2021-06-06T21:53:11"
        ],
        [
         "Afghanistan",
         3599,
         -88.5478,
         -174.971,
         "2019-03-03T06:13:41"
        ],
        [
         "Azerbaijan",
         5069,
         -63.0063,
         -157.474,
         "2021-03-20T09:32:44"
        ],
        [
         "Mozambique",
         6145,
         -65.9079,
         -143.845,
         "2019-12-05T02:09:44"
        ],
        [
         "Philippines",
         4508,
         69.1858,
         -76.0761,
         "2019-01-04T11:15:27"
        ],
        [
         "Madagascar",
         4988,
         -32.1879,
         -35.2784,
         "2020-07-11T11:01:12"
        ],
        [
         "Isle of Man",
         427,
         -66.9418,
         -30.0087,
         "2020-04-22T03:08:50"
        ],
        [
         "Bangladesh",
         428,
         -83.4105,
         -150.788,
         "2020-09-27T18:46:41"
        ],
        [
         "Australia",
         7343,
         -65.4428,
         -161.684,
         "2018-08-06T12:17:07"
        ],
        [
         "Seychelles",
         8653,
         48.4569,
         -139.658,
         "2022-04-11T18:30:19"
        ],
        [
         "Isle of Man",
         5468,
         -83.544,
         33.9473,
         "2020-05-16T23:17:50"
        ],
        [
         "Argentina",
         8930,
         -89.4739,
         -176.154,
         "2021-09-29T13:25:49"
        ],
        [
         "Australia",
         7294,
         -76.2967,
         -136.501,
         "2018-02-12T08:06:28"
        ],
        [
         "Montserrat",
         771,
         -29.1712,
         -107.111,
         "2018-06-21T08:42:57"
        ],
        [
         "Mauritania",
         4076,
         -67.2157,
         27.8139,
         "2019-06-07T20:13:50"
        ],
        [
         "Gibraltar",
         10509,
         -67.187,
         -24.2977,
         "2019-03-06T12:21:56"
        ],
        [
         "Australia",
         9936,
         -82.1715,
         -147.691,
         "2018-06-30T22:07:13"
        ],
        [
         "Cape Verde",
         6566,
         -39.225,
         -71.6593,
         "2020-11-19T10:06:13"
        ],
        [
         "Isle of Man",
         223,
         1.15509,
         -118.397,
         "2018-12-07T07:30:40"
        ],
        [
         "Bulgaria",
         5494,
         -82.6768,
         -129.202,
         "2021-07-21T02:02:35"
        ],
        [
         "Anguilla",
         6063,
         -89.1797,
         -174.015,
         "2021-07-20T09:02:47"
        ],
        [
         "Cambodia",
         3454,
         -0.375174,
         49.8106,
         "2021-07-25T02:20:29"
        ],
        [
         "Jamaica",
         10625,
         -84.4944,
         -81.0613,
         "2018-07-13T11:51:15"
        ],
        [
         "Barbados",
         9875,
         -74.3382,
         -110.484,
         "2020-03-20T13:03:18"
        ],
        [
         "Botswana",
         8887,
         -28.0137,
         -160.708,
         "2021-09-19T05:27:43"
        ],
        [
         "Australia",
         4137,
         -55.3079,
         108.918,
         "2019-06-23T22:16:34"
        ],
        [
         "Argentina",
         1268,
         -41.7803,
         -177.23,
         "2019-07-06T04:10:29"
        ],
        [
         "Maldives",
         5309,
         -89.4194,
         -84.2493,
         "2020-05-04T22:00:32"
        ],
        [
         "Albania",
         7528,
         -89.9787,
         -173.293,
         "2020-08-28T03:52:47"
        ],
        [
         "Armenia",
         2863,
         -5.34445,
         -177.924,
         "2020-04-27T13:34:16"
        ],
        [
         "Colombia",
         5730,
         -77.015,
         -101.437,
         "2021-04-19T17:37:03"
        ],
        [
         "Albania",
         7528,
         -89.9787,
         -173.293,
         "2020-08-28T03:52:47"
        ],
        [
         "Armenia",
         2863,
         -5.34445,
         -177.924,
         "2020-04-27T13:34:16"
        ],
        [
         "Colombia",
         5730,
         -77.015,
         -101.437,
         "2021-04-19T17:37:03"
        ],
        [
         "Albania",
         3089,
         -89.9787,
         -173.293,
         "2018-02-28T05:31:29"
        ],
        [
         "Austria",
         10138,
         -72.142,
         -74.3545,
         "2019-08-03T00:59:29"
        ],
        [
         "Austria",
         9546,
         -70.0295,
         -155.428,
         "2018-02-10T06:16:40"
        ],
        [
         "Albania",
         2411,
         -71.6856,
         -179.126,
         "2020-11-15T17:10:07"
        ],
        [
         "Algeria",
         9590,
         -64.3876,
         -174.281,
         "2019-05-20T19:48:48"
        ],
        [
         "Germany",
         5076,
         -70.7195,
         -91.1935,
         "2019-05-05T16:22:23"
        ],
        [
         "Barbados",
         205,
         -75.8378,
         -163.945,
         "2020-07-08T14:10:38"
        ],
        [
         "Armenia",
         1094,
         -46.7328,
         -124.445,
         "2018-08-19T00:34:20"
        ],
        [
         "Bahrain",
         5630,
         -19.1403,
         -164.987,
         "2019-05-12T14:43:19"
        ],
        [
         "Albania",
         6398,
         -3.29267,
         -179.726,
         "2020-01-19T01:49:05"
        ],
        [
         "Afghanistan",
         46,
         4.21689,
         -145.82,
         "2018-09-15T09:16:57"
        ],
        [
         "Grenada",
         10552,
         32.7568,
         -179.812,
         "2020-08-24T11:39:32"
        ],
        [
         "Andorra",
         1371,
         -89.4584,
         -134.271,
         "2018-08-08T04:41:17"
        ],
        [
         "Andorra",
         9074,
         -84.7363,
         -179.087,
         "2022-04-10T17:06:13"
        ],
        [
         "Maldives",
         1313,
         77.0447,
         61.9119,
         "2018-06-26T02:39:25"
        ],
        [
         "Angola",
         2959,
         -68.0095,
         -157.227,
         "2019-08-19T08:22:02"
        ],
        [
         "Armenia",
         3156,
         -84.738,
         -160.795,
         "2018-01-13T19:33:49"
        ],
        [
         "Armenia",
         719,
         -38.4062,
         -154.323,
         "2018-10-29T04:05:12"
        ],
        [
         "Bermuda",
         2482,
         63.4563,
         -164.709,
         "2019-09-13T08:20:13"
        ],
        [
         "Albania",
         808,
         -71.6856,
         -179.126,
         "2019-01-03T15:43:12"
        ],
        [
         "Anguilla",
         1545,
         -30.18,
         -72.3784,
         "2022-06-17T05:47:12"
        ],
        [
         "Armenia",
         2015,
         -17.629,
         -177.685,
         "2018-09-22T13:52:19"
        ],
        [
         "Algeria",
         7768,
         -88.355,
         -96.0131,
         "2018-05-25T21:34:19"
        ],
        [
         "Turkey",
         3729,
         -24.4793,
         -150.145,
         "2018-01-17T03:43:38"
        ],
        [
         "Andorra",
         159,
         -88.0812,
         -166.603,
         "2017-11-20T21:14:56"
        ],
        [
         "Sudan",
         7554,
         -51.2172,
         -77.9768,
         "2019-03-20T03:15:07"
        ],
        [
         "Aruba",
         4913,
         -84.3768,
         -157.544,
         "2019-03-08T06:45:39"
        ],
        [
         "Aruba",
         7166,
         -86.4063,
         -136.657,
         "2022-07-25T03:07:37"
        ],
        [
         "Bhutan",
         3419,
         7.60293,
         -108.979,
         "2021-12-20T05:01:54"
        ],
        [
         "Algeria",
         1555,
         -1.7046,
         -55.332,
         "2017-12-24T18:41:23"
        ],
        [
         "Lesotho",
         552,
         -80.6043,
         31.9601,
         "2022-03-14T05:12:07"
        ],
        [
         "Aruba",
         8731,
         -83.104,
         -171.302,
         "2020-07-17T04:39:09"
        ],
        [
         "India",
         9672,
         79.4658,
         -69.4133,
         "2019-11-03T13:15:52"
        ],
        [
         "Congo",
         831,
         -43.7816,
         -66.1592,
         "2021-06-23T23:16:10"
        ],
        [
         "Aruba",
         3800,
         -61.471,
         -154.912,
         "2018-01-27T16:49:07"
        ],
        [
         "Tonga",
         1014,
         81.1477,
         69.3538,
         "2022-02-03T22:05:34"
        ],
        [
         "Egypt",
         2698,
         -72.7174,
         24.169,
         "2021-11-24T08:33:51"
        ]
       ],
       "datasetInfos": [],
       "dbfsResultPath": null,
       "isJsonSchema": true,
       "metadata": {},
       "overflow": false,
       "plotOptions": {
        "customPlotOptions": {},
        "displayType": "table",
        "pivotAggregation": null,
        "pivotColumns": null,
        "xColumns": null,
        "yColumns": null
       },
       "removedWidgets": [],
       "schema": [
        {
         "metadata": "{}",
         "name": "country",
         "type": "\"string\""
        },
        {
         "metadata": "{}",
         "name": "ind",
         "type": "\"long\""
        },
        {
         "metadata": "{}",
         "name": "latitude",
         "type": "\"double\""
        },
        {
         "metadata": "{}",
         "name": "longitude",
         "type": "\"double\""
        },
        {
         "metadata": "{}",
         "name": "timestamp",
         "type": "\"string\""
        }
       ],
       "type": "table"
      }
     },
     "output_type": "display_data"
    }
   ],
   "source": [
    "#This cell here \n",
    "file_location = \"s3://user-0eaf46a0829f-bucket/topics/0eaf46a0829f.geo/partition=0/*.json\"\n",
    "file_type = \"json\"\n",
    "# Ask Spark to infer the schema\n",
    "infer_schema = \"true\"\n",
    "# Read in JSONs from mounted S3 bucket\n",
    "df_geo = spark.read.format(file_type).option(\"inferSchema\", infer_schema).load(file_location)\n",
    "# Display Spark dataframe to check its content\n",
    "display(df_geo)"
   ]
  },
  {
   "cell_type": "code",
   "execution_count": 0,
   "metadata": {
    "application/vnd.databricks.v1+cell": {
     "cellMetadata": {
      "byteLimit": 2048000,
      "rowLimit": 10000
     },
     "inputWidgets": {},
     "nuid": "87afbf14-e827-4fe1-be60-5884bece445a",
     "showTitle": false,
     "tableResultSettingsMap": {},
     "title": ""
    }
   },
   "outputs": [
    {
     "output_type": "stream",
     "name": "stdout",
     "output_type": "stream",
     "text": [
      "root\n |-- country: string (nullable = true)\n |-- ind: long (nullable = true)\n |-- latitude: double (nullable = true)\n |-- longitude: double (nullable = true)\n |-- timestamp: string (nullable = true)\n\n"
     ]
    }
   ],
   "source": [
    "df_geo.printSchema()"
   ]
  },
  {
   "cell_type": "code",
   "execution_count": 0,
   "metadata": {
    "application/vnd.databricks.v1+cell": {
     "cellMetadata": {
      "byteLimit": 2048000,
      "implicitDf": true,
      "rowLimit": 10000
     },
     "inputWidgets": {},
     "nuid": "f43490e2-5d3c-4f87-816e-a60903eb29ae",
     "showTitle": false,
     "tableResultSettingsMap": {},
     "title": ""
    }
   },
   "outputs": [
    {
     "output_type": "display_data",
     "data": {
      "text/html": [
       "<style scoped>\n",
       "  .table-result-container {\n",
       "    max-height: 300px;\n",
       "    overflow: auto;\n",
       "  }\n",
       "  table, th, td {\n",
       "    border: 1px solid black;\n",
       "    border-collapse: collapse;\n",
       "  }\n",
       "  th, td {\n",
       "    padding: 5px;\n",
       "  }\n",
       "  th {\n",
       "    text-align: left;\n",
       "  }\n",
       "</style><div class='table-result-container'><table class='table-result'><thead style='background-color: white'><tr><th>age</th><th>date_joined</th><th>first_name</th><th>ind</th><th>last_name</th></tr></thead><tbody><tr><td>27</td><td>2016-03-08T13:38:37</td><td>Christopher</td><td>2015</td><td>Bradshaw</td></tr><tr><td>39</td><td>2016-06-29T20:43:59</td><td>Christina</td><td>6398</td><td>Davenport</td></tr><tr><td>20</td><td>2015-10-23T04:13:23</td><td>Alexandria</td><td>3599</td><td>Alvarado</td></tr><tr><td>20</td><td>2015-12-01T15:08:31</td><td>Christopher</td><td>5076</td><td>Butler</td></tr><tr><td>39</td><td>2017-07-19T07:12:04</td><td>Michelle</td><td>7790</td><td>Gutierrez</td></tr><tr><td>49</td><td>2016-04-22T20:36:02</td><td>Brittany</td><td>10509</td><td>Thompson</td></tr><tr><td>43</td><td>2016-07-21T15:25:08</td><td>Chelsea</td><td>10119</td><td>Gonzalez</td></tr><tr><td>21</td><td>2015-11-10T09:27:42</td><td>Andrea</td><td>8731</td><td>Alexander</td></tr><tr><td>24</td><td>2016-03-31T20:56:39</td><td>Austin</td><td>8887</td><td>Rodriguez</td></tr><tr><td>23</td><td>2015-12-01T18:15:02</td><td>Christine</td><td>7768</td><td>Cortez</td></tr><tr><td>36</td><td>2015-12-20T16:38:13</td><td>Michelle</td><td>4315</td><td>Prince</td></tr><tr><td>32</td><td>2017-10-10T20:09:33</td><td>Christian</td><td>10625</td><td>Lang</td></tr><tr><td>22</td><td>2016-02-11T20:46:04</td><td>Jennifer</td><td>9672</td><td>Hudson</td></tr><tr><td>23</td><td>2015-11-28T11:52:37</td><td>Andrew</td><td>8930</td><td>Anderson</td></tr><tr><td>31</td><td>2017-08-04T14:30:22</td><td>Alexander</td><td>6566</td><td>Perez</td></tr><tr><td>52</td><td>2016-02-07T20:00:25</td><td>Richard</td><td>3729</td><td>Edwards</td></tr><tr><td>40</td><td>2017-05-16T07:09:21</td><td>Michael</td><td>10552</td><td>Hunter</td></tr><tr><td>21</td><td>2015-10-25T07:36:08</td><td>Aaron</td><td>9074</td><td>Alexander</td></tr><tr><td>32</td><td>2016-04-02T03:51:23</td><td>Brittany</td><td>1313</td><td>Jones</td></tr><tr><td>34</td><td>2016-12-22T00:02:02</td><td>Thomas</td><td>10794</td><td>Turner</td></tr><tr><td>20</td><td>2016-01-07T19:49:22</td><td>David</td><td>2959</td><td>Griffith</td></tr><tr><td>26</td><td>2015-12-20T10:28:00</td><td>Brendan</td><td>9875</td><td>Joseph</td></tr><tr><td>21</td><td>2016-01-03T15:42:12</td><td>Annette</td><td>2074</td><td>Forbes</td></tr><tr><td>56</td><td>2016-10-15T17:21:39</td><td>Gregory</td><td>1014</td><td>Ramsey</td></tr><tr><td>59</td><td>2017-06-29T22:35:17</td><td>Michael</td><td>4137</td><td>Decker</td></tr><tr><td>21</td><td>2015-11-24T02:15:36</td><td>Aaron</td><td>2411</td><td>Bartlett</td></tr><tr><td>58</td><td>2016-06-03T23:35:30</td><td>Michael</td><td>4508</td><td>Carter</td></tr><tr><td>32</td><td>2016-03-10T04:11:31</td><td>Brittany</td><td>771</td><td>Butler</td></tr><tr><td>46</td><td>2015-11-27T23:11:21</td><td>Jonathan</td><td>1545</td><td>Avila</td></tr><tr><td>44</td><td>2016-10-29T02:07:21</td><td>Brandon</td><td>603</td><td>Jackson</td></tr><tr><td>22</td><td>2016-02-09T17:01:38</td><td>Carlos</td><td>5630</td><td>Estrada</td></tr><tr><td>32</td><td>2016-06-08T22:10:13</td><td>Donna</td><td>1268</td><td>Campbell</td></tr><tr><td>54</td><td>2016-05-15T04:22:01</td><td>Alexis</td><td>1555</td><td>Bennett</td></tr><tr><td>20</td><td>2015-12-17T08:43:40</td><td>Adam</td><td>3800</td><td>Armstrong</td></tr><tr><td>25</td><td>2015-12-28T04:21:39</td><td>Charles</td><td>8304</td><td>Berry</td></tr><tr><td>23</td><td>2015-11-25T13:36:22</td><td>Corey</td><td>6063</td><td>Andrews</td></tr><tr><td>48</td><td>2017-09-26T16:31:56</td><td>Robert</td><td>3454</td><td>Murphy</td></tr><tr><td>20</td><td>2017-04-11T16:35:33</td><td>Cheryl</td><td>7554</td><td>Huerta</td></tr><tr><td>30</td><td>2015-12-25T20:24:37</td><td>Emily</td><td>6145</td><td>Hawkins</td></tr><tr><td>31</td><td>2016-11-09T19:50:51</td><td>Kaylee</td><td>9979</td><td>Miller</td></tr><tr><td>24</td><td>2015-11-20T05:37:11</td><td>Angela</td><td>4913</td><td>Brooks</td></tr><tr><td>25</td><td>2015-11-19T21:24:33</td><td>Daniel</td><td>9759</td><td>Brooks</td></tr><tr><td>20</td><td>2016-12-31T00:06:36</td><td>Dawn</td><td>7294</td><td>Anderson</td></tr><tr><td>21</td><td>2015-11-24T02:15:36</td><td>Aaron</td><td>808</td><td>Bartlett</td></tr><tr><td>28</td><td>2016-11-15T10:40:03</td><td>Anthony</td><td>9936</td><td>Cantu</td></tr><tr><td>30</td><td>2016-07-03T10:59:40</td><td>Peter</td><td>6844</td><td>Roberts</td></tr><tr><td>47</td><td>2017-04-26T03:26:23</td><td>Aaron</td><td>3419</td><td>Jenkins</td></tr><tr><td>25</td><td>2017-07-20T05:51:23</td><td>Rhonda</td><td>4988</td><td>Durham</td></tr><tr><td>20</td><td>2017-01-17T01:49:27</td><td>Regina</td><td>552</td><td>Morales</td></tr><tr><td>25</td><td>2015-11-19T21:24:33</td><td>Daniel</td><td>8312</td><td>Brooks</td></tr><tr><td>32</td><td>2016-10-23T14:06:51</td><td>Dylan</td><td>2863</td><td>Holmes</td></tr><tr><td>36</td><td>2015-12-08T20:02:43</td><td>Rachel</td><td>5730</td><td>Davis</td></tr><tr><td>32</td><td>2016-10-23T14:06:51</td><td>Dylan</td><td>2863</td><td>Holmes</td></tr><tr><td>36</td><td>2015-12-08T20:02:43</td><td>Rachel</td><td>5730</td><td>Davis</td></tr><tr><td>26</td><td>2015-11-11T03:20:57</td><td>Brian</td><td>2923</td><td>Nelson</td></tr><tr><td>20</td><td>2015-10-21T08:27:36</td><td>Amanda</td><td>2418</td><td>Adams</td></tr><tr><td>22</td><td>2015-12-21T08:06:54</td><td>Andrew</td><td>3156</td><td>Baker</td></tr><tr><td>20</td><td>2015-11-28T02:20:29</td><td>Claudia</td><td>428</td><td>Adams</td></tr><tr><td>24</td><td>2016-01-11T12:03:48</td><td>Anne</td><td>7343</td><td>Clayton</td></tr><tr><td>22</td><td>2015-12-31T14:57:02</td><td>Carol</td><td>10138</td><td>Silva</td></tr><tr><td>21</td><td>2015-11-12T06:21:36</td><td>Denise</td><td>7922</td><td>Adams</td></tr><tr><td>22</td><td>2015-10-24T18:56:30</td><td>Amanda</td><td>9590</td><td>Allen</td></tr><tr><td>44</td><td>2017-06-21T19:53:27</td><td>Kayla</td><td>2698</td><td>Burton</td></tr><tr><td>28</td><td>2016-06-16T02:06:38</td><td>Aimee</td><td>831</td><td>Collins</td></tr><tr><td>21</td><td>2015-11-12T06:21:36</td><td>Denise</td><td>8606</td><td>Adams</td></tr><tr><td>20</td><td>2015-10-23T22:47:39</td><td>Larry</td><td>4076</td><td>Pineda</td></tr><tr><td>20</td><td>2015-10-31T18:51:07</td><td>Aaron</td><td>1422</td><td>Abbott</td></tr><tr><td>20</td><td>2015-11-12T03:23:49</td><td>Amanda</td><td>1371</td><td>Brown</td></tr><tr><td>30</td><td>2016-02-21T12:54:01</td><td>Ashley</td><td>2604</td><td>Evans</td></tr><tr><td>20</td><td>2015-10-24T11:23:51</td><td>Abigail</td><td>7528</td><td>Ali</td></tr><tr><td>20</td><td>2015-10-24T11:23:51</td><td>Abigail</td><td>7528</td><td>Ali</td></tr><tr><td>25</td><td>2016-01-13T17:36:30</td><td>Amanda</td><td>5069</td><td>Ball</td></tr><tr><td>20</td><td>2015-10-24T11:23:51</td><td>Abigail</td><td>3089</td><td>Ali</td></tr><tr><td>24</td><td>2016-03-09T10:48:14</td><td>Tammy</td><td>8653</td><td>Davis</td></tr><tr><td>20</td><td>2016-01-01T13:50:40</td><td>Alvin</td><td>7166</td><td>Adams</td></tr><tr><td>20</td><td>2016-02-27T21:13:44</td><td>Alex</td><td>9546</td><td>Barnes</td></tr><tr><td>20</td><td>2016-07-23T20:51:06</td><td>Lisa</td><td>5468</td><td>Gamble</td></tr><tr><td>20</td><td>2015-10-23T12:40:19</td><td>Brett</td><td>205</td><td>Bryant</td></tr><tr><td>20</td><td>2016-01-26T01:49:23</td><td>Alicia</td><td>719</td><td>Avila</td></tr><tr><td>20</td><td>2016-07-02T02:32:30</td><td>Ann</td><td>1094</td><td>Elliott</td></tr><tr><td>51</td><td>2016-10-09T14:47:51</td><td>Melanie</td><td>223</td><td>Hill</td></tr><tr><td>27</td><td>2015-12-16T15:20:05</td><td>Anne</td><td>5494</td><td>Allen</td></tr><tr><td>23</td><td>2016-06-23T14:38:00</td><td>Julie</td><td>10663</td><td>Cox</td></tr><tr><td>20</td><td>2015-10-28T05:00:33</td><td>Barry</td><td>1704</td><td>Lynn</td></tr><tr><td>22</td><td>2016-03-01T07:11:48</td><td>David</td><td>2482</td><td>Moss</td></tr><tr><td>21</td><td>2016-01-07T08:11:35</td><td>Alison</td><td>159</td><td>Bell</td></tr><tr><td>31</td><td>2016-03-07T01:01:24</td><td>Daniel</td><td>5309</td><td>Roy</td></tr><tr><td>24</td><td>2016-01-11T23:08:27</td><td>Alex</td><td>2293</td><td>Bean</td></tr><tr><td>30</td><td>2016-01-06T09:58:56</td><td>Erik</td><td>46</td><td>Kelley</td></tr><tr><td>48</td><td>2017-06-01T23:13:27</td><td>Joe</td><td>8578</td><td>Pham</td></tr><tr><td>25</td><td>2015-11-26T17:42:37</td><td>Jon</td><td>427</td><td>Burke</td></tr></tbody></table></div>"
      ]
     },
     "metadata": {
      "application/vnd.databricks.v1+output": {
       "addedWidgets": {},
       "aggData": [],
       "aggError": "",
       "aggOverflow": false,
       "aggSchema": [],
       "aggSeriesLimitReached": false,
       "aggType": "",
       "arguments": {},
       "columnCustomDisplayInfos": {},
       "data": [
        [
         27,
         "2016-03-08T13:38:37",
         "Christopher",
         2015,
         "Bradshaw"
        ],
        [
         39,
         "2016-06-29T20:43:59",
         "Christina",
         6398,
         "Davenport"
        ],
        [
         20,
         "2015-10-23T04:13:23",
         "Alexandria",
         3599,
         "Alvarado"
        ],
        [
         20,
         "2015-12-01T15:08:31",
         "Christopher",
         5076,
         "Butler"
        ],
        [
         39,
         "2017-07-19T07:12:04",
         "Michelle",
         7790,
         "Gutierrez"
        ],
        [
         49,
         "2016-04-22T20:36:02",
         "Brittany",
         10509,
         "Thompson"
        ],
        [
         43,
         "2016-07-21T15:25:08",
         "Chelsea",
         10119,
         "Gonzalez"
        ],
        [
         21,
         "2015-11-10T09:27:42",
         "Andrea",
         8731,
         "Alexander"
        ],
        [
         24,
         "2016-03-31T20:56:39",
         "Austin",
         8887,
         "Rodriguez"
        ],
        [
         23,
         "2015-12-01T18:15:02",
         "Christine",
         7768,
         "Cortez"
        ],
        [
         36,
         "2015-12-20T16:38:13",
         "Michelle",
         4315,
         "Prince"
        ],
        [
         32,
         "2017-10-10T20:09:33",
         "Christian",
         10625,
         "Lang"
        ],
        [
         22,
         "2016-02-11T20:46:04",
         "Jennifer",
         9672,
         "Hudson"
        ],
        [
         23,
         "2015-11-28T11:52:37",
         "Andrew",
         8930,
         "Anderson"
        ],
        [
         31,
         "2017-08-04T14:30:22",
         "Alexander",
         6566,
         "Perez"
        ],
        [
         52,
         "2016-02-07T20:00:25",
         "Richard",
         3729,
         "Edwards"
        ],
        [
         40,
         "2017-05-16T07:09:21",
         "Michael",
         10552,
         "Hunter"
        ],
        [
         21,
         "2015-10-25T07:36:08",
         "Aaron",
         9074,
         "Alexander"
        ],
        [
         32,
         "2016-04-02T03:51:23",
         "Brittany",
         1313,
         "Jones"
        ],
        [
         34,
         "2016-12-22T00:02:02",
         "Thomas",
         10794,
         "Turner"
        ],
        [
         20,
         "2016-01-07T19:49:22",
         "David",
         2959,
         "Griffith"
        ],
        [
         26,
         "2015-12-20T10:28:00",
         "Brendan",
         9875,
         "Joseph"
        ],
        [
         21,
         "2016-01-03T15:42:12",
         "Annette",
         2074,
         "Forbes"
        ],
        [
         56,
         "2016-10-15T17:21:39",
         "Gregory",
         1014,
         "Ramsey"
        ],
        [
         59,
         "2017-06-29T22:35:17",
         "Michael",
         4137,
         "Decker"
        ],
        [
         21,
         "2015-11-24T02:15:36",
         "Aaron",
         2411,
         "Bartlett"
        ],
        [
         58,
         "2016-06-03T23:35:30",
         "Michael",
         4508,
         "Carter"
        ],
        [
         32,
         "2016-03-10T04:11:31",
         "Brittany",
         771,
         "Butler"
        ],
        [
         46,
         "2015-11-27T23:11:21",
         "Jonathan",
         1545,
         "Avila"
        ],
        [
         44,
         "2016-10-29T02:07:21",
         "Brandon",
         603,
         "Jackson"
        ],
        [
         22,
         "2016-02-09T17:01:38",
         "Carlos",
         5630,
         "Estrada"
        ],
        [
         32,
         "2016-06-08T22:10:13",
         "Donna",
         1268,
         "Campbell"
        ],
        [
         54,
         "2016-05-15T04:22:01",
         "Alexis",
         1555,
         "Bennett"
        ],
        [
         20,
         "2015-12-17T08:43:40",
         "Adam",
         3800,
         "Armstrong"
        ],
        [
         25,
         "2015-12-28T04:21:39",
         "Charles",
         8304,
         "Berry"
        ],
        [
         23,
         "2015-11-25T13:36:22",
         "Corey",
         6063,
         "Andrews"
        ],
        [
         48,
         "2017-09-26T16:31:56",
         "Robert",
         3454,
         "Murphy"
        ],
        [
         20,
         "2017-04-11T16:35:33",
         "Cheryl",
         7554,
         "Huerta"
        ],
        [
         30,
         "2015-12-25T20:24:37",
         "Emily",
         6145,
         "Hawkins"
        ],
        [
         31,
         "2016-11-09T19:50:51",
         "Kaylee",
         9979,
         "Miller"
        ],
        [
         24,
         "2015-11-20T05:37:11",
         "Angela",
         4913,
         "Brooks"
        ],
        [
         25,
         "2015-11-19T21:24:33",
         "Daniel",
         9759,
         "Brooks"
        ],
        [
         20,
         "2016-12-31T00:06:36",
         "Dawn",
         7294,
         "Anderson"
        ],
        [
         21,
         "2015-11-24T02:15:36",
         "Aaron",
         808,
         "Bartlett"
        ],
        [
         28,
         "2016-11-15T10:40:03",
         "Anthony",
         9936,
         "Cantu"
        ],
        [
         30,
         "2016-07-03T10:59:40",
         "Peter",
         6844,
         "Roberts"
        ],
        [
         47,
         "2017-04-26T03:26:23",
         "Aaron",
         3419,
         "Jenkins"
        ],
        [
         25,
         "2017-07-20T05:51:23",
         "Rhonda",
         4988,
         "Durham"
        ],
        [
         20,
         "2017-01-17T01:49:27",
         "Regina",
         552,
         "Morales"
        ],
        [
         25,
         "2015-11-19T21:24:33",
         "Daniel",
         8312,
         "Brooks"
        ],
        [
         32,
         "2016-10-23T14:06:51",
         "Dylan",
         2863,
         "Holmes"
        ],
        [
         36,
         "2015-12-08T20:02:43",
         "Rachel",
         5730,
         "Davis"
        ],
        [
         32,
         "2016-10-23T14:06:51",
         "Dylan",
         2863,
         "Holmes"
        ],
        [
         36,
         "2015-12-08T20:02:43",
         "Rachel",
         5730,
         "Davis"
        ],
        [
         26,
         "2015-11-11T03:20:57",
         "Brian",
         2923,
         "Nelson"
        ],
        [
         20,
         "2015-10-21T08:27:36",
         "Amanda",
         2418,
         "Adams"
        ],
        [
         22,
         "2015-12-21T08:06:54",
         "Andrew",
         3156,
         "Baker"
        ],
        [
         20,
         "2015-11-28T02:20:29",
         "Claudia",
         428,
         "Adams"
        ],
        [
         24,
         "2016-01-11T12:03:48",
         "Anne",
         7343,
         "Clayton"
        ],
        [
         22,
         "2015-12-31T14:57:02",
         "Carol",
         10138,
         "Silva"
        ],
        [
         21,
         "2015-11-12T06:21:36",
         "Denise",
         7922,
         "Adams"
        ],
        [
         22,
         "2015-10-24T18:56:30",
         "Amanda",
         9590,
         "Allen"
        ],
        [
         44,
         "2017-06-21T19:53:27",
         "Kayla",
         2698,
         "Burton"
        ],
        [
         28,
         "2016-06-16T02:06:38",
         "Aimee",
         831,
         "Collins"
        ],
        [
         21,
         "2015-11-12T06:21:36",
         "Denise",
         8606,
         "Adams"
        ],
        [
         20,
         "2015-10-23T22:47:39",
         "Larry",
         4076,
         "Pineda"
        ],
        [
         20,
         "2015-10-31T18:51:07",
         "Aaron",
         1422,
         "Abbott"
        ],
        [
         20,
         "2015-11-12T03:23:49",
         "Amanda",
         1371,
         "Brown"
        ],
        [
         30,
         "2016-02-21T12:54:01",
         "Ashley",
         2604,
         "Evans"
        ],
        [
         20,
         "2015-10-24T11:23:51",
         "Abigail",
         7528,
         "Ali"
        ],
        [
         20,
         "2015-10-24T11:23:51",
         "Abigail",
         7528,
         "Ali"
        ],
        [
         25,
         "2016-01-13T17:36:30",
         "Amanda",
         5069,
         "Ball"
        ],
        [
         20,
         "2015-10-24T11:23:51",
         "Abigail",
         3089,
         "Ali"
        ],
        [
         24,
         "2016-03-09T10:48:14",
         "Tammy",
         8653,
         "Davis"
        ],
        [
         20,
         "2016-01-01T13:50:40",
         "Alvin",
         7166,
         "Adams"
        ],
        [
         20,
         "2016-02-27T21:13:44",
         "Alex",
         9546,
         "Barnes"
        ],
        [
         20,
         "2016-07-23T20:51:06",
         "Lisa",
         5468,
         "Gamble"
        ],
        [
         20,
         "2015-10-23T12:40:19",
         "Brett",
         205,
         "Bryant"
        ],
        [
         20,
         "2016-01-26T01:49:23",
         "Alicia",
         719,
         "Avila"
        ],
        [
         20,
         "2016-07-02T02:32:30",
         "Ann",
         1094,
         "Elliott"
        ],
        [
         51,
         "2016-10-09T14:47:51",
         "Melanie",
         223,
         "Hill"
        ],
        [
         27,
         "2015-12-16T15:20:05",
         "Anne",
         5494,
         "Allen"
        ],
        [
         23,
         "2016-06-23T14:38:00",
         "Julie",
         10663,
         "Cox"
        ],
        [
         20,
         "2015-10-28T05:00:33",
         "Barry",
         1704,
         "Lynn"
        ],
        [
         22,
         "2016-03-01T07:11:48",
         "David",
         2482,
         "Moss"
        ],
        [
         21,
         "2016-01-07T08:11:35",
         "Alison",
         159,
         "Bell"
        ],
        [
         31,
         "2016-03-07T01:01:24",
         "Daniel",
         5309,
         "Roy"
        ],
        [
         24,
         "2016-01-11T23:08:27",
         "Alex",
         2293,
         "Bean"
        ],
        [
         30,
         "2016-01-06T09:58:56",
         "Erik",
         46,
         "Kelley"
        ],
        [
         48,
         "2017-06-01T23:13:27",
         "Joe",
         8578,
         "Pham"
        ],
        [
         25,
         "2015-11-26T17:42:37",
         "Jon",
         427,
         "Burke"
        ]
       ],
       "datasetInfos": [],
       "dbfsResultPath": null,
       "isJsonSchema": true,
       "metadata": {},
       "overflow": false,
       "plotOptions": {
        "customPlotOptions": {},
        "displayType": "table",
        "pivotAggregation": null,
        "pivotColumns": null,
        "xColumns": null,
        "yColumns": null
       },
       "removedWidgets": [],
       "schema": [
        {
         "metadata": "{}",
         "name": "age",
         "type": "\"long\""
        },
        {
         "metadata": "{}",
         "name": "date_joined",
         "type": "\"string\""
        },
        {
         "metadata": "{}",
         "name": "first_name",
         "type": "\"string\""
        },
        {
         "metadata": "{}",
         "name": "ind",
         "type": "\"long\""
        },
        {
         "metadata": "{}",
         "name": "last_name",
         "type": "\"string\""
        }
       ],
       "type": "table"
      }
     },
     "output_type": "display_data"
    }
   ],
   "source": [
    "\n",
    "\n",
    "location_of_userfile = \"s3://user-0eaf46a0829f-bucket/topics/0eaf46a0829f.user/partition=0/*.json\"\n",
    "\n",
    "file_type = \"json\"\n",
    "infer_schema = \"true\"\n",
    "\n",
    "df_user = spark.read.format(file_type).option(\"inferSchema\", infer_schema).load(location_of_userfile)\n",
    "\n",
    "display(df_user)"
   ]
  },
  {
   "cell_type": "code",
   "execution_count": 0,
   "metadata": {
    "application/vnd.databricks.v1+cell": {
     "cellMetadata": {
      "byteLimit": 2048000,
      "rowLimit": 10000
     },
     "inputWidgets": {},
     "nuid": "0f13e783-4e62-44d0-8981-11db5f7f9a71",
     "showTitle": false,
     "tableResultSettingsMap": {},
     "title": ""
    }
   },
   "outputs": [
    {
     "output_type": "stream",
     "name": "stdout",
     "output_type": "stream",
     "text": [
      "root\n |-- age: long (nullable = true)\n |-- date_joined: string (nullable = true)\n |-- first_name: string (nullable = true)\n |-- ind: long (nullable = true)\n |-- last_name: string (nullable = true)\n\n"
     ]
    }
   ],
   "source": [
    "df_user.printSchema()"
   ]
  },
  {
   "cell_type": "code",
   "execution_count": 0,
   "metadata": {
    "application/vnd.databricks.v1+cell": {
     "cellMetadata": {
      "byteLimit": 2048000,
      "rowLimit": 10000
     },
     "inputWidgets": {},
     "nuid": "91cefc68-9598-4dd8-baa6-4c019b2469ff",
     "showTitle": false,
     "tableResultSettingsMap": {},
     "title": ""
    }
   },
   "outputs": [
    {
     "output_type": "stream",
     "name": "stdout",
     "output_type": "stream",
     "text": [
      "root\n |-- category: string (nullable = true)\n |-- description: string (nullable = true)\n |-- downloaded: long (nullable = true)\n |-- follower_count: string (nullable = true)\n |-- image_src: string (nullable = true)\n |-- index: long (nullable = true)\n |-- is_image_or_video: string (nullable = true)\n |-- poster_name: string (nullable = true)\n |-- save_location: string (nullable = true)\n |-- tag_list: string (nullable = true)\n |-- title: string (nullable = true)\n |-- unique_id: string (nullable = true)\n\n"
     ]
    }
   ],
   "source": [
    "df_pin.printSchema()"
   ]
  },
  {
   "cell_type": "code",
   "execution_count": 0,
   "metadata": {
    "application/vnd.databricks.v1+cell": {
     "cellMetadata": {
      "byteLimit": 2048000,
      "rowLimit": 10000
     },
     "inputWidgets": {},
     "nuid": "74d6a9c1-04a3-4a39-8b25-db068a93e391",
     "showTitle": false,
     "tableResultSettingsMap": {},
     "title": ""
    }
   },
   "outputs": [],
   "source": [
    "\n",
    "from pyspark.sql.functions import regexp_replace\n",
    "\n",
    "\n",
    "def clean_data(df_pin):\n",
    "    cleaned_df = df_pin.replace({'No description available Story format': None,}, subset=['description'])\n",
    "    cleaned_df = cleaned_df.replace({'N,o, ,T,a,g,s, ,A,v,a,i,l,a,b,l,e': None,}, subset=['tag_list'])\n",
    "    cleaned_df = cleaned_df.replace({'No Title Data Available': None,}, subset=['title'])\n",
    "    cleaned_df = cleaned_df.replace({'User Info Error': None, }, subset=['follower_count'])\n",
    "    cleaned_df = cleaned_df.replace({'Image src error.': None, }, subset=['image_src'])\n",
    "    cleaned_df = cleaned_df.replace({'User Info Error': None, }, subset=['poster_name'])\n",
    "\n",
    "    cleaned_data_df = cleaned_df.withColumn('follower_count', cleaned_df['follower_count'].cast('int'))\n",
    "    cleaned_data_df = cleaned_df.withColumn('index', cleaned_df['index'].cast('int'))\n",
    "    cleaned_data_df = cleaned_data_df.withColumn('save_location', regexp_replace('save_location', 'Local save in', ''))\n",
    "    cleaned_data_df = cleaned_data_df.withColumn('follower_count', regexp_replace('follower_count', 'k', '000'))\n",
    "    cleaned_data_df = cleaned_data_df.withColumn('follower_count', regexp_replace('follower_count', 'M', '000000'))\n",
    "\n",
    "    cleaned_data_df = cleaned_data_df.withColumnRenamed('index', 'ind')\n",
    "    cleaned_data_df = cleaned_data_df.select('ind', 'unique_id', 'title', 'description', 'follower_count', 'poster_name', 'tag_list', 'is_image_or_video', 'image_src', 'save_location', 'category')\n",
    "\n",
    "    return cleaned_data_df\n",
    "\n",
    "\n"
   ]
  },
  {
   "cell_type": "code",
   "execution_count": 0,
   "metadata": {
    "application/vnd.databricks.v1+cell": {
     "cellMetadata": {
      "byteLimit": 2048000,
      "rowLimit": 10000
     },
     "inputWidgets": {},
     "nuid": "7f4deb84-b850-46c9-aaad-974795d50d43",
     "showTitle": false,
     "tableResultSettingsMap": {},
     "title": ""
    }
   },
   "outputs": [
    {
     "output_type": "display_data",
     "data": {
      "text/html": [
       "<style scoped>\n",
       "  .table-result-container {\n",
       "    max-height: 300px;\n",
       "    overflow: auto;\n",
       "  }\n",
       "  table, th, td {\n",
       "    border: 1px solid black;\n",
       "    border-collapse: collapse;\n",
       "  }\n",
       "  th, td {\n",
       "    padding: 5px;\n",
       "  }\n",
       "  th {\n",
       "    text-align: left;\n",
       "  }\n",
       "</style><div class='table-result-container'><table class='table-result'><thead style='background-color: white'><tr><th>ind</th><th>unique_id</th><th>title</th><th>description</th><th>follower_count</th><th>poster_name</th><th>tag_list</th><th>is_image_or_video</th><th>image_src</th><th>save_location</th><th>category</th></tr></thead><tbody><tr><td>2482</td><td>08604f20-fa17-4b9a-9949-781717eca6cd</td><td>FORNT PORCH CHRISTMAS DECORATING IDEAS</td><td>Christmas decorating ideas for porches. Beautiful holiday decor ideas for front porches both small and large. Outdoor decorations like sleds, lanterns, Christmas trees, wreaths,… </td><td>46000</td><td>Life on Summerhill | Home, Holiday Decor & DIY Website</td><td>Diy Christmas Decorations For Home,Farmhouse Christmas Decor,Christmas Home,Christmas Holidays,Christmas Front Porches,How To Decorate For Christmas,Christmas Porch Ideas,Christmas Decorating Ideas,Large Outdoor Christmas Decorations</td><td>video</td><td>https://i.pinimg.com/videos/thumbnails/originals/40/83/f5/4083f5b4971bf235f89a4784ab87271e.0000001.jpg</td><td> /data/christmas</td><td>christmas</td></tr><tr><td>10138</td><td>927c4658-cc3f-4b92-9b5c-70743d0c238d</td><td>14 Amazing Things To Do In Costa Rica | Volcanoes, Waterfalls, Wildlife And More</td><td>This Costa Rica itinerary is the ultimate guide to spending two weeks in Costa Rica. Find out about visiting La Fortuna, Arenal, Monteverde, Naranjo, Corcovado National Park, Or… </td><td>10000</td><td>Wanderlust Chloe ✈️ Travel guides, inspo and adventure travel ✈️</td><td>Costa Rica Travel,Rio Celeste Costa Rica,Dream Vacations,Vacation Spots,Vacation Travel,Travel Pictures,Travel Photos,Fortuna Costa Rica,Costa Rica Pictures</td><td>image</td><td>https://i.pinimg.com/originals/30/93/cb/3093cb01d9de2d125fda8ba5e3e41946.jpg</td><td> /data/travel</td><td>travel</td></tr><tr><td>2604</td><td>087b0fa9-f901-4262-aa0a-6caf234d1b35</td><td>75+ Neutral Christmas Home Decor for the Holiday Season in Farmhouse Style using Earth Tones Modern</td><td>My favorite 75+ Neutral Christmas Home Decor for decorating your house during the Holiday Season in earth tones and a farmhouse, rustic style all winter. I love this modern, sim… </td><td>31000</td><td>Everyday Wholesome</td><td>Colorful Christmas Decorations,Colorful Christmas Tree,Christmas Centerpieces,Christmas Colors,Xmas Colors,Winter Decorations,Christmas Trends,Christmas Inspiration,Christmas Home</td><td>image</td><td>https://i.pinimg.com/originals/86/84/39/868439dd894969e3abd6a2a8a9fe1e9c.jpg</td><td> /data/christmas</td><td>christmas</td></tr><tr><td>3156</td><td>fa6e31a4-18c2-4eca-a6d8-e903eee2c2a4</td><td>Handprint Reindeer Ornaments - Crafty Morning</td><td>This post may contain affiliate links, read our Disclosure Policy for more information. As an Amazon Associate I earn from qualifying purchases, thank you! Make some cute handpr… </td><td>892000</td><td>Michelle {CraftyMorning.com}</td><td>Christmas Gifts For Parents,Christmas Decorations For Kids,Christmas Crafts For Toddlers,Preschool Christmas,Christmas Crafts For Gifts,Christmas Activities,Toddler Crafts,Kids Christmas,Christmas Feeling</td><td>image</td><td>https://i.pinimg.com/originals/ff/fe/38/fffe384f3ec18a0d87cb2d80cc8c1499.jpg</td><td> /data/diy-and-crafts</td><td>diy-and-crafts</td></tr><tr><td>10119</td><td>40eab9ba-7812-4f26-baca-35a6bed95a9f</td><td>How to Afford Family Travel: 10 Mistakes You're Making (and what to do instead) | Our Next Adventure</td><td>See families traveling all the time and wonder, \"how the heck do they afford this?\" Read 10 mistakes you might be making, and what you should do instead.</td><td>9000</td><td>OUR NEXT ADVENTURE | family travel blog</td><td>Family Vacation Destinations,Vacation Trips,Travel Destinations,Vacation Ideas,Cheap Family Vacations,Vacation Travel,Best Family Vacation Spots,Vacation Quotes,Vacation Memories</td><td>image</td><td>https://i.pinimg.com/originals/0a/49/fb/0a49fbcec746c4219d3a6f30834f378e.jpg</td><td> /data/travel</td><td>travel</td></tr><tr><td>3419</td><td>d0b80187-0171-49b2-8ee4-572984244f65</td><td>Easy Christmas Tree Crafts Ideas for toddlers and preschoolers | Sharing Our Experiences</td><td>Easy Christmas tree Craft Ideas for toddlers and preschoolers. Engage your kids in these DIY</td><td>3000</td><td>Kids Crafts & Free Preschool Printables- Sharing Our Experiences</td><td>Christmas Crafts For Kids To Make,Christmas Tree Painting,Christmas Activities For Kids,Easy Christmas Crafts For Toddlers,Kid Activities,Christmas Handprint Crafts,Christmas Tree Crafts,Christmas Baby,Xmas Tree</td><td>image</td><td>https://i.pinimg.com/originals/69/f0/75/69f075939d4449dffa69519756c30e26.png</td><td> /data/diy-and-crafts</td><td>diy-and-crafts</td></tr><tr><td>5494</td><td>8fb2af68-543b-4639-8119-de33d28706ed</td><td>Dave Ramsey's 7 Baby Steps: What Are They And Will They Work For You</td><td>If you love budgeting, make sure to give Dave Ramsey's 7 Baby Steps a try. Follow these steps to begin your debt snowball, build an emergency fund, invest and reach riches. I ca… </td><td>26000</td><td>Living Low Key | Save Money, Make Money, & Frugal Living</td><td>Financial Peace,Financial Tips,Saving Money Quotes,Total Money Makeover,Budgeting Finances,Money Management,Wealth Management,Personal Finance,Making Ideas</td><td>image</td><td>https://i.pinimg.com/originals/1e/9d/90/1e9d906e4e150e3b95187f3b76ea7c71.png</td><td> /data/finance</td><td>finance</td></tr><tr><td>2418</td><td>da8745a6-5160-46c4-877d-181d50a729fd</td><td>100 DIY Christmas Centerpieces You'll Love To Decorate Your Home With For The Christmas Season - Hike n Dip</td><td>Here are the best DIY Christmas Centerpieces ideas perfect for your Christmas & holiday season home decor. From Christmas Vignettes to Table Centerpieces.</td><td>500000</td><td>HikenDip</td><td>Farmhouse Christmas Decor,Rustic Christmas,Christmas Time,Vintage Christmas,Xmas,Primitive Christmas Crafts,Christmas Vignette,Indoor Christmas Decorations,Diy Christmas Ornaments</td><td>image</td><td>https://i.pinimg.com/originals/aa/6d/0f/aa6d0f44d7c1c96b998cb9aa6c4446b8.png</td><td> /data/christmas</td><td>christmas</td></tr><tr><td>8312</td><td>ca3c9bb0-7281-4b9b-8abf-201da0b68d62</td><td>8 Vision Board Ideas To Manifest Your Dreams - TheFab20s</td><td>Trying to create your dream life but don't know where to start?! These vision board ideas are a great way to manifest a new you this year</td><td>42000</td><td>TheFab20s | Travel+Food+DIY+Listicles</td><td>Positive Self Affirmations,Positive Affirmations Quotes,Affirmation Quotes,Quotes Positive,Motivational Quotes For Success Positivity,Business Success Quotes,Positive Vibes,Motivational Quotes For Women,Affirmations For Love</td><td>image</td><td>https://i.pinimg.com/originals/36/d1/be/36d1be632cbf9b6c8e377a052b31d064.jpg</td><td> /data/quotes</td><td>quotes</td></tr><tr><td>7922</td><td>a584581c-1b38-4731-a1cc-f36115ecf229</td><td>45 Top Life Quotes School Did Not Teach You</td><td>summcoco gives you inspiration for the women fashion trends you want. Thinking about a new look or lifestyle? This is your ultimate resource to get the hottest trends. 45 Top Li… </td><td>306000</td><td>Sumcoco | Decor Ideas, Hairstyles, Nails Fashion Advice</td><td>Life Quotes Love,Inspirational Quotes About Love,Mood Quotes,Motivational Quotes,Tears Quotes,Quotes About Sadness,Deep Quotes About Life,Quotes Quotes,Quote Life</td><td>image</td><td>https://i.pinimg.com/originals/bb/c0/e6/bbc0e6a797079505f11ac12bcb0b8c66.jpg</td><td> /data/quotes</td><td>quotes</td></tr><tr><td>771</td><td>a5021766-a8aa-4dc7-9857-4da6b8e3dc1a</td><td>African Sunset Shadow Tracing Art - Taming Little Monsters</td><td>Use your mini world figures to create this beautiful African sunset. Your kids will love learning about shadows, angles and distortion in this fun art and STEM activity for kids.</td><td>4000</td><td>Taming Little Monsters - Fun Activities for Kids</td><td>African Art Projects,Cool Art Projects,Projects For Kids,African Art For Kids,African Crafts Kids,Art Club Projects,Art Education Projects,Tracing Art,African Sunset</td><td>image</td><td>https://i.pinimg.com/originals/e3/aa/35/e3aa350f8f104d0e59f26d7f17ea7461.png</td><td> /data/art</td><td>art</td></tr><tr><td>4508</td><td>9064f4a2-2753-476c-815e-db360f45a93e</td><td>Custom Event and Shop Neon Sign Lights - Event & Shop</td><td>Personalize your event or shop with a customized neon sign. Make a statement with your own custom vibes! This light is 32 -40 inches (80cm-100cm) if you need something bigger, p… </td><td>111</td><td>Life of Neon | Custom Neon Light Signs | Home Decor Wall Art</td><td>Our Wedding,Wedding Venues,Dream Wedding,Wedding Cakes,Church Wedding,Wedding Flowers,Lace Wedding,Wedding Rings,Wedding Dresses</td><td>image</td><td>https://i.pinimg.com/originals/e9/c0/7c/e9c07cf0cf16cab23764a36718ab76c1.jpg</td><td> /data/event-planning</td><td>event-planning</td></tr><tr><td>4076</td><td>3a52d364-7c04-47cb-a3e5-56d9e2b77528</td><td>Phonics Activities Your Kids Will Love - The Literacy Nest</td><td>Hi everyone! As a teacher using the Orton-Gillingham approach, I am constantly looking for phonics activities that my students will find fun and engaging. Using Orton-Gillingham… </td><td>22000</td><td>The Literacy Nest</td><td>Literacy Games,Kindergarten Activities,Literacy Centers,Fun Phonics Activities,Listening Activities,Vocabulary Games,Literacy Stations,Letter Activities,Montessori Activities</td><td>image</td><td>https://i.pinimg.com/originals/58/8e/38/588e380b19942a71a86a69d9c9973d25.png</td><td> /data/education</td><td>education</td></tr><tr><td>2293</td><td>1fd7d4cc-54c1-4542-9c1f-449cb4c875f4</td><td>Over 40 of the BEST Homemade Christmas Ornament Ideas</td><td>Over 40 of the BEST Homemade Christmas Ornaments...these easy Holiday crafts are so fun to make for Kids and Adults! Lots of great class party ideas!</td><td>245000</td><td>Kitchen Fun With My 3 Sons</td><td>Diy Christmas Lights,Homemade Christmas Decorations,Christmas Crafts For Gifts,Mini Christmas Tree,Christmas Ornament Crafts,Homemade Christmas Gifts,Xmas Decorations,Simple Christmas,Handmade Christmas</td><td>image</td><td>https://i.pinimg.com/originals/d0/d3/a3/d0d3a31e87296224d5ba8896904b5b88.jpg</td><td> /data/christmas</td><td>christmas</td></tr><tr><td>159</td><td>841a161a-47b8-4161-884d-adeb67a28b1e</td><td>Valentine's Day Bee Directed Drawing {Art Project}</td><td>This bee directed drawing and associated pages will help you create a fun and creative Valentine's Day Directed Drawing Art Project activity for your class.Choose to do a painti… </td><td>1000000</td><td>Teachers Pay Teachers</td><td>Classroom Art Projects,School Art Projects,Art Classroom,Art Projects For Kindergarteners,Spring Art Projects,Classroom Posters,Valentines Art Lessons,Valentines Day Activities,Grade 1 Art</td><td>image</td><td>https://i.pinimg.com/originals/49/ff/2e/49ff2e83c0cefdd37213f6084c6f0566.jpg</td><td> /data/art</td><td>art</td></tr><tr><td>9979</td><td>2b2abc85-fc51-481f-8ae6-17681993da28</td><td>Paris in the Summer. 10 fun things to do in Paris in the Summertime • Petite in Paris</td><td>Are you traveling to Paris during the summer? Find out what to do in Paris, France during the summer. Fun summertime activities in Paris. Enjoy the incredible outdoors when trav… </td><td>3000</td><td>Petite in Paris</td><td>Torre Eiffel Paris,Tour Eiffel,Picnic In Paris,Hello France,Voyage Europe,Destination Voyage,Beautiful Places To Travel,Travel Aesthetic,Paris Travel</td><td>image</td><td>https://i.pinimg.com/originals/6c/4c/90/6c4c90bba27ebf8c8bfe4c1acfb9f07a.jpg</td><td> /data/travel</td><td>travel</td></tr><tr><td>9759</td><td>d105eb6e-0f9f-46e7-8d02-d24b62f6ae90</td><td>8 Best Greek Islands You Have To Visit - TheFab20s</td><td>Although you'd think Greek islands are fairly similar, you'd be completely wrong! Each island has it's own personality and appeal. Here are the 8 Best Greek Islands to visit, es… </td><td>42000</td><td>TheFab20s | Travel+Food+DIY+Listicles</td><td>Greek Islands To Visit,Best Greek Islands,Greece Islands,Cool Places To Visit,Places To Go,Best Places In Portugal,Copenhagen Travel,Paros Island,Santorini Island</td><td>image</td><td>https://i.pinimg.com/originals/06/1d/ce/061dce38929dec8e74844442116bea4a.jpg</td><td> /data/travel</td><td>travel</td></tr><tr><td>2698</td><td>73f16302-4871-486a-8836-947530526337</td><td>DIY Dollar Tree Valentine's Day Wreath</td><td>DIY Dollar Store Valentine’s Day Heart Wreath Decoration. There are so many great Valentine crafts at the Dollar Tree right now! During our last trip, we picked up a few supplie… </td><td>9000</td><td>South Lumina Style</td><td>Valentine Day Wreaths,Valentines Day Hearts,Valentines Day Decorations,Valentine Day Crafts,Holiday Crafts,Diy Christmas,Christmas Wreaths,Valentine Tree,Printable Valentine</td><td>image</td><td>https://i.pinimg.com/originals/dc/f6/8a/dcf68adcc63c339c24fa5664f1115994.png</td><td> /data/diy-and-crafts</td><td>diy-and-crafts</td></tr><tr><td>6145</td><td>82e13a07-db99-43a3-b1c0-89a4b75821da</td><td>HOLIDAY MANTLE DECOR - @AMAZON & @TARGET FINDS</td><td>Holiday mantle decor, Christmas decor, metallic mercury glass style Christmas trees, eucalyptus vine, evergreen pine branches, white neutral holiday decor, cozy mantle for the h… </td><td>83000</td><td>Stylin by Aylin</td><td>Winter Home Decor,Christmas Living Room Decor,Living Room Decor Cozy,Christmas Decor,Cozy Fireplace,Rustic Fireplace Decor,Fireplace Decorations,Rustic Room,House Decorations</td><td>image</td><td>https://i.pinimg.com/originals/9d/82/1a/9d821a80acd8f90c16454e978bd9b115.jpg</td><td> /data/home-decor</td><td>home-decor</td></tr><tr><td>427</td><td>4a455340-09a2-4370-ad86-73d7964603db</td><td>DIY Acrylic Paint Pouring Wall Art - Abbotts At Home</td><td>Easy to follow steps for this easy DIY wall art. Acrylic Paint Pouring with a blow dryer, Dutch paint pour. Written steps and full step by step video to help you do it too! 👍</td><td>52000</td><td>Abbotts At Home</td><td>Acrylic Pouring Art,Acrylic Wall Art,Acrylic Pouring Techniques,Acrylic Paintings,Art Paintings,Marble Art,Marble Painting,Pour Painting,Large Canvas Art</td><td>video</td><td>https://i.pinimg.com/videos/thumbnails/originals/d5/5e/fa/d55efa6ef50d35dac425cea935f39c89.0000001.jpg</td><td> /data/art</td><td>art</td></tr><tr><td>1704</td><td>5fbf9863-fb79-477c-a5b6-540c3020a55f</td><td>Christmas Trees From Pallet Wood | Holiday DIY</td><td>Christmas Trees From Pallet Wood | Holiday DIY: Deck the yard with some fun outdoor Christmas Trees! We made these merry and bright decorations from two old pallets we had lying… </td><td>3000000</td><td>Instructables</td><td>Pallet Wood Christmas Tree,Wooden Christmas Crafts,Diy Christmas Tree,Christmas Projects,Holiday Crafts,Wooden Xmas Trees,Different Christmas Trees,Pallet Tree,Christmas Kitchen</td><td>image</td><td>https://i.pinimg.com/originals/64/7b/ca/647bca35169b7c144604116c64bcba8a.png</td><td> /data/christmas</td><td>christmas</td></tr><tr><td>4315</td><td>21b59ba9-829d-4c33-8c27-4cd4c56d26b8</td><td>Podcasts for Teachers or Parents of Teenagers</td><td>Podcasts for Teachers or Parents of Teenagers: Teaching teens middle school and high school can feel joyful and rewarding most days, but can also frustrate you with one challeng… </td><td>25000</td><td>Math Giraffe</td><td>Middle School Classroom,High School Students,High School Teachers,Middle School Tips,High School Counseling,Ela Classroom,High School Science,Future Classroom,Google Classroom</td><td>image</td><td>https://i.pinimg.com/originals/50/19/31/501931a27ee4d076658980851b995b2c.jpg</td><td> /data/education</td><td>education</td></tr><tr><td>3599</td><td>ff0dd945-dafa-411c-8cef-eb43e374e815</td><td>Educational Leadership in Aotearoa New Zealand : Issues of Context and Social Justice</td><td>This book presents 10 inspirational case studies of how centre leaders, principals and leadership teams in high-needs New Zealand educational settings have enacted leadership to… </td><td>2000000</td><td>Walmart</td><td>Research Studies,Educational Leadership,Education System,Secondary School,Try It Free,Book Format,Social Justice,Young People,Paperback Books</td><td>image</td><td>https://i.pinimg.com/originals/0e/ea/c4/0eeac457780bbe43fcc5e9eaabd80f62.jpg</td><td> /data/education</td><td>education</td></tr><tr><td>5069</td><td>b75b6f87-deb3-444f-b29e-ce9161b2df49</td><td>The Vault: Curated & Refined Wedding Inspiration</td><td>Sacramento California Wedding 2 Chic Events & Design Jodi Yorston Photography Wilson Vineyards Barn Miosa Couture Yellow Barn Vineyard Outdoor Candles DIY</td><td>6000000</td><td>Style Me Pretty</td><td>60th Anniversary Parties,Anniversary Decorations,Golden Anniversary,25th Wedding Anniversary,Anniversary Pictures,Anniversary Ideas,Birthday Decorations,Event Planning Design,Event Design</td><td>image</td><td>https://i.pinimg.com/originals/7e/45/90/7e45905fefa36347e83333fd6d091140.jpg</td><td> /data/event-planning</td><td>event-planning</td></tr><tr><td>7343</td><td>b8c63a95-6fe8-4d7f-9455-1eef3462fee0</td><td>This Fashion Rule Is Nonsense, And We Should All Forget About It</td><td>Black And Brown Outfits You Need To Try This Fall Season. The trick with black and brown outfits is to know how to combine colors, fabrics, and shapes to get a cohesive look. So… </td><td>1000000</td><td>Cultura Colectiva</td><td>Winter Outfits Men,Stylish Mens Outfits,Casual Outfits,Men Casual,Smart Casual,Outfits For Men,Fall Outfits,Mens Winter Boots,Business Casual Men</td><td>image</td><td>https://i.pinimg.com/originals/3e/49/09/3e4909c0ccc4dbba3cad83d97eab4a61.png</td><td> /data/mens-fashion</td><td>mens-fashion</td></tr><tr><td>8606</td><td>71757040-bfc8-4631-9cac-22801e61d9e3</td><td>30+ Eagle Tattoos Ideas for Women</td><td>summcoco gives you inspiration for the women fashion trends you want. Thinking about a new look or lifestyle? This is your ultimate resource to get the hottest trends. 30+ Eagle… </td><td>306000</td><td>Sumcoco | Decor Ideas, Hairstyles, Nails Fashion Advice</td><td>White Bird Tattoos,Rose Tattoos,Flower Tattoos,Tattoo Black,Bird And Flower Tattoo,Tattoo Floral,Mini Tattoos,Flower Art,Girls With Sleeve Tattoos</td><td>image</td><td>https://i.pinimg.com/originals/8d/c6/ed/8dc6ed0b212393187a14c7d07a88060f.png</td><td> /data/tattoos</td><td>tattoos</td></tr><tr><td>9074</td><td>2adede06-7fb0-4b5f-8cf9-ce8e6d6fa6a1</td><td>77 Disney Tattoos To Unleash Your Magic Power - Our Mindful Life</td><td>Disney characters never go out with time. From small to bold, here are the best Disney tattoos that both adults and children will adore.</td><td>190000</td><td>Our Mindful Life</td><td>Small Disney Tattoos,Disney Thigh Tattoo,Matching Disney Tattoos,Disney Couple Tattoos,Disney Inspired Tattoos,Disney Sleeve Tattoos,Matching Best Friend Tattoos,Small Tattoos,3 Best Friend Tattoos</td><td>image</td><td>https://i.pinimg.com/originals/29/1d/13/291d1361e275358df53c1db02b63d3a4.jpg</td><td> /data/tattoos</td><td>tattoos</td></tr><tr><td>6063</td><td>60693727-4927-4bd6-a8c5-096a392d63e6</td><td>41 Gorgeous Fall Decor Ideas For Your Home - Chaylor & Mads</td><td>Beautiful and easy ways to update every room in your home with fall decor. Plus, my favorite finds in fall decor for 2020!</td><td>92000</td><td>Kristen | Lifestyle, Mom Tips & Teacher Stuff Blog</td><td>Fall Home Decor,Autumn Home,Fall Decor Outdoor,Front Porch Fall Decor,Home Decor Ideas,Porch Ideas For Fall,Fall Outdoor Decorating,Decorating Ideas For Fall,Fall Front Doors</td><td>image</td><td>https://i.pinimg.com/originals/e5/ae/dc/e5aedc14ce557e3a69f672e0f8c88f6e.png</td><td> /data/home-decor</td><td>home-decor</td></tr><tr><td>5076</td><td>fa3af29c-dc78-4eed-a4c5-52a407ea04c0</td><td>Quiz: Test Your Event IQ! - Pointers For Planners</td><td>So you're thinking of getting your event planner certification, but how much do you REALLY know about event planning? Event planners need to be knowledgeable and able to answer… </td><td>5000</td><td>QC Career School</td><td>Diy Wedding Food,Best Wedding Makeup,Wedding Events,Wedding Tips,Wedding Stuff,Weddings,Event Planning Business,Business Events,Wedding Makeup Tutorial</td><td>image</td><td>https://i.pinimg.com/originals/6f/19/bc/6f19bce24921bf843540fc04da9eb6bf.jpg</td><td> /data/event-planning</td><td>event-planning</td></tr><tr><td>552</td><td>b82602a9-e434-42cf-9481-22f3f41d82ce</td><td>The herbal bed: Katie Scott's psychedelic flora and fauna – in pictures</td><td>Nike trainers sprout plants and French perfumiers inspire by mysterious scientific icons in Katie Scott’s visions that take botanical illustration into the digital age</td><td>908000</td><td>The Guardian</td><td>Art And Illustration,Illustration Inspiration,Botanical Illustration,Vintage Illustrations,Botanical Drawings,Botanical Prints,Arte Inspo,Insect Art,Psychedelic</td><td>image</td><td>https://i.pinimg.com/originals/16/8a/fa/168afae02d5ffc71da10cdb312de2cb1.jpg</td><td> /data/art</td><td>art</td></tr><tr><td>8578</td><td>036ec267-658b-4dad-a097-8ef0b4f30c0d</td><td>Snake Collarbone Temporary Tattoo. Halloween Tattoos  Spooky | Etsy</td><td>Snake temporary tattoo for collarbone. Spooky 3D tattoo for Halloween Includes 2 copies, 1 for the right side and 1 for the left side Apply with water and remove anytime with ba… </td><td>0</td><td>Livitrevisani</td><td>Finger Tattoo Designs,Small Tattoo Designs,Finger Tattoos,Small 3d Tattoos,Cool Tattoos,Line Work Tattoo,Back Tattoo,Collarbone Tattoo,Tattoo Neck</td><td>image</td><td>https://i.pinimg.com/originals/d8/b7/a1/d8b7a11a3fe64e7fab91d3afb1536537.jpg</td><td> /data/tattoos</td><td>tattoos</td></tr><tr><td>4137</td><td>bf275054-4464-448b-9143-1bf101aa366d</td><td>15 Essential Classroom Items For First Year Teachers / First Year Teacher Must Haves</td><td>15 Essential Classroom Items For First Year Teachers / First Year Teacher Must Haves</td><td>5000</td><td>Write Your Story | Budgeting, Healthy Lifestyle, Faith</td><td>1st Year Teachers,First Year Teaching,First Grade Teachers,Elementary Teacher,Montessori Elementary,Teaching Reading,History Teachers,High School Classroom,First Grade Classroom</td><td>image</td><td>https://i.pinimg.com/originals/4b/b9/a8/4bb9a85f609a8384ed9c9ab14e7bcea0.jpg</td><td> /data/education</td><td>education</td></tr><tr><td>6566</td><td>6d8848f8-f515-4935-8dae-5dd02304d76e</td><td>Navy and Neutral Fall Living Room + Kitchen Tour - Sand and Sisal</td><td>Celebrate fall with a neutral color palette with natural elements. This Navy and Neutral Fall Living Room + Kitchen Tour will make you rethink fall decor.</td><td>178000</td><td>Sand and Sisal</td><td>Fall Living Room,Coastal Living Rooms,Living Room Paint,Living Room Kitchen,Living Room Interior,Living Room Furniture,Living Room Decor,Living Area,Small Living</td><td>image</td><td>https://i.pinimg.com/originals/f1/be/b6/f1beb6d3414f1c52929df39a83d8da9f.jpg</td><td> /data/home-decor</td><td>home-decor</td></tr><tr><td>2411</td><td>4e11801e-7a64-4f1e-90dd-e900677595c5</td><td>The Sweetest Gingerbread House Ornaments Kids Can Make</td><td>Transform mini terra cotta pots into the sweetest gingerbread house ornaments! Kids will love making this adorable Christmas craft to hang on the tree.</td><td>20000</td><td>Projects with Kids</td><td>Noel Christmas,Diy Christmas Ornaments,Homemade Christmas,Simple Christmas,Gingerbread Ornaments,Christmas Gingerbread,Gingerbread Houses,Preschool Christmas,Ornaments Ideas</td><td>image</td><td>https://i.pinimg.com/originals/13/28/09/1328097d7c290d1bf8642b01a6ba1c6c.jpg</td><td> /data/christmas</td><td>christmas</td></tr><tr><td>7166</td><td>4a844b03-e161-47a1-904b-591eb5dc4fb1</td><td>The Killers - Mr. Brightside - Women's T-Shirt - Heather Dark Grey / S</td><td>Women's T-shirt. Design inspired by the rock band The Killers' hit \"Mr. Brightside\". One of the greatest song from the album Hot Fuss released in 2004. Soft and light, 100% cott… </td><td>27</td><td>Mala Rock | Rock T-shirts</td><td>Mr Brightside,Rock T Shirts,Greatest Songs,Timeless Classic,Rock Bands,Album,T Shirts For Women,Inspired,Hot</td><td>image</td><td>https://i.pinimg.com/originals/8c/42/39/8c42391d35fcad51a4a79f7cd81bf26d.jpg</td><td> /data/mens-fashion</td><td>mens-fashion</td></tr><tr><td>8930</td><td>a2999c28-f7b2-4577-af87-49d21d6d8a18</td><td>135 Sunflower Tattoo Ideas - [Best Rated Designs in 2021]</td><td>We have put together the Ultimative Sunflower Tattoo Collection in 2020. Check out our highest rated handpicked Sunflower designs here!</td><td>800000</td><td>Next Luxury</td><td>Sunflower Tattoo Sleeve,Sunflower Tattoo Shoulder,Sunflower Tattoo Small,Sunflower Tattoos,Sunflower Tattoo Design,Shoulder Tattoo,Sunflower Mandala Tattoo,Sunflower Tattoo Meaning,Form Tattoo</td><td>image</td><td>https://i.pinimg.com/originals/18/de/6c/18de6c81a8637e224c7d63dce1414ceb.jpg</td><td> /data/tattoos</td><td>tattoos</td></tr><tr><td>9672</td><td>1a5050a4-ac82-472c-aeff-3457de8bbee9</td><td>Lake Moraine, Banff, Canada</td><td>On our Calgary to Vancouver road trip we got to spend time in Banff, Canada. We visited the stunning Lake Moraine as well as Lake Louise and plenty of other of Canada's natural… </td><td>7000</td><td>Travel Mad Mum</td><td>Beautiful Places To Travel,Cool Places To Visit,Beautiful Roads,Beautiful Scenery,Wonderful Places,Lac Moraine,Moraine Lake,Lac Louise,Natur Wallpaper</td><td>video</td><td>https://i.pinimg.com/videos/thumbnails/originals/57/9d/52/579d52242ae5609978c754d393e44e81.0000001.jpg</td><td> /data/travel</td><td>travel</td></tr><tr><td>3729</td><td>ac90f1d2-dc9e-438c-b073-dd48511b80b0</td><td>5 + Nature Games for Your Homeschool</td><td>Our family would rather spend time outdoors than indoors. We love nature! That said, sometimes mother nature is uncooperative. On these days, it can be fun to pull out some natu… </td><td>9000</td><td>My Little Poppies (Cait Curley, MA/CAGS)</td><td>Diy Nature,Theme Nature,Nature Study,Science And Nature,Summer Science,Earth Science,Nature Crafts,Outdoor Education,Outdoor Learning</td><td>image</td><td>https://i.pinimg.com/originals/d6/3b/1a/d63b1a2a36534ecac5d1fbd0d932403a.jpg</td><td> /data/education</td><td>education</td></tr><tr><td>7294</td><td>9d8409ef-bea7-4133-a021-c58b9c042210</td><td>Foolproof Fall Fashion For Men You'll Love</td><td>Looking for the coolest fall fashion for men this season? Click to read this article on fall fashion for men to look sharp on LLEGANCE.</td><td>28000</td><td>LLEGANCE | Workwear Fashion Woman Advice For Driven Professionals</td><td>Fashion 90s,Autumn Fashion,Fashion Ideas,Trendy Fashion,Fashion Photo,Fashion Outfits,Fashion Trends,Urban Fashion Men,Men's Casual Fashion</td><td>image</td><td>https://i.pinimg.com/originals/4c/bf/2d/4cbf2d6e04d2502612169220553f4cef.jpg</td><td> /data/mens-fashion</td><td>mens-fashion</td></tr><tr><td>2015</td><td>72359164-4419-452c-81cb-74f30a5a26b7</td><td>16 Blissful Christmas Table Decor Ideas That You Must See</td><td>Take a look at this new collection of Christmas decor featuring 16 Blissful Christmas Table Decor Ideas That You Must See. Happy holidays!</td><td>616000</td><td>ArchitectureArtDesigns</td><td>Kids Crafts,Christmas Crafts For Kids,Homemade Christmas,Christmas Projects,Holiday Crafts,Christmas Gift Ideas,Preschool Christmas,Tree Crafts,Christmas Inspiration</td><td>image</td><td>https://i.pinimg.com/originals/5f/70/30/5f7030a35bb8a1491e915fb0ae29bcf5.jpg</td><td> /data/christmas</td><td>christmas</td></tr><tr><td>4913</td><td>4d2d79c6-9ca8-46c9-a38e-931c5d967804</td><td>How to Work From Home as an Event Planner</td><td>Do you love planning parties? Do you want to work-at-home? This post covers everything you need to know about becoming a home-based event planner!</td><td>110000</td><td>The Work at Home Woman</td><td>Event Planning Tips,Event Planning Business,Party Planning,Business Ideas,Craft Business,Business Chic,Business Inspiration,Business Goals,Business Opportunities</td><td>image</td><td>https://i.pinimg.com/originals/4d/a3/a4/4da3a4730418239f1b43ce81fb032c15.jpg</td><td> /data/event-planning</td><td>event-planning</td></tr><tr><td>2959</td><td>439cac4b-18e8-4aaa-88c5-edb26a701111</td><td>The Cutest Toilet Paper Crafts</td><td>One thing I love about Crafts is how the evolve! These toilet paper rolls are adorable and modern. I love that something as simple as a recycled toilet paper roll can be taken t… </td><td>502000</td><td>CraftGossip.com</td><td>Toilet Paper Roll Crafts,Cardboard Crafts,Diy Paper,Paper Crafting,Toilet Paper Rolls,Cardboard Playhouse,Paper Art,Kids Crafts,Toddler Crafts</td><td>image</td><td>https://i.pinimg.com/originals/c6/cd/0d/c6cd0d04da9cfc11566cfd34eeb1f918.jpg</td><td> /data/diy-and-crafts</td><td>diy-and-crafts</td></tr><tr><td>9875</td><td>782dcbad-ff91-40a6-ba60-216efe29adb7</td><td>European Bucket List: 35 Things NOT To Miss When Traveling Europe</td><td>35 European bucket list destinations for any traveler heading to Europe. From Cinque Terre, Italy to Iceland - there are so many amazing sites to see in Europe.</td><td>28000</td><td>Nicki </td><td>Backpacking Europe,Europe Travel Guide,Travel Guides,Travel Packing,Traveling Europe,Travelling,Travel Backpack,Budget Travel,2 Week Europe Itinerary</td><td>image</td><td>https://i.pinimg.com/originals/71/04/1a/71041ad83ede43d9665741e719c58a86.jpg</td><td> /data/travel</td><td>travel</td></tr><tr><td>428</td><td>610b3f83-9fe0-469d-946c-d16b577fca71</td><td>Fashion Designer Isaac Mizrahi’s Updated 1930s New York City Apartment</td><td>Fashion designer Issac Mizrahi’s Greenwich Village home is an amalgamation of three apartments that was 20 years in the making</td><td>3000000</td><td>Architectural Digest</td><td>Modern Art,Contemporary Art,Contemporary Kitchens,Contemporary Bedroom,New York City Apartment,Manhattan Apartment,Art Moderne,Architectural Digest,Painting Inspiration</td><td>image</td><td>https://i.pinimg.com/originals/f4/6c/54/f46c546a2e480022a42d842b7dca157e.jpg</td><td> /data/art</td><td>art</td></tr><tr><td>1371</td><td>33e92ac1-73d1-4c31-9892-d5e633060790</td><td>How To Do Makeup - Step By Step Tips For The Perfect Look</td><td>What are the basic things you need for makeup? Let’s be honest, ladies; all women can do makeup, yet not all women know how to do makeup right. The good news is, this post can t… </td><td>799000</td><td>Glaminati</td><td>Contouring Makeup,Skin Makeup,Beauty Makeup,Makeup Brushes,Eyeliner Makeup,Makeup Tips Lips,Makeup 101,Cheap Makeup,Rosa Eyeliner</td><td>image</td><td>https://i.pinimg.com/originals/2c/1a/d4/2c1ad45b5c54034a2dbc73c84a89f5e4.jpg</td><td> /data/beauty</td><td>beauty</td></tr><tr><td>3800</td><td>d2c367ed-9287-4ea3-b173-198b292d9981</td><td>Reinforcing the Difficult Child When Token Boards Don't Work!</td><td>behavior, special education, token boards, when token boards don't work, money token systems</td><td>11000</td><td>Traci Bender - The Bender Bunch</td><td>Special Education Behavior,Classroom Behavior Management,Behavior Plans,Behaviour Management,Behavior Charts,Behavior Board,Behavior Report,Behavior Analyst,Preschool Special Education</td><td>image</td><td>https://i.pinimg.com/originals/24/f9/e2/24f9e22ada4a79c61432ef6c8fe1d0f9.jpg</td><td> /data/education</td><td>education</td></tr><tr><td>3454</td><td>46bd3f86-b09d-4e29-9033-7ff2df595e51</td><td>What can you use to color resin?</td><td>HELPFUL RESOURCES – Check out my resin colorants resources page here with links to all the products mentioned in this article (and more). Let me know if you have any that you lo… </td><td>6000</td><td>Mixed Media Crafts</td><td>Epoxy Resin Art,Diy Resin Art,Diy Resin Crafts,Resin Molds,Ice Resin,Resin Pour,Diy Epoxy,Diy Resin Painting,Diy Resin Dice</td><td>image</td><td>https://i.pinimg.com/originals/d4/12/78/d4127833023ca32600571ddca16f1556.jpg</td><td> /data/diy-and-crafts</td><td>diy-and-crafts</td></tr><tr><td>6398</td><td>ea44d318-2ced-4cf8-a66f-a6a036b84faa</td><td>My master bathroom makeover with @flooranddecor ! Follow me on Instagram @Mojisstyle for more</td><td>null</td><td>117000</td><td>MojisStyle</td><td>Decor Home Living Room,Home And Living,Diy Bedroom Decor,Home Decor,Bathroom Interior Design,Interior Design Living Room,Dream Home Design,House Design,Beautiful Bathrooms</td><td>multi-video(story page format)</td><td>https://i.pinimg.com/videos/thumbnails/originals/75/48/3b/75483b74822855519ec8b40df4c670ef.0000001.jpg</td><td> /data/home-decor</td><td>home-decor</td></tr><tr><td>5730</td><td>1e1f0c8b-9fcf-460b-9154-c775827206eb</td><td>Island Oasis Coupon Organizer</td><td>Description Coupon Organizer in a fun colorful fabric -island oasis, Great Size for the \"basic\" couponer - holds up to 500 coupons with ease, and is made long enough so that you… </td><td>0</td><td>Consuelo Aguirre</td><td>Grocery Items,Grocery Coupons,Care Organization,Coupon Organization,Extreme Couponing,Couponing 101,Life Binder,Save My Money,Love Coupons</td><td>image</td><td>https://i.pinimg.com/originals/65/bb/ea/65bbeaf458907bb079317d8303c4fa0e.jpg</td><td> /data/finance</td><td>finance</td></tr><tr><td>5730</td><td>1e1f0c8b-9fcf-460b-9154-c775827206eb</td><td>Island Oasis Coupon Organizer</td><td>Description Coupon Organizer in a fun colorful fabric -island oasis, Great Size for the \"basic\" couponer - holds up to 500 coupons with ease, and is made long enough so that you… </td><td>0</td><td>Consuelo Aguirre</td><td>Grocery Items,Grocery Coupons,Care Organization,Coupon Organization,Extreme Couponing,Couponing 101,Life Binder,Save My Money,Love Coupons</td><td>image</td><td>https://i.pinimg.com/originals/65/bb/ea/65bbeaf458907bb079317d8303c4fa0e.jpg</td><td> /data/finance</td><td>finance</td></tr><tr><td>5730</td><td>1e1f0c8b-9fcf-460b-9154-c775827206eb</td><td>Island Oasis Coupon Organizer</td><td>Description Coupon Organizer in a fun colorful fabric -island oasis, Great Size for the \"basic\" couponer - holds up to 500 coupons with ease, and is made long enough so that you… </td><td>0</td><td>Consuelo Aguirre</td><td>Grocery Items,Grocery Coupons,Care Organization,Coupon Organization,Extreme Couponing,Couponing 101,Life Binder,Save My Money,Love Coupons</td><td>image</td><td>https://i.pinimg.com/originals/65/bb/ea/65bbeaf458907bb079317d8303c4fa0e.jpg</td><td> /data/finance</td><td>finance</td></tr><tr><td>10552</td><td>17301b8c-ccbb-42ad-b2df-3876df35b1cd</td><td>The Prowler Emergency Response Vehicle</td><td>January 23, 2009 We can see emergency responders queueing up for this one. ATVCorp has created versions of its Prowler Light Tactical All Terrain Vehicle (LTATV) for fire-fighti… </td><td>314</td><td>p hump</td><td>Army Vehicles,Armored Vehicles,Go Kart Buggy,Atv Attachments,Aviation Fuel,Special Forces,Special Ops,Terrain Vehicle,Emergency Response</td><td>image</td><td>https://i.pinimg.com/originals/14/6b/6b/146b6b1a1127773f7046e08550e68ed0.jpg</td><td> /data/vehicles</td><td>vehicles</td></tr><tr><td>603</td><td>78e21a64-53b0-4745-8294-e8c456f0ccc1</td><td>How to Create Alcohol Ink Rings For Gorgeous Pieces of Art -</td><td>Learn to create alcohol ink rings for gorgeous pieces of art. Each ring sits on top of another, giving a multilayered appearance</td><td>7000</td><td>Kim Cook-Thirteen Chairs-Slates Mugs And Tees</td><td>Alcohol Ink Tiles,Alcohol Ink Glass,Alcohol Ink Crafts,Alcohol Ink Painting,Pour Painting,Zealand Tattoo,Copics,Types Of Art,Art Techniques</td><td>image</td><td>https://i.pinimg.com/originals/03/03/1f/03031fdc9775d0c06f61d68e51362379.png</td><td> /data/art</td><td>art</td></tr><tr><td>719</td><td>d7c53e34-9540-4f48-a31b-89b6ed1852bb</td><td>10 Art Sub Lessons that only need a Pencil</td><td>10 art sub lessons that only need a pencil. Cover lessons for art teachers. Make the perfect art sub lessson folder with this amazing resources.</td><td>25000</td><td>The Arty Teacher</td><td>Art Lessons For Kids,Art Lessons Elementary,Art For Kids,Art Sub Plans,Art Lesson Plans,Art Substitute Plans,High School Art,Middle School Art,Primary School Art</td><td>image</td><td>https://i.pinimg.com/originals/ee/a8/78/eea878911033897d981a69d9f6b2fb7c.png</td><td> /data/art</td><td>art</td></tr><tr><td>2074</td><td>86ed09a7-842d-496d-9501-010c654eb340</td><td>35 Christmas Decorating Ideas We Bet You Haven't Thought Of</td><td>20 Christmas Decorating Ideas We Bet You Haven't Thought Of via @PureWow</td><td>868000</td><td>PureWow</td><td>Holiday Centerpieces,Xmas Decorations,Centerpiece Ideas,Table Centerpieces,Valentine Decorations,Wedding Centerpieces,Outdoor Decorations,Christmas Centerpieces With Candles,Christmas Dining Table Decorations</td><td>image</td><td>https://i.pinimg.com/originals/e9/b9/f0/e9b9f01cc3b2cf41948b45854335396c.jpg</td><td> /data/christmas</td><td>christmas</td></tr><tr><td>831</td><td>5e65914d-9f58-4ff1-9676-658e426e8ce5</td><td>creating mixed-media faces tutorial</td><td>Free quick inspirational video on creating a mixed media face with acrylic, collage, stenciling and simple techniques. Come on over to watch</td><td>27000</td><td>Shawn Petite</td><td>Collage Kunst,Paper Collage Art,Collage Art Mixed Media,Mixed Media Painting,Mixed Media Canvas,Canvas Collage,Art Collages,Wall Canvas,Canvas Art</td><td>video</td><td>https://i.pinimg.com/videos/thumbnails/originals/05/86/a4/0586a4116e1fc34efc25e064ccd123e8.0000001.jpg</td><td> /data/art</td><td>art</td></tr><tr><td>1545</td><td>0c629541-cc5b-4b61-bd3f-613346893258</td><td>Oil Cleansing Method: What it is and why you should do it.</td><td>The oil cleansing method is a simple, natural way to have clean skin without using toxic chemicals. It will leave your face radiant and soft!</td><td>85000</td><td>Thank Your Body</td><td>Beauty Care,Diy Beauty,Beauty Hacks,Beauty Shop,Oil Cleansing Method,Goji,Korean Skincare Routine,Homemade Beauty Products,Organic Beauty</td><td>image</td><td>https://i.pinimg.com/originals/2c/1c/da/2c1cda7da86ee711536bbacfe89c75c9.jpg</td><td> /data/beauty</td><td>beauty</td></tr><tr><td>205</td><td>f4afd543-b9fe-44c3-8064-f2198faa1372</td><td>DIY Abstract Heart Painting and a Fun Paint Party</td><td>Use our easy step by step tutorial to create a DIY abstract heart painting on any canvas size. Lots of inspiration to help you choose colors.</td><td>410000</td><td>The Creativity Exchange</td><td>Painting & Drawing,Watercolor Paintings,Original Paintings,Owl Watercolor,Acrylic Paintings,Owl Art,Bird Art,Beginner Painting,Animal Paintings</td><td>image</td><td>https://i.pinimg.com/originals/33/85/f8/3385f82ee5e8ecdcccdf798bdcbee3d2.jpg</td><td> /data/art</td><td>art</td></tr><tr><td>808</td><td>23f67e42-db9f-4aae-8b82-cbec64ad9f4d</td><td>Chalk Pastel Hot Chocolate Art Project</td><td>Kids will use chalk pastels and black paper to create this bold and bright hot chocolate art project! Easy to follow tutorial included.</td><td>20000</td><td>Projects with Kids</td><td>Hot Chocolate Art,Chocolate Crafts,Art Activities For Kids,Preschool Art,Preschool Winter,Christmas Activities,Winter Art Projects,Clay Art Projects,Chalk Pastel Art</td><td>image</td><td>https://i.pinimg.com/originals/5a/d3/82/5ad38202cf8acb022cb8f46ce2a78ad6.jpg</td><td> /data/art</td><td>art</td></tr><tr><td>1555</td><td>1f20551b-a21c-4ff0-b20d-49e95fdc50d3</td><td>Skin Purging: Die Pflegemethode für reine Haut | ELLE</td><td>Skin Purging sorgt für die reinste Haut, die du jemals hattest #skin äpurging #skinpurging #skincare #hautpflege #schönehaut #haut #beauty #tips</td><td>326000</td><td>ELLE Germany</td><td>Natural Hair Mask,Natural Hair Styles,Natural Beauty,Skin Tag,How To Apply Makeup,Pimples,Beauty Routines,Skincare Routine,Glowing Skin</td><td>image</td><td>https://i.pinimg.com/originals/93/b2/7b/93b27be044b2fd2f227f30a7f2c2faf2.jpg</td><td> /data/beauty</td><td>beauty</td></tr><tr><td>5468</td><td>91ee49f6-0070-4270-ba19-fde88ba51c91</td><td>Budgets, Spouses & Making It Work! - Tshanina Peterson</td><td>Don't fight about budgets and money with your spouse! Here are a few tips that we've found that make it work in our marriage!</td><td>313</td><td>Annamarie Hilton</td><td>Ways To Save Money,Money Tips,Money Saving Tips,How To Make Money,Managing Money,Saving Time,College Fund,Scholarships For College,Education College</td><td>image</td><td>https://i.pinimg.com/originals/37/d5/82/37d58296bcef3471a633c76b89d8625e.jpg</td><td> /data/finance</td><td>finance</td></tr><tr><td>7790</td><td>9cd89fb9-d1af-4e66-85ca-c9d656c918b4</td><td>50 Heart Touching Sad Quotes That Will Make You Cry</td><td>Are you looking for some heart touching sad quotes and sayings; Here we have collected for you 50 best heart touching sad quotes..</td><td>112</td><td>AnnaLee Kick</td><td>Crush Quotes For Girls,Sad Crush Quotes,Hurt Quotes,Love Me Quotes,Mood Quotes,Quotes To Live By,Life Quotes,Quotes Quotes,Sad Quotes That Make You Cry</td><td>image</td><td>https://i.pinimg.com/originals/0c/0f/40/0c0f408d96458080e0c82adb50be8e8f.jpg</td><td> /data/quotes</td><td>quotes</td></tr><tr><td>1422</td><td>7bbe860c-a739-4ba9-babd-feb24bb6e4d9</td><td>41 Life-Saving Beauty Hacks Every Girl Should Have In Her Arsenal</td><td>Might try this... I'm generally skeptical about at-home remedies, but I know baking soda and lemons both do wonders. More</td><td>5000000</td><td>BuzzFeed</td><td>Baking Soda Lemon Juice,Diy Beauté,Tips Belleza,Belleza Natural,Health And Beauty Tips,Beauty Secrets,Beauty Advice,Diy Beauty Tips,Beauty Life Hacks</td><td>image</td><td>https://i.pinimg.com/originals/c8/ab/af/c8abaffc56050f674eef8e65ad684929.jpg</td><td> /data/beauty</td><td>beauty</td></tr><tr><td>10663</td><td>d5208c16-82ae-4fd1-87f0-36e5ef789412</td><td>21+ Classic Car Picture of the 1950s - Vintagetopia</td><td>There are a lot of options of places to stay so you probably only have to book the initial one so you know the best place to land from the airport</td><td>171000</td><td>vintagetopia</td><td>Old Classic Cars,Classic Trucks,Old Vintage Cars,Antique Cars,Vintage Trucks,Antique Trucks,Cadillac,Convertible,Mustang</td><td>image</td><td>https://i.pinimg.com/originals/e9/01/4d/e9014d537dd2b81c606e8466cef3904c.jpg</td><td> /data/vehicles</td><td>vehicles</td></tr><tr><td>2863</td><td>9bf39437-42a6-4f02-99a0-9a0383d8cd70</td><td>25 Super Fun Summer Crafts for Kids - Of Life and Lisa</td><td>Keep the kids busy this summer with these easy diy crafts and projects. Creative and…</td><td>124000</td><td>Of Life & Lisa | Lifestyle Blog</td><td>Summer Crafts For Kids,Fun Crafts For Kids,Summer Kids,Toddler Crafts,Crafts To Do,Diy For Kids,Summer Snow,Diys For Summer,Craft Ideas For Girls</td><td>image</td><td>https://i.pinimg.com/originals/b3/bc/e2/b3bce2964e8c8975387b39660eed5f16.jpg</td><td> /data/diy-and-crafts</td><td>diy-and-crafts</td></tr><tr><td>2863</td><td>9bf39437-42a6-4f02-99a0-9a0383d8cd70</td><td>25 Super Fun Summer Crafts for Kids - Of Life and Lisa</td><td>Keep the kids busy this summer with these easy diy crafts and projects. Creative and…</td><td>124000</td><td>Of Life & Lisa | Lifestyle Blog</td><td>Summer Crafts For Kids,Fun Crafts For Kids,Summer Kids,Toddler Crafts,Crafts To Do,Diy For Kids,Summer Snow,Diys For Summer,Craft Ideas For Girls</td><td>image</td><td>https://i.pinimg.com/originals/b3/bc/e2/b3bce2964e8c8975387b39660eed5f16.jpg</td><td> /data/diy-and-crafts</td><td>diy-and-crafts</td></tr><tr><td>2863</td><td>9bf39437-42a6-4f02-99a0-9a0383d8cd70</td><td>25 Super Fun Summer Crafts for Kids - Of Life and Lisa</td><td>Keep the kids busy this summer with these easy diy crafts and projects. Creative and…</td><td>124000</td><td>Of Life & Lisa | Lifestyle Blog</td><td>Summer Crafts For Kids,Fun Crafts For Kids,Summer Kids,Toddler Crafts,Crafts To Do,Diy For Kids,Summer Snow,Diys For Summer,Craft Ideas For Girls</td><td>image</td><td>https://i.pinimg.com/originals/b3/bc/e2/b3bce2964e8c8975387b39660eed5f16.jpg</td><td> /data/diy-and-crafts</td><td>diy-and-crafts</td></tr><tr><td>2863</td><td>9bf39437-42a6-4f02-99a0-9a0383d8cd70</td><td>25 Super Fun Summer Crafts for Kids - Of Life and Lisa</td><td>Keep the kids busy this summer with these easy diy crafts and projects. Creative and…</td><td>124000</td><td>Of Life & Lisa | Lifestyle Blog</td><td>Summer Crafts For Kids,Fun Crafts For Kids,Summer Kids,Toddler Crafts,Crafts To Do,Diy For Kids,Summer Snow,Diys For Summer,Craft Ideas For Girls</td><td>image</td><td>https://i.pinimg.com/originals/b3/bc/e2/b3bce2964e8c8975387b39660eed5f16.jpg</td><td> /data/diy-and-crafts</td><td>diy-and-crafts</td></tr><tr><td>8653</td><td>24b1343c-4d86-4705-8ec9-7f1f2df2d77e</td><td>Unique Women Tattoos Ideas 2020</td><td>We welcome you to our latest collection of Beautiful Tattoo Ideas For Women. Check out and get inspired by the most beautiful design for yourself.</td><td>21000</td><td>ALL FOR WOMAN</td><td>Small Back Tattoos,Small Girl Tattoos,Little Tattoos,Tattoo Girls,Mini Tattoos,Tattoo Small,Back Tattoo Women,Tattoo On Back,Girl Back Tattoos</td><td>image</td><td>https://i.pinimg.com/originals/fa/cf/7c/facf7cd752a4bc7c09faaa8925ab80b1.jpg</td><td> /data/tattoos</td><td>tattoos</td></tr><tr><td>2923</td><td>52fa3af5-24a4-4ccb-8f17-9c3eb12327ee</td><td>UFO Paper Plate Craft</td><td>A fun space activity for kids. Preshoolers and kindergartners will love making their own alien spacecraft!</td><td>192000</td><td>The Crafting Chicks</td><td>Paper Plate Crafts For Kids,Fun Crafts For Kids,Summer Crafts,Toddler Crafts,Art For Kids,Outer Space Crafts For Kids,Kid Crafts,Space Kids,Back To School Crafts For Kids</td><td>image</td><td>https://i.pinimg.com/originals/6f/e8/aa/6fe8aa405513c6d2f77b5f47d17cdce8.jpg</td><td> /data/diy-and-crafts</td><td>diy-and-crafts</td></tr><tr><td>9936</td><td>1f3154a6-13f0-4049-8d5c-faea15b9f07c</td><td>Chasing Waterfalls in Costa Rica</td><td>Volcanoes, hikes, and hot springs in Costa Rica! The ultimate 5 day travel itinerary. - #costarica #travel #blogging #blog #bucketlist</td><td>22000</td><td>Jess Wandering</td><td>Costa Rica Reisen,Costa Rica Travel,Vacation Places,Dream Vacations,Vacation Spots,Vacation Food,Vacation Ideas,Voyage Dubai,Beautiful Places To Travel</td><td>image</td><td>https://i.pinimg.com/originals/60/fe/4c/60fe4c3602e8e50e2e9f787ed27d2aba.jpg</td><td> /data/travel</td><td>travel</td></tr><tr><td>7768</td><td>ae1a61f6-d958-40fe-ba93-6a78b3a73178</td><td>16 Motivational Quotes Get You Inspired Today - Boss Babe Chronicles</td><td>motivation quotes</td><td>45000</td><td>Boss Babe Chronicles | Personal Development, Finances, Self Care</td><td>Motivacional Quotes,Motivational Quotes For Life,Uplifting Quotes,True Quotes,Words Quotes,Empowering Quotes,Boss Up Quotes,Inspirational Success Quotes,Boss Babe Quotes Work Hard</td><td>image</td><td>https://i.pinimg.com/originals/ee/b4/bc/eeb4bccdb074edb787ea61711e0c4dfd.jpg</td><td> /data/quotes</td><td>quotes</td></tr><tr><td>1268</td><td>e2f2cec5-cda5-42b2-ab9d-6dddf863e94e</td><td>Janet on Twitter</td><td>Here’s how to get long-lasting makeup, so you can do your face in the morning and be set for the entire day. Follow these makeup tips for foundation, lipstick and more using pro… </td><td>3000</td><td>Tony</td><td>Beauty Makeup,Eye Makeup,Diy Beauty,Beauty Ideas,Beauty Skin,Homemade Beauty,Wolf Makeup,Oily Skin Makeup,Face Beauty</td><td>image</td><td>https://i.pinimg.com/originals/d9/d1/3b/d9d13b9ac47d54940f05a75345a873d4.jpg</td><td> /data/beauty</td><td>beauty</td></tr><tr><td>46</td><td>19234073-8905-4885-b0d5-98e0b84cbf27</td><td>10 Watercolor Hacks For Beginners | Tips and Tricks to Making Watercolor Painting Easier</td><td>Mountain monologue watercolor</td><td>27000</td><td>It's me, JD | DIY, Crafts, Home & Organization</td><td>Arte Inspo,Kunst Inspo,Watercolor Artists,Watercolor Ideas,Simple Watercolor,Tattoo Watercolor,Watercolor Techniques,Watercolor Animals,Watercolor Illustration</td><td>image</td><td>https://i.pinimg.com/originals/fd/54/89/fd548935dcb13545120a2115baaa41d9.jpg</td><td> /data/art</td><td>art</td></tr><tr><td>5309</td><td>c38bb47b-9584-4fc4-af0d-a31e1061df41</td><td>How to Watch Your Favorite Shows Without Cable</td><td>How to Get Rid of Cable and Still Watch all of your favorite shows! Saving Money Tips for TV & Cable!</td><td>330000</td><td>Passion For Savings</td><td>Ways To Save Money,Money Tips,Money Saving Tips,Money Hacks,Managing Money,Cable Tv Alternatives,Budget Planer,Financial Tips,Financial Planning</td><td>image</td><td>https://i.pinimg.com/originals/c9/18/be/c918be2784382dc49010719bf1742a61.jpg</td><td> /data/finance</td><td>finance</td></tr><tr><td>9546</td><td>efd5b2d6-2f69-40cd-bb59-41f18c089e52</td><td>20 Amazing Trips to Take in Your Twenties!</td><td>The best trips to take when you are young!</td><td>89000</td><td>The World Pursuit Travel Website</td><td>Fun Places To Go,Beautiful Places To Travel,Best Places To Travel,Travel Jobs,Holiday Places,Future Travel,Travel Around The World,Adventure Travel,Travel Photos</td><td>video</td><td>https://i.pinimg.com/videos/thumbnails/originals/81/97/c1/8197c1beef8bcb19bea5d8b422211f34.0000001.jpg</td><td> /data/travel</td><td>travel</td></tr><tr><td>5630</td><td>d41e703c-c97c-4c5a-9f9c-338982ca7504</td><td>7 Insanely Useful Money Management Worksheets</td><td>Get your personal finance in order with these 8 fr…</td><td>46000</td><td>R.J. Weiss at The Ways To Wealth | Personal Finance | Debt Payoff</td><td>Ways To Save Money,Money Tips,Money Saving Tips,Money Budget,Saving Ideas,Budgeting Finances,Budgeting Tips,Planning Budget,Budget Planer</td><td>image</td><td>https://i.pinimg.com/originals/f1/4f/cc/f14fcc75ee73ff22c983bdce70c022e2.jpg</td><td> /data/finance</td><td>finance</td></tr><tr><td>8731</td><td>ea760f71-febf-4023-b592-d17396659039</td><td>20 Koi Fish Tattoos For Lucky Men</td><td>Koi fish tattoos are a popular choice for men who want to make a statement, thanks to their rich symbolism and bold design.</td><td>211000</td><td>TheTrendSpotter</td><td>Dr Tattoo,Wörter Tattoos,Pisces Tattoos,Tatoo Art,Dream Tattoos,Dope Tattoos,Mini Tattoos,Finger Tattoos,Body Art Tattoos</td><td>image</td><td>https://i.pinimg.com/originals/8a/0c/0a/8a0c0a7b6236565c519acd41ad1a52c0.jpg</td><td> /data/tattoos</td><td>tattoos</td></tr><tr><td>8304</td><td>5b6d0913-25e4-43ab-839d-85d5516f78a4</td><td>The #1 Reason You’re Not His Priority Anymore - Matthew Coast</td><td>#lovequotes #matchmaker #matchmadeinheaven #loveyourself #respectyourself</td><td>51000</td><td>Commitment Connection</td><td>Wise Quotes,Quotable Quotes,Words Quotes,Wise Words,Quotes To Live By,Great Quotes,Motivational Quotes,Inspirational Quotes,Funny Quotes</td><td>image</td><td>https://i.pinimg.com/originals/c6/64/ee/c664ee71524fb5a6e7b7b49233f93b43.png</td><td> /data/quotes</td><td>quotes</td></tr><tr><td>8304</td><td>5b6d0913-25e4-43ab-839d-85d5516f78a4</td><td>The #1 Reason You’re Not His Priority Anymore - Matthew Coast</td><td>#lovequotes #matchmaker #matchmadeinheaven #loveyourself #respectyourself</td><td>51000</td><td>Commitment Connection</td><td>Wise Quotes,Quotable Quotes,Words Quotes,Wise Words,Quotes To Live By,Great Quotes,Motivational Quotes,Inspirational Quotes,Funny Quotes</td><td>image</td><td>https://i.pinimg.com/originals/c6/64/ee/c664ee71524fb5a6e7b7b49233f93b43.png</td><td> /data/quotes</td><td>quotes</td></tr><tr><td>223</td><td>8672f996-6ce9-403e-9599-2c4df668f1e0</td><td>Easy Gouache painting</td><td>null</td><td>29000</td><td>Jasminxg</td><td>Simple Canvas Paintings,Easy Nature Paintings,Tree Paintings,Cool Paintings,Watercolor Art Lessons,Watercolor Paintings For Beginners,Gouache Painting,Painting Art,Mandala Art Lesson</td><td>multi-video(story page format)</td><td>https://i.pinimg.com/videos/thumbnails/originals/17/49/16/1749164b93866d4eac32a52a3ccfd40a.0000001.jpg</td><td> /data/art</td><td>art</td></tr><tr><td>7554</td><td>c6fa12f4-0d4a-4b07-a335-5bf9f37f8281</td><td>Craig Style</td><td>imgentleboss: “ - More about men’s fashion at @Gentleboss - GB’s Facebook - ”</td><td>940</td><td>iElylike ..✿◕‿◕✿ஐ✿◕‿◕✿</td><td>Mens Fashion Blog,Look Fashion,Autumn Fashion,Fashion News,Fashion Sale,80s Fashion,Paris Fashion,Runway Fashion,Fashion Trends</td><td>image</td><td>https://i.pinimg.com/originals/e7/6e/8e/e76e8ed6cc838b84a934c6948a5caff7.jpg</td><td> /data/mens-fashion</td><td>mens-fashion</td></tr><tr><td>8887</td><td>5df9f6e5-07f5-4ce8-a82e-96586bbc05d8</td><td>25 Ultra Sexy Back Tattoo Ideas For Girls</td><td>Tattoos are one of the most efficient ways through which one decides to express themselves…</td><td>4000</td><td>RapidLeaks</td><td>Dream Tattoos,Body Art Tattoos,New Tattoos,Small Tattoos,Cross Tattoos,Random Tattoos,Fashion Tattoos,Bird Tattoos,Fitness Tattoos</td><td>image</td><td>https://i.pinimg.com/originals/ab/8e/50/ab8e505b04d4abc8f23e273c15f8a65d.jpg</td><td> /data/tattoos</td><td>tattoos</td></tr><tr><td>10509</td><td>6a5f0e7e-1389-4e54-942f-4cb69f09f140</td><td>Flying Car</td><td>null</td><td>89000</td><td>TheSuperBOO!</td><td>Electric Off Road Vehicle,Cool Illusions,Flying Vehicles,Wow Video,Art And Craft Videos,Top Luxury Cars,Chevy Muscle Cars,Street Racing Cars,Funny Videos Clean</td><td>multi-video(story page format)</td><td>https://i.pinimg.com/videos/thumbnails/originals/4a/d4/96/4ad4961606179854f1141a90f50f002c.0000001.jpg</td><td> /data/vehicles</td><td>vehicles</td></tr><tr><td>1313</td><td>44662045-e891-4821-8a19-ebe7eedd371a</td><td>Liquid Lash Extensions Mascara</td><td>Instantly create the look of lash extensions with this award-winning, best-selling mascara that won't clump, flake or smudge. Available in 3 shades!</td><td>43000</td><td>Thrive Causemetics</td><td>null</td><td>video</td><td>https://i.pinimg.com/videos/thumbnails/originals/69/84/e2/6984e20f3e262098fa9c0614c3453254.0000001.jpg</td><td> /data/beauty</td><td>beauty</td></tr><tr><td>10625</td><td>d31885b7-742a-4e2a-bbb7-ac5f9d334340</td><td>Jaguar Type E</td><td>1937 Jaguar SS100 - 2 1/2 Litre Roadster, one of the most sought after pre-war sports cars</td><td>8000</td><td>hobbyDB</td><td>Jaguar Type E,Jaguar Xk,Jaguar Cars,Jaguar Roadster,Jaguar Sport,Retro Cars,Vintage Cars,Antique Cars,British Sports Cars</td><td>image</td><td>https://i.pinimg.com/originals/26/81/a7/2681a71bd0c8f7fd0ab79c455338a49a.jpg</td><td> /data/vehicles</td><td>vehicles</td></tr><tr><td>4988</td><td>fbdfd355-a356-46c2-a251-301869ae2674</td><td>Fun Book Page Crafts - MomAdvice</td><td>Fun Book Page Crafts - MomAdvice</td><td>112000</td><td>MomAdvice</td><td>Harry Potter Wedding,Harry Potter Theme,Wedding Book,Wedding Table,Wedding Ideas,Wedding Vintage,Garden Wedding,Vintage Party,Wedding Paper</td><td>image</td><td>https://i.pinimg.com/originals/17/55/87/175587b334e71c12300453b8b4b4c6aa.jpg</td><td> /data/event-planning</td><td>event-planning</td></tr><tr><td>9590</td><td>b849e976-52f6-45d7-8b25-51559318f167</td><td>Top 20 Things To See And Do In Ireland</td><td>Best spots to see for travel through Ireland!</td><td>130000</td><td>Fun Life Crisis</td><td>Vacation Ideas,Vacation Spots,Emerald Isle,London England,Travel Guides,Travel Tips,Travel Hacks,Travel Packing,Places To Travel</td><td>image</td><td>https://i.pinimg.com/originals/c7/50/d3/c750d36524856873d64406652d69b4fb.png</td><td> /data/travel</td><td>travel</td></tr><tr><td>6844</td><td>69c3f268-274f-44bd-9cb4-427e64fefc44</td><td>♔the-fashman♔</td><td>billy-george: “Summer styles ”</td><td>377</td><td>Au'vey Smith</td><td>Fashion Week Hommes,La Fashion Week,Fashion Moda,Urban Fashion,Trendy Fashion,Fashion Spring,Fashion 2017,New Mens Fashion,Trendy Clothing</td><td>image</td><td>https://i.pinimg.com/originals/3c/8c/53/3c8c534cd02334c50047bd3a4feccce9.jpg</td><td> /data/mens-fashion</td><td>mens-fashion</td></tr><tr><td>1014</td><td>9ac94307-bb27-410e-b554-0a0ab6c19847</td><td>Hairstyles & Beauty</td><td>Untitled</td><td>0</td><td>Grecia Perales</td><td>Hair Inspo,Hair Inspiration,Motivation Inspiration,Cl Rapper,Foto Glamour,Kreative Portraits,Classy Aesthetic,Pretty Hairstyles,Hair Looks</td><td>image</td><td>https://i.pinimg.com/originals/af/c4/59/afc459bd6e1fd8f9aef212504afebf3a.jpg</td><td> /data/beauty</td><td>beauty</td></tr><tr><td>10794</td><td>c4bd2577-a7bb-4409-bb7a-17d5ed7e1cf1</td><td>TireBuyer</td><td>Nissan GT-R. Sick.</td><td>437</td><td>Ray Uyemura</td><td>Lowrider,Old Vintage Cars,Antique Cars,Austin Martin,Nissan Gtr Black,Jaguar,1959 Cadillac,Cadillac Ct6,Old School Cars</td><td>image</td><td>https://i.pinimg.com/originals/0d/29/9f/0d299f3df020395aa7ce8387f40fbeed.jpg</td><td> /data/vehicles</td><td>vehicles</td></tr><tr><td>1094</td><td>6deacdcd-75ed-4dd8-8951-9b77453f38e0</td><td>9 colors lazy lipstick - 9 colors lazy lipstick4</td><td>9 colors lazy lipstick</td><td>8000</td><td>Jiew82633</td><td>Nail Inspo,Lazy,Lipstick,How To Apply,Makeup,Colors,Products,Make Up,Lipsticks</td><td>image</td><td>https://i.pinimg.com/originals/25/cf/8c/25cf8cb74b43ab95591342c2bbe4ecd8.jpg</td><td> /data/beauty</td><td>beauty</td></tr><tr><td>3089</td><td>88f9227e-88d0-4b1c-b0be-bcfc3028b8e2</td><td>null</td><td>null</td><td>null</td><td>null</td><td>null</td><td>multi-video(story page format)</td><td>null</td><td> /data/diy-and-crafts</td><td>diy-and-crafts</td></tr><tr><td>7528</td><td>fbe53c66-3442-4773-b19e-d3ec6f54dddf</td><td>null</td><td>null</td><td>null</td><td>null</td><td>null</td><td>multi-video(story page format)</td><td>null</td><td> /data/mens-fashion</td><td>mens-fashion</td></tr><tr><td>7528</td><td>fbe53c66-3442-4773-b19e-d3ec6f54dddf</td><td>null</td><td>null</td><td>null</td><td>null</td><td>null</td><td>multi-video(story page format)</td><td>null</td><td> /data/mens-fashion</td><td>mens-fashion</td></tr><tr><td>7528</td><td>fbe53c66-3442-4773-b19e-d3ec6f54dddf</td><td>null</td><td>null</td><td>null</td><td>null</td><td>null</td><td>multi-video(story page format)</td><td>null</td><td> /data/mens-fashion</td><td>mens-fashion</td></tr><tr><td>7528</td><td>fbe53c66-3442-4773-b19e-d3ec6f54dddf</td><td>null</td><td>null</td><td>null</td><td>null</td><td>null</td><td>multi-video(story page format)</td><td>null</td><td> /data/mens-fashion</td><td>mens-fashion</td></tr><tr><td>7528</td><td>fbe53c66-3442-4773-b19e-d3ec6f54dddf</td><td>null</td><td>null</td><td>null</td><td>null</td><td>null</td><td>multi-video(story page format)</td><td>null</td><td> /data/mens-fashion</td><td>mens-fashion</td></tr></tbody></table></div>"
      ]
     },
     "metadata": {
      "application/vnd.databricks.v1+output": {
       "addedWidgets": {},
       "aggData": [],
       "aggError": "",
       "aggOverflow": false,
       "aggSchema": [],
       "aggSeriesLimitReached": false,
       "aggType": "",
       "arguments": {},
       "columnCustomDisplayInfos": {},
       "data": [
        [
         2482,
         "08604f20-fa17-4b9a-9949-781717eca6cd",
         "FORNT PORCH CHRISTMAS DECORATING IDEAS",
         "Christmas decorating ideas for porches. Beautiful holiday decor ideas for front porches both small and large. Outdoor decorations like sleds, lanterns, Christmas trees, wreaths,… ",
         "46000",
         "Life on Summerhill | Home, Holiday Decor & DIY Website",
         "Diy Christmas Decorations For Home,Farmhouse Christmas Decor,Christmas Home,Christmas Holidays,Christmas Front Porches,How To Decorate For Christmas,Christmas Porch Ideas,Christmas Decorating Ideas,Large Outdoor Christmas Decorations",
         "video",
         "https://i.pinimg.com/videos/thumbnails/originals/40/83/f5/4083f5b4971bf235f89a4784ab87271e.0000001.jpg",
         " /data/christmas",
         "christmas"
        ],
        [
         10138,
         "927c4658-cc3f-4b92-9b5c-70743d0c238d",
         "14 Amazing Things To Do In Costa Rica | Volcanoes, Waterfalls, Wildlife And More",
         "This Costa Rica itinerary is the ultimate guide to spending two weeks in Costa Rica. Find out about visiting La Fortuna, Arenal, Monteverde, Naranjo, Corcovado National Park, Or… ",
         "10000",
         "Wanderlust Chloe ✈️ Travel guides, inspo and adventure travel ✈️",
         "Costa Rica Travel,Rio Celeste Costa Rica,Dream Vacations,Vacation Spots,Vacation Travel,Travel Pictures,Travel Photos,Fortuna Costa Rica,Costa Rica Pictures",
         "image",
         "https://i.pinimg.com/originals/30/93/cb/3093cb01d9de2d125fda8ba5e3e41946.jpg",
         " /data/travel",
         "travel"
        ],
        [
         2604,
         "087b0fa9-f901-4262-aa0a-6caf234d1b35",
         "75+ Neutral Christmas Home Decor for the Holiday Season in Farmhouse Style using Earth Tones Modern",
         "My favorite 75+ Neutral Christmas Home Decor for decorating your house during the Holiday Season in earth tones and a farmhouse, rustic style all winter. I love this modern, sim… ",
         "31000",
         "Everyday Wholesome",
         "Colorful Christmas Decorations,Colorful Christmas Tree,Christmas Centerpieces,Christmas Colors,Xmas Colors,Winter Decorations,Christmas Trends,Christmas Inspiration,Christmas Home",
         "image",
         "https://i.pinimg.com/originals/86/84/39/868439dd894969e3abd6a2a8a9fe1e9c.jpg",
         " /data/christmas",
         "christmas"
        ],
        [
         3156,
         "fa6e31a4-18c2-4eca-a6d8-e903eee2c2a4",
         "Handprint Reindeer Ornaments - Crafty Morning",
         "This post may contain affiliate links, read our Disclosure Policy for more information. As an Amazon Associate I earn from qualifying purchases, thank you! Make some cute handpr… ",
         "892000",
         "Michelle {CraftyMorning.com}",
         "Christmas Gifts For Parents,Christmas Decorations For Kids,Christmas Crafts For Toddlers,Preschool Christmas,Christmas Crafts For Gifts,Christmas Activities,Toddler Crafts,Kids Christmas,Christmas Feeling",
         "image",
         "https://i.pinimg.com/originals/ff/fe/38/fffe384f3ec18a0d87cb2d80cc8c1499.jpg",
         " /data/diy-and-crafts",
         "diy-and-crafts"
        ],
        [
         10119,
         "40eab9ba-7812-4f26-baca-35a6bed95a9f",
         "How to Afford Family Travel: 10 Mistakes You're Making (and what to do instead) | Our Next Adventure",
         "See families traveling all the time and wonder, \"how the heck do they afford this?\" Read 10 mistakes you might be making, and what you should do instead.",
         "9000",
         "OUR NEXT ADVENTURE | family travel blog",
         "Family Vacation Destinations,Vacation Trips,Travel Destinations,Vacation Ideas,Cheap Family Vacations,Vacation Travel,Best Family Vacation Spots,Vacation Quotes,Vacation Memories",
         "image",
         "https://i.pinimg.com/originals/0a/49/fb/0a49fbcec746c4219d3a6f30834f378e.jpg",
         " /data/travel",
         "travel"
        ],
        [
         3419,
         "d0b80187-0171-49b2-8ee4-572984244f65",
         "Easy Christmas Tree Crafts Ideas for toddlers and preschoolers | Sharing Our Experiences",
         "Easy Christmas tree Craft Ideas for toddlers and preschoolers. Engage your kids in these DIY",
         "3000",
         "Kids Crafts & Free Preschool Printables- Sharing Our Experiences",
         "Christmas Crafts For Kids To Make,Christmas Tree Painting,Christmas Activities For Kids,Easy Christmas Crafts For Toddlers,Kid Activities,Christmas Handprint Crafts,Christmas Tree Crafts,Christmas Baby,Xmas Tree",
         "image",
         "https://i.pinimg.com/originals/69/f0/75/69f075939d4449dffa69519756c30e26.png",
         " /data/diy-and-crafts",
         "diy-and-crafts"
        ],
        [
         5494,
         "8fb2af68-543b-4639-8119-de33d28706ed",
         "Dave Ramsey's 7 Baby Steps: What Are They And Will They Work For You",
         "If you love budgeting, make sure to give Dave Ramsey's 7 Baby Steps a try. Follow these steps to begin your debt snowball, build an emergency fund, invest and reach riches. I ca… ",
         "26000",
         "Living Low Key | Save Money, Make Money, & Frugal Living",
         "Financial Peace,Financial Tips,Saving Money Quotes,Total Money Makeover,Budgeting Finances,Money Management,Wealth Management,Personal Finance,Making Ideas",
         "image",
         "https://i.pinimg.com/originals/1e/9d/90/1e9d906e4e150e3b95187f3b76ea7c71.png",
         " /data/finance",
         "finance"
        ],
        [
         2418,
         "da8745a6-5160-46c4-877d-181d50a729fd",
         "100 DIY Christmas Centerpieces You'll Love To Decorate Your Home With For The Christmas Season - Hike n Dip",
         "Here are the best DIY Christmas Centerpieces ideas perfect for your Christmas & holiday season home decor. From Christmas Vignettes to Table Centerpieces.",
         "500000",
         "HikenDip",
         "Farmhouse Christmas Decor,Rustic Christmas,Christmas Time,Vintage Christmas,Xmas,Primitive Christmas Crafts,Christmas Vignette,Indoor Christmas Decorations,Diy Christmas Ornaments",
         "image",
         "https://i.pinimg.com/originals/aa/6d/0f/aa6d0f44d7c1c96b998cb9aa6c4446b8.png",
         " /data/christmas",
         "christmas"
        ],
        [
         8312,
         "ca3c9bb0-7281-4b9b-8abf-201da0b68d62",
         "8 Vision Board Ideas To Manifest Your Dreams - TheFab20s",
         "Trying to create your dream life but don't know where to start?! These vision board ideas are a great way to manifest a new you this year",
         "42000",
         "TheFab20s | Travel+Food+DIY+Listicles",
         "Positive Self Affirmations,Positive Affirmations Quotes,Affirmation Quotes,Quotes Positive,Motivational Quotes For Success Positivity,Business Success Quotes,Positive Vibes,Motivational Quotes For Women,Affirmations For Love",
         "image",
         "https://i.pinimg.com/originals/36/d1/be/36d1be632cbf9b6c8e377a052b31d064.jpg",
         " /data/quotes",
         "quotes"
        ],
        [
         7922,
         "a584581c-1b38-4731-a1cc-f36115ecf229",
         "45 Top Life Quotes School Did Not Teach You",
         "summcoco gives you inspiration for the women fashion trends you want. Thinking about a new look or lifestyle? This is your ultimate resource to get the hottest trends. 45 Top Li… ",
         "306000",
         "Sumcoco | Decor Ideas, Hairstyles, Nails Fashion Advice",
         "Life Quotes Love,Inspirational Quotes About Love,Mood Quotes,Motivational Quotes,Tears Quotes,Quotes About Sadness,Deep Quotes About Life,Quotes Quotes,Quote Life",
         "image",
         "https://i.pinimg.com/originals/bb/c0/e6/bbc0e6a797079505f11ac12bcb0b8c66.jpg",
         " /data/quotes",
         "quotes"
        ],
        [
         771,
         "a5021766-a8aa-4dc7-9857-4da6b8e3dc1a",
         "African Sunset Shadow Tracing Art - Taming Little Monsters",
         "Use your mini world figures to create this beautiful African sunset. Your kids will love learning about shadows, angles and distortion in this fun art and STEM activity for kids.",
         "4000",
         "Taming Little Monsters - Fun Activities for Kids",
         "African Art Projects,Cool Art Projects,Projects For Kids,African Art For Kids,African Crafts Kids,Art Club Projects,Art Education Projects,Tracing Art,African Sunset",
         "image",
         "https://i.pinimg.com/originals/e3/aa/35/e3aa350f8f104d0e59f26d7f17ea7461.png",
         " /data/art",
         "art"
        ],
        [
         4508,
         "9064f4a2-2753-476c-815e-db360f45a93e",
         "Custom Event and Shop Neon Sign Lights - Event & Shop",
         "Personalize your event or shop with a customized neon sign. Make a statement with your own custom vibes! This light is 32 -40 inches (80cm-100cm) if you need something bigger, p… ",
         "111",
         "Life of Neon | Custom Neon Light Signs | Home Decor Wall Art",
         "Our Wedding,Wedding Venues,Dream Wedding,Wedding Cakes,Church Wedding,Wedding Flowers,Lace Wedding,Wedding Rings,Wedding Dresses",
         "image",
         "https://i.pinimg.com/originals/e9/c0/7c/e9c07cf0cf16cab23764a36718ab76c1.jpg",
         " /data/event-planning",
         "event-planning"
        ],
        [
         4076,
         "3a52d364-7c04-47cb-a3e5-56d9e2b77528",
         "Phonics Activities Your Kids Will Love - The Literacy Nest",
         "Hi everyone! As a teacher using the Orton-Gillingham approach, I am constantly looking for phonics activities that my students will find fun and engaging. Using Orton-Gillingham… ",
         "22000",
         "The Literacy Nest",
         "Literacy Games,Kindergarten Activities,Literacy Centers,Fun Phonics Activities,Listening Activities,Vocabulary Games,Literacy Stations,Letter Activities,Montessori Activities",
         "image",
         "https://i.pinimg.com/originals/58/8e/38/588e380b19942a71a86a69d9c9973d25.png",
         " /data/education",
         "education"
        ],
        [
         2293,
         "1fd7d4cc-54c1-4542-9c1f-449cb4c875f4",
         "Over 40 of the BEST Homemade Christmas Ornament Ideas",
         "Over 40 of the BEST Homemade Christmas Ornaments...these easy Holiday crafts are so fun to make for Kids and Adults! Lots of great class party ideas!",
         "245000",
         "Kitchen Fun With My 3 Sons",
         "Diy Christmas Lights,Homemade Christmas Decorations,Christmas Crafts For Gifts,Mini Christmas Tree,Christmas Ornament Crafts,Homemade Christmas Gifts,Xmas Decorations,Simple Christmas,Handmade Christmas",
         "image",
         "https://i.pinimg.com/originals/d0/d3/a3/d0d3a31e87296224d5ba8896904b5b88.jpg",
         " /data/christmas",
         "christmas"
        ],
        [
         159,
         "841a161a-47b8-4161-884d-adeb67a28b1e",
         "Valentine's Day Bee Directed Drawing {Art Project}",
         "This bee directed drawing and associated pages will help you create a fun and creative Valentine's Day Directed Drawing Art Project activity for your class.Choose to do a painti… ",
         "1000000",
         "Teachers Pay Teachers",
         "Classroom Art Projects,School Art Projects,Art Classroom,Art Projects For Kindergarteners,Spring Art Projects,Classroom Posters,Valentines Art Lessons,Valentines Day Activities,Grade 1 Art",
         "image",
         "https://i.pinimg.com/originals/49/ff/2e/49ff2e83c0cefdd37213f6084c6f0566.jpg",
         " /data/art",
         "art"
        ],
        [
         9979,
         "2b2abc85-fc51-481f-8ae6-17681993da28",
         "Paris in the Summer. 10 fun things to do in Paris in the Summertime • Petite in Paris",
         "Are you traveling to Paris during the summer? Find out what to do in Paris, France during the summer. Fun summertime activities in Paris. Enjoy the incredible outdoors when trav… ",
         "3000",
         "Petite in Paris",
         "Torre Eiffel Paris,Tour Eiffel,Picnic In Paris,Hello France,Voyage Europe,Destination Voyage,Beautiful Places To Travel,Travel Aesthetic,Paris Travel",
         "image",
         "https://i.pinimg.com/originals/6c/4c/90/6c4c90bba27ebf8c8bfe4c1acfb9f07a.jpg",
         " /data/travel",
         "travel"
        ],
        [
         9759,
         "d105eb6e-0f9f-46e7-8d02-d24b62f6ae90",
         "8 Best Greek Islands You Have To Visit - TheFab20s",
         "Although you'd think Greek islands are fairly similar, you'd be completely wrong! Each island has it's own personality and appeal. Here are the 8 Best Greek Islands to visit, es… ",
         "42000",
         "TheFab20s | Travel+Food+DIY+Listicles",
         "Greek Islands To Visit,Best Greek Islands,Greece Islands,Cool Places To Visit,Places To Go,Best Places In Portugal,Copenhagen Travel,Paros Island,Santorini Island",
         "image",
         "https://i.pinimg.com/originals/06/1d/ce/061dce38929dec8e74844442116bea4a.jpg",
         " /data/travel",
         "travel"
        ],
        [
         2698,
         "73f16302-4871-486a-8836-947530526337",
         "DIY Dollar Tree Valentine's Day Wreath",
         "DIY Dollar Store Valentine’s Day Heart Wreath Decoration. There are so many great Valentine crafts at the Dollar Tree right now! During our last trip, we picked up a few supplie… ",
         "9000",
         "South Lumina Style",
         "Valentine Day Wreaths,Valentines Day Hearts,Valentines Day Decorations,Valentine Day Crafts,Holiday Crafts,Diy Christmas,Christmas Wreaths,Valentine Tree,Printable Valentine",
         "image",
         "https://i.pinimg.com/originals/dc/f6/8a/dcf68adcc63c339c24fa5664f1115994.png",
         " /data/diy-and-crafts",
         "diy-and-crafts"
        ],
        [
         6145,
         "82e13a07-db99-43a3-b1c0-89a4b75821da",
         "HOLIDAY MANTLE DECOR - @AMAZON & @TARGET FINDS",
         "Holiday mantle decor, Christmas decor, metallic mercury glass style Christmas trees, eucalyptus vine, evergreen pine branches, white neutral holiday decor, cozy mantle for the h… ",
         "83000",
         "Stylin by Aylin",
         "Winter Home Decor,Christmas Living Room Decor,Living Room Decor Cozy,Christmas Decor,Cozy Fireplace,Rustic Fireplace Decor,Fireplace Decorations,Rustic Room,House Decorations",
         "image",
         "https://i.pinimg.com/originals/9d/82/1a/9d821a80acd8f90c16454e978bd9b115.jpg",
         " /data/home-decor",
         "home-decor"
        ],
        [
         427,
         "4a455340-09a2-4370-ad86-73d7964603db",
         "DIY Acrylic Paint Pouring Wall Art - Abbotts At Home",
         "Easy to follow steps for this easy DIY wall art. Acrylic Paint Pouring with a blow dryer, Dutch paint pour. Written steps and full step by step video to help you do it too! 👍",
         "52000",
         "Abbotts At Home",
         "Acrylic Pouring Art,Acrylic Wall Art,Acrylic Pouring Techniques,Acrylic Paintings,Art Paintings,Marble Art,Marble Painting,Pour Painting,Large Canvas Art",
         "video",
         "https://i.pinimg.com/videos/thumbnails/originals/d5/5e/fa/d55efa6ef50d35dac425cea935f39c89.0000001.jpg",
         " /data/art",
         "art"
        ],
        [
         1704,
         "5fbf9863-fb79-477c-a5b6-540c3020a55f",
         "Christmas Trees From Pallet Wood | Holiday DIY",
         "Christmas Trees From Pallet Wood | Holiday DIY: Deck the yard with some fun outdoor Christmas Trees! We made these merry and bright decorations from two old pallets we had lying… ",
         "3000000",
         "Instructables",
         "Pallet Wood Christmas Tree,Wooden Christmas Crafts,Diy Christmas Tree,Christmas Projects,Holiday Crafts,Wooden Xmas Trees,Different Christmas Trees,Pallet Tree,Christmas Kitchen",
         "image",
         "https://i.pinimg.com/originals/64/7b/ca/647bca35169b7c144604116c64bcba8a.png",
         " /data/christmas",
         "christmas"
        ],
        [
         4315,
         "21b59ba9-829d-4c33-8c27-4cd4c56d26b8",
         "Podcasts for Teachers or Parents of Teenagers",
         "Podcasts for Teachers or Parents of Teenagers: Teaching teens middle school and high school can feel joyful and rewarding most days, but can also frustrate you with one challeng… ",
         "25000",
         "Math Giraffe",
         "Middle School Classroom,High School Students,High School Teachers,Middle School Tips,High School Counseling,Ela Classroom,High School Science,Future Classroom,Google Classroom",
         "image",
         "https://i.pinimg.com/originals/50/19/31/501931a27ee4d076658980851b995b2c.jpg",
         " /data/education",
         "education"
        ],
        [
         3599,
         "ff0dd945-dafa-411c-8cef-eb43e374e815",
         "Educational Leadership in Aotearoa New Zealand : Issues of Context and Social Justice",
         "This book presents 10 inspirational case studies of how centre leaders, principals and leadership teams in high-needs New Zealand educational settings have enacted leadership to… ",
         "2000000",
         "Walmart",
         "Research Studies,Educational Leadership,Education System,Secondary School,Try It Free,Book Format,Social Justice,Young People,Paperback Books",
         "image",
         "https://i.pinimg.com/originals/0e/ea/c4/0eeac457780bbe43fcc5e9eaabd80f62.jpg",
         " /data/education",
         "education"
        ],
        [
         5069,
         "b75b6f87-deb3-444f-b29e-ce9161b2df49",
         "The Vault: Curated & Refined Wedding Inspiration",
         "Sacramento California Wedding 2 Chic Events & Design Jodi Yorston Photography Wilson Vineyards Barn Miosa Couture Yellow Barn Vineyard Outdoor Candles DIY",
         "6000000",
         "Style Me Pretty",
         "60th Anniversary Parties,Anniversary Decorations,Golden Anniversary,25th Wedding Anniversary,Anniversary Pictures,Anniversary Ideas,Birthday Decorations,Event Planning Design,Event Design",
         "image",
         "https://i.pinimg.com/originals/7e/45/90/7e45905fefa36347e83333fd6d091140.jpg",
         " /data/event-planning",
         "event-planning"
        ],
        [
         7343,
         "b8c63a95-6fe8-4d7f-9455-1eef3462fee0",
         "This Fashion Rule Is Nonsense, And We Should All Forget About It",
         "Black And Brown Outfits You Need To Try This Fall Season. The trick with black and brown outfits is to know how to combine colors, fabrics, and shapes to get a cohesive look. So… ",
         "1000000",
         "Cultura Colectiva",
         "Winter Outfits Men,Stylish Mens Outfits,Casual Outfits,Men Casual,Smart Casual,Outfits For Men,Fall Outfits,Mens Winter Boots,Business Casual Men",
         "image",
         "https://i.pinimg.com/originals/3e/49/09/3e4909c0ccc4dbba3cad83d97eab4a61.png",
         " /data/mens-fashion",
         "mens-fashion"
        ],
        [
         8606,
         "71757040-bfc8-4631-9cac-22801e61d9e3",
         "30+ Eagle Tattoos Ideas for Women",
         "summcoco gives you inspiration for the women fashion trends you want. Thinking about a new look or lifestyle? This is your ultimate resource to get the hottest trends. 30+ Eagle… ",
         "306000",
         "Sumcoco | Decor Ideas, Hairstyles, Nails Fashion Advice",
         "White Bird Tattoos,Rose Tattoos,Flower Tattoos,Tattoo Black,Bird And Flower Tattoo,Tattoo Floral,Mini Tattoos,Flower Art,Girls With Sleeve Tattoos",
         "image",
         "https://i.pinimg.com/originals/8d/c6/ed/8dc6ed0b212393187a14c7d07a88060f.png",
         " /data/tattoos",
         "tattoos"
        ],
        [
         9074,
         "2adede06-7fb0-4b5f-8cf9-ce8e6d6fa6a1",
         "77 Disney Tattoos To Unleash Your Magic Power - Our Mindful Life",
         "Disney characters never go out with time. From small to bold, here are the best Disney tattoos that both adults and children will adore.",
         "190000",
         "Our Mindful Life",
         "Small Disney Tattoos,Disney Thigh Tattoo,Matching Disney Tattoos,Disney Couple Tattoos,Disney Inspired Tattoos,Disney Sleeve Tattoos,Matching Best Friend Tattoos,Small Tattoos,3 Best Friend Tattoos",
         "image",
         "https://i.pinimg.com/originals/29/1d/13/291d1361e275358df53c1db02b63d3a4.jpg",
         " /data/tattoos",
         "tattoos"
        ],
        [
         6063,
         "60693727-4927-4bd6-a8c5-096a392d63e6",
         "41 Gorgeous Fall Decor Ideas For Your Home - Chaylor & Mads",
         "Beautiful and easy ways to update every room in your home with fall decor. Plus, my favorite finds in fall decor for 2020!",
         "92000",
         "Kristen | Lifestyle, Mom Tips & Teacher Stuff Blog",
         "Fall Home Decor,Autumn Home,Fall Decor Outdoor,Front Porch Fall Decor,Home Decor Ideas,Porch Ideas For Fall,Fall Outdoor Decorating,Decorating Ideas For Fall,Fall Front Doors",
         "image",
         "https://i.pinimg.com/originals/e5/ae/dc/e5aedc14ce557e3a69f672e0f8c88f6e.png",
         " /data/home-decor",
         "home-decor"
        ],
        [
         5076,
         "fa3af29c-dc78-4eed-a4c5-52a407ea04c0",
         "Quiz: Test Your Event IQ! - Pointers For Planners",
         "So you're thinking of getting your event planner certification, but how much do you REALLY know about event planning? Event planners need to be knowledgeable and able to answer… ",
         "5000",
         "QC Career School",
         "Diy Wedding Food,Best Wedding Makeup,Wedding Events,Wedding Tips,Wedding Stuff,Weddings,Event Planning Business,Business Events,Wedding Makeup Tutorial",
         "image",
         "https://i.pinimg.com/originals/6f/19/bc/6f19bce24921bf843540fc04da9eb6bf.jpg",
         " /data/event-planning",
         "event-planning"
        ],
        [
         552,
         "b82602a9-e434-42cf-9481-22f3f41d82ce",
         "The herbal bed: Katie Scott's psychedelic flora and fauna – in pictures",
         "Nike trainers sprout plants and French perfumiers inspire by mysterious scientific icons in Katie Scott’s visions that take botanical illustration into the digital age",
         "908000",
         "The Guardian",
         "Art And Illustration,Illustration Inspiration,Botanical Illustration,Vintage Illustrations,Botanical Drawings,Botanical Prints,Arte Inspo,Insect Art,Psychedelic",
         "image",
         "https://i.pinimg.com/originals/16/8a/fa/168afae02d5ffc71da10cdb312de2cb1.jpg",
         " /data/art",
         "art"
        ],
        [
         8578,
         "036ec267-658b-4dad-a097-8ef0b4f30c0d",
         "Snake Collarbone Temporary Tattoo. Halloween Tattoos  Spooky | Etsy",
         "Snake temporary tattoo for collarbone. Spooky 3D tattoo for Halloween Includes 2 copies, 1 for the right side and 1 for the left side Apply with water and remove anytime with ba… ",
         "0",
         "Livitrevisani",
         "Finger Tattoo Designs,Small Tattoo Designs,Finger Tattoos,Small 3d Tattoos,Cool Tattoos,Line Work Tattoo,Back Tattoo,Collarbone Tattoo,Tattoo Neck",
         "image",
         "https://i.pinimg.com/originals/d8/b7/a1/d8b7a11a3fe64e7fab91d3afb1536537.jpg",
         " /data/tattoos",
         "tattoos"
        ],
        [
         4137,
         "bf275054-4464-448b-9143-1bf101aa366d",
         "15 Essential Classroom Items For First Year Teachers / First Year Teacher Must Haves",
         "15 Essential Classroom Items For First Year Teachers / First Year Teacher Must Haves",
         "5000",
         "Write Your Story | Budgeting, Healthy Lifestyle, Faith",
         "1st Year Teachers,First Year Teaching,First Grade Teachers,Elementary Teacher,Montessori Elementary,Teaching Reading,History Teachers,High School Classroom,First Grade Classroom",
         "image",
         "https://i.pinimg.com/originals/4b/b9/a8/4bb9a85f609a8384ed9c9ab14e7bcea0.jpg",
         " /data/education",
         "education"
        ],
        [
         6566,
         "6d8848f8-f515-4935-8dae-5dd02304d76e",
         "Navy and Neutral Fall Living Room + Kitchen Tour - Sand and Sisal",
         "Celebrate fall with a neutral color palette with natural elements. This Navy and Neutral Fall Living Room + Kitchen Tour will make you rethink fall decor.",
         "178000",
         "Sand and Sisal",
         "Fall Living Room,Coastal Living Rooms,Living Room Paint,Living Room Kitchen,Living Room Interior,Living Room Furniture,Living Room Decor,Living Area,Small Living",
         "image",
         "https://i.pinimg.com/originals/f1/be/b6/f1beb6d3414f1c52929df39a83d8da9f.jpg",
         " /data/home-decor",
         "home-decor"
        ],
        [
         2411,
         "4e11801e-7a64-4f1e-90dd-e900677595c5",
         "The Sweetest Gingerbread House Ornaments Kids Can Make",
         "Transform mini terra cotta pots into the sweetest gingerbread house ornaments! Kids will love making this adorable Christmas craft to hang on the tree.",
         "20000",
         "Projects with Kids",
         "Noel Christmas,Diy Christmas Ornaments,Homemade Christmas,Simple Christmas,Gingerbread Ornaments,Christmas Gingerbread,Gingerbread Houses,Preschool Christmas,Ornaments Ideas",
         "image",
         "https://i.pinimg.com/originals/13/28/09/1328097d7c290d1bf8642b01a6ba1c6c.jpg",
         " /data/christmas",
         "christmas"
        ],
        [
         7166,
         "4a844b03-e161-47a1-904b-591eb5dc4fb1",
         "The Killers - Mr. Brightside - Women's T-Shirt - Heather Dark Grey / S",
         "Women's T-shirt. Design inspired by the rock band The Killers' hit \"Mr. Brightside\". One of the greatest song from the album Hot Fuss released in 2004. Soft and light, 100% cott… ",
         "27",
         "Mala Rock | Rock T-shirts",
         "Mr Brightside,Rock T Shirts,Greatest Songs,Timeless Classic,Rock Bands,Album,T Shirts For Women,Inspired,Hot",
         "image",
         "https://i.pinimg.com/originals/8c/42/39/8c42391d35fcad51a4a79f7cd81bf26d.jpg",
         " /data/mens-fashion",
         "mens-fashion"
        ],
        [
         8930,
         "a2999c28-f7b2-4577-af87-49d21d6d8a18",
         "135 Sunflower Tattoo Ideas - [Best Rated Designs in 2021]",
         "We have put together the Ultimative Sunflower Tattoo Collection in 2020. Check out our highest rated handpicked Sunflower designs here!",
         "800000",
         "Next Luxury",
         "Sunflower Tattoo Sleeve,Sunflower Tattoo Shoulder,Sunflower Tattoo Small,Sunflower Tattoos,Sunflower Tattoo Design,Shoulder Tattoo,Sunflower Mandala Tattoo,Sunflower Tattoo Meaning,Form Tattoo",
         "image",
         "https://i.pinimg.com/originals/18/de/6c/18de6c81a8637e224c7d63dce1414ceb.jpg",
         " /data/tattoos",
         "tattoos"
        ],
        [
         9672,
         "1a5050a4-ac82-472c-aeff-3457de8bbee9",
         "Lake Moraine, Banff, Canada",
         "On our Calgary to Vancouver road trip we got to spend time in Banff, Canada. We visited the stunning Lake Moraine as well as Lake Louise and plenty of other of Canada's natural… ",
         "7000",
         "Travel Mad Mum",
         "Beautiful Places To Travel,Cool Places To Visit,Beautiful Roads,Beautiful Scenery,Wonderful Places,Lac Moraine,Moraine Lake,Lac Louise,Natur Wallpaper",
         "video",
         "https://i.pinimg.com/videos/thumbnails/originals/57/9d/52/579d52242ae5609978c754d393e44e81.0000001.jpg",
         " /data/travel",
         "travel"
        ],
        [
         3729,
         "ac90f1d2-dc9e-438c-b073-dd48511b80b0",
         "5 + Nature Games for Your Homeschool",
         "Our family would rather spend time outdoors than indoors. We love nature! That said, sometimes mother nature is uncooperative. On these days, it can be fun to pull out some natu… ",
         "9000",
         "My Little Poppies (Cait Curley, MA/CAGS)",
         "Diy Nature,Theme Nature,Nature Study,Science And Nature,Summer Science,Earth Science,Nature Crafts,Outdoor Education,Outdoor Learning",
         "image",
         "https://i.pinimg.com/originals/d6/3b/1a/d63b1a2a36534ecac5d1fbd0d932403a.jpg",
         " /data/education",
         "education"
        ],
        [
         7294,
         "9d8409ef-bea7-4133-a021-c58b9c042210",
         "Foolproof Fall Fashion For Men You'll Love",
         "Looking for the coolest fall fashion for men this season? Click to read this article on fall fashion for men to look sharp on LLEGANCE.",
         "28000",
         "LLEGANCE | Workwear Fashion Woman Advice For Driven Professionals",
         "Fashion 90s,Autumn Fashion,Fashion Ideas,Trendy Fashion,Fashion Photo,Fashion Outfits,Fashion Trends,Urban Fashion Men,Men's Casual Fashion",
         "image",
         "https://i.pinimg.com/originals/4c/bf/2d/4cbf2d6e04d2502612169220553f4cef.jpg",
         " /data/mens-fashion",
         "mens-fashion"
        ],
        [
         2015,
         "72359164-4419-452c-81cb-74f30a5a26b7",
         "16 Blissful Christmas Table Decor Ideas That You Must See",
         "Take a look at this new collection of Christmas decor featuring 16 Blissful Christmas Table Decor Ideas That You Must See. Happy holidays!",
         "616000",
         "ArchitectureArtDesigns",
         "Kids Crafts,Christmas Crafts For Kids,Homemade Christmas,Christmas Projects,Holiday Crafts,Christmas Gift Ideas,Preschool Christmas,Tree Crafts,Christmas Inspiration",
         "image",
         "https://i.pinimg.com/originals/5f/70/30/5f7030a35bb8a1491e915fb0ae29bcf5.jpg",
         " /data/christmas",
         "christmas"
        ],
        [
         4913,
         "4d2d79c6-9ca8-46c9-a38e-931c5d967804",
         "How to Work From Home as an Event Planner",
         "Do you love planning parties? Do you want to work-at-home? This post covers everything you need to know about becoming a home-based event planner!",
         "110000",
         "The Work at Home Woman",
         "Event Planning Tips,Event Planning Business,Party Planning,Business Ideas,Craft Business,Business Chic,Business Inspiration,Business Goals,Business Opportunities",
         "image",
         "https://i.pinimg.com/originals/4d/a3/a4/4da3a4730418239f1b43ce81fb032c15.jpg",
         " /data/event-planning",
         "event-planning"
        ],
        [
         2959,
         "439cac4b-18e8-4aaa-88c5-edb26a701111",
         "The Cutest Toilet Paper Crafts",
         "One thing I love about Crafts is how the evolve! These toilet paper rolls are adorable and modern. I love that something as simple as a recycled toilet paper roll can be taken t… ",
         "502000",
         "CraftGossip.com",
         "Toilet Paper Roll Crafts,Cardboard Crafts,Diy Paper,Paper Crafting,Toilet Paper Rolls,Cardboard Playhouse,Paper Art,Kids Crafts,Toddler Crafts",
         "image",
         "https://i.pinimg.com/originals/c6/cd/0d/c6cd0d04da9cfc11566cfd34eeb1f918.jpg",
         " /data/diy-and-crafts",
         "diy-and-crafts"
        ],
        [
         9875,
         "782dcbad-ff91-40a6-ba60-216efe29adb7",
         "European Bucket List: 35 Things NOT To Miss When Traveling Europe",
         "35 European bucket list destinations for any traveler heading to Europe. From Cinque Terre, Italy to Iceland - there are so many amazing sites to see in Europe.",
         "28000",
         "Nicki ",
         "Backpacking Europe,Europe Travel Guide,Travel Guides,Travel Packing,Traveling Europe,Travelling,Travel Backpack,Budget Travel,2 Week Europe Itinerary",
         "image",
         "https://i.pinimg.com/originals/71/04/1a/71041ad83ede43d9665741e719c58a86.jpg",
         " /data/travel",
         "travel"
        ],
        [
         428,
         "610b3f83-9fe0-469d-946c-d16b577fca71",
         "Fashion Designer Isaac Mizrahi’s Updated 1930s New York City Apartment",
         "Fashion designer Issac Mizrahi’s Greenwich Village home is an amalgamation of three apartments that was 20 years in the making",
         "3000000",
         "Architectural Digest",
         "Modern Art,Contemporary Art,Contemporary Kitchens,Contemporary Bedroom,New York City Apartment,Manhattan Apartment,Art Moderne,Architectural Digest,Painting Inspiration",
         "image",
         "https://i.pinimg.com/originals/f4/6c/54/f46c546a2e480022a42d842b7dca157e.jpg",
         " /data/art",
         "art"
        ],
        [
         1371,
         "33e92ac1-73d1-4c31-9892-d5e633060790",
         "How To Do Makeup - Step By Step Tips For The Perfect Look",
         "What are the basic things you need for makeup? Let’s be honest, ladies; all women can do makeup, yet not all women know how to do makeup right. The good news is, this post can t… ",
         "799000",
         "Glaminati",
         "Contouring Makeup,Skin Makeup,Beauty Makeup,Makeup Brushes,Eyeliner Makeup,Makeup Tips Lips,Makeup 101,Cheap Makeup,Rosa Eyeliner",
         "image",
         "https://i.pinimg.com/originals/2c/1a/d4/2c1ad45b5c54034a2dbc73c84a89f5e4.jpg",
         " /data/beauty",
         "beauty"
        ],
        [
         3800,
         "d2c367ed-9287-4ea3-b173-198b292d9981",
         "Reinforcing the Difficult Child When Token Boards Don't Work!",
         "behavior, special education, token boards, when token boards don't work, money token systems",
         "11000",
         "Traci Bender - The Bender Bunch",
         "Special Education Behavior,Classroom Behavior Management,Behavior Plans,Behaviour Management,Behavior Charts,Behavior Board,Behavior Report,Behavior Analyst,Preschool Special Education",
         "image",
         "https://i.pinimg.com/originals/24/f9/e2/24f9e22ada4a79c61432ef6c8fe1d0f9.jpg",
         " /data/education",
         "education"
        ],
        [
         3454,
         "46bd3f86-b09d-4e29-9033-7ff2df595e51",
         "What can you use to color resin?",
         "HELPFUL RESOURCES – Check out my resin colorants resources page here with links to all the products mentioned in this article (and more). Let me know if you have any that you lo… ",
         "6000",
         "Mixed Media Crafts",
         "Epoxy Resin Art,Diy Resin Art,Diy Resin Crafts,Resin Molds,Ice Resin,Resin Pour,Diy Epoxy,Diy Resin Painting,Diy Resin Dice",
         "image",
         "https://i.pinimg.com/originals/d4/12/78/d4127833023ca32600571ddca16f1556.jpg",
         " /data/diy-and-crafts",
         "diy-and-crafts"
        ],
        [
         6398,
         "ea44d318-2ced-4cf8-a66f-a6a036b84faa",
         "My master bathroom makeover with @flooranddecor ! Follow me on Instagram @Mojisstyle for more",
         null,
         "117000",
         "MojisStyle",
         "Decor Home Living Room,Home And Living,Diy Bedroom Decor,Home Decor,Bathroom Interior Design,Interior Design Living Room,Dream Home Design,House Design,Beautiful Bathrooms",
         "multi-video(story page format)",
         "https://i.pinimg.com/videos/thumbnails/originals/75/48/3b/75483b74822855519ec8b40df4c670ef.0000001.jpg",
         " /data/home-decor",
         "home-decor"
        ],
        [
         5730,
         "1e1f0c8b-9fcf-460b-9154-c775827206eb",
         "Island Oasis Coupon Organizer",
         "Description Coupon Organizer in a fun colorful fabric -island oasis, Great Size for the \"basic\" couponer - holds up to 500 coupons with ease, and is made long enough so that you… ",
         "0",
         "Consuelo Aguirre",
         "Grocery Items,Grocery Coupons,Care Organization,Coupon Organization,Extreme Couponing,Couponing 101,Life Binder,Save My Money,Love Coupons",
         "image",
         "https://i.pinimg.com/originals/65/bb/ea/65bbeaf458907bb079317d8303c4fa0e.jpg",
         " /data/finance",
         "finance"
        ],
        [
         5730,
         "1e1f0c8b-9fcf-460b-9154-c775827206eb",
         "Island Oasis Coupon Organizer",
         "Description Coupon Organizer in a fun colorful fabric -island oasis, Great Size for the \"basic\" couponer - holds up to 500 coupons with ease, and is made long enough so that you… ",
         "0",
         "Consuelo Aguirre",
         "Grocery Items,Grocery Coupons,Care Organization,Coupon Organization,Extreme Couponing,Couponing 101,Life Binder,Save My Money,Love Coupons",
         "image",
         "https://i.pinimg.com/originals/65/bb/ea/65bbeaf458907bb079317d8303c4fa0e.jpg",
         " /data/finance",
         "finance"
        ],
        [
         5730,
         "1e1f0c8b-9fcf-460b-9154-c775827206eb",
         "Island Oasis Coupon Organizer",
         "Description Coupon Organizer in a fun colorful fabric -island oasis, Great Size for the \"basic\" couponer - holds up to 500 coupons with ease, and is made long enough so that you… ",
         "0",
         "Consuelo Aguirre",
         "Grocery Items,Grocery Coupons,Care Organization,Coupon Organization,Extreme Couponing,Couponing 101,Life Binder,Save My Money,Love Coupons",
         "image",
         "https://i.pinimg.com/originals/65/bb/ea/65bbeaf458907bb079317d8303c4fa0e.jpg",
         " /data/finance",
         "finance"
        ],
        [
         10552,
         "17301b8c-ccbb-42ad-b2df-3876df35b1cd",
         "The Prowler Emergency Response Vehicle",
         "January 23, 2009 We can see emergency responders queueing up for this one. ATVCorp has created versions of its Prowler Light Tactical All Terrain Vehicle (LTATV) for fire-fighti… ",
         "314",
         "p hump",
         "Army Vehicles,Armored Vehicles,Go Kart Buggy,Atv Attachments,Aviation Fuel,Special Forces,Special Ops,Terrain Vehicle,Emergency Response",
         "image",
         "https://i.pinimg.com/originals/14/6b/6b/146b6b1a1127773f7046e08550e68ed0.jpg",
         " /data/vehicles",
         "vehicles"
        ],
        [
         603,
         "78e21a64-53b0-4745-8294-e8c456f0ccc1",
         "How to Create Alcohol Ink Rings For Gorgeous Pieces of Art -",
         "Learn to create alcohol ink rings for gorgeous pieces of art. Each ring sits on top of another, giving a multilayered appearance",
         "7000",
         "Kim Cook-Thirteen Chairs-Slates Mugs And Tees",
         "Alcohol Ink Tiles,Alcohol Ink Glass,Alcohol Ink Crafts,Alcohol Ink Painting,Pour Painting,Zealand Tattoo,Copics,Types Of Art,Art Techniques",
         "image",
         "https://i.pinimg.com/originals/03/03/1f/03031fdc9775d0c06f61d68e51362379.png",
         " /data/art",
         "art"
        ],
        [
         719,
         "d7c53e34-9540-4f48-a31b-89b6ed1852bb",
         "10 Art Sub Lessons that only need a Pencil",
         "10 art sub lessons that only need a pencil. Cover lessons for art teachers. Make the perfect art sub lessson folder with this amazing resources.",
         "25000",
         "The Arty Teacher",
         "Art Lessons For Kids,Art Lessons Elementary,Art For Kids,Art Sub Plans,Art Lesson Plans,Art Substitute Plans,High School Art,Middle School Art,Primary School Art",
         "image",
         "https://i.pinimg.com/originals/ee/a8/78/eea878911033897d981a69d9f6b2fb7c.png",
         " /data/art",
         "art"
        ],
        [
         2074,
         "86ed09a7-842d-496d-9501-010c654eb340",
         "35 Christmas Decorating Ideas We Bet You Haven't Thought Of",
         "20 Christmas Decorating Ideas We Bet You Haven't Thought Of via @PureWow",
         "868000",
         "PureWow",
         "Holiday Centerpieces,Xmas Decorations,Centerpiece Ideas,Table Centerpieces,Valentine Decorations,Wedding Centerpieces,Outdoor Decorations,Christmas Centerpieces With Candles,Christmas Dining Table Decorations",
         "image",
         "https://i.pinimg.com/originals/e9/b9/f0/e9b9f01cc3b2cf41948b45854335396c.jpg",
         " /data/christmas",
         "christmas"
        ],
        [
         831,
         "5e65914d-9f58-4ff1-9676-658e426e8ce5",
         "creating mixed-media faces tutorial",
         "Free quick inspirational video on creating a mixed media face with acrylic, collage, stenciling and simple techniques. Come on over to watch",
         "27000",
         "Shawn Petite",
         "Collage Kunst,Paper Collage Art,Collage Art Mixed Media,Mixed Media Painting,Mixed Media Canvas,Canvas Collage,Art Collages,Wall Canvas,Canvas Art",
         "video",
         "https://i.pinimg.com/videos/thumbnails/originals/05/86/a4/0586a4116e1fc34efc25e064ccd123e8.0000001.jpg",
         " /data/art",
         "art"
        ],
        [
         1545,
         "0c629541-cc5b-4b61-bd3f-613346893258",
         "Oil Cleansing Method: What it is and why you should do it.",
         "The oil cleansing method is a simple, natural way to have clean skin without using toxic chemicals. It will leave your face radiant and soft!",
         "85000",
         "Thank Your Body",
         "Beauty Care,Diy Beauty,Beauty Hacks,Beauty Shop,Oil Cleansing Method,Goji,Korean Skincare Routine,Homemade Beauty Products,Organic Beauty",
         "image",
         "https://i.pinimg.com/originals/2c/1c/da/2c1cda7da86ee711536bbacfe89c75c9.jpg",
         " /data/beauty",
         "beauty"
        ],
        [
         205,
         "f4afd543-b9fe-44c3-8064-f2198faa1372",
         "DIY Abstract Heart Painting and a Fun Paint Party",
         "Use our easy step by step tutorial to create a DIY abstract heart painting on any canvas size. Lots of inspiration to help you choose colors.",
         "410000",
         "The Creativity Exchange",
         "Painting & Drawing,Watercolor Paintings,Original Paintings,Owl Watercolor,Acrylic Paintings,Owl Art,Bird Art,Beginner Painting,Animal Paintings",
         "image",
         "https://i.pinimg.com/originals/33/85/f8/3385f82ee5e8ecdcccdf798bdcbee3d2.jpg",
         " /data/art",
         "art"
        ],
        [
         808,
         "23f67e42-db9f-4aae-8b82-cbec64ad9f4d",
         "Chalk Pastel Hot Chocolate Art Project",
         "Kids will use chalk pastels and black paper to create this bold and bright hot chocolate art project! Easy to follow tutorial included.",
         "20000",
         "Projects with Kids",
         "Hot Chocolate Art,Chocolate Crafts,Art Activities For Kids,Preschool Art,Preschool Winter,Christmas Activities,Winter Art Projects,Clay Art Projects,Chalk Pastel Art",
         "image",
         "https://i.pinimg.com/originals/5a/d3/82/5ad38202cf8acb022cb8f46ce2a78ad6.jpg",
         " /data/art",
         "art"
        ],
        [
         1555,
         "1f20551b-a21c-4ff0-b20d-49e95fdc50d3",
         "Skin Purging: Die Pflegemethode für reine Haut | ELLE",
         "Skin Purging sorgt für die reinste Haut, die du jemals hattest #skin äpurging #skinpurging #skincare #hautpflege #schönehaut #haut #beauty #tips",
         "326000",
         "ELLE Germany",
         "Natural Hair Mask,Natural Hair Styles,Natural Beauty,Skin Tag,How To Apply Makeup,Pimples,Beauty Routines,Skincare Routine,Glowing Skin",
         "image",
         "https://i.pinimg.com/originals/93/b2/7b/93b27be044b2fd2f227f30a7f2c2faf2.jpg",
         " /data/beauty",
         "beauty"
        ],
        [
         5468,
         "91ee49f6-0070-4270-ba19-fde88ba51c91",
         "Budgets, Spouses & Making It Work! - Tshanina Peterson",
         "Don't fight about budgets and money with your spouse! Here are a few tips that we've found that make it work in our marriage!",
         "313",
         "Annamarie Hilton",
         "Ways To Save Money,Money Tips,Money Saving Tips,How To Make Money,Managing Money,Saving Time,College Fund,Scholarships For College,Education College",
         "image",
         "https://i.pinimg.com/originals/37/d5/82/37d58296bcef3471a633c76b89d8625e.jpg",
         " /data/finance",
         "finance"
        ],
        [
         7790,
         "9cd89fb9-d1af-4e66-85ca-c9d656c918b4",
         "50 Heart Touching Sad Quotes That Will Make You Cry",
         "Are you looking for some heart touching sad quotes and sayings; Here we have collected for you 50 best heart touching sad quotes..",
         "112",
         "AnnaLee Kick",
         "Crush Quotes For Girls,Sad Crush Quotes,Hurt Quotes,Love Me Quotes,Mood Quotes,Quotes To Live By,Life Quotes,Quotes Quotes,Sad Quotes That Make You Cry",
         "image",
         "https://i.pinimg.com/originals/0c/0f/40/0c0f408d96458080e0c82adb50be8e8f.jpg",
         " /data/quotes",
         "quotes"
        ],
        [
         1422,
         "7bbe860c-a739-4ba9-babd-feb24bb6e4d9",
         "41 Life-Saving Beauty Hacks Every Girl Should Have In Her Arsenal",
         "Might try this... I'm generally skeptical about at-home remedies, but I know baking soda and lemons both do wonders. More",
         "5000000",
         "BuzzFeed",
         "Baking Soda Lemon Juice,Diy Beauté,Tips Belleza,Belleza Natural,Health And Beauty Tips,Beauty Secrets,Beauty Advice,Diy Beauty Tips,Beauty Life Hacks",
         "image",
         "https://i.pinimg.com/originals/c8/ab/af/c8abaffc56050f674eef8e65ad684929.jpg",
         " /data/beauty",
         "beauty"
        ],
        [
         10663,
         "d5208c16-82ae-4fd1-87f0-36e5ef789412",
         "21+ Classic Car Picture of the 1950s - Vintagetopia",
         "There are a lot of options of places to stay so you probably only have to book the initial one so you know the best place to land from the airport",
         "171000",
         "vintagetopia",
         "Old Classic Cars,Classic Trucks,Old Vintage Cars,Antique Cars,Vintage Trucks,Antique Trucks,Cadillac,Convertible,Mustang",
         "image",
         "https://i.pinimg.com/originals/e9/01/4d/e9014d537dd2b81c606e8466cef3904c.jpg",
         " /data/vehicles",
         "vehicles"
        ],
        [
         2863,
         "9bf39437-42a6-4f02-99a0-9a0383d8cd70",
         "25 Super Fun Summer Crafts for Kids - Of Life and Lisa",
         "Keep the kids busy this summer with these easy diy crafts and projects. Creative and…",
         "124000",
         "Of Life & Lisa | Lifestyle Blog",
         "Summer Crafts For Kids,Fun Crafts For Kids,Summer Kids,Toddler Crafts,Crafts To Do,Diy For Kids,Summer Snow,Diys For Summer,Craft Ideas For Girls",
         "image",
         "https://i.pinimg.com/originals/b3/bc/e2/b3bce2964e8c8975387b39660eed5f16.jpg",
         " /data/diy-and-crafts",
         "diy-and-crafts"
        ],
        [
         2863,
         "9bf39437-42a6-4f02-99a0-9a0383d8cd70",
         "25 Super Fun Summer Crafts for Kids - Of Life and Lisa",
         "Keep the kids busy this summer with these easy diy crafts and projects. Creative and…",
         "124000",
         "Of Life & Lisa | Lifestyle Blog",
         "Summer Crafts For Kids,Fun Crafts For Kids,Summer Kids,Toddler Crafts,Crafts To Do,Diy For Kids,Summer Snow,Diys For Summer,Craft Ideas For Girls",
         "image",
         "https://i.pinimg.com/originals/b3/bc/e2/b3bce2964e8c8975387b39660eed5f16.jpg",
         " /data/diy-and-crafts",
         "diy-and-crafts"
        ],
        [
         2863,
         "9bf39437-42a6-4f02-99a0-9a0383d8cd70",
         "25 Super Fun Summer Crafts for Kids - Of Life and Lisa",
         "Keep the kids busy this summer with these easy diy crafts and projects. Creative and…",
         "124000",
         "Of Life & Lisa | Lifestyle Blog",
         "Summer Crafts For Kids,Fun Crafts For Kids,Summer Kids,Toddler Crafts,Crafts To Do,Diy For Kids,Summer Snow,Diys For Summer,Craft Ideas For Girls",
         "image",
         "https://i.pinimg.com/originals/b3/bc/e2/b3bce2964e8c8975387b39660eed5f16.jpg",
         " /data/diy-and-crafts",
         "diy-and-crafts"
        ],
        [
         2863,
         "9bf39437-42a6-4f02-99a0-9a0383d8cd70",
         "25 Super Fun Summer Crafts for Kids - Of Life and Lisa",
         "Keep the kids busy this summer with these easy diy crafts and projects. Creative and…",
         "124000",
         "Of Life & Lisa | Lifestyle Blog",
         "Summer Crafts For Kids,Fun Crafts For Kids,Summer Kids,Toddler Crafts,Crafts To Do,Diy For Kids,Summer Snow,Diys For Summer,Craft Ideas For Girls",
         "image",
         "https://i.pinimg.com/originals/b3/bc/e2/b3bce2964e8c8975387b39660eed5f16.jpg",
         " /data/diy-and-crafts",
         "diy-and-crafts"
        ],
        [
         8653,
         "24b1343c-4d86-4705-8ec9-7f1f2df2d77e",
         "Unique Women Tattoos Ideas 2020",
         "We welcome you to our latest collection of Beautiful Tattoo Ideas For Women. Check out and get inspired by the most beautiful design for yourself.",
         "21000",
         "ALL FOR WOMAN",
         "Small Back Tattoos,Small Girl Tattoos,Little Tattoos,Tattoo Girls,Mini Tattoos,Tattoo Small,Back Tattoo Women,Tattoo On Back,Girl Back Tattoos",
         "image",
         "https://i.pinimg.com/originals/fa/cf/7c/facf7cd752a4bc7c09faaa8925ab80b1.jpg",
         " /data/tattoos",
         "tattoos"
        ],
        [
         2923,
         "52fa3af5-24a4-4ccb-8f17-9c3eb12327ee",
         "UFO Paper Plate Craft",
         "A fun space activity for kids. Preshoolers and kindergartners will love making their own alien spacecraft!",
         "192000",
         "The Crafting Chicks",
         "Paper Plate Crafts For Kids,Fun Crafts For Kids,Summer Crafts,Toddler Crafts,Art For Kids,Outer Space Crafts For Kids,Kid Crafts,Space Kids,Back To School Crafts For Kids",
         "image",
         "https://i.pinimg.com/originals/6f/e8/aa/6fe8aa405513c6d2f77b5f47d17cdce8.jpg",
         " /data/diy-and-crafts",
         "diy-and-crafts"
        ],
        [
         9936,
         "1f3154a6-13f0-4049-8d5c-faea15b9f07c",
         "Chasing Waterfalls in Costa Rica",
         "Volcanoes, hikes, and hot springs in Costa Rica! The ultimate 5 day travel itinerary. - #costarica #travel #blogging #blog #bucketlist",
         "22000",
         "Jess Wandering",
         "Costa Rica Reisen,Costa Rica Travel,Vacation Places,Dream Vacations,Vacation Spots,Vacation Food,Vacation Ideas,Voyage Dubai,Beautiful Places To Travel",
         "image",
         "https://i.pinimg.com/originals/60/fe/4c/60fe4c3602e8e50e2e9f787ed27d2aba.jpg",
         " /data/travel",
         "travel"
        ],
        [
         7768,
         "ae1a61f6-d958-40fe-ba93-6a78b3a73178",
         "16 Motivational Quotes Get You Inspired Today - Boss Babe Chronicles",
         "motivation quotes",
         "45000",
         "Boss Babe Chronicles | Personal Development, Finances, Self Care",
         "Motivacional Quotes,Motivational Quotes For Life,Uplifting Quotes,True Quotes,Words Quotes,Empowering Quotes,Boss Up Quotes,Inspirational Success Quotes,Boss Babe Quotes Work Hard",
         "image",
         "https://i.pinimg.com/originals/ee/b4/bc/eeb4bccdb074edb787ea61711e0c4dfd.jpg",
         " /data/quotes",
         "quotes"
        ],
        [
         1268,
         "e2f2cec5-cda5-42b2-ab9d-6dddf863e94e",
         "Janet on Twitter",
         "Here’s how to get long-lasting makeup, so you can do your face in the morning and be set for the entire day. Follow these makeup tips for foundation, lipstick and more using pro… ",
         "3000",
         "Tony",
         "Beauty Makeup,Eye Makeup,Diy Beauty,Beauty Ideas,Beauty Skin,Homemade Beauty,Wolf Makeup,Oily Skin Makeup,Face Beauty",
         "image",
         "https://i.pinimg.com/originals/d9/d1/3b/d9d13b9ac47d54940f05a75345a873d4.jpg",
         " /data/beauty",
         "beauty"
        ],
        [
         46,
         "19234073-8905-4885-b0d5-98e0b84cbf27",
         "10 Watercolor Hacks For Beginners | Tips and Tricks to Making Watercolor Painting Easier",
         "Mountain monologue watercolor",
         "27000",
         "It's me, JD | DIY, Crafts, Home & Organization",
         "Arte Inspo,Kunst Inspo,Watercolor Artists,Watercolor Ideas,Simple Watercolor,Tattoo Watercolor,Watercolor Techniques,Watercolor Animals,Watercolor Illustration",
         "image",
         "https://i.pinimg.com/originals/fd/54/89/fd548935dcb13545120a2115baaa41d9.jpg",
         " /data/art",
         "art"
        ],
        [
         5309,
         "c38bb47b-9584-4fc4-af0d-a31e1061df41",
         "How to Watch Your Favorite Shows Without Cable",
         "How to Get Rid of Cable and Still Watch all of your favorite shows! Saving Money Tips for TV & Cable!",
         "330000",
         "Passion For Savings",
         "Ways To Save Money,Money Tips,Money Saving Tips,Money Hacks,Managing Money,Cable Tv Alternatives,Budget Planer,Financial Tips,Financial Planning",
         "image",
         "https://i.pinimg.com/originals/c9/18/be/c918be2784382dc49010719bf1742a61.jpg",
         " /data/finance",
         "finance"
        ],
        [
         9546,
         "efd5b2d6-2f69-40cd-bb59-41f18c089e52",
         "20 Amazing Trips to Take in Your Twenties!",
         "The best trips to take when you are young!",
         "89000",
         "The World Pursuit Travel Website",
         "Fun Places To Go,Beautiful Places To Travel,Best Places To Travel,Travel Jobs,Holiday Places,Future Travel,Travel Around The World,Adventure Travel,Travel Photos",
         "video",
         "https://i.pinimg.com/videos/thumbnails/originals/81/97/c1/8197c1beef8bcb19bea5d8b422211f34.0000001.jpg",
         " /data/travel",
         "travel"
        ],
        [
         5630,
         "d41e703c-c97c-4c5a-9f9c-338982ca7504",
         "7 Insanely Useful Money Management Worksheets",
         "Get your personal finance in order with these 8 fr…",
         "46000",
         "R.J. Weiss at The Ways To Wealth | Personal Finance | Debt Payoff",
         "Ways To Save Money,Money Tips,Money Saving Tips,Money Budget,Saving Ideas,Budgeting Finances,Budgeting Tips,Planning Budget,Budget Planer",
         "image",
         "https://i.pinimg.com/originals/f1/4f/cc/f14fcc75ee73ff22c983bdce70c022e2.jpg",
         " /data/finance",
         "finance"
        ],
        [
         8731,
         "ea760f71-febf-4023-b592-d17396659039",
         "20 Koi Fish Tattoos For Lucky Men",
         "Koi fish tattoos are a popular choice for men who want to make a statement, thanks to their rich symbolism and bold design.",
         "211000",
         "TheTrendSpotter",
         "Dr Tattoo,Wörter Tattoos,Pisces Tattoos,Tatoo Art,Dream Tattoos,Dope Tattoos,Mini Tattoos,Finger Tattoos,Body Art Tattoos",
         "image",
         "https://i.pinimg.com/originals/8a/0c/0a/8a0c0a7b6236565c519acd41ad1a52c0.jpg",
         " /data/tattoos",
         "tattoos"
        ],
        [
         8304,
         "5b6d0913-25e4-43ab-839d-85d5516f78a4",
         "The #1 Reason You’re Not His Priority Anymore - Matthew Coast",
         "#lovequotes #matchmaker #matchmadeinheaven #loveyourself #respectyourself",
         "51000",
         "Commitment Connection",
         "Wise Quotes,Quotable Quotes,Words Quotes,Wise Words,Quotes To Live By,Great Quotes,Motivational Quotes,Inspirational Quotes,Funny Quotes",
         "image",
         "https://i.pinimg.com/originals/c6/64/ee/c664ee71524fb5a6e7b7b49233f93b43.png",
         " /data/quotes",
         "quotes"
        ],
        [
         8304,
         "5b6d0913-25e4-43ab-839d-85d5516f78a4",
         "The #1 Reason You’re Not His Priority Anymore - Matthew Coast",
         "#lovequotes #matchmaker #matchmadeinheaven #loveyourself #respectyourself",
         "51000",
         "Commitment Connection",
         "Wise Quotes,Quotable Quotes,Words Quotes,Wise Words,Quotes To Live By,Great Quotes,Motivational Quotes,Inspirational Quotes,Funny Quotes",
         "image",
         "https://i.pinimg.com/originals/c6/64/ee/c664ee71524fb5a6e7b7b49233f93b43.png",
         " /data/quotes",
         "quotes"
        ],
        [
         223,
         "8672f996-6ce9-403e-9599-2c4df668f1e0",
         "Easy Gouache painting",
         null,
         "29000",
         "Jasminxg",
         "Simple Canvas Paintings,Easy Nature Paintings,Tree Paintings,Cool Paintings,Watercolor Art Lessons,Watercolor Paintings For Beginners,Gouache Painting,Painting Art,Mandala Art Lesson",
         "multi-video(story page format)",
         "https://i.pinimg.com/videos/thumbnails/originals/17/49/16/1749164b93866d4eac32a52a3ccfd40a.0000001.jpg",
         " /data/art",
         "art"
        ],
        [
         7554,
         "c6fa12f4-0d4a-4b07-a335-5bf9f37f8281",
         "Craig Style",
         "imgentleboss: “ - More about men’s fashion at @Gentleboss - GB’s Facebook - ”",
         "940",
         "iElylike ..✿◕‿◕✿ஐ✿◕‿◕✿",
         "Mens Fashion Blog,Look Fashion,Autumn Fashion,Fashion News,Fashion Sale,80s Fashion,Paris Fashion,Runway Fashion,Fashion Trends",
         "image",
         "https://i.pinimg.com/originals/e7/6e/8e/e76e8ed6cc838b84a934c6948a5caff7.jpg",
         " /data/mens-fashion",
         "mens-fashion"
        ],
        [
         8887,
         "5df9f6e5-07f5-4ce8-a82e-96586bbc05d8",
         "25 Ultra Sexy Back Tattoo Ideas For Girls",
         "Tattoos are one of the most efficient ways through which one decides to express themselves…",
         "4000",
         "RapidLeaks",
         "Dream Tattoos,Body Art Tattoos,New Tattoos,Small Tattoos,Cross Tattoos,Random Tattoos,Fashion Tattoos,Bird Tattoos,Fitness Tattoos",
         "image",
         "https://i.pinimg.com/originals/ab/8e/50/ab8e505b04d4abc8f23e273c15f8a65d.jpg",
         " /data/tattoos",
         "tattoos"
        ],
        [
         10509,
         "6a5f0e7e-1389-4e54-942f-4cb69f09f140",
         "Flying Car",
         null,
         "89000",
         "TheSuperBOO!",
         "Electric Off Road Vehicle,Cool Illusions,Flying Vehicles,Wow Video,Art And Craft Videos,Top Luxury Cars,Chevy Muscle Cars,Street Racing Cars,Funny Videos Clean",
         "multi-video(story page format)",
         "https://i.pinimg.com/videos/thumbnails/originals/4a/d4/96/4ad4961606179854f1141a90f50f002c.0000001.jpg",
         " /data/vehicles",
         "vehicles"
        ],
        [
         1313,
         "44662045-e891-4821-8a19-ebe7eedd371a",
         "Liquid Lash Extensions Mascara",
         "Instantly create the look of lash extensions with this award-winning, best-selling mascara that won't clump, flake or smudge. Available in 3 shades!",
         "43000",
         "Thrive Causemetics",
         null,
         "video",
         "https://i.pinimg.com/videos/thumbnails/originals/69/84/e2/6984e20f3e262098fa9c0614c3453254.0000001.jpg",
         " /data/beauty",
         "beauty"
        ],
        [
         10625,
         "d31885b7-742a-4e2a-bbb7-ac5f9d334340",
         "Jaguar Type E",
         "1937 Jaguar SS100 - 2 1/2 Litre Roadster, one of the most sought after pre-war sports cars",
         "8000",
         "hobbyDB",
         "Jaguar Type E,Jaguar Xk,Jaguar Cars,Jaguar Roadster,Jaguar Sport,Retro Cars,Vintage Cars,Antique Cars,British Sports Cars",
         "image",
         "https://i.pinimg.com/originals/26/81/a7/2681a71bd0c8f7fd0ab79c455338a49a.jpg",
         " /data/vehicles",
         "vehicles"
        ],
        [
         4988,
         "fbdfd355-a356-46c2-a251-301869ae2674",
         "Fun Book Page Crafts - MomAdvice",
         "Fun Book Page Crafts - MomAdvice",
         "112000",
         "MomAdvice",
         "Harry Potter Wedding,Harry Potter Theme,Wedding Book,Wedding Table,Wedding Ideas,Wedding Vintage,Garden Wedding,Vintage Party,Wedding Paper",
         "image",
         "https://i.pinimg.com/originals/17/55/87/175587b334e71c12300453b8b4b4c6aa.jpg",
         " /data/event-planning",
         "event-planning"
        ],
        [
         9590,
         "b849e976-52f6-45d7-8b25-51559318f167",
         "Top 20 Things To See And Do In Ireland",
         "Best spots to see for travel through Ireland!",
         "130000",
         "Fun Life Crisis",
         "Vacation Ideas,Vacation Spots,Emerald Isle,London England,Travel Guides,Travel Tips,Travel Hacks,Travel Packing,Places To Travel",
         "image",
         "https://i.pinimg.com/originals/c7/50/d3/c750d36524856873d64406652d69b4fb.png",
         " /data/travel",
         "travel"
        ],
        [
         6844,
         "69c3f268-274f-44bd-9cb4-427e64fefc44",
         "♔the-fashman♔",
         "billy-george: “Summer styles ”",
         "377",
         "Au'vey Smith",
         "Fashion Week Hommes,La Fashion Week,Fashion Moda,Urban Fashion,Trendy Fashion,Fashion Spring,Fashion 2017,New Mens Fashion,Trendy Clothing",
         "image",
         "https://i.pinimg.com/originals/3c/8c/53/3c8c534cd02334c50047bd3a4feccce9.jpg",
         " /data/mens-fashion",
         "mens-fashion"
        ],
        [
         1014,
         "9ac94307-bb27-410e-b554-0a0ab6c19847",
         "Hairstyles & Beauty",
         "Untitled",
         "0",
         "Grecia Perales",
         "Hair Inspo,Hair Inspiration,Motivation Inspiration,Cl Rapper,Foto Glamour,Kreative Portraits,Classy Aesthetic,Pretty Hairstyles,Hair Looks",
         "image",
         "https://i.pinimg.com/originals/af/c4/59/afc459bd6e1fd8f9aef212504afebf3a.jpg",
         " /data/beauty",
         "beauty"
        ],
        [
         10794,
         "c4bd2577-a7bb-4409-bb7a-17d5ed7e1cf1",
         "TireBuyer",
         "Nissan GT-R. Sick.",
         "437",
         "Ray Uyemura",
         "Lowrider,Old Vintage Cars,Antique Cars,Austin Martin,Nissan Gtr Black,Jaguar,1959 Cadillac,Cadillac Ct6,Old School Cars",
         "image",
         "https://i.pinimg.com/originals/0d/29/9f/0d299f3df020395aa7ce8387f40fbeed.jpg",
         " /data/vehicles",
         "vehicles"
        ],
        [
         1094,
         "6deacdcd-75ed-4dd8-8951-9b77453f38e0",
         "9 colors lazy lipstick - 9 colors lazy lipstick4",
         "9 colors lazy lipstick",
         "8000",
         "Jiew82633",
         "Nail Inspo,Lazy,Lipstick,How To Apply,Makeup,Colors,Products,Make Up,Lipsticks",
         "image",
         "https://i.pinimg.com/originals/25/cf/8c/25cf8cb74b43ab95591342c2bbe4ecd8.jpg",
         " /data/beauty",
         "beauty"
        ],
        [
         3089,
         "88f9227e-88d0-4b1c-b0be-bcfc3028b8e2",
         null,
         null,
         null,
         null,
         null,
         "multi-video(story page format)",
         null,
         " /data/diy-and-crafts",
         "diy-and-crafts"
        ],
        [
         7528,
         "fbe53c66-3442-4773-b19e-d3ec6f54dddf",
         null,
         null,
         null,
         null,
         null,
         "multi-video(story page format)",
         null,
         " /data/mens-fashion",
         "mens-fashion"
        ],
        [
         7528,
         "fbe53c66-3442-4773-b19e-d3ec6f54dddf",
         null,
         null,
         null,
         null,
         null,
         "multi-video(story page format)",
         null,
         " /data/mens-fashion",
         "mens-fashion"
        ],
        [
         7528,
         "fbe53c66-3442-4773-b19e-d3ec6f54dddf",
         null,
         null,
         null,
         null,
         null,
         "multi-video(story page format)",
         null,
         " /data/mens-fashion",
         "mens-fashion"
        ],
        [
         7528,
         "fbe53c66-3442-4773-b19e-d3ec6f54dddf",
         null,
         null,
         null,
         null,
         null,
         "multi-video(story page format)",
         null,
         " /data/mens-fashion",
         "mens-fashion"
        ],
        [
         7528,
         "fbe53c66-3442-4773-b19e-d3ec6f54dddf",
         null,
         null,
         null,
         null,
         null,
         "multi-video(story page format)",
         null,
         " /data/mens-fashion",
         "mens-fashion"
        ]
       ],
       "datasetInfos": [],
       "dbfsResultPath": null,
       "isJsonSchema": true,
       "metadata": {},
       "overflow": false,
       "plotOptions": {
        "customPlotOptions": {},
        "displayType": "table",
        "pivotAggregation": null,
        "pivotColumns": null,
        "xColumns": null,
        "yColumns": null
       },
       "removedWidgets": [],
       "schema": [
        {
         "metadata": "{}",
         "name": "ind",
         "type": "\"integer\""
        },
        {
         "metadata": "{}",
         "name": "unique_id",
         "type": "\"string\""
        },
        {
         "metadata": "{}",
         "name": "title",
         "type": "\"string\""
        },
        {
         "metadata": "{}",
         "name": "description",
         "type": "\"string\""
        },
        {
         "metadata": "{}",
         "name": "follower_count",
         "type": "\"string\""
        },
        {
         "metadata": "{}",
         "name": "poster_name",
         "type": "\"string\""
        },
        {
         "metadata": "{}",
         "name": "tag_list",
         "type": "\"string\""
        },
        {
         "metadata": "{}",
         "name": "is_image_or_video",
         "type": "\"string\""
        },
        {
         "metadata": "{}",
         "name": "image_src",
         "type": "\"string\""
        },
        {
         "metadata": "{}",
         "name": "save_location",
         "type": "\"string\""
        },
        {
         "metadata": "{}",
         "name": "category",
         "type": "\"string\""
        }
       ],
       "type": "table"
      }
     },
     "output_type": "display_data"
    }
   ],
   "source": [
    "cleaned_pin = clean_data(df_pin)\n",
    "display(cleaned_pin)"
   ]
  },
  {
   "cell_type": "code",
   "execution_count": 0,
   "metadata": {
    "application/vnd.databricks.v1+cell": {
     "cellMetadata": {
      "byteLimit": 2048000,
      "rowLimit": 10000
     },
     "inputWidgets": {},
     "nuid": "eac3b5c7-769c-4e76-a3d4-e5659c66b829",
     "showTitle": false,
     "tableResultSettingsMap": {},
     "title": ""
    }
   },
   "outputs": [
    {
     "output_type": "stream",
     "name": "stdout",
     "output_type": "stream",
     "text": [
      "root\n |-- ind: integer (nullable = true)\n |-- unique_id: string (nullable = true)\n |-- title: string (nullable = true)\n |-- description: string (nullable = true)\n |-- follower_count: string (nullable = true)\n |-- poster_name: string (nullable = true)\n |-- tag_list: string (nullable = true)\n |-- is_image_or_video: string (nullable = true)\n |-- image_src: string (nullable = true)\n |-- save_location: string (nullable = true)\n |-- category: string (nullable = true)\n\n"
     ]
    }
   ],
   "source": [
    "cleaned_pin.printSchema()"
   ]
  },
  {
   "cell_type": "code",
   "execution_count": 0,
   "metadata": {
    "application/vnd.databricks.v1+cell": {
     "cellMetadata": {
      "byteLimit": 2048000,
      "rowLimit": 10000
     },
     "inputWidgets": {},
     "nuid": "0972f134-1f10-468e-be3a-4f3438f1985c",
     "showTitle": false,
     "tableResultSettingsMap": {},
     "title": ""
    }
   },
   "outputs": [],
   "source": [
    "from pyspark.sql.functions import array, col, to_timestamp\n",
    "\n",
    "def cleaned_geo(df_geo):\n",
    "    clean_df = df_geo.withColumn('coordinates', array(col('longitude'), col('latitude')))\n",
    "    clean_df = clean_df.drop('longitude', 'latitude')\n",
    "\n",
    "    clean_df = clean_df.withColumn('timestamp', to_timestamp(col('timestamp')))\n",
    "    clean_df = clean_df.select('ind', 'country', 'coordinates', 'timestamp')\n",
    "\n",
    "    return clean_df"
   ]
  },
  {
   "cell_type": "code",
   "execution_count": 0,
   "metadata": {
    "application/vnd.databricks.v1+cell": {
     "cellMetadata": {
      "byteLimit": 2048000,
      "rowLimit": 10000
     },
     "inputWidgets": {},
     "nuid": "45892332-948a-40fd-a749-3ee615324b9d",
     "showTitle": false,
     "tableResultSettingsMap": {},
     "title": ""
    }
   },
   "outputs": [
    {
     "output_type": "display_data",
     "data": {
      "text/html": [
       "<style scoped>\n",
       "  .table-result-container {\n",
       "    max-height: 300px;\n",
       "    overflow: auto;\n",
       "  }\n",
       "  table, th, td {\n",
       "    border: 1px solid black;\n",
       "    border-collapse: collapse;\n",
       "  }\n",
       "  th, td {\n",
       "    padding: 5px;\n",
       "  }\n",
       "  th {\n",
       "    text-align: left;\n",
       "  }\n",
       "</style><div class='table-result-container'><table class='table-result'><thead style='background-color: white'><tr><th>ind</th><th>country</th><th>coordinates</th><th>timestamp</th></tr></thead><tbody><tr><td>2418</td><td>Antarctica (the territory South of 60 deg S)</td><td>List(-171.061, -88.4642)</td><td>2022-05-27T11:30:59Z</td></tr><tr><td>10794</td><td>Cocos (Keeling) Islands</td><td>List(-154.567, -89.5236)</td><td>2022-01-01T02:26:50Z</td></tr><tr><td>2074</td><td>Central African Republic</td><td>List(-50.11, -52.3213)</td><td>2019-11-03T05:41:59Z</td></tr><tr><td>2293</td><td>British Virgin Islands</td><td>List(-159.647, -87.7946)</td><td>2022-03-21T10:46:53Z</td></tr><tr><td>10663</td><td>Saint Kitts and Nevis</td><td>List(-162.83, -27.3474)</td><td>2019-07-25T18:53:51Z</td></tr><tr><td>7922</td><td>Antigua and Barbuda</td><td>List(-172.052, -88.0974)</td><td>2021-01-27T09:14:19Z</td></tr><tr><td>8606</td><td>Antigua and Barbuda</td><td>List(-172.052, -88.0974)</td><td>2021-03-28T14:54:07Z</td></tr><tr><td>2604</td><td>Antigua and Barbuda</td><td>List(-104.972, -80.8933)</td><td>2018-12-01T09:23:35Z</td></tr><tr><td>603</td><td>Netherlands Antilles</td><td>List(-141.603, 14.0083)</td><td>2019-06-25T05:13:01Z</td></tr><tr><td>9979</td><td>Dominican Republic</td><td>List(-120.682, 14.9967)</td><td>2018-07-18T19:01:46Z</td></tr><tr><td>10119</td><td>Christmas Island</td><td>List(-162.795, -74.5431)</td><td>2020-10-22T01:59:58Z</td></tr><tr><td>1704</td><td>Christmas Island</td><td>List(-93.6232, -56.8702)</td><td>2018-11-29T04:46:39Z</td></tr><tr><td>7790</td><td>Papua New Guinea</td><td>List(64.9839, -43.692)</td><td>2018-07-31T08:19:15Z</td></tr><tr><td>9759</td><td>American Samoa</td><td>List(-106.258, -77.9744)</td><td>2017-12-30T13:05:49Z</td></tr><tr><td>1422</td><td>American Samoa</td><td>List(-172.436, -88.5252)</td><td>2018-04-30T08:27:21Z</td></tr><tr><td>8312</td><td>American Samoa</td><td>List(-106.258, -77.9744)</td><td>2021-04-25T15:56:29Z</td></tr><tr><td>2923</td><td>Cote d'Ivoire</td><td>List(-164.507, -84.6302)</td><td>2019-09-08T22:53:09Z</td></tr><tr><td>8304</td><td>French Guiana</td><td>List(-164.87, -28.8852)</td><td>2019-09-13T04:50:29Z</td></tr><tr><td>8304</td><td>French Guiana</td><td>List(-164.87, -28.8852)</td><td>2019-09-13T04:50:29Z</td></tr><tr><td>4315</td><td>Cote d'Ivoire</td><td>List(66.1003, -45.8508)</td><td>2019-12-15T03:51:28Z</td></tr><tr><td>8578</td><td>Guinea-Bissau</td><td>List(-161.397, 34.6427)</td><td>2018-01-26T19:27:11Z</td></tr><tr><td>6844</td><td>New Caledonia</td><td>List(5.69245, -22.6915)</td><td>2021-06-06T21:53:11Z</td></tr><tr><td>3599</td><td>Afghanistan</td><td>List(-174.971, -88.5478)</td><td>2019-03-03T06:13:41Z</td></tr><tr><td>5069</td><td>Azerbaijan</td><td>List(-157.474, -63.0063)</td><td>2021-03-20T09:32:44Z</td></tr><tr><td>6145</td><td>Mozambique</td><td>List(-143.845, -65.9079)</td><td>2019-12-05T02:09:44Z</td></tr><tr><td>4508</td><td>Philippines</td><td>List(-76.0761, 69.1858)</td><td>2019-01-04T11:15:27Z</td></tr><tr><td>4988</td><td>Madagascar</td><td>List(-35.2784, -32.1879)</td><td>2020-07-11T11:01:12Z</td></tr><tr><td>427</td><td>Isle of Man</td><td>List(-30.0087, -66.9418)</td><td>2020-04-22T03:08:50Z</td></tr><tr><td>428</td><td>Bangladesh</td><td>List(-150.788, -83.4105)</td><td>2020-09-27T18:46:41Z</td></tr><tr><td>7343</td><td>Australia</td><td>List(-161.684, -65.4428)</td><td>2018-08-06T12:17:07Z</td></tr><tr><td>8653</td><td>Seychelles</td><td>List(-139.658, 48.4569)</td><td>2022-04-11T18:30:19Z</td></tr><tr><td>5468</td><td>Isle of Man</td><td>List(33.9473, -83.544)</td><td>2020-05-16T23:17:50Z</td></tr><tr><td>8930</td><td>Argentina</td><td>List(-176.154, -89.4739)</td><td>2021-09-29T13:25:49Z</td></tr><tr><td>7294</td><td>Australia</td><td>List(-136.501, -76.2967)</td><td>2018-02-12T08:06:28Z</td></tr><tr><td>771</td><td>Montserrat</td><td>List(-107.111, -29.1712)</td><td>2018-06-21T08:42:57Z</td></tr><tr><td>4076</td><td>Mauritania</td><td>List(27.8139, -67.2157)</td><td>2019-06-07T20:13:50Z</td></tr><tr><td>10509</td><td>Gibraltar</td><td>List(-24.2977, -67.187)</td><td>2019-03-06T12:21:56Z</td></tr><tr><td>9936</td><td>Australia</td><td>List(-147.691, -82.1715)</td><td>2018-06-30T22:07:13Z</td></tr><tr><td>6566</td><td>Cape Verde</td><td>List(-71.6593, -39.225)</td><td>2020-11-19T10:06:13Z</td></tr><tr><td>223</td><td>Isle of Man</td><td>List(-118.397, 1.15509)</td><td>2018-12-07T07:30:40Z</td></tr><tr><td>5494</td><td>Bulgaria</td><td>List(-129.202, -82.6768)</td><td>2021-07-21T02:02:35Z</td></tr><tr><td>6063</td><td>Anguilla</td><td>List(-174.015, -89.1797)</td><td>2021-07-20T09:02:47Z</td></tr><tr><td>3454</td><td>Cambodia</td><td>List(49.8106, -0.375174)</td><td>2021-07-25T02:20:29Z</td></tr><tr><td>10625</td><td>Jamaica</td><td>List(-81.0613, -84.4944)</td><td>2018-07-13T11:51:15Z</td></tr><tr><td>9875</td><td>Barbados</td><td>List(-110.484, -74.3382)</td><td>2020-03-20T13:03:18Z</td></tr><tr><td>8887</td><td>Botswana</td><td>List(-160.708, -28.0137)</td><td>2021-09-19T05:27:43Z</td></tr><tr><td>4137</td><td>Australia</td><td>List(108.918, -55.3079)</td><td>2019-06-23T22:16:34Z</td></tr><tr><td>1268</td><td>Argentina</td><td>List(-177.23, -41.7803)</td><td>2019-07-06T04:10:29Z</td></tr><tr><td>5309</td><td>Maldives</td><td>List(-84.2493, -89.4194)</td><td>2020-05-04T22:00:32Z</td></tr><tr><td>7528</td><td>Albania</td><td>List(-173.293, -89.9787)</td><td>2020-08-28T03:52:47Z</td></tr><tr><td>2863</td><td>Armenia</td><td>List(-177.924, -5.34445)</td><td>2020-04-27T13:34:16Z</td></tr><tr><td>5730</td><td>Colombia</td><td>List(-101.437, -77.015)</td><td>2021-04-19T17:37:03Z</td></tr><tr><td>7528</td><td>Albania</td><td>List(-173.293, -89.9787)</td><td>2020-08-28T03:52:47Z</td></tr><tr><td>2863</td><td>Armenia</td><td>List(-177.924, -5.34445)</td><td>2020-04-27T13:34:16Z</td></tr><tr><td>5730</td><td>Colombia</td><td>List(-101.437, -77.015)</td><td>2021-04-19T17:37:03Z</td></tr><tr><td>3089</td><td>Albania</td><td>List(-173.293, -89.9787)</td><td>2018-02-28T05:31:29Z</td></tr><tr><td>10138</td><td>Austria</td><td>List(-74.3545, -72.142)</td><td>2019-08-03T00:59:29Z</td></tr><tr><td>9546</td><td>Austria</td><td>List(-155.428, -70.0295)</td><td>2018-02-10T06:16:40Z</td></tr><tr><td>2411</td><td>Albania</td><td>List(-179.126, -71.6856)</td><td>2020-11-15T17:10:07Z</td></tr><tr><td>9590</td><td>Algeria</td><td>List(-174.281, -64.3876)</td><td>2019-05-20T19:48:48Z</td></tr><tr><td>5076</td><td>Germany</td><td>List(-91.1935, -70.7195)</td><td>2019-05-05T16:22:23Z</td></tr><tr><td>205</td><td>Barbados</td><td>List(-163.945, -75.8378)</td><td>2020-07-08T14:10:38Z</td></tr><tr><td>1094</td><td>Armenia</td><td>List(-124.445, -46.7328)</td><td>2018-08-19T00:34:20Z</td></tr><tr><td>5630</td><td>Bahrain</td><td>List(-164.987, -19.1403)</td><td>2019-05-12T14:43:19Z</td></tr><tr><td>6398</td><td>Albania</td><td>List(-179.726, -3.29267)</td><td>2020-01-19T01:49:05Z</td></tr><tr><td>46</td><td>Afghanistan</td><td>List(-145.82, 4.21689)</td><td>2018-09-15T09:16:57Z</td></tr><tr><td>10552</td><td>Grenada</td><td>List(-179.812, 32.7568)</td><td>2020-08-24T11:39:32Z</td></tr><tr><td>1371</td><td>Andorra</td><td>List(-134.271, -89.4584)</td><td>2018-08-08T04:41:17Z</td></tr><tr><td>9074</td><td>Andorra</td><td>List(-179.087, -84.7363)</td><td>2022-04-10T17:06:13Z</td></tr><tr><td>1313</td><td>Maldives</td><td>List(61.9119, 77.0447)</td><td>2018-06-26T02:39:25Z</td></tr><tr><td>2959</td><td>Angola</td><td>List(-157.227, -68.0095)</td><td>2019-08-19T08:22:02Z</td></tr><tr><td>3156</td><td>Armenia</td><td>List(-160.795, -84.738)</td><td>2018-01-13T19:33:49Z</td></tr><tr><td>719</td><td>Armenia</td><td>List(-154.323, -38.4062)</td><td>2018-10-29T04:05:12Z</td></tr><tr><td>2482</td><td>Bermuda</td><td>List(-164.709, 63.4563)</td><td>2019-09-13T08:20:13Z</td></tr><tr><td>808</td><td>Albania</td><td>List(-179.126, -71.6856)</td><td>2019-01-03T15:43:12Z</td></tr><tr><td>1545</td><td>Anguilla</td><td>List(-72.3784, -30.18)</td><td>2022-06-17T05:47:12Z</td></tr><tr><td>2015</td><td>Armenia</td><td>List(-177.685, -17.629)</td><td>2018-09-22T13:52:19Z</td></tr><tr><td>7768</td><td>Algeria</td><td>List(-96.0131, -88.355)</td><td>2018-05-25T21:34:19Z</td></tr><tr><td>3729</td><td>Turkey</td><td>List(-150.145, -24.4793)</td><td>2018-01-17T03:43:38Z</td></tr><tr><td>159</td><td>Andorra</td><td>List(-166.603, -88.0812)</td><td>2017-11-20T21:14:56Z</td></tr><tr><td>7554</td><td>Sudan</td><td>List(-77.9768, -51.2172)</td><td>2019-03-20T03:15:07Z</td></tr><tr><td>4913</td><td>Aruba</td><td>List(-157.544, -84.3768)</td><td>2019-03-08T06:45:39Z</td></tr><tr><td>7166</td><td>Aruba</td><td>List(-136.657, -86.4063)</td><td>2022-07-25T03:07:37Z</td></tr><tr><td>3419</td><td>Bhutan</td><td>List(-108.979, 7.60293)</td><td>2021-12-20T05:01:54Z</td></tr><tr><td>1555</td><td>Algeria</td><td>List(-55.332, -1.7046)</td><td>2017-12-24T18:41:23Z</td></tr><tr><td>552</td><td>Lesotho</td><td>List(31.9601, -80.6043)</td><td>2022-03-14T05:12:07Z</td></tr><tr><td>8731</td><td>Aruba</td><td>List(-171.302, -83.104)</td><td>2020-07-17T04:39:09Z</td></tr><tr><td>9672</td><td>India</td><td>List(-69.4133, 79.4658)</td><td>2019-11-03T13:15:52Z</td></tr><tr><td>831</td><td>Congo</td><td>List(-66.1592, -43.7816)</td><td>2021-06-23T23:16:10Z</td></tr><tr><td>3800</td><td>Aruba</td><td>List(-154.912, -61.471)</td><td>2018-01-27T16:49:07Z</td></tr><tr><td>1014</td><td>Tonga</td><td>List(69.3538, 81.1477)</td><td>2022-02-03T22:05:34Z</td></tr><tr><td>2698</td><td>Egypt</td><td>List(24.169, -72.7174)</td><td>2021-11-24T08:33:51Z</td></tr></tbody></table></div>"
      ]
     },
     "metadata": {
      "application/vnd.databricks.v1+output": {
       "addedWidgets": {},
       "aggData": [],
       "aggError": "",
       "aggOverflow": false,
       "aggSchema": [],
       "aggSeriesLimitReached": false,
       "aggType": "",
       "arguments": {},
       "columnCustomDisplayInfos": {},
       "data": [
        [
         2418,
         "Antarctica (the territory South of 60 deg S)",
         [
          -171.061,
          -88.4642
         ],
         "2022-05-27T11:30:59Z"
        ],
        [
         10794,
         "Cocos (Keeling) Islands",
         [
          -154.567,
          -89.5236
         ],
         "2022-01-01T02:26:50Z"
        ],
        [
         2074,
         "Central African Republic",
         [
          -50.11,
          -52.3213
         ],
         "2019-11-03T05:41:59Z"
        ],
        [
         2293,
         "British Virgin Islands",
         [
          -159.647,
          -87.7946
         ],
         "2022-03-21T10:46:53Z"
        ],
        [
         10663,
         "Saint Kitts and Nevis",
         [
          -162.83,
          -27.3474
         ],
         "2019-07-25T18:53:51Z"
        ],
        [
         7922,
         "Antigua and Barbuda",
         [
          -172.052,
          -88.0974
         ],
         "2021-01-27T09:14:19Z"
        ],
        [
         8606,
         "Antigua and Barbuda",
         [
          -172.052,
          -88.0974
         ],
         "2021-03-28T14:54:07Z"
        ],
        [
         2604,
         "Antigua and Barbuda",
         [
          -104.972,
          -80.8933
         ],
         "2018-12-01T09:23:35Z"
        ],
        [
         603,
         "Netherlands Antilles",
         [
          -141.603,
          14.0083
         ],
         "2019-06-25T05:13:01Z"
        ],
        [
         9979,
         "Dominican Republic",
         [
          -120.682,
          14.9967
         ],
         "2018-07-18T19:01:46Z"
        ],
        [
         10119,
         "Christmas Island",
         [
          -162.795,
          -74.5431
         ],
         "2020-10-22T01:59:58Z"
        ],
        [
         1704,
         "Christmas Island",
         [
          -93.6232,
          -56.8702
         ],
         "2018-11-29T04:46:39Z"
        ],
        [
         7790,
         "Papua New Guinea",
         [
          64.9839,
          -43.692
         ],
         "2018-07-31T08:19:15Z"
        ],
        [
         9759,
         "American Samoa",
         [
          -106.258,
          -77.9744
         ],
         "2017-12-30T13:05:49Z"
        ],
        [
         1422,
         "American Samoa",
         [
          -172.436,
          -88.5252
         ],
         "2018-04-30T08:27:21Z"
        ],
        [
         8312,
         "American Samoa",
         [
          -106.258,
          -77.9744
         ],
         "2021-04-25T15:56:29Z"
        ],
        [
         2923,
         "Cote d'Ivoire",
         [
          -164.507,
          -84.6302
         ],
         "2019-09-08T22:53:09Z"
        ],
        [
         8304,
         "French Guiana",
         [
          -164.87,
          -28.8852
         ],
         "2019-09-13T04:50:29Z"
        ],
        [
         8304,
         "French Guiana",
         [
          -164.87,
          -28.8852
         ],
         "2019-09-13T04:50:29Z"
        ],
        [
         4315,
         "Cote d'Ivoire",
         [
          66.1003,
          -45.8508
         ],
         "2019-12-15T03:51:28Z"
        ],
        [
         8578,
         "Guinea-Bissau",
         [
          -161.397,
          34.6427
         ],
         "2018-01-26T19:27:11Z"
        ],
        [
         6844,
         "New Caledonia",
         [
          5.69245,
          -22.6915
         ],
         "2021-06-06T21:53:11Z"
        ],
        [
         3599,
         "Afghanistan",
         [
          -174.971,
          -88.5478
         ],
         "2019-03-03T06:13:41Z"
        ],
        [
         5069,
         "Azerbaijan",
         [
          -157.474,
          -63.0063
         ],
         "2021-03-20T09:32:44Z"
        ],
        [
         6145,
         "Mozambique",
         [
          -143.845,
          -65.9079
         ],
         "2019-12-05T02:09:44Z"
        ],
        [
         4508,
         "Philippines",
         [
          -76.0761,
          69.1858
         ],
         "2019-01-04T11:15:27Z"
        ],
        [
         4988,
         "Madagascar",
         [
          -35.2784,
          -32.1879
         ],
         "2020-07-11T11:01:12Z"
        ],
        [
         427,
         "Isle of Man",
         [
          -30.0087,
          -66.9418
         ],
         "2020-04-22T03:08:50Z"
        ],
        [
         428,
         "Bangladesh",
         [
          -150.788,
          -83.4105
         ],
         "2020-09-27T18:46:41Z"
        ],
        [
         7343,
         "Australia",
         [
          -161.684,
          -65.4428
         ],
         "2018-08-06T12:17:07Z"
        ],
        [
         8653,
         "Seychelles",
         [
          -139.658,
          48.4569
         ],
         "2022-04-11T18:30:19Z"
        ],
        [
         5468,
         "Isle of Man",
         [
          33.9473,
          -83.544
         ],
         "2020-05-16T23:17:50Z"
        ],
        [
         8930,
         "Argentina",
         [
          -176.154,
          -89.4739
         ],
         "2021-09-29T13:25:49Z"
        ],
        [
         7294,
         "Australia",
         [
          -136.501,
          -76.2967
         ],
         "2018-02-12T08:06:28Z"
        ],
        [
         771,
         "Montserrat",
         [
          -107.111,
          -29.1712
         ],
         "2018-06-21T08:42:57Z"
        ],
        [
         4076,
         "Mauritania",
         [
          27.8139,
          -67.2157
         ],
         "2019-06-07T20:13:50Z"
        ],
        [
         10509,
         "Gibraltar",
         [
          -24.2977,
          -67.187
         ],
         "2019-03-06T12:21:56Z"
        ],
        [
         9936,
         "Australia",
         [
          -147.691,
          -82.1715
         ],
         "2018-06-30T22:07:13Z"
        ],
        [
         6566,
         "Cape Verde",
         [
          -71.6593,
          -39.225
         ],
         "2020-11-19T10:06:13Z"
        ],
        [
         223,
         "Isle of Man",
         [
          -118.397,
          1.15509
         ],
         "2018-12-07T07:30:40Z"
        ],
        [
         5494,
         "Bulgaria",
         [
          -129.202,
          -82.6768
         ],
         "2021-07-21T02:02:35Z"
        ],
        [
         6063,
         "Anguilla",
         [
          -174.015,
          -89.1797
         ],
         "2021-07-20T09:02:47Z"
        ],
        [
         3454,
         "Cambodia",
         [
          49.8106,
          -0.375174
         ],
         "2021-07-25T02:20:29Z"
        ],
        [
         10625,
         "Jamaica",
         [
          -81.0613,
          -84.4944
         ],
         "2018-07-13T11:51:15Z"
        ],
        [
         9875,
         "Barbados",
         [
          -110.484,
          -74.3382
         ],
         "2020-03-20T13:03:18Z"
        ],
        [
         8887,
         "Botswana",
         [
          -160.708,
          -28.0137
         ],
         "2021-09-19T05:27:43Z"
        ],
        [
         4137,
         "Australia",
         [
          108.918,
          -55.3079
         ],
         "2019-06-23T22:16:34Z"
        ],
        [
         1268,
         "Argentina",
         [
          -177.23,
          -41.7803
         ],
         "2019-07-06T04:10:29Z"
        ],
        [
         5309,
         "Maldives",
         [
          -84.2493,
          -89.4194
         ],
         "2020-05-04T22:00:32Z"
        ],
        [
         7528,
         "Albania",
         [
          -173.293,
          -89.9787
         ],
         "2020-08-28T03:52:47Z"
        ],
        [
         2863,
         "Armenia",
         [
          -177.924,
          -5.34445
         ],
         "2020-04-27T13:34:16Z"
        ],
        [
         5730,
         "Colombia",
         [
          -101.437,
          -77.015
         ],
         "2021-04-19T17:37:03Z"
        ],
        [
         7528,
         "Albania",
         [
          -173.293,
          -89.9787
         ],
         "2020-08-28T03:52:47Z"
        ],
        [
         2863,
         "Armenia",
         [
          -177.924,
          -5.34445
         ],
         "2020-04-27T13:34:16Z"
        ],
        [
         5730,
         "Colombia",
         [
          -101.437,
          -77.015
         ],
         "2021-04-19T17:37:03Z"
        ],
        [
         3089,
         "Albania",
         [
          -173.293,
          -89.9787
         ],
         "2018-02-28T05:31:29Z"
        ],
        [
         10138,
         "Austria",
         [
          -74.3545,
          -72.142
         ],
         "2019-08-03T00:59:29Z"
        ],
        [
         9546,
         "Austria",
         [
          -155.428,
          -70.0295
         ],
         "2018-02-10T06:16:40Z"
        ],
        [
         2411,
         "Albania",
         [
          -179.126,
          -71.6856
         ],
         "2020-11-15T17:10:07Z"
        ],
        [
         9590,
         "Algeria",
         [
          -174.281,
          -64.3876
         ],
         "2019-05-20T19:48:48Z"
        ],
        [
         5076,
         "Germany",
         [
          -91.1935,
          -70.7195
         ],
         "2019-05-05T16:22:23Z"
        ],
        [
         205,
         "Barbados",
         [
          -163.945,
          -75.8378
         ],
         "2020-07-08T14:10:38Z"
        ],
        [
         1094,
         "Armenia",
         [
          -124.445,
          -46.7328
         ],
         "2018-08-19T00:34:20Z"
        ],
        [
         5630,
         "Bahrain",
         [
          -164.987,
          -19.1403
         ],
         "2019-05-12T14:43:19Z"
        ],
        [
         6398,
         "Albania",
         [
          -179.726,
          -3.29267
         ],
         "2020-01-19T01:49:05Z"
        ],
        [
         46,
         "Afghanistan",
         [
          -145.82,
          4.21689
         ],
         "2018-09-15T09:16:57Z"
        ],
        [
         10552,
         "Grenada",
         [
          -179.812,
          32.7568
         ],
         "2020-08-24T11:39:32Z"
        ],
        [
         1371,
         "Andorra",
         [
          -134.271,
          -89.4584
         ],
         "2018-08-08T04:41:17Z"
        ],
        [
         9074,
         "Andorra",
         [
          -179.087,
          -84.7363
         ],
         "2022-04-10T17:06:13Z"
        ],
        [
         1313,
         "Maldives",
         [
          61.9119,
          77.0447
         ],
         "2018-06-26T02:39:25Z"
        ],
        [
         2959,
         "Angola",
         [
          -157.227,
          -68.0095
         ],
         "2019-08-19T08:22:02Z"
        ],
        [
         3156,
         "Armenia",
         [
          -160.795,
          -84.738
         ],
         "2018-01-13T19:33:49Z"
        ],
        [
         719,
         "Armenia",
         [
          -154.323,
          -38.4062
         ],
         "2018-10-29T04:05:12Z"
        ],
        [
         2482,
         "Bermuda",
         [
          -164.709,
          63.4563
         ],
         "2019-09-13T08:20:13Z"
        ],
        [
         808,
         "Albania",
         [
          -179.126,
          -71.6856
         ],
         "2019-01-03T15:43:12Z"
        ],
        [
         1545,
         "Anguilla",
         [
          -72.3784,
          -30.18
         ],
         "2022-06-17T05:47:12Z"
        ],
        [
         2015,
         "Armenia",
         [
          -177.685,
          -17.629
         ],
         "2018-09-22T13:52:19Z"
        ],
        [
         7768,
         "Algeria",
         [
          -96.0131,
          -88.355
         ],
         "2018-05-25T21:34:19Z"
        ],
        [
         3729,
         "Turkey",
         [
          -150.145,
          -24.4793
         ],
         "2018-01-17T03:43:38Z"
        ],
        [
         159,
         "Andorra",
         [
          -166.603,
          -88.0812
         ],
         "2017-11-20T21:14:56Z"
        ],
        [
         7554,
         "Sudan",
         [
          -77.9768,
          -51.2172
         ],
         "2019-03-20T03:15:07Z"
        ],
        [
         4913,
         "Aruba",
         [
          -157.544,
          -84.3768
         ],
         "2019-03-08T06:45:39Z"
        ],
        [
         7166,
         "Aruba",
         [
          -136.657,
          -86.4063
         ],
         "2022-07-25T03:07:37Z"
        ],
        [
         3419,
         "Bhutan",
         [
          -108.979,
          7.60293
         ],
         "2021-12-20T05:01:54Z"
        ],
        [
         1555,
         "Algeria",
         [
          -55.332,
          -1.7046
         ],
         "2017-12-24T18:41:23Z"
        ],
        [
         552,
         "Lesotho",
         [
          31.9601,
          -80.6043
         ],
         "2022-03-14T05:12:07Z"
        ],
        [
         8731,
         "Aruba",
         [
          -171.302,
          -83.104
         ],
         "2020-07-17T04:39:09Z"
        ],
        [
         9672,
         "India",
         [
          -69.4133,
          79.4658
         ],
         "2019-11-03T13:15:52Z"
        ],
        [
         831,
         "Congo",
         [
          -66.1592,
          -43.7816
         ],
         "2021-06-23T23:16:10Z"
        ],
        [
         3800,
         "Aruba",
         [
          -154.912,
          -61.471
         ],
         "2018-01-27T16:49:07Z"
        ],
        [
         1014,
         "Tonga",
         [
          69.3538,
          81.1477
         ],
         "2022-02-03T22:05:34Z"
        ],
        [
         2698,
         "Egypt",
         [
          24.169,
          -72.7174
         ],
         "2021-11-24T08:33:51Z"
        ]
       ],
       "datasetInfos": [],
       "dbfsResultPath": null,
       "isJsonSchema": true,
       "metadata": {},
       "overflow": false,
       "plotOptions": {
        "customPlotOptions": {},
        "displayType": "table",
        "pivotAggregation": null,
        "pivotColumns": null,
        "xColumns": null,
        "yColumns": null
       },
       "removedWidgets": [],
       "schema": [
        {
         "metadata": "{}",
         "name": "ind",
         "type": "\"long\""
        },
        {
         "metadata": "{}",
         "name": "country",
         "type": "\"string\""
        },
        {
         "metadata": "{}",
         "name": "coordinates",
         "type": "{\"type\":\"array\",\"elementType\":\"double\",\"containsNull\":true}"
        },
        {
         "metadata": "{}",
         "name": "timestamp",
         "type": "\"timestamp\""
        }
       ],
       "type": "table"
      }
     },
     "output_type": "display_data"
    }
   ],
   "source": [
    "cleaned_geo_df = cleaned_geo(df_geo)\n",
    "display(cleaned_geo_df)"
   ]
  },
  {
   "cell_type": "code",
   "execution_count": 0,
   "metadata": {
    "application/vnd.databricks.v1+cell": {
     "cellMetadata": {
      "byteLimit": 2048000,
      "rowLimit": 10000
     },
     "inputWidgets": {},
     "nuid": "e5634dd8-5348-4ad4-9687-9132646614e5",
     "showTitle": false,
     "tableResultSettingsMap": {},
     "title": ""
    }
   },
   "outputs": [
    {
     "output_type": "stream",
     "name": "stdout",
     "output_type": "stream",
     "text": [
      "root\n |-- ind: long (nullable = true)\n |-- country: string (nullable = true)\n |-- coordinates: array (nullable = false)\n |    |-- element: double (containsNull = true)\n |-- timestamp: timestamp (nullable = true)\n\n"
     ]
    }
   ],
   "source": [
    "cleaned_geo_df.printSchema()"
   ]
  },
  {
   "cell_type": "code",
   "execution_count": 0,
   "metadata": {
    "application/vnd.databricks.v1+cell": {
     "cellMetadata": {
      "byteLimit": 2048000,
      "rowLimit": 10000
     },
     "inputWidgets": {},
     "nuid": "19c30e88-2bd1-4c3d-b7ce-66950c1dd851",
     "showTitle": false,
     "tableResultSettingsMap": {},
     "title": ""
    }
   },
   "outputs": [],
   "source": [
    "from pyspark.sql.functions import concat\n",
    "\n",
    "def cleaned_user(df_user):\n",
    "    clean_user_df = df_user.withColumn('user_name', concat('first_name', 'last_name'))\n",
    "    clean_user_df = clean_user_df.drop('first_name', 'last_name')\n",
    "\n",
    "    clean_user_df = clean_user_df.withColumn('date_joined', to_timestamp(col('date_joined')))\n",
    "    clean_user_df = clean_user_df.select('ind' , 'user_name', 'age', 'date_joined')\n",
    "    return clean_user_df"
   ]
  },
  {
   "cell_type": "code",
   "execution_count": 0,
   "metadata": {
    "application/vnd.databricks.v1+cell": {
     "cellMetadata": {
      "byteLimit": 2048000,
      "rowLimit": 10000
     },
     "inputWidgets": {},
     "nuid": "34ec9c00-3ccd-4519-807e-8ef8ad6ba522",
     "showTitle": false,
     "tableResultSettingsMap": {},
     "title": ""
    }
   },
   "outputs": [
    {
     "output_type": "display_data",
     "data": {
      "text/html": [
       "<style scoped>\n",
       "  .table-result-container {\n",
       "    max-height: 300px;\n",
       "    overflow: auto;\n",
       "  }\n",
       "  table, th, td {\n",
       "    border: 1px solid black;\n",
       "    border-collapse: collapse;\n",
       "  }\n",
       "  th, td {\n",
       "    padding: 5px;\n",
       "  }\n",
       "  th {\n",
       "    text-align: left;\n",
       "  }\n",
       "</style><div class='table-result-container'><table class='table-result'><thead style='background-color: white'><tr><th>ind</th><th>user_name</th><th>age</th><th>date_joined</th></tr></thead><tbody><tr><td>2015</td><td>ChristopherBradshaw</td><td>27</td><td>2016-03-08T13:38:37Z</td></tr><tr><td>6398</td><td>ChristinaDavenport</td><td>39</td><td>2016-06-29T20:43:59Z</td></tr><tr><td>3599</td><td>AlexandriaAlvarado</td><td>20</td><td>2015-10-23T04:13:23Z</td></tr><tr><td>5076</td><td>ChristopherButler</td><td>20</td><td>2015-12-01T15:08:31Z</td></tr><tr><td>7790</td><td>MichelleGutierrez</td><td>39</td><td>2017-07-19T07:12:04Z</td></tr><tr><td>10509</td><td>BrittanyThompson</td><td>49</td><td>2016-04-22T20:36:02Z</td></tr><tr><td>10119</td><td>ChelseaGonzalez</td><td>43</td><td>2016-07-21T15:25:08Z</td></tr><tr><td>8731</td><td>AndreaAlexander</td><td>21</td><td>2015-11-10T09:27:42Z</td></tr><tr><td>8887</td><td>AustinRodriguez</td><td>24</td><td>2016-03-31T20:56:39Z</td></tr><tr><td>7768</td><td>ChristineCortez</td><td>23</td><td>2015-12-01T18:15:02Z</td></tr><tr><td>4315</td><td>MichellePrince</td><td>36</td><td>2015-12-20T16:38:13Z</td></tr><tr><td>10625</td><td>ChristianLang</td><td>32</td><td>2017-10-10T20:09:33Z</td></tr><tr><td>9672</td><td>JenniferHudson</td><td>22</td><td>2016-02-11T20:46:04Z</td></tr><tr><td>8930</td><td>AndrewAnderson</td><td>23</td><td>2015-11-28T11:52:37Z</td></tr><tr><td>6566</td><td>AlexanderPerez</td><td>31</td><td>2017-08-04T14:30:22Z</td></tr><tr><td>3729</td><td>RichardEdwards</td><td>52</td><td>2016-02-07T20:00:25Z</td></tr><tr><td>10552</td><td>MichaelHunter</td><td>40</td><td>2017-05-16T07:09:21Z</td></tr><tr><td>9074</td><td>AaronAlexander</td><td>21</td><td>2015-10-25T07:36:08Z</td></tr><tr><td>1313</td><td>BrittanyJones</td><td>32</td><td>2016-04-02T03:51:23Z</td></tr><tr><td>10794</td><td>ThomasTurner</td><td>34</td><td>2016-12-22T00:02:02Z</td></tr><tr><td>2959</td><td>DavidGriffith</td><td>20</td><td>2016-01-07T19:49:22Z</td></tr><tr><td>9875</td><td>BrendanJoseph</td><td>26</td><td>2015-12-20T10:28:00Z</td></tr><tr><td>2074</td><td>AnnetteForbes</td><td>21</td><td>2016-01-03T15:42:12Z</td></tr><tr><td>1014</td><td>GregoryRamsey</td><td>56</td><td>2016-10-15T17:21:39Z</td></tr><tr><td>4137</td><td>MichaelDecker</td><td>59</td><td>2017-06-29T22:35:17Z</td></tr><tr><td>2411</td><td>AaronBartlett</td><td>21</td><td>2015-11-24T02:15:36Z</td></tr><tr><td>4508</td><td>MichaelCarter</td><td>58</td><td>2016-06-03T23:35:30Z</td></tr><tr><td>771</td><td>BrittanyButler</td><td>32</td><td>2016-03-10T04:11:31Z</td></tr><tr><td>1545</td><td>JonathanAvila</td><td>46</td><td>2015-11-27T23:11:21Z</td></tr><tr><td>603</td><td>BrandonJackson</td><td>44</td><td>2016-10-29T02:07:21Z</td></tr><tr><td>5630</td><td>CarlosEstrada</td><td>22</td><td>2016-02-09T17:01:38Z</td></tr><tr><td>1268</td><td>DonnaCampbell</td><td>32</td><td>2016-06-08T22:10:13Z</td></tr><tr><td>1555</td><td>AlexisBennett</td><td>54</td><td>2016-05-15T04:22:01Z</td></tr><tr><td>3800</td><td>AdamArmstrong</td><td>20</td><td>2015-12-17T08:43:40Z</td></tr><tr><td>8304</td><td>CharlesBerry</td><td>25</td><td>2015-12-28T04:21:39Z</td></tr><tr><td>6063</td><td>CoreyAndrews</td><td>23</td><td>2015-11-25T13:36:22Z</td></tr><tr><td>3454</td><td>RobertMurphy</td><td>48</td><td>2017-09-26T16:31:56Z</td></tr><tr><td>7554</td><td>CherylHuerta</td><td>20</td><td>2017-04-11T16:35:33Z</td></tr><tr><td>6145</td><td>EmilyHawkins</td><td>30</td><td>2015-12-25T20:24:37Z</td></tr><tr><td>9979</td><td>KayleeMiller</td><td>31</td><td>2016-11-09T19:50:51Z</td></tr><tr><td>4913</td><td>AngelaBrooks</td><td>24</td><td>2015-11-20T05:37:11Z</td></tr><tr><td>9759</td><td>DanielBrooks</td><td>25</td><td>2015-11-19T21:24:33Z</td></tr><tr><td>7294</td><td>DawnAnderson</td><td>20</td><td>2016-12-31T00:06:36Z</td></tr><tr><td>808</td><td>AaronBartlett</td><td>21</td><td>2015-11-24T02:15:36Z</td></tr><tr><td>9936</td><td>AnthonyCantu</td><td>28</td><td>2016-11-15T10:40:03Z</td></tr><tr><td>6844</td><td>PeterRoberts</td><td>30</td><td>2016-07-03T10:59:40Z</td></tr><tr><td>3419</td><td>AaronJenkins</td><td>47</td><td>2017-04-26T03:26:23Z</td></tr><tr><td>4988</td><td>RhondaDurham</td><td>25</td><td>2017-07-20T05:51:23Z</td></tr><tr><td>552</td><td>ReginaMorales</td><td>20</td><td>2017-01-17T01:49:27Z</td></tr><tr><td>8312</td><td>DanielBrooks</td><td>25</td><td>2015-11-19T21:24:33Z</td></tr><tr><td>2863</td><td>DylanHolmes</td><td>32</td><td>2016-10-23T14:06:51Z</td></tr><tr><td>5730</td><td>RachelDavis</td><td>36</td><td>2015-12-08T20:02:43Z</td></tr><tr><td>2863</td><td>DylanHolmes</td><td>32</td><td>2016-10-23T14:06:51Z</td></tr><tr><td>5730</td><td>RachelDavis</td><td>36</td><td>2015-12-08T20:02:43Z</td></tr><tr><td>2923</td><td>BrianNelson</td><td>26</td><td>2015-11-11T03:20:57Z</td></tr><tr><td>2418</td><td>AmandaAdams</td><td>20</td><td>2015-10-21T08:27:36Z</td></tr><tr><td>3156</td><td>AndrewBaker</td><td>22</td><td>2015-12-21T08:06:54Z</td></tr><tr><td>428</td><td>ClaudiaAdams</td><td>20</td><td>2015-11-28T02:20:29Z</td></tr><tr><td>7343</td><td>AnneClayton</td><td>24</td><td>2016-01-11T12:03:48Z</td></tr><tr><td>10138</td><td>CarolSilva</td><td>22</td><td>2015-12-31T14:57:02Z</td></tr><tr><td>7922</td><td>DeniseAdams</td><td>21</td><td>2015-11-12T06:21:36Z</td></tr><tr><td>9590</td><td>AmandaAllen</td><td>22</td><td>2015-10-24T18:56:30Z</td></tr><tr><td>2698</td><td>KaylaBurton</td><td>44</td><td>2017-06-21T19:53:27Z</td></tr><tr><td>831</td><td>AimeeCollins</td><td>28</td><td>2016-06-16T02:06:38Z</td></tr><tr><td>8606</td><td>DeniseAdams</td><td>21</td><td>2015-11-12T06:21:36Z</td></tr><tr><td>4076</td><td>LarryPineda</td><td>20</td><td>2015-10-23T22:47:39Z</td></tr><tr><td>1422</td><td>AaronAbbott</td><td>20</td><td>2015-10-31T18:51:07Z</td></tr><tr><td>1371</td><td>AmandaBrown</td><td>20</td><td>2015-11-12T03:23:49Z</td></tr><tr><td>2604</td><td>AshleyEvans</td><td>30</td><td>2016-02-21T12:54:01Z</td></tr><tr><td>7528</td><td>AbigailAli</td><td>20</td><td>2015-10-24T11:23:51Z</td></tr><tr><td>7528</td><td>AbigailAli</td><td>20</td><td>2015-10-24T11:23:51Z</td></tr><tr><td>5069</td><td>AmandaBall</td><td>25</td><td>2016-01-13T17:36:30Z</td></tr><tr><td>3089</td><td>AbigailAli</td><td>20</td><td>2015-10-24T11:23:51Z</td></tr><tr><td>8653</td><td>TammyDavis</td><td>24</td><td>2016-03-09T10:48:14Z</td></tr><tr><td>7166</td><td>AlvinAdams</td><td>20</td><td>2016-01-01T13:50:40Z</td></tr><tr><td>9546</td><td>AlexBarnes</td><td>20</td><td>2016-02-27T21:13:44Z</td></tr><tr><td>5468</td><td>LisaGamble</td><td>20</td><td>2016-07-23T20:51:06Z</td></tr><tr><td>205</td><td>BrettBryant</td><td>20</td><td>2015-10-23T12:40:19Z</td></tr><tr><td>719</td><td>AliciaAvila</td><td>20</td><td>2016-01-26T01:49:23Z</td></tr><tr><td>1094</td><td>AnnElliott</td><td>20</td><td>2016-07-02T02:32:30Z</td></tr><tr><td>223</td><td>MelanieHill</td><td>51</td><td>2016-10-09T14:47:51Z</td></tr><tr><td>5494</td><td>AnneAllen</td><td>27</td><td>2015-12-16T15:20:05Z</td></tr><tr><td>10663</td><td>JulieCox</td><td>23</td><td>2016-06-23T14:38:00Z</td></tr><tr><td>1704</td><td>BarryLynn</td><td>20</td><td>2015-10-28T05:00:33Z</td></tr><tr><td>2482</td><td>DavidMoss</td><td>22</td><td>2016-03-01T07:11:48Z</td></tr><tr><td>159</td><td>AlisonBell</td><td>21</td><td>2016-01-07T08:11:35Z</td></tr><tr><td>5309</td><td>DanielRoy</td><td>31</td><td>2016-03-07T01:01:24Z</td></tr><tr><td>2293</td><td>AlexBean</td><td>24</td><td>2016-01-11T23:08:27Z</td></tr><tr><td>46</td><td>ErikKelley</td><td>30</td><td>2016-01-06T09:58:56Z</td></tr><tr><td>8578</td><td>JoePham</td><td>48</td><td>2017-06-01T23:13:27Z</td></tr><tr><td>427</td><td>JonBurke</td><td>25</td><td>2015-11-26T17:42:37Z</td></tr></tbody></table></div>"
      ]
     },
     "metadata": {
      "application/vnd.databricks.v1+output": {
       "addedWidgets": {},
       "aggData": [],
       "aggError": "",
       "aggOverflow": false,
       "aggSchema": [],
       "aggSeriesLimitReached": false,
       "aggType": "",
       "arguments": {},
       "columnCustomDisplayInfos": {},
       "data": [
        [
         2015,
         "ChristopherBradshaw",
         27,
         "2016-03-08T13:38:37Z"
        ],
        [
         6398,
         "ChristinaDavenport",
         39,
         "2016-06-29T20:43:59Z"
        ],
        [
         3599,
         "AlexandriaAlvarado",
         20,
         "2015-10-23T04:13:23Z"
        ],
        [
         5076,
         "ChristopherButler",
         20,
         "2015-12-01T15:08:31Z"
        ],
        [
         7790,
         "MichelleGutierrez",
         39,
         "2017-07-19T07:12:04Z"
        ],
        [
         10509,
         "BrittanyThompson",
         49,
         "2016-04-22T20:36:02Z"
        ],
        [
         10119,
         "ChelseaGonzalez",
         43,
         "2016-07-21T15:25:08Z"
        ],
        [
         8731,
         "AndreaAlexander",
         21,
         "2015-11-10T09:27:42Z"
        ],
        [
         8887,
         "AustinRodriguez",
         24,
         "2016-03-31T20:56:39Z"
        ],
        [
         7768,
         "ChristineCortez",
         23,
         "2015-12-01T18:15:02Z"
        ],
        [
         4315,
         "MichellePrince",
         36,
         "2015-12-20T16:38:13Z"
        ],
        [
         10625,
         "ChristianLang",
         32,
         "2017-10-10T20:09:33Z"
        ],
        [
         9672,
         "JenniferHudson",
         22,
         "2016-02-11T20:46:04Z"
        ],
        [
         8930,
         "AndrewAnderson",
         23,
         "2015-11-28T11:52:37Z"
        ],
        [
         6566,
         "AlexanderPerez",
         31,
         "2017-08-04T14:30:22Z"
        ],
        [
         3729,
         "RichardEdwards",
         52,
         "2016-02-07T20:00:25Z"
        ],
        [
         10552,
         "MichaelHunter",
         40,
         "2017-05-16T07:09:21Z"
        ],
        [
         9074,
         "AaronAlexander",
         21,
         "2015-10-25T07:36:08Z"
        ],
        [
         1313,
         "BrittanyJones",
         32,
         "2016-04-02T03:51:23Z"
        ],
        [
         10794,
         "ThomasTurner",
         34,
         "2016-12-22T00:02:02Z"
        ],
        [
         2959,
         "DavidGriffith",
         20,
         "2016-01-07T19:49:22Z"
        ],
        [
         9875,
         "BrendanJoseph",
         26,
         "2015-12-20T10:28:00Z"
        ],
        [
         2074,
         "AnnetteForbes",
         21,
         "2016-01-03T15:42:12Z"
        ],
        [
         1014,
         "GregoryRamsey",
         56,
         "2016-10-15T17:21:39Z"
        ],
        [
         4137,
         "MichaelDecker",
         59,
         "2017-06-29T22:35:17Z"
        ],
        [
         2411,
         "AaronBartlett",
         21,
         "2015-11-24T02:15:36Z"
        ],
        [
         4508,
         "MichaelCarter",
         58,
         "2016-06-03T23:35:30Z"
        ],
        [
         771,
         "BrittanyButler",
         32,
         "2016-03-10T04:11:31Z"
        ],
        [
         1545,
         "JonathanAvila",
         46,
         "2015-11-27T23:11:21Z"
        ],
        [
         603,
         "BrandonJackson",
         44,
         "2016-10-29T02:07:21Z"
        ],
        [
         5630,
         "CarlosEstrada",
         22,
         "2016-02-09T17:01:38Z"
        ],
        [
         1268,
         "DonnaCampbell",
         32,
         "2016-06-08T22:10:13Z"
        ],
        [
         1555,
         "AlexisBennett",
         54,
         "2016-05-15T04:22:01Z"
        ],
        [
         3800,
         "AdamArmstrong",
         20,
         "2015-12-17T08:43:40Z"
        ],
        [
         8304,
         "CharlesBerry",
         25,
         "2015-12-28T04:21:39Z"
        ],
        [
         6063,
         "CoreyAndrews",
         23,
         "2015-11-25T13:36:22Z"
        ],
        [
         3454,
         "RobertMurphy",
         48,
         "2017-09-26T16:31:56Z"
        ],
        [
         7554,
         "CherylHuerta",
         20,
         "2017-04-11T16:35:33Z"
        ],
        [
         6145,
         "EmilyHawkins",
         30,
         "2015-12-25T20:24:37Z"
        ],
        [
         9979,
         "KayleeMiller",
         31,
         "2016-11-09T19:50:51Z"
        ],
        [
         4913,
         "AngelaBrooks",
         24,
         "2015-11-20T05:37:11Z"
        ],
        [
         9759,
         "DanielBrooks",
         25,
         "2015-11-19T21:24:33Z"
        ],
        [
         7294,
         "DawnAnderson",
         20,
         "2016-12-31T00:06:36Z"
        ],
        [
         808,
         "AaronBartlett",
         21,
         "2015-11-24T02:15:36Z"
        ],
        [
         9936,
         "AnthonyCantu",
         28,
         "2016-11-15T10:40:03Z"
        ],
        [
         6844,
         "PeterRoberts",
         30,
         "2016-07-03T10:59:40Z"
        ],
        [
         3419,
         "AaronJenkins",
         47,
         "2017-04-26T03:26:23Z"
        ],
        [
         4988,
         "RhondaDurham",
         25,
         "2017-07-20T05:51:23Z"
        ],
        [
         552,
         "ReginaMorales",
         20,
         "2017-01-17T01:49:27Z"
        ],
        [
         8312,
         "DanielBrooks",
         25,
         "2015-11-19T21:24:33Z"
        ],
        [
         2863,
         "DylanHolmes",
         32,
         "2016-10-23T14:06:51Z"
        ],
        [
         5730,
         "RachelDavis",
         36,
         "2015-12-08T20:02:43Z"
        ],
        [
         2863,
         "DylanHolmes",
         32,
         "2016-10-23T14:06:51Z"
        ],
        [
         5730,
         "RachelDavis",
         36,
         "2015-12-08T20:02:43Z"
        ],
        [
         2923,
         "BrianNelson",
         26,
         "2015-11-11T03:20:57Z"
        ],
        [
         2418,
         "AmandaAdams",
         20,
         "2015-10-21T08:27:36Z"
        ],
        [
         3156,
         "AndrewBaker",
         22,
         "2015-12-21T08:06:54Z"
        ],
        [
         428,
         "ClaudiaAdams",
         20,
         "2015-11-28T02:20:29Z"
        ],
        [
         7343,
         "AnneClayton",
         24,
         "2016-01-11T12:03:48Z"
        ],
        [
         10138,
         "CarolSilva",
         22,
         "2015-12-31T14:57:02Z"
        ],
        [
         7922,
         "DeniseAdams",
         21,
         "2015-11-12T06:21:36Z"
        ],
        [
         9590,
         "AmandaAllen",
         22,
         "2015-10-24T18:56:30Z"
        ],
        [
         2698,
         "KaylaBurton",
         44,
         "2017-06-21T19:53:27Z"
        ],
        [
         831,
         "AimeeCollins",
         28,
         "2016-06-16T02:06:38Z"
        ],
        [
         8606,
         "DeniseAdams",
         21,
         "2015-11-12T06:21:36Z"
        ],
        [
         4076,
         "LarryPineda",
         20,
         "2015-10-23T22:47:39Z"
        ],
        [
         1422,
         "AaronAbbott",
         20,
         "2015-10-31T18:51:07Z"
        ],
        [
         1371,
         "AmandaBrown",
         20,
         "2015-11-12T03:23:49Z"
        ],
        [
         2604,
         "AshleyEvans",
         30,
         "2016-02-21T12:54:01Z"
        ],
        [
         7528,
         "AbigailAli",
         20,
         "2015-10-24T11:23:51Z"
        ],
        [
         7528,
         "AbigailAli",
         20,
         "2015-10-24T11:23:51Z"
        ],
        [
         5069,
         "AmandaBall",
         25,
         "2016-01-13T17:36:30Z"
        ],
        [
         3089,
         "AbigailAli",
         20,
         "2015-10-24T11:23:51Z"
        ],
        [
         8653,
         "TammyDavis",
         24,
         "2016-03-09T10:48:14Z"
        ],
        [
         7166,
         "AlvinAdams",
         20,
         "2016-01-01T13:50:40Z"
        ],
        [
         9546,
         "AlexBarnes",
         20,
         "2016-02-27T21:13:44Z"
        ],
        [
         5468,
         "LisaGamble",
         20,
         "2016-07-23T20:51:06Z"
        ],
        [
         205,
         "BrettBryant",
         20,
         "2015-10-23T12:40:19Z"
        ],
        [
         719,
         "AliciaAvila",
         20,
         "2016-01-26T01:49:23Z"
        ],
        [
         1094,
         "AnnElliott",
         20,
         "2016-07-02T02:32:30Z"
        ],
        [
         223,
         "MelanieHill",
         51,
         "2016-10-09T14:47:51Z"
        ],
        [
         5494,
         "AnneAllen",
         27,
         "2015-12-16T15:20:05Z"
        ],
        [
         10663,
         "JulieCox",
         23,
         "2016-06-23T14:38:00Z"
        ],
        [
         1704,
         "BarryLynn",
         20,
         "2015-10-28T05:00:33Z"
        ],
        [
         2482,
         "DavidMoss",
         22,
         "2016-03-01T07:11:48Z"
        ],
        [
         159,
         "AlisonBell",
         21,
         "2016-01-07T08:11:35Z"
        ],
        [
         5309,
         "DanielRoy",
         31,
         "2016-03-07T01:01:24Z"
        ],
        [
         2293,
         "AlexBean",
         24,
         "2016-01-11T23:08:27Z"
        ],
        [
         46,
         "ErikKelley",
         30,
         "2016-01-06T09:58:56Z"
        ],
        [
         8578,
         "JoePham",
         48,
         "2017-06-01T23:13:27Z"
        ],
        [
         427,
         "JonBurke",
         25,
         "2015-11-26T17:42:37Z"
        ]
       ],
       "datasetInfos": [],
       "dbfsResultPath": null,
       "isJsonSchema": true,
       "metadata": {},
       "overflow": false,
       "plotOptions": {
        "customPlotOptions": {},
        "displayType": "table",
        "pivotAggregation": null,
        "pivotColumns": null,
        "xColumns": null,
        "yColumns": null
       },
       "removedWidgets": [],
       "schema": [
        {
         "metadata": "{}",
         "name": "ind",
         "type": "\"long\""
        },
        {
         "metadata": "{}",
         "name": "user_name",
         "type": "\"string\""
        },
        {
         "metadata": "{}",
         "name": "age",
         "type": "\"long\""
        },
        {
         "metadata": "{}",
         "name": "date_joined",
         "type": "\"timestamp\""
        }
       ],
       "type": "table"
      }
     },
     "output_type": "display_data"
    }
   ],
   "source": [
    "cleaned_user = cleaned_user(df_user)\n",
    "display(cleaned_user)"
   ]
  },
  {
   "cell_type": "code",
   "execution_count": 0,
   "metadata": {
    "application/vnd.databricks.v1+cell": {
     "cellMetadata": {
      "byteLimit": 2048000,
      "rowLimit": 10000
     },
     "inputWidgets": {},
     "nuid": "93546b13-fdd3-4643-81fa-029f88ccd3a1",
     "showTitle": false,
     "tableResultSettingsMap": {},
     "title": ""
    }
   },
   "outputs": [
    {
     "output_type": "stream",
     "name": "stdout",
     "output_type": "stream",
     "text": [
      "root\n |-- ind: long (nullable = true)\n |-- user_name: string (nullable = true)\n |-- age: long (nullable = true)\n |-- date_joined: timestamp (nullable = true)\n\n"
     ]
    }
   ],
   "source": [
    "cleaned_user.printSchema()"
   ]
  },
  {
   "cell_type": "code",
   "execution_count": 0,
   "metadata": {
    "application/vnd.databricks.v1+cell": {
     "cellMetadata": {
      "byteLimit": 2048000,
      "rowLimit": 10000
     },
     "inputWidgets": {},
     "nuid": "5462850d-2a3d-470f-b982-abc7d876e961",
     "showTitle": false,
     "tableResultSettingsMap": {},
     "title": ""
    }
   },
   "outputs": [
    {
     "output_type": "display_data",
     "data": {
      "text/html": [
       "<style scoped>\n",
       "  .table-result-container {\n",
       "    max-height: 300px;\n",
       "    overflow: auto;\n",
       "  }\n",
       "  table, th, td {\n",
       "    border: 1px solid black;\n",
       "    border-collapse: collapse;\n",
       "  }\n",
       "  th, td {\n",
       "    padding: 5px;\n",
       "  }\n",
       "  th {\n",
       "    text-align: left;\n",
       "  }\n",
       "</style><div class='table-result-container'><table class='table-result'><thead style='background-color: white'><tr><th>category</th><th>country</th><th>category_count</th></tr></thead><tbody><tr><td>art</td><td>Afghanistan</td><td>1</td></tr><tr><td>art</td><td>Albania</td><td>2</td></tr><tr><td>art</td><td>Andorra</td><td>3</td></tr><tr><td>art</td><td>Armenia</td><td>4</td></tr><tr><td>art</td><td>Bangladesh</td><td>5</td></tr><tr><td>art</td><td>Barbados</td><td>6</td></tr><tr><td>art</td><td>Congo</td><td>7</td></tr><tr><td>art</td><td>Isle of Man</td><td>9</td></tr><tr><td>art</td><td>Lesotho</td><td>10</td></tr><tr><td>art</td><td>Montserrat</td><td>11</td></tr><tr><td>art</td><td>Netherlands Antilles</td><td>12</td></tr><tr><td>beauty</td><td>Algeria</td><td>1</td></tr><tr><td>beauty</td><td>American Samoa</td><td>2</td></tr><tr><td>beauty</td><td>Andorra</td><td>3</td></tr><tr><td>beauty</td><td>Anguilla</td><td>4</td></tr><tr><td>beauty</td><td>Argentina</td><td>5</td></tr><tr><td>beauty</td><td>Armenia</td><td>6</td></tr><tr><td>beauty</td><td>Maldives</td><td>7</td></tr><tr><td>beauty</td><td>Tonga</td><td>8</td></tr><tr><td>christmas</td><td>Albania</td><td>1</td></tr><tr><td>christmas</td><td>Antarctica (the territory South of 60 deg S)</td><td>2</td></tr><tr><td>christmas</td><td>Antigua and Barbuda</td><td>3</td></tr><tr><td>christmas</td><td>Armenia</td><td>4</td></tr><tr><td>christmas</td><td>Bermuda</td><td>5</td></tr><tr><td>christmas</td><td>British Virgin Islands</td><td>6</td></tr><tr><td>christmas</td><td>Central African Republic</td><td>7</td></tr><tr><td>christmas</td><td>Christmas Island</td><td>8</td></tr><tr><td>diy-and-crafts</td><td>Albania</td><td>1</td></tr><tr><td>diy-and-crafts</td><td>Angola</td><td>2</td></tr><tr><td>diy-and-crafts</td><td>Armenia</td><td>11</td></tr><tr><td>diy-and-crafts</td><td>Bhutan</td><td>12</td></tr><tr><td>diy-and-crafts</td><td>Cambodia</td><td>13</td></tr><tr><td>diy-and-crafts</td><td>Cote d'Ivoire</td><td>14</td></tr><tr><td>diy-and-crafts</td><td>Egypt</td><td>15</td></tr><tr><td>education</td><td>Afghanistan</td><td>1</td></tr><tr><td>education</td><td>Aruba</td><td>2</td></tr><tr><td>education</td><td>Australia</td><td>3</td></tr><tr><td>education</td><td>Cote d'Ivoire</td><td>4</td></tr><tr><td>education</td><td>Mauritania</td><td>5</td></tr><tr><td>education</td><td>Turkey</td><td>6</td></tr><tr><td>event-planning</td><td>Aruba</td><td>1</td></tr><tr><td>event-planning</td><td>Azerbaijan</td><td>2</td></tr><tr><td>event-planning</td><td>Germany</td><td>3</td></tr><tr><td>event-planning</td><td>Madagascar</td><td>4</td></tr><tr><td>event-planning</td><td>Philippines</td><td>5</td></tr><tr><td>finance</td><td>Bahrain</td><td>1</td></tr><tr><td>finance</td><td>Bulgaria</td><td>2</td></tr><tr><td>finance</td><td>Colombia</td><td>8</td></tr><tr><td>finance</td><td>Isle of Man</td><td>9</td></tr><tr><td>finance</td><td>Maldives</td><td>10</td></tr><tr><td>home-decor</td><td>Albania</td><td>1</td></tr><tr><td>home-decor</td><td>Anguilla</td><td>2</td></tr><tr><td>home-decor</td><td>Cape Verde</td><td>3</td></tr><tr><td>home-decor</td><td>Mozambique</td><td>4</td></tr><tr><td>mens-fashion</td><td>Albania</td><td>10</td></tr><tr><td>mens-fashion</td><td>Aruba</td><td>11</td></tr><tr><td>mens-fashion</td><td>Australia</td><td>13</td></tr><tr><td>mens-fashion</td><td>New Caledonia</td><td>14</td></tr><tr><td>mens-fashion</td><td>Sudan</td><td>15</td></tr><tr><td>quotes</td><td>Algeria</td><td>1</td></tr><tr><td>quotes</td><td>American Samoa</td><td>2</td></tr><tr><td>quotes</td><td>Antigua and Barbuda</td><td>3</td></tr><tr><td>quotes</td><td>French Guiana</td><td>7</td></tr><tr><td>quotes</td><td>Papua New Guinea</td><td>8</td></tr><tr><td>tattoos</td><td>Andorra</td><td>1</td></tr><tr><td>tattoos</td><td>Antigua and Barbuda</td><td>2</td></tr><tr><td>tattoos</td><td>Argentina</td><td>3</td></tr><tr><td>tattoos</td><td>Aruba</td><td>4</td></tr><tr><td>tattoos</td><td>Botswana</td><td>5</td></tr><tr><td>tattoos</td><td>Guinea-Bissau</td><td>6</td></tr><tr><td>tattoos</td><td>Seychelles</td><td>7</td></tr><tr><td>travel</td><td>Algeria</td><td>1</td></tr><tr><td>travel</td><td>American Samoa</td><td>2</td></tr><tr><td>travel</td><td>Australia</td><td>3</td></tr><tr><td>travel</td><td>Austria</td><td>5</td></tr><tr><td>travel</td><td>Barbados</td><td>6</td></tr><tr><td>travel</td><td>Christmas Island</td><td>7</td></tr><tr><td>travel</td><td>Dominican Republic</td><td>8</td></tr><tr><td>travel</td><td>India</td><td>9</td></tr><tr><td>vehicles</td><td>Cocos (Keeling) Islands</td><td>1</td></tr><tr><td>vehicles</td><td>Gibraltar</td><td>2</td></tr><tr><td>vehicles</td><td>Grenada</td><td>3</td></tr><tr><td>vehicles</td><td>Jamaica</td><td>4</td></tr><tr><td>vehicles</td><td>Saint Kitts and Nevis</td><td>5</td></tr></tbody></table></div>"
      ]
     },
     "metadata": {
      "application/vnd.databricks.v1+output": {
       "addedWidgets": {},
       "aggData": [],
       "aggError": "",
       "aggOverflow": false,
       "aggSchema": [],
       "aggSeriesLimitReached": false,
       "aggType": "",
       "arguments": {},
       "columnCustomDisplayInfos": {},
       "data": [
        [
         "art",
         "Afghanistan",
         1
        ],
        [
         "art",
         "Albania",
         2
        ],
        [
         "art",
         "Andorra",
         3
        ],
        [
         "art",
         "Armenia",
         4
        ],
        [
         "art",
         "Bangladesh",
         5
        ],
        [
         "art",
         "Barbados",
         6
        ],
        [
         "art",
         "Congo",
         7
        ],
        [
         "art",
         "Isle of Man",
         9
        ],
        [
         "art",
         "Lesotho",
         10
        ],
        [
         "art",
         "Montserrat",
         11
        ],
        [
         "art",
         "Netherlands Antilles",
         12
        ],
        [
         "beauty",
         "Algeria",
         1
        ],
        [
         "beauty",
         "American Samoa",
         2
        ],
        [
         "beauty",
         "Andorra",
         3
        ],
        [
         "beauty",
         "Anguilla",
         4
        ],
        [
         "beauty",
         "Argentina",
         5
        ],
        [
         "beauty",
         "Armenia",
         6
        ],
        [
         "beauty",
         "Maldives",
         7
        ],
        [
         "beauty",
         "Tonga",
         8
        ],
        [
         "christmas",
         "Albania",
         1
        ],
        [
         "christmas",
         "Antarctica (the territory South of 60 deg S)",
         2
        ],
        [
         "christmas",
         "Antigua and Barbuda",
         3
        ],
        [
         "christmas",
         "Armenia",
         4
        ],
        [
         "christmas",
         "Bermuda",
         5
        ],
        [
         "christmas",
         "British Virgin Islands",
         6
        ],
        [
         "christmas",
         "Central African Republic",
         7
        ],
        [
         "christmas",
         "Christmas Island",
         8
        ],
        [
         "diy-and-crafts",
         "Albania",
         1
        ],
        [
         "diy-and-crafts",
         "Angola",
         2
        ],
        [
         "diy-and-crafts",
         "Armenia",
         11
        ],
        [
         "diy-and-crafts",
         "Bhutan",
         12
        ],
        [
         "diy-and-crafts",
         "Cambodia",
         13
        ],
        [
         "diy-and-crafts",
         "Cote d'Ivoire",
         14
        ],
        [
         "diy-and-crafts",
         "Egypt",
         15
        ],
        [
         "education",
         "Afghanistan",
         1
        ],
        [
         "education",
         "Aruba",
         2
        ],
        [
         "education",
         "Australia",
         3
        ],
        [
         "education",
         "Cote d'Ivoire",
         4
        ],
        [
         "education",
         "Mauritania",
         5
        ],
        [
         "education",
         "Turkey",
         6
        ],
        [
         "event-planning",
         "Aruba",
         1
        ],
        [
         "event-planning",
         "Azerbaijan",
         2
        ],
        [
         "event-planning",
         "Germany",
         3
        ],
        [
         "event-planning",
         "Madagascar",
         4
        ],
        [
         "event-planning",
         "Philippines",
         5
        ],
        [
         "finance",
         "Bahrain",
         1
        ],
        [
         "finance",
         "Bulgaria",
         2
        ],
        [
         "finance",
         "Colombia",
         8
        ],
        [
         "finance",
         "Isle of Man",
         9
        ],
        [
         "finance",
         "Maldives",
         10
        ],
        [
         "home-decor",
         "Albania",
         1
        ],
        [
         "home-decor",
         "Anguilla",
         2
        ],
        [
         "home-decor",
         "Cape Verde",
         3
        ],
        [
         "home-decor",
         "Mozambique",
         4
        ],
        [
         "mens-fashion",
         "Albania",
         10
        ],
        [
         "mens-fashion",
         "Aruba",
         11
        ],
        [
         "mens-fashion",
         "Australia",
         13
        ],
        [
         "mens-fashion",
         "New Caledonia",
         14
        ],
        [
         "mens-fashion",
         "Sudan",
         15
        ],
        [
         "quotes",
         "Algeria",
         1
        ],
        [
         "quotes",
         "American Samoa",
         2
        ],
        [
         "quotes",
         "Antigua and Barbuda",
         3
        ],
        [
         "quotes",
         "French Guiana",
         7
        ],
        [
         "quotes",
         "Papua New Guinea",
         8
        ],
        [
         "tattoos",
         "Andorra",
         1
        ],
        [
         "tattoos",
         "Antigua and Barbuda",
         2
        ],
        [
         "tattoos",
         "Argentina",
         3
        ],
        [
         "tattoos",
         "Aruba",
         4
        ],
        [
         "tattoos",
         "Botswana",
         5
        ],
        [
         "tattoos",
         "Guinea-Bissau",
         6
        ],
        [
         "tattoos",
         "Seychelles",
         7
        ],
        [
         "travel",
         "Algeria",
         1
        ],
        [
         "travel",
         "American Samoa",
         2
        ],
        [
         "travel",
         "Australia",
         3
        ],
        [
         "travel",
         "Austria",
         5
        ],
        [
         "travel",
         "Barbados",
         6
        ],
        [
         "travel",
         "Christmas Island",
         7
        ],
        [
         "travel",
         "Dominican Republic",
         8
        ],
        [
         "travel",
         "India",
         9
        ],
        [
         "vehicles",
         "Cocos (Keeling) Islands",
         1
        ],
        [
         "vehicles",
         "Gibraltar",
         2
        ],
        [
         "vehicles",
         "Grenada",
         3
        ],
        [
         "vehicles",
         "Jamaica",
         4
        ],
        [
         "vehicles",
         "Saint Kitts and Nevis",
         5
        ]
       ],
       "datasetInfos": [],
       "dbfsResultPath": null,
       "isJsonSchema": true,
       "metadata": {},
       "overflow": false,
       "plotOptions": {
        "customPlotOptions": {},
        "displayType": "table",
        "pivotAggregation": null,
        "pivotColumns": null,
        "xColumns": null,
        "yColumns": null
       },
       "removedWidgets": [],
       "schema": [
        {
         "metadata": "{}",
         "name": "category",
         "type": "\"string\""
        },
        {
         "metadata": "{}",
         "name": "country",
         "type": "\"string\""
        },
        {
         "metadata": "{}",
         "name": "category_count",
         "type": "\"long\""
        }
       ],
       "type": "table"
      }
     },
     "output_type": "display_data"
    }
   ],
   "source": [
    "from pyspark.sql.functions import count\n",
    "from pyspark.sql.window import Window\n",
    "\n",
    "joined_df = cleaned_pin.join(cleaned_geo_df, cleaned_pin[\"ind\"] == cleaned_geo_df[\"ind\"], how=\"inner\")\n",
    "\n",
    "people_cat = Window.partitionBy(\"category\").orderBy(\"country\")\n",
    "the_result = joined_df.withColumn(\"category_count\", count(\"*\").over(people_cat))\n",
    "\n",
    "the_result = the_result.select(\"category\", \"country\", \"category_count\").distinct()\n",
    "display(the_result)\n",
    "\n"
   ]
  },
  {
   "cell_type": "code",
   "execution_count": 0,
   "metadata": {
    "application/vnd.databricks.v1+cell": {
     "cellMetadata": {
      "byteLimit": 2048000,
      "rowLimit": 10000
     },
     "inputWidgets": {},
     "nuid": "98ca8113-5ac6-4f54-9043-1715e8d2daf1",
     "showTitle": false,
     "tableResultSettingsMap": {},
     "title": ""
    }
   },
   "outputs": [
    {
     "output_type": "display_data",
     "data": {
      "text/html": [
       "<style scoped>\n",
       "  .table-result-container {\n",
       "    max-height: 300px;\n",
       "    overflow: auto;\n",
       "  }\n",
       "  table, th, td {\n",
       "    border: 1px solid black;\n",
       "    border-collapse: collapse;\n",
       "  }\n",
       "  th, td {\n",
       "    padding: 5px;\n",
       "  }\n",
       "  th {\n",
       "    text-align: left;\n",
       "  }\n",
       "</style><div class='table-result-container'><table class='table-result'><thead style='background-color: white'><tr><th>category</th><th>post_year</th><th>category_count</th></tr></thead><tbody><tr><td>christmas</td><td>2018</td><td>3</td></tr><tr><td>tattoos</td><td>2022</td><td>2</td></tr><tr><td>home-decor</td><td>2019</td><td>1</td></tr><tr><td>education</td><td>2019</td><td>4</td></tr><tr><td>tattoos</td><td>2021</td><td>3</td></tr><tr><td>art</td><td>2020</td><td>3</td></tr><tr><td>event-planning</td><td>2021</td><td>1</td></tr><tr><td>mens-fashion</td><td>2018</td><td>2</td></tr><tr><td>beauty</td><td>2018</td><td>4</td></tr><tr><td>travel</td><td>2019</td><td>3</td></tr><tr><td>vehicles</td><td>2018</td><td>1</td></tr><tr><td>mens-fashion</td><td>2021</td><td>1</td></tr><tr><td>event-planning</td><td>2020</td><td>1</td></tr><tr><td>vehicles</td><td>2019</td><td>2</td></tr><tr><td>mens-fashion</td><td>2019</td><td>1</td></tr><tr><td>beauty</td><td>2022</td><td>2</td></tr><tr><td>home-decor</td><td>2020</td><td>2</td></tr><tr><td>christmas</td><td>2020</td><td>1</td></tr><tr><td>home-decor</td><td>2021</td><td>1</td></tr><tr><td>art</td><td>2022</td><td>1</td></tr><tr><td>tattoos</td><td>2018</td><td>1</td></tr><tr><td>event-planning</td><td>2019</td><td>3</td></tr><tr><td>mens-fashion</td><td>2022</td><td>1</td></tr><tr><td>diy-and-crafts</td><td>2021</td><td>3</td></tr><tr><td>travel</td><td>2017</td><td>1</td></tr><tr><td>christmas</td><td>2022</td><td>2</td></tr><tr><td>art</td><td>2018</td><td>4</td></tr><tr><td>travel</td><td>2018</td><td>3</td></tr><tr><td>quotes</td><td>2021</td><td>2</td></tr><tr><td>art</td><td>2017</td><td>1</td></tr><tr><td>education</td><td>2018</td><td>2</td></tr><tr><td>art</td><td>2019</td><td>2</td></tr><tr><td>finance</td><td>2021</td><td>7</td></tr><tr><td>vehicles</td><td>2020</td><td>1</td></tr><tr><td>christmas</td><td>2019</td><td>2</td></tr><tr><td>travel</td><td>2020</td><td>2</td></tr><tr><td>diy-and-crafts</td><td>2018</td><td>2</td></tr><tr><td>finance</td><td>2020</td><td>2</td></tr><tr><td>quotes</td><td>2018</td><td>2</td></tr><tr><td>beauty</td><td>2017</td><td>1</td></tr><tr><td>art</td><td>2021</td><td>1</td></tr><tr><td>diy-and-crafts</td><td>2020</td><td>8</td></tr><tr><td>diy-and-crafts</td><td>2019</td><td>2</td></tr><tr><td>tattoos</td><td>2020</td><td>1</td></tr><tr><td>quotes</td><td>2019</td><td>4</td></tr><tr><td>beauty</td><td>2019</td><td>1</td></tr><tr><td>finance</td><td>2019</td><td>1</td></tr><tr><td>mens-fashion</td><td>2020</td><td>10</td></tr><tr><td>vehicles</td><td>2022</td><td>1</td></tr></tbody></table></div>"
      ]
     },
     "metadata": {
      "application/vnd.databricks.v1+output": {
       "addedWidgets": {},
       "aggData": [],
       "aggError": "",
       "aggOverflow": false,
       "aggSchema": [],
       "aggSeriesLimitReached": false,
       "aggType": "",
       "arguments": {},
       "columnCustomDisplayInfos": {},
       "data": [
        [
         "christmas",
         2018,
         3
        ],
        [
         "tattoos",
         2022,
         2
        ],
        [
         "home-decor",
         2019,
         1
        ],
        [
         "education",
         2019,
         4
        ],
        [
         "tattoos",
         2021,
         3
        ],
        [
         "art",
         2020,
         3
        ],
        [
         "event-planning",
         2021,
         1
        ],
        [
         "mens-fashion",
         2018,
         2
        ],
        [
         "beauty",
         2018,
         4
        ],
        [
         "travel",
         2019,
         3
        ],
        [
         "vehicles",
         2018,
         1
        ],
        [
         "mens-fashion",
         2021,
         1
        ],
        [
         "event-planning",
         2020,
         1
        ],
        [
         "vehicles",
         2019,
         2
        ],
        [
         "mens-fashion",
         2019,
         1
        ],
        [
         "beauty",
         2022,
         2
        ],
        [
         "home-decor",
         2020,
         2
        ],
        [
         "christmas",
         2020,
         1
        ],
        [
         "home-decor",
         2021,
         1
        ],
        [
         "art",
         2022,
         1
        ],
        [
         "tattoos",
         2018,
         1
        ],
        [
         "event-planning",
         2019,
         3
        ],
        [
         "mens-fashion",
         2022,
         1
        ],
        [
         "diy-and-crafts",
         2021,
         3
        ],
        [
         "travel",
         2017,
         1
        ],
        [
         "christmas",
         2022,
         2
        ],
        [
         "art",
         2018,
         4
        ],
        [
         "travel",
         2018,
         3
        ],
        [
         "quotes",
         2021,
         2
        ],
        [
         "art",
         2017,
         1
        ],
        [
         "education",
         2018,
         2
        ],
        [
         "art",
         2019,
         2
        ],
        [
         "finance",
         2021,
         7
        ],
        [
         "vehicles",
         2020,
         1
        ],
        [
         "christmas",
         2019,
         2
        ],
        [
         "travel",
         2020,
         2
        ],
        [
         "diy-and-crafts",
         2018,
         2
        ],
        [
         "finance",
         2020,
         2
        ],
        [
         "quotes",
         2018,
         2
        ],
        [
         "beauty",
         2017,
         1
        ],
        [
         "art",
         2021,
         1
        ],
        [
         "diy-and-crafts",
         2020,
         8
        ],
        [
         "diy-and-crafts",
         2019,
         2
        ],
        [
         "tattoos",
         2020,
         1
        ],
        [
         "quotes",
         2019,
         4
        ],
        [
         "beauty",
         2019,
         1
        ],
        [
         "finance",
         2019,
         1
        ],
        [
         "mens-fashion",
         2020,
         10
        ],
        [
         "vehicles",
         2022,
         1
        ]
       ],
       "datasetInfos": [],
       "dbfsResultPath": null,
       "isJsonSchema": true,
       "metadata": {},
       "overflow": false,
       "plotOptions": {
        "customPlotOptions": {},
        "displayType": "table",
        "pivotAggregation": null,
        "pivotColumns": null,
        "xColumns": null,
        "yColumns": null
       },
       "removedWidgets": [],
       "schema": [
        {
         "metadata": "{}",
         "name": "category",
         "type": "\"string\""
        },
        {
         "metadata": "{}",
         "name": "post_year",
         "type": "\"integer\""
        },
        {
         "metadata": "{}",
         "name": "category_count",
         "type": "\"long\""
        }
       ],
       "type": "table"
      }
     },
     "output_type": "display_data"
    }
   ],
   "source": [
    "from pyspark.sql.functions import count, year, col, asc\n",
    "\n",
    "\n",
    "joined_df = cleaned_pin.join(cleaned_geo_df, cleaned_pin[\"ind\"] == cleaned_geo_df[\"ind\"], how=\"inner\")\n",
    "years_df = joined_df.withColumn(\"post_year\", year(col(\"timestamp\")))\n",
    "year_cat = years_df.filter(col(\"post_year\").between(2018, 2022))\n",
    "\n",
    "result_df = years_df.groupBy(\"category\", \"post_year\").agg(count(\"*\").alias(\"category_count\"))\n",
    "\n",
    "display(result_df)\n",
    "\n"
   ]
  },
  {
   "cell_type": "code",
   "execution_count": 0,
   "metadata": {
    "application/vnd.databricks.v1+cell": {
     "cellMetadata": {
      "byteLimit": 2048000,
      "rowLimit": 10000
     },
     "inputWidgets": {},
     "nuid": "69252023-35da-484a-b4ad-4762daaaeb5a",
     "showTitle": false,
     "tableResultSettingsMap": {},
     "title": ""
    }
   },
   "outputs": [
    {
     "output_type": "display_data",
     "data": {
      "text/html": [
       "<style scoped>\n",
       "  .table-result-container {\n",
       "    max-height: 300px;\n",
       "    overflow: auto;\n",
       "  }\n",
       "  table, th, td {\n",
       "    border: 1px solid black;\n",
       "    border-collapse: collapse;\n",
       "  }\n",
       "  th, td {\n",
       "    padding: 5px;\n",
       "  }\n",
       "  th {\n",
       "    text-align: left;\n",
       "  }\n",
       "</style><div class='table-result-container'><table class='table-result'><thead style='background-color: white'><tr><th>country</th><th>follower_count</th></tr></thead><tbody><tr><td>Sudan</td><td>940</td></tr></tbody></table></div>"
      ]
     },
     "metadata": {
      "application/vnd.databricks.v1+output": {
       "addedWidgets": {},
       "aggData": [],
       "aggError": "",
       "aggOverflow": false,
       "aggSchema": [],
       "aggSeriesLimitReached": false,
       "aggType": "",
       "arguments": {},
       "columnCustomDisplayInfos": {},
       "data": [
        [
         "Sudan",
         "940"
        ]
       ],
       "datasetInfos": [],
       "dbfsResultPath": null,
       "isJsonSchema": true,
       "metadata": {},
       "overflow": false,
       "plotOptions": {
        "customPlotOptions": {},
        "displayType": "table",
        "pivotAggregation": null,
        "pivotColumns": null,
        "xColumns": null,
        "yColumns": null
       },
       "removedWidgets": [],
       "schema": [
        {
         "metadata": "{}",
         "name": "country",
         "type": "\"string\""
        },
        {
         "metadata": "{}",
         "name": "follower_count",
         "type": "\"string\""
        }
       ],
       "type": "table"
      }
     },
     "output_type": "display_data"
    }
   ],
   "source": [
    "from pyspark.sql.functions import row_number, desc\n",
    "from pyspark.sql.window import Window\n",
    "\n",
    "joined_df = cleaned_pin.join(cleaned_geo_df, cleaned_pin[\"ind\"] == cleaned_geo_df[\"ind\"], how=\"inner\")\n",
    "\n",
    "user_df = Window.partitionBy(\"country\").orderBy(desc(\"follower_count\"))\n",
    "maxed_df = joined_df.withColumn(\"rank\", row_number().over(user_df))\n",
    "\n",
    "country_rank = maxed_df.filter(maxed_df.rank == 1)\n",
    "result_df = country_rank.select(\"country\", \"poster_name\", \"follower_count\")\n",
    "\n",
    "max_result_df = result_df.orderBy(desc(\"follower_count\")).limit(1)\n",
    "max_results_df = max_result_df.select(\"country\", \"follower_count\")\n",
    "\n",
    "display(max_results_df)"
   ]
  },
  {
   "cell_type": "code",
   "execution_count": 0,
   "metadata": {
    "application/vnd.databricks.v1+cell": {
     "cellMetadata": {
      "byteLimit": 2048000,
      "rowLimit": 10000
     },
     "inputWidgets": {},
     "nuid": "0bdbad65-afe9-4cb3-89eb-5731335de06f",
     "showTitle": false,
     "tableResultSettingsMap": {},
     "title": ""
    }
   },
   "outputs": [
    {
     "output_type": "display_data",
     "data": {
      "text/html": [
       "<style scoped>\n",
       "  .table-result-container {\n",
       "    max-height: 300px;\n",
       "    overflow: auto;\n",
       "  }\n",
       "  table, th, td {\n",
       "    border: 1px solid black;\n",
       "    border-collapse: collapse;\n",
       "  }\n",
       "  th, td {\n",
       "    padding: 5px;\n",
       "  }\n",
       "  th {\n",
       "    text-align: left;\n",
       "  }\n",
       "</style><div class='table-result-container'><table class='table-result'><thead style='background-color: white'><tr><th>age_group</th><th>category</th><th>category_count</th></tr></thead><tbody><tr><td>25-35</td><td>art</td><td>4</td></tr><tr><td>18-24</td><td>education</td><td>3</td></tr><tr><td>36-50</td><td>diy-and-crafts</td><td>3</td></tr><tr><td>25-35</td><td>travel</td><td>4</td></tr><tr><td>18-24</td><td>christmas</td><td>6</td></tr><tr><td>25-35</td><td>home-decor</td><td>2</td></tr><tr><td>50+</td><td>event-planning</td><td>1</td></tr><tr><td>18-24</td><td>art</td><td>6</td></tr><tr><td>18-24</td><td>beauty</td><td>3</td></tr><tr><td>18-24</td><td>diy-and-crafts</td><td>3</td></tr><tr><td>18-24</td><td>event-planning</td><td>2</td></tr><tr><td>36-50</td><td>finance</td><td>6</td></tr><tr><td>36-50</td><td>home-decor</td><td>1</td></tr><tr><td>18-24</td><td>tattoos</td><td>6</td></tr><tr><td>25-35</td><td>quotes</td><td>3</td></tr><tr><td>18-24</td><td>travel</td><td>4</td></tr><tr><td>25-35</td><td>finance</td><td>2</td></tr><tr><td>25-35</td><td>beauty</td><td>2</td></tr><tr><td>18-24</td><td>quotes</td><td>2</td></tr><tr><td>18-24</td><td>finance</td><td>2</td></tr><tr><td>25-35</td><td>event-planning</td><td>2</td></tr><tr><td>36-50</td><td>education</td><td>1</td></tr><tr><td>18-24</td><td>mens-fashion</td><td>14</td></tr><tr><td>18-24</td><td>home-decor</td><td>1</td></tr><tr><td>36-50</td><td>tattoos</td><td>1</td></tr><tr><td>50+</td><td>education</td><td>2</td></tr><tr><td>25-35</td><td>christmas</td><td>2</td></tr><tr><td>36-50</td><td>travel</td><td>1</td></tr><tr><td>36-50</td><td>art</td><td>1</td></tr><tr><td>36-50</td><td>vehicles</td><td>2</td></tr><tr><td>50+</td><td>beauty</td><td>2</td></tr><tr><td>36-50</td><td>beauty</td><td>1</td></tr><tr><td>36-50</td><td>quotes</td><td>1</td></tr><tr><td>25-35</td><td>diy-and-crafts</td><td>9</td></tr><tr><td>18-24</td><td>vehicles</td><td>1</td></tr><tr><td>25-35</td><td>vehicles</td><td>2</td></tr><tr><td>25-35</td><td>mens-fashion</td><td>1</td></tr><tr><td>50+</td><td>art</td><td>1</td></tr></tbody></table></div>"
      ]
     },
     "metadata": {
      "application/vnd.databricks.v1+output": {
       "addedWidgets": {},
       "aggData": [],
       "aggError": "",
       "aggOverflow": false,
       "aggSchema": [],
       "aggSeriesLimitReached": false,
       "aggType": "",
       "arguments": {},
       "columnCustomDisplayInfos": {},
       "data": [
        [
         "25-35",
         "art",
         4
        ],
        [
         "18-24",
         "education",
         3
        ],
        [
         "36-50",
         "diy-and-crafts",
         3
        ],
        [
         "25-35",
         "travel",
         4
        ],
        [
         "18-24",
         "christmas",
         6
        ],
        [
         "25-35",
         "home-decor",
         2
        ],
        [
         "50+",
         "event-planning",
         1
        ],
        [
         "18-24",
         "art",
         6
        ],
        [
         "18-24",
         "beauty",
         3
        ],
        [
         "18-24",
         "diy-and-crafts",
         3
        ],
        [
         "18-24",
         "event-planning",
         2
        ],
        [
         "36-50",
         "finance",
         6
        ],
        [
         "36-50",
         "home-decor",
         1
        ],
        [
         "18-24",
         "tattoos",
         6
        ],
        [
         "25-35",
         "quotes",
         3
        ],
        [
         "18-24",
         "travel",
         4
        ],
        [
         "25-35",
         "finance",
         2
        ],
        [
         "25-35",
         "beauty",
         2
        ],
        [
         "18-24",
         "quotes",
         2
        ],
        [
         "18-24",
         "finance",
         2
        ],
        [
         "25-35",
         "event-planning",
         2
        ],
        [
         "36-50",
         "education",
         1
        ],
        [
         "18-24",
         "mens-fashion",
         14
        ],
        [
         "18-24",
         "home-decor",
         1
        ],
        [
         "36-50",
         "tattoos",
         1
        ],
        [
         "50+",
         "education",
         2
        ],
        [
         "25-35",
         "christmas",
         2
        ],
        [
         "36-50",
         "travel",
         1
        ],
        [
         "36-50",
         "art",
         1
        ],
        [
         "36-50",
         "vehicles",
         2
        ],
        [
         "50+",
         "beauty",
         2
        ],
        [
         "36-50",
         "beauty",
         1
        ],
        [
         "36-50",
         "quotes",
         1
        ],
        [
         "25-35",
         "diy-and-crafts",
         9
        ],
        [
         "18-24",
         "vehicles",
         1
        ],
        [
         "25-35",
         "vehicles",
         2
        ],
        [
         "25-35",
         "mens-fashion",
         1
        ],
        [
         "50+",
         "art",
         1
        ]
       ],
       "datasetInfos": [],
       "dbfsResultPath": null,
       "isJsonSchema": true,
       "metadata": {},
       "overflow": false,
       "plotOptions": {
        "customPlotOptions": {},
        "displayType": "table",
        "pivotAggregation": null,
        "pivotColumns": null,
        "xColumns": null,
        "yColumns": null
       },
       "removedWidgets": [],
       "schema": [
        {
         "metadata": "{}",
         "name": "age_group",
         "type": "\"string\""
        },
        {
         "metadata": "{}",
         "name": "category",
         "type": "\"string\""
        },
        {
         "metadata": "{}",
         "name": "category_count",
         "type": "\"long\""
        }
       ],
       "type": "table"
      }
     },
     "output_type": "display_data"
    },
    {
     "output_type": "display_data",
     "data": {
      "text/html": [
       "<style scoped>\n",
       "  .table-result-container {\n",
       "    max-height: 300px;\n",
       "    overflow: auto;\n",
       "  }\n",
       "  table, th, td {\n",
       "    border: 1px solid black;\n",
       "    border-collapse: collapse;\n",
       "  }\n",
       "  th, td {\n",
       "    padding: 5px;\n",
       "  }\n",
       "  th {\n",
       "    text-align: left;\n",
       "  }\n",
       "</style><div class='table-result-container'><table class='table-result'><thead style='background-color: white'><tr><th>age_group</th><th>category</th><th>category_count</th></tr></thead><tbody><tr><td>18-24</td><td>mens-fashion</td><td>14</td></tr><tr><td>25-35</td><td>diy-and-crafts</td><td>9</td></tr><tr><td>36-50</td><td>finance</td><td>6</td></tr><tr><td>50+</td><td>education</td><td>2</td></tr></tbody></table></div>"
      ]
     },
     "metadata": {
      "application/vnd.databricks.v1+output": {
       "addedWidgets": {},
       "aggData": [],
       "aggError": "",
       "aggOverflow": false,
       "aggSchema": [],
       "aggSeriesLimitReached": false,
       "aggType": "",
       "arguments": {},
       "columnCustomDisplayInfos": {},
       "data": [
        [
         "18-24",
         "mens-fashion",
         14
        ],
        [
         "25-35",
         "diy-and-crafts",
         9
        ],
        [
         "36-50",
         "finance",
         6
        ],
        [
         "50+",
         "education",
         2
        ]
       ],
       "datasetInfos": [],
       "dbfsResultPath": null,
       "isJsonSchema": true,
       "metadata": {},
       "overflow": false,
       "plotOptions": {
        "customPlotOptions": {},
        "displayType": "table",
        "pivotAggregation": null,
        "pivotColumns": null,
        "xColumns": null,
        "yColumns": null
       },
       "removedWidgets": [],
       "schema": [
        {
         "metadata": "{}",
         "name": "age_group",
         "type": "\"string\""
        },
        {
         "metadata": "{}",
         "name": "category",
         "type": "\"string\""
        },
        {
         "metadata": "{}",
         "name": "category_count",
         "type": "\"long\""
        }
       ],
       "type": "table"
      }
     },
     "output_type": "display_data"
    }
   ],
   "source": [
    "from pyspark.sql.functions import count, col\n",
    "\n",
    "joined_df = cleaned_pin.join(cleaned_user, cleaned_pin[\"ind\"] == cleaned_user[\"ind\"], how=\"inner\")\n",
    "age_df = joined_df.withColumn(\"age_group\", when(col(\"age\").between(18, 24), \"18-24\").when(col(\"age\").between(25, 35), \"25-35\").when(col(\"age\").between(36, 50), \"36-50\").when(col(\"age\")> 50, \"50+\"))\n",
    "age_cat = age_df.groupBy(\"age_group\", \"category\").agg(count(\"*\").alias(\"category_count\"))\n",
    "age_cat = age_cat.select(\"age_group\", \"category\", \"category_count\")\n",
    "display(age_cat)\n",
    "# we need to get max category per age_group, so we'll want to use the partition by age_group so that we can then order each category count in descending order filtered by age group (important for next step)\n",
    "w = Window.partitionBy(\"age_group\").orderBy(desc(\"category_count\"))\n",
    "\n",
    "# We can now use the row_number function to get the first row in each partition, and then filter to only keep the first row\n",
    "age_cat = age_cat.withColumn(\"row\", row_number().over(w)).filter(col(\"row\") == 1).drop(\"row\")\n",
    "display(age_cat)\n"
   ]
  },
  {
   "cell_type": "code",
   "execution_count": 0,
   "metadata": {
    "application/vnd.databricks.v1+cell": {
     "cellMetadata": {
      "byteLimit": 2048000,
      "rowLimit": 10000
     },
     "inputWidgets": {},
     "nuid": "7b10efc4-e1c2-441f-8303-9ed6c9f2aac6",
     "showTitle": false,
     "tableResultSettingsMap": {},
     "title": ""
    }
   },
   "outputs": [
    {
     "output_type": "display_data",
     "data": {
      "text/html": [
       "<style scoped>\n",
       "  .table-result-container {\n",
       "    max-height: 300px;\n",
       "    overflow: auto;\n",
       "  }\n",
       "  table, th, td {\n",
       "    border: 1px solid black;\n",
       "    border-collapse: collapse;\n",
       "  }\n",
       "  th, td {\n",
       "    padding: 5px;\n",
       "  }\n",
       "  th {\n",
       "    text-align: left;\n",
       "  }\n",
       "</style><div class='table-result-container'><table class='table-result'><thead style='background-color: white'><tr><th>age_group</th><th>median_follower_count</th></tr></thead><tbody><tr><td>18-24</td><td>110000.0</td></tr><tr><td>25-35</td><td>51000.0</td></tr><tr><td>36-50</td><td>314.0</td></tr><tr><td>50+</td><td>5000.0</td></tr></tbody></table></div>"
      ]
     },
     "metadata": {
      "application/vnd.databricks.v1+output": {
       "addedWidgets": {},
       "aggData": [],
       "aggError": "",
       "aggOverflow": false,
       "aggSchema": [],
       "aggSeriesLimitReached": false,
       "aggType": "",
       "arguments": {},
       "columnCustomDisplayInfos": {},
       "data": [
        [
         "18-24",
         110000.0
        ],
        [
         "25-35",
         51000.0
        ],
        [
         "36-50",
         314.0
        ],
        [
         "50+",
         5000.0
        ]
       ],
       "datasetInfos": [],
       "dbfsResultPath": null,
       "isJsonSchema": true,
       "metadata": {},
       "overflow": false,
       "plotOptions": {
        "customPlotOptions": {},
        "displayType": "table",
        "pivotAggregation": null,
        "pivotColumns": null,
        "xColumns": null,
        "yColumns": null
       },
       "removedWidgets": [],
       "schema": [
        {
         "metadata": "{}",
         "name": "age_group",
         "type": "\"string\""
        },
        {
         "metadata": "{}",
         "name": "median_follower_count",
         "type": "\"double\""
        }
       ],
       "type": "table"
      }
     },
     "output_type": "display_data"
    }
   ],
   "source": [
    "from pyspark.sql import functions as F\n",
    "from pyspark.sql.window import Window\n",
    "from pyspark.sql.functions import col, when, asc, row_number\n",
    "\n",
    "joined_df = cleaned_pin.join(cleaned_user, cleaned_pin[\"ind\"] == cleaned_user[\"ind\"], how=\"inner\")\n",
    "age_df = joined_df.withColumn(\"age_group\", when(col(\"age\").between(18, 24), \"18-24\").when(col(\"age\").between(25, 35), \"25-35\").when(col(\"age\").between(36, 50), \"36-50\").when(col(\"age\")> 50, \"50+\")).orderBy(asc(\"age_group\"))\n",
    "median_age = age_df.groupBy(\"age_group\").agg(F.expr(\"percentile_approx(follower_count, 0.5)\").alias(\"median_follower_count\"))\n",
    "\n",
    "\n",
    "display(median_age)"
   ]
  },
  {
   "cell_type": "code",
   "execution_count": 0,
   "metadata": {
    "application/vnd.databricks.v1+cell": {
     "cellMetadata": {
      "byteLimit": 2048000,
      "rowLimit": 10000
     },
     "inputWidgets": {},
     "nuid": "392e3a06-9e32-4d5c-9ba5-07b3bf8e9949",
     "showTitle": false,
     "tableResultSettingsMap": {},
     "title": ""
    }
   },
   "outputs": [
    {
     "output_type": "display_data",
     "data": {
      "text/html": [
       "<style scoped>\n",
       "  .table-result-container {\n",
       "    max-height: 300px;\n",
       "    overflow: auto;\n",
       "  }\n",
       "  table, th, td {\n",
       "    border: 1px solid black;\n",
       "    border-collapse: collapse;\n",
       "  }\n",
       "  th, td {\n",
       "    padding: 5px;\n",
       "  }\n",
       "  th {\n",
       "    text-align: left;\n",
       "  }\n",
       "</style><div class='table-result-container'><table class='table-result'><thead style='background-color: white'><tr><th>post_year</th><th>number_users_joined</th></tr></thead><tbody><tr><td>2017</td><td>3</td></tr><tr><td>2018</td><td>24</td></tr><tr><td>2019</td><td>23</td></tr><tr><td>2020</td><td>15</td></tr></tbody></table></div>"
      ]
     },
     "metadata": {
      "application/vnd.databricks.v1+output": {
       "addedWidgets": {},
       "aggData": [],
       "aggError": "",
       "aggOverflow": false,
       "aggSchema": [],
       "aggSeriesLimitReached": false,
       "aggType": "",
       "arguments": {},
       "columnCustomDisplayInfos": {},
       "data": [
        [
         2017,
         3
        ],
        [
         2018,
         24
        ],
        [
         2019,
         23
        ],
        [
         2020,
         15
        ]
       ],
       "datasetInfos": [],
       "dbfsResultPath": null,
       "isJsonSchema": true,
       "metadata": {},
       "overflow": false,
       "plotOptions": {
        "customPlotOptions": {},
        "displayType": "table",
        "pivotAggregation": null,
        "pivotColumns": null,
        "xColumns": null,
        "yColumns": null
       },
       "removedWidgets": [],
       "schema": [
        {
         "metadata": "{}",
         "name": "post_year",
         "type": "\"integer\""
        },
        {
         "metadata": "{}",
         "name": "number_users_joined",
         "type": "\"long\""
        }
       ],
       "type": "table"
      }
     },
     "output_type": "display_data"
    }
   ],
   "source": [
    "from pyspark.sql.functions import countDistinct, year, col\n",
    "\n",
    "joined_data = cleaned_geo_df.join(cleaned_user, cleaned_geo_df[\"ind\"] == cleaned_user[\"ind\"], how=\"inner\")\n",
    "\n",
    "user_data = joined_data.withColumn(\"post_year\", year(col(\"timestamp\")))\n",
    "\n",
    "joined_year = user_data.filter(col(\"post_year\").between(2015, 2020))\n",
    "\n",
    "users_by_year = joined_year.groupBy(\"post_year\").agg(countDistinct(\"user_name\").alias(\"number_users_joined\"))\n",
    "\n",
    "display(users_by_year.orderBy(\"post_year\"))\n"
   ]
  },
  {
   "cell_type": "code",
   "execution_count": 0,
   "metadata": {
    "application/vnd.databricks.v1+cell": {
     "cellMetadata": {
      "byteLimit": 2048000,
      "rowLimit": 10000
     },
     "inputWidgets": {},
     "nuid": "2b616ccb-6857-430a-b4c2-d738d45a4388",
     "showTitle": false,
     "tableResultSettingsMap": {},
     "title": ""
    }
   },
   "outputs": [
    {
     "output_type": "display_data",
     "data": {
      "text/html": [
       "<style scoped>\n",
       "  .table-result-container {\n",
       "    max-height: 300px;\n",
       "    overflow: auto;\n",
       "  }\n",
       "  table, th, td {\n",
       "    border: 1px solid black;\n",
       "    border-collapse: collapse;\n",
       "  }\n",
       "  th, td {\n",
       "    padding: 5px;\n",
       "  }\n",
       "  th {\n",
       "    text-align: left;\n",
       "  }\n",
       "</style><div class='table-result-container'><table class='table-result'><thead style='background-color: white'><tr><th>post_year</th><th>median_follower_count</th></tr></thead><tbody><tr><td>2017</td><td>326000.0</td></tr><tr><td>2018</td><td>28000.0</td></tr><tr><td>2019</td><td>46000.0</td></tr><tr><td>2020</td><td>124000.0</td></tr></tbody></table></div>"
      ]
     },
     "metadata": {
      "application/vnd.databricks.v1+output": {
       "addedWidgets": {},
       "aggData": [],
       "aggError": "",
       "aggOverflow": false,
       "aggSchema": [],
       "aggSeriesLimitReached": false,
       "aggType": "",
       "arguments": {},
       "columnCustomDisplayInfos": {},
       "data": [
        [
         2017,
         326000.0
        ],
        [
         2018,
         28000.0
        ],
        [
         2019,
         46000.0
        ],
        [
         2020,
         124000.0
        ]
       ],
       "datasetInfos": [],
       "dbfsResultPath": null,
       "isJsonSchema": true,
       "metadata": {},
       "overflow": false,
       "plotOptions": {
        "customPlotOptions": {},
        "displayType": "table",
        "pivotAggregation": null,
        "pivotColumns": null,
        "xColumns": null,
        "yColumns": null
       },
       "removedWidgets": [],
       "schema": [
        {
         "metadata": "{}",
         "name": "post_year",
         "type": "\"integer\""
        },
        {
         "metadata": "{}",
         "name": "median_follower_count",
         "type": "\"double\""
        }
       ],
       "type": "table"
      }
     },
     "output_type": "display_data"
    }
   ],
   "source": [
    "from pyspark.sql.functions import countDistinct, year, col\n",
    "\n",
    "joined_df = cleaned_pin.join(cleaned_user, cleaned_pin[\"ind\"] == cleaned_user[\"ind\"], how=\"inner\")\n",
    "final_join = joined_df.join(cleaned_geo_df, on=\"ind\", how=\"inner\")\n",
    "\n",
    "user_follow = final_join.withColumn(\"post_year\", year(col(\"timestamp\")))\n",
    "user_follow_year = user_follow.filter(col(\"post_year\").between(2015, 2020))\n",
    "\n",
    "user_follow_count = user_follow_year.groupBy(\"post_year\").agg(F.expr(\"percentile_approx(follower_count, 0.5)\").alias(\"median_follower_count\"))\n",
    "\n",
    "\n",
    "display(user_follow_count.orderBy(\"post_year\"))\n"
   ]
  },
  {
   "cell_type": "code",
   "execution_count": 0,
   "metadata": {
    "application/vnd.databricks.v1+cell": {
     "cellMetadata": {
      "byteLimit": 2048000,
      "rowLimit": 10000
     },
     "inputWidgets": {},
     "nuid": "207fccd2-8399-412c-b3f9-8573b7d40e70",
     "showTitle": false,
     "tableResultSettingsMap": {},
     "title": ""
    }
   },
   "outputs": [
    {
     "output_type": "display_data",
     "data": {
      "text/html": [
       "<style scoped>\n",
       "  .table-result-container {\n",
       "    max-height: 300px;\n",
       "    overflow: auto;\n",
       "  }\n",
       "  table, th, td {\n",
       "    border: 1px solid black;\n",
       "    border-collapse: collapse;\n",
       "  }\n",
       "  th, td {\n",
       "    padding: 5px;\n",
       "  }\n",
       "  th {\n",
       "    text-align: left;\n",
       "  }\n",
       "</style><div class='table-result-container'><table class='table-result'><thead style='background-color: white'><tr><th>age_group</th><th>date_joined</th><th>median_follower_count</th></tr></thead><tbody><tr><td>18-24</td><td>2015-10-23T22:47:39Z</td><td>22000.0</td></tr><tr><td>18-24</td><td>2016-01-07T08:11:35Z</td><td>1000000.0</td></tr><tr><td>18-24</td><td>2015-11-24T02:15:36Z</td><td>20000.0</td></tr><tr><td>18-24</td><td>2016-02-11T20:46:04Z</td><td>7000.0</td></tr><tr><td>18-24</td><td>2016-12-31T00:06:36Z</td><td>28000.0</td></tr><tr><td>18-24</td><td>2015-11-20T05:37:11Z</td><td>110000.0</td></tr><tr><td>18-24</td><td>2016-01-07T19:49:22Z</td><td>502000.0</td></tr><tr><td>18-24</td><td>2015-11-28T02:20:29Z</td><td>3000000.0</td></tr><tr><td>18-24</td><td>2015-11-12T03:23:49Z</td><td>799000.0</td></tr><tr><td>18-24</td><td>2015-12-17T08:43:40Z</td><td>11000.0</td></tr><tr><td>18-24</td><td>2016-07-23T20:51:06Z</td><td>313.0</td></tr><tr><td>18-24</td><td>2015-10-31T18:51:07Z</td><td>5000000.0</td></tr><tr><td>18-24</td><td>2016-06-23T14:38:00Z</td><td>171000.0</td></tr><tr><td>18-24</td><td>2015-12-01T18:15:02Z</td><td>45000.0</td></tr><tr><td>18-24</td><td>2016-02-27T21:13:44Z</td><td>89000.0</td></tr><tr><td>18-24</td><td>2016-02-09T17:01:38Z</td><td>46000.0</td></tr><tr><td>18-24</td><td>2015-11-10T09:27:42Z</td><td>211000.0</td></tr><tr><td>18-24</td><td>2016-03-01T07:11:48Z</td><td>46000.0</td></tr><tr><td>18-24</td><td>2015-12-31T14:57:02Z</td><td>10000.0</td></tr><tr><td>18-24</td><td>2015-12-21T08:06:54Z</td><td>892000.0</td></tr><tr><td>18-24</td><td>2015-10-28T05:00:33Z</td><td>3000000.0</td></tr><tr><td>18-24</td><td>2015-10-23T04:13:23Z</td><td>2000000.0</td></tr><tr><td>18-24</td><td>2016-01-11T12:03:48Z</td><td>1000000.0</td></tr><tr><td>18-24</td><td>2015-12-01T15:08:31Z</td><td>5000.0</td></tr><tr><td>18-24</td><td>2016-01-26T01:49:23Z</td><td>25000.0</td></tr><tr><td>18-24</td><td>2016-01-03T15:42:12Z</td><td>868000.0</td></tr><tr><td>18-24</td><td>2015-10-23T12:40:19Z</td><td>410000.0</td></tr><tr><td>18-24</td><td>2017-04-11T16:35:33Z</td><td>940.0</td></tr><tr><td>18-24</td><td>2015-10-24T18:56:30Z</td><td>130000.0</td></tr><tr><td>18-24</td><td>2016-07-02T02:32:30Z</td><td>8000.0</td></tr><tr><td>18-24</td><td>2015-10-24T11:23:51Z</td><td>null</td></tr><tr><td>25-35</td><td>2016-03-10T04:11:31Z</td><td>4000.0</td></tr><tr><td>25-35</td><td>2016-11-09T19:50:51Z</td><td>3000.0</td></tr><tr><td>25-35</td><td>2015-11-19T21:24:33Z</td><td>42000.0</td></tr><tr><td>25-35</td><td>2015-12-25T20:24:37Z</td><td>83000.0</td></tr><tr><td>25-35</td><td>2015-11-26T17:42:37Z</td><td>52000.0</td></tr><tr><td>25-35</td><td>2017-08-04T14:30:22Z</td><td>178000.0</td></tr><tr><td>25-35</td><td>2016-03-08T13:38:37Z</td><td>616000.0</td></tr><tr><td>25-35</td><td>2015-12-20T10:28:00Z</td><td>28000.0</td></tr><tr><td>25-35</td><td>2016-10-23T14:06:51Z</td><td>124000.0</td></tr><tr><td>25-35</td><td>2015-11-11T03:20:57Z</td><td>192000.0</td></tr><tr><td>25-35</td><td>2016-11-15T10:40:03Z</td><td>22000.0</td></tr><tr><td>25-35</td><td>2016-06-08T22:10:13Z</td><td>3000.0</td></tr><tr><td>25-35</td><td>2016-01-06T09:58:56Z</td><td>27000.0</td></tr><tr><td>25-35</td><td>2016-03-07T01:01:24Z</td><td>330000.0</td></tr><tr><td>25-35</td><td>2015-12-28T04:21:39Z</td><td>51000.0</td></tr><tr><td>25-35</td><td>2016-02-21T12:54:01Z</td><td>31000.0</td></tr><tr><td>25-35</td><td>2016-04-02T03:51:23Z</td><td>43000.0</td></tr><tr><td>25-35</td><td>2017-10-10T20:09:33Z</td><td>8000.0</td></tr><tr><td>25-35</td><td>2017-07-20T05:51:23Z</td><td>112000.0</td></tr><tr><td>36-50</td><td>2017-06-01T23:13:27Z</td><td>0.0</td></tr><tr><td>36-50</td><td>2016-06-29T20:43:59Z</td><td>117000.0</td></tr><tr><td>36-50</td><td>2017-07-19T07:12:04Z</td><td>112.0</td></tr><tr><td>36-50</td><td>2016-07-21T15:25:08Z</td><td>9000.0</td></tr><tr><td>36-50</td><td>2015-12-20T16:38:13Z</td><td>25000.0</td></tr><tr><td>36-50</td><td>2017-05-16T07:09:21Z</td><td>314.0</td></tr><tr><td>36-50</td><td>2016-10-29T02:07:21Z</td><td>7000.0</td></tr><tr><td>36-50</td><td>2016-04-22T20:36:02Z</td><td>89000.0</td></tr><tr><td>50+</td><td>2016-06-03T23:35:30Z</td><td>111.0</td></tr><tr><td>50+</td><td>2017-06-29T22:35:17Z</td><td>5000.0</td></tr><tr><td>50+</td><td>2016-02-07T20:00:25Z</td><td>9000.0</td></tr><tr><td>50+</td><td>2016-05-15T04:22:01Z</td><td>326000.0</td></tr><tr><td>50+</td><td>2016-10-09T14:47:51Z</td><td>29000.0</td></tr></tbody></table></div>"
      ]
     },
     "metadata": {
      "application/vnd.databricks.v1+output": {
       "addedWidgets": {},
       "aggData": [],
       "aggError": "",
       "aggOverflow": false,
       "aggSchema": [],
       "aggSeriesLimitReached": false,
       "aggType": "",
       "arguments": {},
       "columnCustomDisplayInfos": {},
       "data": [
        [
         "18-24",
         "2015-10-23T22:47:39Z",
         22000.0
        ],
        [
         "18-24",
         "2016-01-07T08:11:35Z",
         1000000.0
        ],
        [
         "18-24",
         "2015-11-24T02:15:36Z",
         20000.0
        ],
        [
         "18-24",
         "2016-02-11T20:46:04Z",
         7000.0
        ],
        [
         "18-24",
         "2016-12-31T00:06:36Z",
         28000.0
        ],
        [
         "18-24",
         "2015-11-20T05:37:11Z",
         110000.0
        ],
        [
         "18-24",
         "2016-01-07T19:49:22Z",
         502000.0
        ],
        [
         "18-24",
         "2015-11-28T02:20:29Z",
         3000000.0
        ],
        [
         "18-24",
         "2015-11-12T03:23:49Z",
         799000.0
        ],
        [
         "18-24",
         "2015-12-17T08:43:40Z",
         11000.0
        ],
        [
         "18-24",
         "2016-07-23T20:51:06Z",
         313.0
        ],
        [
         "18-24",
         "2015-10-31T18:51:07Z",
         5000000.0
        ],
        [
         "18-24",
         "2016-06-23T14:38:00Z",
         171000.0
        ],
        [
         "18-24",
         "2015-12-01T18:15:02Z",
         45000.0
        ],
        [
         "18-24",
         "2016-02-27T21:13:44Z",
         89000.0
        ],
        [
         "18-24",
         "2016-02-09T17:01:38Z",
         46000.0
        ],
        [
         "18-24",
         "2015-11-10T09:27:42Z",
         211000.0
        ],
        [
         "18-24",
         "2016-03-01T07:11:48Z",
         46000.0
        ],
        [
         "18-24",
         "2015-12-31T14:57:02Z",
         10000.0
        ],
        [
         "18-24",
         "2015-12-21T08:06:54Z",
         892000.0
        ],
        [
         "18-24",
         "2015-10-28T05:00:33Z",
         3000000.0
        ],
        [
         "18-24",
         "2015-10-23T04:13:23Z",
         2000000.0
        ],
        [
         "18-24",
         "2016-01-11T12:03:48Z",
         1000000.0
        ],
        [
         "18-24",
         "2015-12-01T15:08:31Z",
         5000.0
        ],
        [
         "18-24",
         "2016-01-26T01:49:23Z",
         25000.0
        ],
        [
         "18-24",
         "2016-01-03T15:42:12Z",
         868000.0
        ],
        [
         "18-24",
         "2015-10-23T12:40:19Z",
         410000.0
        ],
        [
         "18-24",
         "2017-04-11T16:35:33Z",
         940.0
        ],
        [
         "18-24",
         "2015-10-24T18:56:30Z",
         130000.0
        ],
        [
         "18-24",
         "2016-07-02T02:32:30Z",
         8000.0
        ],
        [
         "18-24",
         "2015-10-24T11:23:51Z",
         null
        ],
        [
         "25-35",
         "2016-03-10T04:11:31Z",
         4000.0
        ],
        [
         "25-35",
         "2016-11-09T19:50:51Z",
         3000.0
        ],
        [
         "25-35",
         "2015-11-19T21:24:33Z",
         42000.0
        ],
        [
         "25-35",
         "2015-12-25T20:24:37Z",
         83000.0
        ],
        [
         "25-35",
         "2015-11-26T17:42:37Z",
         52000.0
        ],
        [
         "25-35",
         "2017-08-04T14:30:22Z",
         178000.0
        ],
        [
         "25-35",
         "2016-03-08T13:38:37Z",
         616000.0
        ],
        [
         "25-35",
         "2015-12-20T10:28:00Z",
         28000.0
        ],
        [
         "25-35",
         "2016-10-23T14:06:51Z",
         124000.0
        ],
        [
         "25-35",
         "2015-11-11T03:20:57Z",
         192000.0
        ],
        [
         "25-35",
         "2016-11-15T10:40:03Z",
         22000.0
        ],
        [
         "25-35",
         "2016-06-08T22:10:13Z",
         3000.0
        ],
        [
         "25-35",
         "2016-01-06T09:58:56Z",
         27000.0
        ],
        [
         "25-35",
         "2016-03-07T01:01:24Z",
         330000.0
        ],
        [
         "25-35",
         "2015-12-28T04:21:39Z",
         51000.0
        ],
        [
         "25-35",
         "2016-02-21T12:54:01Z",
         31000.0
        ],
        [
         "25-35",
         "2016-04-02T03:51:23Z",
         43000.0
        ],
        [
         "25-35",
         "2017-10-10T20:09:33Z",
         8000.0
        ],
        [
         "25-35",
         "2017-07-20T05:51:23Z",
         112000.0
        ],
        [
         "36-50",
         "2017-06-01T23:13:27Z",
         0.0
        ],
        [
         "36-50",
         "2016-06-29T20:43:59Z",
         117000.0
        ],
        [
         "36-50",
         "2017-07-19T07:12:04Z",
         112.0
        ],
        [
         "36-50",
         "2016-07-21T15:25:08Z",
         9000.0
        ],
        [
         "36-50",
         "2015-12-20T16:38:13Z",
         25000.0
        ],
        [
         "36-50",
         "2017-05-16T07:09:21Z",
         314.0
        ],
        [
         "36-50",
         "2016-10-29T02:07:21Z",
         7000.0
        ],
        [
         "36-50",
         "2016-04-22T20:36:02Z",
         89000.0
        ],
        [
         "50+",
         "2016-06-03T23:35:30Z",
         111.0
        ],
        [
         "50+",
         "2017-06-29T22:35:17Z",
         5000.0
        ],
        [
         "50+",
         "2016-02-07T20:00:25Z",
         9000.0
        ],
        [
         "50+",
         "2016-05-15T04:22:01Z",
         326000.0
        ],
        [
         "50+",
         "2016-10-09T14:47:51Z",
         29000.0
        ]
       ],
       "datasetInfos": [],
       "dbfsResultPath": null,
       "isJsonSchema": true,
       "metadata": {},
       "overflow": false,
       "plotOptions": {
        "customPlotOptions": {},
        "displayType": "table",
        "pivotAggregation": null,
        "pivotColumns": null,
        "xColumns": null,
        "yColumns": null
       },
       "removedWidgets": [],
       "schema": [
        {
         "metadata": "{}",
         "name": "age_group",
         "type": "\"string\""
        },
        {
         "metadata": "{}",
         "name": "date_joined",
         "type": "\"timestamp\""
        },
        {
         "metadata": "{}",
         "name": "median_follower_count",
         "type": "\"double\""
        }
       ],
       "type": "table"
      }
     },
     "output_type": "display_data"
    }
   ],
   "source": [
    "from pyspark.sql import functions as F\n",
    "from pyspark.sql.functions import year, col\n",
    "\n",
    "joined_df = cleaned_pin.join(cleaned_user, on=\"ind\", how=\"inner\")\n",
    "final_join = joined_df.join(cleaned_geo_df, on=\"ind\", how=\"inner\")\n",
    "\n",
    "user_date = final_join.withColumn(\"post_year\", year(col(\"timestamp\"))) \\\n",
    "                      .withColumn(\"age_group\", when(col(\"age\").between(18, 24), \"18-24\").when(col(\"age\").between(25, 35), \"25-35\").when(col(\"age\").between(36, 50), \"36-50\").when(col(\"age\")> 50, \"50+\")).orderBy(asc(\"age_group\"))\n",
    "user_date_year = user_date.filter(col(\"post_year\").between(2015, 2020))\n",
    "\n",
    "\n",
    "user_date_count = user_date_year.groupBy(\"age_group\", \"date_joined\").agg(F.expr(\"percentile_approx(follower_count, 0.5)\").alias(\"median_follower_count\"))\n",
    "user_date_count = user_date_count.select(\"age_group\", \"date_joined\", \"median_follower_count\")\n",
    "\n",
    "display(user_date_count)\n",
    "\n",
    "\n",
    "\n",
    "\n",
    "\n",
    "\n"
   ]
  }
 ],
 "metadata": {
  "application/vnd.databricks.v1+notebook": {
   "computePreferences": null,
   "dashboards": [],
   "environmentMetadata": {
    "base_environment": "",
    "client": "1"
   },
   "language": "python",
   "notebookMetadata": {
    "mostRecentlyExecutedCommandWithImplicitDF": {
     "commandId": -1,
     "dataframes": [
      "_sqldf"
     ]
    },
    "pythonIndentUnit": 4
   },
   "notebookName": "Pinterest_data_project",
   "widgets": {}
  },
  "language_info": {
   "name": "python"
  }
 },
 "nbformat": 4,
 "nbformat_minor": 0
}